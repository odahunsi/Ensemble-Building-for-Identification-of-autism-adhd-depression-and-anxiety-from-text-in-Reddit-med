{
  "cells": [
    {
      "cell_type": "markdown",
      "source": [
        "## Scraping from Reddit with Reddit API"
      ],
      "metadata": {
        "id": "tJenoDoIrEz_"
      }
    },
    {
      "cell_type": "code",
      "source": [
        "!pip install praw"
      ],
      "metadata": {
        "colab": {
          "base_uri": "https://localhost:8080/"
        },
        "id": "ZaX94zVEnU8e",
        "outputId": "f995283d-b6b7-48bb-bf4b-4723c687fdd3"
      },
      "execution_count": null,
      "outputs": [
        {
          "output_type": "stream",
          "name": "stdout",
          "text": [
            "Looking in indexes: https://pypi.org/simple, https://us-python.pkg.dev/colab-wheels/public/simple/\n",
            "Collecting praw\n",
            "  Downloading praw-7.6.0-py3-none-any.whl (188 kB)\n",
            "\u001b[K     |████████████████████████████████| 188 kB 7.5 MB/s \n",
            "\u001b[?25hCollecting websocket-client>=0.54.0\n",
            "  Downloading websocket_client-1.4.1-py3-none-any.whl (55 kB)\n",
            "\u001b[K     |████████████████████████████████| 55 kB 3.8 MB/s \n",
            "\u001b[?25hCollecting update-checker>=0.18\n",
            "  Downloading update_checker-0.18.0-py3-none-any.whl (7.0 kB)\n",
            "Collecting prawcore<3,>=2.1\n",
            "  Downloading prawcore-2.3.0-py3-none-any.whl (16 kB)\n",
            "Requirement already satisfied: requests<3.0,>=2.6.0 in /usr/local/lib/python3.7/dist-packages (from prawcore<3,>=2.1->praw) (2.23.0)\n",
            "Requirement already satisfied: chardet<4,>=3.0.2 in /usr/local/lib/python3.7/dist-packages (from requests<3.0,>=2.6.0->prawcore<3,>=2.1->praw) (3.0.4)\n",
            "Requirement already satisfied: certifi>=2017.4.17 in /usr/local/lib/python3.7/dist-packages (from requests<3.0,>=2.6.0->prawcore<3,>=2.1->praw) (2022.6.15)\n",
            "Requirement already satisfied: urllib3!=1.25.0,!=1.25.1,<1.26,>=1.21.1 in /usr/local/lib/python3.7/dist-packages (from requests<3.0,>=2.6.0->prawcore<3,>=2.1->praw) (1.24.3)\n",
            "Requirement already satisfied: idna<3,>=2.5 in /usr/local/lib/python3.7/dist-packages (from requests<3.0,>=2.6.0->prawcore<3,>=2.1->praw) (2.10)\n",
            "Installing collected packages: websocket-client, update-checker, prawcore, praw\n",
            "Successfully installed praw-7.6.0 prawcore-2.3.0 update-checker-0.18.0 websocket-client-1.4.1\n"
          ]
        }
      ]
    },
    {
      "cell_type": "code",
      "source": [
        "import praw\n",
        "import pandas as pd\n",
        "\n",
        "user_agent = \"Resddit Scraper by /u/tobbydah\"\n",
        "reddit = praw.Reddit(\n",
        "    client_id = \"WdFuZYAt-u0DbGhPN3dBLg\",\n",
        "    client_secret = \"kmvW8SRKsqB_e4tNTfGL6kXYFqFJDg\",\n",
        "    user_agent = user_agent\n",
        ")"
      ],
      "metadata": {
        "id": "_09qxy-pnvyZ"
      },
      "execution_count": null,
      "outputs": []
    },
    {
      "cell_type": "code",
      "source": [
        "# hot new rising top\n",
        "import pandas as pd\n",
        "headlines = []\n",
        "\n",
        "# Scraping subreddit for Autism\n",
        "for submission in reddit.subreddit('autism').hot(limit=None):\n",
        "    headlines.append([submission.title, submission.score, submission.id, submission.author, submission.subreddit, \n",
        "                      submission.url, submission.num_comments, submission.selftext, submission.created, submission.created_utc])\n",
        "\n",
        "autism_df = pd.DataFrame(headlines, \n",
        "                         columns=['title', 'score', 'id', 'author', 'subreddit', 'url', 'num_comments', 'body', 'created', 'created_utc'])\n",
        "\n",
        "# Scraping subreddit for Depression\n",
        "for submission in reddit.subreddit('depression').hot(limit=None):\n",
        "    headlines.append([submission.title, submission.score, submission.id, submission.author, submission.subreddit, \n",
        "                      submission.url, submission.num_comments, submission.selftext, submission.created, submission.created_utc])\n",
        "\n",
        "depression_df = pd.DataFrame(headlines, \n",
        "                         columns=['title', 'score', 'id', 'author', 'subreddit', 'url', 'num_comments', 'body', 'created', 'created_utc'])\n",
        "\n",
        "# Scraping subreddit for ADHD\n",
        "for submission in reddit.subreddit('ADHD').hot(limit=None):\n",
        "    headlines.append([submission.title, submission.score, submission.id, submission.author, submission.subreddit, \n",
        "                      submission.url, submission.num_comments, submission.selftext, submission.created, submission.created_utc])\n",
        "\n",
        "adhd_df = pd.DataFrame(headlines, \n",
        "                         columns=['title', 'score', 'id', 'author', 'subreddit', 'url', 'num_comments', 'body', 'created', 'created_utc'])\n",
        "\n",
        "# Scraping subreddit for Anxiety\n",
        "for submission in reddit.subreddit('anxiety').hot(limit=None):\n",
        "    headlines.append([submission.title, submission.score, submission.id, submission.author, submission.subreddit, \n",
        "                      submission.url, submission.num_comments, submission.selftext, submission.created, submission.created_utc])\n",
        "\n",
        "anxiety_df = pd.DataFrame(headlines, \n",
        "                         columns=['title', 'score', 'id', 'author', 'subreddit', 'url', 'num_comments', 'body', 'created', 'created_utc'])\n",
        "\n",
        "\n",
        "#Joining the four subreddits and saving data to a single CSV\n",
        "mental_health_categories = pd.concat([autism_df, adhd_df, anxiety_df, depression_df])\n",
        "#mental_health_categories.to_csv('C:/Users/USER/Downloads/Data Science/MindSum/Reddit Dataset/mental_health_categories_new4.csv', header=True, encoding='utf-8', index=False)\n",
        "\n",
        "#print(len(headlines))"
      ],
      "metadata": {
        "id": "0aqSgIpxnxtq"
      },
      "execution_count": null,
      "outputs": []
    },
    {
      "cell_type": "code",
      "source": [
        "mental_health_categories"
      ],
      "metadata": {
        "colab": {
          "base_uri": "https://localhost:8080/",
          "height": 1000
        },
        "id": "eie32YAxokz7",
        "outputId": "0ab5aa1a-fe2b-4c28-debe-92610c023565"
      },
      "execution_count": null,
      "outputs": [
        {
          "output_type": "execute_result",
          "data": {
            "text/plain": [
              "                                                  title  score      id  \\\n",
              "0     Let’s talk about ABA therapy. ABA posts outsid...    740  ub3skp   \n",
              "1                                 Same Food Saturdays !     14  xgfgbg   \n",
              "2     What foods are like this to you guys? To me, i...   1654  xgrgte   \n",
              "3     Got to a point where the walls were shaking fr...    760  xgxevr   \n",
              "4                                          masking meme    113  xh2hz6   \n",
              "...                                                 ...    ...     ...   \n",
              "1957                       life is an everyday struggle      1  xe07a1   \n",
              "1958                                     very depressed      1  xe05x5   \n",
              "1959                                         How to cry      1  xdzvx1   \n",
              "1960                          aw shit, here we go again      1  xdzp3n   \n",
              "1961                                  i want to be done      3  xdrmo2   \n",
              "\n",
              "                 author   subreddit  \\\n",
              "0          cakeisatruth      autism   \n",
              "1            sybersonic      autism   \n",
              "2         Dimentiorules      autism   \n",
              "3              jwin1211      autism   \n",
              "4        RestlessMind95      autism   \n",
              "...                 ...         ...   \n",
              "1957            _Ithri_  depression   \n",
              "1958      OkBuilder8671  depression   \n",
              "1959          applirium  depression   \n",
              "1960  scream-in-thevoid  depression   \n",
              "1961          locustine  depression   \n",
              "\n",
              "                                                    url  num_comments  \\\n",
              "0     https://www.reddit.com/r/autism/comments/ub3sk...          1106   \n",
              "1     https://www.reddit.com/r/autism/comments/xgfgb...            18   \n",
              "2                   https://i.redd.it/enzbkhes7go91.jpg           476   \n",
              "3                   https://i.redd.it/qa4pljsufho91.jpg           101   \n",
              "4                   https://i.redd.it/pju3zwq6kio91.jpg             3   \n",
              "...                                                 ...           ...   \n",
              "1957  https://www.reddit.com/r/depression/comments/x...             1   \n",
              "1958  https://www.reddit.com/r/depression/comments/x...             0   \n",
              "1959  https://www.reddit.com/r/depression/comments/x...             0   \n",
              "1960  https://www.reddit.com/r/depression/comments/x...             0   \n",
              "1961  https://www.reddit.com/r/depression/comments/x...             3   \n",
              "\n",
              "                                                   body       created  \\\n",
              "0     ABA (Applied Behavior Analysis) therapy is one...  1.650833e+09   \n",
              "1     Most of us  consistency love consistency. Shar...  1.663398e+09   \n",
              "2                                                        1.663433e+09   \n",
              "3                                                        1.663448e+09   \n",
              "4                                                        1.663462e+09   \n",
              "...                                                 ...           ...   \n",
              "1957  Hey all, just wanted to share a bit what I'm g...  1.663157e+09   \n",
              "1958  Hello guys I wish to die tonight. \\nThis life ...  1.663157e+09   \n",
              "1959  I am asking for help, want to cry but i cannot...  1.663156e+09   \n",
              "1960  wish I had one day I could wake up and not hav...  1.663156e+09   \n",
              "1961  I don't want to keep posting how i feel yet i ...  1.663127e+09   \n",
              "\n",
              "       created_utc  \n",
              "0     1.650833e+09  \n",
              "1     1.663398e+09  \n",
              "2     1.663433e+09  \n",
              "3     1.663448e+09  \n",
              "4     1.663462e+09  \n",
              "...            ...  \n",
              "1957  1.663157e+09  \n",
              "1958  1.663157e+09  \n",
              "1959  1.663156e+09  \n",
              "1960  1.663156e+09  \n",
              "1961  1.663127e+09  \n",
              "\n",
              "[9472 rows x 10 columns]"
            ],
            "text/html": [
              "\n",
              "  <div id=\"df-a6fe77fb-7beb-43a2-8849-b7d7208d2ac8\">\n",
              "    <div class=\"colab-df-container\">\n",
              "      <div>\n",
              "<style scoped>\n",
              "    .dataframe tbody tr th:only-of-type {\n",
              "        vertical-align: middle;\n",
              "    }\n",
              "\n",
              "    .dataframe tbody tr th {\n",
              "        vertical-align: top;\n",
              "    }\n",
              "\n",
              "    .dataframe thead th {\n",
              "        text-align: right;\n",
              "    }\n",
              "</style>\n",
              "<table border=\"1\" class=\"dataframe\">\n",
              "  <thead>\n",
              "    <tr style=\"text-align: right;\">\n",
              "      <th></th>\n",
              "      <th>title</th>\n",
              "      <th>score</th>\n",
              "      <th>id</th>\n",
              "      <th>author</th>\n",
              "      <th>subreddit</th>\n",
              "      <th>url</th>\n",
              "      <th>num_comments</th>\n",
              "      <th>body</th>\n",
              "      <th>created</th>\n",
              "      <th>created_utc</th>\n",
              "    </tr>\n",
              "  </thead>\n",
              "  <tbody>\n",
              "    <tr>\n",
              "      <th>0</th>\n",
              "      <td>Let’s talk about ABA therapy. ABA posts outsid...</td>\n",
              "      <td>740</td>\n",
              "      <td>ub3skp</td>\n",
              "      <td>cakeisatruth</td>\n",
              "      <td>autism</td>\n",
              "      <td>https://www.reddit.com/r/autism/comments/ub3sk...</td>\n",
              "      <td>1106</td>\n",
              "      <td>ABA (Applied Behavior Analysis) therapy is one...</td>\n",
              "      <td>1.650833e+09</td>\n",
              "      <td>1.650833e+09</td>\n",
              "    </tr>\n",
              "    <tr>\n",
              "      <th>1</th>\n",
              "      <td>Same Food Saturdays !</td>\n",
              "      <td>14</td>\n",
              "      <td>xgfgbg</td>\n",
              "      <td>sybersonic</td>\n",
              "      <td>autism</td>\n",
              "      <td>https://www.reddit.com/r/autism/comments/xgfgb...</td>\n",
              "      <td>18</td>\n",
              "      <td>Most of us  consistency love consistency. Shar...</td>\n",
              "      <td>1.663398e+09</td>\n",
              "      <td>1.663398e+09</td>\n",
              "    </tr>\n",
              "    <tr>\n",
              "      <th>2</th>\n",
              "      <td>What foods are like this to you guys? To me, i...</td>\n",
              "      <td>1654</td>\n",
              "      <td>xgrgte</td>\n",
              "      <td>Dimentiorules</td>\n",
              "      <td>autism</td>\n",
              "      <td>https://i.redd.it/enzbkhes7go91.jpg</td>\n",
              "      <td>476</td>\n",
              "      <td></td>\n",
              "      <td>1.663433e+09</td>\n",
              "      <td>1.663433e+09</td>\n",
              "    </tr>\n",
              "    <tr>\n",
              "      <th>3</th>\n",
              "      <td>Got to a point where the walls were shaking fr...</td>\n",
              "      <td>760</td>\n",
              "      <td>xgxevr</td>\n",
              "      <td>jwin1211</td>\n",
              "      <td>autism</td>\n",
              "      <td>https://i.redd.it/qa4pljsufho91.jpg</td>\n",
              "      <td>101</td>\n",
              "      <td></td>\n",
              "      <td>1.663448e+09</td>\n",
              "      <td>1.663448e+09</td>\n",
              "    </tr>\n",
              "    <tr>\n",
              "      <th>4</th>\n",
              "      <td>masking meme</td>\n",
              "      <td>113</td>\n",
              "      <td>xh2hz6</td>\n",
              "      <td>RestlessMind95</td>\n",
              "      <td>autism</td>\n",
              "      <td>https://i.redd.it/pju3zwq6kio91.jpg</td>\n",
              "      <td>3</td>\n",
              "      <td></td>\n",
              "      <td>1.663462e+09</td>\n",
              "      <td>1.663462e+09</td>\n",
              "    </tr>\n",
              "    <tr>\n",
              "      <th>...</th>\n",
              "      <td>...</td>\n",
              "      <td>...</td>\n",
              "      <td>...</td>\n",
              "      <td>...</td>\n",
              "      <td>...</td>\n",
              "      <td>...</td>\n",
              "      <td>...</td>\n",
              "      <td>...</td>\n",
              "      <td>...</td>\n",
              "      <td>...</td>\n",
              "    </tr>\n",
              "    <tr>\n",
              "      <th>1957</th>\n",
              "      <td>life is an everyday struggle</td>\n",
              "      <td>1</td>\n",
              "      <td>xe07a1</td>\n",
              "      <td>_Ithri_</td>\n",
              "      <td>depression</td>\n",
              "      <td>https://www.reddit.com/r/depression/comments/x...</td>\n",
              "      <td>1</td>\n",
              "      <td>Hey all, just wanted to share a bit what I'm g...</td>\n",
              "      <td>1.663157e+09</td>\n",
              "      <td>1.663157e+09</td>\n",
              "    </tr>\n",
              "    <tr>\n",
              "      <th>1958</th>\n",
              "      <td>very depressed</td>\n",
              "      <td>1</td>\n",
              "      <td>xe05x5</td>\n",
              "      <td>OkBuilder8671</td>\n",
              "      <td>depression</td>\n",
              "      <td>https://www.reddit.com/r/depression/comments/x...</td>\n",
              "      <td>0</td>\n",
              "      <td>Hello guys I wish to die tonight. \\nThis life ...</td>\n",
              "      <td>1.663157e+09</td>\n",
              "      <td>1.663157e+09</td>\n",
              "    </tr>\n",
              "    <tr>\n",
              "      <th>1959</th>\n",
              "      <td>How to cry</td>\n",
              "      <td>1</td>\n",
              "      <td>xdzvx1</td>\n",
              "      <td>applirium</td>\n",
              "      <td>depression</td>\n",
              "      <td>https://www.reddit.com/r/depression/comments/x...</td>\n",
              "      <td>0</td>\n",
              "      <td>I am asking for help, want to cry but i cannot...</td>\n",
              "      <td>1.663156e+09</td>\n",
              "      <td>1.663156e+09</td>\n",
              "    </tr>\n",
              "    <tr>\n",
              "      <th>1960</th>\n",
              "      <td>aw shit, here we go again</td>\n",
              "      <td>1</td>\n",
              "      <td>xdzp3n</td>\n",
              "      <td>scream-in-thevoid</td>\n",
              "      <td>depression</td>\n",
              "      <td>https://www.reddit.com/r/depression/comments/x...</td>\n",
              "      <td>0</td>\n",
              "      <td>wish I had one day I could wake up and not hav...</td>\n",
              "      <td>1.663156e+09</td>\n",
              "      <td>1.663156e+09</td>\n",
              "    </tr>\n",
              "    <tr>\n",
              "      <th>1961</th>\n",
              "      <td>i want to be done</td>\n",
              "      <td>3</td>\n",
              "      <td>xdrmo2</td>\n",
              "      <td>locustine</td>\n",
              "      <td>depression</td>\n",
              "      <td>https://www.reddit.com/r/depression/comments/x...</td>\n",
              "      <td>3</td>\n",
              "      <td>I don't want to keep posting how i feel yet i ...</td>\n",
              "      <td>1.663127e+09</td>\n",
              "      <td>1.663127e+09</td>\n",
              "    </tr>\n",
              "  </tbody>\n",
              "</table>\n",
              "<p>9472 rows × 10 columns</p>\n",
              "</div>\n",
              "      <button class=\"colab-df-convert\" onclick=\"convertToInteractive('df-a6fe77fb-7beb-43a2-8849-b7d7208d2ac8')\"\n",
              "              title=\"Convert this dataframe to an interactive table.\"\n",
              "              style=\"display:none;\">\n",
              "        \n",
              "  <svg xmlns=\"http://www.w3.org/2000/svg\" height=\"24px\"viewBox=\"0 0 24 24\"\n",
              "       width=\"24px\">\n",
              "    <path d=\"M0 0h24v24H0V0z\" fill=\"none\"/>\n",
              "    <path d=\"M18.56 5.44l.94 2.06.94-2.06 2.06-.94-2.06-.94-.94-2.06-.94 2.06-2.06.94zm-11 1L8.5 8.5l.94-2.06 2.06-.94-2.06-.94L8.5 2.5l-.94 2.06-2.06.94zm10 10l.94 2.06.94-2.06 2.06-.94-2.06-.94-.94-2.06-.94 2.06-2.06.94z\"/><path d=\"M17.41 7.96l-1.37-1.37c-.4-.4-.92-.59-1.43-.59-.52 0-1.04.2-1.43.59L10.3 9.45l-7.72 7.72c-.78.78-.78 2.05 0 2.83L4 21.41c.39.39.9.59 1.41.59.51 0 1.02-.2 1.41-.59l7.78-7.78 2.81-2.81c.8-.78.8-2.07 0-2.86zM5.41 20L4 18.59l7.72-7.72 1.47 1.35L5.41 20z\"/>\n",
              "  </svg>\n",
              "      </button>\n",
              "      \n",
              "  <style>\n",
              "    .colab-df-container {\n",
              "      display:flex;\n",
              "      flex-wrap:wrap;\n",
              "      gap: 12px;\n",
              "    }\n",
              "\n",
              "    .colab-df-convert {\n",
              "      background-color: #E8F0FE;\n",
              "      border: none;\n",
              "      border-radius: 50%;\n",
              "      cursor: pointer;\n",
              "      display: none;\n",
              "      fill: #1967D2;\n",
              "      height: 32px;\n",
              "      padding: 0 0 0 0;\n",
              "      width: 32px;\n",
              "    }\n",
              "\n",
              "    .colab-df-convert:hover {\n",
              "      background-color: #E2EBFA;\n",
              "      box-shadow: 0px 1px 2px rgba(60, 64, 67, 0.3), 0px 1px 3px 1px rgba(60, 64, 67, 0.15);\n",
              "      fill: #174EA6;\n",
              "    }\n",
              "\n",
              "    [theme=dark] .colab-df-convert {\n",
              "      background-color: #3B4455;\n",
              "      fill: #D2E3FC;\n",
              "    }\n",
              "\n",
              "    [theme=dark] .colab-df-convert:hover {\n",
              "      background-color: #434B5C;\n",
              "      box-shadow: 0px 1px 3px 1px rgba(0, 0, 0, 0.15);\n",
              "      filter: drop-shadow(0px 1px 2px rgba(0, 0, 0, 0.3));\n",
              "      fill: #FFFFFF;\n",
              "    }\n",
              "  </style>\n",
              "\n",
              "      <script>\n",
              "        const buttonEl =\n",
              "          document.querySelector('#df-a6fe77fb-7beb-43a2-8849-b7d7208d2ac8 button.colab-df-convert');\n",
              "        buttonEl.style.display =\n",
              "          google.colab.kernel.accessAllowed ? 'block' : 'none';\n",
              "\n",
              "        async function convertToInteractive(key) {\n",
              "          const element = document.querySelector('#df-a6fe77fb-7beb-43a2-8849-b7d7208d2ac8');\n",
              "          const dataTable =\n",
              "            await google.colab.kernel.invokeFunction('convertToInteractive',\n",
              "                                                     [key], {});\n",
              "          if (!dataTable) return;\n",
              "\n",
              "          const docLinkHtml = 'Like what you see? Visit the ' +\n",
              "            '<a target=\"_blank\" href=https://colab.research.google.com/notebooks/data_table.ipynb>data table notebook</a>'\n",
              "            + ' to learn more about interactive tables.';\n",
              "          element.innerHTML = '';\n",
              "          dataTable['output_type'] = 'display_data';\n",
              "          await google.colab.output.renderOutput(dataTable, element);\n",
              "          const docLink = document.createElement('div');\n",
              "          docLink.innerHTML = docLinkHtml;\n",
              "          element.appendChild(docLink);\n",
              "        }\n",
              "      </script>\n",
              "    </div>\n",
              "  </div>\n",
              "  "
            ]
          },
          "metadata": {},
          "execution_count": 5
        }
      ]
    },
    {
      "cell_type": "code",
      "source": [
        "# mental_health_categories['pattern_match'] = mental_health_categories['body'].str.contains('rest of it being useless')\n",
        "# mental_health_categories\n",
        "\n",
        "# Searching using specific key words indicating a post has a form of mental health condition according to insight taken from\n",
        "# mental health symptoms specified in ICD-11 document\n",
        "\n",
        "recent_diagnosis = mental_health_categories[mental_health_categories['body'].str.contains('recently diagnosed')==True]\n",
        "tired_of_life = mental_health_categories[mental_health_categories['body'].str.contains('tired of life')==True]\n",
        "kill_myself = mental_health_categories[mental_health_categories['body'].str.contains('will kill myself')==True]\n",
        "depressed = mental_health_categories[mental_health_categories['body'].str.contains('am depressed')==True]\n",
        "meaningless_life = mental_health_categories[mental_health_categories['body'].str.contains(r'life is meaningless')==True]\n",
        "feeling_sad = mental_health_categories[mental_health_categories['body'].str.contains(r'feeling sad')==True]\n",
        "guilty = mental_health_categories[mental_health_categories['body'].str.contains(r'feel guilty')==True]\n",
        "confused = mental_health_categories[mental_health_categories['body'].str.contains(r'am confused')==True]\n",
        "cannot_sleep = mental_health_categories[mental_health_categories['body'].str.contains(r\"can't sleep\")==True]\n",
        "cannot_understand = mental_health_categories[mental_health_categories['body'].str.contains(r\"can't understand\")==True]\n",
        "worthless = mental_health_categories[mental_health_categories['body'].str.contains(r\"worthless\")==True]\n",
        "traumatized = mental_health_categories[mental_health_categories['body'].str.contains(r\"traumatized\")==True]\n",
        "worry = mental_health_categories[mental_health_categories['body'].str.contains(r\"worried\")==True]\n",
        "anxious = mental_health_categories[mental_health_categories['body'].str.contains(r\"anxious\")==True]\n",
        "ashamed = mental_health_categories[mental_health_categories['body'].str.contains(r\"ashamed\")==True]\n",
        "mental_breakdown = mental_health_categories[mental_health_categories['body'].str.contains(r\"mental breakdown\")==True]\n",
        "lonely = mental_health_categories[mental_health_categories['body'].str.contains(r\"lonely\")==True]\n",
        "hate_myself = mental_health_categories[mental_health_categories['body'].str.contains(r\"I hate myself\")==True]\n",
        "dont_know_want = mental_health_categories[mental_health_categories['body'].str.contains(r\"don’t know what I want\")==True]\n",
        "dont_know = mental_health_categories[mental_health_categories['body'].str.contains(r\"I don’t know\")==True]\n",
        "dont_have = mental_health_categories[mental_health_categories['body'].str.contains(r\"I don’t have\")==True]\n",
        "weird = mental_health_categories[mental_health_categories['body'].str.contains(r\"weird\")==True]\n",
        "dont_have_friends = mental_health_categories[mental_health_categories['body'].str.contains(r\"i dont have any friends\")==True]\n",
        "feel_like = mental_health_categories[mental_health_categories['body'].str.contains(r\"i feel like\")==True]\n",
        "\n",
        "mhsu = pd.concat([recent_diagnosis, tired_of_life, kill_myself, depressed, meaningless_life, feeling_sad, guilty, \\\n",
        "                  confused, cannot_sleep, cannot_understand, worthless, traumatized, worry, anxious, ashamed, \\\n",
        "                 mental_breakdown, lonely, hate_myself, dont_know_want, dont_know, dont_have, weird, dont_have_friends, \\\n",
        "                 feel_like])\n",
        "mhsu.to_csv('C:/Users/USER/Downloads/Data Science/MindSum/Reddit Dataset/mhsu_new.csv', header=True, encoding='utf-8', index=False)\n",
        "mhsu"
      ],
      "metadata": {
        "id": "tQN4lgvOnxxH"
      },
      "execution_count": null,
      "outputs": []
    },
    {
      "cell_type": "markdown",
      "source": [
        "### Scraping for individual user posts\n",
        "\n"
      ],
      "metadata": {
        "id": "aQv3buSspzv0"
      }
    },
    {
      "cell_type": "code",
      "source": [
        "all_autism = mhsu[mhsu['subreddit']=='autism'].author.astype(str).tolist()\n",
        "all_autism = list(dict.fromkeys(all_autism))\n",
        "print('Total Autism post is {}' .format(len(all_autism)))\n",
        "\n",
        "all_depression = mhsu[mhsu['subreddit']=='depression'].author.astype(str).tolist()\n",
        "all_depression = list(dict.fromkeys(all_depression))\n",
        "print('Total Depression post is {}' .format(len(all_depression)))\n",
        "\n",
        "all_adhd = mhsu[mhsu['subreddit']=='ADHD'].author.astype(str).tolist()\n",
        "all_adhd = list(dict.fromkeys(all_adhd))\n",
        "print('Total ADHD post is {}' .format(len(all_adhd)))\n",
        "\n",
        "all_Anxiety = mhsu[mhsu['subreddit']=='Anxiety'].author.astype(str).tolist()\n",
        "all_Anxiety = list(dict.fromkeys(all_Anxiety))\n",
        "print('Total Anxiety post is {}' .format(len(all_Anxiety)))"
      ],
      "metadata": {
        "id": "KT_tXZPqtc8T"
      },
      "execution_count": null,
      "outputs": []
    },
    {
      "cell_type": "code",
      "source": [
        "#author=(mental_health_categories.author)[:1] ##[\"whzy0i\", \"ub3skp\"]\n",
        "#author = ['Effective-Bridge8937']\n",
        "#author = mhsu['author'].astype(str).tolist()\n",
        "author = all_Anxiety\n",
        "\n",
        "i = []\n",
        "for authors in author:\n",
        "    try:\n",
        "        submission = reddit.redditor(authors).submissions.hot(limit=None) # Note: cannot pull more than 1000 at a time\n",
        "        for column in submission:\n",
        "            i.append([column.title, column.id, column.subreddit, column.selftext, column.author, column.created])\n",
        "    except:\n",
        "        pass\n",
        "su = pd.DataFrame(i, columns=['title', 'id', 'subreddit', 'selftext', 'author', 'created'])\n",
        "\n",
        "#su.to_csv('C:/Users/USER/Downloads/Data Science/MindSum/Reddit Dataset/mhsu_single_users_total.csv', header=True, encoding='utf-8', index=False)\n",
        "su.to_csv('C:/Users/USER/Downloads/Data Science/MindSum/Reddit Dataset/all_Anxiety.csv', header=True, encoding='utf-8', index=False)"
      ],
      "metadata": {
        "id": "tccu0Ispnx1W"
      },
      "execution_count": null,
      "outputs": []
    },
    {
      "cell_type": "code",
      "source": [
        "### Joining the four single-user categories together\n",
        "\n",
        "autism_posts = pd.read_csv('C:/Users/USER/Downloads/Data Science/MindSum/Reddit Dataset/all_autism.csv')\n",
        "depression_posts = pd.read_csv('C:/Users/USER/Downloads/Data Science/MindSum/Reddit Dataset/all_depression.csv')\n",
        "adhd_posts = pd.read_csv('C:/Users/USER/Downloads/Data Science/MindSum/Reddit Dataset/all_adhd.csv')\n",
        "anxiety_posts = pd.read_csv('C:/Users/USER/Downloads/Data Science/MindSum/Reddit Dataset/all_Anxiety.csv')\n",
        "\n",
        "autism_posts['label'] = 'autism'\n",
        "depression_posts['label'] = 'depression'\n",
        "adhd_posts['label'] = 'ADHD'\n",
        "anxiety_posts['label'] = 'anxiety'\n",
        "\n",
        "mhsu_total = pd.concat([autism_posts, depression_posts, adhd_posts, anxiety_posts])\n",
        "mhsu_total.to_csv('C:/Users/USER/Downloads/Data Science/MindSum/Reddit Dataset/mhsu_total.csv', header=True, encoding='utf-8', index=False)"
      ],
      "metadata": {
        "id": "rQrDmlgEt7Os"
      },
      "execution_count": null,
      "outputs": []
    },
    {
      "cell_type": "markdown",
      "source": [
        "## Importing Libraries"
      ],
      "metadata": {
        "id": "h3aH7Zmhrdyx"
      }
    },
    {
      "cell_type": "code",
      "execution_count": null,
      "metadata": {
        "colab": {
          "base_uri": "https://localhost:8080/"
        },
        "id": "g8UkUtKFW1go",
        "outputId": "b508d73e-d72a-4b4f-f5be-250b7e927818"
      },
      "outputs": [
        {
          "output_type": "stream",
          "name": "stderr",
          "text": [
            "[nltk_data] Downloading package stopwords to /root/nltk_data...\n",
            "[nltk_data]   Unzipping corpora/stopwords.zip.\n"
          ]
        }
      ],
      "source": [
        "%matplotlib inline\n",
        "import re\n",
        "import string\n",
        "import nltk\n",
        "nltk.download('stopwords')\n",
        "import matplotlib\n",
        "import numpy as np\n",
        "import matplotlib.pyplot as plt\n",
        "import pandas as pd\n",
        "from sklearn.feature_extraction.text import TfidfVectorizer\n",
        "from sklearn.naive_bayes import MultinomialNB\n",
        "from sklearn.metrics import accuracy_score, precision_score, recall_score, classification_report, f1_score, roc_auc_score, confusion_matrix\n",
        "from sklearn.multiclass import OneVsRestClassifier\n",
        "from nltk.corpus import stopwords\n",
        "from nltk.tokenize import word_tokenize\n",
        "stop_words = set(stopwords.words('english'))\n",
        "stopwords = nltk.corpus.stopwords.words('english')\n",
        "from sklearn.svm import LinearSVC, SVC\n",
        "from sklearn.linear_model import LogisticRegression\n",
        "from sklearn.pipeline import Pipeline\n",
        "from sklearn.ensemble import RandomForestClassifier\n",
        "from sklearn.ensemble import BaggingClassifier\n",
        "from sklearn.model_selection import train_test_split, cross_val_score, GridSearchCV, StratifiedKFold, RepeatedStratifiedKFold\n",
        "import seaborn as sns\n",
        "import warnings\n",
        "warnings.filterwarnings(\"ignore\", category=FutureWarning)"
      ]
    },
    {
      "cell_type": "code",
      "execution_count": null,
      "metadata": {
        "colab": {
          "base_uri": "https://localhost:8080/",
          "height": 468
        },
        "id": "v0iMCyQjXsaz",
        "outputId": "0d8cd5c8-c414-4541-9b24-808bcdfe0f9e"
      },
      "outputs": [
        {
          "output_type": "execute_result",
          "data": {
            "text/plain": [
              "                                                   title      id  \\\n",
              "0                                            What to do?  wxut1r   \n",
              "1                  ASUS - ROUTER - GT-5300 ROG - AIMesh?  vbluyd   \n",
              "2      Why does Defillama not consider Milkomeda a Ca...  ttavji   \n",
              "3      COTI vs DJED vs SHEN vs ADA - Can anyone ELI5 ...  tq8x2w   \n",
              "4                                  Inquiry: Cold Climate  tpr09q   \n",
              "...                                                  ...     ...   \n",
              "48274               struggling a lot with health anxiety  v3ula0   \n",
              "48275               feel like i don't take in enough air  v1pj9k   \n",
              "48276  anxiety is ruining my social life and taking a...  wvdk04   \n",
              "48277                            tips for cleaning self?  wlklp5   \n",
              "48278                     AITA for asking for gas money?  uevpee   \n",
              "\n",
              "                  subreddit  \\\n",
              "0                    autism   \n",
              "1                      ASUS   \n",
              "2                   cardano   \n",
              "3                   cardano   \n",
              "4                  Kombucha   \n",
              "...                     ...   \n",
              "48274               Anxiety   \n",
              "48275               medical   \n",
              "48276               Anxiety   \n",
              "48277  TheGirlSurvivalGuide   \n",
              "48278         AmItheAsshole   \n",
              "\n",
              "                                                selftext  \\\n",
              "0      My partner’s kid just recently has been diagno...   \n",
              "1      Hey all, I've had This router for a while now,...   \n",
              "2      Just thought it was weird?\\n\\nI'm simply curio...   \n",
              "3      Hey All\\n\\nI'm trying to understand the relati...   \n",
              "4      Hey All - I'm trying to figure out if it is wo...   \n",
              "...                                                  ...   \n",
              "48274  i used to be doing okay, but ever since I had ...   \n",
              "48275  For the past few days I (F16) have been feelin...   \n",
              "48276  i've had anxiety my whole life. i used to go t...   \n",
              "48277                                          [removed]   \n",
              "48278  I drive my friends everywhere. My parents will...   \n",
              "\n",
              "                     author       created    label  \n",
              "0                Noradd_123  1.661475e+09   autism  \n",
              "1                Noradd_123  1.655153e+09   autism  \n",
              "2                Noradd_123  1.648764e+09   autism  \n",
              "3                Noradd_123  1.648473e+09   autism  \n",
              "4                Noradd_123  1.648409e+09   autism  \n",
              "...                     ...           ...      ...  \n",
              "48274  justarandomaccountyk  1.654244e+09  anxiety  \n",
              "48275  justarandomaccountyk  1.654001e+09  anxiety  \n",
              "48276         Main_Text9632  1.661224e+09  anxiety  \n",
              "48277         Main_Text9632  1.660200e+09  anxiety  \n",
              "48278         Main_Text9632  1.651267e+09  anxiety  \n",
              "\n",
              "[48279 rows x 7 columns]"
            ],
            "text/html": [
              "\n",
              "  <div id=\"df-2c18b96c-fe6a-456d-8e7b-1ff1c0afa7c4\">\n",
              "    <div class=\"colab-df-container\">\n",
              "      <div>\n",
              "<style scoped>\n",
              "    .dataframe tbody tr th:only-of-type {\n",
              "        vertical-align: middle;\n",
              "    }\n",
              "\n",
              "    .dataframe tbody tr th {\n",
              "        vertical-align: top;\n",
              "    }\n",
              "\n",
              "    .dataframe thead th {\n",
              "        text-align: right;\n",
              "    }\n",
              "</style>\n",
              "<table border=\"1\" class=\"dataframe\">\n",
              "  <thead>\n",
              "    <tr style=\"text-align: right;\">\n",
              "      <th></th>\n",
              "      <th>title</th>\n",
              "      <th>id</th>\n",
              "      <th>subreddit</th>\n",
              "      <th>selftext</th>\n",
              "      <th>author</th>\n",
              "      <th>created</th>\n",
              "      <th>label</th>\n",
              "    </tr>\n",
              "  </thead>\n",
              "  <tbody>\n",
              "    <tr>\n",
              "      <th>0</th>\n",
              "      <td>What to do?</td>\n",
              "      <td>wxut1r</td>\n",
              "      <td>autism</td>\n",
              "      <td>My partner’s kid just recently has been diagno...</td>\n",
              "      <td>Noradd_123</td>\n",
              "      <td>1.661475e+09</td>\n",
              "      <td>autism</td>\n",
              "    </tr>\n",
              "    <tr>\n",
              "      <th>1</th>\n",
              "      <td>ASUS - ROUTER - GT-5300 ROG - AIMesh?</td>\n",
              "      <td>vbluyd</td>\n",
              "      <td>ASUS</td>\n",
              "      <td>Hey all, I've had This router for a while now,...</td>\n",
              "      <td>Noradd_123</td>\n",
              "      <td>1.655153e+09</td>\n",
              "      <td>autism</td>\n",
              "    </tr>\n",
              "    <tr>\n",
              "      <th>2</th>\n",
              "      <td>Why does Defillama not consider Milkomeda a Ca...</td>\n",
              "      <td>ttavji</td>\n",
              "      <td>cardano</td>\n",
              "      <td>Just thought it was weird?\\n\\nI'm simply curio...</td>\n",
              "      <td>Noradd_123</td>\n",
              "      <td>1.648764e+09</td>\n",
              "      <td>autism</td>\n",
              "    </tr>\n",
              "    <tr>\n",
              "      <th>3</th>\n",
              "      <td>COTI vs DJED vs SHEN vs ADA - Can anyone ELI5 ...</td>\n",
              "      <td>tq8x2w</td>\n",
              "      <td>cardano</td>\n",
              "      <td>Hey All\\n\\nI'm trying to understand the relati...</td>\n",
              "      <td>Noradd_123</td>\n",
              "      <td>1.648473e+09</td>\n",
              "      <td>autism</td>\n",
              "    </tr>\n",
              "    <tr>\n",
              "      <th>4</th>\n",
              "      <td>Inquiry: Cold Climate</td>\n",
              "      <td>tpr09q</td>\n",
              "      <td>Kombucha</td>\n",
              "      <td>Hey All - I'm trying to figure out if it is wo...</td>\n",
              "      <td>Noradd_123</td>\n",
              "      <td>1.648409e+09</td>\n",
              "      <td>autism</td>\n",
              "    </tr>\n",
              "    <tr>\n",
              "      <th>...</th>\n",
              "      <td>...</td>\n",
              "      <td>...</td>\n",
              "      <td>...</td>\n",
              "      <td>...</td>\n",
              "      <td>...</td>\n",
              "      <td>...</td>\n",
              "      <td>...</td>\n",
              "    </tr>\n",
              "    <tr>\n",
              "      <th>48274</th>\n",
              "      <td>struggling a lot with health anxiety</td>\n",
              "      <td>v3ula0</td>\n",
              "      <td>Anxiety</td>\n",
              "      <td>i used to be doing okay, but ever since I had ...</td>\n",
              "      <td>justarandomaccountyk</td>\n",
              "      <td>1.654244e+09</td>\n",
              "      <td>anxiety</td>\n",
              "    </tr>\n",
              "    <tr>\n",
              "      <th>48275</th>\n",
              "      <td>feel like i don't take in enough air</td>\n",
              "      <td>v1pj9k</td>\n",
              "      <td>medical</td>\n",
              "      <td>For the past few days I (F16) have been feelin...</td>\n",
              "      <td>justarandomaccountyk</td>\n",
              "      <td>1.654001e+09</td>\n",
              "      <td>anxiety</td>\n",
              "    </tr>\n",
              "    <tr>\n",
              "      <th>48276</th>\n",
              "      <td>anxiety is ruining my social life and taking a...</td>\n",
              "      <td>wvdk04</td>\n",
              "      <td>Anxiety</td>\n",
              "      <td>i've had anxiety my whole life. i used to go t...</td>\n",
              "      <td>Main_Text9632</td>\n",
              "      <td>1.661224e+09</td>\n",
              "      <td>anxiety</td>\n",
              "    </tr>\n",
              "    <tr>\n",
              "      <th>48277</th>\n",
              "      <td>tips for cleaning self?</td>\n",
              "      <td>wlklp5</td>\n",
              "      <td>TheGirlSurvivalGuide</td>\n",
              "      <td>[removed]</td>\n",
              "      <td>Main_Text9632</td>\n",
              "      <td>1.660200e+09</td>\n",
              "      <td>anxiety</td>\n",
              "    </tr>\n",
              "    <tr>\n",
              "      <th>48278</th>\n",
              "      <td>AITA for asking for gas money?</td>\n",
              "      <td>uevpee</td>\n",
              "      <td>AmItheAsshole</td>\n",
              "      <td>I drive my friends everywhere. My parents will...</td>\n",
              "      <td>Main_Text9632</td>\n",
              "      <td>1.651267e+09</td>\n",
              "      <td>anxiety</td>\n",
              "    </tr>\n",
              "  </tbody>\n",
              "</table>\n",
              "<p>48279 rows × 7 columns</p>\n",
              "</div>\n",
              "      <button class=\"colab-df-convert\" onclick=\"convertToInteractive('df-2c18b96c-fe6a-456d-8e7b-1ff1c0afa7c4')\"\n",
              "              title=\"Convert this dataframe to an interactive table.\"\n",
              "              style=\"display:none;\">\n",
              "        \n",
              "  <svg xmlns=\"http://www.w3.org/2000/svg\" height=\"24px\"viewBox=\"0 0 24 24\"\n",
              "       width=\"24px\">\n",
              "    <path d=\"M0 0h24v24H0V0z\" fill=\"none\"/>\n",
              "    <path d=\"M18.56 5.44l.94 2.06.94-2.06 2.06-.94-2.06-.94-.94-2.06-.94 2.06-2.06.94zm-11 1L8.5 8.5l.94-2.06 2.06-.94-2.06-.94L8.5 2.5l-.94 2.06-2.06.94zm10 10l.94 2.06.94-2.06 2.06-.94-2.06-.94-.94-2.06-.94 2.06-2.06.94z\"/><path d=\"M17.41 7.96l-1.37-1.37c-.4-.4-.92-.59-1.43-.59-.52 0-1.04.2-1.43.59L10.3 9.45l-7.72 7.72c-.78.78-.78 2.05 0 2.83L4 21.41c.39.39.9.59 1.41.59.51 0 1.02-.2 1.41-.59l7.78-7.78 2.81-2.81c.8-.78.8-2.07 0-2.86zM5.41 20L4 18.59l7.72-7.72 1.47 1.35L5.41 20z\"/>\n",
              "  </svg>\n",
              "      </button>\n",
              "      \n",
              "  <style>\n",
              "    .colab-df-container {\n",
              "      display:flex;\n",
              "      flex-wrap:wrap;\n",
              "      gap: 12px;\n",
              "    }\n",
              "\n",
              "    .colab-df-convert {\n",
              "      background-color: #E8F0FE;\n",
              "      border: none;\n",
              "      border-radius: 50%;\n",
              "      cursor: pointer;\n",
              "      display: none;\n",
              "      fill: #1967D2;\n",
              "      height: 32px;\n",
              "      padding: 0 0 0 0;\n",
              "      width: 32px;\n",
              "    }\n",
              "\n",
              "    .colab-df-convert:hover {\n",
              "      background-color: #E2EBFA;\n",
              "      box-shadow: 0px 1px 2px rgba(60, 64, 67, 0.3), 0px 1px 3px 1px rgba(60, 64, 67, 0.15);\n",
              "      fill: #174EA6;\n",
              "    }\n",
              "\n",
              "    [theme=dark] .colab-df-convert {\n",
              "      background-color: #3B4455;\n",
              "      fill: #D2E3FC;\n",
              "    }\n",
              "\n",
              "    [theme=dark] .colab-df-convert:hover {\n",
              "      background-color: #434B5C;\n",
              "      box-shadow: 0px 1px 3px 1px rgba(0, 0, 0, 0.15);\n",
              "      filter: drop-shadow(0px 1px 2px rgba(0, 0, 0, 0.3));\n",
              "      fill: #FFFFFF;\n",
              "    }\n",
              "  </style>\n",
              "\n",
              "      <script>\n",
              "        const buttonEl =\n",
              "          document.querySelector('#df-2c18b96c-fe6a-456d-8e7b-1ff1c0afa7c4 button.colab-df-convert');\n",
              "        buttonEl.style.display =\n",
              "          google.colab.kernel.accessAllowed ? 'block' : 'none';\n",
              "\n",
              "        async function convertToInteractive(key) {\n",
              "          const element = document.querySelector('#df-2c18b96c-fe6a-456d-8e7b-1ff1c0afa7c4');\n",
              "          const dataTable =\n",
              "            await google.colab.kernel.invokeFunction('convertToInteractive',\n",
              "                                                     [key], {});\n",
              "          if (!dataTable) return;\n",
              "\n",
              "          const docLinkHtml = 'Like what you see? Visit the ' +\n",
              "            '<a target=\"_blank\" href=https://colab.research.google.com/notebooks/data_table.ipynb>data table notebook</a>'\n",
              "            + ' to learn more about interactive tables.';\n",
              "          element.innerHTML = '';\n",
              "          dataTable['output_type'] = 'display_data';\n",
              "          await google.colab.output.renderOutput(dataTable, element);\n",
              "          const docLink = document.createElement('div');\n",
              "          docLink.innerHTML = docLinkHtml;\n",
              "          element.appendChild(docLink);\n",
              "        }\n",
              "      </script>\n",
              "    </div>\n",
              "  </div>\n",
              "  "
            ]
          },
          "metadata": {},
          "execution_count": 2
        }
      ],
      "source": [
        "import pandas as pd\n",
        "mhsu = pd.read_csv('/content/drive/MyDrive/Mindsum/mhsu_total.csv')\n",
        "mhsu"
      ]
    },
    {
      "cell_type": "code",
      "execution_count": null,
      "metadata": {
        "colab": {
          "base_uri": "https://localhost:8080/"
        },
        "id": "PlrkyMQWYJ1m",
        "outputId": "ae28e690-a648-496b-92fe-84931440ea5b"
      },
      "outputs": [
        {
          "output_type": "stream",
          "name": "stdout",
          "text": [
            "<class 'pandas.core.frame.DataFrame'>\n",
            "RangeIndex: 48279 entries, 0 to 48278\n",
            "Data columns (total 7 columns):\n",
            " #   Column     Non-Null Count  Dtype  \n",
            "---  ------     --------------  -----  \n",
            " 0   title      48279 non-null  object \n",
            " 1   id         48279 non-null  object \n",
            " 2   subreddit  48279 non-null  object \n",
            " 3   selftext   33062 non-null  object \n",
            " 4   author     48279 non-null  object \n",
            " 5   created    48279 non-null  float64\n",
            " 6   label      48279 non-null  object \n",
            "dtypes: float64(1), object(6)\n",
            "memory usage: 2.6+ MB\n"
          ]
        }
      ],
      "source": [
        "mhsu.info()"
      ]
    },
    {
      "cell_type": "code",
      "execution_count": null,
      "metadata": {
        "colab": {
          "base_uri": "https://localhost:8080/"
        },
        "id": "LL_cbYVbYOM8",
        "outputId": "4a0a9b35-ae6d-410b-b54b-69f4a16a5b1f"
      },
      "outputs": [
        {
          "output_type": "execute_result",
          "data": {
            "text/plain": [
              "anxiety       20443\n",
              "autism         9946\n",
              "depression     9675\n",
              "ADHD           8215\n",
              "Name: label, dtype: int64"
            ]
          },
          "metadata": {},
          "execution_count": 4
        }
      ],
      "source": [
        "mhsu.label.value_counts()"
      ]
    },
    {
      "cell_type": "code",
      "execution_count": null,
      "metadata": {
        "colab": {
          "base_uri": "https://localhost:8080/"
        },
        "id": "Cre6eZAlYQx6",
        "outputId": "b354e6b9-924d-4344-e2a1-e7e674f681c8"
      },
      "outputs": [
        {
          "output_type": "execute_result",
          "data": {
            "text/plain": [
              "title        0\n",
              "id           0\n",
              "subreddit    0\n",
              "selftext     0\n",
              "author       0\n",
              "created      0\n",
              "label        0\n",
              "dtype: int64"
            ]
          },
          "metadata": {},
          "execution_count": 5
        }
      ],
      "source": [
        "# Checking for duplicates across rows\n",
        "mhsu[mhsu.duplicated()].count()"
      ]
    },
    {
      "cell_type": "code",
      "execution_count": null,
      "metadata": {
        "colab": {
          "base_uri": "https://localhost:8080/",
          "height": 424
        },
        "id": "ULxStK6eYTbf",
        "outputId": "f02223db-1f57-4ab1-a0f2-739d1f03bc92"
      },
      "outputs": [
        {
          "output_type": "execute_result",
          "data": {
            "text/plain": [
              "         label                                           selftext\n",
              "0       autism  My partner’s kid just recently has been diagno...\n",
              "1       autism  Hey all, I've had This router for a while now,...\n",
              "2       autism  Just thought it was weird?\\n\\nI'm simply curio...\n",
              "3       autism  Hey All\\n\\nI'm trying to understand the relati...\n",
              "4       autism  Hey All - I'm trying to figure out if it is wo...\n",
              "...        ...                                                ...\n",
              "48274  anxiety  i used to be doing okay, but ever since I had ...\n",
              "48275  anxiety  For the past few days I (F16) have been feelin...\n",
              "48276  anxiety  i've had anxiety my whole life. i used to go t...\n",
              "48277  anxiety                                          [removed]\n",
              "48278  anxiety  I drive my friends everywhere. My parents will...\n",
              "\n",
              "[48279 rows x 2 columns]"
            ],
            "text/html": [
              "\n",
              "  <div id=\"df-a348ce3a-c663-477d-a2cf-5be04b71da6f\">\n",
              "    <div class=\"colab-df-container\">\n",
              "      <div>\n",
              "<style scoped>\n",
              "    .dataframe tbody tr th:only-of-type {\n",
              "        vertical-align: middle;\n",
              "    }\n",
              "\n",
              "    .dataframe tbody tr th {\n",
              "        vertical-align: top;\n",
              "    }\n",
              "\n",
              "    .dataframe thead th {\n",
              "        text-align: right;\n",
              "    }\n",
              "</style>\n",
              "<table border=\"1\" class=\"dataframe\">\n",
              "  <thead>\n",
              "    <tr style=\"text-align: right;\">\n",
              "      <th></th>\n",
              "      <th>label</th>\n",
              "      <th>selftext</th>\n",
              "    </tr>\n",
              "  </thead>\n",
              "  <tbody>\n",
              "    <tr>\n",
              "      <th>0</th>\n",
              "      <td>autism</td>\n",
              "      <td>My partner’s kid just recently has been diagno...</td>\n",
              "    </tr>\n",
              "    <tr>\n",
              "      <th>1</th>\n",
              "      <td>autism</td>\n",
              "      <td>Hey all, I've had This router for a while now,...</td>\n",
              "    </tr>\n",
              "    <tr>\n",
              "      <th>2</th>\n",
              "      <td>autism</td>\n",
              "      <td>Just thought it was weird?\\n\\nI'm simply curio...</td>\n",
              "    </tr>\n",
              "    <tr>\n",
              "      <th>3</th>\n",
              "      <td>autism</td>\n",
              "      <td>Hey All\\n\\nI'm trying to understand the relati...</td>\n",
              "    </tr>\n",
              "    <tr>\n",
              "      <th>4</th>\n",
              "      <td>autism</td>\n",
              "      <td>Hey All - I'm trying to figure out if it is wo...</td>\n",
              "    </tr>\n",
              "    <tr>\n",
              "      <th>...</th>\n",
              "      <td>...</td>\n",
              "      <td>...</td>\n",
              "    </tr>\n",
              "    <tr>\n",
              "      <th>48274</th>\n",
              "      <td>anxiety</td>\n",
              "      <td>i used to be doing okay, but ever since I had ...</td>\n",
              "    </tr>\n",
              "    <tr>\n",
              "      <th>48275</th>\n",
              "      <td>anxiety</td>\n",
              "      <td>For the past few days I (F16) have been feelin...</td>\n",
              "    </tr>\n",
              "    <tr>\n",
              "      <th>48276</th>\n",
              "      <td>anxiety</td>\n",
              "      <td>i've had anxiety my whole life. i used to go t...</td>\n",
              "    </tr>\n",
              "    <tr>\n",
              "      <th>48277</th>\n",
              "      <td>anxiety</td>\n",
              "      <td>[removed]</td>\n",
              "    </tr>\n",
              "    <tr>\n",
              "      <th>48278</th>\n",
              "      <td>anxiety</td>\n",
              "      <td>I drive my friends everywhere. My parents will...</td>\n",
              "    </tr>\n",
              "  </tbody>\n",
              "</table>\n",
              "<p>48279 rows × 2 columns</p>\n",
              "</div>\n",
              "      <button class=\"colab-df-convert\" onclick=\"convertToInteractive('df-a348ce3a-c663-477d-a2cf-5be04b71da6f')\"\n",
              "              title=\"Convert this dataframe to an interactive table.\"\n",
              "              style=\"display:none;\">\n",
              "        \n",
              "  <svg xmlns=\"http://www.w3.org/2000/svg\" height=\"24px\"viewBox=\"0 0 24 24\"\n",
              "       width=\"24px\">\n",
              "    <path d=\"M0 0h24v24H0V0z\" fill=\"none\"/>\n",
              "    <path d=\"M18.56 5.44l.94 2.06.94-2.06 2.06-.94-2.06-.94-.94-2.06-.94 2.06-2.06.94zm-11 1L8.5 8.5l.94-2.06 2.06-.94-2.06-.94L8.5 2.5l-.94 2.06-2.06.94zm10 10l.94 2.06.94-2.06 2.06-.94-2.06-.94-.94-2.06-.94 2.06-2.06.94z\"/><path d=\"M17.41 7.96l-1.37-1.37c-.4-.4-.92-.59-1.43-.59-.52 0-1.04.2-1.43.59L10.3 9.45l-7.72 7.72c-.78.78-.78 2.05 0 2.83L4 21.41c.39.39.9.59 1.41.59.51 0 1.02-.2 1.41-.59l7.78-7.78 2.81-2.81c.8-.78.8-2.07 0-2.86zM5.41 20L4 18.59l7.72-7.72 1.47 1.35L5.41 20z\"/>\n",
              "  </svg>\n",
              "      </button>\n",
              "      \n",
              "  <style>\n",
              "    .colab-df-container {\n",
              "      display:flex;\n",
              "      flex-wrap:wrap;\n",
              "      gap: 12px;\n",
              "    }\n",
              "\n",
              "    .colab-df-convert {\n",
              "      background-color: #E8F0FE;\n",
              "      border: none;\n",
              "      border-radius: 50%;\n",
              "      cursor: pointer;\n",
              "      display: none;\n",
              "      fill: #1967D2;\n",
              "      height: 32px;\n",
              "      padding: 0 0 0 0;\n",
              "      width: 32px;\n",
              "    }\n",
              "\n",
              "    .colab-df-convert:hover {\n",
              "      background-color: #E2EBFA;\n",
              "      box-shadow: 0px 1px 2px rgba(60, 64, 67, 0.3), 0px 1px 3px 1px rgba(60, 64, 67, 0.15);\n",
              "      fill: #174EA6;\n",
              "    }\n",
              "\n",
              "    [theme=dark] .colab-df-convert {\n",
              "      background-color: #3B4455;\n",
              "      fill: #D2E3FC;\n",
              "    }\n",
              "\n",
              "    [theme=dark] .colab-df-convert:hover {\n",
              "      background-color: #434B5C;\n",
              "      box-shadow: 0px 1px 3px 1px rgba(0, 0, 0, 0.15);\n",
              "      filter: drop-shadow(0px 1px 2px rgba(0, 0, 0, 0.3));\n",
              "      fill: #FFFFFF;\n",
              "    }\n",
              "  </style>\n",
              "\n",
              "      <script>\n",
              "        const buttonEl =\n",
              "          document.querySelector('#df-a348ce3a-c663-477d-a2cf-5be04b71da6f button.colab-df-convert');\n",
              "        buttonEl.style.display =\n",
              "          google.colab.kernel.accessAllowed ? 'block' : 'none';\n",
              "\n",
              "        async function convertToInteractive(key) {\n",
              "          const element = document.querySelector('#df-a348ce3a-c663-477d-a2cf-5be04b71da6f');\n",
              "          const dataTable =\n",
              "            await google.colab.kernel.invokeFunction('convertToInteractive',\n",
              "                                                     [key], {});\n",
              "          if (!dataTable) return;\n",
              "\n",
              "          const docLinkHtml = 'Like what you see? Visit the ' +\n",
              "            '<a target=\"_blank\" href=https://colab.research.google.com/notebooks/data_table.ipynb>data table notebook</a>'\n",
              "            + ' to learn more about interactive tables.';\n",
              "          element.innerHTML = '';\n",
              "          dataTable['output_type'] = 'display_data';\n",
              "          await google.colab.output.renderOutput(dataTable, element);\n",
              "          const docLink = document.createElement('div');\n",
              "          docLink.innerHTML = docLinkHtml;\n",
              "          element.appendChild(docLink);\n",
              "        }\n",
              "      </script>\n",
              "    </div>\n",
              "  </div>\n",
              "  "
            ]
          },
          "metadata": {},
          "execution_count": 6
        }
      ],
      "source": [
        "# Merging the title text to the post\n",
        "\n",
        "#mhsu['text'] = mhsu['title'].astype(str) + ' ' + mhsu['selftext'].astype(str)\n",
        "mhsu = mhsu[['label', 'selftext']]\n",
        "mhsu"
      ]
    },
    {
      "cell_type": "code",
      "execution_count": null,
      "metadata": {
        "colab": {
          "base_uri": "https://localhost:8080/"
        },
        "id": "lpPFpvItYYtg",
        "outputId": "72cb8dfd-a7a9-4033-e536-161659ae1f51"
      },
      "outputs": [
        {
          "output_type": "stream",
          "name": "stdout",
          "text": [
            "Number of missing values in label: 0\n",
            "Number of missing values in body: 15217\n"
          ]
        }
      ],
      "source": [
        "print ('Number of missing values in label: {}'. format(mhsu.label.isnull().sum()))\n",
        "print ('Number of missing values in body: {}'. format(mhsu.selftext.isnull().sum()))"
      ]
    },
    {
      "cell_type": "code",
      "execution_count": null,
      "metadata": {
        "id": "KbbT_v1CYc8N"
      },
      "outputs": [],
      "source": [
        "mhsu = mhsu.dropna()\n",
        "mhsu = mhsu[mhsu.selftext!='[removed]']"
      ]
    },
    {
      "cell_type": "code",
      "execution_count": null,
      "metadata": {
        "colab": {
          "base_uri": "https://localhost:8080/"
        },
        "id": "dS-HrjAcYkhz",
        "outputId": "7700a6bb-cdda-4cb1-e402-075c52145ddf"
      },
      "outputs": [
        {
          "output_type": "execute_result",
          "data": {
            "text/plain": [
              "anxiety       13604\n",
              "depression     5871\n",
              "ADHD           4903\n",
              "autism         4502\n",
              "Name: label, dtype: int64"
            ]
          },
          "metadata": {},
          "execution_count": 9
        }
      ],
      "source": [
        "mhsu.label.value_counts()"
      ]
    },
    {
      "cell_type": "markdown",
      "source": [
        "#### Converting top a Binary Classification Problem\n",
        "\n",
        "With ADHD --> Without ADHD"
      ],
      "metadata": {
        "id": "4sKnxEdmF7bH"
      }
    },
    {
      "cell_type": "code",
      "source": [
        "anx = mhsu[mhsu['label']=='anxiety']\n",
        "dep = mhsu[mhsu['label']=='depression']\n",
        "ADHD = mhsu[mhsu['label']=='ADHD']\n",
        "aut = mhsu[mhsu['label']=='autism']\n",
        "others = pd.concat([dep, anx, aut])\n",
        "others['label'] = 'Without ADHD'\n",
        "ADHD['label'] = 'With ADHD'\n",
        "mhsu_new = pd.concat([ADHD, others])\n",
        "mhsu_new"
      ],
      "metadata": {
        "colab": {
          "base_uri": "https://localhost:8080/",
          "height": 528
        },
        "id": "ffU7vIrDGTGl",
        "outputId": "b464da23-e8b7-4fc0-9b88-955ea90893e6"
      },
      "execution_count": null,
      "outputs": [
        {
          "output_type": "stream",
          "name": "stderr",
          "text": [
            "/usr/local/lib/python3.7/dist-packages/ipykernel_launcher.py:7: SettingWithCopyWarning: \n",
            "A value is trying to be set on a copy of a slice from a DataFrame.\n",
            "Try using .loc[row_indexer,col_indexer] = value instead\n",
            "\n",
            "See the caveats in the documentation: https://pandas.pydata.org/pandas-docs/stable/user_guide/indexing.html#returning-a-view-versus-a-copy\n",
            "  import sys\n"
          ]
        },
        {
          "output_type": "execute_result",
          "data": {
            "text/plain": [
              "              label                                           selftext\n",
              "19621     With ADHD  \\nBilly Bear Ham,\\nHe's pinker than spam.\\nWit...\n",
              "19622     With ADHD  I was recently diagnosed with ADHD (last Septe...\n",
              "19623     With ADHD  I had an MA around 10 days ago: the procedure ...\n",
              "19625     With ADHD  From the age of just 10, my father would SA me...\n",
              "19626     With ADHD  I had an MA yesterday and everything passed. \\...\n",
              "...             ...                                                ...\n",
              "9936   Without ADHD  I found out a few days ago when I looked at my...\n",
              "9937   Without ADHD  I found a video on a cassette of her smoking w...\n",
              "9940   Without ADHD  So I’ve been trying to mod gta 5 solo online f...\n",
              "9943   Without ADHD  Im a virgin and i want to be until marriage, b...\n",
              "9945   Without ADHD  throwaway account because i feel too guilty to...\n",
              "\n",
              "[28880 rows x 2 columns]"
            ],
            "text/html": [
              "\n",
              "  <div id=\"df-2c65c944-b513-44ef-91be-790caf3f3ae4\">\n",
              "    <div class=\"colab-df-container\">\n",
              "      <div>\n",
              "<style scoped>\n",
              "    .dataframe tbody tr th:only-of-type {\n",
              "        vertical-align: middle;\n",
              "    }\n",
              "\n",
              "    .dataframe tbody tr th {\n",
              "        vertical-align: top;\n",
              "    }\n",
              "\n",
              "    .dataframe thead th {\n",
              "        text-align: right;\n",
              "    }\n",
              "</style>\n",
              "<table border=\"1\" class=\"dataframe\">\n",
              "  <thead>\n",
              "    <tr style=\"text-align: right;\">\n",
              "      <th></th>\n",
              "      <th>label</th>\n",
              "      <th>selftext</th>\n",
              "    </tr>\n",
              "  </thead>\n",
              "  <tbody>\n",
              "    <tr>\n",
              "      <th>19621</th>\n",
              "      <td>With ADHD</td>\n",
              "      <td>\\nBilly Bear Ham,\\nHe's pinker than spam.\\nWit...</td>\n",
              "    </tr>\n",
              "    <tr>\n",
              "      <th>19622</th>\n",
              "      <td>With ADHD</td>\n",
              "      <td>I was recently diagnosed with ADHD (last Septe...</td>\n",
              "    </tr>\n",
              "    <tr>\n",
              "      <th>19623</th>\n",
              "      <td>With ADHD</td>\n",
              "      <td>I had an MA around 10 days ago: the procedure ...</td>\n",
              "    </tr>\n",
              "    <tr>\n",
              "      <th>19625</th>\n",
              "      <td>With ADHD</td>\n",
              "      <td>From the age of just 10, my father would SA me...</td>\n",
              "    </tr>\n",
              "    <tr>\n",
              "      <th>19626</th>\n",
              "      <td>With ADHD</td>\n",
              "      <td>I had an MA yesterday and everything passed. \\...</td>\n",
              "    </tr>\n",
              "    <tr>\n",
              "      <th>...</th>\n",
              "      <td>...</td>\n",
              "      <td>...</td>\n",
              "    </tr>\n",
              "    <tr>\n",
              "      <th>9936</th>\n",
              "      <td>Without ADHD</td>\n",
              "      <td>I found out a few days ago when I looked at my...</td>\n",
              "    </tr>\n",
              "    <tr>\n",
              "      <th>9937</th>\n",
              "      <td>Without ADHD</td>\n",
              "      <td>I found a video on a cassette of her smoking w...</td>\n",
              "    </tr>\n",
              "    <tr>\n",
              "      <th>9940</th>\n",
              "      <td>Without ADHD</td>\n",
              "      <td>So I’ve been trying to mod gta 5 solo online f...</td>\n",
              "    </tr>\n",
              "    <tr>\n",
              "      <th>9943</th>\n",
              "      <td>Without ADHD</td>\n",
              "      <td>Im a virgin and i want to be until marriage, b...</td>\n",
              "    </tr>\n",
              "    <tr>\n",
              "      <th>9945</th>\n",
              "      <td>Without ADHD</td>\n",
              "      <td>throwaway account because i feel too guilty to...</td>\n",
              "    </tr>\n",
              "  </tbody>\n",
              "</table>\n",
              "<p>28880 rows × 2 columns</p>\n",
              "</div>\n",
              "      <button class=\"colab-df-convert\" onclick=\"convertToInteractive('df-2c65c944-b513-44ef-91be-790caf3f3ae4')\"\n",
              "              title=\"Convert this dataframe to an interactive table.\"\n",
              "              style=\"display:none;\">\n",
              "        \n",
              "  <svg xmlns=\"http://www.w3.org/2000/svg\" height=\"24px\"viewBox=\"0 0 24 24\"\n",
              "       width=\"24px\">\n",
              "    <path d=\"M0 0h24v24H0V0z\" fill=\"none\"/>\n",
              "    <path d=\"M18.56 5.44l.94 2.06.94-2.06 2.06-.94-2.06-.94-.94-2.06-.94 2.06-2.06.94zm-11 1L8.5 8.5l.94-2.06 2.06-.94-2.06-.94L8.5 2.5l-.94 2.06-2.06.94zm10 10l.94 2.06.94-2.06 2.06-.94-2.06-.94-.94-2.06-.94 2.06-2.06.94z\"/><path d=\"M17.41 7.96l-1.37-1.37c-.4-.4-.92-.59-1.43-.59-.52 0-1.04.2-1.43.59L10.3 9.45l-7.72 7.72c-.78.78-.78 2.05 0 2.83L4 21.41c.39.39.9.59 1.41.59.51 0 1.02-.2 1.41-.59l7.78-7.78 2.81-2.81c.8-.78.8-2.07 0-2.86zM5.41 20L4 18.59l7.72-7.72 1.47 1.35L5.41 20z\"/>\n",
              "  </svg>\n",
              "      </button>\n",
              "      \n",
              "  <style>\n",
              "    .colab-df-container {\n",
              "      display:flex;\n",
              "      flex-wrap:wrap;\n",
              "      gap: 12px;\n",
              "    }\n",
              "\n",
              "    .colab-df-convert {\n",
              "      background-color: #E8F0FE;\n",
              "      border: none;\n",
              "      border-radius: 50%;\n",
              "      cursor: pointer;\n",
              "      display: none;\n",
              "      fill: #1967D2;\n",
              "      height: 32px;\n",
              "      padding: 0 0 0 0;\n",
              "      width: 32px;\n",
              "    }\n",
              "\n",
              "    .colab-df-convert:hover {\n",
              "      background-color: #E2EBFA;\n",
              "      box-shadow: 0px 1px 2px rgba(60, 64, 67, 0.3), 0px 1px 3px 1px rgba(60, 64, 67, 0.15);\n",
              "      fill: #174EA6;\n",
              "    }\n",
              "\n",
              "    [theme=dark] .colab-df-convert {\n",
              "      background-color: #3B4455;\n",
              "      fill: #D2E3FC;\n",
              "    }\n",
              "\n",
              "    [theme=dark] .colab-df-convert:hover {\n",
              "      background-color: #434B5C;\n",
              "      box-shadow: 0px 1px 3px 1px rgba(0, 0, 0, 0.15);\n",
              "      filter: drop-shadow(0px 1px 2px rgba(0, 0, 0, 0.3));\n",
              "      fill: #FFFFFF;\n",
              "    }\n",
              "  </style>\n",
              "\n",
              "      <script>\n",
              "        const buttonEl =\n",
              "          document.querySelector('#df-2c65c944-b513-44ef-91be-790caf3f3ae4 button.colab-df-convert');\n",
              "        buttonEl.style.display =\n",
              "          google.colab.kernel.accessAllowed ? 'block' : 'none';\n",
              "\n",
              "        async function convertToInteractive(key) {\n",
              "          const element = document.querySelector('#df-2c65c944-b513-44ef-91be-790caf3f3ae4');\n",
              "          const dataTable =\n",
              "            await google.colab.kernel.invokeFunction('convertToInteractive',\n",
              "                                                     [key], {});\n",
              "          if (!dataTable) return;\n",
              "\n",
              "          const docLinkHtml = 'Like what you see? Visit the ' +\n",
              "            '<a target=\"_blank\" href=https://colab.research.google.com/notebooks/data_table.ipynb>data table notebook</a>'\n",
              "            + ' to learn more about interactive tables.';\n",
              "          element.innerHTML = '';\n",
              "          dataTable['output_type'] = 'display_data';\n",
              "          await google.colab.output.renderOutput(dataTable, element);\n",
              "          const docLink = document.createElement('div');\n",
              "          docLink.innerHTML = docLinkHtml;\n",
              "          element.appendChild(docLink);\n",
              "        }\n",
              "      </script>\n",
              "    </div>\n",
              "  </div>\n",
              "  "
            ]
          },
          "metadata": {},
          "execution_count": 10
        }
      ]
    },
    {
      "cell_type": "code",
      "source": [
        "mhsu_new.label.value_counts()"
      ],
      "metadata": {
        "colab": {
          "base_uri": "https://localhost:8080/"
        },
        "id": "lhkp7mbNL0ZJ",
        "outputId": "80f2ce2a-7268-4887-d7ad-48c9f6a6e2ce"
      },
      "execution_count": null,
      "outputs": [
        {
          "output_type": "execute_result",
          "data": {
            "text/plain": [
              "Without ADHD    23977\n",
              "With ADHD        4903\n",
              "Name: label, dtype: int64"
            ]
          },
          "metadata": {},
          "execution_count": 11
        }
      ]
    },
    {
      "cell_type": "code",
      "execution_count": null,
      "metadata": {
        "colab": {
          "base_uri": "https://localhost:8080/",
          "height": 367
        },
        "id": "K5oHq7CnYnrO",
        "outputId": "d54b8c92-b3c7-4d48-dbb3-072ac7f62354"
      },
      "outputs": [
        {
          "output_type": "execute_result",
          "data": {
            "text/plain": [
              "Text(0.5, 0, 'Categories Type')"
            ]
          },
          "metadata": {},
          "execution_count": 12
        },
        {
          "output_type": "display_data",
          "data": {
            "text/plain": [
              "<Figure size 576x360 with 1 Axes>"
            ],
            "image/png": "[encoded data removed]"
          },
          "metadata": {
            "needs_background": "light"
          }
        }
      ],
      "source": [
        "rowsums = mhsu_new.iloc[:,:1].sum(axis=1)\n",
        "x = rowsums.value_counts()\n",
        "\n",
        "import matplotlib.pyplot as plt\n",
        "import seaborn as sns\n",
        "plt.figure(figsize=(8,5))\n",
        "ax = sns.barplot(x.index, x.values)\n",
        "plt.title(\"Number of Posts per categories\")\n",
        "plt.ylabel('Number of Occurrences')\n",
        "plt.xlabel('Categories Type')"
      ]
    },
    {
      "cell_type": "code",
      "execution_count": null,
      "metadata": {
        "colab": {
          "base_uri": "https://localhost:8080/"
        },
        "id": "r5W-ooORYtB4",
        "outputId": "baefaa81-51db-4768-aa25-aecc092cc6fe"
      },
      "outputs": [
        {
          "output_type": "execute_result",
          "data": {
            "text/plain": [
              "With ADHD       4900\n",
              "Without ADHD    4900\n",
              "Name: label, dtype: int64"
            ]
          },
          "metadata": {},
          "execution_count": 13
        }
      ],
      "source": [
        "# Dealing with class imbalance by upsampling and downsampling the dataset\n",
        "from sklearn.utils import resample\n",
        "\n",
        "ADHD_to_scale = mhsu_new[mhsu_new.label=='With ADHD']\n",
        "Without_ADHD_to_scale = mhsu_new[mhsu_new.label=='Without ADHD']\n",
        "\n",
        "# to upscale Anxiety class\n",
        "ADHD_scaled = resample(ADHD_to_scale,\n",
        "                       replace=False,     # sample with replacement\n",
        "                       n_samples=4900,    # to match majority class\n",
        "                       random_state=1234) # reproducible results\n",
        " \n",
        "# to upscale ADHD class\n",
        "Without_ADHD_scaled = resample(Without_ADHD_to_scale,\n",
        "                               replace=False,     # sample with replacement\n",
        "                               n_samples=4900,    # to match majority class\n",
        "                               random_state=1235) # reproducible results\n",
        " \n",
        "# Combine majority class with upsampled minority class\n",
        "mhsu_balanced = pd.concat([ADHD_scaled, Without_ADHD_scaled])\n",
        "\n",
        "\n",
        "mhsu_balanced.label.value_counts()"
      ]
    },
    {
      "cell_type": "code",
      "execution_count": null,
      "metadata": {
        "colab": {
          "base_uri": "https://localhost:8080/",
          "height": 367
        },
        "id": "CW58TgfDY5Qg",
        "outputId": "bb7f7457-0474-42d7-f93b-d6576953bda5"
      },
      "outputs": [
        {
          "output_type": "execute_result",
          "data": {
            "text/plain": [
              "Text(0.5, 0, 'Categories Type')"
            ]
          },
          "metadata": {},
          "execution_count": 14
        },
        {
          "output_type": "display_data",
          "data": {
            "text/plain": [
              "<Figure size 576x360 with 1 Axes>"
            ],
            "image/png": "[encoded data removed]"
          },
          "metadata": {
            "needs_background": "light"
          }
        }
      ],
      "source": [
        "rowsums = mhsu_balanced.iloc[:,:1].sum(axis=1)\n",
        "x = rowsums.value_counts()\n",
        "\n",
        "import matplotlib.pyplot as plt\n",
        "import seaborn as sns\n",
        "plt.figure(figsize=(8,5))\n",
        "ax = sns.barplot(x.index, x.values)\n",
        "plt.title(\"Number of Posts per categories\")\n",
        "plt.ylabel('Number of Occurrences')\n",
        "plt.xlabel('Categories Type')"
      ]
    },
    {
      "cell_type": "code",
      "execution_count": null,
      "metadata": {
        "colab": {
          "base_uri": "https://localhost:8080/",
          "height": 424
        },
        "id": "EObSJVq-ZhkQ",
        "outputId": "36c4468b-5159-4608-8d7f-ac6ef8728969"
      },
      "outputs": [
        {
          "output_type": "execute_result",
          "data": {
            "text/plain": [
              "              label                                           selftext\n",
              "20207     With ADHD  Who else is feeling (especially after this epi...\n",
              "23486     With ADHD  I'm going to the airport soon and I've been be...\n",
              "20655     With ADHD  How do you go with meds? Do the ADHD meds inte...\n",
              "23701     With ADHD  Are hugs better? Is being shirtless epic? What...\n",
              "26921     With ADHD  Half a bar and a 15mg Remeron and it’s that pu...\n",
              "...             ...                                                ...\n",
              "8289   Without ADHD  Just saw it on tour and cried in an *immense* ...\n",
              "33246  Without ADHD  PLEASE SOMEONE HELP ME I’m tired of using this...\n",
              "1400   Without ADHD  Not condoning the use of steroids. Just wonder...\n",
              "15131  Without ADHD  Recently my life has been going downhill, I’d ...\n",
              "11869  Without ADHD  I feel like I'm worthless. Like all I do is me...\n",
              "\n",
              "[9800 rows x 2 columns]"
            ],
            "text/html": [
              "\n",
              "  <div id=\"df-2a9456f3-7f76-40ca-a735-97387466f98a\">\n",
              "    <div class=\"colab-df-container\">\n",
              "      <div>\n",
              "<style scoped>\n",
              "    .dataframe tbody tr th:only-of-type {\n",
              "        vertical-align: middle;\n",
              "    }\n",
              "\n",
              "    .dataframe tbody tr th {\n",
              "        vertical-align: top;\n",
              "    }\n",
              "\n",
              "    .dataframe thead th {\n",
              "        text-align: right;\n",
              "    }\n",
              "</style>\n",
              "<table border=\"1\" class=\"dataframe\">\n",
              "  <thead>\n",
              "    <tr style=\"text-align: right;\">\n",
              "      <th></th>\n",
              "      <th>label</th>\n",
              "      <th>selftext</th>\n",
              "    </tr>\n",
              "  </thead>\n",
              "  <tbody>\n",
              "    <tr>\n",
              "      <th>20207</th>\n",
              "      <td>With ADHD</td>\n",
              "      <td>Who else is feeling (especially after this epi...</td>\n",
              "    </tr>\n",
              "    <tr>\n",
              "      <th>23486</th>\n",
              "      <td>With ADHD</td>\n",
              "      <td>I'm going to the airport soon and I've been be...</td>\n",
              "    </tr>\n",
              "    <tr>\n",
              "      <th>20655</th>\n",
              "      <td>With ADHD</td>\n",
              "      <td>How do you go with meds? Do the ADHD meds inte...</td>\n",
              "    </tr>\n",
              "    <tr>\n",
              "      <th>23701</th>\n",
              "      <td>With ADHD</td>\n",
              "      <td>Are hugs better? Is being shirtless epic? What...</td>\n",
              "    </tr>\n",
              "    <tr>\n",
              "      <th>26921</th>\n",
              "      <td>With ADHD</td>\n",
              "      <td>Half a bar and a 15mg Remeron and it’s that pu...</td>\n",
              "    </tr>\n",
              "    <tr>\n",
              "      <th>...</th>\n",
              "      <td>...</td>\n",
              "      <td>...</td>\n",
              "    </tr>\n",
              "    <tr>\n",
              "      <th>8289</th>\n",
              "      <td>Without ADHD</td>\n",
              "      <td>Just saw it on tour and cried in an *immense* ...</td>\n",
              "    </tr>\n",
              "    <tr>\n",
              "      <th>33246</th>\n",
              "      <td>Without ADHD</td>\n",
              "      <td>PLEASE SOMEONE HELP ME I’m tired of using this...</td>\n",
              "    </tr>\n",
              "    <tr>\n",
              "      <th>1400</th>\n",
              "      <td>Without ADHD</td>\n",
              "      <td>Not condoning the use of steroids. Just wonder...</td>\n",
              "    </tr>\n",
              "    <tr>\n",
              "      <th>15131</th>\n",
              "      <td>Without ADHD</td>\n",
              "      <td>Recently my life has been going downhill, I’d ...</td>\n",
              "    </tr>\n",
              "    <tr>\n",
              "      <th>11869</th>\n",
              "      <td>Without ADHD</td>\n",
              "      <td>I feel like I'm worthless. Like all I do is me...</td>\n",
              "    </tr>\n",
              "  </tbody>\n",
              "</table>\n",
              "<p>9800 rows × 2 columns</p>\n",
              "</div>\n",
              "      <button class=\"colab-df-convert\" onclick=\"convertToInteractive('df-2a9456f3-7f76-40ca-a735-97387466f98a')\"\n",
              "              title=\"Convert this dataframe to an interactive table.\"\n",
              "              style=\"display:none;\">\n",
              "        \n",
              "  <svg xmlns=\"http://www.w3.org/2000/svg\" height=\"24px\"viewBox=\"0 0 24 24\"\n",
              "       width=\"24px\">\n",
              "    <path d=\"M0 0h24v24H0V0z\" fill=\"none\"/>\n",
              "    <path d=\"M18.56 5.44l.94 2.06.94-2.06 2.06-.94-2.06-.94-.94-2.06-.94 2.06-2.06.94zm-11 1L8.5 8.5l.94-2.06 2.06-.94-2.06-.94L8.5 2.5l-.94 2.06-2.06.94zm10 10l.94 2.06.94-2.06 2.06-.94-2.06-.94-.94-2.06-.94 2.06-2.06.94z\"/><path d=\"M17.41 7.96l-1.37-1.37c-.4-.4-.92-.59-1.43-.59-.52 0-1.04.2-1.43.59L10.3 9.45l-7.72 7.72c-.78.78-.78 2.05 0 2.83L4 21.41c.39.39.9.59 1.41.59.51 0 1.02-.2 1.41-.59l7.78-7.78 2.81-2.81c.8-.78.8-2.07 0-2.86zM5.41 20L4 18.59l7.72-7.72 1.47 1.35L5.41 20z\"/>\n",
              "  </svg>\n",
              "      </button>\n",
              "      \n",
              "  <style>\n",
              "    .colab-df-container {\n",
              "      display:flex;\n",
              "      flex-wrap:wrap;\n",
              "      gap: 12px;\n",
              "    }\n",
              "\n",
              "    .colab-df-convert {\n",
              "      background-color: #E8F0FE;\n",
              "      border: none;\n",
              "      border-radius: 50%;\n",
              "      cursor: pointer;\n",
              "      display: none;\n",
              "      fill: #1967D2;\n",
              "      height: 32px;\n",
              "      padding: 0 0 0 0;\n",
              "      width: 32px;\n",
              "    }\n",
              "\n",
              "    .colab-df-convert:hover {\n",
              "      background-color: #E2EBFA;\n",
              "      box-shadow: 0px 1px 2px rgba(60, 64, 67, 0.3), 0px 1px 3px 1px rgba(60, 64, 67, 0.15);\n",
              "      fill: #174EA6;\n",
              "    }\n",
              "\n",
              "    [theme=dark] .colab-df-convert {\n",
              "      background-color: #3B4455;\n",
              "      fill: #D2E3FC;\n",
              "    }\n",
              "\n",
              "    [theme=dark] .colab-df-convert:hover {\n",
              "      background-color: #434B5C;\n",
              "      box-shadow: 0px 1px 3px 1px rgba(0, 0, 0, 0.15);\n",
              "      filter: drop-shadow(0px 1px 2px rgba(0, 0, 0, 0.3));\n",
              "      fill: #FFFFFF;\n",
              "    }\n",
              "  </style>\n",
              "\n",
              "      <script>\n",
              "        const buttonEl =\n",
              "          document.querySelector('#df-2a9456f3-7f76-40ca-a735-97387466f98a button.colab-df-convert');\n",
              "        buttonEl.style.display =\n",
              "          google.colab.kernel.accessAllowed ? 'block' : 'none';\n",
              "\n",
              "        async function convertToInteractive(key) {\n",
              "          const element = document.querySelector('#df-2a9456f3-7f76-40ca-a735-97387466f98a');\n",
              "          const dataTable =\n",
              "            await google.colab.kernel.invokeFunction('convertToInteractive',\n",
              "                                                     [key], {});\n",
              "          if (!dataTable) return;\n",
              "\n",
              "          const docLinkHtml = 'Like what you see? Visit the ' +\n",
              "            '<a target=\"_blank\" href=https://colab.research.google.com/notebooks/data_table.ipynb>data table notebook</a>'\n",
              "            + ' to learn more about interactive tables.';\n",
              "          element.innerHTML = '';\n",
              "          dataTable['output_type'] = 'display_data';\n",
              "          await google.colab.output.renderOutput(dataTable, element);\n",
              "          const docLink = document.createElement('div');\n",
              "          docLink.innerHTML = docLinkHtml;\n",
              "          element.appendChild(docLink);\n",
              "        }\n",
              "      </script>\n",
              "    </div>\n",
              "  </div>\n",
              "  "
            ]
          },
          "metadata": {},
          "execution_count": 15
        }
      ],
      "source": [
        "mhsu_balanced"
      ]
    },
    {
      "cell_type": "code",
      "execution_count": null,
      "metadata": {
        "id": "fqt3fL1oZo_S"
      },
      "outputs": [],
      "source": [
        "stop_words = set(stopwords) - set(['not', \"don't\", \"didn't\", \"hadn't\", \"hasn't\", \"haven't\", \"won't\", \"wouldn't\" ])\n",
        "def clean_text(text):\n",
        "    text = \"\".join([word.lower() for word in text if word not in string.punctuation])\n",
        "    sentence = text.replace(r\"http\\S+\", \"\")\n",
        "    sentence = sentence.replace(r'^https?:\\/\\/.*[\\r\\n]*', '')\n",
        "    sentence = sentence.replace(r\"https\\S+\", \"\")\n",
        "    sentence = sentence.replace(r\"http\", \"\")\n",
        "    sentence = sentence.replace(r\"https\", \"\")\n",
        "    tokens = re.split('\\W+', sentence)\n",
        "    text = [word for word in tokens if word not in stop_words]\n",
        "    text = [word for word in text if word.isalpha()]\n",
        "    text = \" \".join(text)\n",
        "    return text"
      ]
    },
    {
      "cell_type": "code",
      "execution_count": null,
      "metadata": {
        "id": "cRroaQgOZsUo",
        "colab": {
          "base_uri": "https://localhost:8080/",
          "height": 424
        },
        "outputId": "16b53416-b0ac-42dc-d46d-5a5d28cf5c40"
      },
      "outputs": [
        {
          "output_type": "execute_result",
          "data": {
            "text/plain": [
              "              label                                           selftext  \\\n",
              "20207     With ADHD  Who else is feeling (especially after this epi...   \n",
              "23486     With ADHD  I'm going to the airport soon and I've been be...   \n",
              "20655     With ADHD  How do you go with meds? Do the ADHD meds inte...   \n",
              "23701     With ADHD  Are hugs better? Is being shirtless epic? What...   \n",
              "26921     With ADHD  Half a bar and a 15mg Remeron and it’s that pu...   \n",
              "...             ...                                                ...   \n",
              "8289   Without ADHD  Just saw it on tour and cried in an *immense* ...   \n",
              "33246  Without ADHD  PLEASE SOMEONE HELP ME I’m tired of using this...   \n",
              "1400   Without ADHD  Not condoning the use of steroids. Just wonder...   \n",
              "15131  Without ADHD  Recently my life has been going downhill, I’d ...   \n",
              "11869  Without ADHD  I feel like I'm worthless. Like all I do is me...   \n",
              "\n",
              "                                              clean_text  \n",
              "20207  else feeling especially episode tino not longt...  \n",
              "23486  im going airport soon ive postsocial transitio...  \n",
              "20655     go meds adhd meds interfere schizophrenia ones  \n",
              "23701  hugs better shirtless epic shirts wear top coo...  \n",
              "26921  half bar remeron put kids bed type sleep lol g...  \n",
              "...                                                  ...  \n",
              "8289                          saw tour cried immense way  \n",
              "33246  please someone help tired using foundation any...  \n",
              "1400   not condoning use steroids wondering kind effe...  \n",
              "15131  recently life going downhill say since decembe...  \n",
              "11869  feel like im worthless like mess everything wo...  \n",
              "\n",
              "[9800 rows x 3 columns]"
            ],
            "text/html": [
              "\n",
              "  <div id=\"df-244088b7-a8fb-4d1b-80a8-1c4021c1b3f7\">\n",
              "    <div class=\"colab-df-container\">\n",
              "      <div>\n",
              "<style scoped>\n",
              "    .dataframe tbody tr th:only-of-type {\n",
              "        vertical-align: middle;\n",
              "    }\n",
              "\n",
              "    .dataframe tbody tr th {\n",
              "        vertical-align: top;\n",
              "    }\n",
              "\n",
              "    .dataframe thead th {\n",
              "        text-align: right;\n",
              "    }\n",
              "</style>\n",
              "<table border=\"1\" class=\"dataframe\">\n",
              "  <thead>\n",
              "    <tr style=\"text-align: right;\">\n",
              "      <th></th>\n",
              "      <th>label</th>\n",
              "      <th>selftext</th>\n",
              "      <th>clean_text</th>\n",
              "    </tr>\n",
              "  </thead>\n",
              "  <tbody>\n",
              "    <tr>\n",
              "      <th>20207</th>\n",
              "      <td>With ADHD</td>\n",
              "      <td>Who else is feeling (especially after this epi...</td>\n",
              "      <td>else feeling especially episode tino not longt...</td>\n",
              "    </tr>\n",
              "    <tr>\n",
              "      <th>23486</th>\n",
              "      <td>With ADHD</td>\n",
              "      <td>I'm going to the airport soon and I've been be...</td>\n",
              "      <td>im going airport soon ive postsocial transitio...</td>\n",
              "    </tr>\n",
              "    <tr>\n",
              "      <th>20655</th>\n",
              "      <td>With ADHD</td>\n",
              "      <td>How do you go with meds? Do the ADHD meds inte...</td>\n",
              "      <td>go meds adhd meds interfere schizophrenia ones</td>\n",
              "    </tr>\n",
              "    <tr>\n",
              "      <th>23701</th>\n",
              "      <td>With ADHD</td>\n",
              "      <td>Are hugs better? Is being shirtless epic? What...</td>\n",
              "      <td>hugs better shirtless epic shirts wear top coo...</td>\n",
              "    </tr>\n",
              "    <tr>\n",
              "      <th>26921</th>\n",
              "      <td>With ADHD</td>\n",
              "      <td>Half a bar and a 15mg Remeron and it’s that pu...</td>\n",
              "      <td>half bar remeron put kids bed type sleep lol g...</td>\n",
              "    </tr>\n",
              "    <tr>\n",
              "      <th>...</th>\n",
              "      <td>...</td>\n",
              "      <td>...</td>\n",
              "      <td>...</td>\n",
              "    </tr>\n",
              "    <tr>\n",
              "      <th>8289</th>\n",
              "      <td>Without ADHD</td>\n",
              "      <td>Just saw it on tour and cried in an *immense* ...</td>\n",
              "      <td>saw tour cried immense way</td>\n",
              "    </tr>\n",
              "    <tr>\n",
              "      <th>33246</th>\n",
              "      <td>Without ADHD</td>\n",
              "      <td>PLEASE SOMEONE HELP ME I’m tired of using this...</td>\n",
              "      <td>please someone help tired using foundation any...</td>\n",
              "    </tr>\n",
              "    <tr>\n",
              "      <th>1400</th>\n",
              "      <td>Without ADHD</td>\n",
              "      <td>Not condoning the use of steroids. Just wonder...</td>\n",
              "      <td>not condoning use steroids wondering kind effe...</td>\n",
              "    </tr>\n",
              "    <tr>\n",
              "      <th>15131</th>\n",
              "      <td>Without ADHD</td>\n",
              "      <td>Recently my life has been going downhill, I’d ...</td>\n",
              "      <td>recently life going downhill say since decembe...</td>\n",
              "    </tr>\n",
              "    <tr>\n",
              "      <th>11869</th>\n",
              "      <td>Without ADHD</td>\n",
              "      <td>I feel like I'm worthless. Like all I do is me...</td>\n",
              "      <td>feel like im worthless like mess everything wo...</td>\n",
              "    </tr>\n",
              "  </tbody>\n",
              "</table>\n",
              "<p>9800 rows × 3 columns</p>\n",
              "</div>\n",
              "      <button class=\"colab-df-convert\" onclick=\"convertToInteractive('df-244088b7-a8fb-4d1b-80a8-1c4021c1b3f7')\"\n",
              "              title=\"Convert this dataframe to an interactive table.\"\n",
              "              style=\"display:none;\">\n",
              "        \n",
              "  <svg xmlns=\"http://www.w3.org/2000/svg\" height=\"24px\"viewBox=\"0 0 24 24\"\n",
              "       width=\"24px\">\n",
              "    <path d=\"M0 0h24v24H0V0z\" fill=\"none\"/>\n",
              "    <path d=\"M18.56 5.44l.94 2.06.94-2.06 2.06-.94-2.06-.94-.94-2.06-.94 2.06-2.06.94zm-11 1L8.5 8.5l.94-2.06 2.06-.94-2.06-.94L8.5 2.5l-.94 2.06-2.06.94zm10 10l.94 2.06.94-2.06 2.06-.94-2.06-.94-.94-2.06-.94 2.06-2.06.94z\"/><path d=\"M17.41 7.96l-1.37-1.37c-.4-.4-.92-.59-1.43-.59-.52 0-1.04.2-1.43.59L10.3 9.45l-7.72 7.72c-.78.78-.78 2.05 0 2.83L4 21.41c.39.39.9.59 1.41.59.51 0 1.02-.2 1.41-.59l7.78-7.78 2.81-2.81c.8-.78.8-2.07 0-2.86zM5.41 20L4 18.59l7.72-7.72 1.47 1.35L5.41 20z\"/>\n",
              "  </svg>\n",
              "      </button>\n",
              "      \n",
              "  <style>\n",
              "    .colab-df-container {\n",
              "      display:flex;\n",
              "      flex-wrap:wrap;\n",
              "      gap: 12px;\n",
              "    }\n",
              "\n",
              "    .colab-df-convert {\n",
              "      background-color: #E8F0FE;\n",
              "      border: none;\n",
              "      border-radius: 50%;\n",
              "      cursor: pointer;\n",
              "      display: none;\n",
              "      fill: #1967D2;\n",
              "      height: 32px;\n",
              "      padding: 0 0 0 0;\n",
              "      width: 32px;\n",
              "    }\n",
              "\n",
              "    .colab-df-convert:hover {\n",
              "      background-color: #E2EBFA;\n",
              "      box-shadow: 0px 1px 2px rgba(60, 64, 67, 0.3), 0px 1px 3px 1px rgba(60, 64, 67, 0.15);\n",
              "      fill: #174EA6;\n",
              "    }\n",
              "\n",
              "    [theme=dark] .colab-df-convert {\n",
              "      background-color: #3B4455;\n",
              "      fill: #D2E3FC;\n",
              "    }\n",
              "\n",
              "    [theme=dark] .colab-df-convert:hover {\n",
              "      background-color: #434B5C;\n",
              "      box-shadow: 0px 1px 3px 1px rgba(0, 0, 0, 0.15);\n",
              "      filter: drop-shadow(0px 1px 2px rgba(0, 0, 0, 0.3));\n",
              "      fill: #FFFFFF;\n",
              "    }\n",
              "  </style>\n",
              "\n",
              "      <script>\n",
              "        const buttonEl =\n",
              "          document.querySelector('#df-244088b7-a8fb-4d1b-80a8-1c4021c1b3f7 button.colab-df-convert');\n",
              "        buttonEl.style.display =\n",
              "          google.colab.kernel.accessAllowed ? 'block' : 'none';\n",
              "\n",
              "        async function convertToInteractive(key) {\n",
              "          const element = document.querySelector('#df-244088b7-a8fb-4d1b-80a8-1c4021c1b3f7');\n",
              "          const dataTable =\n",
              "            await google.colab.kernel.invokeFunction('convertToInteractive',\n",
              "                                                     [key], {});\n",
              "          if (!dataTable) return;\n",
              "\n",
              "          const docLinkHtml = 'Like what you see? Visit the ' +\n",
              "            '<a target=\"_blank\" href=https://colab.research.google.com/notebooks/data_table.ipynb>data table notebook</a>'\n",
              "            + ' to learn more about interactive tables.';\n",
              "          element.innerHTML = '';\n",
              "          dataTable['output_type'] = 'display_data';\n",
              "          await google.colab.output.renderOutput(dataTable, element);\n",
              "          const docLink = document.createElement('div');\n",
              "          docLink.innerHTML = docLinkHtml;\n",
              "          element.appendChild(docLink);\n",
              "        }\n",
              "      </script>\n",
              "    </div>\n",
              "  </div>\n",
              "  "
            ]
          },
          "metadata": {},
          "execution_count": 17
        }
      ],
      "source": [
        "mhsu_balanced['clean_text'] = mhsu_balanced['selftext'].map(lambda x : clean_text(x))\n",
        "mhsu_balanced"
      ]
    },
    {
      "cell_type": "code",
      "execution_count": null,
      "metadata": {
        "id": "0syvKwIUZu-K"
      },
      "outputs": [],
      "source": [
        "from sklearn.feature_extraction.text import CountVectorizer\n",
        "\n",
        "#tokenized_text = tfidf_vect.get_feature_names()\n",
        "\n",
        "def get_toptext_ngrams(corpus, ngrams=(1, 1), nr=None):\n",
        "    \"\"\"\n",
        "    creates a bag of ngrams and counts ngram frequency.\n",
        "\n",
        "    Returns a list of tuples: (ngram, count)\n",
        "    \"\"\"\n",
        "    vec = CountVectorizer(ngram_range=ngrams, stop_words = 'english').fit(corpus)\n",
        "    bag_of_words = vec.transform(corpus)\n",
        "    sum_words = bag_of_words.sum(axis=0)\n",
        "    words_freq = [(word, sum_words[0, idx]) for word, idx in vec.vocabulary_.items()]\n",
        "    words_freq = sorted(words_freq, key=lambda x: x[1], reverse=True)\n",
        "    return words_freq[:nr]"
      ]
    },
    {
      "cell_type": "code",
      "execution_count": null,
      "metadata": {
        "id": "6kgLDFPuZ1uK",
        "colab": {
          "base_uri": "https://localhost:8080/"
        },
        "outputId": "eb65514d-1369-4ec5-8e02-d55ad2912926"
      },
      "outputs": [
        {
          "output_type": "stream",
          "name": "stdout",
          "text": [
            "[('feel like im', 145), ('im pretty sure', 45), ('dont know im', 42), ('long story short', 40), ('god god god', 33), ('dont really know', 30), ('mental health issues', 27), ('dont feel like', 26), ('makes feel like', 25), ('like im going', 24)]\n"
          ]
        }
      ],
      "source": [
        "top_text_ngrams = get_toptext_ngrams(mhsu_balanced.clean_text, ngrams=(3, 3), nr=10)\n",
        "print(top_text_ngrams)"
      ]
    },
    {
      "cell_type": "code",
      "execution_count": null,
      "metadata": {
        "colab": {
          "base_uri": "https://localhost:8080/",
          "height": 514
        },
        "id": "NGAbV0EuZ4Tl",
        "outputId": "d62d8236-52a0-42bf-dc0a-87c0494c542e"
      },
      "outputs": [
        {
          "output_type": "execute_result",
          "data": {
            "text/plain": [
              "Text(0.5, 1.0, 'Distribution of Top-10 Tri-gram in the corpus')"
            ]
          },
          "metadata": {},
          "execution_count": 22
        },
        {
          "output_type": "display_data",
          "data": {
            "text/plain": [
              "<Figure size 1152x576 with 1 Axes>"
            ],
            "image/png": "[encoded data removed]"
          },
          "metadata": {
            "needs_background": "light"
          }
        }
      ],
      "source": [
        "x, y = zip(*top_text_ngrams)\n",
        "plt.figure(1, figsize=(16, 8))\n",
        "plt.subplot(1, 1, 1)\n",
        "plt.bar(x, y)\n",
        "plt.title('Distribution of Top-10 Tri-gram in the corpus')"
      ]
    },
    {
      "cell_type": "code",
      "execution_count": null,
      "metadata": {
        "id": "XesY4NfbZ_MV",
        "colab": {
          "base_uri": "https://localhost:8080/"
        },
        "outputId": "db00124c-b842-4bbb-966f-1c7024b0cb28"
      },
      "outputs": [
        {
          "output_type": "stream",
          "name": "stdout",
          "text": [
            "(9800, 21364)\n",
            "['aagian idk thing', 'aap days rodeo', 'aap rocky travis', 'ab ap research', 'abdomen arms itch', 'abdomen legs arms', 'abdomen usually mornings', 'abdominal pain pelvic', 'abilities egg moves', 'abilities like grown', 'abilities score working', 'ability defocus minutes', 'ability kill teleport', 'ability speak make', 'able actually choose', 'able closure fact', 'able come things', 'able concentrate class', 'able explain young', 'able fall asleep', 'able focus work', 'able frequently months', 'able gender affirming', 'able help giving', 'able hook retro', 'able job im', 'able live life', 'able pay attention', 'able pinpoint food', 'able play game', 'able play games', 'able really poop', 'able receive upload', 'able share experiences', 'able stay work', 'able stop ruminating', 'able stop thinking', 'able struggles fact', 'able swallow food', 'able tell lying', 'able transition selfemployment', 'able type help', 'able understand maybe', 'able use tv', 'abnormal colours cause', 'abnormal started meds', 'abroad eating habits', 'abruptly stopped paying', 'absences adhere laws', 'absolutely appetite normally', 'absolutely dont think', 'absolutely falling apart', 'absolutely filled dread', 'absolutely hate want', 'absolutely home scratch', 'absolutely hope left', 'absolutely massive massive', 'absolutely shook came', 'absolutely social medical', 'absolutely worth afterwords', 'absolutely worth overtime', 'abstract ecstasy purely', 'abuse issues insomnia', 'abuser nonpsyical im', 'abusive emotionally abusive', 'abusive ex feel', 'abusive mother let', 'abusive relationship past', 'abusive sober gaslights', 'ac caught covid', 'academic future really', 'academically failing multiple', 'academically prime socially', 'academically staying strong', 'accents piece kind', 'accept ideas gettinh', 'accept useful surprising', 'accepted bid wire', 'accepted feel really', 'accepted offer right', 'accepting behavior weve', 'access files user', 'access security cameras', 'access unconscious answers', 'accessory parotid gland', 'accident asked turned', 'accident feel like', 'accident low speed', 'accidentally hesitant way', 'accidentally time thought', 'accommodations coding interview', 'accommodations interview disability', 'accommodations ok course', 'accommodations request feel', 'according quote wanted', 'accordingly act like', 'account monthly charges', 'account monthly payment', 'account plan status', 'account read wiki', 'accredited god writings', 'accused talking people', 'accutane high school', 'ache rashes started', 'aches rashes rashes', 'aches wasbt sure', 'achey bit tingly', 'achievement bad bitch', 'achieving goals maybe', 'achieving kid played', 'acknowledged understood powerful', 'acoustic song guitar', 'acquaintances know slightly', 'acquaintances like strong', 'acquire add avid', 'act accepting behavior', 'act certain way', 'act know bpd', 'act like care', 'act like didnt', 'act like dont', 'act like feel', 'act like normal', 'act like straight', 'act makes feel', 'act moment ecstasy', 'act performance anxiety', 'act way know', 'acted kinda desperate', 'acted like jerk', 'acting like sociopath', 'acting similar moved', 'acting way opportunities', 'action based monetary', 'action instead picking', 'actions lot damage', 'actions say confusing', 'actions selfishly motivated', 'actions told support', 'activated mixing sand', 'active letting actively', 'actively direct attention', 'actively directing attention', 'actively try distract', 'actively try mind', 'actively trying lose', 'activities mean order', 'actual intrusive thought', 'actual recommendations hand', 'actual stressful situation', 'actual workday inconsequential', 'actually action instead', 'actually adhd taking', 'actually appt gyno', 'actually break met', 'actually choose taking', 'actually disc drive', 'actually dont want', 'actually falling asleep', 'actually feel better', 'actually feel like', 'actually feels like', 'actually gives meaning', 'actually gives paw', 'actually good used', 'actually happened october', 'actually happened thought', 'actually heartattack maybe', 'actually killed people', 'actually killed thrown', 'actually know lot', 'actually like forget', 'actually look like', 'actually ready wake', 'actually really good', 'actually really nice', 'actually scared getting', 'actually sit things', 'actually spent time', 'actually thought imagined', 'actually vacuum crumble', 'actually way edge', 'actually worried going', 'add avid art', 'add change decision', 'add factions played', 'add list things', 'add mechanics super', 'add quad bikes', 'add schizophrenia bpd', 'add tldr scroll', 'add trigger warning', 'addadhd posts read', 'added infidelity piece', 'added sertraline time', 'added toxins shakes', 'adderall edit formatting', 'adderall ir helped', 'adderall month ago', 'addicted alcoholic slowly', 'addiction weight gain', 'addition prayer life', 'additional details wish', 'additionthis actually happened', 'addresses elders circuit', 'adds ones collection', 'adhd add schizophrenia', 'adhd add tldr', 'adhd anxiety believe', 'adhd anxiety fact', 'adhd autism high', 'adhd breaks shuts', 'adhd crippling considered', 'adhd depression anxiety', 'adhd diagnosed dont', 'adhd diagnosed teenager', 'adhd diagnosis soon', 'adhd doctor says', 'adhd dont know', 'adhd emotional dysregulation', 'adhd entire life', 'adhd especially impacts', 'adhd evaluations iq', 'adhd explains lot', 'adhd explore make', 'adhd expressed happiness', 'adhd feel like', 'adhd feels like', 'adhd fit profile', 'adhd fit symptoms', 'adhd going psychiatrist', 'adhd heard people', 'adhd helps making', 'adhd high functioning', 'adhd im lazy', 'adhd impact function', 'adhd inattentive type', 'adhd likely adhd', 'adhd long time', 'adhd make truly', 'adhd medication worse', 'adhd meds appetite', 'adhd meds really', 'adhd months ago', 'adhd nonadhd partners', 'adhd ocd intrusive', 'adhd patients spectrum', 'adhd people expect', 'adhd people know', 'adhd people manage', 'adhd person think', 'adhd prescribed adderall', 'adhd realised checking', 'adhd remained visible', 'adhd right time', 'adhd runs private', 'adhd sct hope', 'adhd service times', 'adhd severe degree', 'adhd share bunch', 'adhd spectrum severity', 'adhd started reading', 'adhd taking test', 'adhd talking recruiter', 'adhd took iq', 'adhd treated anxiety', 'adhd work macbook', 'adhd youre lazy', 'adhere laws barely', 'adjusted born weeks', 'admit im expert', 'admit im neurodivergent', 'admittedly clean cpap', 'adrenaline rushes overall', 'adult know takes', 'adult want classes', 'adulthood know comes', 'advance help changed', 'advance help guys', 'advance hope growing', 'advance length post', 'advance quite long', 'advance reading long', 'advance wish luck', 'advancement ignored talked', 'advances leaves feeling', 'advantage way things', 'adverse reaction edible', 'advice cope anxiety', 'advice deal situation', 'advice fake snow', 'advice feel like', 'advice greatly appreciated', 'advice helpful thanks', 'advice helps thanks', 'advice money going', 'advice month ago', 'advice online creating', 'advice peace im', 'advice planning masters', 'advice simple build', 'advice starting ball', 'advice suggestions comments', 'advice thanks advance', 'advices cause dont', 'advisepointers preparation application', 'advisory council communicated', 'afab people feel', 'affect relationship way', 'affect years working', 'affected anxiety takes', 'affects grain used', 'affects lower arm', 'affects really bad', 'affirmations stand like', 'afford career wise', 'afford person jewelry', 'afford recently booked', 'aforementioned places exhaustive', 'afraid forget going', 'afraid ive nightmaredream', 'afraid mundane things', 'afraid noises louder', 'afraid panic attacks', 'african cichlids years', 'aftercare public school', 'afternoon today feel', 'afterwords picked grass', 'age beliefs practices', 'age feel like', 'age height weight', 'age lbs listened', 'age maybe handful', 'age months sex', 'age regularly visiting', 'age say suicide', 'agencies associate months', 'ages abusive mother', 'aggravated hurt bit', 'aggressively pay loans', 'aglaonema silver bay', 'ago bad lasted', 'ago bad yes', 'ago car accident', 'ago chat friend', 'ago christmas day', 'ago cleaning panoramic', 'ago closest friends', 'ago cut gluten', 'ago doctor added', 'ago doctors loss', 'ago dont remember', 'ago dont think', 'ago father mocks', 'ago feel like', 'ago felt like', 'ago got really', 'ago happened sense', 'ago hate incredible', 'ago history endometriosis', 'ago husband partner', 'ago legit like', 'ago let know', 'ago life make', 'ago mental breakdown', 'ago met guy', 'ago months long', 'ago number exams', 'ago panic attack', 'ago panic attacks', 'ago party phone', 'ago pressing cheeks', 'ago quite suddenly', 'ago sleep anxiety', 'ago slightly painful', 'ago started going', 'ago starting therapy', 'ago symptoms adhd', 'ago thought calling', 'ago weeks working', 'ago wfh want', 'agreed day asked', 'agreed days later', 'agreed know shouldnt', 'agreed like fucked', 'agreed pay damage', 'agreed really care', 'agreement fee demanding', 'ah fine fuck', 'ahead time discussed', 'ahead time distracted', 'ahead time going', 'aid perfume human', 'aids im waiting', 'ailments stemming obesity', 'aims person moment', 'aio fans plugs', 'aio fans spinning', 'aio pump plugged', 'air stopped working', 'ako sa sarili', 'alarm goes count', 'alarmed showed morning', 'alarming super uncomfortable', 'albeit upholding times', 'albeit vividly slowly', 'album eye issues', 'album random red', 'alcohol annoying intense', 'alcohol feel better', 'alcohol giving kind', 'alcohol personality change', 'alcohol want supportive', 'alcoholic abuser nonpsyical', 'alcoholic slowly ticking', 'alerts coupe days', 'alesis strike pro', 'alexander scriabin born', 'alienation recently think', 'alive buy straight', 'alive makes believe', 'alive russians knew', 'allergic reaction havent', 'allergic reaction quit', 'allergist said histamine', 'allergy basically tests', 'allow attention wander', 'allow eventually leave', 'allow work presentations', 'allowance near new', 'allowed gym corona', 'allowed hospital corona', 'allowed work home', 'allowing people meds', 'allowing sleep feel', 'alo years guess', 'alongside player weekly', 'alot end birthday', 'alot spaces cell', 'alright ive set', 'alright quite low', 'amazing best friends', 'amazing like finally', 'amazing struggling rhythm', 'amazing woman started', 'amazing year really', 'amazon case deepcool', 'amazon thought issue', 'amazon wasnt board', 'amber alerts coupe', 'ambitious trying run', 'ambulance brought main', 'ambulance called woke', 'amd catalyst control', 'amd ccc longer', 'american math competition', 'americans theyre trying', 'amounts time spot', 'amoxicillin today day', 'amsterdam possibly norway', 'ana test pcp', 'analyze crisis wasnt', 'analyze refute thoughts', 'analyzing fuels obsession', 'ancient history ap', 'andor bored times', 'andor things important', 'android device years', 'anger issues substance', 'angry days weeks', 'angry evil person', 'angry people bf', 'animals fear reactive', 'animation ones ive', 'ankle swelled experienced', 'annoyed literally personality', 'annoyed reason dont', 'annoying dealing brand', 'annoying im filled', 'annoying intense people', 'answer analyzing fuels', 'answer disability portion', 'answer im looking', 'answer questions ask', 'answer questions larger', 'answer said shoildve', 'answered disability giving', 'answers deep questions', 'answers fact googling', 'answers spirits outside', 'antagonistic shit respond', 'antec green bronze', 'antenna sure thats', 'antibiotic amoxicillin today', 'antibiotics weeks period', 'anticipating needs good', 'antidepressants feeling like', 'antidepressants ndri ssri', 'antidepressants psychiatrist said', 'antidepressants total recently', 'antihistamine doctor prescribed', 'anways went urgent', 'anxiety adhd remained', 'anxiety adhd talking', 'anxiety anxiety feel', 'anxiety apologize stop', 'anxiety attack feel', 'anxiety attacks scared', 'anxiety bad depression', 'anxiety believe ocd', 'anxiety caused svt', 'anxiety causes anxiety', 'anxiety checking bring', 'anxiety control felt', 'anxiety control lot', 'anxiety created hinders', 'anxiety creeping nights', 'anxiety cried months', 'anxiety days hits', 'anxiety denies logic', 'anxiety depression health', 'anxiety depression ive', 'anxiety depression people', 'anxiety depression stress', 'anxiety depression years', 'anxiety didnt misbehave', 'anxiety didnt particularly', 'anxiety disorders phobias', 'anxiety dont know', 'anxiety experience tldr', 'anxiety fact dont', 'anxiety feel anxious', 'anxiety feel like', 'anxiety feels gross', 'anxiety finally months', 'anxiety future able', 'anxiety getting head', 'anxiety ghosting better', 'anxiety good ass', 'anxiety health anxiety', 'anxiety heart kinda', 'anxiety heart slows', 'anxiety hope post', 'anxiety hyper focusing', 'anxiety im experiencing', 'anxiety im scared', 'anxiety im stressed', 'anxiety im trying', 'anxiety im worried', 'anxiety imposter syndrome', 'anxiety issues need', 'anxiety issues selfconscious', 'anxiety kept growing', 'anxiety kinda mind', 'anxiety literally sleep', 'anxiety long time', 'anxiety lot time', 'anxiety make feel', 'anxiety makes hard', 'anxiety medication parents', 'anxiety meds lost', 'anxiety mixed identity', 'anxiety ocd ed', 'anxiety overdrive feels', 'anxiety panic attack', 'anxiety panic attacks', 'anxiety panic disorder', 'anxiety past months', 'anxiety prevented coming', 'anxiety really affected', 'anxiety really hard', 'anxiety recently past', 'anxiety scared starting', 'anxiety shorter lasting', 'anxiety slowly creeping', 'anxiety social anxiety', 'anxiety speaking presenting', 'anxiety spoke doctor', 'anxiety started spending', 'anxiety started triggered', 'anxiety started zoloft', 'anxiety stopped months', 'anxiety surpasses feel', 'anxiety symptoms like', 'anxiety takes attention', 'anxiety talk large', 'anxiety therapist recommended', 'anxiety thinking im', 'anxiety times worse', 'anxiety wells stop', 'anxiety world long', 'anxiety years getting', 'anxietypanic attacks past', 'anxious adhd helps', 'anxious alcohol personality', 'anxious appologising try', 'anxious daily life', 'anxious day jobs', 'anxious day point', 'anxious days binge', 'anxious depressed entire', 'anxious eat feeling', 'anxious entire time', 'anxious feel like', 'anxious heart opposite', 'anxious ive heard', 'anxious kind depressed', 'anxious left fully', 'anxious like life', 'anxious minute break', 'anxious nightmare intervene', 'anxious normal actual', 'anxious person got', 'anxious personality long', 'anxious point feel', 'anxious sad situation', 'anxious slip trying', 'anxious social situations', 'anxious spend rest', 'anxious state feel', 'anxious thoughts miraculously', 'anxious time im', 'anxious tried vomit', 'anxiousstressed maybe work', 'anymore ask talk', 'anymore distractions reminds', 'anymore dont know', 'anymore dont want', 'anymore faking thoughts', 'anymore feel like', 'anymore guys think', 'anymore hell medical', 'anymore im maybe', 'anymore insurance covers', 'anymore ive long', 'anymore ive suffering', 'anymore literallysince spoken', 'anymore maybe thats', 'anymore medications spiraling', 'anymore paint creative', 'anymore realized dont', 'anymore really want', 'anymore says tell', 'anymore scares honestly', 'anymore slightly elevated', 'anymore think got', 'anymore turned stare', 'anymore want stop', 'anytime head bumped', 'anytime talk wedding', 'anyways going bigger', 'anyways heres problem', 'anyways ive noticed', 'anyways popup windows', 'anyways wanted chest', 'aorus motherboard odd', 'ap ancient history', 'ap classes honors', 'ap csp physics', 'ap lang french', 'ap modern history', 'ap research ap', 'ap research project', 'ap scholar honor', 'ap tests selected', 'ap world history', 'ap world petition', 'ap world teachers', 'apart daily stressim', 'apart dramatically academically', 'apart dry mouth', 'apart going really', 'apartment barely new', 'apartment building need', 'apartment furniture job', 'apartment nyc area', 'apartments floor total', 'apib scores world', 'apnea use cpap', 'apolgize anymore says', 'apologies advance length', 'apologies wrong im', 'apologize advance quite', 'apologize horrible shit', 'apologize kept saying', 'apologize stop getting', 'apologize text app', 'apologized listen kept', 'apologized scare away', 'apologizing tweets liked', 'app asked tinder', 'app decided stay', 'app didnt wanna', 'apparently lots people', 'appeals look soemthing', 'appear generally drier', 'appearing follicular cyst', 'appears abdomen arms', 'appears screen bios', 'apperantly low carbs', 'appetite extremely fast', 'appetite normally wake', 'apple account want', 'apples grocery store', 'application crash pc', 'application text readme', 'applied hi youd', 'applied jobs dont', 'apply ton various', 'applying jobs matter', 'appointment chance vyvanserelated', 'appointment diagnosis properly', 'appointment tomorrow additionthis', 'appointments right im', 'appologising try maintain', 'appreciate depth struggle', 'appreciate dont know', 'appreciate feedback experiences', 'appreciate help edit', 'appreciate help thanks', 'appreciate input background', 'appreciate input thanks', 'appreciated edit thanks', 'appreciated googled googled', 'appreciated honesty fast', 'appreciated subreddits follow', 'appreciated thanks advance', 'appreciation trying understand', 'apprenticeship scared fired', 'approach asked number', 'approach boss burning', 'approach coach calories', 'approach summer work', 'approaches encourage engagement', 'approaching telling needs', 'approval said life', 'apps daily things', 'apps dock isnt', 'apps help hobbies', 'appt gyno week', 'april moved april', 'april moved pay', 'april shake terrible', 'april started getting', 'april time started', 'aprox pounds timid', 'apush ap csp', 'araw sa inyo', 'araw sa lahat', 'area demogorgon slightly', 'area didnt understand', 'area doubt guy', 'area ear flushing', 'area explains russian', 'area going use', 'area issue closest', 'area like queens', 'area love hear', 'area want lot', 'areas highway crime', 'areas tools used', 'arent allowed discuss', 'arent good thing', 'arent mom sister', 'argue called mom', 'argued house technically', 'arguing alot end', 'arguing caused dominao', 'arguing decided broke', 'arguing isnt flu', 'argument ended new', 'argument remember minute', 'argument said pay', 'argument undeserving patient', 'argument wont apolgize', 'arguments bad time', 'arguments certainty fairly', 'arguments controlno fighting', 'arguments fairly quiet', 'arguments hes hit', 'arguments spurred anxiety', 'arizona protest issue', 'arm prick feeling', 'arms achey bit', 'arms alarming super', 'arms arms achey', 'arms checked mirror', 'arms flailing im', 'arms itch raised', 'arms itchy spots', 'arms legs want', 'arms overall body', 'arms poor circulation', 'arms porcelain talk', 'arms regardless intentions', 'aroun like im', 'aroused natural attempt', 'array mental illnesses', 'arrhythmia svt wearing', 'arrive work half', 'arrived talked bit', 'arrives today preparation', 'art collection literally', 'art course went', 'art degree basically', 'art glass fused', 'art hyperfixating tiny', 'art romanias best', 'art start high', 'art teacher thought', 'art therapy dont', 'article describes exercise', 'article non paid', 'artist home needle', 'artist works museums', 'artists feel like', 'artists ive waiting', 'artists place lower', 'arts considered art', 'asd feel like', 'ashamed idk looking', 'ashamed im watching', 'ashamed wanting sexual', 'aside lived life', 'ask accommodations interview', 'ask broken said', 'ask deeper question', 'ask future dream', 'ask gf tattoo', 'ask god everyday', 'ask help told', 'ask makes annoyed', 'ask medication said', 'ask money experience', 'ask point think', 'ask simply given', 'ask spoonfed build', 'ask talk adhd', 'ask talking tell', 'ask tell really', 'ask thinks romantic', 'ask wants come', 'asked account plan', 'asked expected meeting', 'asked experienced stigma', 'asked getting attention', 'asked god make', 'asked gor advices', 'asked looking hookups', 'asked lot questions', 'asked number fun', 'asked open relationships', 'asked said acted', 'asked said neuropsychological', 'asked say friends', 'asked speak adhd', 'asked stay night', 'asked tinder said', 'asked tonight wanted', 'asked turned lightly', 'asked want break', 'asking actively direct', 'asking adhd work', 'asking attention trying', 'asking case insights', 'asking cover things', 'asking cover time', 'asking feel like', 'asking focused time', 'asking friends care', 'asking general hr', 'asking know im', 'asking night going', 'asking okay asking', 'asking questions things', 'asking right moment', 'asking saying weird', 'asking share load', 'asking talked essay', 'asking things like', 'asks dont want', 'asks lot times', 'asks questions said', 'asleep days eventually', 'asleep hours later', 'asleep insurance getting', 'asleep wheel causing', 'asleep woke feeling', 'aspects life im', 'aspergers autism ocd', 'aspergers thing feel', 'aspiring femboy didnt', 'asrock micro atx', 'ass day playing', 'ass eventually time', 'ass stop thinking', 'ass talked people', 'assault id partaken', 'assault went weed', 'assaults maybe write', 'assessment decided try', 'assessment im really', 'assessment symptoms life', 'assessment week new', 'assessments year waiting', 'assests screen goes', 'asshole mean end', 'assigned school projects', 'assignment theoretically finished', 'assignments students teachers', 'associate months recently', 'associate small cyst', 'associated asked experienced', 'associates degree id', 'association apartment building', 'assume bios way', 'assume dated mobo', 'assume demogorgon ability', 'assume make difference', 'assume talked know', 'assume worst case', 'assumed stress stomach', 'assumed symptoms infection', 'assuming amd ccc', 'assuming issue guy', 'assuming refresh happens', 'asus monitor tiny', 'ate bowl cereal', 'ate corn nuts', 'ate week mark', 'atletico madrid lost', 'atm ranking course', 'atm refuse honour', 'attached hip eat', 'attached partner partners', 'attack brought higher', 'attack coach break', 'attack fears getting', 'attack kept coming', 'attack lasted like', 'attack months ago', 'attack occasional heart', 'attack shower heart', 'attack symptoms days', 'attacks anymore im', 'attacks bad ocd', 'attacks depression started', 'attacks dig tip', 'attacks dissociationdepersonalization episodes', 'attacks horrible really', 'attacks panic attacks', 'attacks past like', 'attacks real reason', 'attacks scared going', 'attacks shortness breath', 'attacks thoughts thinking', 'attacks time present', 'attacks today started', 'attempt connect server', 'attempt initiate times', 'attempt joke like', 'attempt released hospital', 'attempt rouse desire', 'attended single meeting', 'attending ted talk', 'attention adhd lol', 'attention allow eventually', 'attention asking actively', 'attention attempt rouse', 'attention beginning mutual', 'attention control awareness', 'attention directing attention', 'attention eventually leave', 'attention gets louder', 'attention guarantee remain', 'attention lands fine', 'attention leave awareness', 'attention let directing', 'attention let hover', 'attention let start', 'attention like mentally', 'attention long direct', 'attention love look', 'attention matter gentle', 'attention memory emotional', 'attention object ones', 'attention obsession remain', 'attention okay worry', 'attention said later', 'attention shift moment', 'attention span apps', 'attention started eating', 'attention suddenly stop', 'attention temporary satisfaction', 'attention tend interrupt', 'attention theyve said', 'attention thing eventually', 'attention thing trying', 'attention things concentration', 'attention told switch', 'attention trying hyperfocus', 'attention trying solve', 'attention wander passive', 'attention want paying', 'attention want stop', 'attracted like personality', 'attracted true personality', 'attractive tho wanted', 'atx mid tower', 'atx power superbiiz', 'atx superbiiz memory', 'auction websites gist', 'august places like', 'august situation happened', 'augustseptember best crops', 'australian royal commission', 'authors sculptors ranking', 'authors write memoirs', 'autism asked said', 'autism heard lots', 'autism high functioning', 'autism ocd adhd', 'autism prevent achieving', 'autism spectrum result', 'auto account monthly', 'autoimmune condition meeting', 'available advise welcome', 'available hardware whats', 'available said didnt', 'available werent far', 'average bios obviously', 'average hours sleep', 'avid art collection', 'avoid forgot wash', 'avoid happening booting', 'avoid issue risks', 'avoid slightly concerned', 'avoid statistic im', 'avoid throwing things', 'avoiding nightmares feel', 'awake hours sleep', 'awardshonors level recognition', 'aware adhd add', 'aware breath swallow', 'aware hyper aware', 'aware im hitting', 'aware small cramp', 'awareness attention okay', 'awareness attention shift', 'awareness best try', 'awareness come awareness', 'awareness control direct', 'awareness directing attention', 'awareness goal engage', 'awareness moments comes', 'awareness possible tell', 'awareness quickly little', 'awareness sort hover', 'awareness stop directing', 'awareness thought passes', 'awareness trying push', 'awareness want leave', 'away appreciated thanks', 'away attention memory', 'away feel like', 'away feeling affected', 'away felt vulnerable', 'away friends family', 'away idk like', 'away im lashing', 'away im trying', 'away job let', 'away kind thing', 'away left nasty', 'away lipstick face', 'away lot free', 'away overthinking need', 'away panic attack', 'away past anxiety', 'away sudden feeling', 'away today issues', 'away woods live', 'away years ago', 'awe legitimately examining', 'awesome doctor retired', 'awesome orchestral piece', 'awful feel insanely', 'awful feeling wasted', 'awful force fights', 'awful makes paranoid', 'awful restless exhausted', 'awful yesterday alright', 'awhile really drunk', 'awkward asking cover', 'awkward feel like', 'awkward social situations', 'awkward telling like', 'baby anymore turned', 'baby month adjusted', 'baby months old', 'baby sitting directly', 'baby waved waved', 'bachelors degree mech', 'background body count', 'background id smoking', 'background starting fights', 'backpack know sounds', 'backpacking roadtripping bustrain', 'backpackingcamping really like', 'backstory depressed got', 'backyard mushrooms heart', 'bad academically failing', 'bad anxiety im', 'bad anxiety medication', 'bad anxiety past', 'bad asking cover', 'bad began acting', 'bad bitch unlocked', 'bad breakup losing', 'bad contamination fears', 'bad day anxiety', 'bad day starting', 'bad day woke', 'bad deep wrinkles', 'bad depression currently', 'bad depression therapy', 'bad dont know', 'bad dont like', 'bad dont want', 'bad end thank', 'bad feel like', 'bad feels like', 'bad going happen', 'bad guy headshot', 'bad habits people', 'bad happening initial', 'bad health anxiety', 'bad health life', 'bad help im', 'bad im feeling', 'bad im sure', 'bad intrusive thoughts', 'bad ive seen', 'bad jobs ive', 'bad joints pain', 'bad kept overheating', 'bad know feel', 'bad know people', 'bad land girl', 'bad lasted hours', 'bad like fucking', 'bad likely reason', 'bad maybe theres', 'bad mf power', 'bad mom started', 'bad mood dont', 'bad night sleep', 'bad ocd sit', 'bad pandemic started', 'bad panic attacks', 'bad people dont', 'bad people thing', 'bad person hoping', 'bad person know', 'bad person love', 'bad person people', 'bad really want', 'bad root canal', 'bad social anxiety', 'bad spending money', 'bad started taking', 'bad struggling counting', 'bad taste mouth', 'bad thing usually', 'bad things going', 'bad things happen', 'bad ties feel', 'bad time arguments', 'bad unable eat', 'bad way causing', 'bad yes moments', 'badly dont like', 'badly dont want', 'badly looked lot', 'badly wanted young', 'bag anymore literallysince', 'bag popcorn worked', 'bags eyes slightly', 'balance fall blurred', 'balance randomly lose', 'balance work mentalphysicalsocial', 'balcony blows mouth', 'bald dude tells', 'baldness symptoms started', 'ball mind maybe', 'ball rolling im', 'ballet dancer flexible', 'ballet dancers reddit', 'banging ground hard', 'banging head arms', 'bank blocking auto', 'bank new york', 'bank work home', 'bar glass collection', 'bar gone idea', 'barb thrown ud', 'bare bones reserved', 'barely anxious normal', 'barely bed morning', 'barely color left', 'barely felt bad', 'barely functioning understand', 'barely hear anymore', 'barely middle class', 'barely new shameful', 'barely noticeable head', 'barely roommates called', 'barely sickening started', 'barely talk asked', 'barely talk meetings', 'barely talk ongoing', 'barely talk people', 'barely thrusts realizing', 'barely watch tv', 'barks hair stands', 'barracuda internal hard', 'bartender center rep', 'based box looting', 'based day cycle', 'based monetary policy', 'based prior misdiagnoses', 'based united states', 'basic adhd screening', 'basic biology facts', 'basically distract anymore', 'basically feel like', 'basically freedom possible', 'basically fucking years', 'basically good art', 'basically mental health', 'basically pushed aside', 'basically said lost', 'basically saying say', 'basically school forgot', 'basically stringribbon gauze', 'basically tests resulted', 'basically title playing', 'basically variety diarrhea', 'basket region called', 'basketball causing concussion', 'baskets spray bottles', 'batch file application', 'batch weed decided', 'bathroom didnt exercise', 'bathroom floor toilet', 'bathroom looking mirror', 'bathroom thought wouldnt', 'bathroom vague idea', 'bathroom wished like', 'baths plucking overheat', 'battery alternator loose', 'battery light came', 'battles mental health', 'bay exact spot', 'bc feel like', 'bc know im', 'bc meds new', 'bc terrified bad', 'bc weight loss', 'bcs dont want', 'beach rio janeiro', 'beacuse feel like', 'beacuse im scared', 'beads lots glue', 'bearable told bit', 'beard tortoiseshell glasses', 'bearing videos ive', 'beast im stimulating', 'beat came bed', 'beat fast svt', 'beat fasted legit', 'beat game course', 'beat hopper final', 'beat like slow', 'beat randomly pretty', 'beating hard beating', 'beating hard times', 'beating harder faster', 'beating kinda hard', 'beating maybe like', 'beating say leave', 'beating slow hard', 'beats feel like', 'beats hard fast', 'beats phases heart', 'beats station youtube', 'beats stress piss', 'bed body began', 'bed caresses cases', 'bed completely numb', 'bed fell asleep', 'bed got bit', 'bed heart rate', 'bed heart weak', 'bed hours lucid', 'bed ive exhausted', 'bed lifting thats', 'bed night trying', 'bed normal time', 'bed shopping stores', 'bed small said', 'bed thinking fucked', 'bed watch tv', 'bed zero sexual', 'bedbugs day went', 'bedbugs got bedbugsniffing', 'bedbugs partner didnt', 'bedbugsniffing dog check', 'bedroom lingerie toys', 'bedroom meditating friend', 'beds work throw', 'bedsides anxiety meds', 'beeeep hello thank', 'began acting like', 'began argue called', 'began ended went', 'began like normal', 'began slowly convulsing', 'began taking medication', 'begin hours work', 'begin mile round', 'beginning affect years', 'beginning anymore ask', 'beginning gone im', 'beginning life going', 'beginning lot sexual', 'beginning mutual completely', 'beginning saw scientist', 'beginning told adhd', 'beginning year medication', 'begins start believing', 'behavior make things', 'behavior weve moments', 'beliefs practices suggested', 'believe approaches encourage', 'believe biteshiveswhatever infected', 'believe books creepy', 'believe brenner area', 'believe experienced like', 'believe god dont', 'believe issue monogamous', 'believe know diagnosed', 'believe like ive', 'believe maybe feels', 'believe monogamous relationship', 'believe ocd idk', 'believing bioweapon manufactured', 'believing delusional conspiracy', 'bell ring minute', 'belong time attempt', 'bench felt heart', 'bench rate maybe', 'bending downwards cause', 'benefit im confused', 'benefits benefits naked', 'benefits naked cuddling', 'benefits praying scripture', 'benign polyp hiatal', 'benzodiazepines anxiety im', 'best best person', 'best buy told', 'best complete build', 'best course action', 'best crops start', 'best dad disgusting', 'best design team', 'best experienced true', 'best figure reading', 'best friend anymore', 'best friend completely', 'best friend feels', 'best friend focus', 'best friend huge', 'best friend living', 'best friend lost', 'best friend really', 'best friend tanked', 'best friend wife', 'best friend years', 'best friends amazing', 'best friends life', 'best known glass', 'best let directing', 'best movies time', 'best option better', 'best place ask', 'best place buy', 'best places losing', 'best thanks pmdd', 'best thing actually', 'best try force', 'best way explain', 'best way start', 'best worst annoyed', 'bet seeing complaints', 'better able understand', 'better actually things', 'better advantage way', 'better bet seeing', 'better diet carbs', 'better dont know', 'better feel like', 'better feel lot', 'better hospital figuring', 'better im tired', 'better know better', 'better know im', 'better left store', 'better life dont', 'better lot people', 'better mainly gaming', 'better make people', 'better maybe thats', 'better mental health', 'better mobility better', 'better moment sort', 'better paying job', 'better person feel', 'better photos personality', 'better place started', 'better recently friends', 'better relationships experience', 'better safe sorry', 'better sit idle', 'better suited plan', 'better think really', 'better tho regardless', 'better trying focus', 'better way live', 'better way make', 'beyerdynamic dt pro', 'bf atx mid', 'bf year house', 'bi good years', 'bi guy cool', 'bi right meeting', 'bible says know', 'biblical simply talking', 'bicepsunderarms thought bedbugs', 'bid wire new', 'big antenna sure', 'big aspergers thing', 'big deal feel', 'big deal im', 'big deal know', 'big deal people', 'big fan article', 'big food shortages', 'big jail cried', 'big old school', 'big plus campuses', 'big ram issues', 'big thing time', 'big things going', 'big way feel', 'bigger size flattened', 'bigger things im', 'biggest dreams problem', 'biggest fear recovery', 'biggest mistake life', 'biggest worries paid', 'billing sup told', 'bills fine arrhythmia', 'bin wondered ideas', 'binary trans person', 'binge drinking replaying', 'binge starts lying', 'biology facts end', 'biopsy results colon', 'bios control panal', 'bios got ryzen', 'bios heres example', 'bios install latest', 'bios obviously wrong', 'bios settings dont', 'bios time didnt', 'bios tried tv', 'bios update google', 'bios version dont', 'bios way havent', 'bioweapon manufactured china', 'bipolar anger issues', 'bipolar slightly known', 'bipolar syndrome mood', 'bird example say', 'bird upset explained', 'birth control placebo', 'birth control think', 'birthday august situation', 'birthday day broke', 'birthday party great', 'bit accidentally hesitant', 'bit anxious left', 'bit backpacking roadtripping', 'bit car like', 'bit desperate needy', 'bit discomfort starts', 'bit dismissive way', 'bit easier thats', 'bit higher upper', 'bit hot feverish', 'bit itchy usually', 'bit life accessible', 'bit lol smiled', 'bit looked exact', 'bit motorway milage', 'bit protractor leaves', 'bit rambly multipart', 'bit really want', 'bit sad told', 'bit sensitive stressed', 'bit shy started', 'bit started food', 'bit started talking', 'bit swollen need', 'bit tendency dream', 'bit tender outside', 'bit tender pain', 'bit timeline help', 'bit tingly feels', 'bit touchy held', 'bit wavy wavy', 'bit weird guys', 'bitch unlocked im', 'bites arms arms', 'bites counted distinct', 'bites havent seen', 'bites high hell', 'bites stomach swells', 'bites total bicepsunderarms', 'biteshiveswhatever infected im', 'blablabla replying told', 'blablabla said sad', 'black box dye', 'black pc reboots', 'black white approach', 'black white lines', 'black work trousers', 'blah blah blah', 'blah blah happen', 'blah happen really', 'blank relationship lost', 'blank said um', 'blank speak coherently', 'blank ssd way', 'blaster connect software', 'bled day longest', 'bleeding lighter usual', 'bleeding normal recent', 'bleeding stopped couple', 'bleeding today heavy', 'bleeding weeping assumed', 'blind kings truth', 'bliss godman experiencing', 'bloated day past', 'bloated didnt experience', 'bloated heavy yesterday', 'bloated usual feeling', 'bloating body retaining', 'bloating getting fast', 'bloating said rule', 'blocked ig woke', 'blocking auto account', 'blood cell count', 'blood feel like', 'blood flow left', 'blood flow noted', 'blood flow snapped', 'blood pressure feel', 'blood pressure really', 'blood pressure used', 'blood stool past', 'blood stop flowing', 'blood test apperantly', 'blood test flagged', 'bloody murder hours', 'blowers use electroform', 'blowers vasile tubi', 'blown vases online', 'blowout playing phone', 'blows mouth boom', 'blu ray player', 'blue knows interested', 'blue redorange differences', 'blurred vision severe', 'board ideas fine', 'board know feel', 'board production halted', 'board running version', 'boards friends forbid', 'bodies feels good', 'bodily response says', 'bodily symptoms changes', 'body banging head', 'body began slowly', 'body count people', 'body feel like', 'body feeling feels', 'body feels dripping', 'body feels heavy', 'body giving light', 'body im sure', 'body im vegetarian', 'body like arms', 'body like mentally', 'body like worthy', 'body literally shuts', 'body locked jaw', 'body looks like', 'body makes think', 'body painful uncomfortable', 'body panic attacks', 'body pound message', 'body react ill', 'body retaining water', 'body sexy outfits', 'body soap drug', 'body super sweaty', 'body used experience', 'body work guy', 'bones reserved slowly', 'bonuses care started', 'book anymore paint', 'book need write', 'book say actually', 'booked wedding venue', 'books creepy true', 'books games workout', 'books started looking', 'boom thats immediately', 'boom thought body', 'boost ensure naked', 'boosted took concerta', 'booster days prior', 'boot pc audio', 'boot pc finishing', 'boot ssd im', 'boot usb device', 'boot usb stick', 'booting live dvd', 'booting tarkov installed', 'booting usb going', 'booting usb stick', 'booze think diet', 'bordering packages combined', 'borderline personality disorder', 'borderline suiiiicedde thoughts', 'bore size okay', 'bored dont know', 'bored feel like', 'bored remember going', 'bored times satisfying', 'boredom job general', 'boring feel like', 'boring long sort', 'boring work bad', 'born blowers use', 'born male causes', 'born today im', 'born weeks champ', 'boss burning bridges', 'boss coming minutes', 'boss finished work', 'boss ive really', 'boss like dont', 'boss told great', 'bosses complain performance', 'bosses workers today', 'bossing ocd unhelpful', 'boston northeast really', 'botched nosejob say', 'bother appreciated honesty', 'bother havent gotten', 'bothered battles mental', 'bothered reason ring', 'bothering dont know', 'bottle tools glass', 'bottle wasnt prescribed', 'bottles old electrical', 'bottles water pool', 'bought brother pro', 'bought gigabit internet', 'bought massive dracaena', 'bought subscription coding', 'bowel movements diarrhea', 'bowie prince type', 'bowl cereal got', 'box looting game', 'box looting imo', 'boxes fine imo', 'boxes horde type', 'boxes need omitted', 'boxes right given', 'boxes various breedject', 'boyfriend girlfriend care', 'boyfriend legs kicking', 'boyfriend months lost', 'boyfriend smoking weed', 'boyfriend year deeply', 'bpd anxiety cried', 'bpd eventually met', 'bpd feel like', 'bpd huntingtons bipolar', 'bpd know wrong', 'bpd normal wrong', 'bpm possibly lessen', 'bpm way measuring', 'brain brain like', 'brain doesnt work', 'brain enjoy cuddling', 'brain excited used', 'brain feels like', 'brain fog feel', 'brain gets bored', 'brain got really', 'brain like im', 'brain like remember', 'brain says drink', 'brain wired differently', 'brain wont let', 'brain works ask', 'brain works differently', 'brain works says', 'brain wouldnt accept', 'brainlock jeffrey schwartz', 'branch state outside', 'branches want texture', 'brand new lease', 'brand new motherboard', 'brand new situation', 'brands looking personal', 'bread basket region', 'break completely remain', 'break feeling way', 'break gel stuff', 'break getting stomach', 'break interviewers multiple', 'break law fine', 'break met person', 'break necks bad', 'break said agreed', 'break skin like', 'break skin think', 'break skin tho', 'break start making', 'break subsided felt', 'break year covid', 'breakdown eyes hate', 'breakdown hell past', 'breakdown months anxiety', 'breakdown typeitemprice cpu', 'breakfast day eat', 'breakfast hungry couple', 'breakfast lie feel', 'breakfast like literally', 'breakfast morning think', 'breaks anxiety started', 'breaks crying shaking', 'breaks shuts feeling', 'breakup caused misunderstanding', 'breakup little months', 'breakup losing friends', 'breast cancer pgf', 'breast milk bottle', 'breast nipple frustrating', 'breast pump old', 'breath case er', 'breath fresh air', 'breath heart races', 'breath sensitivity light', 'breath slows like', 'breath swallow usually', 'breathe trying control', 'breathing leads trying', 'breathing swallowing hyper', 'breathing think start', 'breedject pokémon trying', 'breedjects wegg moves', 'brenner alive makes', 'brenner alive russians', 'brenner area doubt', 'brenner escaped caught', 'brenner got killed', 'brenner got talk', 'brenner potentially wills', 'brenner tell secrets', 'brenner works russians', 'brick like past', 'bricking systems trying', 'bridges thinking asking', 'brief description math', 'briefly hurt past', 'bright future ahead', 'bright reflects lot', 'bring like constantly', 'bring loving mother', 'bring peace moer', 'bring strangers animals', 'bring use search', 'brings hardly pleasure', 'brings plant end', 'bringsme enjoyment anymore', 'broke able closure', 'broke months men', 'broke slap headphones', 'broke usually arguments', 'broken barely functioning', 'broken dumb pretends', 'broken edit nzxt', 'broken effect dysregulated', 'broken im burden', 'broken said yes', 'broken theyll make', 'bronners hemp body', 'bronze certified atx', 'brood day people', 'brood like points', 'brother bipolar syndrome', 'brother came said', 'brother fucked horribly', 'brother hes literally', 'brother married drive', 'brother pro combination', 'brother ready yeah', 'brother tossing basketball', 'brother works says', 'brothers friends refer', 'brought heart rate', 'brought higher idk', 'brought main floor', 'brown foamy times', 'brown identical red', 'brownie threw stayed', 'brownies roommates half', 'bruises fell lost', 'bt phone calls', 'btw sorry english', 'btw things got', 'bucket handle tear', 'bucks princeton area', 'buddy help hard', 'budget arts considered', 'budget ballpark okay', 'budget feel comfortable', 'budget local currency', 'budget rn cheapest', 'budget seeing whats', 'bug messes vram', 'bug started working', 'bug stomach feels', 'build admit im', 'build buddy help', 'build details better', 'build far hdd', 'build guys helped', 'build helpready read', 'build love peeling', 'build pc medical', 'build quality performance', 'build quality touchscreen', 'build read rules', 'build right finished', 'build specific parts', 'build thought bearable', 'build welcome delete', 'builders accepted bid', 'building grow house', 'building need pay', 'building reference brown', 'building solid relationship', 'built ive minor', 'built simply hdmi', 'bullet journaling classwork', 'bullshit office drama', 'bullshitting idea im', 'bullshitting pretending im', 'bullsht complete cancellation', 'bump inside right', 'bumped grade daily', 'bumper damage thought', 'bumper fixed fraction', 'bumper traffic pulled', 'bumper werent available', 'bumpertobumper traffic matter', 'bunch chest love', 'bunch stories people', 'bunch symptoms think', 'bunch tests came', 'burning bridges thinking', 'burnout seen nhs', 'buses connect city', 'business big picture', 'business legal working', 'business like passive', 'business way right', 'bust left uni', 'busted got skill', 'bustrain ive europe', 'busy college busy', 'busy friends games', 'busy main road', 'busy thinking worst', 'busy videos games', 'busy work people', 'butt end jokes', 'butter measuring super', 'button cpu fan', 'button doesnt work', 'button light comes', 'buy able hook', 'buy drinks time', 'buy game solely', 'buy morning im', 'buy new pc', 'buy old milage', 'buy told purchase', 'buying new switch', 'cabergoline times week', 'cable food house', 'cable tray wanted', 'cabling gpu happens', 'cadvideo editingphoto editinggaming', 'caffeine feel like', 'cake decorator sick', 'calc ab ap', 'calculator java decided', 'called ambulance brought', 'called answer said', 'called crap today', 'called gdamn days', 'called goodamazing period', 'called got hold', 'called grain agriculture', 'called liar care', 'called liar told', 'called mind saw', 'called mom mom', 'called pocket grass', 'called things like', 'called woke hospital', 'calling bank blocking', 'calling cousin accused', 'calling dumping ground', 'calling hung called', 'calling isp dumping', 'calling lips shut', 'calling mind time', 'calling opened mouth', 'calm say urgent', 'calm screaming heels', 'calmed like mins', 'calmed like minute', 'calms brain enjoy', 'calorie bag popcorn', 'calorie count uptake', 'calories day workout', 'calories month hoping', 'calories protein macros', 'calprotectin level elevated', 'cam program suddenly', 'cam software stopped', 'camd folder installed', 'came bed heart', 'came benefits praying', 'came benign polyp', 'came bi right', 'came bullsht complete', 'came car ran', 'came check convulsions', 'came clear day', 'came entirely sure', 'came failed went', 'came food thinking', 'came head pocket', 'came heard looked', 'came heard song', 'came heart calmed', 'came home pm', 'came home said', 'came home sex', 'came im year', 'came like minutes', 'came mixed allowed', 'came ngml bit', 'came reasonable maxed', 'came said called', 'came said leaving', 'came started period', 'came suggestions need', 'came told looking', 'came told update', 'came twice clothes', 'cameras ive trying', 'campaign catch think', 'campus feared happen', 'campuses near city', 'canaan cursed instead', 'cancel pland change', 'cancel right provide', 'cancellation fee receive', 'cancellation form cancelling', 'cancellation request told', 'cancelled multiple weeks', 'cancelling outside contract', 'cancelling refund request', 'cancelling said proof', 'cancels day worked', 'cancer bc weight', 'cancer dementia excess', 'cancer melanoma rare', 'cancer noticed month', 'cancer pgf colon', 'candy gets painful', 'candy high fat', 'cap theres room', 'capable feeling depth', 'capable really truly', 'capable wanting bad', 'capture attention attempt', 'captured brenner potentially', 'car accident low', 'car allowance near', 'car anxious day', 'car apartment furniture', 'car begin mile', 'car decided quote', 'car drove home', 'car fixed mainly', 'car guy house', 'car heated argument', 'car hot fuck', 'car ill fair', 'car im really', 'car insurence phone', 'car like ish', 'car low dips', 'car mechanic morning', 'car overthinking overthinking', 'car parking lots', 'car ran idled', 'car signal wrong', 'car suitable leave', 'car unlocked parking', 'car use company', 'carbs fat sugar', 'carbs fats fruits', 'card months xbox', 'card pay immediately', 'card ready treat', 'card zotac geforce', 'cardio phobia little', 'care bother appreciated', 'care called liar', 'care considering texting', 'care dont know', 'care dont want', 'care exist struggling', 'care feel like', 'care feeling common', 'care friends probably', 'care know believe', 'care listened ecg', 'care need focus', 'care night sad', 'care people think', 'care perfectly doesnt', 'care physician prescribed', 'care remember later', 'care said yes', 'care saying telling', 'care started school', 'care talked men', 'care visit felt', 'career doesnt involve', 'career im currently', 'career involve coding', 'career shift bachelors', 'career wise im', 'careers im interested', 'careful thc cut', 'carefully brownies roommates', 'carelessly sleep people', 'caresses cases cuddle', 'caring father wouldnt', 'carpentry apprenticeship scared', 'carry week researched', 'cars paid minimum', 'case climbs assuming', 'case content triggers', 'case core temp', 'case days fractal', 'case deepcool tesseract', 'case er currently', 'case fan cooler', 'case got overpowered', 'case idea dentist', 'case insights share', 'case issue havent', 'case like stress', 'case looked desktop', 'case mimics entire', 'case new monitor', 'case pocketed called', 'case radeon gpu', 'case scenario thinking', 'casepcpartpickercompartdeepcoolcasetesseractbf newegg power', 'cases cuddle naked', 'cases wasnt prepared', 'cash rewards visa', 'casual player lang', 'casual things said', 'casual went uncomfortable', 'casuals leave way', 'cat scratches wickspackings', 'catalyst control center', 'catastrophize fear heart', 'catch letting dog', 'catch think cater', 'catches happened thought', 'categories ive got', 'cater new players', 'caucasian symptoms started', 'caught covid bug', 'caught guard dont', 'caught lie went', 'caught russians fat', 'cause didnt know', 'cause dont like', 'cause dysphoria didnt', 'cause im getting', 'cause im moderately', 'cause life know', 'cause like love', 'cause longterm effects', 'cause really demoralizing', 'cause static damage', 'cause temporary dysphoria', 'cause tiring thought', 'cause weight gain', 'cause weight loss', 'caused blood stop', 'caused body pound', 'caused dominao effect', 'caused life entered', 'caused lot muscle', 'caused neuropathy taking', 'caused pain miss', 'caused revisions changes', 'caused svt type', 'causes anxiety good', 'causes lot stress', 'causing concussion right', 'causing diarrhea heart', 'causing pileup dangerous', 'causing stop watching', 'causing stress anxiety', 'cave dwellers prepared', 'caved agreed know', 'cb policies products', 'cbd balcony blows', 'cbd hemp flower', 'ccc longer software', 'ccleaner installed windows', 'celebrating scriabmas quotes', 'celiac disease gastroparesis', 'celiacs chrohns ibs', 'cell phone week', 'cell way make', 'cells colon mast', 'cells currently think', 'cells exact size', 'cells kinda look', 'cement modge podge', 'center employee told', 'center installed really', 'center motherboard asrock', 'centered heart today', 'centre attention tend', 'centre drive grandmothers', 'cereal got uncomfortably', 'ceremony feel personal', 'ceremony finding online', 'certain cases wasnt', 'certain games want', 'certain heart attack', 'certain hobbies nature', 'certain stress dont', 'certain types addadhd', 'certain types pain', 'certainty fairly minor', 'certified atx power', 'cfa level november', 'chair entire day', 'challenge motivation worse', 'challenge worked team', 'challenges life romantic', 'challenges time doesnt', 'champ nursing weeks', 'chance brenner works', 'chance eventually seeing', 'chance mean probably', 'chance new costs', 'chance vyvanserelated know', 'chances wont let', 'chanel miller point', 'change actually fix', 'change course people', 'change decision interested', 'change department sure', 'change dont want', 'change gender marker', 'change im hyper', 'change im unsure', 'change like say', 'change plan better', 'change providers cancellation', 'change things peaking', 'change weight training', 'changed case days', 'changed colour feel', 'changed diet dramatically', 'changed felt amazing', 'changed nervous worried', 'changed new brain', 'changed person fucked', 'changed ram configs', 'changed supposed leave', 'changed year old', 'changes ap world', 'changes immediately assume', 'changes leading creation', 'changes seeking private', 'channel chillhop music', 'chaos suggestions helpful', 'chaotic energy levels', 'chaotic holds version', 'character achievement bad', 'character logical thing', 'charge fraud ive', 'charges reporting months', 'charity shop accept', 'charity shop rags', 'chart cut zoomed', 'chat friend half', 'chat peps stuff', 'chat sat awe', 'cheap like ram', 'cheap wasnt trying', 'cheaper feel guilty', 'cheapest breaking bank', 'cheating way motivation', 'check bedbugs day', 'check blood pressure', 'check comment comment', 'check convulsions rest', 'check google doesnt', 'check make sure', 'check studies verify', 'check things therapist', 'checked bios settings', 'checked blood pressure', 'checked mirror saw', 'checked phone guy', 'checked wires battery', 'checking bring like', 'checking clock hours', 'checking known compulsive', 'checking lowest measured', 'checking savings unsure', 'checking vast majority', 'cheek fever symptoms', 'cheek fingers holding', 'cheeks bit tender', 'cheering suddenly negative', 'chem apib scores', 'chem macro seminar', 'chemicals lol option', 'chest calm screaming', 'chest feels like', 'chest gets tight', 'chest love chat', 'chest maybe close', 'chest pain feel', 'chest pain im', 'chest pain loss', 'chest pain past', 'chest started hurt', 'chewing molars rash', 'child bothered battles', 'child loved flipping', 'child mom stress', 'child naughty child', 'child point years', 'child shes recommended', 'child stop crying', 'childhood issues feel', 'children age regularly', 'children entered country', 'children family history', 'chill gamingstudy beats', 'chillhop music song', 'chilling music weed', 'chillsshakes recently noticed', 'chime career doesnt', 'china risk crashing', 'china yes china', 'chinese ink tattoo', 'choices break completely', 'choices trying eating', 'choking throwing ears', 'choose local drs', 'choose taking medication', 'chores certain hobbies', 'chosen parametric criteria', 'christian university professor', 'christmas break getting', 'christmas break subsided', 'christmas day pm', 'christmas im celebrating', 'christmas year ended', 'chrohns ibs ibd', 'chunky really needed', 'church paying tithes', 'cia theyre trying', 'cig smoked weed', 'cinabench gpu stress', 'circle focus brain', 'circles problem tldr', 'circulation hands painfulitchy', 'circulation isnt strong', 'circulation issues hands', 'circus extremely anxious', 'cis tattoo wait', 'cities explore order', 'city city commuter', 'city commuter rail', 'city developed years', 'city great long', 'city guys make', 'city jobs live', 'claim using service', 'claimed person guess', 'claiming im prophet', 'claims mentioned knew', 'class embarrassing stomach', 'class feel like', 'class rank ap', 'class reason guess', 'class school solely', 'class started trying', 'class sure exact', 'classed thing different', 'classes adult want', 'classes calc ab', 'classes cheating way', 'classes good assignments', 'classes honors satact', 'classes im finishing', 'classes really want', 'classes retake lost', 'classic crushes invited', 'classic theories fact', 'clean cpap month', 'clean decent clothing', 'clean health bills', 'clean initiative opened', 'cleaning anticipating needs', 'cleaning panoramic xray', 'cleanser morning night', 'clear agreed like', 'clear beads lots', 'clear coat liquid', 'clear dating fun', 'clear day released', 'clear daylight hour', 'clear happened lack', 'clear head ifwhen', 'clear love hear', 'clearly people need', 'click onei idea', 'click slot dont', 'climb flight stairs', 'climbs assuming refresh', 'clinical mental health', 'clip russians start', 'clock good condition', 'clock hours left', 'clone ive completely', 'clonodine certain types', 'clonodine conjunction stimulant', 'close acquaintances like', 'close apps dock', 'close bpm way', 'close family members', 'close friends family', 'close friends know', 'close friends love', 'close friends maybe', 'close high school', 'close kiss girl', 'close leaving meeting', 'close pain says', 'close spend day', 'closed eyes started', 'closed maybe half', 'closest commute boss', 'closest friends like', 'closest friends tripping', 'closest guess accessory', 'closure fact got', 'closure killing tldr', 'cloth wont crumble', 'clothes clearly people', 'clothes left idk', 'clothes paid rent', 'clothes told wear', 'clothing hope items', 'clothing local charity', 'clothing suitable resale', 'club competitive club', 'club met group', 'clubs student interaction', 'clue app didnt', 'clumsy gun piercings', 'clunking shaking happening', 'cmses tried overrideall', 'coach calories protein', 'coast looking huge', 'coat iodine silver', 'coat liquid totally', 'coats sturdy shoes', 'cocaine fet idk', 'code ign like', 'code sounds crazy', 'coding coding interview', 'coding interview suggestions', 'coding interview weeks', 'coding interviews unable', 'coding service refresh', 'coding trying brainstorm', 'coffee drinker years', 'coffee drive home', 'coffee kicked pitfalls', 'coffee make jittery', 'coffee need ounce', 'coffee sugar packet', 'coffee thing motivate', 'coffee use bathroom', 'cognisant felt tried', 'coherently feel like', 'coincidence bad day', 'coincidence bit started', 'coincidence receive pfizer', 'coincidence work timing', 'colchicine nsaid interfere', 'cold circulation isnt', 'cold showers exercise', 'collapse extremely fast', 'collapses best friends', 'collar jobs dont', 'colleague said opposite', 'colleagues team experienced', 'collect giving clean', 'collected music color', 'collection hours night', 'collection literally mention', 'collections world mr', 'college bust left', 'college busy friends', 'college campus feared', 'college degree hobby', 'college didnt know', 'college drop semester', 'college feedback cb', 'college feel like', 'college finished strong', 'college friends got', 'college going online', 'college im addict', 'college im btw', 'college live parents', 'college national french', 'college struggle lot', 'college struggling grades', 'college took break', 'college tried hold', 'collegeboard officials students', 'collegeboard youth advisory', 'colleges classes retake', 'colon cancer melanoma', 'colon mast cells', 'colon showed elevated', 'colonoscopy endoscopy stool', 'colonoscopy endoscopy thing', 'colonoscopy heart rate', 'color aid perfume', 'color flow duplex', 'color left ovary', 'color lighter typical', 'colossal failure weight', 'colouring play games', 'combination ryzen pretty', 'combined finances feel', 'combined talked hiring', 'combined type adhd', 'combinedtype people say', 'come asked stay', 'come awareness attention', 'come broken barely', 'come close leaving', 'come collect giving', 'come companies straight', 'come days minutes', 'come end allowed', 'come finances dating', 'come gone good', 'come home notice', 'come home sleep', 'come im funny', 'come like claimed', 'come like weeks', 'come long time', 'come lot worse', 'come point know', 'come point want', 'come pulled work', 'come really needy', 'come say like', 'come shitty family', 'come terms fact', 'come things time', 'come think white', 'come true compared', 'comes available hardware', 'comes awareness possible', 'comes bpd normal', 'comes crippling anxiety', 'comes fact im', 'comes house try', 'comes making new', 'comes mind life', 'comes ram lights', 'comes right ear', 'comfortable kept saying', 'comfortable meeting new', 'comfortable spending combined', 'comfortable talking mental', 'comforting helping regulate', 'comics peacemaker halfturned', 'coming alive ad', 'coming anytime talk', 'coming feel like', 'coming going days', 'coming instead vice', 'coming interview trying', 'coming like mins', 'coming minutes kinda', 'coming months really', 'coming purpose sit', 'coming suicide attempt', 'coming ted talk', 'coming wondering thinks', 'comment comment pissing', 'comment feel like', 'comment pissing antagonistic', 'comment saying people', 'comment vibe comment', 'commentary recommendations regarding', 'commented couple posts', 'commented snapchat story', 'comments pack pack', 'commitments feel like', 'committing talk future', 'common adhd meds', 'common prescribers issue', 'common question people', 'common sickness parents', 'common theories regarding', 'communicate confidently mother', 'communicated collegeboard officials', 'communicating people told', 'communication feel like', 'communication point tried', 'community college im', 'community college live', 'community college taking', 'community going shrink', 'commute boss ive', 'commute commute spent', 'commute spent highway', 'commute unstimulating workday', 'commute way twice', 'commuted company occurred', 'commuter rail arrive', 'commuters make trek', 'companies like kz', 'companies straight giving', 'companies wanted work', 'company car ill', 'company contracted job', 'company doesnt pay', 'company dumping ground', 'company girlfriend sit', 'company got exchanging', 'company im master', 'company ive thought', 'company job located', 'company manufactures sells', 'company months hired', 'company occurred day', 'company people work', 'company scam thoughts', 'company spoke highly', 'company structured game', 'company terrible experiences', 'company thought going', 'company worked letting', 'compare pain felt', 'compared blood flow', 'compared people years', 'compared types didnt', 'comparison wall ones', 'compatible processor ryzen', 'competed regional math', 'competes american math', 'competition cia theyre', 'competitions september march', 'competitive club met', 'competitive feeder school', 'complain bed ive', 'complain considering calling', 'complain performance feel', 'complained quiet traveling', 'complains hogging conversation', 'complete build buddy', 'complete burnout seen', 'complete cancellation form', 'complete destroyed selfesteem', 'complete strangers know', 'complete technical portion', 'complete technical problem', 'completed high school', 'completely blank speak', 'completely breaks crying', 'completely changed person', 'completely claim using', 'completely different person', 'completely different way', 'completely dropped floundering', 'completely exhausted skateboarded', 'completely fucked march', 'completely gender bad', 'completely gone dark', 'completely ive mentally', 'completely lock panic', 'completely lose filter', 'completely lost area', 'completely lost focus', 'completely lost right', 'completely numb like', 'completely refrain engaging', 'completely remain friend', 'completely stopped initiating', 'completely taking conversations', 'completely tied communication', 'completely unresponsive ambulance', 'complex cyst pain', 'compliment told attractive', 'compliments happy students', 'components shipped getting', 'composers authors sculptors', 'composers christmas im', 'compressor didnt trying', 'comprised typical honeymoon', 'compulsive mental checking', 'compulsive rumination article', 'concentrate class started', 'concentrate im able', 'concentrate increases thoughts', 'concentrate medication therapist', 'concentrate tasks distracted', 'concentrate telling forgetting', 'concentrating adhd anxiety', 'concentrating wasnt intrusive', 'concentration mean trying', 'concentration overthink stutter', 'concept adhd fit', 'concept struggling matter', 'concept worker alienation', 'concern coworker mom', 'concern normal age', 'concerned booting usb', 'concerned declining health', 'concerned dont lot', 'concerned money wouldnt', 'concerned mother isnt', 'concerned overall impact', 'concerning events happened', 'concerning normal heart', 'concerning shortest cycle', 'concerns factions link', 'concerns feel like', 'concerta antidepressants psychiatrist', 'concerta got really', 'concerta lexapro anxiety', 'concerta weeks ago', 'conclude hour day', 'concluding adhd crippling', 'conclusive biopsy results', 'conclusive currently think', 'concretely positive hold', 'concussion right got', 'concussions anytime head', 'condition cardio phobia', 'condition meeting rheumatologist', 'condition paired steroids', 'condition sensible buy', 'condition sensible initially', 'conditions colleague said', 'conditions especially regarding', 'conditions policy action', 'confidence guy solved', 'confidence issue reason', 'confident need constantly', 'confident powderhouse years', 'confidently mother sister', 'configs issue ram', 'confirmatio email shortly', 'confirmation gamespot im', 'confirmed accept ideas', 'confirmed added toxins', 'conflict townsfolk spent', 'confronted told idc', 'confused assume talked', 'confused delete camd', 'confused heard calling', 'confused hurt dont', 'confused ive looked', 'confused kept telling', 'confused seeking insights', 'confused takes paci', 'confusing remembered way', 'confusing theres apartments', 'congestion using dentist', 'congestive heart failure', 'conjunction stimulant help', 'connect city city', 'connect disgusted carelessly', 'connect server loading', 'connected email access', 'connected internet know', 'connected theyre light', 'connected world anymore', 'connecting people im', 'connecting sexually emotional', 'connection feels like', 'connection intimate connection', 'connection look like', 'connection package ive', 'connection provider scamsrus', 'connection remote access', 'connection types usb', 'connections left galahad', 'connector cpu fan', 'connector pin cpu', 'consciously example ill', 'consciousness organism points', 'consent injustice spreads', 'consequences thinking twice', 'consider depression anxiety', 'consider formatting parts', 'considered art therapy', 'considered legit disability', 'considered self harm', 'considering calling bank', 'considering left school', 'considering ordering lock', 'considering played online', 'considering texting clear', 'consistent finishes team', 'consistent routine good', 'consisting strings graphical', 'console time wants', 'consoles im tech', 'consoles nes snes', 'conspiracy theories theories', 'constant anxiety checking', 'constant distress told', 'constant dysfunction sensory', 'constant said know', 'constant state anxiety', 'constant state stress', 'constantly ask talking', 'constantly dropping example', 'constantly feel like', 'constantly filing head', 'constantly fluctuating like', 'constantly takes turns', 'constantly walking mess', 'constipated reason im', 'construction houses thing', 'consultation job interview', 'consume plenty fruits', 'consumed edibles edibles', 'consumed specific strain', 'contact higher power', 'contact want treat', 'contacts talk secret', 'contamination fears getting', 'content dont know', 'content fine high', 'content kept busy', 'content triggers comment', 'content wake like', 'contents stomach moving', 'context question cycle', 'context sure lot', 'continue hang introduces', 'continue journey freedom', 'continued therapy different', 'continuously lose weight', 'contract agreement fee', 'contracted job saying', 'contracting business legal', 'contractor work recruiting', 'control awareness control', 'control beats stress', 'control breathing leads', 'control center installed', 'control day manually', 'control direct attention', 'control experiments competition', 'control feel like', 'control felt like', 'control lot arguments', 'control making want', 'control mind beast', 'control monday speak', 'control muscles eyelids', 'control panal shows', 'control panel thought', 'controlno fighting lot', 'convenient finding place', 'conversation app asked', 'conversation going eventually', 'conversation talking husband', 'conversation wont let', 'conversations budget feel', 'conversations especially going', 'conversations interrupting people', 'conversations ive held', 'conversion disorder fnd', 'converter aorus motherboard', 'convince buy drinks', 'convinced going die', 'convinced im ovulating', 'convinced luteal phase', 'convulsing bed hours', 'convulsing strong electric', 'convulsions rest body', 'convulsive therapy lost', 'cooking food know', 'cookout suppose wind', 'cookout worker met', 'cooks eat asks', 'cool guy sure', 'cool hang takes', 'cool interesting anxiety', 'cooler master sickleflow', 'cooler ram nvme', 'cooper went regassed', 'cope anxiety literally', 'cope long complete', 'cope putting getting', 'cope taught easily', 'coping mechanism let', 'coping mechanisms know', 'coping skills social', 'cops passed restricting', 'cops person said', 'cord monitor pc', 'core dualcore micro', 'core temp thermals', 'corn nuts salty', 'corner started talking', 'corners come pulled', 'corners eyes itch', 'corona believing bioweapon', 'corona mind restrictions', 'corona month later', 'corona time took', 'corona volunteer hours', 'corporate jobs actually', 'corporate structure theres', 'corporation bank work', 'correct way check', 'correctly start dad', 'corsair gaming keyboard', 'corsair ram booting', 'corsair ram ended', 'corsair ram rtx', 'corsair ram thought', 'cost bordering packages', 'cost distributers distributers', 'cost health money', 'cost sides play', 'costume needs snow', 'couch eat dinner', 'council communicated collegeboard', 'counseling pretty good', 'counselor requested therapy', 'counselors ive gone', 'counselors seen various', 'count calories month', 'count days till', 'count people sex', 'count people slept', 'count uptake workout', 'counted distinct bites', 'counterbalance effects sitting', 'counting albeit upholding', 'countries ap world', 'countries cities explore', 'country needed learn', 'country purchase use', 'country purchasing parts', 'country shits giggles', 'coupe days ago', 'couple baby sitting', 'couple dates date', 'couple days ago', 'couple days days', 'couple days doctor', 'couple days feel', 'couple days ive', 'couple days panting', 'couple hours ago', 'couple hours couple', 'couple hours ended', 'couple hours later', 'couple minutes ago', 'couple months ago', 'couple months comprised', 'couple months feeling', 'couple months ive', 'couple months later', 'couple months pretty', 'couple months seeing', 'couple months super', 'couple months wants', 'couple noticeable marks', 'couple posts didnt', 'couple relationships year', 'couple relays morning', 'couple times night', 'couple times past', 'couple times week', 'couple visits like', 'couple weeks ago', 'couple weeks feel', 'couple weeks ive', 'couple weeks moving', 'couple weeks reason', 'couple years ago', 'couple years wasnt', 'course care remember', 'course caught guard', 'course cut half', 'course fighting teams', 'course im saying', 'course paying large', 'course people facing', 'course rigor class', 'course theyre going', 'course went uni', 'courses lax suffered', 'courses pursue graduate', 'courtesy car heated', 'courts toss ball', 'cousin accused talking', 'cousin supposed say', 'cousin went calling', 'cover doesnt sit', 'cover things invoices', 'cover time wedding', 'covering prehistory ap', 'covering things dont', 'covers dates despite', 'covers popular brands', 'covid bad know', 'covid bug started', 'covid felt like', 'covid hit years', 'covid months ago', 'covid particularly feeling', 'covid reason absences', 'covid second time', 'covid shit got', 'covid time periods', 'coworker mom saying', 'coworkers really nice', 'cpap machine prediabetes', 'cpap month overdue', 'cptsd depression anxiety', 'cptsd ocd schizoaffective', 'cpu cooler ram', 'cpu fan power', 'cpu fan starts', 'cpu fixes issue', 'cpu gpu stress', 'cpu gtx gpu', 'cpu intel core', 'cpu mean starting', 'cpu mobo need', 'cpu power connector', 'cpu ram mobo', 'cpufan aio pump', 'cpuopt picture exhaust', 'cpuz detects im', 'craigslist trinitron tv', 'cramp body makes', 'cramping lower abdomen', 'crap today gaslighting', 'crash pc shutdown', 'crash road day', 'crashing economy media', 'crazy expensive wanted', 'crazy feel like', 'crazy feel numb', 'crazy rich person', 'crazy symptoms majority', 'crazy traffic im', 'crazy want right', 'cream extremely painful', 'create bit timeline', 'create brand new', 'create pains knows', 'create presentation federal', 'created hinders thought', 'creating fake frozen', 'creating htaccess thing', 'creation ap ancient', 'creative agencies house', 'creative barely watch', 'credence especially id', 'credit card debt', 'credit card pay', 'credit card used', 'credit sanction money', 'credit scene likely', 'credit score eligible', 'creeping feels like', 'creeping nights panic', 'creepy true ghost', 'crickets job thats', 'cried months really', 'cried parking lot', 'cried said wanted', 'crime manage reach', 'cringing make heads', 'crippling anxiety adhd', 'crippling considered legit', 'crippling social anxiety', 'crisis able concentrate', 'crisis wasnt concentrating', 'criteria generated pcpartpickerpcpartpickercom', 'critical level error', 'critical ones restarted', 'crohn disease celiac', 'crop ideas want', 'crop kick augustseptember', 'crops start growing', 'crosses fingers paid', 'crossposted different places', 'crossposted mental illness', 'crossposted yall need', 'crumble supposed temporary', 'crumble wipe got', 'crush bit started', 'crush high school', 'crushed clear beads', 'crushes invited picked', 'crying felt bad', 'crying immediately stopped', 'crying making eyes', 'crying mom scream', 'crying saw telepathy', 'crying shaking saying', 'csection weeks severe', 'csp physics self', 'ct scan abdomen', 'cuddle naked lot', 'cuddled night morning', 'cuddling believe monogamous', 'cuddling doesnt need', 'cuddling know cuddling', 'cuddling says calms', 'cuddling suppose enjoy', 'cuddling working hard', 'culture feel like', 'cunt motivation left', 'cup coffee need', 'cups coffee day', 'curb years ago', 'curious neurodivergent kidtween', 'currency country purchase', 'currency long term', 'current build gtx', 'current city guys', 'current hrs atm', 'current job feel', 'current macroeconomic conditions', 'current plan obviously', 'current price case', 'current price chance', 'current psychiatrist used', 'current specs cpu', 'currently board running', 'currently cake decorator', 'currently credit card', 'currently dont study', 'currently eat calories', 'currently floor staircases', 'currently friday live', 'currently going bad', 'currently like hunt', 'currently look like', 'currently looking new', 'currently think possible', 'currently trying doctors', 'currently wewdigihdmi switch', 'currently working electrical', 'currently working jobs', 'cursed instead ham', 'cursed surrounded peers', 'curve factions fact', 'customer service exp', 'customers sent issues', 'customers talking woes', 'cut gluten diet', 'cut half gained', 'cut months later', 'cut zoomed parts', 'cute stuff friend', 'cuts clumsy gun', 'cuz considered self', 'cuz kept freaking', 'cuz mu friends', 'cuz thats thing', 'cyberpunk old cpu', 'cycle bleeding normal', 'cycle days longest', 'cycle everyday feeling', 'cycle late cycles', 'cycle timeline startedchanged', 'cycle today sure', 'cycles pretty irregular', 'cyst complex cyst', 'cyst located right', 'cyst misinterpreted actually', 'cyst pain close', 'cysts lesions tumors', 'da bin ich', 'da vinci mini', 'dad approval said', 'dad disgusting rude', 'dad feel like', 'dad gotten really', 'dad makes money', 'dad mom split', 'dad partner moving', 'dad passed away', 'dad past week', 'dad pays car', 'dad really pissed', 'dad step mom', 'dad thinks im', 'dads super adhd', 'daily drink sleep', 'daily journaling good', 'daily life feels', 'daily mind knew', 'daily panic attacks', 'daily player send', 'daily routine im', 'daily stress pain', 'daily stressim years', 'daily suicidal thoughts', 'daily things daily', 'daily thoughts ending', 'daily urgent times', 'dairy days ago', 'daisy chain cable', 'daisy chained fans', 'damage mobo plugged', 'damage prefer insurange', 'damage theres unique', 'damage thought refuses', 'damage told friend', 'damaged life left', 'damn bad land', 'damn good fell', 'damn right gross', 'dance people disabilities', 'dancer flexible mesmerized', 'dancer think help', 'dancers reddit late', 'dang stiff place', 'dangerous highway home', 'dangerous highway state', 'dangerous level normally', 'dangerous virus panic', 'dark right im', 'dark social media', 'dark time life', 'date ask medication', 'date clear dating', 'date comes available', 'date cursed surrounded', 'date meet people', 'date referral area', 'date start things', 'date supposed couple', 'dated ex lightheartedly', 'dated mobo cpu', 'dates date clear', 'dates despite offering', 'dates going lot', 'dating fun want', 'dating know felt', 'dating met talked', 'dating usually covers', 'daughter feel like', 'david bowie prince', 'day ah fine', 'day anxiety getting', 'day asked looking', 'day asked want', 'day bit sensitive', 'day broke months', 'day broke usually', 'day came heard', 'day came said', 'day cancels day', 'day car hot', 'day content kept', 'day cringing make', 'day cuz thats', 'day cycle late', 'day cycle today', 'day day content', 'day day issue', 'day day life', 'day day troubles', 'day days week', 'day decided fuck', 'day depresses belief', 'day doesnt feel', 'day dont know', 'day dont need', 'day driving home', 'day earth car', 'day eat breakfast', 'day eating healthier', 'day edit thanks', 'day english teacher', 'day fact friends', 'day feel exhausted', 'day feel like', 'day feels like', 'day felt like', 'day finding impossibly', 'day friends hanging', 'day getting pour', 'day goes worse', 'day got home', 'day got period', 'day great panic', 'day help awesome', 'day hour house', 'day hs school', 'day ideas edit', 'day im looking', 'day issue focus', 'day ive commuted', 'day jobs allow', 'day leave home', 'day like im', 'day longest past', 'day lot easier', 'day lot hair', 'day make period', 'day manually breathing', 'day met texting', 'day month stopped', 'day night view', 'day notice definitely', 'day panic attack', 'day passes know', 'day past months', 'day past week', 'day people live', 'day period cause', 'day phone youre', 'day picked days', 'day playing games', 'day pm alexander', 'day point mini', 'day pull rush', 'day recently ive', 'day released point', 'day said fun', 'day similar person', 'day soon head', 'day spend time', 'day started feeling', 'day started medication', 'day starting meds', 'day taking steroid', 'day today isnt', 'day today time', 'day troubles navigating', 'day usually late', 'day want die', 'day wasnt intrusive', 'day wasnt sure', 'day watching youtube', 'day went sure', 'day woke felt', 'day wont able', 'day worked min', 'day workout hours', 'day yeah im', 'daylight hour lovable', 'days ago actually', 'days ago ate', 'days ago cut', 'days ago felt', 'days ago got', 'days ago legit', 'days ago quite', 'days ago told', 'days bad days', 'days binge drinking', 'days black white', 'days day hs', 'days days ago', 'days days later', 'days disgusted start', 'days doctor muscle', 'days dont know', 'days eventually pass', 'days feel completely', 'days feel like', 'days felt bloated', 'days felt like', 'days fractal torrent', 'days good days', 'days head sit', 'days hear sitting', 'days hits like', 'days ignore anxious', 'days im tired', 'days ive decided', 'days ive felt', 'days lately high', 'days later asked', 'days later began', 'days later like', 'days later messaged', 'days later told', 'days later wrote', 'days leading absolutely', 'days left stuff', 'days let knew', 'days longest shortest', 'days lost lbs', 'days mentally drained', 'days minutes minimum', 'days months idk', 'days noticing heart', 'days office week', 'days panting constantly', 'days post partum', 'days prevented sleeping', 'days prior left', 'days randomly shutdown', 'days rodeo crazy', 'days short started', 'days stopped working', 'days thanks advance', 'days theyre like', 'days thing roots', 'days till saturday', 'days time took', 'days transferred circles', 'days want end', 'days week car', 'days week worked', 'days weeks months', 'days weeks nice', 'days went college', 'days wfh come', 'days work home', 'daytoday head tend', 'dck treated like', 'dead end job', 'dead followers jesus', 'dead gospels dont', 'dead people coming', 'dead walked sidelines', 'deadlines home chores', 'deadset turned pram', 'deal away feeling', 'deal feel impacted', 'deal guilt finances', 'deal meetings speak', 'deal men hitting', 'deal reckless drivers', 'dealing brand new', 'dealing customers talking', 'dealing need help', 'deals adhd patients', 'dealt similar situation', 'dean koontz husband', 'death heart increased', 'death human life', 'death suffering death', 'deathcam shooting times', 'deaths didnt understand', 'deaths starting occur', 'debate club competitive', 'debate various topics', 'debilitating anxiety depression', 'debris tire blowout', 'decent clothing local', 'decent setting days', 'decent social life', 'decent subreddit ask', 'decide gaming platform', 'decide route heres', 'decide ruin chance', 'decided better headphones', 'decided broke slap', 'decided budget seeing', 'decided cold turkey', 'decided early dinner', 'decided edibles careful', 'decided fuck work', 'decided going start', 'decided home bed', 'decided pee maybe', 'decided quote luckily', 'decided school graphic', 'decided start taking', 'decided stay fast', 'decided stop ruminating', 'decided track watch', 'decided try right', 'decided try think', 'decided use horizontal', 'decided xpost concerns', 'decision interested psychology', 'decision makers huh', 'decline mental health', 'declining health ms', 'declutter want avoid', 'deconstruct feel entirely', 'decorator sick dealing', 'decreases severity eat', 'deed mortgage need', 'deep breath slows', 'deep cool converter', 'deep questions ive', 'deep wrinkles people', 'deepcool tesseract bf', 'deeper level understand', 'deeply concerned declining', 'deeply dad pays', 'deeply love recently', 'defeated killed reborn', 'defensive took leaving', 'deferred semester school', 'deficiency hypothyroidism know', 'definitely adhd depression', 'definitely feel like', 'definitely feel little', 'definitely help lol', 'definitely helps physical', 'definitely let know', 'definitely making difference', 'definitely social better', 'definitely think need', 'deflated ashamed wanting', 'deflated confused seeking', 'defocus minutes clear', 'degree basically freedom', 'degree hobby gotta', 'degree id like', 'degree little work', 'degree mech engg', 'degree work marketing', 'degree years people', 'delaying delivery sure', 'delete camd folder', 'deleted thing believe', 'delivery robotic tense', 'delivery sure new', 'delsym oz maybe', 'delusional conspiracy theories', 'demanding unfounded refund', 'demo ellie runs', 'demodog adult know', 'demodog idea long', 'demodogs kill people', 'demogordon assume demogorgon', 'demogordon dont really', 'demogorgon ability kill', 'demogorgon actually killed', 'demogorgon likely thrown', 'demogorgon little worth', 'demogorgon means brenner', 'demogorgon slightly older', 'demogorgons rarely killed', 'demographics race gender', 'demonstrated color flow', 'demoralizing dont feel', 'denied said awhile', 'denies basic biology', 'denies logic tries', 'dense green brown', 'dentist month ago', 'department say pretty', 'department sure approach', 'department want studies', 'deposit account monthly', 'depressed dont know', 'depressed entire day', 'depressed feel like', 'depressed got diagnosed', 'depressed let brood', 'depressed long time', 'depressed mind gone', 'depressed miserable mess', 'depressed settled men', 'depressed started sertraline', 'depressed think intrusive', 'depressed think weird', 'depression anxiety adhd', 'depression anxiety didnt', 'depression anxiety disorders', 'depression anxiety experience', 'depression anxiety im', 'depression anxiety ocd', 'depression anxiety spoke', 'depression anxiety years', 'depression caused life', 'depression currently going', 'depression finally wanted', 'depression health anxiety', 'depression issues constant', 'depression ive assessment', 'depression low self', 'depression people harder', 'depression social anxiety', 'depression started trying', 'depression suffered highschool', 'depression therapy lately', 'deprived lost months', 'depth people makes', 'depth struggle pain', 'describes exercise use', 'describes people jesus', 'description math team', 'deserve element selfishness', 'deserve help dont', 'design assuming allow', 'design team factions', 'design years ago', 'designer wellversed lot', 'desire eat eat', 'desire suggested try', 'desk begin hours', 'desk miserable associates', 'desktop noticed keyboard', 'desktop thanks help', 'desperate felt bit', 'desperate lot great', 'desperate needy thoughts', 'desperate position whos', 'desperately want leave', 'despite best efforts', 'despite feeling fine', 'despite offering taken', 'despite requesting cancellation', 'despite taking sleep', 'destroy ive worked', 'destroyed selfesteem diagnosis', 'details agreed pay', 'details better mainly', 'details names numbersmath', 'details organizing cleaning', 'detects im really', 'determine adhd took', 'determine asshole mean', 'detox vitamins make', 'develop grown demogordon', 'developed years dont', 'developing chillsshakes recently', 'development hobbies leisure', 'device linux windows', 'dexedrine spansules generic', 'diagnose problem buying', 'diagnosed adhd child', 'diagnosed adhd inattentive', 'diagnosed adhd months', 'diagnosed adhd prescribed', 'diagnosed adult adhd', 'diagnosed bpd years', 'diagnosed celiac disease', 'diagnosed combinedtype people', 'diagnosed cptsd depression', 'diagnosed days birthday', 'diagnosed depression anxiety', 'diagnosed inattentive type', 'diagnosed medication beginning', 'diagnosed ocd depression', 'diagnosed paranoid personality', 'diagnosed past depression', 'diagnosed soon hit', 'diagnosed teenager hated', 'diagnosed took test', 'diagnosed year ago', 'diagnosed years studying', 'diagnoses guys obsession', 'diagnosis big deal', 'diagnosis bpd eventually', 'diagnosis dont judge', 'diagnosis dont want', 'diagnosis explained wasnt', 'diagnosis properly medicated', 'diagnosis soon hold', 'diagnosis surprise nurse', 'diagnosis understanding actually', 'diarrhea daily urgent', 'diarrhea heart palpitations', 'diarrhea occasional cramping', 'diarrhea occasionally frequently', 'diarrhea possible watery', 'diarrhea prevalent symptoms', 'diarrhea times day', 'diarrhea weight loss', 'diary ect nearly', 'dickheads prove friends', 'didnt bites havent', 'didnt case issue', 'didnt cause dysphoria', 'didnt check studies', 'didnt click slot', 'didnt company im', 'didnt complete destroyed', 'didnt compliment told', 'didnt exercise id', 'didnt experience hunger', 'didnt factions sub', 'didnt feel like', 'didnt feel way', 'didnt fix look', 'didnt immediately pass', 'didnt kissed goodnight', 'didnt know adhd', 'didnt know ended', 'didnt know going', 'didnt know little', 'didnt know missing', 'didnt know probably', 'didnt know say', 'didnt know start', 'didnt know wanted', 'didnt leave note', 'didnt live college', 'didnt long friendships', 'didnt look like', 'didnt love like', 'didnt make sense', 'didnt mean like', 'didnt misbehave kid', 'didnt need new', 'didnt particularly misbehave', 'didnt pay attention', 'didnt phone number', 'didnt really care', 'didnt really help', 'didnt really know', 'didnt really like', 'didnt really work', 'didnt telekinetic abilities', 'didnt think hard', 'didnt think id', 'didnt think time', 'didnt time knowledge', 'didnt trying kick', 'didnt understand happening', 'didnt understand things', 'didnt wanna fake', 'didnt want anymore', 'didnt want waste', 'didnt work im', 'didnt work tried', 'didnt work went', 'didnt work worried', 'die feel like', 'die lets say', 'die point function', 'die sleep heart', 'die successfully deferred', 'die time im', 'die tried hang', 'die want die', 'died heartattack early', 'died like im', 'diet carbs fats', 'diet dramatically consume', 'diet month dont', 'diet really changed', 'diet related experience', 'dieted exercised took', 'dieting past couple', 'difference awareness attention', 'difference especially im', 'difference install ssd', 'difference suggestions obvious', 'differences ovarian cysts', 'different adhd people', 'different categories ive', 'different contacts talk', 'different disciplines apply', 'different im curious', 'different life know', 'different ordinary photo', 'different person like', 'different references scripture', 'different sizes tend', 'different supposed feel', 'different thanks help', 'different therapists counselors', 'different things background', 'different things course', 'different times life', 'different whats shown', 'differently really secured', 'difficult coming suicide', 'difficult compared people', 'difficult started make', 'difficult time thinking', 'difficult type lift', 'difficulties comes crippling', 'dig tip pen', 'digging prodding trying', 'diligence search sub', 'dimensions string contains', 'dinner dont leftovers', 'dinner dreams goals', 'dinner fh paying', 'dinner greek restaurant', 'dip normal normal', 'dipped weird times', 'dips sitting car', 'direct attention guarantee', 'direct attention let', 'direct attention long', 'direct attention obsession', 'directing attention allow', 'directing attention asking', 'directing attention control', 'directing attention directing', 'directing attention eventually', 'directing attention lands', 'directing attention leave', 'directing attention let', 'directing attention like', 'directing attention thing', 'directing attention trying', 'directly friend woman', 'directly hurt kind', 'directly issues feel', 'directly patient family', 'directly talking feel', 'dirty rgb pairs', 'dirty shameful body', 'disability accommodations coding', 'disability giving thought', 'disability got thinking', 'disability ive trying', 'disability know dads', 'disability portion time', 'disability shed like', 'disappearing icons text', 'disappointed frustrated die', 'disassociating child stop', 'disc drive install', 'discharge color lighter', 'disciplines apply ton', 'discomfort starts feel', 'disconnected modem completely', 'disconnected world like', 'disconnects ill watching', 'discontinued affirmations stand', 'discouraged focused oral', 'discouraged want thinking', 'discover adhd impact', 'discover sex penetration', 'discovery self help', 'discrimination felt great', 'discuss asked speak', 'discuss debate various', 'discussed lack sexual', 'discussing myersbriggs types', 'discussion turns long', 'disease celiac disease', 'disease gastroparesis thyroid', 'disease kinda like', 'disease pcp think', 'disgusted allowing sleep', 'disgusted carelessly sleep', 'disgusted start throwing', 'disgusting rude angry', 'disgusting selfish know', 'dismissive mental health', 'dismissive way like', 'disorder based prior', 'disorder bipolar anger', 'disorder clear daylight', 'disorder fnd pandas', 'disorder keeping making', 'disorder really understand', 'disorder sure played', 'disorders phobias aspergers', 'disorganised maybe tell', 'displays cells kinda', 'disrespected company spoke', 'disrespected directly hurt', 'dissociationdepersonalization episodes thought', 'distance actually break', 'distance daily player', 'distinct bites total', 'distinctly remember nightmares', 'distract anymore think', 'distract distract things', 'distract things likewise', 'distract thinking things', 'distract wasnt working', 'distracted adhd make', 'distracted focusing questions', 'distracted literally end', 'distracted midst act', 'distracting symptom moving', 'distraction actually gives', 'distractions reminds dont', 'distress means ocd', 'distress told medication', 'distressing thoughts feelings', 'distributers distributers sell', 'distributers sell end', 'ditched currently looking', 'divorce think wouldnt', 'dizzy feel like', 'dizzy lightheaded incapacitated', 'dizzytiredness feeling head', 'dm alongside player', 'dm cancelled multiple', 'dnd longest time', 'dnd playing dm', 'dnd unity ceremony', 'doc appointment chance', 'doc know told', 'dock isnt tried', 'doctor added sertraline', 'doctor anymore hell', 'doctor hard really', 'doctor ive come', 'doctor keen prescribing', 'doctor mental health', 'doctor muscle pain', 'doctor prescribed mg', 'doctor prescribed steroid', 'doctor retired current', 'doctor says depression', 'doctor says guess', 'doctor today says', 'doctor told needed', 'doctor told took', 'doctor years ago', 'doctors appointment diagnosis', 'doctors appointment tomorrow', 'doctors bc terrified', 'doctors loss actually', 'doctors notes stress', 'doctors things gives', 'doctrines solve world', 'dode accidentally time', 'doesnt apologize horrible', 'doesnt believe issue', 'doesnt bring use', 'doesnt care anymore', 'doesnt feel bad', 'doesnt feel like', 'doesnt feel right', 'doesnt feel trapped', 'doesnt feel way', 'doesnt happen everytime', 'doesnt happen game', 'doesnt help im', 'doesnt involve coding', 'doesnt like im', 'doesnt look bad', 'doesnt look like', 'doesnt make better', 'doesnt make sense', 'doesnt matter anxiety', 'doesnt matter im', 'doesnt matter know', 'doesnt matter says', 'doesnt mean people', 'doesnt mean wont', 'doesnt need lead', 'doesnt pay live', 'doesnt putting focused', 'doesnt realized feel', 'doesnt really know', 'doesnt really matter', 'doesnt really work', 'doesnt sit right', 'doesnt sound like', 'doesnt trust doctor', 'doesnt want live', 'doesnt work everybody', 'doesnt work way', 'dog bring strangers', 'dog business way', 'dog check bedbugs', 'dog develop grown', 'dog life accessible', 'dog lose probably', 'dog passed away', 'dog severe allergic', 'dog technically come', 'dogs lately problems', 'dollars basic adhd', 'dominao effect losing', 'donate following clothing', 'donate gives people', 'dont act know', 'dont act like', 'dont actually adhd', 'dont adhd ocd', 'dont adhd treated', 'dont adhd youre', 'dont anymore distractions', 'dont ask spoonfed', 'dont believe biteshiveswhatever', 'dont belong time', 'dont biblical simply', 'dont bother havent', 'dont buses connect', 'dont care anymore', 'dont care dont', 'dont care perfectly', 'dont care try', 'dont care want', 'dont deserve dont', 'dont deserve eat', 'dont deserve element', 'dont drink dont', 'dont embarrassed sent', 'dont experience backpackingcamping', 'dont feel bad', 'dont feel choices', 'dont feel comfortable', 'dont feel control', 'dont feel feel', 'dont feel good', 'dont feel happy', 'dont feel like', 'dont feel loved', 'dont feel motivated', 'dont feel need', 'dont feel putting', 'dont feel time', 'dont feel truly', 'dont feel way', 'dont forget speculation', 'dont fucking know', 'dont hate job', 'dont hear movies', 'dont honestly probably', 'dont im glad', 'dont insurance dont', 'dont judge way', 'dont know act', 'dont know adhd', 'dont know anymore', 'dont know approach', 'dont know ask', 'dont know asked', 'dont know avoid', 'dont know body', 'dont know bring', 'dont know bringsme', 'dont know coincidence', 'dont know cope', 'dont know deal', 'dont know didnt', 'dont know doctor', 'dont know dont', 'dont know exactly', 'dont know explain', 'dont know feel', 'dont know feeling', 'dont know feels', 'dont know felt', 'dont know file', 'dont know fix', 'dont know forget', 'dont know friends', 'dont know frustrating', 'dont know fuck', 'dont know going', 'dont know handle', 'dont know happened', 'dont know havent', 'dont know help', 'dont know helping', 'dont know hes', 'dont know id', 'dont know ill', 'dont know im', 'dont know improve', 'dont know ive', 'dont know know', 'dont know life', 'dont know like', 'dont know live', 'dont know longer', 'dont know love', 'dont know make', 'dont know makes', 'dont know maybe', 'dont know meaning', 'dont know means', 'dont know mental', 'dont know needs', 'dont know normal', 'dont know original', 'dont know people', 'dont know person', 'dont know point', 'dont know possible', 'dont know really', 'dont know right', 'dont know say', 'dont know shes', 'dont know start', 'dont know started', 'dont know stop', 'dont know struggles', 'dont know talk', 'dont know talked', 'dont know tell', 'dont know thats', 'dont know theres', 'dont know think', 'dont know thinks', 'dont know thought', 'dont know time', 'dont know tomorrow', 'dont know took', 'dont know trust', 'dont know turn', 'dont know underlings', 'dont know want', 'dont know whats', 'dont know wish', 'dont know worth', 'dont know write', 'dont know wrong', 'dont know youre', 'dont leftovers thats', 'dont like anymore', 'dont like dont', 'dont like feeling', 'dont like im', 'dont like kissing', 'dont like look', 'dont like people', 'dont like sleep', 'dont like taking', 'dont like thought', 'dont like treated', 'dont like want', 'dont listen boundaries', 'dont look like', 'dont lot money', 'dont love im', 'dont love way', 'dont make lot', 'dont make noise', 'dont mean like', 'dont mean sound', 'dont meds anymore', 'dont mention feel', 'dont mind losing', 'dont money diagnoses', 'dont morning wood', 'dont need anymore', 'dont need ask', 'dont need distraction', 'dont need know', 'dont need want', 'dont need worry', 'dont pay attention', 'dont people talk', 'dont play games', 'dont playful relationship', 'dont practical matters', 'dont reality neutral', 'dont really care', 'dont really change', 'dont really enjoy', 'dont really feel', 'dont really friends', 'dont really know', 'dont really need', 'dont really notice', 'dont really point', 'dont really real', 'dont really reply', 'dont really theories', 'dont really understand', 'dont really want', 'dont remember said', 'dont remember time', 'dont sort official', 'dont story arguing', 'dont struggle keeping', 'dont study work', 'dont talk like', 'dont talk philosophy', 'dont tell dont', 'dont things know', 'dont think completely', 'dont think deserve', 'dont think dont', 'dont think emotionally', 'dont think feel', 'dont think gonna', 'dont think ill', 'dont think im', 'dont think ive', 'dont think know', 'dont think physical', 'dont think plays', 'dont think really', 'dont think thats', 'dont think theres', 'dont think think', 'dont think weird', 'dont think wont', 'dont trauma childhood', 'dont understand difference', 'dont understand feel', 'dont understand im', 'dont understand like', 'dont understand people', 'dont understand thing', 'dont understand whats', 'dont want admit', 'dont want anymore', 'dont want argue', 'dont want bad', 'dont want blame', 'dont want body', 'dont want burden', 'dont want buy', 'dont want cause', 'dont want come', 'dont want cut', 'dont want day', 'dont want deal', 'dont want die', 'dont want eat', 'dont want end', 'dont want exist', 'dont want fall', 'dont want feel', 'dont want hassle', 'dont want hear', 'dont want help', 'dont want im', 'dont want interfere', 'dont want ive', 'dont want kids', 'dont want kill', 'dont want know', 'dont want leave', 'dont want like', 'dont want live', 'dont want look', 'dont want lose', 'dont want make', 'dont want open', 'dont want people', 'dont want read', 'dont want real', 'dont want remember', 'dont want resort', 'dont want risk', 'dont want sad', 'dont want say', 'dont want selfdiagnose', 'dont want selfish', 'dont want send', 'dont want sexual', 'dont want sound', 'dont want spend', 'dont want start', 'dont want starve', 'dont want talk', 'dont want think', 'dont want try', 'dont want wait', 'dont want want', 'dont want waste', 'dont want work', 'doomer really negatively', 'door lazy version', 'door looks like', 'door make sure', 'door open went', 'dopamine effect feels', 'doppler looked images', 'dosage boosted took', 'dose adderall ir', 'dose feel like', 'doses meds period', 'double time quest', 'doubt guy gonna', 'doused probably like', 'downclocked speed fix', 'downloaded file needed', 'downright iatrogenic people', 'downwards cause tiring', 'dr bronners hemp', 'dr michael greenberg', 'dracaena gonna okay', 'dracaena hawaiian sunshine', 'dracaenas fine low', 'draft potential build', 'dragged bathroom vague', 'drain wallet know', 'drained hours day', 'draining aspects life', 'dram voltage help', 'dramatically academically staying', 'dramatically consume plenty', 'drastically moved away', 'drawing skin pointy', 'dread boredom job', 'dream contact higher', 'dream lots content', 'dream military rules', 'dream navy seal', 'dream normally albeit', 'dreamcast way hook', 'dreaming access unconscious', 'dreaming enhance inhibit', 'dreaming gateway new', 'dreaming ideally use', 'dreaming maybe ground', 'dreams clear love', 'dreams come true', 'dreams doctor ive', 'dreams goals hobbies', 'dreams influence studies', 'dreams low dose', 'dreams nightmares im', 'dreams nightmares wake', 'dreams problem communicating', 'dress fairly masculine', 'dressed said want', 'drier normal increased', 'drift little bit', 'drink lot water', 'drink lots water', 'drink repeat steps', 'drink sleep apnea', 'drink ton water', 'drink water feel', 'drink water sleep', 'drinking alcohol annoying', 'drinking group setting', 'drinking replaying remember', 'drinking water right', 'drinking water want', 'drinks aspiring femboy', 'drinks fun day', 'drinks time went', 'dripping sweat dragged', 'drive came started', 'drive good input', 'drive grandmothers house', 'drive home kicks', 'drive install linux', 'drive miles work', 'drive tc today', 'drive work major', 'drivers crash road', 'drivers installed looks', 'drivers installed says', 'driveway busy main', 'driving crazy traffic', 'driving insane feel', 'driving point im', 'driving started reading', 'droopy feels like', 'drop semester ocd', 'dropped college tried', 'dropped floundering trying', 'dropped home didnt', 'dropped home dropped', 'dropped literally thinking', 'dropped months weighed', 'dropping example son', 'dropping highschool going', 'drops usually wait', 'drove home got', 'drs office gps', 'drs surgery merging', 'drug experiencing male', 'drug test job', 'drug test using', 'drug work work', 'drugs lipitor lipitor', 'drugs overworking stress', 'drumming dont want', 'drunk apologized listen', 'drunk defensive took', 'drunk possibly remember', 'drunk think properly', 'drunk video asking', 'dry mouth sleepiness', 'dry want dulcolax', 'drywall push talk', 'dualcore micro center', 'dude fun guy', 'dude quite honest', 'dude scrawny shy', 'dude tells brenner', 'dude thats head', 'dulcolax stimulant anxiety', 'dumb car unlocked', 'dumb kind thing', 'dumb pretends like', 'dumb question going', 'dumb shit coming', 'dumping ground isp', 'dumping ground sami', 'dumping ground satellite', 'duplex pulse wave', 'dvd run risk', 'dvr ondemand went', 'dwellers prepared world', 'dx unmedicated boyfriend', 'dyan tara laro', 'dying day depresses', 'dying dreams doctor', 'dying feeling lot', 'dying makes anxiety', 'dynamic adhd nonadhd', 'dysfunction sensory overload', 'dysphoria didnt feel', 'dysphoria normal meds', 'dysphoric disorder based', 'dysregulated fact end', 'ear especially need', 'ear evenings gets', 'ear flushing usually', 'ear weird symptom', 'earholes slightly different', 'earlier drunk think', 'earlier enjoyed company', 'earlier things bad', 'early age say', 'early damage theres', 'early dinner greek', 'early jobs live', 'early leave work', 'early like middle', 'early march ended', 'early morning today', 'early need exercise', 'early stages wedding', 'ears echoed brain', 'ears pinned happy', 'ears pinned like', 'ears relaxed knows', 'ears right ear', 'earth car signal', 'ease work feel', 'easier let things', 'easier needs panic', 'easier shake things', 'easier thats pretty', 'easily angry people', 'easily compare pain', 'easily distract distract', 'easily distracted focusing', 'easily eat huge', 'east coast looking', 'east facing window', 'eastern philosophy way', 'easy fix dumb', 'easy high nutrienal', 'eat asks lot', 'eat barely felt', 'eat blah blah', 'eat breakfast day', 'eat breakfast eat', 'eat breakfast lie', 'eat calories day', 'eat concentrate medication', 'eat days felt', 'eat dinner dreams', 'eat doctor keen', 'eat drink water', 'eat eat makes', 'eat food eating', 'eat food think', 'eat huge breakfast', 'eat itll act', 'eat junk food', 'eat lick lips', 'eat literally spent', 'eat losing weight', 'eat makes feel', 'eat sour candy', 'eaten different ordinary', 'eating breakfast like', 'eating breakfast morning', 'eating case pocketed', 'eating disorder years', 'eating fast food', 'eating gastroparesis symptoms', 'eating habits really', 'eating healthier sugars', 'eating know hungry', 'eating real food', 'eating sex drive', 'eating taking care', 'eating think feels', 'eating tongue helps', 'eating workshop feeling', 'eavesdropping conversation talking', 'ebay auction websites', 'ebola fact published', 'ecg mild left', 'ecg said fine', 'ecg start june', 'echoed brain got', 'echoing voice head', 'ecommerce role days', 'economic conditions especially', 'economics math minor', 'economics miscellaneous topics', 'economies countries ap', 'economy media lying', 'ecstasy awesome orchestral', 'ecstasy filled universal', 'ecstasy loses consciousness', 'ecstasy purely intellectual', 'ect definitely social', 'ect nearly incapable', 'eczema flair prescribed', 'eczema steroid prednisone', 'ed barb thrown', 'ed disorder bipolar', 'edge max mb', 'edge max mins', 'edge max replaced', 'edges wound tweezers', 'edible didnt make', 'edible took hospital', 'edibles careful thc', 'edibles consumed specific', 'edibles edibles consumed', 'edibles friend grows', 'edit feel like', 'edit formatting dont', 'edit ive decided', 'edit nzxt cam', 'edit oh god', 'edit problem finds', 'edit sorry forgot', 'edit thank responses', 'edit thanks help', 'edit thing worried', 'edit wanted add', 'editinggaming list programsgames', 'editingphoto editinggaming list', 'effect dysregulated fact', 'effect feels good', 'effect losing friends', 'effect question taken', 'effectanyone experience similar', 'effected lot life', 'effecting life think', 'effective point barely', 'effects anxiety didnt', 'effects apart dry', 'effects experiencing libido', 'effects period crossposted', 'effects sitting hours', 'effects stimulants feedback', 'effort prevent bad', 'effort theyre ones', 'egg moves mons', 'eggs raids maximum', 'el problema es', 'elbowing said stay', 'electric shocks going', 'electrical contracting business', 'electrical equipment light', 'electrical industry wanted', 'electrical items work', 'electrical outlet hands', 'electrical sales clean', 'electrical sales industry', 'electrician currently working', 'electrician exam midwestern', 'electrician work electrical', 'electro convulsive therapy', 'electroform glass blown', 'electroform technique glass', 'element hdtv walmart', 'element selfishness reason', 'elementary middle school', 'elevated heart rate', 'elevated level reactive', 'elevator stairs dieting', 'eligible loans whatsoever', 'ellie runs really', 'elvie willow motif', 'email access files', 'email addresses elders', 'email asking general', 'email current hrs', 'email know care', 'email person profile', 'email shortly said', 'email stating matter', 'email week stating', 'emailed local adhd', 'emailthat cancelling outside', 'embarrassed sent away', 'embarrassing stomach issues', 'emotion real love', 'emotional connect disgusted', 'emotional eating workshop', 'emotional intimacy bring', 'emotional intimacy monogamy', 'emotional stability know', 'emotionally abused years', 'emotionally abusive relationship', 'emotionally abusive sober', 'emotionally handle hearing', 'emotionally injured fingers', 'empathetic present shuts', 'empathysympathy people life', 'employee told dracaenas', 'encourage comes making', 'encourage engagement bossing', 'encouragement feel shameful', 'encouragement huge social', 'end allowed gym', 'end birthday day', 'end classic theories', 'end comforting helping', 'end day im', 'end dont think', 'end drinking group', 'end elbowing said', 'end feel like', 'end finding point', 'end game content', 'end going im', 'end hard time', 'end im exhausted', 'end job feel', 'end jokes lot', 'end life school', 'end luck women', 'end massive hysteria', 'end road getting', 'end scrolling instagram', 'end season used', 'end sitting cooks', 'end starting loads', 'end successful time', 'end switching asked', 'end times prophecies', 'end torment silence', 'end user thinking', 'end want kind', 'end web developer', 'end world send', 'ended crying immediately', 'ended diagnosed ocd', 'ended dropping highschool', 'ended getting corona', 'ended getting word', 'ended hospital days', 'ended meeting mid', 'ended new year', 'ended said bell', 'ended showing gb', 'ended spending went', 'ended weighing dropped', 'ended went urgent', 'ending feel like', 'ending life like', 'ending life struggled', 'ending period ended', 'endometriosis pcos children', 'endoscopy thing came', 'ends meet expensive', 'ends waste time', 'energetic miserable covid', 'energy falling asleep', 'energy levels poke', 'energy motivation food', 'energy possible tremors', 'energy unusual genderfluid', 'energy work building', 'engage obsession people', 'engage said stop', 'engagement bossing ocd', 'engaging obsession trying', 'engg im looking', 'english teacher secondary', 'enhance inhibit gods', 'enjoy bad things', 'enjoy concentrate increases', 'enjoy cuddling know', 'enjoy like art', 'enjoy socializing talking', 'enjoy spending time', 'enjoy totally nonsexual', 'enjoyed company got', 'enjoying things liked', 'enjoying work right', 'enjoyment anymore realized', 'enjoyment life anymore', 'ensued informal diagnosis', 'ensure naked juice', 'ent told hearing', 'ent told upper', 'entered college finished', 'entered country needed', 'entering friend group', 'entertaining group partner', 'entire chat sat', 'entire day pull', 'entire day watching', 'entire dream lots', 'entire extended family', 'entire free day', 'entire group people', 'entire life got', 'entire life im', 'entire life ive', 'entire life tried', 'entire life years', 'entire time scared', 'entirely sure remembering', 'entry level job', 'entry lvl jobs', 'entwined bed zero', 'environment basically school', 'epi met allergist', 'episode dont think', 'episode werent shown', 'episodes thought going', 'equal luteal phase', 'equipment light fixtures', 'er currently trying', 'er doc know', 'er ran bunch', 'erection issues worried', 'erections fine mood', 'error idea going', 'error says kernel', 'es que lo', 'escape feel like', 'escape grabs early', 'escape tarkov ive', 'escaped caught russians', 'esophagus looks bit', 'especially denies basic', 'especially feel like', 'especially going stress', 'especially helpful underwent', 'especially id using', 'especially im avoiding', 'especially impacts relationship', 'especially need large', 'especially open dating', 'especially regarding foreign', 'especially terms impacts', 'especially working memory', 'essay tried fall', 'essay woke accident', 'essay writing morning', 'essential waste money', 'esteem depression finally', 'esteem low addiction', 'esteemsounds like nightmare', 'estimate year series', 'eternal mental torture', 'etfs pay loans', 'ethic vs store', 'etsy ebay auction', 'euphoria character achievement', 'euphoric drug remember', 'europe happy visit', 'europe month friends', 'europe uk dont', 'evaluation help figure', 'evaluation soon hopefully', 'evaluations iq test', 'evening feeling incredibly', 'evening freak beats', 'evening head promise', 'evening wake early', 'evenings gets red', 'event dated ex', 'event determine asshole', 'event viewer gave', 'event viewer time', 'events happened long', 'eventually apartment nyc', 'eventually fall asleep', 'eventually feel like', 'eventually fell asleep', 'eventually forcing stop', 'eventually got fired', 'eventually leave awareness', 'eventually met mental', 'eventually pass alarm', 'eventually seeing romantic', 'eventually sex got', 'eventually started talking', 'eventually time fine', 'eventually told gonna', 'eventually wander awareness', 'evergaol guy hit', 'everybody problem happy', 'everybody results life', 'everyday bloating said', 'everyday challenge motivation', 'everyday feel like', 'everyday feeling line', 'everytime play hours', 'evga powersupply gb', 'evga supernova plus', 'evidence range arguing', 'evil defeated killed', 'evil person met', 'evolve thousand things', 'ex able tell', 'ex feel similar', 'ex hoodie quarantine', 'ex hoodie stuff', 'ex hoodie time', 'ex lightheartedly talked', 'ex really upset', 'ex twitter paranoia', 'exact area issue', 'exact knife poking', 'exact laptop loads', 'exact laptop look', 'exact rich poor', 'exact size displays', 'exact spot thriving', 'exact thing things', 'exactly line best', 'exactly think theres', 'exactly week quarantine', 'exactly whats going', 'exam midwestern respective', 'exam work deadlines', 'exam yesterday result', 'examines sheep case', 'examining prior conflict', 'example art romanias', 'example dog severe', 'example grav page', 'example guess im', 'example happened news', 'example ill laying', 'example killed bad', 'example recommendation large', 'example say bird', 'example son ipad', 'example thread exact', 'example woke middle', 'exams prolactin came', 'exceed gave options', 'excellent resource came', 'exception honeymoon rehearsal', 'excess obviously mean', 'excessive sweating heart', 'excessive sweating sweat', 'excessive work load', 'exchange relationship united', 'exchanged details agreed', 'exchanging texts time', 'excited given population', 'excited ran bathroom', 'excited used isnt', 'exclusive relationship sexualemotional', 'excuse started going', 'excuse wanting relationship', 'excuses asked getting', 'exercise counterbalance effects', 'exercise eat right', 'exercise elevator stairs', 'exercise feel like', 'exercise feels like', 'exercise id look', 'exercise journaling psychically', 'exercise slight jogging', 'exercise starts following', 'exercise use teach', 'exercised took months', 'exercises mental physical', 'exertion climb flight', 'exhaust spinning fractal', 'exhausted commute unstimulating', 'exhausted day day', 'exhausted day soon', 'exhausted fall asleep', 'exhausted feel guilty', 'exhausted feeling makes', 'exhausted skateboarded recently', 'exhausted want sleep', 'exhaustive ideas like', 'exist inside body', 'exist police hospital', 'exist struggling lot', 'existed making emailthat', 'existence corona month', 'existing pc starting', 'expect appreciated subreddits', 'expect different things', 'expectantly quality life', 'expectations help accommodations', 'expected meeting said', 'expecting max settings', 'expecting wanted speak', 'expensive anti depressants', 'expensive city jobs', 'expensive glue hazard', 'expensive maintain repair', 'expensive quality photography', 'experience backpackingcamping really', 'experience bliss godman', 'experience blood pressure', 'experience couple relationships', 'experience feel like', 'experience hunger tummy', 'experience im worried', 'experience infps higher', 'experience life join', 'experience love capable', 'experience lucid dreaming', 'experience matter wanted', 'experience means right', 'experience places wanna', 'experience recently got', 'experience similar crossposted', 'experience similar told', 'experience spectrum know', 'experience teaching secondary', 'experience tldr thought', 'experience unfortunately colchicine', 'experience worth regrets', 'experience young like', 'experienced knows whats', 'experienced like going', 'experienced near panic', 'experienced stigma schizophrenia', 'experienced symptoms time', 'experienced taking accutane', 'experienced true sleep', 'experiences acted kinda', 'experiences feel like', 'experiences let know', 'experiences original awesome', 'experiences partners antidepressants', 'experiences past coding', 'experiences sitting like', 'experiencing associate small', 'experiencing ecstasy filled', 'experiencing libido erection', 'experiencing lot anxiety', 'experiencing male pattern', 'experiencing rash arms', 'experiencing significant day', 'experiencing slow wifi', 'experimenting post credit', 'experiments competition cia', 'expert flashed bios', 'expert told horribly', 'explain affect relationship', 'explain dont know', 'explain feel like', 'explain like im', 'explain scares distinctly', 'explain young ive', 'explained bit really', 'explained thats brain', 'explained wasnt weird', 'explained way understand', 'explains lot life', 'explains russian terminator', 'explanation vomiting need', 'explanations similar happened', 'explode instant panic', 'explore make things', 'explore order visit', 'explore save options', 'explore tldr demogorgons', 'exposed tissue lot', 'expound principles doctrines', 'express smooth funny', 'expressed happiness appreciation', 'expressed wishes told', 'extended release started', 'extended time school', 'extenders kind confusing', 'extensive research economic', 'extensively help think', 'external hard drive', 'extra cost fix', 'extra pressure pay', 'extracted installing appreciate', 'extracurriculars brief description', 'extreme hunger noticing', 'extremely anxious entire', 'extremely bad academically', 'extremely difficult compared', 'extremely fast completely', 'extremely fast feel', 'extremely late motivation', 'extremely order rambling', 'extremely painful uncomfortable', 'extremely possessive friends', 'extremely red purple', 'extremely soft panic', 'extremely sore point', 'eye contact im', 'eye issues red', 'eye unless shortness', 'eyebags underneath bags', 'eyebrow turned face', 'eyelids droopy feels', 'eyelids noticed pictures', 'eyes appear generally', 'eyes closed maybe', 'eyes extreme hunger', 'eyes eyebags underneath', 'eyes feel like', 'eyes hate feeling', 'eyes itch hurt', 'eyes like euphoria', 'eyes poofy letting', 'eyes red spots', 'eyes slightly red', 'eyeshadow glitter eyes', 'face feel like', 'face husband meal', 'face lives rent', 'face long forgotten', 'face longer left', 'face looks like', 'face neck arms', 'face superstitious feel', 'facetimes asked say', 'facial eczema steroid', 'facing challenges time', 'facing void today', 'facing window room', 'fact bitch love', 'fact diagnosed anxiety', 'fact dont adhd', 'fact end comforting', 'fact fearmongering parents', 'fact friends left', 'fact friends told', 'fact googling linux', 'fact got meet', 'fact im sick', 'fact lot people', 'fact published recovery', 'fact short term', 'fact unnecessarily apologized', 'factions fact lot', 'factions fun mp', 'factions hope old', 'factions link confirmation', 'factions played factions', 'factions really long', 'factions sub decided', 'factions wasnt meant', 'factor ultrabook build', 'factors wanted die', 'factory worker making', 'facts end massive', 'fades japanese word', 'fail drug test', 'fail interview certain', 'failed ending life', 'failed went good', 'failing constant dysfunction', 'failing multiple colleges', 'failure feel like', 'failure weight year', 'fair bit motorway', 'fair share edibles', 'fairly common prescribers', 'fairly effect question', 'fairly masculine manner', 'fairly minor issues', 'fairly normal suspect', 'fairly quiet hears', 'fairly successful career', 'fake frozen snowfrostice', 'fake snow cloth', 'fake snow spray', 'fake thinking ovulating', 'fake till make', 'fake wearing skin', 'faking dont know', 'faking lying hiding', 'faking thoughts scared', 'fall apart dramatically', 'fall asleep days', 'fall asleep feel', 'fall asleep hours', 'fall asleep night', 'fall asleep wake', 'fall blurred vision', 'fall break necks', 'falling apart daily', 'falling asleep desk', 'falling asleep really', 'falling asleep wheel', 'falling lot faster', 'falling recently session', 'fallout wit best', 'falls asleep insurance', 'family attention started', 'family close friends', 'family didnt want', 'family dont want', 'family feel like', 'family friends girlfriend', 'family friends know', 'family friends like', 'family friends year', 'family got job', 'family grasp concept', 'family history mother', 'family know hour', 'family live house', 'family member patient', 'family safe like', 'family spend little', 'family swine outbreak', 'family tirelessly looking', 'fan article non', 'fan cooler master', 'fan deaths starting', 'fan hub plugged', 'fan power panel', 'fan starts power', 'fans case core', 'fans connected theyre', 'fans lianli galahad', 'fans plugs right', 'fans spinning fan', 'fans theyre lit', 'fantastic dont need', 'far aware adhd', 'far away feel', 'far away im', 'far didnt know', 'far expecting wanted', 'far feel like', 'far gone doesnt', 'far hard intensely', 'far hdd didnt', 'far infeasible know', 'far ive felt', 'far ive seen', 'far official mini', 'far realize hard', 'far remember thought', 'far tracker goes', 'far understand people', 'farming live midwest', 'farthest heart fears', 'fast bites stomach', 'fast completely changed', 'fast decided start', 'fast dont know', 'fast everyday bloating', 'fast feel bloated', 'fast food gaining', 'fast food job', 'fast food restaurants', 'fast forward birthday', 'fast forward continue', 'fast forward today', 'fast forward week', 'fast forward weeks', 'fast forward years', 'fast gameplay looks', 'fast hard like', 'fast heart rates', 'fast heart super', 'fast id guess', 'fast like beats', 'fast right standing', 'fast sit normal', 'fast svt panicking', 'fasted legit thought', 'faster eat food', 'faster loading startpage', 'faster movement anxiety', 'faster normally got', 'faster paced community', 'faster thing thats', 'fat bald dude', 'fat foods got', 'fat heart crushed', 'fat sugar started', 'fate death suffering', 'father alcoholic abuser', 'father anger issues', 'father brother fucked', 'father especially denies', 'father mocks mentioning', 'father wouldnt right', 'father years control', 'fatiguelow energy possible', 'fats fruits diet', 'fatty liver disease', 'favor like dont', 'favorite artists ive', 'favorite composers christmas', 'favorite game time', 'favorite teacher fellow', 'favorites partners dad', 'fb marketplace charity', 'fb marketplace new', 'fear bad happen', 'fear body react', 'fear compulsive mental', 'fear day goes', 'fear drug work', 'fear dying poisoned', 'fear father especially', 'fear heart thinking', 'fear im going', 'fear losing parents', 'fear making things', 'fear mongered moron', 'fear reactive afraid', 'fear special know', 'fearadrenaline caused body', 'feared happen home', 'fearing like industry', 'fearmongering parents beginning', 'fears getting concussions', 'fears getting poisoned', 'fears grade felt', 'feb drive miles', 'februarymarch days theyre', 'fed challenge worked', 'federal reserve bank', 'fee demanding unfounded', 'fee highspeed internet', 'fee receive confirmatio', 'fee receive refund', 'feedback cb policies', 'feedback reddit ive', 'feeder school nope', 'feel anxious days', 'feel anxious heart', 'feel anxious sad', 'feel anxiousstressed maybe', 'feel awful feel', 'feel awful yesterday', 'feel awkward asking', 'feel awkward telling', 'feel bad asking', 'feel bad dont', 'feel bad end', 'feel bad family', 'feel bad feel', 'feel bad know', 'feel bad like', 'feel bad really', 'feel bad right', 'feel bad spending', 'feel bad things', 'feel bad want', 'feel best thanks', 'feel best worst', 'feel better advantage', 'feel better days', 'feel better good', 'feel better know', 'feel better make', 'feel better physically', 'feel better right', 'feel better trying', 'feel bit better', 'feel bloated day', 'feel choices break', 'feel comfortable kept', 'feel comfortable like', 'feel comfortable spending', 'feel comfortable telling', 'feel completely lost', 'feel deprived lost', 'feel despite feeling', 'feel different supposed', 'feel disappointed frustrated', 'feel disgusting selfish', 'feel disrespected company', 'feel disrespected directly', 'feel dont know', 'feel emotion real', 'feel emotionally numb', 'feel entirely miserable', 'feel exactly think', 'feel extremely fatigued', 'feel extremely possessive', 'feel feel good', 'feel feel like', 'feel feels like', 'feel fingers inserted', 'feel free add', 'feel free ask', 'feel free check', 'feel free chime', 'feel free comment', 'feel free explain', 'feel free tell', 'feel fucking bad', 'feel good im', 'feel good include', 'feel good months', 'feel good times', 'feel great im', 'feel guilty ashamed', 'feel guilty feel', 'feel guilty makes', 'feel guilty money', 'feel happy alive', 'feel happy feel', 'feel hear watery', 'feel heart pounding', 'feel heart skip', 'feel hopeless like', 'feel hopeless want', 'feel horrible feeling', 'feel horrible like', 'feel horrible want', 'feel hunger pains', 'feel im point', 'feel im supposed', 'feel impacted life', 'feel incredibly lonely', 'feel inhibition socialize', 'feel insanely possessive', 'feel intense time', 'feel kinda bad', 'feel kinda gaming', 'feel like able', 'feel like absolute', 'feel like absolutely', 'feel like actions', 'feel like age', 'feel like air', 'feel like album', 'feel like anxiety', 'feel like anymore', 'feel like anytime', 'feel like baby', 'feel like bad', 'feel like barely', 'feel like belong', 'feel like best', 'feel like better', 'feel like big', 'feel like bit', 'feel like body', 'feel like brain', 'feel like break', 'feel like breath', 'feel like breathe', 'feel like burden', 'feel like cares', 'feel like case', 'feel like choice', 'feel like chore', 'feel like colossal', 'feel like complete', 'feel like completely', 'feel like connection', 'feel like contributes', 'feel like control', 'feel like crap', 'feel like crazy', 'feel like crying', 'feel like daily', 'feel like day', 'feel like deep', 'feel like definitely', 'feel like depressed', 'feel like depression', 'feel like deserve', 'feel like didnt', 'feel like die', 'feel like died', 'feel like different', 'feel like doctor', 'feel like dont', 'feel like draining', 'feel like dramatic', 'feel like driving', 'feel like drowning', 'feel like dumb', 'feel like easily', 'feel like eating', 'feel like end', 'feel like failing', 'feel like failure', 'feel like fainting', 'feel like fake', 'feel like falling', 'feel like fat', 'feel like fault', 'feel like feel', 'feel like feeling', 'feel like feels', 'feel like feminine', 'feel like fighting', 'feel like finally', 'feel like fit', 'feel like fraud', 'feel like freak', 'feel like friends', 'feel like fucked', 'feel like fucking', 'feel like fully', 'feel like gets', 'feel like getting', 'feel like giving', 'feel like going', 'feel like gone', 'feel like gonna', 'feel like good', 'feel like got', 'feel like guy', 'feel like guys', 'feel like half', 'feel like ham', 'feel like handle', 'feel like hard', 'feel like havent', 'feel like head', 'feel like hear', 'feel like heart', 'feel like help', 'feel like helping', 'feel like hex', 'feel like home', 'feel like hope', 'feel like horrible', 'feel like huge', 'feel like id', 'feel like idiot', 'feel like idk', 'feel like ignored', 'feel like ill', 'feel like im', 'feel like imposter', 'feel like isnt', 'feel like ive', 'feel like job', 'feel like jobs', 'feel like know', 'feel like late', 'feel like lazy', 'feel like learning', 'feel like leave', 'feel like let', 'feel like lie', 'feel like life', 'feel like like', 'feel like live', 'feel like lives', 'feel like living', 'feel like long', 'feel like longer', 'feel like look', 'feel like loser', 'feel like lost', 'feel like lot', 'feel like love', 'feel like low', 'feel like make', 'feel like makes', 'feel like making', 'feel like matter', 'feel like medication', 'feel like meds', 'feel like mental', 'feel like mentally', 'feel like missed', 'feel like need', 'feel like needs', 'feel like obvious', 'feel like oh', 'feel like old', 'feel like outcast', 'feel like outsider', 'feel like panic', 'feel like pass', 'feel like paying', 'feel like people', 'feel like person', 'feel like personally', 'feel like physically', 'feel like piece', 'feel like place', 'feel like point', 'feel like ppl', 'feel like pretty', 'feel like probably', 'feel like problem', 'feel like prove', 'feel like punishment', 'feel like pushing', 'feel like randomly', 'feel like reach', 'feel like real', 'feel like really', 'feel like reason', 'feel like ridiculous', 'feel like right', 'feel like risky', 'feel like roommate', 'feel like rubbish', 'feel like say', 'feel like scared', 'feel like screwed', 'feel like share', 'feel like shit', 'feel like shouldnt', 'feel like shows', 'feel like sleep', 'feel like solution', 'feel like start', 'feel like starting', 'feel like stop', 'feel like stuck', 'feel like surgery', 'feel like surrounded', 'feel like symptoms', 'feel like takes', 'feel like talk', 'feel like talking', 'feel like tell', 'feel like terrible', 'feel like thats', 'feel like theres', 'feel like theyre', 'feel like thing', 'feel like things', 'feel like think', 'feel like tho', 'feel like throwing', 'feel like time', 'feel like tired', 'feel like total', 'feel like totally', 'feel like trapped', 'feel like truly', 'feel like trying', 'feel like understands', 'feel like unfair', 'feel like used', 'feel like waiting', 'feel like walking', 'feel like wanna', 'feel like want', 'feel like wanted', 'feel like wasnt', 'feel like waste', 'feel like wasted', 'feel like way', 'feel like wearing', 'feel like week', 'feel like weird', 'feel like went', 'feel like win', 'feel like wont', 'feel like working', 'feel like works', 'feel like worth', 'feel like wouldnt', 'feel like writers', 'feel like wrong', 'feel like year', 'feel like years', 'feel like zombie', 'feel little better', 'feel little bit', 'feel long time', 'feel loop dont', 'feel lost dont', 'feel lost feel', 'feel lot better', 'feel mental health', 'feel miserable hopeless', 'feel natural fact', 'feel necessary beneficial', 'feel need say', 'feel need talk', 'feel numb hollow', 'feel numb like', 'feel overwhelming sense', 'feel paranoid thats', 'feel people saying', 'feel perfectly rational', 'feel personal love', 'feel physically sick', 'feel powerless fucking', 'feel putting situation', 'feel react accordingly', 'feel really bad', 'feel really good', 'feel really guilty', 'feel really insecure', 'feel recently diagnosed', 'feel sad feel', 'feel safe comfortable', 'feel shameful like', 'feel sick stomach', 'feel similar actions', 'feel small bump', 'feel sort friction', 'feel super hours', 'feel sympathy dont', 'feel terrible stomach', 'feel tired im', 'feel tired leave', 'feel tired time', 'feel trapped dont', 'feel truly people', 'feel want know', 'feel way better', 'feel way didnt', 'feel way feel', 'feel way fight', 'feel way like', 'feel way really', 'feel way view', 'feel weird like', 'feel weird sensation', 'feel whats happening', 'feel worried days', 'feel worthless feel', 'feel worthless helpless', 'feeling affected anxiety', 'feeling anxiety idk', 'feeling anxious kind', 'feeling anxious know', 'feeling bad ties', 'feeling better definitely', 'feeling bit anxious', 'feeling bit hot', 'feeling body like', 'feeling common sickness', 'feeling constipated reason', 'feeling deflated ashamed', 'feeling deflated confused', 'feeling depressed anxious', 'feeling depth people', 'feeling didnt knew', 'feeling dirty shameful', 'feeling discouraged want', 'feeling dizzy lightheaded', 'feeling fast everyday', 'feeling feel like', 'feeling feelings times', 'feeling feels like', 'feeling feet chest', 'feeling fine weekend', 'feeling head tired', 'feeling heavy combat', 'feeling holding steering', 'feeling hot feverish', 'feeling im supportive', 'feeling incredibly anxious', 'feeling incredibly lightheaded', 'feeling life person', 'feeling like absolute', 'feeling like better', 'feeling like breathe', 'feeling like days', 'feeling like deserve', 'feeling like feel', 'feeling like ghost', 'feeling like going', 'feeling like im', 'feeling like life', 'feeling like maybe', 'feeling like need', 'feeling like really', 'feeling like shit', 'feeling like small', 'feeling like stuck', 'feeling like taken', 'feeling like throat', 'feeling like time', 'feeling like way', 'feeling like youre', 'feeling like zombie', 'feeling line clone', 'feeling little better', 'feeling little bit', 'feeling lot better', 'feeling love empathysympathy', 'feeling makes want', 'feeling motivated energetic', 'feeling particularly masculine', 'feeling particularly unwell', 'feeling past years', 'feeling physical symptoms', 'feeling pretty good', 'feeling really anxious', 'feeling really bad', 'feeling really bloated', 'feeling rest gets', 'feeling safe stomach', 'feeling sick going', 'feeling stomach bug', 'feeling super sick', 'feeling wasted entire', 'feeling way recover', 'feeling wish away', 'feeling world feeling', 'feeling worse im', 'feelings control monday', 'feelings humans experience', 'feelings times works', 'feels dripping warmed', 'feels far away', 'feels fulluncomfortable diarrhea', 'feels good anymore', 'feels good bad', 'feels good figure', 'feels good finally', 'feels good let', 'feels good wake', 'feels gross started', 'feels like anxiety', 'feels like attempt', 'feels like brain', 'feels like breath', 'feels like changed', 'feels like completely', 'feels like control', 'feels like death', 'feels like difficult', 'feels like dream', 'feels like earth', 'feels like end', 'feels like energy', 'feels like eyes', 'feels like facing', 'feels like feels', 'feels like finding', 'feels like friendship', 'feels like going', 'feels like heart', 'feels like hell', 'feels like ill', 'feels like im', 'feels like impossible', 'feels like intimate', 'feels like ive', 'feels like joints', 'feels like kind', 'feels like life', 'feels like little', 'feels like losing', 'feels like lost', 'feels like matter', 'feels like need', 'feels like partner', 'feels like piercing', 'feels like playing', 'feels like pressure', 'feels like punched', 'feels like real', 'feels like really', 'feels like running', 'feels like say', 'feels like shes', 'feels like shit', 'feels like stuck', 'feels like theres', 'feels like theyre', 'feels like time', 'feels like tlou', 'feels like unless', 'feels like vendetta', 'feels like wants', 'feels like work', 'feels like years', 'feels real especially', 'feels really bad', 'feels really hard', 'feels relationship important', 'feels right like', 'feels shame andor', 'feels wrong know', 'feet acting similar', 'feet ankle swelled', 'feet chest pain', 'feet tingly feeling', 'feet turn extremely', 'fell asleep woke', 'fell deeply love', 'fell hard times', 'fell lost cell', 'fell wagon day', 'fell years ago', 'fellow plant people', 'felt amazing like', 'felt bad night', 'felt bit desperate', 'felt bloated didnt', 'felt damn good', 'felt felt like', 'felt fine day', 'felt fuzzy like', 'felt gonna add', 'felt good things', 'felt great day', 'felt great felt', 'felt great mind', 'felt happy world', 'felt heart increase', 'felt innocent sensibility', 'felt like absolute', 'felt like best', 'felt like calling', 'felt like drive', 'felt like dude', 'felt like dying', 'felt like flying', 'felt like getting', 'felt like going', 'felt like good', 'felt like heart', 'felt like hours', 'felt like im', 'felt like judging', 'felt like left', 'felt like legs', 'felt like life', 'felt like little', 'felt like lot', 'felt like maybe', 'felt like months', 'felt like needed', 'felt like new', 'felt like normal', 'felt like old', 'felt like pretty', 'felt like really', 'felt like sharing', 'felt like shit', 'felt like skin', 'felt like thing', 'felt like things', 'felt like time', 'felt like understood', 'felt like wasnt', 'felt long time', 'felt long wish', 'felt normal felt', 'felt normal stimming', 'felt normal time', 'felt numb start', 'felt physically sick', 'felt problem laziness', 'felt really bad', 'felt refreshed ready', 'felt seen read', 'felt sharp stabbing', 'felt sort feel', 'felt super tired', 'felt think used', 'felt tried force', 'felt tried going', 'felt vulnerable lonely', 'felt way felt', 'felt weird anxiety', 'female caucasian symptoms', 'female far remember', 'female im weigh', 'female intact rottweileryellow', 'female past years', 'female process david', 'female struggling figure', 'femboy didnt cause', 'feminine day period', 'fet idk tried', 'fever ive taken', 'fever symptoms going', 'fever tiredness sleep', 'feverish body giving', 'feverish hot day', 'fh paying thing', 'fh understand tends', 'fh way raised', 'fiancé early stages', 'fibroids mgm melanoma', 'fibroids pgm breast', 'field paid live', 'fight demogorgon means', 'fight friends hate', 'fight started showing', 'fight told youre', 'fighting game played', 'fighting games coming', 'fighting lot yelling', 'fighting teams playing', 'fights home mother', 'fights spurred anxiety', 'figure adhd autism', 'figure deals adhd', 'figure life togetherbuild', 'figure make penetration', 'figure plan stick', 'figure reading likely', 'figure reason believe', 'figure want career', 'figure want life', 'figure whats going', 'figure whats wrong', 'figure wrong instead', 'figured adverse reaction', 'figured decent subreddit', 'figured time unfortunately', 'figuring ofc ideal', 'figuring subside uses', 'figuring things deeper', 'file application text', 'file idea different', 'file im sure', 'file needed unzipping', 'file permissions php', 'file phpmyadmin works', 'file taxes year', 'files batch file', 'files user make', 'filing head things', 'filled anxiety ghosting', 'filled dread boredom', 'filled universal bliss', 'filled years sit', 'film glass panel', 'filter say offensive', 'final form vulgar', 'final theory post', 'finally able job', 'finally check phone', 'finally entire life', 'finally fell asleep', 'finally got courage', 'finally got didnt', 'finally graduated uni', 'finally months searching', 'finally think week', 'finally time let', 'finally voice yelling', 'finally wanted wanted', 'finance hope cover', 'finances dating usually', 'finances feel awkward', 'finances hard time', 'financial problems lack', 'financiallythank genuinely responds', 'finasteride finasteride known', 'finasteride known cause', 'finasteride male pattern', 'finasteride march late', 'finasteride mens hair', 'finasteride photo album', 'finding electroform glass', 'finding good shampoo', 'finding impossibly hard', 'finding place use', 'finding point dont', 'finding really hard', 'finds psychiatrist said', 'finds way telling', 'fine arrhythmia svt', 'fine confirmed added', 'fine day bit', 'fine dont know', 'fine figured adverse', 'fine fuck help', 'fine giving special', 'fine glue thing', 'fine going kept', 'fine got quote', 'fine half ram', 'fine happen eventually', 'fine high school', 'fine hookups went', 'fine im worried', 'fine imo boxes', 'fine let hover', 'fine like job', 'fine like lying', 'fine load ryzen', 'fine low light', 'fine mood wouldnt', 'fine past like', 'fine said goodbye', 'fine telling case', 'fine think people', 'fine week half', 'fine weekend im', 'fine went upstairs', 'finger break skin', 'fingerprint reader optical', 'fingers hitting objects', 'fingers holding cheek', 'fingers inserted cheek', 'fingers paid weapons', 'fingers thread rip', 'fingers twist weird', 'finish book anymore', 'finish essay tried', 'finish matter simple', 'finish work hours', 'finished day night', 'finished essay woke', 'finished im trying', 'finished new build', 'finished strong academically', 'finished work ill', 'finishes team competes', 'finishing cabling gpu', 'finishing high school', 'finishing semester masters', 'finishing task assigned', 'finishing thoughts feel', 'finishing year grad', 'fios internet tv', 'fios new router', 'fios quantum gateway', 'fios tv networking', 'fired fast food', 'fired job actually', 'fired months ago', 'fired spent year', 'firstly know region', 'fit ends waste', 'fit int tv', 'fit lets schedule', 'fit profile perfectly', 'fit symptoms like', 'fitbit charge hr', 'fitment issues iem', 'fix dumb kind', 'fix feel like', 'fix im mhz', 'fix issue simgurcomairlemcdsimgurcomairlemcd', 'fix look windows', 'fix things months', 'fixed bios update', 'fixed fraction price', 'fixed mainly want', 'fixes issue reinstalled', 'fixtures receptacles cable', 'flagged liver explanation', 'flailing im vaguely', 'flair prescribed topical', 'flaking isnt like', 'flamboyant bi guy', 'flap surgery weeks', 'flare best figure', 'flared majorly life', 'flash bios got', 'flash fear compulsive', 'flashback russians captured', 'flashed bios install', 'flashing id seen', 'flat flat say', 'flat refused drs', 'flat say ruin', 'flat tell help', 'flatmate cute tell', 'flatmate hangouts going', 'flattened grape squishysemifirm', 'flaw felt innocent', 'flawlessy dont know', 'flaws working spent', 'flexibility hours want', 'flexible mesmerized unfortunately', 'flexible resizable limiting', 'flexible true dancer', 'flight stairs completely', 'flipped ud means', 'flipping ripleys believe', 'floating oily dense', 'floor laid ground', 'floor parking router', 'floor partner long', 'floor staircases im', 'floor toilet like', 'floor total floor', 'floor went met', 'floors replace router', 'floundering trying figure', 'flow duplex pulse', 'flow left like', 'flow noted ovaries', 'flow snapped ovary', 'flowing area ear', 'flu super dangerous', 'fluctuate like thought', 'fluctuating like beats', 'fluffy stuffing seal', 'fluid time looks', 'flurry selfhatred discontinued', 'flushing ears right', 'flushing usually right', 'flying concentrating wasnt', 'fnd pandas seizures', 'foam slight preference', 'foam using drumming', 'foamy times blood', 'focus big thing', 'focus brood day', 'focus feel like', 'focus getting told', 'focus got minute', 'focus love fucking', 'focus phase abruptly', 'focus struggles rarely', 'focus think start', 'focus touching kissing', 'focused energy work', 'focused hoarding things', 'focused oral manual', 'focused task hand', 'focused time trying', 'focusing heart beating', 'focusing symptoms knowing', 'fog feel like', 'folder installed need', 'follicular cyst located', 'follicular cyst misinterpreted', 'follicular phase equal', 'follow format sure', 'followed advice online', 'followers jesus historical', 'following clothing suitable', 'following instructions identify', 'following video gigabyte', 'follows flash fear', 'food allergy basically', 'food appeals look', 'food eating know', 'food floor went', 'food gaining weight', 'food going bad', 'food house conversations', 'food intolerance like', 'food job got', 'food know common', 'food like day', 'food living boost', 'food loved cooking', 'food particular causing', 'food ready big', 'food shortages like', 'food think normal', 'food thinking itll', 'food thoughts like', 'food whats coming', 'foods didnt like', 'foods got period', 'foot ground night', 'foot pressed bed', 'forbid using sharp', 'force awareness thought', 'force fights reborn', 'force leave stop', 'force said overthinking', 'forcing dont belong', 'forcing faking dont', 'forcing stop directing', 'forcing vomit brownie', 'ford fusion hybrid', 'forefront mind chaos', 'foreign exchange relationship', 'foreplay matter ready', 'forever lol raised', 'forever looking came', 'forever reminder fact', 'forget actively try', 'forget deaths didnt', 'forget going say', 'forget speculation loved', 'forget thinking gets', 'forgetting soon thankfully', 'forgot hard struggle', 'forgot protective factors', 'forgot reply friends', 'forgot wash hands', 'forgotten past misbegotten', 'form cancelling refund', 'form factor ultrabook', 'form linux probably', 'form lymphoma think', 'form self harm', 'form treatment tried', 'form vulgar obnoxious', 'format sure answer', 'formatting dont forget', 'formatting parts listwwwredditcomrbuildapcwikipcpp', 'formed crush bit', 'forth visual black', 'forward birthday august', 'forward continue hang', 'forward end day', 'forward evening wake', 'foster emotional intimacy', 'foster intimate connection', 'fostering intimacy knows', 'fourties assessment week', 'fps game settings', 'fps want na', 'fractal hub connections', 'fractal torrent rgb', 'fraction price said', 'frame offer existed', 'fraud dont know', 'fraud feel like', 'fraud ive disconnected', 'freak beating slow', 'freak beats hard', 'freaked heart rate', 'freaking fast heart', 'freaking going job', 'freaks family know', 'free amazon thought', 'free ask questions', 'free chime career', 'free day phone', 'free days later', 'free head forever', 'free random stuff', 'free roam experience', 'free sure like', 'free time im', 'free time watching', 'freedom possible years', 'freeze trying work', 'french honor society', 'french iv apush', 'frequencies radio reach', 'frequency impact point', 'frequent easier shake', 'frequent enjoy socializing', 'frequently know issue', 'frequently months travelother', 'frequently things bad', 'frequently usual symptoms', 'frequently wet bed', 'freshman year college', 'freshman year high', 'freshman year highschool', 'fretting really bad', 'friction shifter pedals', 'friday left office', 'friday like know', 'friday live literally', 'friend bedroom meditating', 'friend benefits benefits', 'friend brother ready', 'friend chilling music', 'friend completely fucked', 'friend decided early', 'friend eating disorder', 'friend facetimes asked', 'friend family member', 'friend finds way', 'friend flatmate cute', 'friend focus struggles', 'friend gave vyvanse', 'friend group logically', 'friend group really', 'friend grows weed', 'friend half hour', 'friend helped car', 'friend huge argument', 'friend ive kinda', 'friend living room', 'friend lost life', 'friend maybe tell', 'friend mind dumb', 'friend nurse training', 'friend really liked', 'friend recently got', 'friend studying mental', 'friend tanked life', 'friend telling time', 'friend thought maybe', 'friend told later', 'friend trip start', 'friend woman obviously', 'friends amazing woman', 'friends apartment barely', 'friends ask help', 'friends barely talk', 'friends beginning life', 'friends best friend', 'friends care said', 'friends confronted told', 'friends died like', 'friends dont act', 'friends dont like', 'friends effort theyre', 'friends encourage comes', 'friends experience life', 'friends family members', 'friends feel awkward', 'friends feel like', 'friends feels like', 'friends felt like', 'friends forbid using', 'friends games really', 'friends girlfriend brothers', 'friends got normal', 'friends hang talk', 'friends hanging friend', 'friends hard time', 'friends hate dickheads', 'friends high school', 'friends im feel', 'friends im super', 'friends intended way', 'friends know chaotic', 'friends leave house', 'friends left reply', 'friends life hit', 'friends like im', 'friends like lately', 'friends like make', 'friends live parents', 'friends love know', 'friends maybe blue', 'friends months ago', 'friends monthsbut dont', 'friends offensive night', 'friends people lost', 'friends probably drinks', 'friends rape victims', 'friends real life', 'friends really feel', 'friends refer girl', 'friends said act', 'friends said way', 'friends says relation', 'friends seeking relationships', 'friends self esteem', 'friends suggested getting', 'friends switch school', 'friends talked daily', 'friends tease butt', 'friends think interested', 'friends told bad', 'friends tripping house', 'friends trust like', 'friends try happened', 'friends week breakdown', 'friends weeks later', 'friends year old', 'friendship best friend', 'friendship plus lots', 'friendship tldr overthinking', 'friendships come really', 'friendships mess felt', 'frozen snowfrostice costume', 'fruits diet month', 'fruits vegetables little', 'frustrated body used', 'frustrated die successfully', 'frustrated feel like', 'frustrating awful feel', 'frustrating child point', 'frustrating feel like', 'frustration knew experience', 'ft breedjects wegg', 'ft lbs got', 'ftw ultra msi', 'fuck chest maybe', 'fuck coming life', 'fuck covid shit', 'fuck feel like', 'fuck fuck fuck', 'fuck stuck head', 'fuck work courts', 'fucked academic future', 'fucked bad began', 'fucked couple times', 'fucked days time', 'fucked horribly best', 'fucked horribly ways', 'fucked march start', 'fucking annoying im', 'fucking brick like', 'fucking completely gender', 'fucking concentrate im', 'fucking dont feel', 'fucking hate dont', 'fucking hate possessive', 'fucking im trying', 'fucking rock ive', 'fucking shit everyday', 'fucking sick shit', 'fucking want job', 'fucking weak got', 'fucking years long', 'fucks immediately like', 'fuels obsession ignoring', 'fulluncomfortable diarrhea prevalent', 'fully goes away', 'fully panicking worst', 'fully time overthinking', 'fully understanding anxious', 'fully vaccinated im', 'fun casual went', 'fun day got', 'fun euphoric drug', 'fun guy spent', 'fun mp games', 'fun nice meet', 'fun taught play', 'fun times love', 'fun want told', 'function im broken', 'function optimally try', 'functioning autism asked', 'functioning autism heard', 'functioning autism prevent', 'functioning understand job', 'funny act like', 'funny entertaining group', 'funny people say', 'funny way feel', 'furniture job clothes', 'fused metal accents', 'fussed refused pay', 'future able frequently', 'future date ask', 'future dream contact', 'future dreams clear', 'future gone allowed', 'future really feel', 'future right going', 'fuzzy like sensory', 'gad note therapist', 'gad panic attacks', 'gain information psychedelics', 'gain weight helps', 'gain younger wanted', 'gained supporters caused', 'gaining weight losing', 'galahad aio fans', 'galahad spinning im', 'gallon gorilla glue', 'game actual workday', 'game amazing struggling', 'game box looting', 'game course fighting', 'game didnt fix', 'game havent seen', 'game ive played', 'game ive playing', 'game like escape', 'game long time', 'game play cpu', 'game recognize game', 'game religious ocds', 'game solely campaign', 'game tarkov attempt', 'game technically yall', 'game watch youtube', 'game years issue', 'gamecube dreamcast way', 'gameplay demo ellie', 'gameplay looks great', 'games end scrolling', 'games group friends', 'games like csgo', 'games long wait', 'games mean know', 'games really use', 'games spending time', 'games suddenly heh', 'games want play', 'games workout routines', 'gamespot im big', 'gaming brings hardly', 'gaming certain games', 'gaming decent setting', 'gaming gaming kind', 'gaming industry really', 'gaming kind performance', 'gaming pc built', 'gaming platform gen', 'gamingstudy beats station', 'gap especially working', 'gap scores scored', 'gap spatialperceptual reasoning', 'garage according quote', 'garage car decided', 'garden center employee', 'gas station chances', 'gaslighting mistreatment told', 'gaslights lot recently', 'gastroenterologist suggests look', 'gastroparesis symptoms excessive', 'gastroparesis thyroid disease', 'gates americans theyre', 'gateway new age', 'gateway router bought', 'gauze coat iodine', 'gave beta blocker', 'gave birth years', 'gave fios quantum', 'gave got new', 'gave ive received', 'gave kernal power', 'gave lots guilt', 'gave options change', 'gave sedatives bunch', 'gb control panel', 'gb corsair ram', 'gb gb ram', 'gb mhz corsair', 'gb ram exact', 'gb ram mhz', 'gdamn days transferred', 'geforce gtx video', 'gel stuff wrong', 'gen urm yn', 'gen want pc', 'gen xbox hear', 'gender bad mf', 'gender makes sense', 'gender white male', 'genderfluid feeling particularly', 'general area explains', 'general arent good', 'general hr related', 'general mental health', 'general social anxiety', 'generalized anxiety disorder', 'generally drier normal', 'generally worried future', 'generated pcpartpickerpcpartpickercom provide', 'generic concerta weeks', 'genesis gamecube dreamcast', 'gentle kind empathetic', 'gently let directing', 'genuinely feel like', 'genuinely responds advance', 'geographic tongue painful', 'germany amsterdam possibly', 'gets arguments hes', 'gets binge starts', 'gets bored remember', 'gets easily distracted', 'gets home work', 'gets louder faster', 'gets painful normally', 'gets pretty loud', 'gets really bad', 'gets red laying', 'gets red warm', 'gets slow youre', 'gets tight frequently', 'gets worse like', 'gets worse luteal', 'gets worse speed', 'gets worse walk', 'getting anxiety anxiety', 'getting attention said', 'getting basically distract', 'getting better better', 'getting better dont', 'getting better feel', 'getting called sir', 'getting called slurs', 'getting car low', 'getting clean health', 'getting concussions anytime', 'getting corona time', 'getting daily suicidal', 'getting daily thoughts', 'getting diagnosed years', 'getting fast bites', 'getting feel like', 'getting fired job', 'getting head normal', 'getting heart palpitations', 'getting help use', 'getting intense focus', 'getting intrusive thoughts', 'getting jaw surgery', 'getting job long', 'getting korean perm', 'getting longer really', 'getting married dont', 'getting married months', 'getting maybe im', 'getting new keyboard', 'getting new ones', 'getting older know', 'getting poisoned backyard', 'getting pour coffee', 'getting prescription doctor', 'getting really close', 'getting rediagnosed like', 'getting sexual stuff', 'getting sexually aroused', 'getting stomach aches', 'getting straight head', 'getting thicker thinner', 'getting uber home', 'getting unlivable years', 'getting weird issues', 'getting women coming', 'getting word like', 'getting word says', 'getting worse day', 'getting worse know', 'getting worse worse', 'gettinh rid junk', 'gf im grumpy', 'gf tattoo shady', 'ghost stories literally', 'ghosting anxiety started', 'ghosting better maybe', 'ghz connection types', 'gi neurologist check', 'gi tested celiacs', 'gible outrage iron', 'gift card months', 'gigabit internet connection', 'gigabyte aorus gaming', 'gigabyte website downloaded', 'giggles wanna vent', 'girl constantly ask', 'girl left surgery', 'girl responded miss', 'girl save life', 'girl snapchat horrible', 'girl walked away', 'girl wanted fight', 'girlfriend brothers friends', 'girlfriend care talked', 'girlfriend says im', 'girlfriend sit couch', 'girls right related', 'gist say post', 'given build welcome', 'given cost distributers', 'given far hard', 'given nts ability', 'given population tlour', 'given think boxes', 'given weeks hospitalisation', 'gives consent injustice', 'gives horrible anxiety', 'gives index file', 'gives lot anxiety', 'gives meaning dont', 'gives paw hurts', 'gives people need', 'gives reason russians', 'gives things id', 'giving away lot', 'giving baths plucking', 'giving clean decent', 'giving kind dopamine', 'giving light headed', 'giving special treatment', 'giving thought concluding', 'giving tired covid', 'giving usual signs', 'givrn reads took', 'glad diagnosed soon', 'glad dont want', 'glad join reddit', 'gland dont know', 'gland minor salivary', 'glass blowers vasile', 'glass blown vases', 'glass collection hours', 'glass fused metal', 'glass master artist', 'glass objects art', 'glass old perfume', 'glass panel case', 'glitter crushed clear', 'glitter eyes like', 'globally items sell', 'glove promptly referred', 'gloves pull poop', 'glue hazard chemicals', 'glue liquid cement', 'glue thing wear', 'gluten dairy days', 'gluten diet really', 'goal engage obsession', 'goals hobbies wiped', 'goals maybe smart', 'god forefront mind', 'god mad idk', 'god need testosterone', 'god telling future', 'god thinks killed', 'god using dreams', 'god war game', 'god writings dead', 'godman experiencing ecstasy', 'gods ability speak', 'goes away feel', 'goes away left', 'goes bit dismissive', 'goes black pc', 'goes completely blank', 'goes count days', 'goes head care', 'goes horribly concentration', 'goes inside head', 'goes like job', 'goes period felt', 'goes read book', 'goes things say', 'goes worse worse', 'going actually feel', 'going add factions', 'going alcohol feel', 'going anymore ive', 'going bad depression', 'going bad fridge', 'going bigger things', 'going body painful', 'going car mechanic', 'going change weight', 'going church paying', 'going circus extremely', 'going come lot', 'going cope putting', 'going crazy feel', 'going dates going', 'going days prevented', 'going die im', 'going doctors things', 'going dont know', 'going drink repeat', 'going feel like', 'going feels like', 'going financial problems', 'going fucking shit', 'going gi neurologist', 'going goofing point', 'going gym regularly', 'going gym started', 'going gym stopped', 'going gym time', 'going hard time', 'going heart attack', 'going home town', 'going homeschool little', 'going im highspeed', 'going inevitablecompletely random', 'going insane pretty', 'going insane started', 'going job help', 'going kept busy', 'going know brain', 'going let gently', 'going let know', 'going long time', 'going lot staying', 'going loved bosses', 'going make away', 'going make difference', 'going make doctors', 'going mind im', 'going month broke', 'going need degree', 'going new aforementioned', 'going nuts thinking', 'going online completely', 'going panic attack', 'going pass moment', 'going pediatrician birth', 'going ps credit', 'going psychiatrist assessment', 'going really bad', 'going really slow', 'going really tough', 'going said going', 'going say cool', 'going school working', 'going sex time', 'going shrink learning', 'going sleep waking', 'going start losing', 'going start negatively', 'going start working', 'going stop inert', 'going stop really', 'going stress child', 'going sunday id', 'going symptoms persistent', 'going talk doctor', 'going therapy worked', 'going think im', 'going time know', 'going tldr want', 'going told later', 'going try make', 'going walks flat', 'going walks outside', 'going wasting money', 'going week heart', 'going work time', 'gone allowed hospital', 'gone bad breakup', 'gone counseling pretty', 'gone dark social', 'gone doesnt apologize', 'gone emotional eating', 'gone good weeks', 'gone idea happening', 'gone idk fear', 'gone im asking', 'gone time task', 'gone unmentioned time', 'gone werent responsive', 'gonna add trigger', 'gonna ask wants', 'gonna bad day', 'gonna come gone', 'gonna explode instant', 'gonna fall break', 'gonna feel like', 'gonna heartattack maybe', 'gonna home said', 'gonna list things', 'gonna look desperate', 'gonna question create', 'gonna russia gives', 'gonna say nukes', 'gonna stuck living', 'good actually bad', 'good apps daily', 'good art hyperfixating', 'good ass day', 'good assignments students', 'good bad thing', 'good bad ugly', 'good condition sensible', 'good day im', 'good days bad', 'good dont know', 'good fell wagon', 'good figure make', 'good food thoughts', 'good friends friends', 'good friends high', 'good games play', 'good hdmi switch', 'good hear like', 'good idea start', 'good idea thanks', 'good include completely', 'good input devices', 'good job want', 'good keyboard reliable', 'good know petty', 'good life im', 'good like time', 'good looking tough', 'good make feel', 'good months later', 'good mood forcing', 'good mood time', 'good new im', 'good news sense', 'good night im', 'good nights sleep', 'good paying job', 'good people feel', 'good person treat', 'good poop stool', 'good portion difficulties', 'good portion life', 'good really good', 'good remembering details', 'good routines need', 'good said thanks', 'good seal sony', 'good social media', 'good spot pain', 'good starting point', 'good store support', 'good thing idk', 'good thing tend', 'good things im', 'good things said', 'good things trans', 'good time dont', 'good time drinking', 'good time sad', 'good times mind', 'good true feel', 'good turned freshman', 'good understanding personal', 'good used google', 'good wake morning', 'good way way', 'good weeks break', 'good weird im', 'goodamazing period severe', 'goodbye watched leave', 'goodnight wanted didnt', 'goofing point trying', 'goofy version family', 'google avoid happening', 'google doesnt bring', 'google real feel', 'google vocabulary words', 'googled googled hard', 'googled hard actual', 'googling linux gives', 'gor advices cause', 'gorgeous course caught', 'gorilla glue liquid', 'gospels dont mention', 'got advice simple', 'got advice thanks', 'got angry started', 'got angry told', 'got anxious went', 'got bedbugsniffing dog', 'got better deal', 'got bit bored', 'got bit nervous', 'got bit touchy', 'got chance im', 'got classes adult', 'got college drop', 'got colonoscopy endoscopy', 'got covid particularly', 'got ct scan', 'got diagnosed adhd', 'got diagnosed medication', 'got diagnosed ocd', 'got diagnosed pcos', 'got diagnosed severe', 'got diagnosis adhd', 'got didnt immediately', 'got dressed said', 'got email stating', 'got exchanging texts', 'got fake snow', 'got fired job', 'got fired spent', 'got free dont', 'got gym feeling', 'got health insurance', 'got high school', 'got hold asked', 'got home small', 'got home smoked', 'got home weighed', 'got home work', 'got intrusive thought', 'got job time', 'got kicked house', 'got killed demogorgon', 'got killed episode', 'got letter saying', 'got lexapro dosage', 'got little heated', 'got little light', 'got married weeks', 'got maybe regular', 'got medical attention', 'got medical marijana', 'got medication week', 'got meet think', 'got minute thrusting', 'got month old', 'got new apartment', 'got new different', 'got new job', 'got normal degree', 'got official diagnosis', 'got period sunday', 'got period told', 'got phone couple', 'got point life', 'got prescribed adderall', 'got pretty good', 'got quite fast', 'got quote week', 'got realised living', 'got really anxious', 'got really bad', 'got really cold', 'got really excited', 'got really good', 'got report pictures', 'got restraining order', 'got ryzen cpu', 'got scared dipped', 'got second dui', 'got shot lump', 'got skill trident', 'got stronger stronger', 'got super drunk', 'got talk moved', 'got thinking totally', 'got thought time', 'got uncomfortably ive', 'got uneasy feeling', 'got upset said', 'got usual email', 'got ventilator day', 'got work home', 'got worse really', 'got worse tried', 'got worse worse', 'got wrong hell', 'gotcha moment end', 'gotta gotcha moment', 'gotta research possible', 'gotten bad mom', 'gotten better know', 'gotten borderline suiiiicedde', 'gotten case idea', 'gotten lot worse', 'gotten really bad', 'gotten samsung series', 'gotten shorter covid', 'gotten worse dont', 'gout flare best', 'gpa uww weighted', 'gps secretary heard', 'gpu amd catalyst', 'gpu gx boot', 'gpu happens turn', 'gpu stress test', 'gpu stress testing', 'gpu upgrading cheap', 'grab let allow', 'grabbed coffee sugar', 'grabs early damage', 'grad school high', 'grad working remotely', 'grade came lesbian', 'grade daily panic', 'grade felt sharp', 'grade paranoid low', 'grade teacher read', 'grade thought mentally', 'grades remember feeling', 'gradually got worse', 'gradually gotten effective', 'graduate program yes', 'graduated high school', 'graduated nursing school', 'graduated uni months', 'grain agriculture grown', 'grain traded planet', 'grain used things', 'grand scheme things', 'grand theft auto', 'grandfather passed away', 'grandma bring house', 'grandmothers house large', 'granted lot going', 'grape squishysemifirm moveable', 'graphic design years', 'graphical calculator java', 'graphical cells exact', 'grasp concept struggling', 'grass fun stuff', 'grass mixed used', 'grass noticed pocket', 'grass sheep eating', 'grav page located', 'grease turns magical', 'great advice suggestions', 'great day day', 'great experiences acted', 'great father years', 'great felt normal', 'great fluid time', 'great imo shouldnt', 'great long things', 'great makes look', 'great mind like', 'great panic free', 'great time felt', 'great time new', 'great time watching', 'great working fine', 'greatly appreciated edit', 'greatly appreciated tell', 'greatly appreciated thank', 'greatly appreciated thanks', 'greed mode judas', 'greek restaurant quiet', 'green bronze certified', 'green brown foamy', 'grew jehovahs witness', 'grew religious know', 'grief feel like', 'grocery store randomly', 'grocery store stuff', 'gross started driving', 'gross unable catch', 'ground barks hair', 'ground bit tendency', 'ground feel best', 'ground growing tough', 'ground hard break', 'ground night example', 'ground panicanxiety attacks', 'ground sami help', 'ground satellite isp', 'ground seizures got', 'ground wanted hurt', 'group friends talked', 'group help period', 'group humans low', 'group logically makes', 'group meetings like', 'group partner complains', 'group setting feels', 'group upwards discuss', 'grow house electrical', 'grow natural nails', 'growing easy high', 'growing food ready', 'growing food whats', 'growing lately ive', 'growing resolving started', 'growing tough high', 'growling ate bowl', 'grown demogordon assume', 'grown demogordon dont', 'grows weed year', 'growth originally wanted', 'grumpy time want', 'gta san andreas', 'gtx gpu upgrading', 'gtx video amazon', 'guarantee remain awareness', 'guard dont really', 'guess accessory parotid', 'guess brain gets', 'guess case got', 'guess doomer really', 'guess encouragement feel', 'guess favorites partners', 'guess fear special', 'guess feel like', 'guess good really', 'guess good thing', 'guess graduating college', 'guess ill dont', 'guess im asking', 'guess im saying', 'guess im scared', 'guess im trying', 'guess maybe pacing', 'guess pressure switch', 'guess questions think', 'guess regional ap', 'guess think dehydrated', 'guess tldr period', 'guess want know', 'guess worried touxhed', 'guessing easy fix', 'guessing guys went', 'guilt carry week', 'guilt finances hard', 'guilt shame dropped', 'guilty feel like', 'guilty makes worse', 'guilty money conversations', 'guitar think starts', 'gums surrounding tooth', 'gun piercings nose', 'guns perks boxes', 'guns saying like', 'gusto ko lang', 'guy came home', 'guy community college', 'guy cookout worker', 'guy cool hang', 'guy deathcam shooting', 'guy dont think', 'guy feel like', 'guy gonna russia', 'guy headshot thought', 'guy hit bumper', 'guy hit jump', 'guy house posting', 'guy like week', 'guy maybe dont', 'guy party available', 'guy percieved female', 'guy said nearly', 'guy seeing like', 'guy solved everybody', 'guy spent years', 'guy sure going', 'guy took couple', 'guy video game', 'guy wanted badly', 'guy wont discuss', 'guys feel like', 'guys helped pick', 'guys kinda annoying', 'guys make ends', 'guys need help', 'guys obsession loops', 'guys scariest strangest', 'guys think increasing', 'guys think like', 'guys think lol', 'guys think new', 'guys vyvanse half', 'guys went korean', 'gx boot ssd', 'gym come end', 'gym corona volunteer', 'gym feeling bit', 'gym help feel', 'gym place stress', 'gym regularly days', 'gym started hanging', 'gym stopped playing', 'gym think undiagnosed', 'gym time really', 'gym went hour', 'gym working twice', 'gynecologist told thats', 'gyno week results', 'ha gible outrage', 'ha like barely', 'ha shroomish ha', 'habit disassociating child', 'habits people experience', 'habits really bad', 'hair bit wavy', 'hair fall ive', 'hair falling lot', 'hair like crazy', 'hair loss drug', 'hair lot thicker', 'hair people say', 'hair shedding loss', 'hair stands hears', 'hair used shed', 'hair wavy im', 'hairs day lot', 'half ago starting', 'half ago weeks', 'half asking know', 'half feel bad', 'half gained supporters', 'half hour ago', 'half hour attracted', 'half hour away', 'half hour coffee', 'half hour friend', 'half hour heard', 'half immediately started', 'half months zoloft', 'half ram showing', 'half started getting', 'half time im', 'half time try', 'half venting half', 'half year feel', 'halfturned guns saying', 'hall started crying', 'halloween costume needs', 'hallucinate feel paranoid', 'halted obvious reasons', 'ham lmk commentary', 'ham noah favor', 'hand experiences original', 'hand randomly start', 'handful time hs', 'handle certain types', 'handle hdr recommendations', 'handle hdr xbox', 'handle hearing trauma', 'handle income use', 'hands arms flailing', 'hands cold circulation', 'hands feet tingly', 'hands feet turn', 'hands fingers twist', 'hands got home', 'hands legs went', 'hands painfulitchy welts', 'hands remind seen', 'hang door lazy', 'hang introduces family', 'hang takes care', 'hang talk wanted', 'hanging friend facetimes', 'hanging friend ive', 'hanging people couple', 'hangout friend mind', 'hangout rhein feel', 'hangouts going walks', 'happen dont things', 'happen eventually forcing', 'happen everytime play', 'happen feel bad', 'happen fucks immediately', 'happen game play', 'happen home wasnt', 'happen honestly im', 'happen period used', 'happen price im', 'happen really depressed', 'happened body locked', 'happened brand new', 'happened couple times', 'happened days ago', 'happened dont know', 'happened hoping theres', 'happened june meaning', 'happened lack closure', 'happened long ago', 'happened months ago', 'happened news comment', 'happened november october', 'happened october couple', 'happened peeling plastic', 'happened restaurant today', 'happened sense teachers', 'happened soldiers lost', 'happened speak usually', 'happened suggested physiologically', 'happened thing noticed', 'happened thought experienced', 'happened thought gonna', 'happened time tried', 'happened times try', 'happened twice year', 'happened week june', 'happened weeks ago', 'happened worked fine', 'happened years ago', 'happening alcohol giving', 'happening booting usb', 'happening dont story', 'happening feel like', 'happening fixed bios', 'happening going church', 'happening im completely', 'happening im kind', 'happening initial moment', 'happening like stuck', 'happening outside body', 'happening painful keeps', 'happening started today', 'happening week half', 'happens asked open', 'happens bc meds', 'happens delaying delivery', 'happens feel like', 'happens movies paid', 'happens multiple times', 'happens nonnegotiables deal', 'happens turn missed', 'happenshow goes bit', 'happily married years', 'happiness appreciation trying', 'happiness friends encourage', 'happy cheering suddenly', 'happy dont know', 'happy enjoy bad', 'happy enjoying work', 'happy feel like', 'happy granted lot', 'happy im sad', 'happy know life', 'happy leave gotta', 'happy leaves walks', 'happy pant happy', 'happy proud lbs', 'happy sent drunk', 'happy shake times', 'happy straight looked', 'happy students left', 'happy visit going', 'happy world like', 'harassment discrimination felt', 'hard able really', 'hard actual recommendations', 'hard beating hard', 'hard beating maybe', 'hard believe like', 'hard break skin', 'hard concentrate telling', 'hard dont really', 'hard explain feeling', 'hard fast right', 'hard feel like', 'hard forcing dont', 'hard good person', 'hard impress classic', 'hard intensely boring', 'hard interact people', 'hard kinda dry', 'hard like bed', 'hard lose weight', 'hard parts case', 'hard people like', 'hard phase heart', 'hard phases heart', 'hard really option', 'hard say im', 'hard sex special', 'hard slow decided', 'hard spend money', 'hard struggle desperately', 'hard taken lot', 'hard therapy needs', 'hard things like', 'hard time accepting', 'hard time asking', 'hard time connecting', 'hard time figuring', 'hard time finding', 'hard time focusing', 'hard time getting', 'hard time know', 'hard time learning', 'hard time maintaining', 'hard time making', 'hard time sunday', 'hard time telling', 'hard time trying', 'hard time understanding', 'hard times feels', 'hard touch like', 'hard try best', 'hard turned masturbate', 'hard wonderful treasure', 'hard wrap head', 'harddrive ive plugged', 'harder faster eat', 'harder lives come', 'harder make look', 'harder slightly faster', 'harder wake morning', 'harder worker company', 'hardest listen realise', 'hardest lose weight', 'hardly pleasure im', 'hardware whats suitable', 'harm stimming hit', 'harm tho time', 'hassle getting rediagnosed', 'hat weapons pine', 'hatch unnecessarily heat', 'hate dickheads prove', 'hate dont like', 'hate fat heart', 'hate feel like', 'hate feeling like', 'hate feeling way', 'hate fucking hate', 'hate gay people', 'hate hate hate', 'hate hate want', 'hate hope dies', 'hate incredible snap', 'hate job like', 'hate kneejerk reaction', 'hate life hate', 'hate people say', 'hate possessive feeling', 'hate want need', 'hate way look', 'hated meds pretty', 'havent able eat', 'havent able stay', 'havent able stop', 'havent checked bios', 'havent felt like', 'havent gotten case', 'havent paid attention', 'havent rooted android', 'havent seen im', 'havent seen post', 'havent seen signs', 'havent seen years', 'havent tried new', 'havent tried plugging', 'hawaiian sunshine garden', 'hawkins area demogorgon', 'hazard chemicals lol', 'hazard damn right', 'hdd didnt click', 'hdmi cord monitor', 'hdmi im tight', 'hdmi outlet time', 'hdmi ports support', 'hdmi switch handle', 'hdmi switch ports', 'hdmi switch recommendations', 'hdr recommendations currently', 'hdr wewdigi hdmi', 'hdr xbox pro', 'hdtv walmart needed', 'head arms porcelain', 'head big things', 'head bright red', 'head bumped grade', 'head care need', 'head dont know', 'head feel like', 'head felt like', 'head flamboyant bi', 'head forever reminder', 'head help way', 'head hits pillow', 'head hurts like', 'head hurts time', 'head ifwhen stuck', 'head knocked food', 'head need theyre', 'head normal afab', 'head pocket sand', 'head promise going', 'head rarely inquires', 'head running thousand', 'head sit chair', 'head sudden bird', 'head tend anxious', 'head things wanna', 'head tho know', 'head time weak', 'head tired feeling', 'head turn ac', 'head went upstairs', 'head whiney feels', 'headache body aches', 'headache feel like', 'headaches getting worse', 'headed actually heartattack', 'headed obviously anxiety', 'headphones head knocked', 'heads tails said', 'headshot irl killed', 'headshot thought killed', 'headspace usually used', 'heal rape reading', 'health absolutely falling', 'health anxiety hope', 'health anxiety lot', 'health anxiety panic', 'health anxiety recently', 'health bills fine', 'health counseling program', 'health earlier things', 'health ensued informal', 'health friends family', 'health hazard damn', 'health im trying', 'health insurance time', 'health issues years', 'health life long', 'health mental health', 'health money things', 'health ms step', 'health nurse suggested', 'health physical health', 'health problems anxiety', 'health seriously happens', 'health talking stigma', 'health university religious', 'healthier choices trying', 'healthier sugars candy', 'healthy balance work', 'healthy lives anxious', 'hear bunch stories', 'hear directly patient', 'hear ears echoed', 'hear kick drum', 'hear like started', 'hear like weeks', 'hear movies play', 'hear opinions took', 'hear people say', 'hear people thoughts', 'hear sitting hours', 'hear united nations', 'hear watery contents', 'hear xbox ports', 'heard best friend', 'heard calling lips', 'heard echoing voice', 'heard feel recently', 'heard flat refused', 'heard good spot', 'heard good things', 'heard great things', 'heard horror stories', 'heard knew hear', 'heard looked play', 'heard lots stories', 'heard people adhd', 'heard people say', 'heard psychologists refer', 'heard song multiple', 'heard sound thats', 'heard theres texts', 'hearing stories fun', 'hearing trauma rest', 'hears sure normal', 'hears walk road', 'heart attack fears', 'heart attack kill', 'heart attack occasional', 'heart attack stroke', 'heart beat came', 'heart beat fast', 'heart beating harder', 'heart beating kinda', 'heart boom thought', 'heart calmed like', 'heart condition cardio', 'heart condition paired', 'heart crushed help', 'heart fast hard', 'heart fears grade', 'heart feeling like', 'heart feels like', 'heart feels really', 'heart fluctuate like', 'heart freaked heart', 'heart gets slow', 'heart increase brother', 'heart increased think', 'heart issues like', 'heart kinda races', 'heart monitors days', 'heart opposite point', 'heart palp like', 'heart palpitations feels', 'heart palpitations heart', 'heart palpitations like', 'heart palpitations make', 'heart palpitations occurred', 'heart pounding fast', 'heart races day', 'heart races minimal', 'heart rate blood', 'heart rate chart', 'heart rate fever', 'heart rate goes', 'heart rate going', 'heart rate went', 'heart rates aagian', 'heart rates like', 'heart rates said', 'heart said fine', 'heart skip beat', 'heart skipping beat', 'heart skips beat', 'heart slows idk', 'heart started racing', 'heart stop beating', 'heart super hard', 'heart thinking makes', 'heart today decided', 'heart weak pulse', 'heart weak slow', 'heartattack early age', 'heartattack maybe brother', 'heartattack maybe time', 'heartrate maybe aroun', 'heat fever tiredness', 'heat sync sticky', 'heat wave mini', 'heated argument said', 'heated mom anxious', 'heavy bleeding stopped', 'heavy ive noticing', 'heavy pop punk', 'heavy yesterday eat', 'heels started banging', 'heh heart boom', 'held neck little', 'held talked told', 'held talking photographervideographer', 'hell belong ill', 'hell drain wallet', 'hell feel like', 'hell filled years', 'hell happened peeling', 'hell im outside', 'hell medical expert', 'hell past weeks', 'hell started bleeding', 'hell thought suicided', 'hell trying change', 'hell worth ill', 'hello background body', 'hello current job', 'hello good day', 'hello guys need', 'hello guys wondering', 'hello hope youre', 'hello im looking', 'hello im new', 'hello ive using', 'hello lovely people', 'hello magandang araw', 'hello male finishing', 'hello master electrician', 'hello need advice', 'hello need help', 'hello really want', 'hello started weight', 'hello taking lexapro', 'hello thank calling', 'hello title says', 'hello try summarize', 'hello weed smoker', 'hello year old', 'hellscape immediately make', 'help accommodations ok', 'help advance hope', 'help anxiety depression', 'help anxiety help', 'help ask help', 'help awesome thanks', 'help bad help', 'help bit leave', 'help challenges life', 'help changed case', 'help context question', 'help dont know', 'help dont want', 'help fall asleep', 'help feel better', 'help feel guilty', 'help feel like', 'help feel lot', 'help feels far', 'help figure adhd', 'help focus brood', 'help giving usual', 'help goes inside', 'help greatly appreciated', 'help guess im', 'help guys kinda', 'help hard parts', 'help hell week', 'help im really', 'help im scared', 'help im sorry', 'help im wits', 'help ive able', 'help ive running', 'help know let', 'help let know', 'help live like', 'help lol sorry', 'help low budget', 'help make easier', 'help makes feel', 'help need exist', 'help need im', 'help period gotten', 'help plan tonight', 'help problem solving', 'help realized reason', 'help regulate bpm', 'help right im', 'help seeing scale', 'help self esteem', 'help sleep better', 'help thanks advance', 'help thanks edit', 'help think accommodations', 'help think good', 'help think happening', 'help thinking maybe', 'help tried posting', 'help use wellbeing', 'help want lose', 'help way interact', 'help woke early', 'help years old', 'helped best experienced', 'helped car apartment', 'helped ect definitely', 'helped feel better', 'helped make thoughts', 'helped pick parts', 'helped spoke struggles', 'helpful feel like', 'helpful hold hands', 'helpful kind issue', 'helpful right dont', 'helpful share peers', 'helpful tesla buying', 'helpful underwent physicalsexual', 'helping new class', 'helping regulate stable', 'helping typing im', 'helpless panic attacks', 'helpready read sidebar', 'helps chewing molars', 'helps immensely point', 'helps know really', 'helps making forget', 'helps physical symptoms', 'hemp body soap', 'herei start paralyzing', 'heres example thread', 'heres line thinking', 'heres problem fans', 'hernia weight loss', 'hes deserved better', 'hes favorite composers', 'hes hit mom', 'hes literally anymore', 'hes really big', 'hesitant nonsurface topic', 'hesitant way bit', 'hex womanless teens', 'hey guys bought', 'hey guys im', 'hey guys ive', 'hey im going', 'hey im new', 'hey passed state', 'hey process diagnosed', 'hey recently got', 'hey started generic', 'hey turned april', 'hi apologize advance', 'hi best friend', 'hi fellow plant', 'hi guys scariest', 'hi guys vyvanse', 'hi guys wanted', 'hi im going', 'hi im hoping', 'hi im looking', 'hi im neighborhood', 'hi im started', 'hi little year', 'hi lovely people', 'hi male working', 'hi moms market', 'hi posted night', 'hi recently got', 'hi rumors refresh', 'hi year old', 'hi youd perfect', 'hiatal hernia weight', 'hidden abilities egg', 'hiding obvious disability', 'high achieving kid', 'high blood pressure', 'high doctors bc', 'high end pcs', 'high fat foods', 'high feel like', 'high finally graduated', 'high functioning autism', 'high heart rate', 'high hell started', 'high idle average', 'high nutrienal yields', 'high risk come', 'high school cognisant', 'high school college', 'high school competitive', 'high school diploma', 'high school experience', 'high school fed', 'high school feel', 'high school friends', 'high school got', 'high school im', 'high school like', 'high school mom', 'high school pain', 'high school planning', 'high school really', 'high school think', 'high school year', 'high school years', 'high sex drive', 'high work ethic', 'highaf like suddenly', 'higher dreams come', 'higher idk fast', 'higher milage good', 'higher paying job', 'higher power lucid', 'higher upper limit', 'higher ups kind', 'highest scorer schools', 'highly reach directly', 'highly skilled field', 'highpowered big antenna', 'highs getting car', 'highschool failed ending', 'highschool going homeschool', 'highschool got college', 'highschool started terrible', 'highspeed internet connection', 'highspeed traffic trying', 'highway convenient finding', 'highway crime manage', 'highway dangerous highway', 'highway home make', 'highway state morning', 'hinders thought medication', 'hindsight feeling like', 'hip eat lick', 'hip hold paw', 'hip hop radio', 'hip pain musclejoint', 'hips skin redness', 'hired contractor work', 'hiring professional photographer', 'histamine intolerance mcas', 'historical perspective accredited', 'history ap modern', 'history chem macro', 'history course cut', 'history covering prehistory', 'history covering present', 'history doable econmath', 'history endometriosis pcos', 'history mother uterine', 'history opposed preap', 'history tmj predominately', 'hit adulthood know', 'hit bumper traffic', 'hit fan deaths', 'hit fucking rock', 'hit jump instead', 'hit mom argument', 'hit rough patch', 'hit test heard', 'hit thigh head', 'hit years kinda', 'hitboxes game amazing', 'hits like fucking', 'hits pillow coffee', 'hits time ready', 'hitting arms regardless', 'hitting boyfriend legs', 'hitting objects trying', 'hitting underestimating day', 'hives listed uncommon', 'hives noticed hard', 'hoarding things wanna', 'hobbies leisure activities', 'hobbies nature optionsan', 'hobbies wanna try', 'hobbies watching netflix', 'hobbies wiped spend', 'hobby gotta research', 'hobby level research', 'hobby lobby looks', 'hoe forward thank', 'hogging conversation wont', 'hold asked account', 'hold fast food', 'hold flurry selfhatred', 'hold hands remind', 'hold job maybe', 'hold paw know', 'holding cheek fever', 'holding job problem', 'holding need grab', 'holding steering wheel', 'holds version final', 'hollow piece code', 'holy fucking shit', 'home bed small', 'home builders accepted', 'home chores certain', 'home days later', 'home didnt kissed', 'home didnt really', 'home dont know', 'home dropped home', 'home early like', 'home feel kinda', 'home feel like', 'home home early', 'home im going', 'home kicks im', 'home make dinner', 'home messaged day', 'home mode intel', 'home mom work', 'home mother overlooked', 'home motivation watch', 'home needle poor', 'home notice legs', 'home party want', 'home payed dropped', 'home pretend im', 'home productive currently', 'home really feeling', 'home said fine', 'home said think', 'home scratch hours', 'home sex went', 'home small argument', 'home smoked cig', 'home time start', 'home time want', 'home town live', 'home wasnt protect', 'home week month', 'home weighed peed', 'home world makes', 'homeless people rubbish', 'homeless poor mean', 'homeless street leaves', 'homeschool little know', 'honda fit lx', 'honda odyssey issues', 'honest feel like', 'honest im scared', 'honest like happens', 'honest thank advance', 'honestly confused hurt', 'honestly dont know', 'honestly dont really', 'honestly dont think', 'honestly dont want', 'honestly feel like', 'honestly feels like', 'honestly im dont', 'honestly im really', 'honestly im scared', 'honestly kinda feels', 'honestly know planning', 'honestly like lot', 'honestly probably wouldnt', 'honestly productive time', 'honestly really want', 'honestly think id', 'honestly think im', 'honestly wondering justify', 'honesty fast forward', 'honeymoon know hyper', 'honeymoon rehearsal dinner', 'honor international super', 'honor society inductee', 'honors satact section', 'honour words complain', 'hoodie asking saying', 'hoodie claims mentioned', 'hoodie packed said', 'hoodie quarantine okay', 'hoodie stuff like', 'hoodie time lol', 'hook retro systems', 'hook tv switch', 'hookup theres added', 'hookups better relationships', 'hookups said fine', 'hookups said yes', 'hookups went impression', 'hop radio chill', 'hope best design', 'hope better days', 'hope cover repairs', 'hope growing food', 'hope items prove', 'hope left area', 'hope makes sense', 'hope nice day', 'hope okay post', 'hope old fans', 'hope post past', 'hope right place', 'hope sense input', 'hopefully cause im', 'hopefully makes sense', 'hopefully sort job', 'hopefully starting soon', 'hopeless want die', 'hopes infect spread', 'hoping adhd diagnosis', 'hoping cure sleep', 'hoping group help', 'hoping overeat vacation', 'hoping theres insight', 'hopper final theory', 'horde type mode', 'horizontal jlist listmodel', 'hormones coincidence bad', 'horrible anxiety kinda', 'horrible fallout wit', 'horrible feeling im', 'horrible like awful', 'horrible person feel', 'horrible really scared', 'horrible shit says', 'horrible things happened', 'horrible time management', 'horribly best friend', 'horribly concentration overthink', 'horribly sad years', 'horribly ways end', 'horror stories people', 'hospital corona mind', 'hospital days post', 'hospital figuring subside', 'hospital freaks family', 'hospital gave sedatives', 'hospital hospital insurance', 'hospital insurance longer', 'hospital medical school', 'hospital week feel', 'hospitalisation leave ease', 'hosting webpage example', 'hot day car', 'hot feverish body', 'hot feverish hot', 'hot fuck stuck', 'hour attracted like', 'hour coffee kicked', 'hour day ah', 'hour falling asleep', 'hour friend brother', 'hour half later', 'hour heard echoing', 'hour hour session', 'hour house min', 'hour im rewarded', 'hour later im', 'hour later real', 'hour lovable best', 'hour roommates came', 'hour session town', 'hour task hour', 'hour therapy barely', 'hour time spending', 'hour walk got', 'hour work day', 'hours accident feel', 'hours ago chat', 'hours broken edit', 'hours couple days', 'hours day finding', 'hours day getting', 'hours day started', 'hours eating breakfast', 'hours eating gastroparesis', 'hours edible took', 'hours ended spending', 'hours falls asleep', 'hours feel like', 'hours happened times', 'hours heart rates', 'hours heartrate maybe', 'hours hospital medical', 'hours hours eating', 'hours im going', 'hours later arguing', 'hours later day', 'hours later felt', 'hours later finished', 'hours later got', 'hours later longer', 'hours left let', 'hours lucid feel', 'hours making sure', 'hours max ive', 'hours night used', 'hours pressure appears', 'hours pulled kiss', 'hours reading rereading', 'hours recurring panics', 'hours sleep night', 'hours today reading', 'hours wake like', 'hours want work', 'hours week retail', 'hours wish listing', 'hours work absolutely', 'hours work rest', 'hours working woke', 'hours worth work', 'house argued house', 'house came twice', 'house children age', 'house conversations especially', 'house crippling social', 'house days left', 'house dogs lately', 'house electrical contracting', 'house fucking weak', 'house keys keys', 'house large family', 'house leave food', 'house living room', 'house min walk', 'house new construction', 'house posting single', 'house sons playroom', 'house technically deed', 'house try quell', 'house went apologize', 'house wide open', 'houses thing margins', 'hover awareness directing', 'hover awareness trying', 'hover going let', 'howll react worse', 'hows roi job', 'howto videos sort', 'hp touchscreen laptop', 'hr related info', 'hrs atm refuse', 'hs ended diagnosed', 'hs school work', 'hs started depressed', 'ht drugs lipitor', 'ht meds alo', 'ht meds changed', 'htaccess thing start', 'hub connections left', 'hub plugged cpufan', 'huge argument ended', 'huge breakfast hungry', 'huge gap especially', 'huge panic attacks', 'huge party scene', 'huge rant guess', 'huge red flag', 'huge social support', 'huge trigger panic', 'hugged left car', 'huh psychiatrist sad', 'hulu prime video', 'human life complete', 'human mind soul', 'human nature way', 'humans experience means', 'humans low self', 'humor similar like', 'humour tends come', 'hunched bathroom floor', 'hung called got', 'hunger noticing hair', 'hunger pains times', 'hunger tummy growling', 'hungry couple hours', 'hungry desire eat', 'hungry feel hunger', 'hungry past easily', 'hunt information recent', 'huntingtons bipolar slightly', 'hurt bit looked', 'hurt briefly hurt', 'hurt dont know', 'hurt included pictures', 'hurt kind freaking', 'hurt looks like', 'hurt lot know', 'hurt night discouraged', 'hurt promise tell', 'hurts lot foreplay', 'hurts pain advice', 'hurts physical sat', 'husband kept turning', 'husband meal kept', 'husband partner wonderful', 'hydrating cleanser morning', 'hydro boost gel', 'hyper aware hyper', 'hyper aware small', 'hyper centre attention', 'hyper focus phase', 'hyper focused like', 'hyper focusing heart', 'hyper focusing random', 'hyper focusing symptoms', 'hyperechoic liver parenchyma', 'hyperfixating tiny details', 'hyperfocus beginning gone', 'hyperfocus understand hyperfocus', 'hypochondria depression anxiety', 'hypothyroidism know anymore', 'hypotrophy said concern', 'iatrogenic people completely', 'ibd colonoscopy endoscopy', 'ibs ibd colonoscopy', 'ibuprofen recommended bottle', 'icons text gone', 'id appreciate comments', 'id catastrophize fear', 'id change life', 'id consumed edibles', 'id drinks fun', 'id feel like', 'id felt physically', 'id fit ends', 'id greatly appreciate', 'id guess maybe', 'id hangout friend', 'id like able', 'id like add', 'id like believe', 'id like change', 'id like know', 'id like later', 'id like make', 'id like new', 'id like resources', 'id like say', 'id like spend', 'id like stay', 'id like think', 'id like trade', 'id look forward', 'id love hear', 'id love know', 'id love try', 'id love use', 'id need know', 'id obviously like', 'id partaken fair', 'id perfect crickets', 'id play maybe', 'id prefer diagnose', 'id probably treat', 'id really appreciate', 'id really like', 'id really love', 'id say pretty', 'id say say', 'id seen howto', 'id smoking weed', 'id spend money', 'id using weed', 'id work retail', 'idc people day', 'idea asus monitor', 'idea brenner escaped', 'idea bullshitting idea', 'idea dentist ent', 'idea different whats', 'idea dont biblical', 'idea explain scares', 'idea forcing vomit', 'idea going anymore', 'idea happening started', 'idea im getting', 'idea im going', 'idea im want', 'idea im wrong', 'idea let know', 'idea long wills', 'idea man im', 'idea rightclick select', 'idea thought necessary', 'idea want life', 'idea whats happening', 'idea wrong working', 'ideal car ive', 'ideal stupid expensive', 'ideally bit backpacking', 'ideally id like', 'ideally use lucid', 'ideas edit ive', 'ideas fine week', 'ideas gettinh rid', 'ideas greatly appreciated', 'ideas im female', 'ideas issue like', 'ideas like suggest', 'ideas london donate', 'ideas make business', 'ideas want thank', 'identical red help', 'identify problem usually', 'identity issues indians', 'idk anxiety caused', 'idk anxiety feel', 'idk dont money', 'idk fast heart', 'idk fast id', 'idk fear dying', 'idk feel like', 'idk gonna come', 'idk guys think', 'idk hard explain', 'idk im getting', 'idk know big', 'idk like concerning', 'idk looking guess', 'idk man calm', 'idk needed vent', 'idk pay attention', 'idk really want', 'idk sorry long', 'idk started happening', 'idk thing kinda', 'idk think im', 'idk tried avoid', 'idk wanna pay', 'idle average bios', 'idle chit chat', 'idle comes fact', 'idle temperature way', 'idled like normal', 'iem tips comes', 'iems companies like', 'ifwhen stuck anxious', 'ig woke began', 'ign like receive', 'ignore anxious thoughts', 'ignore semimess build', 'ignored fourties assessment', 'ignored kind oh', 'ignored talked upsetting', 'ignoring makes anxious', 'iimgurcomdefnygcjpg disappearing icons', 'iimgurcomfyuquxhpng plays sound', 'iimgurcomhlfliwsjpg iimgurcomdefnygcjpg disappearing', 'ill dont want', 'ill end failing', 'ill fair bit', 'ill feel better', 'ill feel like', 'ill hard time', 'ill laying moment', 'ill list specs', 'ill miss end', 'ill moment madness', 'ill probably hate', 'ill real man', 'ill rewarded work', 'ill spend time', 'ill sure update', 'ill switch couple', 'ill try make', 'ill try short', 'ill trying run', 'ill watching movie', 'ill way react', 'illnesses manifested uncomfortable', 'illnesses prozac klonopin', 'im able explain', 'im able job', 'im able type', 'im accepted feel', 'im actually good', 'im adult im', 'im afraid dont', 'im afraid ill', 'im afraid wont', 'im alarmed showed', 'im anxiety heart', 'im anxious day', 'im anxious state', 'im anxious time', 'im ashamed im', 'im asking attention', 'im asking case', 'im asking feel', 'im asking focused', 'im asking im', 'im asking maybe', 'im assuming amd', 'im avoiding nightmares', 'im bad day', 'im bad person', 'im basically good', 'im basically wondering', 'im beginning wonder', 'im better able', 'im better im', 'im better place', 'im bi feel', 'im big fan', 'im bit concerned', 'im bit confused', 'im blown away', 'im bored dont', 'im bothered reason', 'im brand new', 'im broken im', 'im btw things', 'im burden world', 'im burnt work', 'im busy thinking', 'im capable feeling', 'im celebrating scriabmas', 'im certain stress', 'im college student', 'im comfortable talking', 'im community college', 'im completely lost', 'im concerned mother', 'im concerned overall', 'im confused delete', 'im confused ive', 'im consciously example', 'im considering ordering', 'im convinced luteal', 'im curious know', 'im curious thanks', 'im currently cake', 'im currently like', 'im currently playing', 'im currently working', 'im dead walked', 'im deeply concerned', 'im designer wellversed', 'im directly talking', 'im disconnected world', 'im dont know', 'im dont life', 'im driving crazy', 'im dude im', 'im dumb live', 'im dying inside', 'im entirely sure', 'im excited game', 'im exhausted commute', 'im exhausted day', 'im exhausted want', 'im expecting max', 'im experiencing significant', 'im expert flashed', 'im fairly new', 'im fairly sure', 'im falling asleep', 'im far gone', 'im fearing like', 'im feel like', 'im feeling anymore', 'im feeling awesome', 'im feeling discouraged', 'im feeling hopeful', 'im feeling like', 'im feeling particularly', 'im feeling really', 'im female struggling', 'im filled anxiety', 'im fine giving', 'im fine think', 'im finishing semester', 'im flat broke', 'im focused hoarding', 'im fretting really', 'im frustrated im', 'im fucking mad', 'im fucking sick', 'im funny entertaining', 'im fussed refused', 'im gay im', 'im getting daily', 'im getting im', 'im getting nervous', 'im getting old', 'im getting older', 'im getting paid', 'im getting point', 'im getting pretty', 'im getting ready', 'im glad diagnosed', 'im glad dont', 'im glad friends', 'im glad join', 'im going buy', 'im going car', 'im going crazy', 'im going die', 'im going insane', 'im going like', 'im going need', 'im going ps', 'im going return', 'im going right', 'im going say', 'im going shit', 'im going start', 'im going stop', 'im going tell', 'im going throw', 'im going time', 'im going try', 'im going use', 'im going visit', 'im gonna die', 'im gonna fall', 'im gonna heartattack', 'im gonna throw', 'im gonna try', 'im grumpy time', 'im guess tldr', 'im guessing easy', 'im guessing guys', 'im guessing socialists', 'im half way', 'im happy im', 'im happy relieved', 'im hard time', 'im healthy weight', 'im hearing voices', 'im heart attack', 'im highspeed traffic', 'im hitting arms', 'im home pretend', 'im hopefully starting', 'im hoping dont', 'im hoping group', 'im hoping help', 'im hyper centre', 'im hyper focusing', 'im im sorry', 'im im tired', 'im im trying', 'im impatient want', 'im incredibly happy', 'im incredibly lonely', 'im inept barely', 'im interested hear', 'im interested hobbies', 'im isnt silence', 'im job searching', 'im kind concerned', 'im kind sad', 'im kind scared', 'im kind worrying', 'im kinda broken', 'im kinda feeling', 'im kinda getting', 'im kinda scared', 'im kinda stressing', 'im lashing gf', 'im laying bed', 'im lazy disorganised', 'im lazy im', 'im lazy need', 'im learning stop', 'im left kinda', 'im like fantastic', 'im like hours', 'im like really', 'im listening poem', 'im little bit', 'im little concerned', 'im little confused', 'im little worried', 'im living im', 'im living like', 'im living modern', 'im long time', 'im looking car', 'im looking experienced', 'im looking forward', 'im looking friends', 'im looking getting', 'im looking good', 'im looking im', 'im looking insights', 'im looking like', 'im looking new', 'im looking switch', 'im looking transition', 'im looking upgrade', 'im looking work', 'im losing weight', 'im lost life', 'im loving idea', 'im lucky fall', 'im mad im', 'im making graphical', 'im making im', 'im making post', 'im making progress', 'im master electrician', 'im maybe young', 'im mentally prepared', 'im mhz rtx', 'im minutes late', 'im moderately chunky', 'im moving week', 'im native speaker', 'im nauseous sweaty', 'im need nice', 'im neighborhood association', 'im nervous dont', 'im new posting', 'im new reddit', 'im new sub', 'im normal help', 'im noticing new', 'im ok herei', 'im older absolutely', 'im open suggestions', 'im outside house', 'im ovulating day', 'im pat couple', 'im people arent', 'im performing pretty', 'im physical mental', 'im physically mentally', 'im planet dont', 'im planning getting', 'im planning sending', 'im playing fears', 'im point im', 'im position pay', 'im pretty dumb', 'im pretty experienced', 'im pretty good', 'im pretty new', 'im pretty sure', 'im probably going', 'im probably overthinking', 'im prophet god', 'im quick learner', 'im quite sure', 'im reading book', 'im real man', 'im really anxious', 'im really asking', 'im really close', 'im really concerned', 'im really confused', 'im really curious', 'im really depressed', 'im really end', 'im really excited', 'im really getting', 'im really glad', 'im really good', 'im really hoping', 'im really interested', 'im really looking', 'im really loss', 'im really mad', 'im really nervous', 'im really new', 'im really paranoid', 'im really proud', 'im really sad', 'im really scared', 'im really starting', 'im really struggling', 'im really sure', 'im really talking', 'im really think', 'im really trying', 'im really upset', 'im really wanting', 'im really worried', 'im relatively new', 'im reliving bad', 'im repulsive good', 'im rewarded inefficiency', 'im right makes', 'im right talking', 'im road recovery', 'im running ideas', 'im running options', 'im running really', 'im running time', 'im sad depressed', 'im saying dont', 'im saying hes', 'im saying wrong', 'im scared anxiety', 'im scared dont', 'im scared dying', 'im scared eating', 'im scared feel', 'im scared feeling', 'im scared going', 'im scared happen', 'im scared ill', 'im scared im', 'im scared ive', 'im scared know', 'im scared leave', 'im scared ruining', 'im scared talk', 'im scared think', 'im scared try', 'im semester grad', 'im sick dont', 'im sick shit', 'im sick sort', 'im simply tired', 'im sitting room', 'im sleep deprived', 'im social worker', 'im sorry advance', 'im sorry didnt', 'im sorry dont', 'im sorry extremely', 'im sorry im', 'im sorry little', 'im sorry post', 'im sorry posting', 'im sorry rambling', 'im sorry wanted', 'im sorry wrong', 'im spectrum im', 'im started vyvanse', 'im starting believe', 'im starting question', 'im starting second', 'im starting think', 'im stimulating hard', 'im stressed noticed', 'im struggling im', 'im struggling relate', 'im stuck bumpertobumper', 'im stuck living', 'im super anxious', 'im super close', 'im super excited', 'im super worried', 'im supportive happiness', 'im supposed feel', 'im supposed im', 'im sure adhd', 'im sure comes', 'im sure coming', 'im sure dont', 'im sure exists', 'im sure file', 'im sure good', 'im sure ill', 'im sure im', 'im sure know', 'im sure lack', 'im sure like', 'im sure measured', 'im sure people', 'im sure pump', 'im sure repeaters', 'im sure right', 'im sure sad', 'im sure said', 'im sure start', 'im sure stuff', 'im sure tell', 'im sure thats', 'im sure theres', 'im sure try', 'im sure use', 'im sure wasnt', 'im sure way', 'im sure work', 'im taking break', 'im taking care', 'im talking death', 'im tech savvy', 'im teenage girl', 'im tempted start', 'im terrified getting', 'im test boot', 'im thankful people', 'im things thats', 'im thinking buying', 'im thinking calling', 'im thinking doesnt', 'im thinking east', 'im thinking getting', 'im thinking going', 'im thinking heart', 'im thinking im', 'im thinking long', 'im thinking making', 'im thinking oh', 'im thinking ovarian', 'im thinking really', 'im thinking things', 'im tight budget', 'im tired feeling', 'im tired fighting', 'im tired im', 'im tired ive', 'im tired know', 'im tired living', 'im tired playing', 'im tired sad', 'im tired seeing', 'im tired suffering', 'im tired thinking', 'im tired want', 'im tired working', 'im tired worrying', 'im told spend', 'im torn apart', 'im trans bisexual', 'im trans im', 'im trapped inside', 'im treated like', 'im trying able', 'im trying best', 'im trying decide', 'im trying figure', 'im trying fix', 'im trying hard', 'im trying help', 'im trying make', 'im trying say', 'im trying shit', 'im trying start', 'im trying stay', 'im trying use', 'im trying work', 'im turning rooms', 'im tv end', 'im typically heavy', 'im uk makes', 'im uk mini', 'im uncomfortably severe', 'im unsure exact', 'im unsure using', 'im using mobo', 'im using restroom', 'im vaguely aware', 'im waiting components', 'im waiting converter', 'im waiting doc', 'im want improve', 'im wanting make', 'im wasting life', 'im watching destroy', 'im weeks post', 'im weigh smoke', 'im wired im', 'im wits end', 'im wondering guys', 'im wondering like', 'im wondering thats', 'im wondering theres', 'im wondering upsold', 'im wondering worth', 'im working ass', 'im working getting', 'im working im', 'im working large', 'im working tell', 'im worried bumper', 'im worried going', 'im worried hear', 'im worried ill', 'im worried im', 'im worried ive', 'im worried judged', 'im worried shes', 'im worried wont', 'im worthless piece', 'im wrong dont', 'im year old', 'im years date', 'im years old', 'im yo im', 'images compared blood', 'imagined purpose effort', 'imaging place noted', 'imaging place ultrasound', 'imgurcomipfvjxd im turning', 'immediately assume worst', 'immediately got realised', 'immediately knew gonna', 'immediately like stay', 'immediately make pot', 'immediately pass took', 'immediately start feeling', 'immediately started feeling', 'immediately stopped held', 'immensely point eat', 'immune uncomfortable distressing', 'imo boxes right', 'imo makes factions', 'imo shouldnt playing', 'impact function optimally', 'impact point traits', 'impacted life big', 'impacted wisdom teeth', 'impacts intimate relationship', 'impacts reading virus', 'impacts relationship know', 'impacts relationship try', 'important attention matter', 'important college national', 'important people life', 'important questions relate', 'important thing world', 'important wants hear', 'important weight thinness', 'importantly hows roi', 'impossible focus big', 'impossible sit moment', 'impossible sitting desk', 'impossibly hard concentrate', 'impossibly hard people', 'imposter syndrome like', 'impress classic crushes', 'impression open dating', 'improve control mind', 'improve feel like', 'improve internet wifi', 'improve projects wanna', 'improvement today panic', 'inattentive type adhd', 'incapable holding job', 'incapacitated rest night', 'include completely taking', 'include italy germany', 'include lot context', 'include shipping taxes', 'included picture tests', 'included pictures linked', 'including switch mobo', 'income middle class', 'income use money', 'inconsequential daily routine', 'increase brother works', 'increase focus think', 'increased hair shedding', 'increased think beat', 'increases decreases severity', 'increases thoughts want', 'increasing dram voltage', 'increasingly hesitant nonsurface', 'incredible snap selfhatred', 'incredibly anxious appologising', 'incredibly appreciated googled', 'incredibly lightheaded roommates', 'incredibly lonely feel', 'incredibly obese week', 'incredibly reasonable wedding', 'index file phpmyadmin', 'indians background starting', 'indifferent na cadvideo', 'individuals particularly eastern', 'industry look similar', 'industry potential industry', 'industry really concerned', 'industry sell electrical', 'industry starting odin', 'industry wanted feedback', 'industry work cool', 'inefficiency makes harder', 'inept barely talk', 'ineradicable life fate', 'inert evolve thousand', 'inevitablecompletely random booting', 'infeasible know europe', 'infect spread disease', 'infected im alarmed', 'infection dont believe', 'infidelity piece came', 'influence opposite end', 'influence studies personal', 'influences stats gpa', 'info went answer', 'informal diagnosis bpd', 'information company scam', 'information psychedelics researches', 'information recent months', 'infps higher dreams', 'infps wary god', 'ingat sa lahat', 'inhibit gods ability', 'inhibition socialize communicate', 'initial moment occurs', 'initiate times rejects', 'initiating area didnt', 'initiative opened new', 'injured fingers hitting', 'injustice spreads wings', 'ink tattoo truly', 'innocent sensibility wasnt', 'input devices keyboardtouchpad', 'input greatly appreciated', 'input knowledge process', 'inquires asks questions', 'insane deleted thing', 'insane pretty grade', 'insanely possessive people', 'inserted cheek fingers', 'inside feel like', 'inside head help', 'inside mouth feel', 'inside mouth left', 'inside plenty build', 'inside right midcheek', 'inside stuck lock', 'insight appreciated thank', 'insight greatly appreciated', 'insights career shift', 'insights share love', 'insomnia years plus', 'instagram switching youtube', 'install form linux', 'install latest version', 'install linux blank', 'install ssd going', 'installation company ive', 'installed desktop thanks', 'installed graphics card', 'installed issue odd', 'installed looks like', 'installed need leave', 'installed processor cpu', 'installed really idea', 'installed says working', 'installed sd card', 'installed windows updates', 'installing appreciate help', 'installing new psu', 'instance tried hosting', 'instant panic attack', 'instantaneous follows flash', 'instantly formed crush', 'instantly ramped came', 'instead dode accidentally', 'instead feels like', 'instead ham lmk', 'instead passion think', 'instead picking personal', 'instead picking potential', 'instead stretch projects', 'instead takes safer', 'instead unplug console', 'instead vice versa', 'instructions identify problem', 'instructions laptop boot', 'instrusive thoughts winston', 'insulin exercise makes', 'insurance courtesy car', 'insurance covers popular', 'insurance dont know', 'insurance getting prescription', 'insurance long probably', 'insurance longer work', 'insurance pay excess', 'insurance premiums simply', 'insurange fine got', 'insurence phone im', 'int tv need', 'intact rottweileryellow lab', 'integrates philosophy music', 'intel core dualcore', 'intel core ghz', 'intel pentium processor', 'intellectual speculation writers', 'intended major economics', 'intended use build', 'intended way travelling', 'intense focus touching', 'intense pain headaches', 'intense people feel', 'intense time tried', 'intensely boring long', 'intentions hitting boyfriend', 'intently uf really', 'interact daily basis', 'interact people fucking', 'interaction big plus', 'interested anyways going', 'interested concept worker', 'interested dating know', 'interested hobbies wanna', 'interested honestly know', 'interested lost special', 'interested psychology studied', 'interested think bit', 'interesting anxiety im', 'interests sit shit', 'interfere ht meds', 'interfere meds work', 'international highest scorer', 'international known romanian', 'international super prestigious', 'internet connection package', 'internet connection remote', 'internet know use', 'internet tv phone', 'internet want make', 'internet wifi fios', 'interrupt good news', 'interrupting people completely', 'intervene anxiety wells', 'interview certain cases', 'interview day yeah', 'interview disability ive', 'interview got job', 'interview suggestions welcome', 'interview trying information', 'interview weeks job', 'interviewers multiple help', 'interviews unable complete', 'intimacy beginning anymore', 'intimacy bring talk', 'intimacy knows issue', 'intimacy says needs', 'intimate connection intimate', 'intimate connection look', 'intimate fostering intimacy', 'intimate partner abnormal', 'intimate presumably monogamous', 'intimate relationship trying', 'intimate special relationship', 'intolerance like gluten', 'intolerance mcas think', 'introduces family friends', 'intrusive obsessive thoughts', 'intrusive thought comes', 'intrusive thought obsession', 'intrusive thoughts actually', 'intrusive thoughts anymore', 'intrusive thoughts enjoy', 'intrusive thoughts forgot', 'intrusive thoughts gradually', 'intrusive thoughts hard', 'intrusive thoughts left', 'intrusive thoughts maybe', 'intrusive thoughts screwed', 'intrusive thoughts taken', 'intrusive thoughts tell', 'invasion wont mention', 'investigation smth felt', 'investing time money', 'invincible able turn', 'invited picked home', 'inviting like close', 'invoices come finances', 'involve coding coding', 'involve coding trying', 'involving recording cops', 'iodine silver pack', 'ipad pro going', 'ipad watching youtube', 'ipgrav works shows', 'ipgravxx thing cmses', 'iphone running ios', 'iphone space gray', 'iption givrn reads', 'iq reason special', 'iq test gap', 'ir helped best', 'ira saving money', 'ira start etfs', 'irl killed guy', 'iron deficiency hypothyroidism', 'irony years diagnosed', 'irrational friends im', 'irregular concerning shortest', 'ish actions lot', 'ish minutes bed', 'island near work', 'isnt board production', 'isnt bright reflects', 'isnt flu super', 'isnt getting help', 'isnt important wants', 'isnt late ovulate', 'isnt like resin', 'isnt really issue', 'isnt right place', 'isnt silence need', 'isnt stimulated ive', 'isnt strong anymore', 'isnt time happened', 'isnt tried making', 'isnt working anymore', 'isnt working right', 'isp customers sent', 'isp dumping ground', 'isp satellite internet', 'isp tech range', 'issue apparently lots', 'issue clonodine certain', 'issue closest guess', 'issue day day', 'issue doesnt believe', 'issue especially helpful', 'issue evga supernova', 'issue feels like', 'issue fight started', 'issue guy said', 'issue havent tried', 'issue im physical', 'issue involving recording', 'issue like im', 'issue mom talked', 'issue monogamous relationship', 'issue odd doesnt', 'issue odd ill', 'issue odd ive', 'issue problems weeks', 'issue ram slots', 'issue reason feel', 'issue recently lost', 'issue reinstalled game', 'issue right inside', 'issue risks happening', 'issue simgurcomairlemcdsimgurcomairlemcd picture', 'issue unreasonable spiral', 'issue used skin', 'issue wheels making', 'issue windows event', 'issues application crash', 'issues attended single', 'issues bad reaction', 'issues came failed', 'issues constant distress', 'issues days randomly', 'issues dont want', 'issues downclocked speed', 'issues feel disrespected', 'issues feel worried', 'issues hands feet', 'issues hindsight feeling', 'issues iem tips', 'issues impacted wisdom', 'issues indians background', 'issues insomnia years', 'issues like heart', 'issues making friends', 'issues mhz corsair', 'issues mind slow', 'issues need really', 'issues outside isp', 'issues play game', 'issues really bad', 'issues red spots', 'issues selfconscious bodily', 'issues shock issues', 'issues spent days', 'issues substance abuse', 'issues worried caused', 'italy germany amsterdam', 'itch drink lot', 'itch hives noticed', 'itch hurt looks', 'itch raised hurt', 'itched bites high', 'itching upper arms', 'itchy spots skin', 'itchy spots slightly', 'itchy usually flushing', 'itd nice gen', 'items like winter', 'items people come', 'items prove useful', 'items sell material', 'items usedwore giving', 'items work trying', 'itll act accepting', 'itll better left', 'itll broken theyll', 'itll feel like', 'itll make know', 'iud birth control', 'iv apush ap', 'iv started feel', 'ive able come', 'ive able focus', 'ive afraid noises', 'ive aglaonema silver', 'ive anxious like', 'ive applied jobs', 'ive assessment decided', 'ive bf year', 'ive bi good', 'ive changed supposed', 'ive close like', 'ive collected music', 'ive come believe', 'ive come conclusion', 'ive come point', 'ive come realize', 'ive commuted company', 'ive completely gone', 'ive couple online', 'ive decided budget', 'ive decided school', 'ive diagnosed past', 'ive dieted exercised', 'ive disconnected modem', 'ive drastically moved', 'ive eating fast', 'ive emailed local', 'ive encountered numerous', 'ive europe uk', 'ive exhausted day', 'ive experienced depression', 'ive experienced thing', 'ive experiencing issues', 'ive experiencing lot', 'ive experiencing slow', 'ive fallen love', 'ive falling recently', 'ive feeling like', 'ive felt like', 'ive felt long', 'ive finally hit', 'ive flash bios', 'ive fucked academic', 'ive getting lot', 'ive going pediatrician', 'ive gone counseling', 'ive gone doctor', 'ive got bad', 'ive got far', 'ive got maybe', 'ive got new', 'ive got pretty', 'ive got really', 'ive got ryzen', 'ive got uneasy', 'ive gotten borderline', 'ive gotten high', 'ive gotten lot', 'ive gotten past', 'ive gotten sick', 'ive hanging people', 'ive hard time', 'ive hated ive', 'ive heard different', 'ive heard horror', 'ive heard people', 'ive heard psychologists', 'ive heard theres', 'ive heard years', 'ive held talking', 'ive hit head', 'ive hit wall', 'ive installed processor', 'ive instructions laptop', 'ive jokingly lucid', 'ive kinda ghosting', 'ive known years', 'ive learned lot', 'ive like long', 'ive literally way', 'ive lived ive', 'ive lived long', 'ive lived years', 'ive long finished', 'ive looked hypochondria', 'ive looked places', 'ive looking new', 'ive looking pretty', 'ive looking schools', 'ive lost hope', 'ive lost symptoms', 'ive lurking sub', 'ive mentally suffering', 'ive met toxic', 'ive minor upgrades', 'ive months im', 'ive moved boyfriend', 'ive nightmaredream time', 'ive nightmares entire', 'ive noticed happens', 'ive noticed im', 'ive noticed ive', 'ive noticing thicker', 'ive obsessions health', 'ive played game', 'ive played years', 'ive playing game', 'ive plugged pin', 'ive posted times', 'ive pretty lonely', 'ive read forums', 'ive read people', 'ive read says', 'ive realized lot', 'ive really able', 'ive really interested', 'ive really liked', 'ive really looked', 'ive really overdone', 'ive received email', 'ive received wisdom', 'ive recently gotten', 'ive recently started', 'ive repeated cycle', 'ive running hours', 'ive seeing lot', 'ive seeing people', 'ive seeing posts', 'ive seen couple', 'ive seen doctor', 'ive seen gets', 'ive seen gi', 'ive seen guys', 'ive seen higher', 'ive seen kids', 'ive seen lot', 'ive seen numerous', 'ive seen people', 'ive seen posts', 'ive seen sick', 'ive seen videos', 'ive self discovery', 'ive set linux', 'ive sleeping like', 'ive spending time', 'ive spent hrs', 'ive spent time', 'ive spent years', 'ive spoke counselor', 'ive started going', 'ive started treated', 'ive struggled anxiety', 'ive struggled long', 'ive struggling extremely', 'ive struggling work', 'ive suffering week', 'ive taken antihistamine', 'ive taking mg', 'ive therapy medication', 'ive therapy years', 'ive thing write', 'ive thinking getting', 'ive thinking going', 'ive thinking lot', 'ive thought building', 'ive thought solar', 'ive thrown perfectly', 'ive told im', 'ive tried cleaning', 'ive tried official', 'ive tried sleeping', 'ive tried stop', 'ive tried therapy', 'ive tried think', 'ive trouble losing', 'ive trying fix', 'ive trying month', 'ive trying optimal', 'ive trying think', 'ive trying work', 'ive waiting basically', 'ive wasted years', 'ive watched videos', 'ive watching workout', 'ive wondered people', 'ive worked dont', 'ive worked low', 'ive worked restaurants', 'ive worked small', 'ive working office', 'ive working time', 'ive years im', 'ive zoned mid', 'ivs meaning duraludon', 'jail cried said', 'january background id', 'january checking savings', 'januaryapril fairly normal', 'japanese song fades', 'japanese word remember', 'java decided use', 'jaw hands fingers', 'jerk drunk apologized', 'jesus historical perspective', 'jesus raised dead', 'jewelry store factory', 'jlist listmodel consisting', 'job actually like', 'job anxiety surpasses', 'job bar glass', 'job clothes paid', 'job college degree', 'job company work', 'job dont know', 'job dont want', 'job ecommerce role', 'job feel like', 'job friday like', 'job general social', 'job got fired', 'job help think', 'job ideas im', 'job im inept', 'job im sure', 'job im worried', 'job interview day', 'job ive worked', 'job ive working', 'job let directing', 'job like fine', 'job living home', 'job located means', 'job long possible', 'job make away', 'job makes sense', 'job matches qualifications', 'job meetings presentations', 'job months ago', 'job months fired', 'job opportunities university', 'job pay phone', 'job pays year', 'job position working', 'job prestigious tech', 'job problem panic', 'job really dont', 'job role years', 'job say definitely', 'job saying recruiting', 'job shit anxious', 'job thats wheelhouse', 'job thought id', 'job time ago', 'job try solve', 'job want happy', 'job week like', 'job weeks ago', 'job workplace harassment', 'job year laid', 'job years ago', 'jobs allow work', 'jobs careers im', 'jobs dont know', 'jobs feel like', 'jobs ive past', 'jobs ive worked', 'jobs live company', 'jobs live weary', 'jobs matter try', 'jogging panicking heart', 'join military happened', 'join reddit thread', 'join survived highschool', 'joints completely lock', 'joints lower hips', 'joints pain want', 'joke goes horribly', 'joke like comment', 'jokes lot like', 'jokingly lucid dreaming', 'jokingly said stay', 'journaling classwork appreciated', 'journaling good routines', 'journaling psychically working', 'journey weeks weigh', 'judge way im', 'judged struggle think', 'judgement know incredibly', 'july august places', 'july clip russians', 'july days short', 'july july violence', 'july violence took', 'jump instead dode', 'jump topic topic', 'june meaning russians', 'june panics anxiety', 'june period july', 'june surprise birthday', 'junk throwing away', 'justified starting scratch', 'justify monogamy intimate', 'keen prescribing really', 'keeping god forefront', 'keeping making work', 'keeping stuff organized', 'keeps coming purpose', 'keeps saying loves', 'kept asking okay', 'kept busy videos', 'kept busy work', 'kept checking lowest', 'kept coming going', 'kept coming head', 'kept freaking fast', 'kept growing resolving', 'kept overheating time', 'kept saying okay', 'kept saying said', 'kept saying sunday', 'kept talking remembering', 'kept telling knew', 'kept turning head', 'kept turning look', 'kernal power error', 'kernel power im', 'keyboard mouse gone', 'keyboard plugged navigate', 'keyboard reliable build', 'keys keys left', 'keys left went', 'keys took house', 'keys water bottle', 'kick augustseptember best', 'kick guess pressure', 'kicked pitfalls drive', 'kicked sent text', 'kicked tripped twice', 'kicking im nauseous', 'kicks im wired', 'kid confident powderhouse', 'kid didnt know', 'kid lot easier', 'kid played sports', 'kids act like', 'kids mentor school', 'kids shitty lives', 'kids years year', 'kidtween younger teen', 'kill people didnt', 'kill suggestions kill', 'kill teleport reason', 'kill thought head', 'kill time work', 'killed bad guy', 'killed demogorgon likely', 'killed episode werent', 'killed guy deathcam', 'killed guy video', 'killed headshot irl', 'killed look like', 'killed people mainly', 'killed people real', 'killed reborn die', 'killed spilled beans', 'killed thrown ed', 'killing bios heres', 'killing tldr breakup', 'kind came entirely', 'kind classed thing', 'kind concerned dont', 'kind confusing theres', 'kind depressed think', 'kind dopamine effect', 'kind empathetic present', 'kind feel bad', 'kind feel like', 'kind feeling bad', 'kind felt like', 'kind figuring ofc', 'kind freaking going', 'kind hoe forward', 'kind instantly formed', 'kind issue im', 'kind jokingly said', 'kind makes sense', 'kind merely adds', 'kind oh yeah', 'kind performance looking', 'kind showed bit', 'kind social anxiety', 'kind thing ive', 'kind want leave', 'kind went phone', 'kind worrying im', 'kinda annoying dealing', 'kinda broken dumb', 'kinda concerns feel', 'kinda desperate felt', 'kinda dry want', 'kinda feel bad', 'kinda feel like', 'kinda feels like', 'kinda gaming brings', 'kinda ghosting anxiety', 'kinda hard slow', 'kinda like happened', 'kinda look like', 'kinda meh really', 'kinda mind considering', 'kinda races like', 'kinda represents trinity', 'kinda reset heart', 'kinda sat pc', 'kinda stayed normal', 'kinda time look', 'kindly let know', 'kinds crazy symptoms', 'kings truth lie', 'kinks shuts refuses', 'kiss despite saying', 'kiss girl walked', 'kiss started getting', 'kiss wanted badly', 'kissed goodnight wanted', 'kissed sex really', 'kissing ended crying', 'kissing make feel', 'kittens like trying', 'klonopin needed long', 'kneejerk reaction goes', 'knew better hospital', 'knew brain works', 'knew earlier enjoyed', 'knew experience matter', 'knew going happen', 'knew gonna bad', 'knew hear ears', 'knew impossibly hard', 'knew lab beat', 'knew leave stalked', 'knew medication dream', 'knew need ass', 'knew portal time', 'knew said cousin', 'knew ud months', 'knew useless busy', 'knew wasnt going', 'knife poking finger', 'knocked food floor', 'know adhd especially', 'know adhd really', 'know advice appreciated', 'know ahead time', 'know anxiety control', 'know anxiety make', 'know anymore feel', 'know anymore fix', 'know anymore guys', 'know anymore im', 'know anymore medications', 'know anymore want', 'know awful feeling', 'know bad joints', 'know ballet dancers', 'know basically stringribbon', 'know believe know', 'know better know', 'know better recently', 'know big aspergers', 'know bpd know', 'know brain wired', 'know bringsme enjoyment', 'know care exist', 'know cause symptoms', 'know chanel miller', 'know chaotic holds', 'know coincidence receive', 'know comes bpd', 'know common adhd', 'know common thing', 'know considering played', 'know cope taught', 'know cuddling doesnt', 'know customer service', 'know dads super', 'know day day', 'know deal away', 'know diagnosed paranoid', 'know didnt realize', 'know doesnt matter', 'know doesnt necessarily', 'know dont eat', 'know dont know', 'know dont need', 'know dont reality', 'know dont really', 'know dont talk', 'know dont think', 'know dont want', 'know dumb question', 'know europe happy', 'know exact number', 'know executive function', 'know explain dont', 'know explain im', 'know fairly common', 'know family friends', 'know feel like', 'know feel normal', 'know feel people', 'know feel react', 'know feeling anymore', 'know felt tried', 'know file permissions', 'know flexibility hours', 'know friends rape', 'know frustrating awful', 'know getting basically', 'know going bad', 'know going die', 'know going make', 'know gonna pay', 'know good make', 'know good want', 'know greatly appreciated', 'know guys think', 'know hard time', 'know headspace usually', 'know help goes', 'know helping typing', 'know hes going', 'know hives listed', 'know hour therapy', 'know hungry feel', 'know hyper focus', 'know id feel', 'know id say', 'know ill come', 'know ill happy', 'know im bad', 'know im curious', 'know im experiencing', 'know im feeling', 'know im getting', 'know im going', 'know im gonna', 'know im happy', 'know im late', 'know im probably', 'know im really', 'know im right', 'know im scared', 'know im sorry', 'know im talking', 'know im tech', 'know im thinking', 'know im trans', 'know im working', 'know im worried', 'know im wrong', 'know improve control', 'know incredibly obese', 'know issue unreasonable', 'know itll better', 'know ive anxious', 'know ive seen', 'know kinda dumb', 'know know body', 'know know constantly', 'know know im', 'know know know', 'know know want', 'know korean perm', 'know let think', 'know life dont', 'know life going', 'know like feel', 'know like ive', 'know like satisfying', 'know listen support', 'know living like', 'know logical answer', 'know logistics know', 'know looks like', 'know lot especially', 'know lot good', 'know lot people', 'know make appear', 'know make better', 'know makes sense', 'know mean like', 'know meds going', 'know mental state', 'know moneys tight', 'know need open', 'know nice maybe', 'know nt person', 'know obvious answer', 'know original diagnosis', 'know parents virgin', 'know people autism', 'know people dont', 'know people got', 'know people lot', 'know people say', 'know people similar', 'know petty refuse', 'know pissed say', 'know planning text', 'know ploy good', 'know possible fail', 'know post bit', 'know potatoes gonna', 'know price far', 'know probably feel', 'know probably really', 'know rare started', 'know real love', 'know really care', 'know really know', 'know really like', 'know really problem', 'know really starts', 'know region ukrainerussia', 'know resell market', 'know right decision', 'know right subreddit', 'know rightbest sub', 'know say conversation', 'know say know', 'know say mind', 'know say want', 'know self harm', 'know shell acquaintances', 'know shes scared', 'know shortacting maybe', 'know shouldnt questions', 'know silly im', 'know slightly shy', 'know social media', 'know sorry sounds', 'know sound like', 'know sound stupid', 'know sounds backwards', 'know sounds dumb', 'know sounds insane', 'know sounds like', 'know sounds ridiculous', 'know sounds weird', 'know start currently', 'know start okay', 'know start painful', 'know start yeah', 'know stop im', 'know stress bad', 'know struggles adhd', 'know subjective hard', 'know sure refuses', 'know sure thats', 'know takes week', 'know talk anymore', 'know talk therapist', 'know tattoos ask', 'know tell parents', 'know thanks advance', 'know theres leak', 'know theres way', 'know thing im', 'know think im', 'know think say', 'know think situation', 'know thinks said', 'know thought good', 'know thought scaring', 'know thought sounds', 'know time happened', 'know told eye', 'know took test', 'know turn im', 'know turn started', 'know underlings like', 'know unreasonable expect', 'know use quantum', 'know visit london', 'know want life', 'know want live', 'know want want', 'know wanted fine', 'know wanting working', 'know wear mask', 'know whats going', 'know whats real', 'know whats wrong', 'know wont help', 'know word time', 'know worse work', 'know worth saving', 'know write correctly', 'know wrong fix', 'know wrong irrational', 'know years old', 'knowing likely knowing', 'knowing really result', 'knowing searching scare', 'knowledge process helpful', 'knowledge time bought', 'knowledge went pcpartpicker', 'known cause longterm', 'known compulsive rumination', 'known glass blowers', 'known long time', 'known ones start', 'known romanian glass', 'knows happy leaves', 'knows interested think', 'knows issue feels', 'knows let know', 'knows talking let', 'knows whats january', 'ko lang talaga', 'korean friends suggested', 'korean owned salons', 'korean perm im', 'korean perm purposely', 'kz moondrop bore', 'lab beat hopper', 'lab general area', 'lab mix aprox', 'lack better term', 'lack closure killing', 'lack confidence guy', 'lack libido wanted', 'lack motivation lack', 'lack motivation year', 'lack self awareness', 'lack self control', 'lack sexual intimacy', 'lack structure life', 'laid ground seizures', 'lamictal anti seizure', 'land girl save', 'land single date', 'lands fine happen', 'lang french iv', 'lapris wingull mons', 'laptop actually disc', 'laptop boot usb', 'laptop hp touchscreen', 'laptop installed desktop', 'laptop loads similar', 'laptop look pretty', 'laptop plan install', 'laptop windows home', 'large amounts food', 'large family live', 'large group humans', 'large money assessment', 'large nyc media', 'large role thinking', 'large size tips', 'large tips good', 'larger group meetings', 'lashing gf im', 'lasted hours heart', 'lasted like hours', 'lasting kid lot', 'lasts hours pressure', 'late april started', 'late bosses complain', 'late convinced im', 'late cycles pretty', 'late evening freak', 'late insurance pay', 'late learn honest', 'late motivation try', 'late night wanted', 'late ovulate late', 'late shedding pretty', 'late youd think', 'lately cuddling working', 'lately feel like', 'lately feeling dirty', 'lately high work', 'lately ive feeling', 'lately ive hanging', 'lately ive noticed', 'lately ive self', 'lately ive working', 'lately problems alcohol', 'lately think ive', 'later arguing caused', 'later began like', 'later date start', 'later day came', 'later fear mongered', 'later feel like', 'later finished essay', 'later gets binge', 'later got covid', 'later ive moved', 'later later working', 'later like cunt', 'later longer hungry', 'later make sure', 'later messaged asking', 'later messaged figured', 'later night checked', 'later night talking', 'later real time', 'later sorry taking', 'later talking ask', 'later texting hours', 'later told friend', 'later unable control', 'later wrote apologize', 'latest version compatible', 'laugh good time', 'laughed thought maybe', 'launch beat game', 'law fine telling', 'laws barely sickening', 'lax suffered tremendously', 'lay bed day', 'lay bed night', 'lay bed thinking', 'lay floor partner', 'layer skin fingers', 'laying dark room', 'laying moment start', 'laying pressing normally', 'laziness lack motivation', 'lazy disorganised maybe', 'lazy version plan', 'lazy weirdo intrusive', 'lbs bad im', 'lbs continuously lose', 'lbs exercise elevator', 'lbs got really', 'lbs happy proud', 'lbs know ive', 'lbs listened like', 'lbs lost pounds', 'lbs trying hardest', 'lbs used years', 'lbs week judgement', 'lead sexual led', 'leader hours week', 'leading absolutely filled', 'leading creation ap', 'leads trying control', 'leaf weeks dark', 'league monthly competitions', 'leak said compressor', 'learn english nervous', 'learn honest thank', 'learn movies books', 'learn music theory', 'learn new skills', 'learn new things', 'learn pay attention', 'learned demisexual demiromantic', 'learning bodies feels', 'learning curve factions', 'learning new material', 'learning stop ruminating', 'learning understand scenario', 'leave agreed days', 'leave awareness best', 'leave awareness goal', 'leave awareness moments', 'leave awareness sort', 'leave awareness want', 'leave best friend', 'leave character logical', 'leave country shits', 'leave doctors notes', 'leave dont want', 'leave ease work', 'leave extracted installing', 'leave feel like', 'leave finishing thoughts', 'leave food like', 'leave gotta gotcha', 'leave house crippling', 'leave house leave', 'leave industry potential', 'leave job week', 'leave kind jokingly', 'leave leave voluntarily', 'leave like maybe', 'leave literally trapped', 'leave month left', 'leave point job', 'leave probably gonna', 'leave psychiatrist parents', 'leave stalked ex', 'leave stop directing', 'leave trip apples', 'leave voluntarily universal', 'leave want help', 'leave way perfect', 'leave work im', 'leaves dad makes', 'leaves feeling deflated', 'leaves walks door', 'leaves white marks', 'leaving drunk defensive', 'leaving feel like', 'leaving meeting panic', 'leaving relationship took', 'leaving vacation hangout', 'led sexual zero', 'led team consistent', 'leeds southampton glasgow', 'left area love', 'left blind kings', 'left came heart', 'left car overthinking', 'left days ago', 'left door open', 'left feel like', 'left finance hope', 'left fully panicking', 'left galahad aio', 'left got shot', 'left hell worth', 'left home days', 'left idk gonna', 'left kinda meh', 'left let people', 'left life wake', 'left like massive', 'left love donate', 'left make weed', 'left nasty gout', 'left normal vaguely', 'left office id', 'left open house', 'left ovary right', 'left person said', 'left reply messages', 'left school really', 'left store today', 'left stuff house', 'left uni struggled', 'left ventricle hypotrophy', 'left wake extremely', 'left went mom', 'left years ago', 'leftovers thats hour', 'legal possible picture', 'legal working home', 'legally want touch', 'legend died heartattack', 'legit disability got', 'legit feels like', 'legit like wave', 'legit thought shoot', 'legitimate growth originally', 'legitimately examining prior', 'lego star wars', 'legs arms itchy', 'legs changed colour', 'legs extremely sore', 'legs fucked days', 'legs kicking im', 'legs muscular gonna', 'legs want relaxed', 'leisure activities mean', 'length post ive', 'length time ive', 'lesions tumors kind', 'lessen negative effects', 'lesson ended said', 'lesson plans keeping', 'let allow attention', 'let andor bored', 'let brood like', 'let directing attention', 'let engage said', 'let feel like', 'let gently let', 'let ground growing', 'let guy wanted', 'let happenshow goes', 'let hover awareness', 'let knew earlier', 'let know advice', 'let know going', 'let know greatly', 'let know guys', 'let know hate', 'let know im', 'let know little', 'let know need', 'let know price', 'let know rightbest', 'let know thanks', 'let know theres', 'let know theyre', 'let know think', 'let know want', 'let know work', 'let know youre', 'let meet day', 'let motherdaughter cis', 'let people dont', 'let people work', 'let say got', 'let spiralisolate chest', 'let start paying', 'let start saying', 'let talk think', 'let tell ya', 'let things distracting', 'let think come', 'let think im', 'let use public', 'lets say reborn', 'lets schedule nice', 'letters words meaning', 'letting actively directing', 'letting dog business', 'letting know getting', 'letting performance issues', 'level error says', 'level high low', 'level im wanting', 'level linkrecommend spreads', 'level people level', 'level reactive cells', 'level recognition regional', 'level understand individuals', 'level worried werent', 'levels poke honestly', 'levels really high', 'lex weeks medication', 'lexapro anxiety scared', 'lexapro concerta lexapro', 'lexapro dosage boosted', 'lg smart tv', 'li galahad aio', 'lian li galahad', 'lianli galahad spinning', 'liar care called', 'liar thought lied', 'liar told liar', 'libido erection issues', 'libido wanted therapeutic', 'lick lips look', 'lie bed body', 'lie feel hear', 'lie got wrong', 'lie ocd need', 'lie went hookup', 'lied different things', 'lied stalked ex', 'life accessible blind', 'life adhd medication', 'life amazing year', 'life answered disability', 'life anymore scares', 'life approach boss', 'life big way', 'life changes seeking', 'life closest friends', 'life completely ive', 'life daily stress', 'life difficult started', 'life dont know', 'life dont want', 'life entered college', 'life facing challenges', 'life falling apart', 'life fate death', 'life feel like', 'life feels like', 'life fell apart', 'life felt like', 'life getting better', 'life going downhill', 'life going fucking', 'life hell thought', 'life hit fucking', 'life im basically', 'life im performing', 'life im sure', 'life im tired', 'life im trying', 'life ive obsessions', 'life ive worked', 'life join military', 'life know headspace', 'life left love', 'life like past', 'life long expectantly', 'life look people', 'life looking good', 'life lot severe', 'life make parts', 'life managed gone', 'life meaning suffering', 'life neurotypical person', 'life new job', 'life obviously cost', 'life people love', 'life people struggle', 'life person want', 'life pointless ive', 'life pretty hard', 'life question im', 'life quite bit', 'life really like', 'life rest make', 'life romantic relationships', 'life school work', 'life shits practically', 'life started fall', 'life struggled thought', 'life support meds', 'life think negatively', 'life time woman', 'life togetherbuild consistent', 'life tried lots', 'life truly called', 'life tuesday recently', 'life wake noon', 'life want able', 'life want change', 'life want understood', 'life work way', 'life worth living', 'life writing different', 'life years embarrassment', 'life years felt', 'lift hands cold', 'lifted outside merely', 'lifting thats ive', 'light came car', 'light comes ram', 'light conditions colleague', 'light end tunnel', 'light fixtures receptacles', 'light flashing id', 'light headed actually', 'light headed obviously', 'light lots white', 'light turned corners', 'light turns blows', 'lighter typical periods', 'lighter usual think', 'lightheaded incapacitated rest', 'lightheaded roommates fine', 'lightheartedly talked wanting', 'lightly cuddled night', 'lights appears screen', 'lightweight cheap wasnt', 'like able use', 'like absolute shit', 'like absolutely hope', 'like act like', 'like actions selfishly', 'like actually look', 'like actually vacuum', 'like add change', 'like adhd person', 'like adrenaline rushes', 'like advice welcome', 'like alot spaces', 'like anxiety control', 'like anxiety heart', 'like anymore feel', 'like anymore ive', 'like april time', 'like arms legs', 'like art start', 'like avoid slightly', 'like awful restless', 'like bad person', 'like barely acknowledged', 'like baskets spray', 'like beating hard', 'like beats feel', 'like beats phases', 'like bed heart', 'like belong feel', 'like best places', 'like better place', 'like big deal', 'like big reason', 'like body relax', 'like brain doesnt', 'like breath fresh', 'like bring peace', 'like broken effect', 'like brushing teeth', 'like catches happened', 'like changed new', 'like chaotic energy', 'like choking throwing', 'like claimed person', 'like close friends', 'like colossal failure', 'like coming home', 'like comment feel', 'like completely different', 'like completely lost', 'like concerning events', 'like constantly fluctuating', 'like control muscles', 'like course paying', 'like cpuz detects', 'like crazy know', 'like crazy person', 'like credit card', 'like crop kick', 'like cunt motivation', 'like cuz kept', 'like dark souls', 'like day cuz', 'like day feel', 'like day hour', 'like death traps', 'like decided home', 'like deep breath', 'like depressed started', 'like didnt feel', 'like didnt know', 'like difficult type', 'like dizzytiredness feeling', 'like doesnt make', 'like dog lose', 'like dont belong', 'like dont care', 'like dont deserve', 'like dont embarrassed', 'like dont feel', 'like dont identity', 'like dont know', 'like dont like', 'like dont mind', 'like dont really', 'like dont talk', 'like dont think', 'like dont value', 'like dont wanna', 'like dont want', 'like draining aspects', 'like drivers installed', 'like dude thats', 'like dying feel', 'like dying feeling', 'like eat blah', 'like energy motivation', 'like enjoyment life', 'like escape tarkov', 'like euphoria character', 'like facial hair', 'like failing constant', 'like failure feel', 'like fake wearing', 'like fall guys', 'like falling apart', 'like family grasp', 'like fantastic dont', 'like fear im', 'like feel disconnected', 'like feel like', 'like feel sympathy', 'like feeling bad', 'like feeling like', 'like feels like', 'like feels real', 'like felt like', 'like finally entire', 'like finally time', 'like fine dont', 'like flatmate hangouts', 'like flying concentrating', 'like following instructions', 'like forget deaths', 'like fraud feel', 'like friendship plus', 'like fuck hate', 'like fuck im', 'like fucked couple', 'like fucking brick', 'like fucking im', 'like fucking loser', 'like gallon gorilla', 'like getting point', 'like getting worse', 'like ghost like', 'like girl dont', 'like glove promptly', 'like gluten dairy', 'like going crazy', 'like going die', 'like going explode', 'like going im', 'like going insane', 'like going pass', 'like gone unmentioned', 'like gonna die', 'like gonna look', 'like good day', 'like good mood', 'like good true', 'like got good', 'like great thing', 'like grown demogordon', 'like guess worried', 'like guy percieved', 'like guys looking', 'like half hour', 'like ham noah', 'like happened thing', 'like happening outside', 'like happens like', 'like hard time', 'like hard work', 'like heart beating', 'like heart races', 'like heart skips', 'like hell im', 'like hex womanless', 'like high school', 'like horrible person', 'like hour half', 'like hour later', 'like hour roommates', 'like hours bed', 'like hours falls', 'like hours heartrate', 'like hours max', 'like hours pulled', 'like hours recurring', 'like hunt information', 'like id play', 'like id probably', 'like id really', 'like ideal car', 'like ignored kind', 'like ill end', 'like ill fuck', 'like ill person', 'like im actually', 'like im anxiety', 'like im better', 'like im bothered', 'like im broken', 'like im capable', 'like im constantly', 'like im currently', 'like im disconnected', 'like im dumb', 'like im dying', 'like im failing', 'like im falling', 'like im family', 'like im feeling', 'like im fine', 'like im fucking', 'like im getting', 'like im going', 'like im gonna', 'like im im', 'like im like', 'like im living', 'like im looking', 'like im losing', 'like im making', 'like im missing', 'like im planet', 'like im planning', 'like im playing', 'like im pressing', 'like im ready', 'like im really', 'like im running', 'like im starting', 'like im suffocating', 'like im sure', 'like im taking', 'like im talking', 'like im thinking', 'like im trapped', 'like im trying', 'like im tv', 'like im valid', 'like im wasting', 'like im weird', 'like im working', 'like industry work', 'like intimate special', 'like ish minutes', 'like ive heard', 'like ive lost', 'like ive really', 'like ive received', 'like ive taken', 'like ive thrown', 'like ive tried', 'like ive wasted', 'like jerk drunk', 'like job feel', 'like job matches', 'like join survived', 'like joints lower', 'like july clip', 'like kicked tripped', 'like kind hoe', 'like kissing make', 'like know anymore', 'like know better', 'like know guys', 'like know possible', 'like know probably', 'like know sorry', 'like know want', 'like korean friends', 'like kz moondrop', 'like lately ive', 'like later date', 'like learning disability', 'like leave house', 'like life felt', 'like life like', 'like life lot', 'like life want', 'like like friends', 'like like really', 'like literally eat', 'like little bitch', 'like long anxietypanic', 'like long time', 'like look like', 'like looks im', 'like lot im', 'like lot people', 'like love talk', 'like lower worried', 'like lump underneath', 'like lying lying', 'like mad man', 'like make sure', 'like makes feel', 'like makes sense', 'like making statement', 'like maniac slowly', 'like massive spots', 'like matter unless', 'like maybe plays', 'like maybe simple', 'like medicine ridiculous', 'like medium goofy', 'like meds work', 'like mentally holding', 'like mentally im', 'like mentally physically', 'like mentioned feel', 'like middle pandemic', 'like mind blank', 'like mind constantly', 'like mins ago', 'like mins kinda', 'like mins later', 'like minute idk', 'like minute times', 'like minutes getting', 'like minutes resting', 'like mom says', 'like monster like', 'like month ago', 'like month late', 'like months ago', 'like months ive', 'like months stimming', 'like mosquito bites', 'like mother really', 'like natural thing', 'like need help', 'like need throw', 'like need time', 'like need vent', 'like neurotypical people', 'like nightmare teaching', 'like normal human', 'like normal light', 'like normal period', 'like normal person', 'like number recommendations', 'like oh god', 'like oh queen', 'like oh wow', 'like oh yeah', 'like old times', 'like opportunity positivity', 'like opposite gender', 'like panic attack', 'like panic attacks', 'like parents ive', 'like parties going', 'like partner feel', 'like partner impacts', 'like passive income', 'like past days', 'like past dont', 'like past wont', 'like peaks ive', 'like people think', 'like people trying', 'like people want', 'like personality seen', 'like piece shit', 'like piercing multiple', 'like pill stuck', 'like planned trip', 'like playing diagnosis', 'like point adhd', 'like points ive', 'like pressure caused', 'like pressure like', 'like pretty easy', 'like pretty good', 'like punched arm', 'like pushing people', 'like queens long', 'like ram going', 'like real woman', 'like really cool', 'like really know', 'like really like', 'like really unfortunate', 'like receive minutes', 'like red dead', 'like remember started', 'like resin pour', 'like retro consoles', 'like right path', 'like risky friend', 'like said fine', 'like said timid', 'like satisfying bad', 'like saying wear', 'like scary things', 'like school recognition', 'like second ago', 'like seen people', 'like sensory thing', 'like shit feel', 'like shit feeling', 'like shit pretty', 'like shit think', 'like shortness breath', 'like skin meant', 'like sleep hours', 'like slow heart', 'like slow sticky', 'like small things', 'like sociopath best', 'like solution im', 'like sore thumb', 'like spend day', 'like started working', 'like starting create', 'like stay happy', 'like stay ive', 'like stoned eyelids', 'like stools hard', 'like stop thoughts', 'like stress guess', 'like strong reflex', 'like stuck inside', 'like stuck pit', 'like stuck toes', 'like stupid question', 'like suddenly felt', 'like suggest mustvisit', 'like surrounded static', 'like switch flipped', 'like taken awful', 'like takes edge', 'like talk people', 'like theres really', 'like theres wrong', 'like theyre making', 'like thing massive', 'like things better', 'like things extremely', 'like things life', 'like think argument', 'like think okay', 'like thinking damn', 'like tho losing', 'like thought got', 'like thought shopping', 'like time im', 'like time like', 'like time passed', 'like time try', 'like times week', 'like times worse', 'like title says', 'like tlou adderall', 'like told doctor', 'like ton help', 'like tonight prazosin', 'like trade job', 'like trapped options', 'like treat patients', 'like treated badly', 'like treated like', 'like treating right', 'like trying conversation', 'like trying figure', 'like trying make', 'like twice week', 'like unless issue', 'like used maybe', 'like usual really', 'like vendetta know', 'like video game', 'like visit include', 'like walking air', 'like want anymore', 'like want like', 'like want make', 'like want normal', 'like want play', 'like want stop', 'like wants slow', 'like wasnt fully', 'like wasnt meant', 'like waste money', 'like waste time', 'like wasted body', 'like watching movie', 'like wave fearadrenaline', 'like wave panic', 'like way actually', 'like way im', 'like way look', 'like way open', 'like wearing people', 'like week approach', 'like week later', 'like weeks huge', 'like weeks later', 'like weeks thinking', 'like weird feeling', 'like weird people', 'like welp ive', 'like whats going', 'like wheel bearing', 'like winter coats', 'like woman want', 'like wont able', 'like work presentations', 'like worthy sleep', 'like yeah live', 'like year old', 'like years ago', 'like years feel', 'like years im', 'like years old', 'like yes know', 'liked actually sit', 'liked day broke', 'liked factions wasnt', 'liked job role', 'liked kind instantly', 'liked offered time', 'liked relate thing', 'liked wanted wingman', 'likely adhd heard', 'likely ht meds', 'likely knowing searching', 'likely long flashback', 'likely reason worried', 'likely submit chem', 'likely thrown ud', 'likely way past', 'likes friends hang', 'likewise told needs', 'limit took cabergoline', 'limiting dimensions string', 'limps actually gives', 'line best let', 'line clone ive', 'line tell staying', 'line thinking far', 'lined experience lucid', 'lines getting thicker', 'lingerie toys kinks', 'link confirmation gamespot', 'link doesnt work', 'linked album random', 'linked know sure', 'linkrecommend spreads worked', 'linksys maxstream mumimo', 'linux blank ssd', 'linux gives things', 'linux instance tried', 'linux probably ubuntu', 'linux windows uefi', 'lipitor caused lot', 'lipitor lipitor caused', 'lips felt weird', 'lips look like', 'lips shut looked', 'lipstick face lives', 'liquid cement modge', 'liquid totally seal', 'list know word', 'list programsgames desire', 'list specs ryzen', 'list things dont', 'list things felt', 'list things happen', 'list track subscriptions', 'list years probably', 'listed uncommon effectanyone', 'listen abusive ex', 'listen kept talking', 'listen realise ive', 'listen support nice', 'listened album times', 'listened ecg mild', 'listened like cuz', 'listened music eyes', 'listened rest work', 'listening lofi hip', 'listening music podcasts', 'listening music sudden', 'listening poem ecstasy', 'listening recounts practical', 'listening turn head', 'listing things wanted', 'listing work overthink', 'listmodel consisting strings', 'lists growing lately', 'lists helped ton', 'lists things constantly', 'listwwwredditcomrbuildapcwikipcpp dont ask', 'lit spinning hell', 'literally anymore feel', 'literally dont know', 'literally eat breakfast', 'literally end starting', 'literally feel like', 'literally felt like', 'literally gloves pull', 'literally like people', 'literally makes feel', 'literally mention man', 'literally month old', 'literally personality piece', 'literally prevent sleeping', 'literally shuts come', 'literally sleep scared', 'literally spent hours', 'literally thinking anxiety', 'literally told friends', 'literally trapped gotten', 'literally want fucking', 'literally way child', 'literallysince spoken going', 'little bit itchy', 'little bit longer', 'little bitch like', 'little different im', 'little distress means', 'little got little', 'little heated mom', 'little kissed sex', 'little know start', 'little light headed', 'little meat drink', 'little month feel', 'little months ago', 'little personal hold', 'little precious free', 'little problem getting', 'little self conscious', 'little specific advice', 'little thing im', 'little things like', 'little things people', 'little things remind', 'little time room', 'little work experience', 'little worth noting', 'little year ago', 'live best life', 'live close spend', 'live college campus', 'live company doesnt', 'live constant fear', 'live dont know', 'live dvd run', 'live far away', 'live finally think', 'live foreign country', 'live home parents', 'live hour away', 'live house children', 'live life fullest', 'live like anymore', 'live literally gloves', 'live long healthy', 'live midwest want', 'live minutes road', 'live near company', 'live near mom', 'live normal life', 'live northern minnesota', 'live opposite sides', 'live paycheck paycheck', 'live rest life', 'live rio janeiro', 'live small town', 'live weary felt', 'lived country years', 'lived entire life', 'lived life neurotypical', 'liver cancer tumors', 'liver explanation vomiting', 'liver parenchyma hepatic', 'lives anxious personality', 'lives come broken', 'lives help low', 'lives house argued', 'lives mental health', 'lives rent free', 'living best life', 'living boost ensure', 'living hell trying', 'living home parents', 'living home time', 'living home work', 'living life facing', 'living like im', 'living like rest', 'living minimum wage', 'living modern hellscape', 'living new city', 'living parents really', 'living potatoes forever', 'living room listened', 'living room listening', 'living room thing', 'living room waiting', 'living room wanted', 'lmao know thought', 'lmk commentary recommendations', 'load recently christmas', 'load ryzen issue', 'loading assests screen', 'loading startpage gives', 'loads similar threads', 'loads tasks struggle', 'loans january checking', 'loans use money', 'loans whatsoever thank', 'lobby looks like', 'local adhd service', 'local charity shop', 'local currency country', 'local drs office', 'located means commute', 'located right ovary', 'located varwwwhtmlgrav ipgrav', 'lock current price', 'lock freeze trying', 'lock panic attacks', 'locked jaw hands', 'lofi hip hop', 'log didnt phone', 'logic tries deconstruct', 'logical answer analyzing', 'logical brain saying', 'logical thing examines', 'logically makes sense', 'logistics know visit', 'lol away today', 'lol feel like', 'lol im sorry', 'lol option point', 'lol raised planting', 'lol said party', 'lol says shower', 'lol smiled friends', 'lol sorry huge', 'london donate following', 'london meet friend', 'lonely feel like', 'lonely want leave', 'long aap days', 'long ago experiencing', 'long ago sleep', 'long amounts time', 'long anxietypanic attacks', 'long battery life', 'long complete burnout', 'long direct attention', 'long distance actually', 'long distance boyfriend', 'long expectantly quality', 'long feel like', 'long figured decent', 'long finish book', 'long finished new', 'long flashback russians', 'long forgotten past', 'long friendships mess', 'long good new', 'long healthy lives', 'long history tmj', 'long honestly confused', 'long island near', 'long ive felt', 'long like control', 'long long time', 'long maybe months', 'long millisecond instantaneous', 'long period time', 'long periods time', 'long possible knew', 'long post read', 'long post wanted', 'long probably wouldnt', 'long remember autism', 'long remember kid', 'long remember struggling', 'long run workout', 'long sort environment', 'long stop feeling', 'long story bit', 'long story short', 'long takes dog', 'long term anxiety', 'long term effects', 'long term relationship', 'long things dont', 'long time ago', 'long time days', 'long time dont', 'long time feel', 'long time feeling', 'long time grow', 'long time havent', 'long time im', 'long time ive', 'long time know', 'long time launch', 'long time like', 'long time period', 'long time recently', 'long time thing', 'long time thought', 'long typing things', 'long wait finishing', 'long wait times', 'long wasnt upset', 'long wills slug', 'long year life', 'longer blocked ig', 'longer feels like', 'longer feels relationship', 'longer hungry desire', 'longer know need', 'longer left hell', 'longer make follicular', 'longer really dont', 'longer software need', 'longer usual driveway', 'longer work look', 'longest past years', 'longest relationship years', 'longest shortest period', 'longest time lately', 'longterm effects experiencing', 'look absolute horror', 'look desperate lot', 'look different adhd', 'look feel like', 'look forward evening', 'look like adhd', 'look like alot', 'look like choking', 'look like idiot', 'look like im', 'look like theyre', 'look little different', 'look mirror dont', 'look mirror im', 'look months pregnant', 'look people like', 'look pretty similar', 'look random imaging', 'look really different', 'look sent transvaginal', 'look sibo epi', 'look similar easier', 'look soemthing usually', 'look stage baby', 'look town leave', 'look windows event', 'look work weekend', 'look worn old', 'looked confused assume', 'looked cute stuff', 'looked desktop noticed', 'looked exact area', 'looked good said', 'looked great working', 'looked hypochondria depression', 'looked images compared', 'looked like mosquito', 'looked lot better', 'looked months ago', 'looked places near', 'looked play list', 'looked sounded like', 'looked sure day', 'looking applying jobs', 'looking came bullsht', 'looking car use', 'looking clue app', 'looking forward seeing', 'looking good turned', 'looking guess encouragement', 'looking hdmi switch', 'looking hear directly', 'looking hookups said', 'looking huge party', 'looking im open', 'looking insights career', 'looking long time', 'looking make new', 'looking medical advice', 'looking mirror absolutely', 'looking new job', 'looking new recently', 'looking niche electrical', 'looking personal reviews', 'looking possible conversion', 'looking pretty intently', 'looking really confused', 'looking schools boston', 'looking screen resolution', 'looking tough dude', 'looking transition industry', 'looking trippy things', 'looks bit swollen', 'looks faster paced', 'looks great fluid', 'looks im isnt', 'looks like actually', 'looks like different', 'looks like dont', 'looks like ill', 'looks like im', 'looks like kicked', 'looks like look', 'looks like normal', 'looks like partner', 'looks like stoned', 'looks pretty cool', 'loop dont adhd', 'loops trying analyze', 'looting game box', 'looting imo makes', 'lose balance fall', 'lose filter say', 'lose ive lost', 'lose job probably', 'lose lbs bad', 'lose probably hairs', 'lose weight lowering', 'lose weight past', 'lose weight wedding', 'loses consciousness organism', 'losing friends beginning', 'losing friends self', 'losing like mom', 'losing lost appetite', 'losing mind really', 'losing weight gym', 'losing weight help', 'losing weight new', 'losing weight started', 'losing weight thighs', 'loss actually happened', 'loss balance randomly', 'loss drug experiencing', 'loss excessive sweating', 'loss family friends', 'loss feeling fast', 'loss journey weeks', 'loss symptoms started', 'loss thinking maybe', 'loss worry ive', 'lost ability feel', 'lost appetite extremely', 'lost area want', 'lost best friend', 'lost cause like', 'lost cell phone', 'lost confused time', 'lost couple months', 'lost day doesnt', 'lost dont know', 'lost faith medical', 'lost fight demogorgon', 'lost focus attention', 'lost friends offensive', 'lost idea wrong', 'lost job apartment', 'lost job today', 'lost lbs exercise', 'lost lbs happy', 'lost lbs trying', 'lost life time', 'lost lot people', 'lost lot weight', 'lost months felt', 'lost nearly pounds', 'lost picture share', 'lost pound woke', 'lost pounds weighed', 'lost reverse ailments', 'lost sleep night', 'lost special status', 'lost symptoms abdominal', 'lost used hobbies', 'lost weight multiple', 'lost weight really', 'lost weight trying', 'lot able pinpoint', 'lot anxiety panic', 'lot anxiety speaking', 'lot arguments certainty', 'lot autistic traits', 'lot background noise', 'lot better photos', 'lot better tho', 'lot concretely positive', 'lot congestion using', 'lot context sure', 'lot dad approval', 'lot damage told', 'lot different disciplines', 'lot dont feel', 'lot dont know', 'lot easier let', 'lot especially terms', 'lot faster normally', 'lot feel like', 'lot feel lot', 'lot feels like', 'lot fights home', 'lot foreplay matter', 'lot free random', 'lot free time', 'lot friends growing', 'lot gay male', 'lot getting sexually', 'lot going know', 'lot great experiences', 'lot hair used', 'lot hard work', 'lot ibuprofen recommended', 'lot im wondering', 'lot ive let', 'lot know time', 'lot life adhd', 'lot life people', 'lot light lots', 'lot like guess', 'lot like id', 'lot lot meltdowns', 'lot mental health', 'lot money feb', 'lot muscle pain', 'lot naked cuddling', 'lot people buy', 'lot people dont', 'lot people know', 'lot people post', 'lot people quit', 'lot people say', 'lot people saying', 'lot people want', 'lot people year', 'lot recently caught', 'lot scrapes cuts', 'lot severe know', 'lot sexual attention', 'lot sick days', 'lot staying ny', 'lot stress dress', 'lot tends aggravated', 'lot therapist hs', 'lot thicker symptoms', 'lot things fix', 'lot things life', 'lot time im', 'lot time think', 'lot time trying', 'lot time want', 'lot times say', 'lot understand far', 'lot water pictures', 'lot weight thought', 'lot worse scared', 'lot yelling went', 'lots clubs student', 'lots content wake', 'lots guilt shame', 'lots life changes', 'lots naked cuddling', 'lots people notice', 'lots pressure head', 'lots stories people', 'lots therapy meds', 'lots time wondering', 'lots water booze', 'lots white mirrors', 'loud feel sort', 'loud personality complete', 'louder faster thing', 'louder quieter forth', 'lovable best dad', 'love able actually', 'love able pay', 'love bullet journaling', 'love capable really', 'love chat peps', 'love dad really', 'love deeply dad', 'love dnd playing', 'love donate gives', 'love dont know', 'love empathysympathy people', 'love experiences sitting', 'love feel like', 'love food loved', 'love friends really', 'love friendship best', 'love fucking annoying', 'love fun taught', 'love hear guidance', 'love hear opinions', 'love hear people', 'love horror movies', 'love im glad', 'love im worried', 'love insight thank', 'love know friends', 'love life amazing', 'love longer feels', 'love look different', 'love love love', 'love peeling plastic', 'love prices incredibly', 'love recently anxiety', 'love talk friends', 'love talk idk', 'loved actual intrusive', 'loved bosses workers', 'loved cooking food', 'loved dnd longest', 'loved flipping ripleys', 'loved tlou mp', 'loves wants intimate', 'loving idea man', 'loving mother father', 'low addiction weight', 'low blood sugar', 'low budget arts', 'low carbs fat', 'low dip normal', 'low dips sitting', 'low dose adderall', 'low energy unusual', 'low gastroenterologist suggests', 'low grade fever', 'low intimate partner', 'low iq reason', 'low light conditions', 'low point life', 'low quality image', 'low self esteem', 'low self esteemsounds', 'low speed guy', 'low time anways', 'low volume tv', 'low wage job', 'low wage jobs', 'lower abdomen usually', 'lower aims person', 'lower arm prick', 'lower hip pain', 'lower hips skin', 'lower spinal pain', 'lower worried bedsides', 'lowering calorie count', 'lowest measured bed', 'lowest point life', 'lowest price parts', 'lucid dreaming access', 'lucid dreaming enhance', 'lucid dreaming gateway', 'lucid dreaming ideally', 'lucid dreaming maybe', 'lucid feel whats', 'lucidawake point overheated', 'luck women probably', 'luckily body work', 'lucky fall asleep', 'lucky im glad', 'lump right admittedly', 'lump underneath skin', 'lunch break months', 'luteal phase advice', 'luteal phase getting', 'luteal phase regularly', 'luxury cars paid', 'lying apologizing tweets', 'lying cave dwellers', 'lying cover doesnt', 'lying hiding obvious', 'lying lying tell', 'lying naked entwined', 'lying sneaking end', 'lying tell stalked', 'lying things said', 'lymphoma know rare', 'lymphoma think lymphoma', 'macbook usually close', 'machine prediabetes array', 'macro seminar extracurriculars', 'macroeconomic conditions policy', 'macros really worked', 'mad idk needed', 'mad im mad', 'madness like im', 'magandang araw sa', 'magical pocket sand', 'main floor laid', 'main road major', 'main symptoms trouble', 'mainly flipped ud', 'mainly gaming gaming', 'mainly want sell', 'maintain friendships come', 'maintain repair know', 'maintaining healthy balance', 'major corporation bank', 'major depressive disorder', 'major economics math', 'major highway convenient', 'major problem letting', 'majority cbd balcony', 'majority going doctors', 'majority people intrusive', 'majority started diarrhea', 'majorly life hell', 'make advancement ignored', 'make away job', 'make away sudden', 'make bad person', 'make better moment', 'make better sit', 'make business thanks', 'make buy morning', 'make connection feels', 'make cup coffee', 'make decent money', 'make diarrhea times', 'make difference especially', 'make difference install', 'make difference suggestions', 'make dinner dont', 'make doctors appointment', 'make ends meet', 'make eye contact', 'make feel bad', 'make feel better', 'make feel comfortable', 'make feel good', 'make feel great', 'make feel incredibly', 'make feel like', 'make feel loved', 'make feel really', 'make flexible resizable', 'make follicular phase', 'make friends im', 'make friends tried', 'make good plan', 'make hallucinate feel', 'make happy enjoy', 'make happy know', 'make happy want', 'make heads tails', 'make heart beat', 'make huge difference', 'make invincible able', 'make jittery anxious', 'make joke goes', 'make know ploy', 'make life better', 'make life lot', 'make list things', 'make long figured', 'make long story', 'make long year', 'make look bad', 'make look like', 'make lot money', 'make money im', 'make money pay', 'make money selling', 'make new friends', 'make parts anymore', 'make penetration feel', 'make people happy', 'make people laugh', 'make period longer', 'make plan ahead', 'make possible im', 'make post time', 'make pot coffee', 'make problems solve', 'make sense feel', 'make sense game', 'make sense going', 'make sense id', 'make sense im', 'make sense know', 'make sense somedays', 'make sense thanks', 'make sense want', 'make short possible', 'make sims look', 'make sound like', 'make sure actually', 'make sure didnt', 'make sure doesnt', 'make sure dont', 'make sure drink', 'make sure got', 'make sure im', 'make sure isnt', 'make sure make', 'make sure missing', 'make sure right', 'make sure wasnt', 'make tactical gameplay', 'make things better', 'make things easier', 'make things right', 'make things slowly', 'make things work', 'make things worse', 'make think adhd', 'make thoughts suicide', 'make trek morning', 'make truly impossible', 'make tshirt print', 'make weed butter', 'make youtube videos', 'makers huh psychiatrist', 'makes annoyed reason', 'makes anxiety times', 'makes anxious adhd', 'makes believe brenner', 'makes big difference', 'makes difference im', 'makes factions fun', 'makes feel anxious', 'makes feel awake', 'makes feel awful', 'makes feel bad', 'makes feel better', 'makes feel good', 'makes feel guilty', 'makes feel horrible', 'makes feel like', 'makes feel long', 'makes feel stupid', 'makes feel worse', 'makes good money', 'makes hair wavy', 'makes happy anymore', 'makes harder worker', 'makes life hell', 'makes look frozen', 'makes look like', 'makes money leave', 'makes panic amber', 'makes paranoid working', 'makes people want', 'makes perfect sense', 'makes question really', 'makes race makes', 'makes really hard', 'makes really sad', 'makes sense anymore', 'makes sense basically', 'makes sense dont', 'makes sense feel', 'makes sense feels', 'makes sense god', 'makes sense im', 'makes sense ive', 'makes sense like', 'makes sense love', 'makes sense said', 'makes things worse', 'makes think dying', 'makes think maybe', 'makes want die', 'makes want kill', 'makes worse break', 'makes worse feel', 'making big deal', 'making emailthat cancelling', 'making excuse wanting', 'making excuses asked', 'making eyes poofy', 'making feel bad', 'making feel like', 'making forget thinking', 'making friends feel', 'making friends switch', 'making fun voice', 'making graphical calculator', 'making hair fall', 'making hour working', 'making lesson plans', 'making life difficult', 'making look like', 'making luxury cars', 'making mess truly', 'making new friends', 'making people laugh', 'making phone calls', 'making progress today', 'making statement friend', 'making strange feeling', 'making things weird', 'making things worse', 'making user log', 'making want life', 'making way worse', 'making whirring noise', 'making work reliably', 'male causes lot', 'male completed high', 'male finishing year', 'male ft lbs', 'male gen urm', 'male lbs know', 'male pattern baldness', 'male suffering lack', 'male tall lbs', 'male weigh use', 'male working sales', 'malicious way reassuring', 'man calm say', 'man google real', 'man im loving', 'man man man', 'mana cost sides', 'manage reach gas', 'manage relationship nt', 'managed gone emotional', 'maniac slowly came', 'manifested uncomfortable ways', 'manipulate make feel', 'manner mistaken dude', 'manual stimulation learning', 'manually breathing swallowing', 'manufactured china yes', 'manufactures sells products', 'march conversation app', 'march ended meeting', 'march july july', 'march late april', 'march schools led', 'march start college', 'margins usually small', 'marijana card ready', 'mark today weighed', 'market nationally globally', 'market new breast', 'marketplace charity shop', 'marketplace new items', 'marks feet ankle', 'marks used tictactoes', 'married weeks ago', 'masculine feminine day', 'masculine manner mistaken', 'masking engrained people', 'massive affects grain', 'massive boss coming', 'massive declutter want', 'massive dracaena hawaiian', 'massive hysteria virus', 'massive improvement today', 'massive massive affects', 'massive panic attack', 'massive spots blue', 'mast cells currently', 'master artist works', 'master electrician currently', 'master electrician exam', 'master electrician midwest', 'master electrician work', 'master sickleflow cfm', 'masters maintaining healthy', 'masters public health', 'masters uk importantly', 'masturbate comes house', 'masturbating bed caresses', 'matched early march', 'matches qualifications id', 'mate months relationship', 'material given cost', 'math competition annually', 'math league monthly', 'math minor history', 'math team competed', 'math team like', 'matter anxiety denies', 'matter early leave', 'matter end day', 'matter explain lazy', 'matter gentle kind', 'matter hard try', 'matter high risk', 'matter job try', 'matter ready body', 'matter simple really', 'matter try keeps', 'matter unless crazy', 'matter wanted facing', 'matters sticks time', 'matthew describes people', 'max ive tried', 'max level people', 'max mb evga', 'max mins installing', 'max payne ocd', 'max replaced free', 'max roth ira', 'max settings ambitious', 'maxed bench rate', 'maximum distance daily', 'maxing bench felt', 'maxstream mumimo triband', 'maybe actually scared', 'maybe adhd high', 'maybe allergic reaction', 'maybe aroun like', 'maybe asking questions', 'maybe bad person', 'maybe blue knows', 'maybe brother tossing', 'maybe close bpm', 'maybe confidence issue', 'maybe cuz mu', 'maybe dont adhd', 'maybe dont know', 'maybe dont need', 'maybe exercise slight', 'maybe feel im', 'maybe feels shame', 'maybe going alcohol', 'maybe ground bit', 'maybe guys help', 'maybe half hour', 'maybe handful time', 'maybe hopes infect', 'maybe im crazy', 'maybe im getting', 'maybe im wrong', 'maybe like peaks', 'maybe like thing', 'maybe open mouth', 'maybe outer thigh', 'maybe pacing like', 'maybe paranoid fear', 'maybe plays dont', 'maybe regular perm', 'maybe repetitive needed', 'maybe shes right', 'maybe simple appearing', 'maybe standing mind', 'maybe switch medication', 'maybe tell stop', 'maybe tell worried', 'maybe thats experience', 'maybe thats maybe', 'maybe thats way', 'maybe theres wrong', 'maybe time legs', 'maybe trying hard', 'maybe work maybe', 'maybe write email', 'maybe years ago', 'maybe years old', 'maybe young change', 'mb evga powersupply', 'mcas think food', 'meal kept turning', 'mean dont know', 'mean feel like', 'mean hurt promise', 'mean im gonna', 'mean immune uncomfortable', 'mean insurance premiums', 'mean know considering', 'mean make long', 'mean order takeout', 'mean probably weird', 'mean sound like', 'mean starting scratch', 'mean time suggestions', 'mean trying hardest', 'mean useful practical', 'meaning dont know', 'meaning duraludon rest', 'meaning life meaning', 'meaning russians knew', 'meaning suffering suffering', 'meaning words encouragement', 'means brenner alive', 'means brenner got', 'means commute way', 'means know hes', 'means ocd mean', 'means right past', 'meant casuals leave', 'meant live long', 'meant taken seriously', 'meant wear makes', 'measured bed shopping', 'measured months ago', 'measuring super carefully', 'measuring truly think', 'meat drink lots', 'mech engg im', 'mechanic morning wondering', 'mechanics super tactical', 'mechanism let spiralisolate', 'med school course', 'medela spectra elvie', 'medela years ago', 'media agencies associate', 'media fact friends', 'media help know', 'media lying cave', 'medical consequences thinking', 'medical expert told', 'medical issues son', 'medical leave psychiatrist', 'medical marijana card', 'medical school future', 'medicated years generally', 'medication beginning year', 'medication believe maybe', 'medication dont want', 'medication dream military', 'medication feel like', 'medication frustration knew', 'medication need paralyzes', 'medication parents refuse', 'medication really wanna', 'medication refused knew', 'medication ritalin know', 'medication said wont', 'medication therapist tldr', 'medication therapy helped', 'medication therapy really', 'medication week medical', 'medication working studying', 'medication worse realized', 'medications antidepressants total', 'medications spiraling need', 'medications therapy helped', 'medicine mind goes', 'medicine ridiculous maybe', 'medicine super traumatic', 'meditating friend chilling', 'meditation taking cold', 'medium goofy version', 'meds alo years', 'meds appetite worried', 'meds cause weight', 'meds changed diet', 'meds eat barely', 'meds experience recently', 'meds going work', 'meds ground panicanxiety', 'meds help sleep', 'meds like join', 'meds long term', 'meds lost weight', 'meds new gonna', 'meds nighttime routines', 'meds normal effects', 'meds period soemthing', 'meds period started', 'meds pretty ignored', 'meds refuse help', 'meds stuff breaks', 'meds work period', 'meds work unless', 'meds working right', 'meet day asked', 'meet expensive city', 'meet friend trip', 'meet likeminded people', 'meet new people', 'meet said free', 'meet think issue', 'meeting mid march', 'meeting new people', 'meeting panic know', 'meeting rheumatologist positive', 'meeting said let', 'meeting told open', 'meeting volunteered ot', 'meetings im anxious', 'meetings like work', 'meetings presentations frequent', 'meetings speak long', 'meh really need', 'melanoma fibroids pgm', 'melanoma rare form', 'melt slightest inconvenience', 'meltdown dont know', 'member patient psychiatrist', 'memoirs assaults maybe', 'memorial day weekend', 'memories feel like', 'memorizing verses pray', 'memory emotional stability', 'memory friend telling', 'memory mushkin newegg', 'memory processing speed', 'memory really struggle', 'memory think verbal', 'memoryprocessing speed scores', 'men hitting underestimating', 'men lying apologizing', 'men said agreed', 'men showed attention', 'men treat girls', 'mens hair loss', 'menstruating far tracker', 'mental breakdown eyes', 'mental breakdown months', 'mental checking known', 'mental health absolutely', 'mental health bad', 'mental health better', 'mental health center', 'mental health clinic', 'mental health counseling', 'mental health day', 'mental health disorders', 'mental health ensued', 'mental health finances', 'mental health friends', 'mental health help', 'mental health issue', 'mental health issues', 'mental health night', 'mental health nurse', 'mental health physical', 'mental health problems', 'mental health professionals', 'mental health really', 'mental health reasons', 'mental health related', 'mental health seriously', 'mental health talking', 'mental health time', 'mental illnesses manifested', 'mental illnesses prozac', 'mental physical things', 'mental reasons disability', 'mental state probably', 'mental torture bring', 'mentally drained hours', 'mentally feel like', 'mentally holding need', 'mentally ill people', 'mentally im kinda', 'mentally physically point', 'mentally prepared practicums', 'mentally suffering relationship', 'mentally wrong years', 'mentalphysicalsocial health university', 'mention feel like', 'mention man google', 'mention views isnt', 'mentioned feel like', 'mentioned hookups better', 'mentioned knew leave', 'mentioned previous post', 'mentioned stuff hookups', 'mentioning existence corona', 'mentor school helping', 'merely adds ones', 'merely physical sensations', 'merging pointless change', 'mesmerized unfortunately mother', 'mess dont know', 'mess felt problem', 'mess health hazard', 'mess lot tends', 'mess truly appreciate', 'message gonna say', 'messaged asking talked', 'messaged day said', 'messaged figured time', 'messages days later', 'messages frequently know', 'messes vram used', 'met allergist said', 'met couple hours', 'met group upwards', 'met guy came', 'met guy took', 'met mental health', 'met night works', 'met person going', 'met talked like', 'met texting snapchat', 'met used realize', 'metal accents piece', 'metal old keys', 'mf power mustache', 'mg day notice', 'mg scared gain', 'mgm melanoma fibroids', 'mhz corsair ram', 'mhz gb ram', 'mhz rtx msi', 'michael greenberg says', 'micro atx superbiiz', 'micro center motherboard', 'microsoft windows oem', 'mid march conversation', 'mid sentence havent', 'mid tower casepcpartpickercompartdeepcoolcasetesseractbf', 'midcheek bigger size', 'middle class sure', 'middle ground feel', 'middle night foot', 'middle pandemic hits', 'middle school felt', 'middle school high', 'middle school nights', 'middle school trauma', 'midst act performance', 'midwest want start', 'midwestern respective state', 'milage estimate year', 'milage good condition', 'milage ive seen', 'mild left ventricle', 'mile round trip', 'miles clock good', 'miles work day', 'military allowing people', 'military happened time', 'military rules military', 'miller point received', 'million miles hour', 'millisecond instantaneous follows', 'mimics entire chat', 'min ot wfh', 'min walk overwhelming', 'mind beast im', 'mind body im', 'mind boxes horde', 'mind chaos suggestions', 'mind considering left', 'mind constantly playing', 'mind control experiments', 'mind dumb shit', 'mind feel like', 'mind forget actively', 'mind goes completely', 'mind goes read', 'mind gone bad', 'mind im asking', 'mind immediately goes', 'mind kinda reset', 'mind knew need', 'mind like week', 'mind losing like', 'mind matter job', 'mind maybe exercise', 'mind nowere bruises', 'mind racing million', 'mind restrictions placed', 'mind saw looking', 'mind slow ended', 'mind soul lifted', 'mind time happened', 'mind went blank', 'mindfulness note taking', 'mini cooper went', 'mini expensive maintain', 'mini garage car', 'mini heat wave', 'mini like wave', 'mini panic attack', 'minimal exertion climb', 'minimum day cancels', 'minimum wage example', 'minimum wage jobs', 'ministerial servant pioneer', 'minor history doable', 'minor issues hindsight', 'minor salivary gland', 'minor upgrades time', 'mins installing new', 'mins kinda stayed', 'mins later unable', 'minute break interviewers', 'minute got thought', 'minute idk anxiety', 'minute thrusting time', 'minute times conclude', 'minute want ask', 'minutes bed got', 'minutes clear head', 'minutes driving point', 'minutes getting uber', 'minutes kinda time', 'minutes late youd', 'minutes minimum day', 'minutes restart tv', 'minutes resting went', 'minutes road walking', 'minutes trying figure', 'miraculously day great', 'mirror absolutely shook', 'mirror saw welts', 'mirrors ive aglaonema', 'misbegotten face longer', 'misbehave child shes', 'misdiagnoses cycle bleeding', 'miserable associates degree', 'miserable covid felt', 'miserable feel like', 'misinterpreted actually appt', 'miss end torment', 'miss ive fucked', 'miss youre gorgeous', 'missed edit thing', 'missed obvious build', 'missing probably start', 'missing youth saw', 'mistaken dude quite', 'mistreatment told wanted', 'mix aprox pounds', 'mixed allowed work', 'mixed fact short', 'mixed identity issues', 'mixed used spell', 'mixing sand grass', 'mo ago history', 'mobo cpu mean', 'mobo hdmi outlet', 'mobo msi gpu', 'mobo need update', 'mobo plugged usb', 'mobo press power', 'mobo stopped ports', 'mocks mentioning existence', 'mode intel pentium', 'mode low time', 'mode obvious reasons', 'model rgb isnt', 'modem completely claim', 'moderately chunky really', 'modern hellscape immediately', 'modern history opposed', 'modes brain doesnt', 'modge podge kind', 'modulator like retro', 'modules year years', 'moer internet want', 'molars rash increases', 'mom anxious person', 'mom argument wont', 'mom brother bipolar', 'mom brother came', 'mom brother hes', 'mom divorce think', 'mom got fight', 'mom hopefully cause', 'mom house went', 'mom im deeply', 'mom mom brother', 'mom saying lost', 'mom says good', 'mom scream sick', 'mom sister got', 'mom split days', 'mom started addicted', 'mom stress getting', 'mom talked secret', 'moment afraid forget', 'moment ecstasy loses', 'moment end luck', 'moment fine let', 'moment madness like', 'moment mixed fact', 'moment occurs person', 'moment sexual act', 'moment sort stopped', 'moment start thinking', 'moment worked year', 'moments angry days', 'moments comes awareness', 'moments things feel', 'moms house days', 'moms market new', 'moms new number', 'monday speak tuesday', 'monetary policy required', 'money aggressively pay', 'money assessment im', 'money conversations ive', 'money diagnoses guys', 'money dont want', 'money experience worth', 'money feb drive', 'money fh way', 'money going time', 'money leave literally', 'money live finally', 'money long run', 'money max roth', 'money need money', 'money nice wedding', 'money savings account', 'money things enjoy', 'money think coming', 'money wisely living', 'money wouldnt mind', 'moneys tight working', 'mongered moron point', 'monitor black friday', 'monitor im using', 'monitor pc screenshots', 'monitor tiny speaker', 'monitoring fully understanding', 'monitors black pc', 'monitors days months', 'monogamous relationship actions', 'monogamous relationship said', 'monogamy connecting sexually', 'monogamy intimate fostering', 'mons hidden abilities', 'mons ones ivs', 'month adjusted born', 'month ago cleaning', 'month ago got', 'month ago like', 'month ago met', 'month ago pressing', 'month broke able', 'month car allowance', 'month dont morning', 'month feel like', 'month friends intended', 'month half ago', 'month hoping overeat', 'month know itll', 'month late shedding', 'month later fear', 'month left finance', 'month lost lbs', 'month old motherboard', 'month originally work', 'month overdue tend', 'month really want', 'month stopped looking', 'monthly charges reporting', 'monthly competitions september', 'monthly fee highspeed', 'monthly payment half', 'months able swallow', 'months ago bad', 'months ago father', 'months ago feel', 'months ago got', 'months ago happened', 'months ago im', 'months ago knew', 'months ago like', 'months ago months', 'months ago noticed', 'months ago realized', 'months ago saw', 'months ago scared', 'months ago slightly', 'months ago started', 'months ago think', 'months ago took', 'months ago tried', 'months ago went', 'months ago wfh', 'months anxiety kept', 'months centered heart', 'months charge fraud', 'months comprised typical', 'months coping mechanism', 'months current job', 'months days ago', 'months digging prodding', 'months dont know', 'months feel like', 'months felt damn', 'months hired contractor', 'months idea brenner', 'months idk man', 'months ive eating', 'months ive emailed', 'months ive experiencing', 'months job position', 'months kinds crazy', 'months later feel', 'months later gets', 'months later ive', 'months later texting', 'months long distance', 'months look work', 'months lose ive', 'months lost couple', 'months men treat', 'months mental illnesses', 'months months idea', 'months really bad', 'months really felt', 'months recently experiencing', 'months relationship told', 'months searching trial', 'months stimming morning', 'months travelother commitments', 'months wants seemingly', 'months weighed yesterday', 'months went away', 'months xbox live', 'months zoloft weeks', 'monthsbut dont know', 'mood disorder clear', 'mood dont understand', 'mood forcing faking', 'mood time im', 'mood wouldnt morning', 'moondrop bore size', 'morning ate week', 'morning called answer', 'morning city developed', 'morning deal reckless', 'morning dont think', 'morning feel like', 'morning feeling really', 'morning im driving', 'morning immediately knew', 'morning ive drastically', 'morning late night', 'morning mean time', 'morning night use', 'morning peed wait', 'morning regretting ive', 'morning scream pillow', 'morning shit like', 'morning sleeping thought', 'morning subconscious self', 'morning think heart', 'morning today itching', 'morning told work', 'morning woke kind', 'morning wondering issue', 'morning wood erections', 'morning wood went', 'morning wood worried', 'mornings tiredness occasional', 'moron point mother', 'mortgage need time', 'mosquito bites counted', 'mother begins start', 'mother father brother', 'mother isnt getting', 'mother let motherdaughter', 'mother overlooked obsessions', 'mother saying need', 'mother telling got', 'mother tells tacky', 'mother uterine fibroids', 'motherboard amazon wasnt', 'motherboard asrock micro', 'motherboard odd anyways', 'motherboard replaced literally', 'motherdaughter cis tattoo', 'motif portable ones', 'motivate actually ready', 'motivated energetic miserable', 'motivated fucking hate', 'motivated task making', 'motivation food appeals', 'motivation lack confidence', 'motivation left life', 'motivation left wake', 'motivation try save', 'motivation watch movies', 'motivation worse years', 'motivation year said', 'motorway milage estimate', 'mouse assume make', 'mouse gone werent', 'mouth boom thats', 'mouth feel fingers', 'mouth laughed thought', 'mouth left normal', 'mouth remember went', 'mouth sleepiness barely', 'moveable bit tender', 'moved april moved', 'moved away past', 'moved boyfriend smoking', 'moved christmas year', 'moved connection provider', 'moved friends months', 'moved hawkins area', 'moved moved connection', 'moved pay rent', 'moved time lesson', 'movement anxiety prevented', 'movement ap world', 'moves mons ones', 'movie plex lg', 'movie short attention', 'movie tv series', 'movies books games', 'movies paid netflix', 'movies play pc', 'movies shows read', 'movies tv shows', 'moving breakup little', 'moving days hear', 'moving days want', 'moving help focus', 'moving im sure', 'moving nyc pursue', 'moving physically impossible', 'moving residence university', 'mp games mean', 'mp hope best', 'mpg edge max', 'mr vadan born', 'ms step father', 'msi gpu gx', 'msi mpg edge', 'mu friends tease', 'multipart questions appreciate', 'multiple chronic illnesses', 'multiple colleges classes', 'multiple help think', 'multiple sexual assaults', 'multiple times day', 'multiple times dont', 'multiple times exposed', 'multiple times got', 'multiple times life', 'multiple times week', 'multiple weeks session', 'mumimo triband idea', 'mundane things like', 'muscle pain couple', 'muscle pain goes', 'muscle spacizams worst', 'musclejoint pain fatiguelow', 'muscles eyelids noticed', 'muscular gonna list', 'museums private collections', 'mushkin newegg storage', 'mushrooms heart attack', 'music color aid', 'music eyes closed', 'music meditate trips', 'music really hes', 'music song came', 'music sound youtube', 'music sudden heard', 'music voice acting', 'music weed living', 'mustache eyeshadow glitter', 'mustvisit places route', 'mutual completely lost', 'mutual discussion turns', 'mutually satisfying relationship', 'myersbriggs types said', 'na cadvideo editingphoto', 'na specific requirements', 'nada like drivers', 'naghahanap ako mga', 'naked body sexy', 'naked cuddling believe', 'naked cuddling says', 'naked cuddling suppose', 'naked entwined bed', 'naked juice ramen', 'naked lot getting', 'naked texts caring', 'names numbersmath impossible', 'nasty gout flare', 'nathan drake collection', 'national french honor', 'national international highest', 'nationally globally items', 'nationwide prevent changes', 'natural attempt initiate', 'natural thing world', 'nature optionsan assignment', 'nature way common', 'naughty child bothered', 'nauseous head hurts', 'nauseous sweaty time', 'navigate bios time', 'navigate new world', 'navigating life support', 'navy seal lol', 'ndri ssri need', 'near city great', 'near company job', 'near end really', 'near mom im', 'near new car', 'near panic attacks', 'near perms dont', 'near work office', 'nearly incapable holding', 'nearly know theres', 'nearly panic attack', 'nearly pounds id', 'nearly time sleep', 'nearly years ago', 'necessarily im bored', 'necessary anyways popup', 'necessary beneficial discussion', 'neck arms overall', 'neck little kissed', 'necks bad intrusive', 'need aap rocky', 'need actively try', 'need advice cope', 'need advice month', 'need advice peace', 'need advice right', 'need ask makes', 'need ass eventually', 'need benefit im', 'need buy able', 'need continue journey', 'need degree years', 'need distraction actually', 'need dont know', 'need exercise counterbalance', 'need exist police', 'need feel like', 'need feel way', 'need focus love', 'need form treatment', 'need good hdmi', 'need grab let', 'need hear im', 'need help advice', 'need help bad', 'need help changing', 'need help feels', 'need help finding', 'need help getting', 'need help im', 'need help need', 'need help problem', 'need help taking', 'need help time', 'need help woke', 'need id like', 'need im going', 'need know listen', 'need large tips', 'need lead sexual', 'need leave extracted', 'need leave house', 'need like need', 'need like ton', 'need list track', 'need lose weight', 'need make money', 'need make sure', 'need maybe asking', 'need medication therapy', 'need new bumper', 'need omitted gaming', 'need open dating', 'need opinions getting', 'need ounce energy', 'need paralyzes brain', 'need pay monthly', 'need point talk', 'need ports handle', 'need really good', 'need report think', 'need safe space', 'need scrap metal', 'need start sort', 'need struggling way', 'need support know', 'need talk therapist', 'need testing xanax', 'need testosterone happy', 'need theyre thing', 'need time line', 'need tips cause', 'need try different', 'need want watch', 'need warm sturdy', 'need work harder', 'need work stronger', 'needed bunch chest', 'needed extended time', 'needed learn english', 'needed lightweight cheap', 'needed long history', 'needed really really', 'needed rf modulator', 'needed unzipping numberous', 'needed vent use', 'needle piercing septum', 'needle poor chinese', 'needles thread layer', 'needs good remembering', 'needs mindfulness note', 'needs new novel', 'needs panic attacks', 'needs people like', 'needs seek therapist', 'needs snow sprayed', 'needs time know', 'needy ish actions', 'needy thoughts needy', 'needy wake day', 'negative crohn disease', 'negative dont want', 'negative effects stimulants', 'negative person started', 'negative self talk', 'negatively effected lot', 'negatively effecting life', 'negatively impacts reading', 'neighborhood association apartment', 'nervous social situations', 'nervous thank advance', 'nervous worried symptoms', 'nes snes genesis', 'netflix difficult coming', 'netflix hulu prime', 'netflix watching probably', 'networking skills help', 'neurodivergent kidtween younger', 'neurologist check things', 'neuropathy taking finasteride', 'neuropsychological evaluation help', 'neurotypical person expectations', 'neutral new person', 'neutrogena hydro boost', 'new aforementioned places', 'new age beliefs', 'new anxiety created', 'new bodily symptoms', 'new brain excited', 'new branch state', 'new breast pump', 'new build love', 'new bumper fixed', 'new car suitable', 'new class school', 'new competitive battling', 'new construction houses', 'new design assuming', 'new different contacts', 'new dont know', 'new friends dont', 'new friends seeking', 'new friends weeks', 'new gonna question', 'new guy started', 'new im fussed', 'new issues days', 'new items usedwore', 'new job got', 'new job im', 'new job make', 'new job months', 'new job really', 'new job want', 'new leaf weeks', 'new medela spectra', 'new medication dont', 'new meds cause', 'new monitor im', 'new novel capture', 'new novel things', 'new number got', 'new people tend', 'new person entering', 'new players return', 'new posting reddit', 'new products eaten', 'new psu evga', 'new psychiatrist havent', 'new recently joints', 'new router recommended', 'new router use', 'new saints row', 'new school bag', 'new shameful sobbing', 'new ssd arrives', 'new sub wondering', 'new super mario', 'new switch ill', 'new way live', 'new world lying', 'new year friends', 'new years eve', 'new york outlining', 'newegg power supply', 'newegg storage seagate', 'newly diagnosed adhd', 'news comment saying', 'news sense humour', 'nginx remarkably faster', 'ngml bit higher', 'nhs decision makers', 'nice anxiety creeping', 'nice ass stop', 'nice friends said', 'nice gen xbox', 'nice great father', 'nice maybe cuz', 'nice meet said', 'nice people really', 'nice theyre reaching', 'nice things act', 'nice wedding afford', 'niche electrical industry', 'nicotine benzodiazepines anxiety', 'night checked phone', 'night convulsing bed', 'night discouraged focused', 'night dont know', 'night example woke', 'night feel anxious', 'night feel like', 'night feeling really', 'night finally fell', 'night foot pressed', 'night friend bedroom', 'night going said', 'night im like', 'night like right', 'night morning woke', 'night right boob', 'night sad told', 'night said yes', 'night saying care', 'night sleep woke', 'night solid like', 'night speak friends', 'night spent hours', 'night spoken confused', 'night stopped taking', 'night sweats times', 'night talking asking', 'night used college', 'night works big', 'nightmare intervene anxiety', 'nightmare teaching kids', 'nightmare theory note', 'nightmares entire life', 'nightmares feel like', 'nightmares im trying', 'nightmares specifically thinking', 'nightmares vivid dreams', 'nightmares wake feeling', 'nights living hell', 'nights panic attacks', 'nights tonight im', 'nighttime routines ive', 'nighttime therapy similar', 'nipple frustrating child', 'noah favor like', 'nods dnd unity', 'nods starts talking', 'noise quite like', 'noises louder quieter', 'non paid weapons', 'nonadhd partners thing', 'nondiet approach coach', 'nonnegotiables deal guilt', 'nonpsyical im concerned', 'nonsexual let know', 'nonsurface topic point', 'noon lay bed', 'nope demographics race', 'normal actual stressful', 'normal afab people', 'normal age lbs', 'normal arguments spurred', 'normal degree little', 'normal effects period', 'normal feel like', 'normal feel way', 'normal felt happy', 'normal fights spurred', 'normal heart ecg', 'normal heart fluctuate', 'normal help need', 'normal help thinking', 'normal idk pay', 'normal increased hair', 'normal light turned', 'normal love friends', 'normal meds working', 'normal normal anxiety', 'normal panic mode', 'normal people feel', 'normal period periods', 'normal push heart', 'normal recent period', 'normal self things', 'normal stimming barely', 'normal suspect premenstrual', 'normal thing happens', 'normal tongue pattern', 'normal vaguely feel', 'normal wrong didnt', 'normally albeit vividly', 'normally geographic tongue', 'normally got quite', 'normally say typical', 'normally wake super', 'northeast really id', 'norway far infeasible', 'nose needle piercing', 'nosejob say undiagnosed', 'note follow format', 'note id like', 'note let know', 'note taking video', 'note therapist ditched', 'noted ovaries demonstrated', 'noted simple appearing', 'notes stress feel', 'notice anxious spend', 'notice definitely helps', 'notice legs changed', 'notice medication working', 'notice shower tired', 'notice stomach feel', 'noticeable duos squads', 'noticeable head running', 'noticeable marks feet', 'noticed bloated usual', 'noticed happened november', 'noticed hard touch', 'noticed ive falling', 'noticed keyboard mouse', 'noticed month ago', 'noticed pictures eyes', 'noticed pocket sand', 'noticed solid red', 'noticed spring wasnt', 'noticed times hip', 'noticed weeks ago', 'noticed white powder', 'noticing fans connected', 'noticing hair falling', 'noticing heart beating', 'noticing new anxiety', 'noticing thicker discharge', 'notification email person', 'noting soviets mind', 'novel capture attention', 'novel things bedroom', 'november october like', 'november past months', 'november period usual', 'nowadays feel like', 'nowere bruises fell', 'nowis really late', 'npcs online character', 'nsaid interfere ht', 'nt person read', 'nt person whilst', 'nts ability defocus', 'nukes dropped literally', 'numb hollow piece', 'numb like pressure', 'numb start developing', 'number connected email', 'number exams prolactin', 'number fun casual', 'number got new', 'numberous files batch', 'numbersmath impossible sitting', 'numerous times way', 'nurse figure deals', 'nurse originally picked', 'nurse suggested concept', 'nurse training prescribing', 'nursed remember solution', 'nursing strike confused', 'nursing weeks days', 'nutrienal yields know', 'nuts salty salad', 'nuts thinking cancer', 'nvidia shield fit', 'nvme harddrive ive', 'ny moms house', 'nyc area like', 'nyc media agencies', 'nyc pursue acting', 'nzxt cam program', 'nzxt cam software', 'nzxt kraken aio', 'obese week tuesday', 'obesity issue right', 'object ones love', 'objects art glass', 'objects trying save', 'obnoxious closest friends', 'obsession ignoring makes', 'obsession long millisecond', 'obsession loops trying', 'obsession people direct', 'obsession remain anxious', 'obsession trying force', 'obsessions health earlier', 'obsessions vulnerabilities feel', 'obvious build admit', 'obvious disability know', 'obvious missed edit', 'obvious reasons occupied', 'obvious reasons sad', 'obviously add mechanics', 'obviously anxiety thinking', 'obviously cost health', 'obviously doesnt know', 'obviously dont want', 'obviously eavesdropping conversation', 'obviously like avoid', 'obviously mean insurance', 'obviously opted option', 'occasional cramping lower', 'occasional heart palpitations', 'occasional red spots', 'occasionally frequently usual', 'occupied russian forces', 'occur abdomen legs', 'occur corner started', 'occur months ago', 'occurred day earth', 'occurred eating breakfast', 'occurrence relationship love', 'occurs person stab', 'ocd adhd add', 'ocd behavior make', 'ocd bupropion buspirone', 'ocd depression issues', 'ocd ed disorder', 'ocd feels real', 'ocd flared majorly', 'ocd idk dont', 'ocd intrusive thoughts', 'ocd mean immune', 'ocd realized lot', 'ocd really bad', 'ocd restart various', 'ocd sit room', 'ocd thoughts main', 'ocd thoughts triggered', 'ocd unhelpful downright', 'october couple noticeable', 'october like july', 'odd anyways heres', 'odd doesnt happen', 'odd ill trying', 'odd ive played', 'odin project online', 'ofc ideal stupid', 'offensive naked texts', 'offensive night feel', 'offensive stupid notice', 'offer existed making', 'offer fortune company', 'offer like said', 'offered time said', 'offering taken turns', 'office door closed', 'office gps secretary', 'office id felt', 'office set roth', 'office spent bullshitting', 'office week said', 'official diagnosis dont', 'official mini garage', 'officials students sophomore', 'oh queen yes', 'oh seen car', 'oh thanks really', 'oh yeah ha', 'oh yeah im', 'oily dense green', 'ointment facial eczema', 'ok course struggled', 'ok herei start', 'ok im sorry', 'okay asking things', 'okay fine like', 'okay pain getting', 'okay silicone foam', 'okay spot right', 'okay thats maybe', 'okay took space', 'okay tried start', 'okay worry exactly', 'old cpu gtx', 'old damaged life', 'old daughter feel', 'old electrical items', 'old fans happy', 'old feel like', 'old female caucasian', 'old female intact', 'old female past', 'old gaming pc', 'old japanese song', 'old keys water', 'old lbs week', 'old male completed', 'old male suffering', 'old male tall', 'old medela years', 'old milage ive', 'old motherboard amazon', 'old parts parts', 'old pc better', 'old peacemaker comics', 'old perfume bottles', 'old psu thought', 'old purposely didnt', 'old school consoles', 'old times came', 'old walked away', 'old year months', 'old year old', 'old young family', 'older absolutely social', 'older demodog adult', 'older games im', 'omitted gaming industry', 'ondemand went best', 'onei idea rightclick', 'ones ivs meaning', 'ones ones wear', 'ones reach friends', 'ones restarted pcwindows', 'ones start grade', 'ones wear plugged', 'ones worry responding', 'ongoing police investigation', 'online classes cheating', 'online completely tied', 'online courses pursue', 'online creating fake', 'online etsy ebay', 'online literally told', 'open dating met', 'open dating think', 'open day wasnt', 'open door let', 'open gates americans', 'open hatch unnecessarily', 'open house wide', 'open mentioned hookups', 'open mouth remember', 'open refurbsused yes', 'open relationships mentioned', 'open relationships said', 'open reveal loud', 'open using navigate', 'open world games', 'opened eyes lot', 'opened mouth laughed', 'opened new branch', 'opened second location', 'operating microsoft windows', 'opinions doesnt trust', 'opinions getting shit', 'opinions took time', 'opportunities stage current', 'opportunities university leeds', 'opportunity positivity happen', 'opportunity talked nice', 'opposed preap world', 'opposite end world', 'opposite point thought', 'opposite sides world', 'opposite spot im', 'opted option called', 'optical drive good', 'optimally try happy', 'opting options gave', 'option called gdamn', 'option dealing need', 'option feel like', 'option inviting like', 'option point pretty', 'option thousands commuters', 'options actually action', 'options change plan', 'options gave ive', 'options resolving issue', 'options things cheaper', 'optionsan assignment theoretically', 'oral manual stimulation', 'orchestral piece integrates', 'order feel better', 'order love dad', 'order rambling dont', 'order takeout unhealthy', 'order visit great', 'ordering lock current', 'ordinary photo ref', 'organism points experience', 'organized social anxiety', 'organizing cleaning anticipating', 'original awesome doctor', 'original diagnosis dont', 'originally picked potential', 'originally wanted art', 'originally work ot', 'ot late bosses', 'ot skip days', 'ot wfh days', 'ounce energy falling', 'outbreak ebola fact', 'outer thigh heard', 'outfits masturbating bed', 'outlet hands arms', 'outlet time keyboard', 'outletpc case fan', 'outlining current macroeconomic', 'outrage iron head', 'outside ask future', 'outside body like', 'outside contract agreement', 'outside feel inside', 'outside feel like', 'outside house fucking', 'outside inside mouth', 'outside isp tech', 'outside merely physical', 'outside sales position', 'outside started going', 'ovarian cancer bc', 'ovarian cysts lesions', 'ovaries demonstrated color', 'ovary right ovary', 'ovary theres barely', 'ovary way blood', 'overall body super', 'overall feel like', 'overall impact career', 'overall massive improvement', 'overall warm like', 'overcoming unwanted instrusive', 'overdone time guess', 'overdrive feels like', 'overdue tend lot', 'overeat vacation abroad', 'overheat bad likely', 'overheated dripping sweat', 'overheating time giving', 'overload post half', 'overlooked obsessions vulnerabilities', 'overrideall creating htaccess', 'overthink little thing', 'overthink stutter say', 'overthink things missing', 'overthinking kicked sent', 'overthinking need advice', 'overthinking overthinking kicked', 'overthinking things way', 'overthinking want relax', 'overtime make time', 'overtime work extra', 'overwhelmed classes im', 'overwhelming stay home', 'overworking stress way', 'ovulate late convinced', 'ovulating based day', 'ovulating day month', 'owe student loans', 'owned salons dont', 'owner ive worked', 'paced community going', 'paci times bottles', 'pacing like maniac', 'pack couple days', 'pack expect appreciated', 'pack pack expect', 'pack wound tuck', 'package ive experiencing', 'packages combined talked', 'packed said liked', 'packet loss issue', 'packet trash noticed', 'pads regular breaks', 'page ipgravxx thing', 'page located varwwwhtmlgrav', 'page works tried', 'paid attention theyve', 'paid deposit account', 'paid guns perks', 'paid live close', 'paid minimum wage', 'paid netflix hulu', 'paid rent moved', 'paid weapons im', 'paid weapons paid', 'paid weapons perks', 'pain better mobility', 'pain chest pain', 'pain close pain', 'pain couple days', 'pain experiencing associate', 'pain fatiguelow energy', 'pain feel like', 'pain feels like', 'pain felt gonna', 'pain gets worse', 'pain getting intense', 'pain goes away', 'pain helpful hold', 'pain limited mobility', 'pain loss balance', 'pain lower hip', 'pain lower spinal', 'pain mess lot', 'pain miss ive', 'pain musclejoint pain', 'pain need help', 'pain normal help', 'pain pelvic pain', 'pain random hurts', 'pain really know', 'pain right middle', 'pain says blood', 'pain sleep wake', 'pain stomach issues', 'pain usually limps', 'pain want able', 'painful hell filled', 'painful keeps saying', 'painful normally geographic', 'painful pattern included', 'painful reddish spot', 'painful uncomfortable er', 'painful uncomfortable lucidawake', 'painfulitchy welts upper', 'pains knows talking', 'pains times eat', 'paint creative barely', 'paired steroids drugs', 'pairs ram works', 'pale redness lasts', 'palp like oh', 'palpitations feels like', 'palpitations heart palpitations', 'palpitations like april', 'palpitations make heart', 'palpitations occurred eating', 'palps wont away', 'panal shows ram', 'pandas seizures ocd', 'pandemic hits time', 'pandemic laid making', 'pandemic started getting', 'panel case looked', 'panel including switch', 'panel thought ram', 'panic amber alerts', 'panic attack brought', 'panic attack cause', 'panic attack coach', 'panic attack im', 'panic attack kept', 'panic attack know', 'panic attack lasted', 'panic attack months', 'panic attack night', 'panic attack shower', 'panic attack stop', 'panic attack thinking', 'panic attack time', 'panic attack trying', 'panic attack yesterday', 'panic attacks anxiety', 'panic attacks anymore', 'panic attacks bad', 'panic attacks day', 'panic attacks depression', 'panic attacks dissociationdepersonalization', 'panic attacks feel', 'panic attacks got', 'panic attacks horrible', 'panic attacks hours', 'panic attacks im', 'panic attacks know', 'panic attacks like', 'panic attacks panic', 'panic attacks probably', 'panic attacks pull', 'panic attacks real', 'panic attacks shortness', 'panic attacks started', 'panic attacks think', 'panic attacks thoughts', 'panic attacks time', 'panic attacks today', 'panic attacks try', 'panic attacks working', 'panic disorder keeping', 'panic ecg start', 'panic family swine', 'panic free sure', 'panic gotten worse', 'panic know worse', 'panic like im', 'panic mode low', 'panicanxiety attacks dig', 'panicking heart palp', 'panicking thinking palps', 'panicking worst gym', 'panics anxiety started', 'panics idk fast', 'panoramic xray showing', 'pant happy shake', 'panting constantly takes', 'paper sense humor', 'paralyzes brain says', 'paralyzing anxiety imposter', 'parametric criteria generated', 'paranoia abusive emotionally', 'paranoid fear drug', 'paranoid health im', 'paranoid low iq', 'paranoid personality disorder', 'paranoid special class', 'paranoid thats thing', 'paranoid working head', 'parenchyma hepatic steatosis', 'parents beating say', 'parents beginning affect', 'parents eczema flair', 'parents fear day', 'parents getting divorced', 'parents really strangely', 'parents refuse therapist', 'parents virgin ashamed', 'parking lot like', 'parking router currently', 'parotid gland minor', 'partaken fair share', 'particle come house', 'particular causing diarrhea', 'particularly eastern philosophy', 'particularly feeling motivated', 'particularly masculine feminine', 'particularly misbehave child', 'particularly unwell sleeping', 'parties going goofing', 'partner abnormal started', 'partner complains hogging', 'partner didnt bites', 'partner family attention', 'partner feel struggle', 'partner impacts relationship', 'partner long wasnt', 'partner longer feels', 'partner looks like', 'partner moving residence', 'partner partners dog', 'partner wonderful person', 'partner year old', 'partners antidepressants ndri', 'partners dad partner', 'partners dog technically', 'partners thing read', 'parts anymore insurance', 'parts case radeon', 'parts chosen parametric', 'parts consider formatting', 'parts listwwwredditcomrbuildapcwikipcpp dont', 'parts male ft', 'parts midhigh end', 'parts parts midhigh', 'parts post draft', 'partum pre eclampsia', 'party available said', 'party got drunk', 'party great time', 'party phone tech', 'party place said', 'party scene school', 'party want particle', 'pass alarm goes', 'pass moment fucking', 'pass took tried', 'passed away years', 'passed completely unresponsive', 'passed dont know', 'passed restricting said', 'passed state master', 'passes awareness quickly', 'passion think good', 'passive process active', 'past anxiety slowly', 'past coding interviews', 'past couple days', 'past couple months', 'past couple visits', 'past couple weeks', 'past couple years', 'past dark time', 'past days especially', 'past days ignore', 'past days ive', 'past days noticing', 'past dont know', 'past easily eat', 'past like days', 'past like months', 'past like years', 'past misbegotten face', 'past months able', 'past months centered', 'past months getting', 'past months got', 'past months ive', 'past months making', 'past months really', 'past months started', 'past months today', 'past probably brenner', 'past things fh', 'past way protect', 'past week eat', 'past week food', 'past week ive', 'past week lost', 'past week really', 'past week told', 'past weeks actually', 'past weeks feel', 'past wont mean', 'past year breath', 'past year lot', 'past year started', 'past years aware', 'past years depressed', 'past years im', 'past years ive', 'past years life', 'past years menstruating', 'pat couple years', 'pathetic piece shit', 'patience moving physically', 'patient family member', 'patient problems cause', 'patient psychiatrist like', 'patient taking meds', 'patients like number', 'patients spectrum feel', 'pattern baldness symptoms', 'pattern included picture', 'pattern symptom started', 'pattern think reaction', 'paused seconds know', 'paw hurts pain', 'paw know bad', 'pay attention gets', 'pay attention love', 'pay attention thing', 'pay cap theres', 'pay close attention', 'pay credit card', 'pay damage prefer', 'pay excess obviously', 'pay extra cost', 'pay game technically', 'pay insurance courtesy', 'pay live near', 'pay loans january', 'pay loans use', 'pay monthly fee', 'pay phone tech', 'pay pretty similar', 'pay rent paying', 'pay rn im', 'pay student loans', 'pay try insurance', 'payed dropped home', 'paying attention let', 'paying attention like', 'paying attention suddenly', 'paying attention things', 'paying attention want', 'paying cable food', 'paying current price', 'paying job allow', 'paying large money', 'paying student loans', 'paying thing sat', 'paying tithes god', 'payment half feel', 'payne ocd restart', 'pays car insurence', 'pc better bet', 'pc built ive', 'pc day day', 'pc finishing cabling', 'pc medical issues', 'pc music sound', 'pc reboots doesnt', 'pc restarted critical', 'pc route worth', 'pc screenshots iimgurcomfyuquxhpng', 'pc shutdown turn', 'pc started reading', 'pc starting scratch', 'pcos children family', 'pcp said titer', 'pcp think autoimmune', 'pcpartpicker price breakdown', 'pcpartpickerpcpartpickercom provide additional', 'pcwindows sound nada', 'peace im guess', 'peace moer internet', 'peacemaker comics peacemaker', 'peacemaker halfturned guns', 'peaking right lots', 'peaks ive like', 'pedals clunking shaking', 'pediatrician birth control', 'pee maybe standing', 'pee sweating moved', 'peed said bloating', 'peed wait basically', 'peeling plastic cause', 'peeling plastic film', 'peers little problem', 'pelvic pain lower', 'pen thigh break', 'penetration feel intense', 'penetration hurt night', 'penny wise pound', 'pentium processor ram', 'people act like', 'people act way', 'people actually adhd', 'people actually know', 'people adhd evaluations', 'people age maybe', 'people arent mom', 'people arizona protest', 'people bought massive', 'people buy game', 'people clothes told', 'people come collect', 'people come relate', 'people coming alive', 'people completely lose', 'people completely refrain', 'people considered friends', 'people couple weeks', 'people day friends', 'people didnt telekinetic', 'people direct attention', 'people dont deserve', 'people dont know', 'people dont like', 'people dont love', 'people dont need', 'people dont really', 'people dont understand', 'people dont want', 'people expect different', 'people experience spectrum', 'people faking lying', 'people feel bad', 'people feel better', 'people feel good', 'people feel like', 'people feel need', 'people feel way', 'people felt like', 'people fucking hate', 'people getting clean', 'people going say', 'people gonna fall', 'people got ventilator', 'people harder lives', 'people id like', 'people im directly', 'people intrusive thoughts', 'people ive known', 'people ive met', 'people jesus raised', 'people know like', 'people know look', 'people know people', 'people know subjective', 'people know talk', 'people know think', 'people laugh good', 'people level worried', 'people life know', 'people life rest', 'people like better', 'people like family', 'people like feel', 'people like im', 'people like maybe', 'people like want', 'people liked factions', 'people literally work', 'people live long', 'people lost friends', 'people mainly flipped', 'people make friends', 'people make like', 'people make sure', 'people makes feel', 'people manage relationship', 'people meds like', 'people mental illness', 'people need make', 'people need struggling', 'people need time', 'people need warm', 'people normal self', 'people notice medication', 'people people kids', 'people piss reason', 'people presentations barely', 'people raised dead', 'people real life', 'people real world', 'people really need', 'people relationship grew', 'people rubbish worn', 'people said nice', 'people said sort', 'people say malicious', 'people say period', 'people say things', 'people saying feels', 'people saying need', 'people saying things', 'people sex relationship', 'people slept respect', 'people social situations', 'people socialize college', 'people speak rest', 'people stomach issues', 'people stop ruminating', 'people struggle depression', 'people talking bricking', 'people tell im', 'people telling im', 'people tend start', 'people terribly dont', 'people theyll think', 'people thing capable', 'people think come', 'people think good', 'people think im', 'people think make', 'people think thirties', 'people thinking im', 'people told purposely', 'people treat like', 'people treated badly', 'people ud maybe', 'people uncomfortable feel', 'people use lucid', 'people using sell', 'people want hear', 'people want people', 'people willing buy', 'people wont leave', 'people work home', 'people work im', 'people year total', 'people years adhd', 'people years ago', 'peps stuff necessarily', 'percent south indian', 'perceptual reasoning working', 'percieved female process', 'perfect child broken', 'perfect crickets job', 'perfect fit lets', 'perfect obviously add', 'perfect sense hitboxes', 'perfectly brain like', 'perfectly doesnt realized', 'perfectly good food', 'perfectly rational right', 'performance anxiety issues', 'performance battery life', 'performance feel disrespected', 'performance issues shock', 'performance looking screen', 'performing pretty home', 'perfume bottles old', 'perfume human mind', 'perianal abscess drained', 'period began ended', 'period bled day', 'period cause temporary', 'period crossposted mental', 'period ended getting', 'period exactly week', 'period felt fine', 'period gotten shorter', 'period hormones coincidence', 'period isnt late', 'period july days', 'period longer make', 'period periods januaryapril', 'period severe depression', 'period soemthing add', 'period started vyvanse', 'period starts started', 'period sunday week', 'period symptoms started', 'period time body', 'period told said', 'period used talk', 'period usual ending', 'period vyvanse sertraline', 'period yesterday feel', 'periods februarymarch days', 'periods feel best', 'periods januaryapril fairly', 'periods time listening', 'perks boxes fine', 'perks crosses fingers', 'perm im guessing', 'perm place knows', 'perm purposely makes', 'permissions php making', 'perms dont think', 'pero okay lang', 'persistent constant said', 'person closest commute', 'person discover sex', 'person dont trauma', 'person dont want', 'person entering friend', 'person expectations help', 'person feel comfortable', 'person feel like', 'person fucked bad', 'person going month', 'person got restraining', 'person guess favorites', 'person hoping adhd', 'person im going', 'person jewelry store', 'person like im', 'person like seeing', 'person love friendship', 'person makes believe', 'person met used', 'person moment sexual', 'person people like', 'person pretend covid', 'person profile check', 'person read think', 'person said break', 'person said youre', 'person stab loved', 'person started hit', 'person think talking', 'person treat people', 'person view feel', 'person want let', 'person whilst living', 'person works company', 'personal development hobbies', 'personal experience infps', 'personal flaws working', 'personal hold anymore', 'personal level im', 'personal love dnd', 'personal reviews new', 'personality change im', 'personality complete strangers', 'personality disorder sure', 'personality long like', 'personality maybe trying', 'personality piece drywall', 'personality really liked', 'personality seen like', 'personality wasnt flaw', 'personally dont like', 'personally feel like', 'perspective accredited god', 'petition really sure', 'petty refuse eat', 'pfizer booster days', 'pgf colon cancer', 'pgm breast cancer', 'phase abruptly stopped', 'phase advice appreciated', 'phase equal luteal', 'phase getting longer', 'phase heart fast', 'phase regularly gets', 'phases heart feels', 'phases heart weak', 'philosophy dont playful', 'philosophy music really', 'philosophy way use', 'phobia little got', 'phobias aspergers autism', 'phone calls dont', 'phone couple days', 'phone guy cookout', 'phone helpful kind', 'phone im position', 'phone im sure', 'phone number connected', 'phone pretty soon', 'phone rear end', 'phone seen longer', 'phone talk eventually', 'phone tech company', 'phone tech service', 'phone verizon gave', 'phone week school', 'phone youre exhausted', 'photo album eye', 'photo album simgurcomacrgdumf', 'photo mode shots', 'photo wearing hoodie', 'photographer past things', 'photographervideographer love prices', 'photography cost bordering', 'photography happens nonnegotiables', 'photos personality really', 'php making mess', 'phpmyadmin works flawlessy', 'physical health issues', 'physical health mental', 'physical mental health', 'physical mental reasons', 'physical sat weird', 'physical sensations region', 'physical symptoms anxiety', 'physical symptoms like', 'physical symptoms time', 'physical things wanna', 'physically impossible sit', 'physically mentally able', 'physically point hours', 'physically sick afternoon', 'physicalsexual assault id', 'physics self studying', 'physiologically assault went', 'pick parts son', 'picked arrived talked', 'picked days black', 'picked grass sheep', 'picked home payed', 'picked potential adhd', 'picking personal flaws', 'picking potential job', 'picture aio fans', 'picture ass talked', 'picture attached partner', 'picture building reference', 'picture exhaust spinning', 'picture share seen', 'picture tests tested', 'pictures eyes eyebags', 'pictures ignore semimess', 'pictures imaging place', 'pictures linked album', 'pictures photo album', 'piece came bi', 'piece code sounds', 'piece drywall push', 'piece integrates philosophy', 'piece kind merely', 'piece shit didnt', 'piercing multiple times', 'piercing septum drawing', 'piercings nose needle', 'pileup dangerous highway', 'pillow coffee drive', 'pillow im living', 'pin cpu power', 'pin power connector', 'pine branches want', 'pinned happy pant', 'pinned like said', 'pinpoint food particular', 'piss im using', 'piss left came', 'piss people liked', 'piss people normal', 'piss reason like', 'pissed upset thing', 'pissing antagonistic shit', 'pit til dying', 'pitfalls drive work', 'place ask question', 'place dont want', 'place instant speed', 'place knows lol', 'place lower aims', 'place noted simple', 'place said okay', 'place severely understaffed', 'place started enjoying', 'place stress id', 'place think things', 'place time feel', 'place ultrasound got', 'place use restroom', 'placebo break days', 'placed parents fear', 'places exhaustive ideas', 'places feel safe', 'places like visit', 'places losing weight', 'places near perms', 'places route countries', 'places wanna jobs', 'plan able receive', 'plan ahead time', 'plan better suited', 'plan cancel pland', 'plan didnt work', 'plan install form', 'plan obviously opted', 'plan status said', 'plan stick im', 'plan use moms', 'pland change providers', 'planet absolutely massive', 'planet dont feel', 'planned trip know', 'planning exception honeymoon', 'planning far realize', 'planning masters uk', 'planning text tomorrow', 'planning travel europe', 'plans keeping stuff', 'plans mother tells', 'plant end season', 'plant people bought', 'planting beds work', 'plastic cause static', 'plastic film glass', 'platform gen want', 'platinum powersupply changed', 'platinum powersupply replaced', 'play cards right', 'play cpu gpu', 'play different thanks', 'play feel like', 'play game like', 'play games end', 'play games like', 'play hours happened', 'play instead unplug', 'play light games', 'play list know', 'play maybe thats', 'play pc music', 'play settings fps', 'play time transform', 'play video games', 'played factions really', 'played game years', 'played large role', 'played online literally', 'played sports players', 'played tarkov wipe', 'played years issues', 'player send gifts', 'player weekly occurrence', 'players return piss', 'players team dream', 'playful relationship things', 'playing diagnosis big', 'playing dm alongside', 'playing game week', 'playing games spending', 'playing games suddenly', 'playing max level', 'playing phone rear', 'playing team games', 'playing video game', 'playing video games', 'playroom hes really', 'plays dont know', 'plays sound click', 'plays station listened', 'pleasure im left', 'plenty build thought', 'plenty fruits vegetables', 'plex lg smart', 'ploy good know', 'plucking overheat bad', 'plugged cpufan aio', 'plugged cpuopt picture', 'plugged navigate bios', 'plugged pin power', 'plugged usb ports', 'plugged wall strong', 'plugging mouse assume', 'plugs right fans', 'plus campuses near', 'plus iron deficiency', 'plus lots naked', 'plus platinum powersupply', 'pm alexander scriabin', 'pmdd know people', 'pocket grass mixed', 'pocket grass noticed', 'pocket sand activated', 'pocket sand pocket', 'pocket sand thought', 'pocketed called pocket', 'podge kind figuring', 'poem ecstasy awesome', 'point adhd spectrum', 'point barely feel', 'point dont know', 'point dont think', 'point eat doctor', 'point feel like', 'point function im', 'point getting better', 'point getting diagnosed', 'point hours edible', 'point im concerned', 'point im exhausted', 'point im feeling', 'point im going', 'point job meetings', 'point mini like', 'point mother begins', 'point overheated dripping', 'point pretty dang', 'point really feeling', 'point received letters', 'point right direction', 'point talk adhd', 'point things attention', 'point think know', 'point thought death', 'point traits bad', 'point tried fix', 'point trying life', 'point trying make', 'point want end', 'point wanted end', 'point weak fine', 'point years nursed', 'pointless change things', 'points experience bliss', 'points ive gotten', 'pointy bit protractor', 'poisoned backyard mushrooms', 'poke honestly kinda', 'poking finger break', 'pokémon trying rid', 'police case rape', 'police hospital freaks', 'police investigation smth', 'policies products sat', 'policy action based', 'policy required extensive', 'politics economics miscellaneous', 'polyp hiatal hernia', 'poofy letting know', 'pool ground barks', 'poop came suggestions', 'poop hard kinda', 'poop like stools', 'poop stool hard', 'poor attention span', 'poor chinese ink', 'poor circulation hands', 'poor mean useful', 'poor think school', 'pop punk breakdowns', 'pop punk pop', 'popcorn worked twice', 'popular brands looking', 'population tlour great', 'popup windows came', 'porcelain talk barely', 'portable external hard', 'portable ones ones', 'portal time brenner', 'portion difficulties comes', 'portion simply fail', 'portion time life', 'ports general arent', 'ports handle hdr', 'ports imgurcomipfvjxd im', 'ports mobo stopped', 'ports need ports', 'ports support hdr', 'ports work im', 'position coming interview', 'position feel like', 'position pay rn', 'position whos got', 'position working recruiter', 'positions road definitely', 'positive ana test', 'positive hold flurry', 'positivity happen fucks', 'possessive feeling wish', 'possessive friends dont', 'possessive people dont', 'possible conversion disorder', 'possible fail drug', 'possible food intolerance', 'possible im guessing', 'possible knew impossibly', 'possible picture building', 'possible tell difference', 'possible thing interests', 'possible tremors hand', 'possible watery floating', 'possible years school', 'possibly lessen negative', 'possibly norway far', 'possibly remember remembered', 'possibly result using', 'post bit rambly', 'post credit scene', 'post draft potential', 'post dumb inconsistent', 'post feel like', 'post half venting', 'post ive bf', 'post nasal drip', 'post need help', 'post need vent', 'post office pick', 'post partum pre', 'post past years', 'post stunning example', 'post wanted share', 'posted kittens like', 'posted long ago', 'posting make sure', 'posting reddit bit', 'posting single social', 'posts didnt factions', 'posts people saying', 'posts read fairly', 'pot coffee thing', 'pot daily drink', 'potatoes forever lol', 'potatoes gonna stuck', 'potential adhd runs', 'potential build specific', 'potential industry look', 'potential job college', 'potential new medication', 'potentially wills slug', 'potty pads regular', 'pound message gonna', 'pound woke morning', 'pounding fast sit', 'pounds id say', 'pounds timid dog', 'pounds weighed morning', 'pour clear coat', 'pour coffee use', 'powder worried cocaine', 'powderhouse years seen', 'power button cpu', 'power button light', 'power cash rewards', 'power connector cpu', 'power connector pin', 'power error idea', 'power im running', 'power lucid dreaming', 'power mustache eyeshadow', 'power panel including', 'power supply antec', 'powerful influence opposite', 'powerful stop ive', 'powerless fucking concentrate', 'powersupply changed year', 'powersupply gb corsair', 'powersupply replaced new', 'powersupply replaced year', 'practical items like', 'practical matters sticks', 'practical stuff head', 'practical things goes', 'practically rubbed face', 'practice extensively help', 'practice spoke phone', 'practices suggested numerous', 'practicums internships begin', 'praise test scores', 'praising ted bundy', 'pram baby anymore', 'pray excellent resource', 'prayer life writing', 'praying scripture interested', 'prazosin stopped nightmares', 'pre eclampsia hospitalized', 'pre eclampsia time', 'preap world history', 'precious free time', 'prediabetes array mental', 'prednisone antibiotic amoxicillin', 'predominately right issue', 'prefer diagnose problem', 'prefer insurange fine', 'prefer teleporting people', 'preference foam using', 'preferred screen size', 'pregnancies big babies', 'pregnant second child', 'prehistory ap world', 'premenstrual dysphoric disorder', 'premiums simply advice', 'preparation application safe', 'preparation stumbled people', 'prepared practicums internships', 'prepared required technical', 'prepared world end', 'prescribed started period', 'prescribed steroid cream', 'prescribed topical ointment', 'prescribed zoloft anxiety', 'prescribers issue clonodine', 'prescribing nurse figure', 'prescribing really struggling', 'prescription doctor hard', 'present answer questions', 'present shuts completely', 'presentation federal reserve', 'presentations barely talk', 'presentations deal meetings', 'presentations frequent enjoy', 'presentations leave industry', 'presenting team colleagues', 'press power button', 'pressed bed completely', 'pressing cheeks bit', 'pressing normally say', 'pressure appears abdomen', 'pressure caused blood', 'pressure chest calm', 'pressure head eyes', 'pressure instantly ramped', 'pressure pay pretty', 'pressure really high', 'pressure switch relay', 'pressure used high', 'pressured feelings control', 'prestigious important college', 'prestigious tech company', 'presumably monogamous relationship', 'pretend covid bad', 'pretend everythings fine', 'pretend pain normal', 'pretending im working', 'pretends like im', 'pretty bad anxiety', 'pretty bad kept', 'pretty badly like', 'pretty best way', 'pretty big ram', 'pretty cool like', 'pretty dang stiff', 'pretty dead end', 'pretty feel like', 'pretty good day', 'pretty good money', 'pretty good understanding', 'pretty grade thought', 'pretty hard taken', 'pretty home feel', 'pretty ignored fourties', 'pretty im sure', 'pretty intently uf', 'pretty irregular concerning', 'pretty lonely lately', 'pretty loud feel', 'pretty middle ground', 'pretty really subtle', 'pretty scary time', 'pretty self conscious', 'pretty similar assume', 'pretty similar bonuses', 'pretty social person', 'pretty straight forward', 'pretty sure adhd', 'pretty sure got', 'pretty sure im', 'pretty sure ive', 'prevalent symptoms diarrhea', 'prevent achieving goals', 'prevent bad happening', 'prevent changes ap', 'prevent sleeping elementary', 'prevented coming like', 'prevented sleeping night', 'previous night speak', 'previously noticed bloated', 'price breakdown typeitemprice', 'price case climbs', 'price chance new', 'price far expecting', 'price im considering', 'price parts chosen', 'price said long', 'prices include shipping', 'prices incredibly reasonable', 'prick feeling feet', 'primary care physician', 'primary need point', 'prime socially amazing', 'prime video time', 'prince type fucking', 'principles doctrines solve', 'print lost picture', 'prior conflict townsfolk', 'prior left got', 'prior misdiagnoses cycle', 'prior therapists counselors', 'prioritize form factor', 'private collections world', 'private diagnosis surprise', 'private practice spoke', 'pro combination ryzen', 'pro nvidia shield', 'probably brenner got', 'probably drinks aspiring', 'probably feel perfectly', 'probably gonna ask', 'probably hairs day', 'probably health anxiety', 'probably know im', 'probably like gallon', 'probably stop eating', 'probably sucks tired', 'probably treat people', 'probably ubuntu soon', 'probably weird way', 'probably wont able', 'probably worst land', 'probably wouldnt friends', 'probably wouldnt worrying', 'problem buying new', 'problem communicating people', 'problem fans lianli', 'problem feel like', 'problem finds psychiatrist', 'problem getting women', 'problem happy cheering', 'problem know fix', 'problem know work', 'problem laziness lack', 'problem letting dog', 'problem panic disorder', 'problem related years', 'problem solving baby', 'problem spending money', 'problem tldr finally', 'problem try push', 'problem usual time', 'problem usually ruminate', 'problema es que', 'problems alcohol want', 'problems cause life', 'problems depression anxiety', 'problems dont want', 'problems lack motivation', 'problems real progress', 'problems solve turning', 'problems weeks started', 'process active letting', 'process david bowie', 'process helpful tesla', 'processing speed huge', 'processing web browsing', 'processor cpu cooler', 'processor ram ssd', 'processor ryzen work', 'processor speed ghz', 'prodding trying figure', 'production halted obvious', 'productive currently dont', 'productive time properly', 'products afford person', 'products eaten different', 'products sat ap', 'professional photographer past', 'professionally diagnosed cptsd', 'professor discussing myersbriggs', 'profile check comment', 'profile perfectly brain', 'program suddenly fans', 'program yes advisepointers', 'programnothing happened worked', 'programsgames desire run', 'progress rests artists', 'project online courses', 'projects make problems', 'projects studying exam', 'projects wanna start', 'prolactin came ngml', 'promise going drink', 'promise tell hurts', 'promptly referred november', 'proof worries cancellation', 'properly life obviously', 'properly medicated years', 'properly thinking replying', 'properly updated reason', 'properties hit test', 'prophet god telling', 'protect mom brother', 'protect tweets liked', 'protective factors wanted', 'protein macros really', 'protest issue involving', 'protractor leaves white', 'proud lbs continuously', 'prove friends trust', 'prove useful need', 'provide additional details', 'provide refund iption', 'provider scamsrus scamsrus', 'providers cancellation fee', 'prozac klonopin needed', 'ps credit score', 'psu evga supernova', 'psu thought issue', 'psychedelics researches thanks', 'psychiatrist assessment symptoms', 'psychiatrist havent seen', 'psychiatrist like treat', 'psychiatrist parents beating', 'psychiatrist sad told', 'psychiatrist said effect', 'psychiatrist said serotonin', 'psychiatrist time years', 'psychiatrist used absolutely', 'psychiatrists taken various', 'psychiatry uk like', 'psychically working read', 'psychologists refer sleep', 'psychology student irony', 'psychology studied christian', 'ptsd feel like', 'ptsd generalized anxiety', 'public feel like', 'public restroom itll', 'public transit viable', 'published recovery rates', 'puffs twice daily', 'pull head ass', 'pull poop hard', 'pull rush powerful', 'pulled actually killed', 'pulled exchanged details', 'pulled kiss started', 'pulled kiss wanted', 'pulled work stayed', 'pulse fast like', 'pulse wave doppler', 'pump old medela', 'pump plugged cpuopt', 'pump working pictures', 'punching bag anymore', 'punk pop punk', 'purchase new router', 'purchase use usd', 'purchasing parts post', 'purely abstract ecstasy', 'purely intellectual speculation', 'purple especially winter', 'purpose effort prevent', 'purpose sit dont', 'purposely didnt live', 'purposely makes hair', 'purposely tried calling', 'pursue acting way', 'pursue graduate program', 'push anxiety attacks', 'push gently let', 'push heart gets', 'push mind forget', 'push talk make', 'pushed aside lived', 'pushing guess ill', 'pushing people away', 'putting focused energy', 'putting getting job', 'putting situation dont', 'pvcs ectopic beats', 'qualifications id perfect', 'quality life dont', 'quality life look', 'quality performance battery', 'quality photography happens', 'quality touchscreen fingerprint', 'quantum gateway router', 'quantum router able', 'quantum router fios', 'quarantine bleeding lighter', 'quarantine okay took', 'que el problema', 'que la gente', 'queen yes lol', 'queens long island', 'quell urge ahead', 'question create bit', 'question cycle timeline', 'question dont want', 'question farming live', 'question guys make', 'question nervous thank', 'question quality life', 'question reserve risking', 'question taken clonodine', 'questions appreciate input', 'questions ask simply', 'questions ive heard', 'questions larger group', 'questions mana cost', 'questions need buy', 'questions nowis really', 'questions relate simply', 'questions said dont', 'questions things dont', 'questions think experience', 'questions wanted ask', 'quick google search', 'quickly little distress', 'quiet couple baby', 'quiet girl responded', 'quiet hears sure', 'quiet traveling mind', 'quieter forth visual', 'quit job workplace', 'quite bit better', 'quite fast decided', 'quite honest like', 'quite like wheel', 'quite long typing', 'quite low intimate', 'quite suddenly college', 'quote luckily body', 'quote wanted replace', 'quote week ago', 'quotes scriabin ive', 'race gender white', 'race makes panic', 'races day usually', 'races like beating', 'races minimal exertion', 'racing million miles', 'radeon gpu amd', 'radio chill gamingstudy', 'radio reach immediately', 'rags confirmed accept', 'raids maximum distance', 'rail arrive work', 'rainbow siege game', 'raised dead followers', 'raised dead gospels', 'raised essential waste', 'raised eyebrow turned', 'raised hurt included', 'raised planting beds', 'raised turn red', 'ram booting tarkov', 'ram busted got', 'ram configs issue', 'ram ended showing', 'ram exact thing', 'ram going make', 'ram issues mhz', 'ram lights appears', 'ram mhz corsair', 'ram mobo msi', 'ram nvme harddrive', 'ram rtx msi', 'ram showing whats', 'ram slots dirty', 'ram software like', 'ram ssd storage', 'ram thought ryzen', 'ram works fine', 'rambling dont care', 'rambly multipart questions', 'ramped came mixed', 'ran bathroom looking', 'ran idled like', 'random booting live', 'random hurts physical', 'random imaging place', 'random items people', 'random npcs online', 'random red itchy', 'random small itchy', 'random stuff fb', 'randomly happened hoping', 'randomly lose balance', 'randomly pretty scary', 'randomly shutdown thought', 'randomly start shaking', 'range arguing isnt', 'rank ap classes', 'ranking course rigor', 'ranking universe expound', 'rant guess questions', 'rape reading know', 'rape victims pretend', 'rare form lymphoma', 'rare patient taking', 'rare started concern', 'rarely helped spoke', 'rarely inquires asks', 'rarely killed people', 'rash arms poor', 'rash increases decreases', 'rash spreading bites', 'rashes rashes sort', 'rashes sort assumed', 'rashes started time', 'rate blood pressure', 'rate chart cut', 'rate fever ive', 'rate maybe like', 'rate went harder', 'rate went scared', 'rates aagian idk', 'rates corona believing', 'rates like day', 'rates said fine', 'rational right id', 'raynaud hands feet', 'reach directly issues', 'reach friends barely', 'reach gas station', 'reach immediately got', 'reach point feeling', 'reaching trying work', 'react accordingly act', 'react ill way', 'react new bodily', 'react worse vaccine', 'reaction edible didnt', 'reaction goes head', 'reaction havent tried', 'reaction quit job', 'reaction thing eating', 'reactive afraid mundane', 'reactive cells colon', 'read adhd right', 'read bios version', 'read book say', 'read colouring play', 'read fairly effect', 'read far thank', 'read far thanks', 'read im glad', 'read long finish', 'read lot online', 'read relate authors', 'read rules pcpartpicker', 'read sidebar ruleswwwredditcomrbuildapcwikirules', 'read sounds like', 'read started vyvanse', 'read textbooks school', 'read think im', 'read wiki wanted', 'reader optical drive', 'reading book right', 'reading books started', 'reading know chanel', 'reading learning understand', 'reading likely ht', 'reading long honestly', 'reading rereading texts', 'reading spend time', 'reading virus monitoring', 'readme file im', 'reads took forever', 'ready big food', 'ready body feels', 'ready minutes driving', 'ready treat seeing', 'ready wake early', 'ready workload pressure', 'ready yeah went', 'real estate agent', 'real feel like', 'real life dont', 'real life im', 'real like enjoyment', 'real like im', 'real love life', 'real progress rests', 'real reason feel', 'real time going', 'real world beginning', 'realise ive zoned', 'realised checking vast', 'realised living room', 'reality neutral new', 'realize hard spend', 'realize takes time', 'realize wrong far', 'realized demogorgon actually', 'realized dont need', 'realized feel bad', 'realized intrusive thoughts', 'realized lot life', 'realized reason explore', 'realizing end switching', 'really anxious social', 'really anxious tried', 'really appreciate advice', 'really appreciate help', 'really appreciate thanks', 'really appreciate tips', 'really bad anxiety', 'really bad deep', 'really bad depression', 'really bad dont', 'really bad fear', 'really bad feel', 'really bad im', 'really bad like', 'really bad maybe', 'really bad pandemic', 'really bad people', 'really bad person', 'really bad really', 'really bad social', 'really bad struggling', 'really bad thing', 'really bad thought', 'really bad took', 'really bad way', 'really big deal', 'really big old', 'really bloated heavy', 'really busy work', 'really care anymore', 'really care bother', 'really care dont', 'really changed nervous', 'really close friends', 'really concerned money', 'really confused heard', 'really content fine', 'really cool weird', 'really demoralizing dont', 'really depressed let', 'really didnt know', 'really different adhd', 'really doesnt make', 'really dont care', 'really dont know', 'really dont like', 'really dont think', 'really dont understand', 'really dont wanna', 'really dont want', 'really drunk possibly', 'really east coast', 'really end road', 'really excited ran', 'really fast gameplay', 'really feel bad', 'really feel like', 'really feeling hot', 'really feeling safe', 'really feels like', 'really felt like', 'really felt sort', 'really friends leave', 'really fucking want', 'really good friends', 'really good like', 'really good mood', 'really good poop', 'really hard deal', 'really hard like', 'really hard phase', 'really hard time', 'really hate feeling', 'really hes favorite', 'really highpowered big', 'really hope new', 'really hope works', 'really id like', 'really idea thought', 'really interested concept', 'really intrusive thoughts', 'really know advice', 'really know anymore', 'really know dont', 'really know expect', 'really know feel', 'really know help', 'really know id', 'really know know', 'really know makes', 'really know point', 'really know say', 'really know sounds', 'really know start', 'really know talk', 'really know tattoos', 'really know want', 'really late insurance', 'really like anime', 'really like planned', 'really like really', 'really like scary', 'really like spend', 'really like start', 'really like want', 'really like wearing', 'really liked job', 'really liked kind', 'really liked wanted', 'really long time', 'really look like', 'really looking forward', 'really loss family', 'really love hear', 'really make sense', 'really need advice', 'really need help', 'really need know', 'really need talk', 'really need tips', 'really needed bunch', 'really needy wake', 'really negatively impacts', 'really new game', 'really nice anxiety', 'really notice difference', 'really old parts', 'really opened eyes', 'really option dealing', 'really overdone time', 'really paranoid health', 'really pissed upset', 'really point getting', 'really poop like', 'really quiet girl', 'really real like', 'really really appreciate', 'really really bad', 'really really want', 'really reply compliments', 'really result completely', 'really scared hurt', 'really secured partner', 'really starting run', 'really starts working', 'really strangely really', 'really struggle motivated', 'really struggle restlessness', 'really struggling going', 'really subtle effects', 'really sure goes', 'really sure works', 'really taken aback', 'really theories wonder', 'really think past', 'really thought issue', 'really tough time', 'really truly feeling', 'really try remind', 'really trying push', 'really underweight scared', 'really unfortunate periods', 'really upset lied', 'really use excuse', 'really wanna know', 'really wanna mg', 'really want chance', 'really want deal', 'really want feel', 'really want flexible', 'really want help', 'really want hopes', 'really want hug', 'really want know', 'really want like', 'really want live', 'really want make', 'really want medication', 'really want play', 'really want quit', 'really want relationship', 'really want risk', 'really want start', 'really want talk', 'really want tattoo', 'really want want', 'really want work', 'really wanted make', 'really worked feel', 'rear end going', 'reason absences adhere', 'reason believe approaches', 'reason dont understand', 'reason dont want', 'reason explore save', 'reason feel like', 'reason feels like', 'reason guess fear', 'reason im asking', 'reason im losing', 'reason like looks', 'reason make connection', 'reason prefer teleporting', 'reason really trying', 'reason ring samaritans', 'reason russians underground', 'reason special classes', 'reason types sound', 'reason worried noticed', 'reasonable maxed bench', 'reasonable wedding photography', 'reasoning abilities score', 'reasoning actually good', 'reasoning perceptual reasoning', 'reasoning working memory', 'reasons disability shed', 'reasons example killed', 'reasons occupied russian', 'reasons sad make', 'reassuring talk weeks', 'reassuring way like', 'rebates discounts total', 'reboots doesnt happen', 'reborn awful force', 'reborn die lets', 'receive confirmatio email', 'receive pfizer booster', 'receive reddit notification', 'receive refund remain', 'receive upload unfortunately', 'received company contracted', 'received email current', 'received letters words', 'received wisdom regardless', 'recent addition prayer', 'recent grad working', 'recent months mental', 'recent period began', 'recent post sub', 'recently anxiety mixed', 'recently began taking', 'recently booked wedding', 'recently caught lie', 'recently christmas break', 'recently cleared frm', 'recently diagnosed adhd', 'recently diagnosed adult', 'recently diagnosed combinedtype', 'recently diagnosed inattentive', 'recently experiencing lot', 'recently feel like', 'recently feels like', 'recently friends feel', 'recently got lexapro', 'recently got really', 'recently gotten samsung', 'recently heart pounding', 'recently ht drugs', 'recently ive lot', 'recently ive started', 'recently joints completely', 'recently lost reverse', 'recently lost used', 'recently moved moved', 'recently noticed solid', 'recently opened friend', 'recently past couple', 'recently realized im', 'recently session dm', 'recently started electro', 'recently started new', 'recently started playing', 'recently started taking', 'recently started using', 'recently started working', 'recently think ties', 'recently used dr', 'receptacles cable tray', 'reckless drivers crash', 'recognition guess regional', 'recognition regional state', 'recognize game actual', 'recognize little things', 'recollection saying denied', 'recommend sources gain', 'recommendation large size', 'recommendations currently wewdigihdmi', 'recommendations greatly appreciated', 'recommendations hand experiences', 'recommendations regarding thank', 'recommended bottle wasnt', 'recommended linksys maxstream', 'recommended start therapy', 'recommended want make', 'record let play', 'recording cops passed', 'recounts practical things', 'recover lost day', 'recovery lives house', 'recovery rates corona', 'recovery super emotionally', 'recruiter got usual', 'recruiter worked company', 'recruiting company thought', 'recruiting company worked', 'recurring panics idk', 'red dead redemption', 'red eyes appear', 'red favorite color', 'red flag job', 'red help appreciated', 'red itch drink', 'red itchy spots', 'red laying pressing', 'red purple especially', 'red rash spreading', 'red spots corners', 'red spots eyes', 'red warm little', 'reddish spot tongue', 'reddit bit overwhelmed', 'reddit ive thought', 'reddit late learn', 'reddit notification email', 'reddit rinse repeat', 'reddit support know', 'reddit thread apologies', 'rediagnosed like im', 'redness lasts hours', 'redness skin gets', 'redorange differences ovarian', 'refer girl constantly', 'refer sleep nighttime', 'reference brown identical', 'references scripture memorizing', 'referral area going', 'referred november past', 'reflects lot light', 'reflex love talk', 'refrain engaging obsession', 'refresh coming wondering', 'refresh happens delaying', 'refresh skills practice', 'refreshed ready workload', 'refugees children entered', 'refund iption givrn', 'refund remain current', 'refund request requesting', 'refund told cancelling', 'refurbsused yes prioritize', 'refuse eat itll', 'refuse help anxiety', 'refuse honour words', 'refuse therapist said', 'refused drs surgery', 'refused help told', 'refused knew medication', 'refused listen abusive', 'refused pay insurance', 'refuses discuss asked', 'refuses pay extra', 'refuses talk says', 'refute thoughts know', 'regarding canaan cursed', 'regarding foreign exchange', 'regardless felt great', 'regardless intentions hitting', 'regardless traumatizing theyve', 'regassed assuming issue', 'region called grain', 'region purely abstract', 'region ukrainerussia war', 'regional ap scholar', 'regional math league', 'regional state national', 'register come home', 'regrets advice planning', 'regretting ive donesaid', 'regular perm place', 'regularly days week', 'regularly gets worse', 'regularly visiting constantly', 'regulate bpm possibly', 'regulate stable increasingly', 'rehearsal dinner fh', 'reinstalled game didnt', 'rejects advances leaves', 'relate authors write', 'relate overwhelmed classes', 'relate simply distracted', 'relate thing photo', 'related experience unfortunately', 'related feel like', 'related info went', 'related men lying', 'related years ive', 'relating think time', 'relation paused seconds', 'relationship actions say', 'relationship amazing woman', 'relationship collapses best', 'relationship day fact', 'relationship end want', 'relationship feels like', 'relationship felt like', 'relationship grew religious', 'relationship help challenges', 'relationship important questions', 'relationship know sure', 'relationship know wanting', 'relationship lost cause', 'relationship love fun', 'relationship maybe actually', 'relationship nt person', 'relationship past way', 'relationship right want', 'relationship said wants', 'relationship sexualemotional intimacy', 'relationship slept week', 'relationship stick doesnt', 'relationship things beginning', 'relationship told near', 'relationship took keys', 'relationship try work', 'relationship trying expressed', 'relationship united states', 'relationship way relating', 'relationships experience couple', 'relationships hate kneejerk', 'relationships look really', 'relationships mentioned stuff', 'relationships said yes', 'relationships year day', 'relax guy maybe', 'relax let andor', 'relaxed absolutely appetite', 'relaxed knows happy', 'relaxed pressured feelings', 'relay ill switch', 'relays morning mean', 'released hospital week', 'released point weak', 'reliable build quality', 'reliably soon going', 'religious dont struggle', 'religious know parents', 'religious ocds worst', 'remain anxious slip', 'remain awareness stop', 'remain current plan', 'remain friend benefits', 'remained visible doesnt', 'remarkably faster loading', 'remember autism spectrum', 'remember day mom', 'remember evening head', 'remember exactly said', 'remember feeling anxious', 'remember feeling like', 'remember going circus', 'remember later night', 'remember long time', 'remember minute got', 'remember nightmares specifically', 'remember remembered night', 'remember said told', 'remember solution nursing', 'remember started consider', 'remember struggling paying', 'remember talking therapist', 'remember thought born', 'remember watashi helpful', 'remember went living', 'remember years ago', 'remembered night saying', 'remembered way beginning', 'remembering details names', 'remembering right help', 'remembering said blablabla', 'remind seen acknowledged', 'remind self eternal', 'reminder fact bitch', 'reminds dont really', 'remote access security', 'remotely large nyc', 'remotely living home', 'rent free head', 'rent moved april', 'rent paying cable', 'reorder wondering people', 'rep said needed', 'repair know pain', 'repeat feel horrible', 'repeat steps starting', 'repeated cycle everyday', 'repeated exam yesterday', 'repeaters floors replace', 'repeatersrange extenders kind', 'repetitive needed really', 'repetitive stress injuries', 'replace bumper werent', 'replace router really', 'replaced dont think', 'replaced free amazon', 'replaced literally month', 'replaced new issues', 'replaced year old', 'replaying remember evening', 'reply compliments happy', 'reply friends monthsbut', 'reply great time', 'reply messages days', 'replying messages frequently', 'replying saying care', 'replying told earlier', 'report child abuse', 'report pictures imaging', 'report think bring', 'reporting months charge', 'represents trinity god', 'repulsive good person', 'request feel free', 'request requesting opting', 'request told cancel', 'requested therapy start', 'requesting cancellation help', 'requesting opting options', 'required extensive research', 'required technical knowledge', 'requirements good keyboard', 'resale wearable homeless', 'research adhd expressed', 'research ap lang', 'research couple months', 'research economic conditions', 'research possible thing', 'researched ocd realized', 'researches thanks lot', 'resell market nationally', 'reserve bank new', 'reserve risking paying', 'reserved slowly open', 'reset heart beat', 'residence university weekend', 'resin pour clear', 'resistant talking committing', 'resizable limiting dimensions', 'resolution fps game', 'resolving issue mom', 'resolving started going', 'resort replaced dont', 'resource came benefits', 'respect whatsoever disgusted', 'respective state im', 'respond example happened', 'responded miss youre', 'responding portable ones', 'response lying naked', 'response naked body', 'response says relax', 'responsive nzxt cam', 'rest body banging', 'rest day decided', 'rest day really', 'rest evening feeling', 'rest gets worse', 'rest life im', 'rest life ive', 'rest life want', 'rest little precious', 'rest make happy', 'rest night convulsing', 'rest night spoken', 'rest time office', 'rest took medicine', 'rest work day', 'rest world invasion', 'restart entire game', 'restart tv connected', 'restart various reasons', 'restarted critical level', 'restarted pcwindows sound', 'restaurant center jobs', 'restaurant quiet couple', 'restaurant today friend', 'resting heart rate', 'resting went finish', 'restless exhausted feeling', 'restlessness patience moving', 'restraining order love', 'restricting said violent', 'restrictions placed parents', 'restroom areas highway', 'restroom itll broken', 'restroom sit desk', 'rests artists place', 'result came im', 'result completely stopped', 'result dont really', 'result feel like', 'result using finasteride', 'resulted themdoctors conclusive', 'results colon showed', 'results life pretty', 'results said need', 'retail grabbed coffee', 'retail moment worked', 'retaining water help', 'retake lost best', 'retired current psychiatrist', 'retro consoles nes', 'retro systems walmart', 'return bed lifting', 'return piss people', 'reveal loud personality', 'reverse ailments stemming', 'reviews new medela', 'revisions changes leading', 'rewarded inefficiency makes', 'rewarded work instead', 'rexulti making hair', 'rf modulator like', 'rgb isnt working', 'rgb model rgb', 'rgb pairs ram', 'rhein feel like', 'rheumatologist positive ana', 'rhythm stormhill evergaol', 'rich person pretend', 'rich poor think', 'rid junk throwing', 'rid spaceset room', 'ridiculous maybe dont', 'right admittedly clean', 'right away wait', 'right called crap', 'right centre drive', 'right choose local', 'right dont know', 'right dont really', 'right dont think', 'right ear especially', 'right ear evenings', 'right ear weird', 'right fans case', 'right feel like', 'right feels like', 'right financiallythank genuinely', 'right finished im', 'right given think', 'right going bed', 'right going cope', 'right got gym', 'right gross unable', 'right human nature', 'right id probably', 'right im ashamed', 'right im sure', 'right im trying', 'right im waiting', 'right inside mouth', 'right issue recently', 'right kinda want', 'right like depressed', 'right like feel', 'right like feels', 'right lots life', 'right meeting told', 'right mental breakdown', 'right midcheek bigger', 'right middle right', 'right moment afraid', 'right ovary way', 'right place ask', 'right place post', 'right provide refund', 'right really appreciate', 'right related men', 'right room head', 'right standing freak', 'right talking secret', 'right think everybody', 'right time completely', 'right time diagnosis', 'right time wish', 'right wanting car', 'right went bed', 'right wish wanna', 'rightbest sub recently', 'rightclick select properties', 'rigid thinking ocd', 'rigor class rank', 'ring minute want', 'ring samaritans shes', 'rinse repeat feel', 'rip started meds', 'ripleys believe books', 'risk come companies', 'risk crashing economy', 'risk laptop actually', 'risking paying current', 'risks happening fixed', 'risks serotonin syndrome', 'risky friend finds', 'ritalin helps anxiety', 'ritalin know shortacting', 'rn cheapest breaking', 'rn im right', 'road day ive', 'road definitely think', 'road getting daily', 'road major problem', 'road picture attached', 'road walking wild', 'roadtripping bustrain ive', 'robotic tense really', 'rock ive struggling', 'rocky travis song', 'rodeo crazy collab', 'roi job opportunities', 'role days mentally', 'role thinking care', 'role years companies', 'rolling im worried', 'romanian glass master', 'romanias best known', 'romantic exclusive relationship', 'romantic relationships look', 'romantic way especially', 'romantic way worried', 'room code ign', 'room extremely soft', 'room head big', 'room isnt bright', 'room legitimate growth', 'room listened music', 'room listening music', 'room people stomach', 'room pulled kiss', 'room thats ive', 'room thing heard', 'room waiting hall', 'room wanted try', 'roommates called ambulance', 'roommates came check', 'roommates fine went', 'roommates half immediately', 'rooms house sons', 'rooted android device', 'roots breast nipple', 'rose tinted glasses', 'roth ira saving', 'roth ira start', 'rottweileryellow lab mix', 'round trip commute', 'rouse desire suggested', 'route countries cities', 'route heres line', 'route worth trying', 'router able use', 'router bought gigabit', 'router currently floor', 'router fios new', 'router really highpowered', 'router recommended linksys', 'router use quantum', 'routine good apps', 'routine im told', 'routines exercises mental', 'routines ive jokingly', 'routines need opinions', 'rtx ftw ultra', 'rtx msi mpg', 'rubbed face superstitious', 'rubbish worn clothes', 'rubs wrong way', 'rude angry evil', 'ruin chance eventually', 'ruin worried fact', 'ruining friendship tldr', 'rule look sent', 'rules military allowing', 'rules pcpartpicker price', 'ruleswwwredditcomrbuildapcwikirules yes intended', 'ruminate job try', 'ruminating event dated', 'ruminating exercise starts', 'rumination article describes', 'rumors refresh coming', 'run away woods', 'run bad boys', 'run cyberpunk old', 'run debris tire', 'run dont know', 'run errands need', 'run game tarkov', 'run games like', 'run risk laptop', 'run things try', 'running hours broken', 'running ideas issue', 'running really old', 'running thousand things', 'running version thank', 'runs private practice', 'runs really fast', 'rush guess doomer', 'rush hour traffic', 'rush powerful stop', 'rushes overall massive', 'russia gives reason', 'russian demogorgon little', 'russian forces ukraine', 'russian terminator knew', 'russians captured brenner', 'russians fat bald', 'russians killed spilled', 'russians knew portal', 'russians knew ud', 'russians start happened', 'russians underground lab', 'ryzen cpu mobo', 'ryzen gb gb', 'ryzen gb mhz', 'ryzen issue odd', 'ryzen pretty big', 'ryzen rtx ftw', 'ryzen stability issues', 'ryzen work light', 'sa sarili ko', 'sad depressed time', 'sad feel like', 'sad im angry', 'sad make tactical', 'sad recollection saying', 'sad said blablabla', 'sad situation right', 'sad sounding acoustic', 'sad told casual', 'sad told good', 'sad years ago', 'safe like matter', 'safe stomach ache', 'safely im older', 'safer option inviting', 'safety razor use', 'said act makes', 'said acted like', 'said agreed day', 'said agreed really', 'said awhile really', 'said bell ring', 'said blablabla replying', 'said blablabla said', 'said bloating body', 'said break law', 'said called liar', 'said cancellation request', 'said compressor didnt', 'said concentrate tasks', 'said concern normal', 'said cousin supposed', 'said didnt need', 'said didnt really', 'said doesnt matter', 'said dont know', 'said dont like', 'said dont practical', 'said effect strattera', 'said end elbowing', 'said felt like', 'said fine checked', 'said fine feel', 'said fine hookups', 'said fine im', 'said fine said', 'said free days', 'said fuck covid', 'said fun nice', 'said gad note', 'said going stop', 'said going told', 'said good hear', 'said goodbye watched', 'said happens asked', 'said histamine intolerance', 'said hoodie asking', 'said infps wary', 'said know silly', 'said later night', 'said lbs lost', 'said leaving drunk', 'said let happenshow', 'said let meet', 'said life looking', 'said like high', 'said liked offered', 'said long good', 'said looks like', 'said lost pound', 'said love deeply', 'said medications therapy', 'said mistakes like', 'said nearly know', 'said need report', 'said needed rf', 'said neuropsychological evaluation', 'said nice ass', 'said oh thanks', 'said okay fine', 'said opposite spot', 'said overthinking things', 'said party place', 'said pay try', 'said previous night', 'said proof worries', 'said rigid thinking', 'said rule look', 'said sad recollection', 'said serotonin syndrome', 'said shoildve relaxed', 'said sounded like', 'said stay like', 'said stay wants', 'said stop paying', 'said thank calling', 'said thing said', 'said things like', 'said think break', 'said thought left', 'said timid ears', 'said titer low', 'said um cousin', 'said violent cops', 'said want leave', 'said wanted make', 'said wants monogamy', 'said way looked', 'said wont medication', 'said yes open', 'said yes said', 'said yes told', 'said yes tried', 'said yes went', 'said youre favorite', 'saints row game', 'salad calorie bag', 'sales clean initiative', 'sales industry sell', 'sales job pay', 'sales leader hours', 'sales position coming', 'salivary gland dont', 'salons dont think', 'salty salad calorie', 'samaritans shes pushing', 'samsung monitor black', 'samsung series laptop', 'sanction money live', 'sand activated mixing', 'sand grass fun', 'sand pocket grass', 'sand thought came', 'sand wax glitter', 'sat ap tests', 'sat awe legitimately', 'sat conversations budget', 'sat didnt know', 'sat pc day', 'sat subjects wh', 'sat weird feels', 'satact section scores', 'satisfaction sex emotional', 'satisfying bad mood', 'satisfying hard sex', 'satisfying relationship know', 'save dying dreams', 'save life shits', 'save little money', 'save money want', 'save options actually', 'save world lot', 'saving money savings', 'saving relationship stick', 'savings account read', 'savings unsure handle', 'savvy didnt time', 'savvy idea asus', 'savvy questions need', 'saw girl tell', 'saw looking really', 'saw lot therapist', 'saw psychiatrist today', 'saw scientist pulled', 'saw telepathy biggest', 'saw video guy', 'saw welts looked', 'say actually dont', 'say bible says', 'say bird upset', 'say confusing remembered', 'say cool guy', 'say dont want', 'say feel like', 'say felt like', 'say friends says', 'say ill let', 'say im asking', 'say im better', 'say im people', 'say ive spoke', 'say leave job', 'say make things', 'say malicious way', 'say mind went', 'say month know', 'say nods starts', 'say nukes dropped', 'say offensive stupid', 'say period isnt', 'say post stunning', 'say pretty social', 'say pretty sure', 'say reborn awful', 'say right thing', 'say ruin worried', 'say say ive', 'say say like', 'say screw mg', 'say stuff like', 'say suicide botched', 'say thank advance', 'say things like', 'say things make', 'say think people', 'say think way', 'say treat like', 'say type delivery', 'say typical pale', 'say undiagnosed heart', 'say urgent care', 'say used love', 'say want feel', 'say want good', 'say wish die', 'say yes ill', 'saying care know', 'saying care saying', 'saying denied said', 'saying dont like', 'saying dont want', 'saying feels like', 'saying going sleep', 'saying homeless people', 'saying im sorry', 'saying like bring', 'saying lost lot', 'saying loves wants', 'saying okay pain', 'saying people arizona', 'saying recruiting company', 'saying say make', 'saying shit like', 'saying stuff like', 'saying sunday morning', 'saying telling want', 'saying things like', 'saying wear ex', 'saying weird ex', 'says blood flow', 'says calms brain', 'says depression anxiety', 'says drink water', 'says effects anxiety', 'says gets arguments', 'says gets easily', 'says good weird', 'says guess think', 'says im really', 'says kernel power', 'says loves love', 'says needs time', 'says relation paused', 'says relax let', 'says shower im', 'says stop seeing', 'says tell mom', 'says thats normal', 'says working properly', 'scale huge trigger', 'scamsrus scamsrus sent', 'scamsrus sent email', 'scare away overthinking', 'scare stop rush', 'scared dipped weird', 'scared doctor says', 'scared feel like', 'scared fired slow', 'scared gain weight', 'scared getting word', 'scared going come', 'scared heart issues', 'scared howll react', 'scared hurt lot', 'scared ill moment', 'scared im dying', 'scared im scared', 'scared intrusive thoughts', 'scared leave want', 'scared masking engrained', 'scared maybe adhd', 'scared need help', 'scared ruining friendship', 'scared starting concerta', 'scared talk higher', 'scared thoughts come', 'scared trapeze people', 'scares distinctly remember', 'scares honestly dont', 'scariest strangest thing', 'scaring kind came', 'scary dont know', 'scary things time', 'scary time experienced', 'scenario thinking symptoms', 'scenario unusual dynamic', 'scene likely long', 'scene likely way', 'scene school lots', 'schedule nice theyre', 'schizophrenia bpd huntingtons', 'schizophrenia told people', 'schizophrenia worried potential', 'schizotypal personality disorder', 'scholar honor international', 'school cognisant felt', 'school college didnt', 'school competitive feeder', 'school consoles im', 'school courses lax', 'school dont want', 'school experience teaching', 'school fed challenge', 'school forgot hard', 'school free time', 'school future gone', 'school given weeks', 'school graphic design', 'school helping new', 'school high school', 'school kids mentor', 'school lot dad', 'school lots clubs', 'school nights living', 'school nope demographics', 'school pain lower', 'school planning travel', 'school projects studying', 'school really point', 'school recognition guess', 'school scared thoughts', 'school solely refugees', 'school starts september', 'school supermarketetc didnt', 'school time years', 'school title influences', 'school work im', 'school work people', 'school work return', 'school work scared', 'schools boston northeast', 'schools led team', 'schools math team', 'scientist pulled actually', 'score eligible loans', 'score working memoryprocessing', 'scored verbal reasoning', 'scorer schools math', 'scores determine adhd', 'scores paranoid special', 'scores scored verbal', 'scores world history', 'scrap metal old', 'scrapes cuts clumsy', 'scratch assume dated', 'scratch hours work', 'scratch im years', 'scratch justified starting', 'scratches wickspackings wounds', 'scrawny shy kid', 'scream pillow im', 'scream sick crying', 'screaming banging head', 'screaming heels started', 'screen bios tried', 'screen goes black', 'screen resolution fps', 'screen size indifferent', 'screening tests online', 'screenshot old peacemaker', 'screenshots iimgurcomfyuquxhpng plays', 'screw mg tonight', 'screwed emotionally injured', 'scriabin born today', 'scriabin ive collected', 'scriabmas quotes scriabin', 'scripture interested anyways', 'scripture memorizing verses', 'scroll want read', 'scrolling instagram switching', 'sculptors ranking universe', 'sculptures honestly like', 'sd card slot', 'sd usbc hdmi', 'sdrmichaeljgreenbergcomarticles truth vast', 'seagate barracuda internal', 'seal lol away', 'seal sony tips', 'seal stiffness great', 'seal temporary snow', 'search craigslist trinitron', 'searching repeatersrange extenders', 'searching scare stop', 'searching trial week', 'season think time', 'season used left', 'second ago thought', 'second child months', 'second child weeks', 'second kid june', 'second looks like', 'secondary school experience', 'secondary school kids', 'seconds know say', 'seconds seriously dont', 'secret approaching telling', 'secret feel anxious', 'secret said love', 'secretary heard flat', 'secrets start experimenting', 'section thanks advance', 'secured partner longer', 'security cameras ive', 'sedatives bunch tests', 'seeing anxiety therapist', 'seeing like week', 'seeing romantic way', 'seeing scale huge', 'seeing whats available', 'seeing worried decide', 'seek therapist scared', 'seeking insights adhd', 'seeking private diagnosis', 'seeking relationships hate', 'seemingly mutual discussion', 'seemingly romantic exclusive', 'seen acknowledged understood', 'seen car guy', 'seen ent told', 'seen feel like', 'seen gets pretty', 'seen gi tested', 'seen higher milage', 'seen howto videos', 'seen im fretting', 'seen legend died', 'seen like know', 'seen longer blocked', 'seen lot people', 'seen nhs decision', 'seen people say', 'seen people saying', 'seen read relate', 'seen sick leave', 'seen signs bedbugs', 'seen various psychiatrists', 'seen years ago', 'seeping morning ive', 'seizures got worse', 'seizures ocd thoughts', 'select properties hit', 'selected international applicants', 'self conscious acne', 'self discovery self', 'self esteem depression', 'self esteem low', 'self esteemsounds like', 'self eternal mental', 'self harm everyday', 'self harm stimming', 'self harm tho', 'self harm time', 'self help realized', 'self studying micro', 'self things talk', 'selfconscious bodily response', 'selfdiagnose taken seriously', 'selfemployment looking thanks', 'selfesteem diagnosis explained', 'selfhatred discontinued affirmations', 'selfhatred lost weight', 'selfish know nt', 'selfishly motivated fucking', 'selfishness reason dont', 'selfreflection prior therapists', 'sell caved agreed', 'sell electrical equipment', 'sell end user', 'sell material given', 'sell sculptures honestly', 'sell stuff fb', 'selling sports cards', 'sells products afford', 'semester grad school', 'semester masters maintaining', 'semester ocd flared', 'semester school given', 'semimess build right', 'seminar extracurriculars brief', 'send card hope', 'send gifts daily', 'send mass email', 'send publisher card', 'senior high school', 'senior year high', 'sensation heart skipping', 'sensations feel like', 'sensations region purely', 'sense feel like', 'sense feels like', 'sense god need', 'sense hitboxes game', 'sense humor similar', 'sense humour tends', 'sense id consumed', 'sense im accepted', 'sense input knowledge', 'sense somedays talk', 'sense teachers complained', 'sensibility wasnt guilt', 'sensible buy old', 'sensitive feel like', 'sensitive stressed low', 'sensitivity light sound', 'sensory overload post', 'sensory thing think', 'sent away kind', 'sent drunk video', 'sent email week', 'sent home said', 'sent hospital hospital', 'sent isp customers', 'sent issues outside', 'sent text basically', 'sent text days', 'sent transvaginal ultrasound', 'sentence havent paid', 'september march schools', 'septum drawing skin', 'series laptop plan', 'series like ideal', 'seriously dont know', 'seriously feel like', 'seriously happens bc', 'seroquel lamictal lithium', 'serotonin syndrome rare', 'sertraline bad day', 'sertraline things changed', 'sertraline time doctor', 'sertraline went started', 'server loading assests', 'service despite requesting', 'service refresh skills', 'service times told', 'session dm cancelled', 'session feel like', 'session town absolutely', 'session wanted supposed', 'sessions currently eat', 'set linux instance', 'set roth ira', 'set theory like', 'set years ago', 'setting days ive', 'setting feels good', 'settings ambitious trying', 'settings dont know', 'settings fps want', 'settled men showed', 'severe allergic reaction', 'severe anxiety panic', 'severe appetite loss', 'severe bloating getting', 'severe combined type', 'severe depression caused', 'severe know stress', 'severe pre eclampsia', 'severe sudden intense', 'severity eat sour', 'severity frequency impact', 'sewing needles thread', 'sex drive came', 'sex emotional connect', 'sex got dressed', 'sex penetration hurt', 'sex really good', 'sex relationship slept', 'sex special knowing', 'sex time make', 'sex went sleep', 'sexual act moment', 'sexual assault rape', 'sexual attention beginning', 'sexual intimacy says', 'sexual led sexual', 'sexual response lying', 'sexual response naked', 'sexual stuff eventually', 'sexual stuff people', 'sexual wanting want', 'sexual zero sexual', 'sexualemotional intimacy beginning', 'sexually aroused natural', 'sexually emotional intimacy', 'sexy outfits masturbating', 'shady artist home', 'shake terrible feeling', 'shake things going', 'shake times ears', 'shakes figured adverse', 'shaking affects lower', 'shaking happening im', 'shaking saying things', 'shame andor things', 'shame dropped college', 'shameful body count', 'shameful like kind', 'shameful sobbing girl', 'share bunch symptoms', 'share edibles friend', 'share experiences partners', 'share love longer', 'share seen thanks', 'sharp exact knife', 'sharp stabbing heart', 'sharp tried sharp', 'shed hair lot', 'shed like course', 'shedding like dog', 'shedding loss symptoms', 'shedding pretty bad', 'sheep case mimics', 'sheep eating case', 'shell acquaintances know', 'shell say yes', 'shes different culture', 'shes feet acting', 'shes pushing guess', 'shes recommended start', 'shes right like', 'shes scared leave', 'shes started saying', 'shield fit int', 'shift bachelors degree', 'shift moment fine', 'shifter pedals clunking', 'shipped getting straight', 'shipping taxes rebates', 'shit anxious daily', 'shit everyday challenge', 'shit feel like', 'shit got email', 'shit happens movies', 'shit hit fan', 'shit like im', 'shit like know', 'shit like minute', 'shit piss im', 'shit pretty middle', 'shit respond example', 'shit says gets', 'shit sucks im', 'shit want spend', 'shits giggles wanna', 'shits practically rubbed', 'shitty lives help', 'shitty people wish', 'shock issues attended', 'shocks going body', 'shoes look worn', 'shoildve relaxed pressured', 'shook came told', 'shoot fuck chest', 'shooting times thought', 'shop accept useful', 'shop rags confirmed', 'shopping stores think', 'shopping trip low', 'short attention span', 'short backstory depressed', 'short long term', 'short nicu stay', 'short period time', 'short periods time', 'short started day', 'short term memory', 'short worst social', 'shortacting maybe feel', 'shortages like crop', 'shorter covid time', 'shorter lasting kid', 'shortest cycle days', 'shortest period bled', 'shortly said thank', 'shortness breath case', 'shortness breath sensitivity', 'shot lump right', 'shoulder gets worse', 'shoulders hat weapons', 'shouldnt playing max', 'shouldnt questions nowis', 'showed attention temporary', 'showed bit sad', 'showed elevated level', 'showed morning sleeping', 'shower heart rates', 'shower im like', 'shower tired stand', 'showers exercise journaling', 'showing gb control', 'showing hoodie packed', 'showing issues impacted', 'showing whats weird', 'shown happened soldiers', 'shown video linked', 'shows ram software', 'shows read colouring', 'shows start page', 'shrink learning curve', 'shut looked confused', 'shutdown thought motherboard', 'shutdown turn seconds', 'shuts come close', 'shuts completely breaks', 'shuts feeling deflated', 'shuts refuses talk', 'shy kid confident', 'shy overall warm', 'shy started like', 'si es que', 'sibbcovhvknhfsibbcovhvknhf heart rate', 'sibo epi met', 'sick afternoon today', 'sick crying making', 'sick days lately', 'sick dealing customers', 'sick feeling like', 'sick going pass', 'sick leave doctors', 'sick living way', 'sick sort way', 'sick stomach like', 'sick stomach want', 'sickening started job', 'sickness parents eczema', 'sidebar ruleswwwredditcomrbuildapcwikirules yes', 'sidelines half hour', 'sides play time', 'sides world eggs', 'signal wrong run', 'significant day day', 'signs bedbugs got', 'signs pain usually', 'silence gives consent', 'silence need maybe', 'silicone foam slight', 'silly im thinking', 'silver bay exact', 'silver pack wound', 'silver processor speed', 'simgurcomairlemcdsimgurcomairlemcd picture aio', 'similar actions told', 'similar assume bios', 'similar bonuses care', 'similar easier needs', 'similar happened suggested', 'similar idea dont', 'similar like chaotic', 'similar moved christmas', 'similar person works', 'similar situations thanks', 'similar threads answers', 'similar told women', 'simple appearing follicular', 'simple build guys', 'simple really struggle', 'simple things like', 'simply advice starting', 'simply distracted adhd', 'simply dont know', 'simply fail interview', 'simply given build', 'simply hdmi cord', 'simply talking figuring', 'simultaneously ive read', 'single date cursed', 'single day left', 'single meeting volunteered', 'single player content', 'single player game', 'single player games', 'single social media', 'sister got medical', 'sit chair entire', 'sit class embarrassing', 'sit couch eat', 'sit desk begin', 'sit dont anymore', 'sit idle comes', 'sit long hours', 'sit moment mixed', 'sit normal tongue', 'sit right called', 'sit room people', 'sit shit happens', 'sit things partner', 'sits stomach hours', 'sitting car anxious', 'sitting cooks eat', 'sitting desk miserable', 'sitting directly friend', 'sitting feel like', 'sitting foot ground', 'sitting hours day', 'sitting hours eating', 'sitting like thinking', 'sitting living room', 'sitting spot long', 'situation dont know', 'situation example dog', 'situation feel horrible', 'situation felt bit', 'situation happened week', 'situation right thing', 'situation thanks help', 'situations started spend', 'size displays cells', 'size flattened grape', 'size indifferent na', 'size okay silicone', 'size tips use', 'sizes tend fitment', 'skateboarded recently heart', 'skill trident mhz', 'skilled field paid', 'skills functional communication', 'skills help greatly', 'skills practice extensively', 'skills self management', 'skills social skills', 'skills wanna learn', 'skin felt like', 'skin felt numb', 'skin fingers thread', 'skin gets red', 'skin like happening', 'skin meant wear', 'skin pointy bit', 'skin random small', 'skin redness skin', 'skin think lmao', 'skin tho cat', 'skin turning abnormal', 'skin usually occur', 'skip days wfh', 'skip dont want', 'skip question farming', 'skipping beat sensation', 'skips beat randomly', 'slap headphones head', 'sleep aids im', 'sleep anxiety hyper', 'sleep apnea im', 'sleep apnea use', 'sleep day eat', 'sleep deprived obviously', 'sleep despite taking', 'sleep feel like', 'sleep hours accident', 'sleep hours day', 'sleep hours wake', 'sleep longer stretches', 'sleep nights tonight', 'sleep nighttime therapy', 'sleep people relationship', 'sleep really want', 'sleep relate insight', 'sleep scared ruining', 'sleep schedule fucked', 'sleep touch used', 'sleep vivid dreams', 'sleep want dont', 'sleep went phone', 'sleep woke morning', 'sleepiness barely noticeable', 'sleeping elementary middle', 'sleeping entire dream', 'sleeping hours night', 'sleeping like hours', 'sleeping meds stuff', 'sleeping night solid', 'sleeping thought maybe', 'slept like rock', 'slept respect whatsoever', 'slept week apart', 'slight increase focus', 'slight jogging panicking', 'slight preference foam', 'slightest heat fever', 'slightly concerned booting', 'slightly different sizes', 'slightly elevated heart', 'slightly faster movement', 'slightly known ones', 'slightly longer usual', 'slightly older demodog', 'slightly painful reddish', 'slightly raised turn', 'slightly red eyes', 'slightly shy overall', 'slip trying figure', 'slot dont want', 'slots dirty rgb', 'slow constant anxiety', 'slow decided pee', 'slow ended dropping', 'slow hard phases', 'slow heart palpitations', 'slow past days', 'slow processing speed', 'slow sticky beat', 'slow sure adhd', 'slow wifi speeds', 'slow youre like', 'slowly came reasonable', 'slowly convulsing strong', 'slowly creeping feels', 'slowly need form', 'slowly open reveal', 'slowly started coming', 'slowly ticking muscle', 'slowly turns anxious', 'slows idk anxiety', 'slows like slow', 'slug russian demogorgon', 'slug theres chance', 'slug went tadpole', 'small argument remember', 'small bump inside', 'small business owners', 'small businesses small', 'small cramp body', 'small cyst complex', 'small form factor', 'small group people', 'small im trying', 'small itchy spots', 'small said end', 'small things like', 'small things replying', 'smart tv wifi', 'smells like shit', 'smiled friends think', 'smoke pot daily', 'smoke weed anxiety', 'smoke weed today', 'smoked cig smoked', 'smoked life tuesday', 'smoked weed worried', 'smoker smoked life', 'smoking weed issue', 'smoking weed majority', 'smooth funny way', 'smth felt way', 'snap selfhatred lost', 'snapchat asked expected', 'snapchat horrible fallout', 'snapchat story posted', 'snapped ovary theres', 'sneaking end finding', 'sneezing runny nose', 'snes genesis gamecube', 'sniper rifle game', 'snow cloth wont', 'snow spray hobby', 'snow sprayed shoulders', 'snow use white', 'soap drug test', 'soap thc like', 'soap think soap', 'sobbing girl snapchat', 'sober gaslights lot', 'sober seven years', 'social anxiety finally', 'social anxiety im', 'social anxiety makes', 'social anxiety talk', 'social anxiety world', 'social better person', 'social general anxiety', 'social interactions know', 'social media dont', 'social media fact', 'social media help', 'social medical consequences', 'social person dont', 'social situations started', 'social support close', 'socialize college took', 'socialize communicate confidently', 'socializing talking people', 'socially amazing best', 'sociopath best friend', 'soemthing add list', 'soemthing usually end', 'soft panic attacks', 'software like cpuz', 'software need benefit', 'software stopped noticing', 'solar installation company', 'soldiers lost fight', 'solely campaign catch', 'solely refugees children', 'solid like hours', 'solid red rash', 'solid relationship help', 'solution im getting', 'solution nursing strike', 'solve job make', 'solve need actively', 'solve problem try', 'solve turning hour', 'solve world problems', 'solved everybody problem', 'solving baby month', 'somebodys home party', 'somedays talk morning', 'son ipad watching', 'song came heard', 'song fades japanese', 'song guitar think', 'song multiple times', 'song stuck head', 'song time favorite', 'songs stuck head', 'sons playroom hes', 'sony tips tend', 'soon afford career', 'soon going home', 'soon head hits', 'soon hit adulthood', 'soon hold job', 'soon hopefully sort', 'soon new ssd', 'soon thankfully tasks', 'sophomore year freshman', 'sore point really', 'sore throat gone', 'sore throat headache', 'sorry bad english', 'sorry dont know', 'sorry dont understand', 'sorry dumb question', 'sorry english bad', 'sorry extremely order', 'sorry huge rant', 'sorry im ranting', 'sorry isnt right', 'sorry little personal', 'sorry lmao know', 'sorry long lost', 'sorry long post', 'sorry make sense', 'sorry maybe paranoid', 'sorry post dumb', 'sorry rant im', 'sorry really long', 'sorry sound like', 'sorry sounds like', 'sorry spelling mistakes', 'sorry stupid question', 'sorry taking reply', 'sorry wrong place', 'sorry wrong subreddit', 'sort assumed stress', 'sort environment basically', 'sort feel like', 'sort friction shifter', 'sort hover going', 'sort job evaluated', 'sort length time', 'sort official diagnosis', 'sort panic attack', 'sort scared frustrated', 'sort stopped lay', 'sort therapy soon', 'sort way blood', 'sorts weird symptoms', 'soul lifted outside', 'sound blaster connect', 'sound click onei', 'sound drivers installed', 'sound like im', 'sound nada like', 'sound thats dont', 'sound works iimgurcomwycabkhpng', 'sound youtube test', 'sounded like guy', 'sounding acoustic song', 'sounds crazy want', 'sounds dumb car', 'sounds exactly like', 'sounds insane deleted', 'sounds like im', 'sounds like lot', 'sounds like stupid', 'sounds like theyre', 'sounds stupid sorry', 'sour candy gets', 'source sdrmichaeljgreenbergcomarticles truth', 'sources gain information', 'southampton glasgow strathclyde', 'soviets mind control', 'space hours later', 'spaces cell way', 'spaceset room code', 'spacizams worst theyve', 'spam escape grabs', 'span apps help', 'spatialperceptual reasoning abilities', 'speak adhd feels', 'speak coherently feel', 'speak friends try', 'speak garage according', 'speak long period', 'speak make difference', 'speak rest night', 'speak tuesday sent', 'speak usually wonder', 'speaker built simply', 'speaking listening turn', 'speaking presenting team', 'special class reason', 'special classes good', 'special know nice', 'special knowing really', 'special needs mean', 'special relationship feels', 'special status want', 'specific advice money', 'specific areas tools', 'specific parts consider', 'specific requirements good', 'specific strain batch', 'specifically thinking afraid', 'specifically told tell', 'specifically want play', 'specs cpu ram', 'specs ryzen gb', 'specs ryzen rtx', 'spectra elvie willow', 'spectrum feel like', 'spectrum know feel', 'spectrum result dont', 'spectrum severity frequency', 'spectrum voiced problem', 'speculation loved tlou', 'speculation writers composers', 'speed fix im', 'speed ghz connection', 'speed guy hit', 'speed huge gap', 'speed scores determine', 'speed thoughts today', 'speeds wifi constantly', 'spell grease turns', 'spend day similar', 'spend days leading', 'spend entire day', 'spend little time', 'spend lot time', 'spend lots time', 'spend money fh', 'spend rest evening', 'spend rest life', 'spend rest little', 'spend time checking', 'spend time family', 'spend time new', 'spend time toxic', 'spending combined finances', 'spending lot money', 'spending money nice', 'spending personal development', 'spending time family', 'spending time pc', 'spending went want', 'spent adult life', 'spent bullshitting pretending', 'spent day life', 'spent days day', 'spent half life', 'spent highway dangerous', 'spent hour hour', 'spent hours today', 'spent hours wish', 'spent hours working', 'spent lot time', 'spent minutes trying', 'spent months digging', 'spent weeks nicu', 'spent year unemployed', 'spent years room', 'spinal pain random', 'spinning fan hub', 'spinning fractal hub', 'spinning hell happened', 'spinning im sure', 'spiral arguments fairly', 'spiraling need talk', 'spiralisolate chest gets', 'spirits outside ask', 'splash screen comes', 'split days ago', 'spoke counselor requested', 'spoke doctor adhd', 'spoke doctor today', 'spoke highly reach', 'spoke phone helpful', 'spoke struggles relationship', 'spoken confused kept', 'spoken going dates', 'spoonfed build read', 'sports players team', 'spot im thinking', 'spot pain feel', 'spot register come', 'spot right financiallythank', 'spot thriving new', 'spot tongue pattern', 'spots blue redorange', 'spots corners eyes', 'spots eyes extreme', 'spots skin random', 'spots skin usually', 'spots slightly raised', 'spray bottles water', 'spray hobby lobby', 'sprayed shoulders hat', 'spread disease kinda', 'spreading bites arms', 'spreads wings left', 'spring wasnt morning', 'spurred anxiety apologize', 'spurred anxiety future', 'squishysemifirm moveable bit', 'ssd arrives today', 'ssd going actually', 'ssd im trying', 'ssd storage silver', 'ssd way laptop', 'ssri need advice', 'stab loved actual', 'stabbing heart freaked', 'stability issues downclocked', 'stability know anxiety', 'stable increasingly hesitant', 'stage baby waved', 'stage current city', 'stages wedding planning', 'staircases im sure', 'stairs completely exhausted', 'stairs dieting past', 'stalked ex able', 'stalked ex really', 'stalked ex twitter', 'stand bending downwards', 'stand like think', 'standing freak beating', 'standing long amounts', 'standing mind kinda', 'stands hears walk', 'star wars harry', 'start bare bones', 'start believing delusional', 'start change actually', 'start college going', 'start currently board', 'start dad gotten', 'start developing chillsshakes', 'start etfs pay', 'start experimenting post', 'start feel like', 'start feel normal', 'start feeling dizzy', 'start feeling like', 'start getting upset', 'start grade paranoid', 'start growing easy', 'start growing food', 'start happened june', 'start high finally', 'start hrt asap', 'start july august', 'start june panics', 'start losing weight', 'start making excuses', 'start max payne', 'start need list', 'start negatively effecting', 'start new school', 'start okay spot', 'start page ipgravxx', 'start page works', 'start painful hell', 'start paralyzing anxiety', 'start paying attention', 'start right away', 'start shaking affects', 'start sort therapy', 'start taking finasteride', 'start tasks bit', 'start therapy im', 'start things lists', 'start think breathe', 'start think maybe', 'start thinking breathing', 'start throwing depressed', 'start using money', 'start working time', 'start yeah im', 'start youtube channel', 'started addicted alcoholic', 'started adhd meds', 'started banging ground', 'started better diet', 'started bleeding today', 'started bleeding weeping', 'started circulation issues', 'started collapse extremely', 'started concern coworker', 'started consider depression', 'started crying saw', 'started day cycle', 'started days ago', 'started depressed think', 'started diarrhea occasionally', 'started driving started', 'started eating sex', 'started electro convulsive', 'started enjoying things', 'started fall apart', 'started feel bit', 'started feel emotion', 'started feel like', 'started feel really', 'started feeling bit', 'started feeling incredibly', 'started feeling like', 'started feeling sick', 'started food eating', 'started generic concerta', 'started getting heart', 'started getting sexual', 'started getting unlivable', 'started getting weird', 'started going gym', 'started going walks', 'started hanging friend', 'started happening week', 'started hit fan', 'started job months', 'started like decided', 'started looking applying', 'started make think', 'started medication week', 'started meds eat', 'started meds ground', 'started mo ago', 'started months ago', 'started new job', 'started notice stomach', 'started occur months', 'started past year', 'started period exactly', 'started period symptoms', 'started period yesterday', 'started playing like', 'started reading books', 'started reading learning', 'started reading spend', 'started really weird', 'started school time', 'started seeing therapist', 'started seeping morning', 'started sertraline things', 'started sertraline went', 'started shedding like', 'started showing hoodie', 'started spend lots', 'started spending time', 'started started taking', 'started supplementing formula', 'started taking antidepressants', 'started taking finasteride', 'started taking meds', 'started taking ritalin', 'started talking room', 'started talking took', 'started terrible stomach', 'started time friday', 'started today troubleshoot', 'started triggered wisdom', 'started trying analyze', 'started trying distract', 'started turning strangers', 'started vyvanse june', 'started vyvanse month', 'started vyvanse week', 'started weight loss', 'started working healthier', 'started working ive', 'started working legs', 'started working time', 'started year ago', 'started zoloft week', 'startedchanged doses meds', 'starting ball rolling', 'starting concerta antidepressants', 'starting create pains', 'starting fall asleep', 'starting feel bit', 'starting feel depressed', 'starting feel like', 'starting feels like', 'starting fights spurred', 'starting importexport business', 'starting loads tasks', 'starting meds normal', 'starting meds period', 'starting new job', 'starting occur corner', 'starting odin project', 'starting pack couple', 'starting piss people', 'starting run things', 'starting scratch assume', 'starting scratch im', 'starting scratch justified', 'starting second year', 'starting therapy weekly', 'starting think im', 'startpage gives index', 'starts feel better', 'starts following instructions', 'starts im sure', 'starts lying sneaking', 'starts old japanese', 'starts power button', 'starts seemingly mutual', 'starts started bleeding', 'starts talking practical', 'starts working say', 'starving hate fat', 'state feel hopeless', 'state im years', 'state master electrician', 'state morning deal', 'state national international', 'state outside sales', 'statement friend nurse', 'states economies countries', 'static damage mobo', 'static felt like', 'stating matter high', 'stating plan able', 'station chances wont', 'station listened rest', 'station youtube channel', 'statistic im stuck', 'stats gpa uww', 'status said cancellation', 'status want talk', 'stay afloat im', 'stay fast forward', 'stay happy leave', 'stay home kids', 'stay home mom', 'stay home motivation', 'stay ive looking', 'stay like minutes', 'stay night said', 'stay wants bit', 'stay work like', 'stayed checked wires', 'stayed hunched bathroom', 'stayed normal panic', 'staying home productive', 'staying ny moms', 'staying strong relationship', 'staying time time', 'stays weeks months', 'steadily losing weight', 'steering wheel sitting', 'stemming obesity issue', 'step father alcoholic', 'step mom dad', 'stepmom dad divorced', 'steroid antibiotics weeks', 'steroid cream extremely', 'steroid prednisone antibiotic', 'steroids drugs overworking', 'stick doesnt feel', 'stick ive instructions', 'stick youtube swwwyoutubecomwatchvjhmzxkkzi', 'sticks time leave', 'sticky beat like', 'sticky mobo attached', 'stiff place think', 'stiffness great makes', 'stigma associated asked', 'stigma schizophrenia told', 'stimming barely anxious', 'stimming hit thigh', 'stimming morning subconscious', 'stimulant anxiety issues', 'stimulant help regulate', 'stimulants feedback appreciated', 'stimulated ive changed', 'stimulating hard therapy', 'stimulation learning bodies', 'stomach ache rashes', 'stomach aches rashes', 'stomach aches wasbt', 'stomach acid gonna', 'stomach bug stomach', 'stomach feel super', 'stomach feels fulluncomfortable', 'stomach im scared', 'stomach issues mind', 'stomach issues really', 'stomach issues spent', 'stomach moving days', 'stomach pain stomach', 'stomach swells im', 'stomach want throw', 'stoned eyelids droopy', 'stool hard able', 'stool past year', 'stools hard time', 'stop crying like', 'stop crying mom', 'stop directing attention', 'stop dreams nightmares', 'stop fear father', 'stop feeling like', 'stop flowing area', 'stop forgot protective', 'stop getting anxiety', 'stop im tired', 'stop inert evolve', 'stop interested lost', 'stop ive literally', 'stop nightmare theory', 'stop paying attention', 'stop really fucking', 'stop ruminating emotions', 'stop ruminating event', 'stop ruminating exercise', 'stop ruminating ocd', 'stop rush guess', 'stop screaming dont', 'stop seeing worried', 'stop thinking event', 'stop thinking food', 'stop thinking situation', 'stop want know', 'stop wasting time', 'stop watching playing', 'stopped couple days', 'stopped going gym', 'stopped held talked', 'stopped initiating area', 'stopped lay floor', 'stopped looking clue', 'stopped month ago', 'stopped months coping', 'stopped nightmares vivid', 'stopped noticing fans', 'stopped paying attention', 'stopped playing games', 'stopped ports work', 'stopped taking disappeared', 'storage seagate barracuda', 'storage silver processor', 'store factory worker', 'store stuff like', 'store supplies living', 'store support department', 'store today came', 'stores think highs', 'stories fun times', 'stories literally prevent', 'stories people actually', 'stories people getting', 'stories reddit people', 'stormhill evergaol guy', 'story arguing alot', 'story posted kittens', 'story short im', 'story short worst', 'straight giving tired', 'straight head need', 'straight looked sounded', 'strain batch weed', 'strangely really intrusive', 'strangers animals fear', 'strangers know shell', 'strangers reddit support', 'strangest thing happened', 'street leaves dad', 'stress anxiety depression', 'stress bad health', 'stress child mom', 'stress dont feel', 'stress dress fairly', 'stress excessive work', 'stress feel im', 'stress getting fired', 'stress guess brain', 'stress id hangout', 'stress lack structure', 'stress pain need', 'stress piss left', 'stress stomach aches', 'stress test using', 'stress testing programnothing', 'stress way gym', 'stressed low energy', 'stressed noticed spring', 'stressful situation example', 'stressim years old', 'stretch projects make', 'strictly pop punk', 'strike confused takes', 'strike pro se', 'stringribbon gauze coat', 'strings graphical cells', 'stroke heart attack', 'strong academically prime', 'strong anymore slightly', 'strong electric shocks', 'strong evidence range', 'strong feel like', 'strong reflex love', 'strong relationship amazing', 'strong suction comparison', 'stronger finally voice', 'stronger mom hopefully', 'stronger stronger finally', 'structure theres pay', 'structured game recognize', 'struggle depression anxiety', 'struggle desperately want', 'struggle eye contact', 'struggle finish matter', 'struggle keeping god', 'struggle lot lot', 'struggle make friends', 'struggle mental health', 'struggle motivated task', 'struggle pain helpful', 'struggle restlessness patience', 'struggle think say', 'struggled anxiety feels', 'struggled child naughty', 'struggled hard school', 'struggled long remember', 'struggled make friends', 'struggled self image', 'struggled spend days', 'struggled thought online', 'struggles adhd severe', 'struggles fact diagnosed', 'struggles rarely helped', 'struggles relationship collapses', 'struggling anxiety depression', 'struggling counting albeit', 'struggling extremely bad', 'struggling figure want', 'struggling going gi', 'struggling grades remember', 'struggling lot concretely', 'struggling matter explain', 'struggling mental health', 'struggling past couple', 'struggling paying attention', 'struggling relate overwhelmed', 'struggling rhythm stormhill', 'struggling way saying', 'struggling work stress', 'stuck anxious minute', 'stuck bumpertobumper traffic', 'stuck endless loop', 'stuck head turn', 'stuck living potatoes', 'stuck lock freeze', 'stuck pit til', 'stuck toes electrical', 'stuck vicious cycle', 'student interaction big', 'student irony years', 'student loan debt', 'student movement ap', 'students left person', 'students level linkrecommend', 'students sophomore year', 'students teachers praise', 'studied christian university', 'studies know flexibility', 'studies personal experience', 'studies verify lined', 'study abroad program', 'study music business', 'study work issue', 'studying exam work', 'studying mental health', 'studying micro know', 'studying thoughts maybe', 'studying vocational art', 'stuff breaks anxiety', 'stuff dont want', 'stuff eventually sex', 'stuff fb marketplace', 'stuff feel like', 'stuff friend told', 'stuff gone idk', 'stuff head rarely', 'stuff hookups said', 'stuff house came', 'stuff like dont', 'stuff like hopefully', 'stuff like really', 'stuff like saying', 'stuff like want', 'stuff necessarily im', 'stuff organized social', 'stuff really like', 'stuff wrong oh', 'stuffing seal temporary', 'stumbled people talking', 'stunning example art', 'stupid curious neurodivergent', 'stupid expensive glue', 'stupid notice anxious', 'stupid question nervous', 'stupid sorry lmao', 'sturdy clothing hope', 'sturdy shoes look', 'stutter say type', 'sub decided xpost', 'sub didnt company', 'sub doesnt allow', 'sub im looking', 'sub recently moved', 'subconscious im consciously', 'subconscious self harm', 'subjective hard say', 'subjects wh likely', 'submit chem apib', 'subreddit ask question', 'subreddits follow help', 'subscription coding service', 'subscriptions things want', 'subside uses weed', 'subsided felt refreshed', 'substance abuse issues', 'substance abuse problems', 'subtle effects apart', 'successful time try', 'successfully deferred semester', 'suck math reading', 'sucks feel like', 'sucks tired complain', 'suction comparison wall', 'sudden bird example', 'sudden feeling world', 'sudden heard best', 'sudden intense pain', 'suddenly college im', 'suddenly fans theyre', 'suddenly felt like', 'suddenly heh heart', 'suddenly negative person', 'suddenly stop interested', 'suffer social anxiety', 'suffered highschool failed', 'suffered tremendously substance', 'suffering death human', 'suffering ineradicable life', 'suffering lack libido', 'suffering need help', 'suffering relationship day', 'suffering suffering ineradicable', 'suffering week thought', 'sugar packet trash', 'sugar started better', 'sugars candy high', 'suggest mustvisit places', 'suggested concept adhd', 'suggested getting korean', 'suggested numerous times', 'suggested physiologically assault', 'suggested try inside', 'suggested try new', 'suggestions comments pack', 'suggestions greatly appreciated', 'suggestions helpful share', 'suggestions id prefer', 'suggestions kill time', 'suggestions need asap', 'suggestions obvious missed', 'suggestions welcome career', 'suggests look sibo', 'suicidal thoughts like', 'suicide attempt released', 'suicide botched nosejob', 'suicide frequent easier', 'suicided days went', 'suiiiicedde thoughts feel', 'suitable gaming decent', 'suitable leave month', 'suitable resale wearable', 'suited plan cancel', 'summarize make long', 'summer work count', 'sunday id drinks', 'sunday morning called', 'sunday poop came', 'sunday week taking', 'sunshine garden center', 'super adhd share', 'super carefully brownies', 'super close acquaintances', 'super dangerous virus', 'super emotionally abusive', 'super excited given', 'super hard beating', 'super hours hours', 'super hungry past', 'super mario bros', 'super prestigious important', 'super sweaty slightest', 'super tactical team', 'super traumatic try', 'super uncomfortable sleep', 'super young id', 'superbiiz memory mushkin', 'supermarketetc didnt long', 'supernova plus platinum', 'superstitious feel like', 'supply antec green', 'supply chain issues', 'support close friends', 'support department say', 'support department want', 'support feel like', 'support hdr wewdigi', 'support instead passion', 'support know post', 'support meds refuse', 'support nice things', 'support people need', 'support recovery lives', 'supporters caused revisions', 'supporting offensive naked', 'supportive feel like', 'supportive happiness friends', 'supportive recovery super', 'suppose enjoy totally', 'suppose start week', 'suppose wind arguing', 'supposed couple hours', 'supposed drop ago', 'supposed feel exactly', 'supposed feel thanks', 'supposed leave country', 'supposed massive boss', 'supposed say mind', 'supposed sound like', 'supposed temporary halloween', 'sure adhd going', 'sure adhd sct', 'sure answer questions', 'sure approach boss', 'sure best place', 'sure christmas break', 'sure cope long', 'sure day make', 'sure drink water', 'sure exact rich', 'sure file idea', 'sure goes led', 'sure going tldr', 'sure healthy weight', 'sure heard feel', 'sure ill able', 'sure im asking', 'sure im going', 'sure im mentally', 'sure im right', 'sure im wrong', 'sure itch hives', 'sure ive seen', 'sure like adrenaline', 'sure looked sure', 'sure lot understand', 'sure makes sense', 'sure measured months', 'sure new design', 'sure normal arguments', 'sure played large', 'sure pump working', 'sure refuses discuss', 'sure remembering right', 'sure repeaters floors', 'sure right place', 'sure sad sounding', 'sure said said', 'sure thats correct', 'sure thats legal', 'sure theres credence', 'sure theyre actually', 'sure unweighted atm', 'sure works really', 'surface looks like', 'surface topics starts', 'surgery merging pointless', 'surgery weeks ago', 'surpasses feel powerless', 'surprise birthday party', 'surprise nurse originally', 'surprising random items', 'surrounded peers little', 'surrounded static felt', 'survived highschool got', 'suspect premenstrual dysphoric', 'suspected autism ive', 'svt panicking thinking', 'svt type thing', 'svt wearing heart', 'swallow food living', 'swallow usually subconscious', 'swallowing feel like', 'swallowing feeling like', 'swallowing hyper aware', 'swear ive seen', 'sweat dragged bathroom', 'sweat way used', 'sweating heart skipping', 'sweating moved time', 'sweating sweat way', 'sweats times face', 'sweaty slightest heat', 'sweaty time knew', 'swelled experienced symptoms', 'swells im uncomfortably', 'swine outbreak ebola', 'switch couple relays', 'switch handle hdr', 'switch hdmi ports', 'switch ill plunge', 'switch medication ritalin', 'switch mobo press', 'switch modes brain', 'switch ports need', 'switch relay ill', 'switch school lot', 'switch wants play', 'switching asked tonight', 'switching youtube reddit', 'swollen need testing', 'swwwyoutubecomwatchvjhmzxkkzi im unsure', 'sympathy dont honestly', 'symptom moving help', 'symptom started occur', 'symptom started past', 'symptoms abdominal pain', 'symptoms acid reflux', 'symptoms adhd realised', 'symptoms changes immediately', 'symptoms diarrhea daily', 'symptoms diarrhea occasional', 'symptoms excessive sweating', 'symptoms fear body', 'symptoms feel like', 'symptoms going nuts', 'symptoms infection dont', 'symptoms knowing likely', 'symptoms life approach', 'symptoms like glove', 'symptoms majority started', 'symptoms persistent constant', 'symptoms possibly result', 'symptoms sound like', 'symptoms started circulation', 'symptoms started mo', 'symptoms started period', 'symptoms started shedding', 'symptoms started started', 'symptoms think idk', 'symptoms time itched', 'symptoms time reorder', 'symptoms trouble swallowing', 'symptoms went away', 'sync sticky mobo', 'syndrome like medicine', 'syndrome mood disorder', 'syndrome rare patient', 'systems trying boot', 'systems walmart rep', 'så jag undrar', 'tacky options things', 'tactical gameplay demo', 'tactical team based', 'tadpole demodog idea', 'tadpole long takes', 'tails said previous', 'taken antihistamine doctor', 'taken away attention', 'taken awful makes', 'taken clonodine conjunction', 'taken lot sick', 'taken turns covering', 'taken various medications', 'takeout unhealthy hell', 'takes attention adhd', 'takes bus work', 'takes care friends', 'takes dog develop', 'takes long time', 'takes longer average', 'takes paci times', 'takes really long', 'takes safer option', 'takes turns whos', 'takes warm comfortable', 'takes week tadpole', 'taking accutane high', 'taking antidepressants life', 'taking better care', 'taking care dog', 'taking cold showers', 'taking conversations interrupting', 'taking detox vitamins', 'taking finasteride male', 'taking finasteride march', 'taking finasteride mens', 'taking finasteride photo', 'taking lexapro concerta', 'taking life feel', 'taking little bit', 'taking medication frustration', 'taking meds dont', 'taking meds experience', 'taking mental health', 'taking mg day', 'taking reply great', 'taking sleep aids', 'taking steroid antibiotics', 'taking test told', 'taking time read', 'taking toll mental', 'taking video diary', 'talk able share', 'talk adhd breaks', 'talk adhd explore', 'talk asked gor', 'talk barely roommates', 'talk dont want', 'talk eventually told', 'talk express smooth', 'talk feel like', 'talk friends said', 'talk future date', 'talk higher ups', 'talk idk sorry', 'talk large group', 'talk make joke', 'talk meetings im', 'talk mental health', 'talk morning shit', 'talk moved hawkins', 'talk old walked', 'talk ongoing police', 'talk opportunity talked', 'talk people online', 'talk people raised', 'talk people work', 'talk philosophy dont', 'talk says loves', 'talk secret said', 'talk surface topics', 'talk therapist like', 'talk think whats', 'talk wanted friends', 'talk wedding plans', 'talk weeks asked', 'talk whats going', 'talked bit car', 'talked daily mind', 'talked days ago', 'talked essay writing', 'talked feel like', 'talked hiring professional', 'talked know really', 'talked like hours', 'talked men said', 'talked nice friends', 'talked people said', 'talked secret approaching', 'talked told mean', 'talked upsetting paper', 'talked wanting picture', 'talking ask broken', 'talking asking night', 'talking brick wall', 'talking bricking systems', 'talking committing talk', 'talking convince buy', 'talking fear making', 'talking feel like', 'talking felt like', 'talking figuring things', 'talking husband kept', 'talking let know', 'talking people presentations', 'talking people speak', 'talking photographervideographer love', 'talking practical stuff', 'talking recruiter got', 'talking remembering said', 'talking room pulled', 'talking secret feel', 'talking starting pack', 'talking stigma associated', 'talking tell friends', 'talking therapist thought', 'talking took friend', 'talking topic foster', 'talking woes working', 'tall lbs used', 'tanked life completely', 'tarkov attempt connect', 'tarkov installed issue', 'tarkov ive played', 'task assigned school', 'task bar gone', 'task hour im', 'task making life', 'tasks bit easier', 'tasks distracted literally', 'tasks given far', 'tasks struggle finish', 'tattoo shady artist', 'tattoo truly feel', 'tattoo wait contact', 'tattoo wanted ages', 'tattoos ask gf', 'taught easily angry', 'taught young age', 'taxes rebates discounts', 'tbh feel like', 'tc today way', 'tdlr job ideas', 'teach people stop', 'teacher secondary school', 'teacher thought making', 'teachers complained quiet', 'teachers nationwide prevent', 'teachers praise test', 'teaching kids shitty', 'teaching secondary school', 'team based box', 'team colleagues team', 'team competed regional', 'team competes american', 'team consistent finishes', 'team create presentation', 'team dream navy', 'team experienced near', 'team factions hope', 'team feel like', 'team games long', 'team like school', 'team mutually satisfying', 'teams playing team', 'tear years ago', 'tears feel like', 'tease butt end', 'tech company dumping', 'tech company terrible', 'tech family got', 'tech savvy didnt', 'tech savvy idea', 'tech savvy questions', 'technical knowledge time', 'technical portion simply', 'technical problem usual', 'technically come like', 'technically deed mortgage', 'technically yall think', 'technique glass objects', 'teen younger threaded', 'teenager hated meds', 'teenager high school', 'teens lonely feel', 'teeth dont bother', 'telekinetic abilities like', 'telepathy biggest dreams', 'teleport reason prefer', 'teleporting people ud', 'tell boss finished', 'tell difference awareness', 'tell dont care', 'tell dont want', 'tell feel like', 'tell friends confronted', 'tell gets better', 'tell good things', 'tell help bit', 'tell highaf like', 'tell hurts lot', 'tell im gonna', 'tell im good', 'tell im sad', 'tell lying things', 'tell mom divorce', 'tell pros cons', 'tell really quiet', 'tell secrets start', 'tell stalked ex', 'tell staying time', 'tell stop wasting', 'tell want ask', 'tell worried explained', 'telling case content', 'telling forgetting soon', 'telling future dreams', 'telling got classes', 'telling im okay', 'telling instead takes', 'telling knew said', 'telling like flatmate', 'telling needs seek', 'telling time girl', 'telling want happy', 'tells brenner alive', 'tells tacky options', 'temp thermals idle', 'temperature way high', 'temporary dysphoria normal', 'temporary halloween costume', 'temporary satisfaction sex', 'temporary snow use', 'tend anxious alcohol', 'tend fitment issues', 'tend include lot', 'tend interrupt good', 'tend lot congestion', 'tend start bare', 'tend work example', 'tendency dream normally', 'tender outside inside', 'tender pain mess', 'tends aggravated hurt', 'tends come im', 'tends expensive quality', 'tense body panic', 'tense really doesnt', 'term memory really', 'terminator knew lab', 'terms impacts intimate', 'terrible experiences past', 'terrible feeling life', 'terrible stomach pain', 'terrible terrible things', 'terribly dont im', 'terrified bad health', 'territory major metro', 'tesla buying experience', 'tesseract bf atx', 'test apperantly low', 'test boot pc', 'test doctors agreed', 'test flagged liver', 'test gap scores', 'test gap spatialperceptual', 'test heard sound', 'test job friday', 'test make sure', 'test months ago', 'test pcp said', 'test said rigid', 'test scores paranoid', 'test sound works', 'test today really', 'test told adhd', 'test using cinabench', 'test using soap', 'tested celiacs chrohns', 'tested negative crohn', 'tested positive covid', 'testing programnothing happened', 'testing xanax helps', 'testosterone happy straight', 'tests came clear', 'tests come normal', 'tests online indicate', 'tests resulted themdoctors', 'tests selected international', 'tests tested negative', 'text app decided', 'text basically saying', 'text days let', 'text gone time', 'text readme file', 'text tomorrow board', 'texting clear happened', 'texting hours later', 'texting snapchat asked', 'texts caring father', 'texts supporting offensive', 'texts time leaving', 'texture fluffy stuffing', 'thank advance advice', 'thank advance help', 'thank advance wish', 'thank calling dumping', 'thank calling hung', 'thank calling isp', 'thank coming ted', 'thank guys im', 'thank help advance', 'thank read im', 'thank taking time', 'thankfully tasks given', 'thanks advance advice', 'thanks advance edit', 'thanks advance help', 'thanks advance reading', 'thanks attending ted', 'thanks edit ended', 'thanks help plan', 'thanks help stressed', 'thanks pmdd know', 'thanks really like', 'thanks stay safe', 'thanks taking time', 'thats brain works', 'thats correct way', 'thats dont hear', 'thats exactly happened', 'thats experience love', 'thats feel like', 'thats feel weird', 'thats fine guess', 'thats going happen', 'thats going symptoms', 'thats going week', 'thats good thing', 'thats head flamboyant', 'thats hour time', 'thats im feeling', 'thats immediately start', 'thats issue problems', 'thats ive repeated', 'thats ive struggled', 'thats legal possible', 'thats maybe confidence', 'thats maybe repetitive', 'thats normal push', 'thats pretty really', 'thats thing think', 'thats thing want', 'thats wheelhouse applied', 'thc cut months', 'thc like know', 'themdoctors conclusive biopsy', 'themdoctors conclusive currently', 'theoretically finished day', 'theories fact fearmongering', 'theories regarding canaan', 'theories strong evidence', 'theories theories strong', 'theories wonder wills', 'theory note id', 'theory post credit', 'therapeutic treatment dangerous', 'therapist ditched currently', 'therapist help work', 'therapist hs ended', 'therapist like advice', 'therapist looking possible', 'therapist really help', 'therapist recommended want', 'therapist said gad', 'therapist scared howll', 'therapist thought adhd', 'therapist tldr normal', 'therapists counselors ive', 'therapists counselors seen', 'therapists meditation taking', 'therapy barely talk', 'therapy different therapists', 'therapy dont think', 'therapy helped ect', 'therapy helped make', 'therapy im going', 'therapy lately feeling', 'therapy lost nearly', 'therapy meds nighttime', 'therapy needs mindfulness', 'therapy similar idea', 'therapy soon afford', 'therapy weekly appointments', 'therapy worked continued', 'theres added infidelity', 'theres apartments floor', 'theres barely color', 'theres chance brenner', 'theres concerning normal', 'theres credence especially', 'theres feels like', 'theres leak said', 'theres lot things', 'theres pay cap', 'theres room legitimate', 'theres slight increase', 'theres texts supporting', 'theres thing ive', 'theres unique animation', 'theres wrong im', 'thermals idle temperature', 'theyll make buy', 'theyre different games', 'theyre going say', 'theyre light spinning', 'theyre like really', 'theyre lit spinning', 'theyre ones reach', 'theyre reaching trying', 'theyre thing ive', 'theyre trying explore', 'theyre trying open', 'theyve claiming im', 'theyve mental health', 'theyve said concentrate', 'thicker discharge color', 'thicker symptoms started', 'thicker thinner idea', 'thigh break skin', 'thigh head whiney', 'thigh heard good', 'thighs going change', 'thing actually feel', 'thing believe experienced', 'thing came benign', 'thing capable wanting', 'thing cmses tried', 'thing curb years', 'thing different categories', 'thing dont like', 'thing dont want', 'thing eating tongue', 'thing eventually wander', 'thing examines sheep', 'thing feel like', 'thing handle certain', 'thing happened twice', 'thing heard knew', 'thing idk wanna', 'thing im getting', 'thing interests sit', 'thing ive flash', 'thing ive heard', 'thing ive noticed', 'thing ive tried', 'thing kinda concerns', 'thing makes happiest', 'thing margins usually', 'thing massive panic', 'thing mom pregnant', 'thing motivate actually', 'thing need new', 'thing noticed happened', 'thing photo wearing', 'thing read adhd', 'thing really know', 'thing roots breast', 'thing sat conversations', 'thing start page', 'thing thats going', 'thing thing work', 'thing things weve', 'thing think wake', 'thing think younger', 'thing time adhd', 'thing time time', 'thing trying pay', 'thing usually end', 'thing want talking', 'thing want want', 'thing wear somebodys', 'thing work maxing', 'thing world like', 'thing worried build', 'thing write id', 'things act like', 'things attention told', 'things bad contamination', 'things bad unable', 'things bathroom wished', 'things bedroom lingerie', 'things beginning lot', 'things better like', 'things bin wondered', 'things ccleaner installed', 'things changed felt', 'things cheaper feel', 'things concentration mean', 'things constantly filing', 'things course care', 'things daily journaling', 'things deeper level', 'things didnt complete', 'things didnt think', 'things different wish', 'things distracting symptom', 'things dont care', 'things dont like', 'things dont mind', 'things dont need', 'things dont want', 'things easily distract', 'things enjoy like', 'things extremely difficult', 'things feel good', 'things feel like', 'things felt think', 'things fh understand', 'things flaking isnt', 'things getting worse', 'things gives horrible', 'things goes things', 'things going like', 'things going mind', 'things going sunday', 'things got little', 'things happen dont', 'things happen feel', 'things happen life', 'things happen like', 'things happen period', 'things happening dont', 'things happening time', 'things id obviously', 'things im getting', 'things im struggling', 'things im trying', 'things important attention', 'things invoices come', 'things ive realized', 'things ive tried', 'things know good', 'things let engage', 'things like able', 'things like baskets', 'things like broken', 'things like dont', 'things like fucking', 'things like getting', 'things like kind', 'things like kissing', 'things like play', 'things liked actually', 'things likewise told', 'things lists growing', 'things long time', 'things make feel', 'things make happy', 'things missing probably', 'things months later', 'things need want', 'things partner family', 'things past years', 'things peaking right', 'things people piss', 'things people wont', 'things really bad', 'things really dont', 'things really fucking', 'things remember like', 'things replying messages', 'things right wish', 'things said good', 'things said hoodie', 'things say nods', 'things simultaneously ive', 'things skip question', 'things slowly need', 'things talk express', 'things tend include', 'things therapist looking', 'things time affects', 'things time complete', 'things try read', 'things used enjoy', 'things wanna experience', 'things wanna improve', 'things wanna start', 'things want track', 'things wanted watch', 'things way flat', 'things week like', 'things weve tried', 'things work talk', 'things work try', 'things worse legally', 'think absolutely worth', 'think accommodations request', 'think adhd fit', 'think argument undeserving', 'think asked sister', 'think autoimmune condition', 'think bad people', 'think bad things', 'think beat fasted', 'think bit weird', 'think born male', 'think boxes need', 'think break said', 'think breathe trying', 'think bring images', 'think cater new', 'think coming anytime', 'think dehydrated confused', 'think diet related', 'think disability accommodations', 'think dont know', 'think dont want', 'think dying makes', 'think emotionally handle', 'think everybody results', 'think experience young', 'think feel different', 'think feel good', 'think feel like', 'think feels like', 'think food allergy', 'think friend flatmate', 'think gonna leave', 'think good portion', 'think good store', 'think got stuck', 'think guy wont', 'think happening going', 'think heart attack', 'think help ive', 'think help self', 'think highs getting', 'think idk know', 'think im going', 'think im nonbinary', 'think im playing', 'think im pretty', 'think im repulsive', 'think im running', 'think im time', 'think im typically', 'think important note', 'think increasing dram', 'think interested honestly', 'think intrusive thoughts', 'think issue fight', 'think ive felt', 'think ive got', 'think ive met', 'think ive seen', 'think know adhd', 'think know answer', 'think know korean', 'think look little', 'think look nice', 'think lymphoma know', 'think makes sense', 'think need start', 'think need stop', 'think negatively effected', 'think nods dnd', 'think normal idk', 'think past dark', 'think people actually', 'think people faking', 'think plays station', 'think possible food', 'think properly thinking', 'think public transit', 'think reaction thing', 'think really helped', 'think really know', 'think really love', 'think right decision', 'think right room', 'think right wanted', 'think say im', 'think school title', 'think shes right', 'think soap thc', 'think sound like', 'think start tasks', 'think start think', 'think starts old', 'think thats changed', 'think thats issue', 'think theres slight', 'think theres way', 'think theres wrong', 'think things flaking', 'think thirties definitely', 'think ties youre', 'think time research', 'think try best', 'think undiagnosed heart', 'think used easily', 'think verbal reasoning', 'think wake feel', 'think want feel', 'think want life', 'think week going', 'think weird missing', 'think whats happening', 'think white collar', 'think word title', 'think worst calmed', 'think wouldnt homeless', 'think year old', 'think younger anxiety', 'thinking afraid ive', 'thinking anxiety causes', 'thinking asking right', 'thinking bad person', 'thinking breathing think', 'thinking cancer noticed', 'thinking care considering', 'thinking damn bad', 'thinking east facing', 'thinking event determine', 'thinking far understand', 'thinking feel like', 'thinking fucked horribly', 'thinking gets worse', 'thinking going school', 'thinking ideas make', 'thinking im gonna', 'thinking itll make', 'thinking like welp', 'thinking makes race', 'thinking maybe outer', 'thinking maybe shes', 'thinking moving nyc', 'thinking ocd behavior', 'thinking oh shit', 'thinking ovarian cancer', 'thinking ovulating based', 'thinking palps wont', 'thinking replying saying', 'thinking starving hate', 'thinking symptoms fear', 'thinking things let', 'thinking time tell', 'thinking totally ask', 'thinking unity ceremony', 'thinking worst case', 'thinking worst job', 'thinks happen price', 'thinks killed guy', 'thinks romantic way', 'thinks said okay', 'thinner idea explain', 'thirties definitely help', 'tho cat scratches', 'tho know im', 'tho losing weight', 'tho regardless felt', 'tho time stupid', 'tho wanted hugged', 'thought adhd doctor', 'thought adhd high', 'thought bearable told', 'thought bedbugs partner', 'thought body react', 'thought born male', 'thought building grow', 'thought calling opened', 'thought came head', 'thought coincidence work', 'thought concluding adhd', 'thought death heart', 'thought dont think', 'thought ended weighing', 'thought experienced knows', 'thought feel like', 'thought going die', 'thought going insane', 'thought going loved', 'thought gonna explode', 'thought good idea', 'thought head went', 'thought id ask', 'thought id make', 'thought id mention', 'thought id share', 'thought imagined purpose', 'thought issue evga', 'thought issue used', 'thought issue windows', 'thought itd nice', 'thought killed headshot', 'thought kinda represents', 'thought lied different', 'thought longest time', 'thought making lesson', 'thought maybe allergic', 'thought maybe guys', 'thought maybe open', 'thought medication need', 'thought mentally wrong', 'thought motherboard replaced', 'thought necessary anyways', 'thought obsession long', 'thought online classes', 'thought passes awareness', 'thought powersupply replaced', 'thought ram busted', 'thought refuses pay', 'thought ryzen stability', 'thought scaring kind', 'thought shoot fuck', 'thought shopping trip', 'thought solar installation', 'thought sounds stupid', 'thought suicided days', 'thought time kill', 'thought women life', 'thought wouldnt stop', 'thought years ago', 'thoughts actually thought', 'thoughts anymore faking', 'thoughts dont want', 'thoughts ending life', 'thoughts enjoy concentrate', 'thoughts feel like', 'thoughts feel necessary', 'thoughts feel worthless', 'thoughts feelings humans', 'thoughts forgot reply', 'thoughts gave lots', 'thoughts gradually got', 'thoughts hard believe', 'thoughts know logical', 'thoughts left open', 'thoughts like eat', 'thoughts like past', 'thoughts main symptoms', 'thoughts maybe bad', 'thoughts maybe switch', 'thoughts miraculously day', 'thoughts needy ish', 'thoughts scared intrusive', 'thoughts screwed emotionally', 'thoughts self harm', 'thoughts suicide frequent', 'thoughts taken away', 'thoughts tell mom', 'thoughts thinking like', 'thoughts today crisis', 'thoughts want know', 'thoughts winston seif', 'thousand things didnt', 'thousand things simultaneously', 'thousands commuters make', 'thread apologies wrong', 'thread exact laptop', 'thread layer skin', 'thread rip started', 'threaded sewing needles', 'threads answers fact', 'threw stayed hunched', 'thriving new leaf', 'throw crop ideas', 'throw shit time', 'throwing away appreciated', 'throwing depressed settled', 'throwing ears pinned', 'throwing things bin', 'throwing took er', 'thrown ed barb', 'thrown perfectly good', 'thrown ud demodogs', 'thrown ud got', 'thrusting time kept', 'thrusts realizing end', 'thumping sensation head', 'thyroid disease pcp', 'ticking muscle spacizams', 'tictactoes boards friends', 'tied communication point', 'ties feel disgusting', 'ties youre highly', 'tight budget rn', 'tight frequently things', 'tight working company', 'til dying day', 'time adhd people', 'time affects really', 'time ago party', 'time ago remember', 'time anways went', 'time arguments controlno', 'time asking share', 'time attempt joke', 'time best friend', 'time body literally', 'time bought subscription', 'time brenner tell', 'time care feel', 'time checking clock', 'time comes mind', 'time complete technical', 'time completely dropped', 'time connecting people', 'time current specs', 'time day went', 'time diagnosis understanding', 'time didnt case', 'time different people', 'time discussed lack', 'time distracted midst', 'time doctor mental', 'time doctor told', 'time doesnt putting', 'time dont know', 'time dont really', 'time dont think', 'time dont want', 'time drinking alcohol', 'time experienced taking', 'time fall asleep', 'time falling asleep', 'time family spend', 'time favorite artists', 'time feel guilty', 'time feel like', 'time feeling stomach', 'time feels like', 'time felt like', 'time fine like', 'time fine past', 'time friday left', 'time gave got', 'time girl wanted', 'time given nts', 'time giving baths', 'time going sex', 'time going slow', 'time guess good', 'time happened body', 'time happened couple', 'time happened like', 'time heart palpitations', 'time hs started', 'time hurt briefly', 'time im able', 'time im busy', 'time im going', 'time im gonna', 'time im hyper', 'time im making', 'time im scared', 'time im social', 'time im starting', 'time im sure', 'time im thinking', 'time im waiting', 'time im worried', 'time itched bites', 'time ive gotten', 'time ive installed', 'time ive seen', 'time ive thought', 'time kept asking', 'time keyboard plugged', 'time kill thought', 'time knew better', 'time know ahead', 'time know going', 'time know start', 'time knowledge went', 'time lately ive', 'time launch beat', 'time leave trip', 'time leaving vacation', 'time legs fucked', 'time lesson ended', 'time let guy', 'time life answered', 'time life started', 'time like minutes', 'time like week', 'time line tell', 'time listening recounts', 'time lol said', 'time long time', 'time look town', 'time looks faster', 'time make plan', 'time mental health', 'time money im', 'time new friends', 'time office spent', 'time overthinking want', 'time panic attack', 'time pay rent', 'time pc restarted', 'time pc started', 'time periods februarymarch', 'time play console', 'time posting sub', 'time present answer', 'time proper care', 'time properly life', 'time ready minutes', 'time really know', 'time really want', 'time recently lost', 'time reorder wondering', 'time research couple', 'time room thats', 'time sad said', 'time said oh', 'time say month', 'time scared trapeze', 'time schizophrenia worried', 'time sensation heart', 'time sleep vivid', 'time spending personal', 'time spent hours', 'time spent working', 'time spot register', 'time start using', 'time started notice', 'time stupid curious', 'time suggestions id', 'time sunday poop', 'time talk people', 'time task bar', 'time tell want', 'time think people', 'time think really', 'time think word', 'time thinking unity', 'time thought coincidence', 'time time know', 'time time say', 'time took lot', 'time took rest', 'time toxic friends', 'time transform transform', 'time tried barely', 'time tried issues', 'time try make', 'time try really', 'time trying discover', 'time trying figure', 'time unfortunately day', 'time want eventually', 'time want know', 'time want make', 'time want run', 'time want time', 'time wants play', 'time wasnt really', 'time watching netflix', 'time weak voice', 'time wedding planning', 'time week ago', 'time weeks ago', 'time weighed said', 'time weight waited', 'time woman caused', 'time wondering thoughts', 'time work great', 'time writings time', 'time years job', 'timeline help context', 'timeline startedchanged doses', 'times basically variety', 'times biggest worries', 'times blood stool', 'times came home', 'times conclude hour', 'times day making', 'times day seizures', 'times day today', 'times ears relaxed', 'times eat losing', 'times exposed tissue', 'times face neck', 'times feel like', 'times feels like', 'times hip hold', 'times kept checking', 'times life managed', 'times love experiences', 'times make sure', 'times middle school', 'times mind goes', 'times night friend', 'times past decade', 'times past months', 'times past week', 'times people say', 'times rejects advances', 'times satisfying hard', 'times say used', 'times thought kinda', 'times told assessments', 'times try undervolt', 'times way stop', 'times week day', 'times week gym', 'times week repeated', 'times week taking', 'times works feel', 'times worse feel', 'timid dog bring', 'timid ears pinned', 'timing bit tricky', 'timing coincidence bit', 'tinder said happens', 'tingly feeling holding', 'tingly feels like', 'tiny details organizing', 'tiny pain experiencing', 'tiny speaker built', 'tiny tiny pain', 'tip pen thigh', 'tips bullet journaling', 'tips cause really', 'tips comes right', 'tips good seal', 'tips greatly appreciated', 'tips make easier', 'tips tend work', 'tips use iems', 'tire blowout playing', 'tired complain bed', 'tired covid reason', 'tired fall asleep', 'tired feel like', 'tired feeling body', 'tired feeling like', 'tired leave house', 'tired stand bending', 'tired talking like', 'tiredness occasional red', 'tiredness sleep hours', 'tirelessly looking niche', 'tiring thought lazy', 'tissue lot scrapes', 'titer low gastroenterologist', 'tithes god mad', 'title influences stats', 'title says im', 'title says stopped', 'title self explanatory', 'title starts im', 'tldr breakup caused', 'tldr demogorgons rarely', 'tldr dx unmedicated', 'tldr finally got', 'tldr normal fights', 'tldr period vyvanse', 'tldr scroll want', 'tldr think friend', 'tldr thought adhd', 'tldr trying think', 'tldr want change', 'tlou adderall edit', 'tlou mp hope', 'tlour great imo', 'tmj predominately right', 'today ate corn', 'today came food', 'today crisis able', 'today day taking', 'today decided track', 'today dont feel', 'today experiencing rash', 'today feel despite', 'today feel like', 'today felt like', 'today friend decided', 'today gaslighting mistreatment', 'today got hit', 'today gym went', 'today heavy ive', 'today im burnt', 'today im listening', 'today im noticing', 'today isnt important', 'today issues making', 'today itching upper', 'today little bit', 'today lost job', 'today panic attack', 'today preparation stumbled', 'today received company', 'today says effects', 'today started seeping', 'today sure looked', 'today time weight', 'today troubleshoot laptop', 'today way work', 'today weighed today', 'today woke feeling', 'toes electrical outlet', 'togetherbuild consistent routine', 'toilet like hour', 'told adhd likely', 'told adhd started', 'told assessments year', 'told attractive tho', 'told bad person', 'told bit discomfort', 'told boyfriend girlfriend', 'told cancel right', 'told cancelling said', 'told care night', 'told casual things', 'told come asked', 'told didnt want', 'told doctor wrong', 'told dracaenas fine', 'told earlier drunk', 'told eye unless', 'told feel like', 'told friend maybe', 'told friend really', 'told friends feels', 'told gonna home', 'told good time', 'told horribly sad', 'told idc people', 'told interested dating', 'told later sorry', 'told later told', 'told liar thought', 'told looking trippy', 'told mean hurt', 'told medication refused', 'told mental health', 'told mom told', 'told multiple times', 'told near beginning', 'told needs new', 'told open using', 'told people years', 'told purchase new', 'told purposely tried', 'told research adhd', 'told said let', 'told spend time', 'told support recovery', 'told switch modes', 'told thats going', 'told took blood', 'told update crimson', 'told upper esophagus', 'told wanted leave', 'told wanted refused', 'told wear ex', 'told weeks ago', 'told women time', 'told work told', 'told youre close', 'toll going financial', 'toll mental health', 'tomorrow additionthis actually', 'tomorrow board know', 'ton help dont', 'ton various jobs', 'tongue helps chewing', 'tongue painful pattern', 'tongue pattern symptom', 'tongue pattern think', 'tonight im feeling', 'tonight prazosin stopped', 'tonight wanted suggested', 'took advice went', 'took beta blocker', 'took blood test', 'took break year', 'took cabergoline times', 'took concerta got', 'took couple dates', 'took covid test', 'took emergency vet', 'took finasteride months', 'took forever looking', 'took friend helped', 'took hospital gave', 'took hours ago', 'took house keys', 'took iq test', 'took keys took', 'took leaving relationship', 'took long break', 'took long time', 'took lot ibuprofen', 'took medicine mind', 'took months lose', 'took pill morning', 'took rest day', 'took space hours', 'took test doctors', 'took test said', 'took time read', 'took toll going', 'took tried frame', 'tools glass old', 'tools used selfreflection', 'tooth consultation job', 'tooth pressure sensitive', 'topic foster emotional', 'topic point things', 'topical ointment facial', 'topics politics economics', 'topics starts seemingly', 'torment silence gives', 'torrent rgb model', 'torture bring loving', 'toss ball mind', 'tossing basketball causing', 'total bicepsunderarms thought', 'total budget local', 'total floor parking', 'total grain traded', 'total lowest price', 'total march july', 'total recently started', 'totally ask accommodations', 'totally makes sense', 'totally nonsexual let', 'totally seal stiffness', 'touch like lump', 'touch plan use', 'touch used days', 'touching kissing ended', 'touchscreen fingerprint reader', 'touchscreen laptop windows', 'touchy held neck', 'tough dude fun', 'tough feel like', 'tough high achieving', 'touxhed stuff gone', 'tower casepcpartpickercompartdeepcoolcasetesseractbf newegg', 'town absolutely worth', 'town leave character', 'town live near', 'townsfolk spent hour', 'toxic friends week', 'toxins shakes figured', 'toxtricity cufant mareanie', 'toys kinks shuts', 'track listing work', 'track subscriptions things', 'track watch got', 'tracker goes period', 'trade job really', 'trade tru gift', 'traded planet absolutely', 'traffic im trying', 'traffic matter early', 'traffic pulled exchanged', 'traffic trying avoid', 'training legs muscular', 'training prescribing nurse', 'traits bad habits', 'trans feel like', 'trans man im', 'transferred circles problem', 'transferring distribution center', 'transform place instant', 'transform transform place', 'transit viable option', 'transition industry starting', 'transition safely im', 'transition selfemployment looking', 'transphobic family members', 'transvaginal ultrasound sent', 'trapeze people gonna', 'trapped dont know', 'trapped gotten bad', 'trapped inside stuck', 'trapped options resolving', 'trash noticed white', 'trauma childhood issues', 'trauma rest life', 'traumatic try explanations', 'traumatizing theyve claiming', 'travel europe month', 'traveling mind nowere', 'travelling ideally bit', 'travelother commitments feel', 'travis song time', 'tray wanted know', 'treasure acquire add', 'treat girls right', 'treat like im', 'treat like shit', 'treat patients like', 'treat people act', 'treat people terribly', 'treat seeing anxiety', 'treat thing handle', 'treated anxiety adhd', 'treated badly dont', 'treated like baby', 'treated like crap', 'treated like shit', 'treated like trash', 'treatment dangerous level', 'treatment tried school', 'trek morning city', 'tremendously substance abuse', 'tremors hand randomly', 'trial week job', 'triband idea bullshitting', 'trident mhz gb', 'tried avoid forgot', 'tried barely thrusts', 'tried best complete', 'tried best good', 'tried calling mind', 'tried fall asleep', 'tried fix things', 'tried force said', 'tried frame offer', 'tried going therapy', 'tried hang door', 'tried hold fast', 'tried hosting webpage', 'tried issues came', 'tried lots therapy', 'tried make better', 'tried making user', 'tried new products', 'tried nginx remarkably', 'tried overrideall creating', 'tried plugging mouse', 'tried pressure chest', 'tried reassuring talk', 'tried school work', 'tried sharp exact', 'tried sleeping meds', 'tried start max', 'tried stop fear', 'tried tv case', 'tried uni relationship', 'tried updating drivers', 'tried vomit didnt', 'tried weve changed', 'tries deconstruct feel', 'trigger panic attack', 'trigger warning cuz', 'triggered wisdom tooth', 'triggers comment vibe', 'trinitron tv ports', 'trinity god thinks', 'trip apples grocery', 'trip commute commute', 'trip know logistics', 'trip low dip', 'trip start july', 'tripped twice shes', 'tripping house living', 'trippy things bathroom', 'trouble falling asleep', 'troubles navigating life', 'troubleshoot laptop help', 'tru gift card', 'true compared types', 'true dancer think', 'true feel like', 'true ghost stories', 'true guys im', 'true personality maybe', 'true sleep nights', 'truly appreciate help', 'truly called goodamazing', 'truly feel like', 'truly feeling love', 'truly impossible focus', 'truly live lives', 'truly people im', 'truly think worst', 'trust doctor anymore', 'trust like feel', 'truth lie got', 'truth vast majority', 'try act like', 'try best make', 'try called mind', 'try carpentry apprenticeship', 'try distract thinking', 'try explain things', 'try explanations similar', 'try force leave', 'try foster intimate', 'try happened speak', 'try happy granted', 'try inside plenty', 'try insurance long', 'try keeps coming', 'try maintain friendships', 'try make advancement', 'try make life', 'try make short', 'try mind matter', 'try new novel', 'try new things', 'try push mind', 'try quell urge', 'try read bios', 'try really try', 'try remind self', 'try right choose', 'try save dying', 'try skills wanna', 'try solve job', 'try solve problem', 'try summarize make', 'try talk people', 'try undervolt cpu', 'try work team', 'trying able transition', 'trying analyze crisis', 'trying analyze refute', 'trying avoid statistic', 'trying boot usb', 'trying change diet', 'trying control breathing', 'trying control day', 'trying conversation going', 'trying decide gaming', 'trying decide route', 'trying discover adhd', 'trying distract wasnt', 'trying doctors appointment', 'trying eating think', 'trying explore tldr', 'trying expressed wishes', 'trying fall asleep', 'trying feel like', 'trying figure happening', 'trying figure life', 'trying figure reason', 'trying figure whats', 'trying figure wrong', 'trying fix issue', 'trying focus got', 'trying force awareness', 'trying force relationship', 'trying frequencies radio', 'trying hard failing', 'trying hard forcing', 'trying hard impress', 'trying hard lose', 'trying hardest listen', 'trying hardest lose', 'trying heal rape', 'trying hyperfocus understand', 'trying information company', 'trying kick guess', 'trying kiss despite', 'trying life years', 'trying lose weight', 'trying make feel', 'trying make sure', 'trying new job', 'trying open gates', 'trying pay attention', 'trying push anxiety', 'trying push gently', 'trying really hard', 'trying rid spaceset', 'trying run cyberpunk', 'trying run game', 'trying save world', 'trying search craigslist', 'trying sell stuff', 'trying shit piss', 'trying sleep night', 'trying solve need', 'trying solve problem', 'trying solve worst', 'trying start conversation', 'trying think disability', 'trying think help', 'trying understand brain', 'trying upgrade existing', 'trying work anxiety', 'trying work dont', 'trying work id', 'trying work things', 'tshirt print lost', 'tubi vadan international', 'tubi vadan tubi', 'tuck edges wound', 'tuesday decided going', 'tuesday recently used', 'tuesday sent text', 'tummy growling ate', 'tumors kind classed', 'turn ac caught', 'turn based games', 'turn extremely red', 'turn head sudden', 'turn missed obvious', 'turn red itch', 'turn seconds seriously', 'turn started turning', 'turned april shake', 'turned corners come', 'turned face husband', 'turned freshman year', 'turned lightly cuddled', 'turned masturbate comes', 'turned pram baby', 'turning abnormal colours', 'turning hour task', 'turning look stage', 'turning month really', 'turning rooms house', 'turning strangers reddit', 'turns anxious nightmare', 'turns blows warm', 'turns covering things', 'turns long periods', 'turns magical pocket', 'turns whos attached', 'tv case new', 'tv connected internet', 'tv drops usually', 'tv dvr ondemand', 'tv end im', 'tv movie short', 'tv need good', 'tv networking skills', 'tv phone verizon', 'tv ports imgurcomipfvjxd', 'tv shows movies', 'tv switch wants', 'tv went bed', 'tv wifi tv', 'tweets liked day', 'tweets liked relate', 'tweezers kinda feels', 'twice clothes left', 'twice day days', 'twice day eating', 'twice dont know', 'twice shes feet', 'twice today gym', 'twice year ago', 'twist weird way', 'twitter paranoia abusive', 'type delivery robotic', 'type favorite candy', 'type fucking completely', 'type help ive', 'type lift hands', 'type mode obvious', 'type ptsd generalized', 'type thing thing', 'typeitemprice cpu intel', 'types addadhd posts', 'types didnt check', 'types pain really', 'types said infps', 'types sound drivers', 'types usb sd', 'typical honeymoon know', 'typical pale redness', 'typically heavy bleeding', 'typing im sorry', 'typing things tend', 'uber home messaged', 'ubuntu soon new', 'ud demodogs kill', 'ud got killed', 'ud maybe hopes', 'ud means brenner', 'ud months months', 'uefi bug messes', 'uf really east', 'uk dont experience', 'uk importantly hows', 'uk like months', 'uk makes difference', 'uk mini heat', 'ukrainerussia war bread', 'ultra msi mpg', 'ultrabook build quality', 'ultrasound got report', 'ultrasound sent hospital', 'um cousin went', 'unable catch letting', 'unable complete technical', 'unable control beats', 'unable eat concentrate', 'uncomfortable attracted true', 'uncomfortable distressing thoughts', 'uncomfortable er doc', 'uncomfortable feel like', 'uncomfortable lucidawake point', 'uncomfortable sleep despite', 'uncomfortable ways vomiting', 'uncomfortably ive seen', 'uncomfortably severe sudden', 'uncommon effectanyone experience', 'unconscious answers deep', 'und ich habe', 'underestimating day ideas', 'underground lab general', 'underlings like yeah', 'underneath bags eyes', 'underneath skin felt', 'understand brain works', 'understand dont think', 'understand far aware', 'understand feel like', 'understand happening painful', 'understand hyperfocus beginning', 'understand im hoping', 'understand im trying', 'understand individuals particularly', 'understand job shit', 'understand like good', 'understand maybe im', 'understand people use', 'understand scenario unusual', 'understand tends expensive', 'understand things happening', 'understand tldr dx', 'understand whats going', 'understanding actually know', 'understanding anxious depressed', 'understanding personal level', 'understood powerful influence', 'undervolt cpu fixes', 'underweight scared doctor', 'underwent physicalsexual assault', 'undeserving patient problems', 'undiagnosed heart condition', 'uneasy feel like', 'uneasy feeling like', 'unemployed living parents', 'unfortunate periods feel', 'unfortunately colchicine nsaid', 'unfortunately day got', 'unfortunately exceed gave', 'unfortunately mother telling', 'unfounded refund told', 'unhealthy hell drain', 'unhelpful downright iatrogenic', 'uni art degree', 'uni months look', 'uni relationship end', 'uni struggled spend', 'unique animation ones', 'united nations anymore', 'united states economies', 'unity ceremony feel', 'unity ceremony finding', 'universal bliss burn', 'universal credit sanction', 'universe expound principles', 'university leeds southampton', 'university professor discussing', 'university religious dont', 'university weekend talking', 'unless crazy rich', 'unless im stressed', 'unless issue doesnt', 'unless shortness breath', 'unlivable years mom', 'unlocked im loving', 'unlocked parking lot', 'unlocking mind body', 'unmedicated boyfriend months', 'unmedicated mate months', 'unmentioned time writings', 'unnecessarily apologized scare', 'unnecessarily heat sync', 'unofficially diagnosed took', 'unplug console time', 'unreasonable spiral arguments', 'unresponsive ambulance called', 'unspecified bipolar disorder', 'unstimulating workday make', 'unsure exact laptop', 'unsure handle income', 'unusual dynamic adhd', 'unusual genderfluid feeling', 'unwanted instrusive thoughts', 'unweighted atm ranking', 'unwell sleeping entire', 'unzipping numberous files', 'update crimson edition', 'update google avoid', 'updated reason types', 'updates critical ones', 'upgrade existing pc', 'upgrades time current', 'upgrading cheap like', 'upholding times week', 'upload unfortunately exceed', 'upper arms alarming', 'upper arms checked', 'upper esophagus looks', 'upper limit took', 'ups kind want', 'upset explained thats', 'upset felt like', 'upset honestly im', 'upset lied stalked', 'upset thing want', 'upsetting paper sense', 'upsold alive buy', 'upstairs bathroom thought', 'upstairs lie bed', 'uptake workout sessions', 'upwards discuss debate', 'urge ahead time', 'urgent care feeling', 'urgent care listened', 'urgent care visit', 'urgent times basically', 'urm yn income', 'usage nasal passages', 'usb device linux', 'usb going inevitablecompletely', 'usb ports mobo', 'usb sd usbc', 'usb stick ive', 'usb stick youtube', 'usbc hdmi im', 'usd unless purchasing', 'use answers spirits', 'use bathroom didnt', 'use build details', 'use company car', 'use conditioner everyday', 'use cpap machine', 'use dont feel', 'use electroform technique', 'use excuse started', 'use horizontal jlist', 'use iems companies', 'use lucid dreaming', 'use moms new', 'use money max', 'use money wisely', 'use nicotine benzodiazepines', 'use public restroom', 'use quantum router', 'use restroom areas', 'use safety razor', 'use search filetype', 'use social media', 'use stress relief', 'use teach people', 'use thanks advance', 'use tv dvr', 'use usd unless', 'use wellbeing question', 'use white spray', 'used absolutely terrible', 'used college bust', 'used days disgusted', 'used dr bronners', 'used easily compare', 'used enjoy like', 'used experience similar', 'used google vocabulary', 'used high doctors', 'used hobbies watching', 'used isnt stimulated', 'used killing bios', 'used left make', 'used like years', 'used love food', 'used night sweats', 'used realize wrong', 'used selfreflection prior', 'used shed hair', 'used skin turning', 'used smoke weed', 'used spell grease', 'used talk able', 'used things skip', 'used think id', 'used tictactoes boards', 'used work small', 'used years old', 'usedwore giving away', 'useful need scrap', 'useful practical items', 'useful surprising random', 'useless busy college', 'user log didnt', 'user make possible', 'user thinking ideas', 'uses weed medicine', 'using cinabench gpu', 'using dentist month', 'using dreams influence', 'using drumming dont', 'using finasteride finasteride', 'using mobo hdmi', 'using money aggressively', 'using navigate new', 'using restroom sit', 'using sell sculptures', 'using service despite', 'using sharp tried', 'using soap think', 'using stridex pads', 'using weed years', 'usual driveway busy', 'usual email asking', 'usual ending period', 'usual feeling heavy', 'usual signs pain', 'usual symptoms diarrhea', 'usual think im', 'usual time given', 'usually arguments bad', 'usually brings plant', 'usually close apps', 'usually covers dates', 'usually end drinking', 'usually end going', 'usually end sitting', 'usually flushing ears', 'usually late evening', 'usually limps actually', 'usually mornings tiredness', 'usually occur abdomen', 'usually right ear', 'usually ruminate job', 'usually small im', 'usually standing long', 'usually subconscious im', 'usually used smoke', 'usually wait minutes', 'usually wonder friends', 'uterine fibroids mgm', 'uww weighted sure', 'vacation abroad eating', 'vacation hangout rhein', 'vaccine opinions doesnt', 'vacuum crumble supposed', 'vadan born blowers', 'vadan international known', 'vadan tubi vadan', 'vague idea forcing', 'vaguely aware im', 'vaguely feel small', 'variety diarrhea possible', 'various breedject pokémon', 'various medications antidepressants', 'various psychiatrists taken', 'various reasons example', 'various topics politics', 'varwwwhtmlgrav ipgrav works', 'vases online etsy', 'vasile tubi vadan', 'vast majority going', 'vast majority people', 'vegetables little meat', 'vendetta know dont', 'vent day today', 'vent little bit', 'vent use encouragement', 'ventilator day started', 'venting half asking', 'ventricle hypotrophy said', 'venue paid deposit', 'verbal reasoning actually', 'verbal reasoning perceptual', 'verge panic attack', 'verify lined experience', 'verizon fios internet', 'verizon gave fios', 'versa hearing stories', 'verses pray excellent', 'version compatible processor', 'version dont know', 'version family close', 'version final form', 'version plan didnt', 'version thank advance', 'viable option thousands', 'vibe associate adtr', 'vibe comment btw', 'vice versa hearing', 'victims pretend pain', 'video amazon case', 'video asking friends', 'video card zotac', 'video diary ect', 'video editing hobby', 'video game religious', 'video games credit', 'video games people', 'video gigabyte website', 'video linked know', 'video time spent', 'videos games group', 'videos im watching', 'videos ive seen', 'videos rest took', 'videos sort length', 'videos youtube zyzz', 'viewer gave kernal', 'viewer time pc', 'views isnt board', 'vinci mini maker', 'violence took toll', 'violent cops person', 'virgin ashamed idk', 'virus monitoring fully', 'virus panic family', 'visible doesnt matter', 'vision severe bloating', 'visit felt great', 'visit going new', 'visit great advice', 'visit include italy', 'visit london meet', 'visiting constantly walking', 'visits like lower', 'visual black white', 'vitamins make diarrhea', 'vivid dreams low', 'vivid dreams nightmares', 'vividly slowly turns', 'vocabulary words know', 'vocational art course', 'voice cracks make', 'voice getting lower', 'voice got stronger', 'voice head time', 'voice naturally lower', 'voice yelling trying', 'voiced problem related', 'void today im', 'voltage help dont', 'voluntarily universal credit', 'volunteer hours hospital', 'volunteered ot late', 'vomit brownie threw', 'vomit didnt work', 'vomiting need work', 'vomiting panic gotten', 'vram used killing', 'vs store support', 'vulgar obnoxious closest', 'vulnerabilities feel loop', 'vulnerable lonely want', 'vyvanse half months', 'vyvanse june period', 'vyvanse month half', 'vyvanse sertraline bad', 'vyvanse week today', 'vyvanserelated know hives', 'wagon day picked', 'wait basically said', 'wait contact want', 'wait finishing task', 'wait long possible', 'wait minutes restart', 'wait times biggest', 'wait weeks months', 'waited morning peed', 'waiting basically fucking', 'waiting components shipped', 'waiting converter aorus', 'waiting doc appointment', 'waiting hall started', 'waiting list years', 'wake day cringing', 'wake early jobs', 'wake early need', 'wake early tomorrow', 'wake extremely late', 'wake feel like', 'wake feeling rest', 'wake like dizzytiredness', 'wake like hour', 'wake middle night', 'wake morning feel', 'wake morning regretting', 'wake morning scream', 'wake noon lay', 'wake super hungry', 'wake times night', 'waking gasping air', 'walk got home', 'walk overwhelming stay', 'walk road picture', 'walked away felt', 'walked away lipstick', 'walked sidelines half', 'walking feel like', 'walking mess health', 'walking wild commute', 'walks door looks', 'walks flat tell', 'walks outside started', 'wall ones worry', 'wall strong suction', 'wallet know moneys', 'walmart needed lightweight', 'walmart rep said', 'wander awareness come', 'wander passive process', 'wanna experience places', 'wanna fake thinking', 'wanna feel like', 'wanna improve projects', 'wanna jobs careers', 'wanna know im', 'wanna learn movies', 'wanna make sure', 'wanna mg scared', 'wanna pay game', 'wanna punching bag', 'wanna start change', 'wanna start need', 'wanna try skills', 'wanna vent day', 'wanna waste time', 'want able feel', 'want able help', 'want able progress', 'want anymore want', 'want ask help', 'want ask tell', 'want ask thinks', 'want avoid throwing', 'want bad people', 'want badly want', 'want break free', 'want break start', 'want career im', 'want chance mean', 'want change department', 'want classes really', 'want commented snapchat', 'want dad dad', 'want date know', 'want deal men', 'want die feel', 'want die life', 'want die point', 'want dont know', 'want dulcolax stimulant', 'want end feel', 'want end successful', 'want enjoy life', 'want eventually apartment', 'want exist want', 'want fall constantly', 'want family safe', 'want feel bad', 'want feel guilty', 'want feel happy', 'want feel im', 'want feel inhibition', 'want feel like', 'want feel normal', 'want feels like', 'want flexible true', 'want fucking die', 'want fun love', 'want good night', 'want happy enjoying', 'want happy sent', 'want hassle getting', 'want hear experiences', 'want help guess', 'want help want', 'want high school', 'want hopes high', 'want im ok', 'want im scared', 'want improve internet', 'want interfere meds', 'want job anxiety', 'want kill suggestions', 'want kind showed', 'want know better', 'want know common', 'want know deal', 'want know going', 'want know good', 'want know make', 'want know want', 'want lately cuddling', 'want leave agreed', 'want leave awareness', 'want leave house', 'want leave kind', 'want leave leave', 'want leave life', 'want leave point', 'want leave took', 'want leave want', 'want let ground', 'want life daily', 'want life end', 'want life im', 'want life ive', 'want life know', 'want little guy', 'want live anymore', 'want live life', 'want live like', 'want lose lbs', 'want lose weight', 'want lot naked', 'want make change', 'want make feel', 'want make friends', 'want make good', 'want make hallucinate', 'want make money', 'want make progress', 'want make sure', 'want make tshirt', 'want make worse', 'want na specific', 'want need aap', 'want normal love', 'want open hatch', 'want overstep boundaries', 'want particle come', 'want paying attention', 'want pc route', 'want peace life', 'want people feel', 'want people treated', 'want play game', 'want play games', 'want play settings', 'want quit job', 'want quit school', 'want razor shave', 'want read started', 'want relationship work', 'want relax guy', 'want relaxed absolutely', 'want resort replaced', 'want right mental', 'want run away', 'want save money', 'want selfdiagnose taken', 'want sell caved', 'want sleep relate', 'want sleep wake', 'want sound like', 'want spend time', 'want start growing', 'want start hrt', 'want stop directing', 'want stop feeling', 'want stop playing', 'want stop thinking', 'want studies know', 'want supportive recovery', 'want talk friends', 'want talk surface', 'want talking fear', 'want tattoo wanted', 'want tell people', 'want texture fluffy', 'want thank help', 'want thinking starving', 'want throw away', 'want time think', 'want told boyfriend', 'want touch plan', 'want track listing', 'want treat thing', 'want try carpentry', 'want video editing', 'want wait longer', 'want want feel', 'want want im', 'want want know', 'want want right', 'want want want', 'want waste money', 'want waste time', 'want watch tv', 'want watch videos', 'want work like', 'want work office', 'want work think', 'wanted ages abusive', 'wanted art teacher', 'wanted ask money', 'wanted badly looked', 'wanted badly wanted', 'wanted ballet dancer', 'wanted build pc', 'wanted create new', 'wanted didnt compliment', 'wanted die tried', 'wanted facing void', 'wanted feedback reddit', 'wanted fight told', 'wanted fine going', 'wanted friends effort', 'wanted hear opinions', 'wanted hear thoughts', 'wanted hugged left', 'wanted know ballet', 'wanted know experience', 'wanted know guys', 'wanted know resell', 'wanted let know', 'wanted little specific', 'wanted make sure', 'wanted make things', 'wanted refused listen', 'wanted replace bumper', 'wanted say really', 'wanted sex time', 'wanted share excitement', 'wanted speak garage', 'wanted spend time', 'wanted suggested try', 'wanted supposed massive', 'wanted tell look', 'wanted therapeutic treatment', 'wanted try called', 'wanted vent little', 'wanted wanted know', 'wanted watch sat', 'wanted wingman bit', 'wanted work support', 'wanted young friends', 'wanting bad people', 'wanting buy new', 'wanting car fixed', 'wanting make sure', 'wanting picture ass', 'wanting relationship maybe', 'wanting sexual wanting', 'wanting want lately', 'wanting working resistant', 'wants bit accidentally', 'wants come like', 'wants hear like', 'wants intimate presumably', 'wants monogamy connecting', 'wants play different', 'wants play instead', 'wants seemingly romantic', 'wants slow constant', 'wants work anymore', 'war bread basket', 'warm comfortable meeting', 'warm like medium', 'warm little bit', 'warm sturdy clothing', 'warning cuz considered', 'wars harry potter', 'wary god using', 'wasbt sure christmas', 'wash hands got', 'wasnt board ideas', 'wasnt concentrating adhd', 'wasnt flaw felt', 'wasnt fully time', 'wasnt good friends', 'wasnt guilt carry', 'wasnt intrusive thoughts', 'wasnt meant casuals', 'wasnt morning wood', 'wasnt paying attention', 'wasnt prepared required', 'wasnt prescribed started', 'wasnt protect mom', 'wasnt really content', 'wasnt trying search', 'wasnt upset honestly', 'wasnt weird personality', 'wasnt working knew', 'waste money think', 'waste time dont', 'waste time theyre', 'wasted body like', 'wasted entire free', 'wasted years life', 'wasting time schizophrenia', 'watashi helpful right', 'watch got scared', 'watch movies shows', 'watch sat didnt', 'watch tv movie', 'watch tv shows', 'watch videos rest', 'watch youtube video', 'watched bunch videos', 'watched leave probably', 'watching destroy ive', 'watching iron man', 'watching movie plex', 'watching netflix difficult', 'watching netflix watching', 'watching probably sucks', 'watching tv movies', 'watching workout videos', 'watching youtube said', 'watching youtube videos', 'watching youtube wifi', 'water booze think', 'water bottle tools', 'water feel like', 'water help seeing', 'water pictures photo', 'water pool ground', 'watery contents stomach', 'watery floating oily', 'wave doppler looked', 'wave fearadrenaline caused', 'wave mini cooper', 'wave panic ecg', 'waved waved woman', 'waved woman deadset', 'wavy im confused', 'wavy like korean', 'wavy wavy like', 'wax glitter crushed', 'way beginning told', 'way bit shy', 'way blood flow', 'way blood test', 'way causing stress', 'way check google', 'way child loved', 'way common theories', 'way didnt realize', 'way enjoy games', 'way especially open', 'way feel good', 'way feel like', 'way feels like', 'way felt seen', 'way fight friends', 'way firstly know', 'way flat flat', 'way gym think', 'way havent checked', 'way high idle', 'way hook tv', 'way id like', 'way im asking', 'way im going', 'way interact people', 'way know help', 'way laptop installed', 'way like making', 'way like way', 'way long story', 'way looked cute', 'way make feel', 'way make flexible', 'way measuring truly', 'way meet people', 'way motivation left', 'way open relationships', 'way opportunities stage', 'way past probably', 'way perfect obviously', 'way protect tweets', 'way raised essential', 'way react new', 'way reason really', 'way reassuring way', 'way recover lost', 'way relating think', 'way right centre', 'way saying homeless', 'way stop dreams', 'way telling instead', 'way things people', 'way think right', 'way time dont', 'way travelling ideally', 'way twice day', 'way use answers', 'way used ive', 'way used night', 'way used think', 'way want know', 'way wanted share', 'way way like', 'way work battery', 'way worried making', 'ways end life', 'ways vomiting panic', 'weak fine confirmed', 'weak fine figured', 'weak got medication', 'weak pulse fast', 'weak slow past', 'weak voice got', 'weapons im super', 'weapons paid weapons', 'weapons perks crosses', 'weapons pine branches', 'wear ex hoodie', 'wear makes sense', 'wear plugged wall', 'wear somebodys home', 'wear tear car', 'wearable homeless poor', 'wearing heart monitors', 'wearing hoodie claims', 'wearing people clothes', 'wearing skin felt', 'weary felt struggle', 'web browsing listening', 'webpage example grav', 'website downloaded file', 'websites gist say', 'wedding afford recently', 'wedding photography cost', 'wedding planning exception', 'wedding planning far', 'wedding plans mother', 'wedding venue paid', 'weed anxiety stopped', 'weed backpack know', 'weed butter measuring', 'weed decided edibles', 'weed feel like', 'weed issue especially', 'weed living room', 'weed majority cbd', 'weed medicine super', 'weed smoker smoked', 'weed unlocking mind', 'weed worried lips', 'weed year usually', 'weed years randomly', 'week ago let', 'week apart going', 'week approach asked', 'week breakdown hell', 'week car begin', 'week didnt really', 'week eat days', 'week feel disappointed', 'week feel like', 'week felt fine', 'week followup appointment', 'week going make', 'week gym help', 'week half ago', 'week half started', 'week heart feels', 'week im uk', 'week ive sleeping', 'week job ecommerce', 'week judgement know', 'week june surprise', 'week later got', 'week like fear', 'week lost idea', 'week mark today', 'week medical leave', 'week month originally', 'week new psychiatrist', 'week quarantine bleeding', 'week really like', 'week really want', 'week repeated exam', 'week researched ocd', 'week results said', 'week retail moment', 'week said fuck', 'week school supermarketetc', 'week stating plan', 'week tadpole demodog', 'week taking detox', 'week thought powersupply', 'week today experiencing', 'week told interested', 'week tuesday decided', 'week worked nondiet', 'weekend im certain', 'weekend job bar', 'weekend talking starting', 'weekly appointments right', 'weekly occurrence relationship', 'weeks actually really', 'weeks ago car', 'weeks ago closest', 'weeks ago doctor', 'weeks ago dont', 'weeks ago feel', 'weeks ago got', 'weeks ago hate', 'weeks ago husband', 'weeks ago ive', 'weeks ago lost', 'weeks ago mental', 'weeks ago number', 'weeks ago ordered', 'weeks asked said', 'weeks break gel', 'weeks champ nursing', 'weeks dark right', 'weeks days thing', 'weeks feel like', 'weeks feeling incredibly', 'weeks hospitalisation leave', 'weeks huge panic', 'weeks job prestigious', 'weeks later messaged', 'weeks later talking', 'weeks medication really', 'weeks moving breakup', 'weeks nice great', 'weeks period starts', 'weeks reason make', 'weeks session wanted', 'weeks started happening', 'weeks thinking time', 'weeks timing coincidence', 'weeks weigh time', 'weeks working weeks', 'weeping assumed symptoms', 'weigh smoke pot', 'weigh time weighed', 'weigh use nicotine', 'weighed morning ate', 'weighed peed said', 'weighed said lbs', 'weighed today ate', 'weighed yesterday lost', 'weighing dropped months', 'weight gain younger', 'weight gym working', 'weight help want', 'weight helps know', 'weight losing lost', 'weight loss excessive', 'weight loss feeling', 'weight loss journey', 'weight loss thinking', 'weight loss worry', 'weight lowering calorie', 'weight multiple times', 'weight need help', 'weight new meds', 'weight past week', 'weight really underweight', 'weight started working', 'weight sure healthy', 'weight thighs going', 'weight thought ended', 'weight training legs', 'weight waited morning', 'weight year ago', 'weighted sure unweighted', 'weird bios control', 'weird body feeling', 'weird ex hoodie', 'weird feel like', 'weird feels like', 'weird guys think', 'weird hard explain', 'weird im normal', 'weird im trying', 'weird issues play', 'weird like im', 'weird missing youth', 'weird people using', 'weird personality wasnt', 'weird stuff like', 'weird symptom started', 'weird symptoms year', 'weird times kept', 'weird way feel', 'weird way reason', 'weirdo intrusive thoughts', 'welcome career involve', 'welcome delete section', 'wellbeing question quality', 'wells stop nightmare', 'wellversed lot different', 'welp ive really', 'welts looked like', 'welts upper arms', 'went ahead ordered', 'went answer disability', 'went apologize kept', 'went away days', 'went away months', 'went away went', 'went bed went', 'went best buy', 'went blank relationship', 'went blank said', 'went calling cousin', 'went college friends', 'went date supposed', 'went doctor told', 'went emergency room', 'went felt like', 'went finish essay', 'went friends work', 'went good looking', 'went gym feeling', 'went gynecologist told', 'went harder slightly', 'went highschool college', 'went home days', 'went hookup theres', 'went hour walk', 'went impression open', 'went korean owned', 'went living room', 'went met guy', 'went mom house', 'went outside today', 'went paris week', 'went party got', 'went phone seen', 'went phone talk', 'went picked arrived', 'went regassed assuming', 'went scared heart', 'went school got', 'went sleep went', 'went started sertraline', 'went sure itch', 'went tadpole long', 'went times week', 'went uncomfortable attracted', 'went uni art', 'went upstairs bathroom', 'went upstairs lie', 'went urgent care', 'went want commented', 'went weed unlocking', 'went workers cookout', 'went year seeing', 'went years ago', 'werent available werent', 'werent far official', 'werent going add', 'werent responsive nzxt', 'werent shown happened', 'weve changed ram', 'weve moments things', 'weve tried weve', 'wewdigi hdmi switch', 'wewdigihdmi switch hdmi', 'wfh come days', 'wfh days office', 'wfh want family', 'wh likely submit', 'whats available advise', 'whats coming months', 'whats going fix', 'whats gonna happen', 'whats happening alcohol', 'whats happening like', 'whats january background', 'whats point getting', 'whats shown video', 'whats suitable gaming', 'whats weird bios', 'whats wrong laptop', 'whats wrong past', 'whatsoever disgusted allowing', 'whatsoever thank read', 'wheel bearing videos', 'wheel causing pileup', 'wheel sitting foot', 'wheelhouse applied hi', 'wheels making whirring', 'whilst living life', 'whiney feels wrong', 'whirring noise quite', 'white approach summer', 'white blood cell', 'white collar jobs', 'white lines getting', 'white male gen', 'white marks used', 'white mirrors ive', 'white powder worried', 'white sand wax', 'white spray paint', 'whos attached hip', 'wickspackings wounds know', 'wide open day', 'wife stepson left', 'wifi constantly dropping', 'wifi disconnects ill', 'wifi fios tv', 'wifi speeds wifi', 'wifi tv drops', 'wiki wanted little', 'wild commute story', 'willing make sacrifice', 'willow motif portable', 'wills slug russian', 'wills slug theres', 'wills slug went', 'wim hofs breathing', 'wind arguing decided', 'window room isnt', 'windows came told', 'windows event viewer', 'windows home mode', 'windows movie maker', 'windows open ac', 'windows uefi bug', 'windows updates critical', 'wingman bit lol', 'wings left blind', 'wingull mons hidden', 'winter coats sturdy', 'wipe got fake', 'wiped spend rest', 'wire new construction', 'wired differently really', 'wired im lucky', 'wires battery alternator', 'wisdom regardless traumatizing', 'wisdom teeth dont', 'wisdom teeth removed', 'wisdom tooth consultation', 'wise im fearing', 'wise pound foolish', 'wisely living home', 'wish didnt know', 'wish figure plan', 'wish knew brain', 'wish listing things', 'wish look like', 'wish luck journey', 'wish mom aborted', 'wish mother abortion', 'wish wanna punching', 'wished like second', 'wishes told research', 'wit best friend', 'woes working corporate', 'woke accident asked', 'woke began argue', 'woke early morning', 'woke feeling anxious', 'woke feeling constipated', 'woke felt fuzzy', 'woke hospital morning', 'woke kind went', 'woke middle night', 'woke morning feeling', 'woke morning immediately', 'woman caused pain', 'woman deadset turned', 'woman obviously eavesdropping', 'woman started collapse', 'woman started feel', 'woman turned stare', 'womanless teens lonely', 'women coming instead', 'women probably worst', 'women time hurt', 'wonder friends people', 'wonder wills slug', 'wondered ideas london', 'wonderful person discover', 'wonderful treasure acquire', 'wondering good idea', 'wondering issue wheels', 'wondering justify monogamy', 'wondering people taking', 'wondering theres concerning', 'wondering thinks happen', 'wondering thoughts gave', 'wondering upsold alive', 'wont able pay', 'wont able sleep', 'wont apolgize anymore', 'wont away idk', 'wont crumble wipe', 'wont discuss stuff', 'wont leave like', 'wont let talk', 'wont let use', 'wont mean make', 'wont medication believe', 'wont mention views', 'wood erections fine', 'wood went doctor', 'woods live dont', 'word like month', 'word processing web', 'word remember watashi', 'word says stop', 'word time think', 'word title starts', 'words complain considering', 'words encouragement huge', 'words know took', 'words meaning words', 'work absolutely home', 'work aftercare public', 'work anxiety days', 'work anymore im', 'work battery light', 'work building solid', 'work come home', 'work cool interesting', 'work count calories', 'work courts toss', 'work day came', 'work day help', 'work days basically', 'work days week', 'work deadlines home', 'work didnt use', 'work dont hate', 'work dont really', 'work electrical sales', 'work ethic vs', 'work example recommendation', 'work experience feel', 'work extra pressure', 'work feel like', 'work feel tired', 'work felt like', 'work going school', 'work grocery store', 'work guy party', 'work half hour', 'work hard wonderful', 'work home home', 'work home really', 'work home week', 'work hours week', 'work id fit', 'work ill rewarded', 'work im able', 'work im anxious', 'work im going', 'work im minutes', 'work instead stretch', 'work issue apparently', 'work let know', 'work light flashing', 'work like weeks', 'work load recently', 'work look random', 'work macbook usually', 'work major corporation', 'work major highway', 'work make money', 'work marketing incase', 'work maxing bench', 'work maybe going', 'work mental health', 'work mentalphysicalsocial health', 'work need job', 'work office job', 'work office set', 'work ot skip', 'work overthink things', 'work panic attacks', 'work people age', 'work people dont', 'work people like', 'work people socialize', 'work perfectly fine', 'work period hormones', 'work positions road', 'work presentations deal', 'work presentations leave', 'work really hard', 'work recruiting company', 'work reliably soon', 'work remotely living', 'work rest time', 'work retail grabbed', 'work return bed', 'work right think', 'work scared maybe', 'work small business', 'work stayed checked', 'work stress excessive', 'work stronger mom', 'work support instead', 'work talk old', 'work team mutually', 'work things outside', 'work things things', 'work think absolutely', 'work throw crop', 'work time dont', 'work time know', 'work time social', 'work timing bit', 'work told come', 'work tried make', 'work try foster', 'work trying sell', 'work unless im', 'work want better', 'work way think', 'work week really', 'work weekend job', 'work work retail', 'workday inconsequential daily', 'workday make cup', 'worked company months', 'worked company years', 'worked continued therapy', 'worked dont understand', 'worked feel deprived', 'worked fine load', 'worked letting performance', 'worked min ot', 'worked nondiet approach', 'worked really hard', 'worked restaurants centers', 'worked small business', 'worked team create', 'worked twice today', 'worked year really', 'worker alienation recently', 'worker company structured', 'worker making luxury', 'worker met night', 'workers cookout suppose', 'workers today received', 'working company girlfriend', 'working corporate structure', 'working days week', 'working early morning', 'working electrical sales', 'working fine glue', 'working going gym', 'working gym come', 'working hard turned', 'working head tho', 'working healthier choices', 'working home builders', 'working ive watching', 'working knew useless', 'working legs extremely', 'working losing weight', 'working low wage', 'working memory processing', 'working memory think', 'working memoryprocessing speed', 'working night shift', 'working pictures ignore', 'working previously noticed', 'working properly updated', 'working read long', 'working recruiter worked', 'working remotely large', 'working resistant talking', 'working right im', 'working right like', 'working sales leader', 'working say screw', 'working shitty jobs', 'working spent months', 'working studying thoughts', 'working tell boss', 'working time fine', 'working time job', 'working twice day', 'working weeks ago', 'working woke feeling', 'workload pressure instantly', 'workout hours everyday', 'workout routines exercises', 'workout sessions currently', 'workout videos youtube', 'workplace harassment discrimination', 'works ask point', 'works big jail', 'works company manufactures', 'works feel like', 'works fine half', 'works flawlessy dont', 'works museums private', 'works perfectly fine', 'works really really', 'works russians killed', 'works says gets', 'works says thats', 'works seek help', 'works sexual assault', 'works shows start', 'works tried nginx', 'workshop feeling feelings', 'world beginning saw', 'world better place', 'world eggs raids', 'world end classic', 'world feel like', 'world feeling like', 'world games like', 'world history ap', 'world history chem', 'world history course', 'world history covering', 'world invasion wont', 'world like better', 'world like dont', 'world long remember', 'world lot fights', 'world lying cover', 'world makes sense', 'world mr vadan', 'world petition really', 'world problems real', 'world teachers nationwide', 'worn clothes clearly', 'worn old damaged', 'worried bedsides anxiety', 'worried build far', 'worried bumper damage', 'worried caused neuropathy', 'worried cocaine fet', 'worried days head', 'worried decide ruin', 'worried explained bit', 'worried fact unnecessarily', 'worried future right', 'worried hear bunch', 'worried judged struggle', 'worried lips felt', 'worried making excuse', 'worried noticed times', 'worried potential new', 'worried shes going', 'worried symptoms possibly', 'worried touxhed stuff', 'worried werent going', 'worried wont able', 'worries cancellation fee', 'worries paid guns', 'worry exactly line', 'worry ive dieted', 'worry responding portable', 'worrying im test', 'worrying right wanting', 'worse break feeling', 'worse dont know', 'worse feel like', 'worse im glad', 'worse ive tried', 'worse legally want', 'worse like tonight', 'worse luteal phase', 'worse mental health', 'worse realized intrusive', 'worse really anxious', 'worse scared know', 'worse speed thoughts', 'worse thought dont', 'worse time came', 'worse tried pressure', 'worse vaccine opinions', 'worse walk miles', 'worse work positions', 'worse worse ive', 'worse worse worse', 'worse years depression', 'worst annoyed literally', 'worst calmed like', 'worst case like', 'worst case scenario', 'worst experiences life', 'worst gym place', 'worst job worst', 'worst land single', 'worst mental state', 'worst panic attacks', 'worst social anxiety', 'worst theyve mental', 'worst time life', 'worst year life', 'worth afterwords picked', 'worth dropping bucks', 'worth ill miss', 'worth noting havent', 'worth noting soviets', 'worth overtime work', 'worth regrets advice', 'worth saving relationship', 'worth trying upgrade', 'worthless helpless panic', 'worthless piece shit', 'worthy sleep touch', 'wouldnt friends died', 'wouldnt homeless street', 'wouldnt know look', 'wouldnt mind boxes', 'wouldnt morning wood', 'wouldnt right human', 'wouldnt say im', 'wouldnt stop forgot', 'wouldnt worrying right', 'wound tuck edges', 'wound tweezers kinda', 'wounds know basically', 'wrinkles people think', 'write correctly start', 'write email know', 'write id like', 'write memoirs assaults', 'writers composers authors', 'writing different references', 'writing guy like', 'writing morning told', 'writings dead people', 'writings time talk', 'wrong didnt know', 'wrong dont know', 'wrong dont wanna', 'wrong dont want', 'wrong far gone', 'wrong feel like', 'wrong hell belong', 'wrong id love', 'wrong im lazy', 'wrong im new', 'wrong instead picking', 'wrong irrational friends', 'wrong know meds', 'wrong oh seen', 'wrong past week', 'wrong place ask', 'wrong run debris', 'wrong working previously', 'wrong years ive', 'wrote apologize text', 'wwwdovesongcomimagesarchivesscriabinjpg years ago', 'xanax helps immensely', 'xbox game pass', 'xbox hear xbox', 'xbox live gold', 'xbox ports general', 'xbox pro nvidia', 'xpost concerns factions', 'xray showing issues', 'yall need help', 'yeah ha like', 'yeah idk guess', 'yeah im dead', 'yeah im focused', 'yeah im wondering', 'yeah live minutes', 'yeah went gym', 'yeah yeah yeahs', 'year ago doctors', 'year ago feel', 'year ago friend', 'year ago hate', 'year ago really', 'year ago started', 'year ago using', 'year breath heart', 'year college feedback', 'year covid hit', 'year day met', 'year deeply love', 'year ended getting', 'year feel like', 'year felt like', 'year freshman year', 'year friends apartment', 'year grad school', 'year half ago', 'year high school', 'year highschool started', 'year house dogs', 'year life truly', 'year lot able', 'year medication therapy', 'year months kinds', 'year moved house', 'year old brother', 'year old child', 'year old daughter', 'year old dog', 'year old female', 'year old girl', 'year old guy', 'year old kid', 'year old male', 'year old man', 'year old pc', 'year old psu', 'year old started', 'year old woman', 'year old women', 'year really liked', 'year really think', 'year said going', 'year series like', 'year straight everyday', 'year total march', 'year unemployed living', 'year usually brings', 'year waiting list', 'years adhd diagnosed', 'years age feel', 'years ago bad', 'years ago believe', 'years ago christmas', 'years ago dont', 'years ago feel', 'years ago god', 'years ago got', 'years ago im', 'years ago ive', 'years ago know', 'years ago life', 'years ago like', 'years ago new', 'years ago panic', 'years ago recently', 'years ago remember', 'years ago said', 'years ago started', 'years ago symptoms', 'years ago think', 'years ago time', 'years ago took', 'years ago tried', 'years ago used', 'years ago want', 'years asked said', 'years aware breath', 'years career change', 'years companies wanted', 'years control making', 'years customer service', 'years date comes', 'years date referral', 'years depressed mind', 'years depression suffered', 'years diagnosed adhd', 'years dont buses', 'years dont know', 'years embarrassment dysfunction', 'years feel like', 'years felt normal', 'years finally got', 'years generally worried', 'years gotten worse', 'years guess case', 'years high school', 'years im wondering', 'years issue odd', 'years issues application', 'years ive felt', 'years ive looked', 'years ive thing', 'years job want', 'years kinda sat', 'years later im', 'years life living', 'years long aap', 'years menstruating far', 'years mom brother', 'years nursed remember', 'years old got', 'years old graduated', 'years old im', 'years old ive', 'years old know', 'years old lbs', 'years old months', 'years old purposely', 'years old really', 'years old recently', 'years old thats', 'years old walking', 'years old weight', 'years old year', 'years old young', 'years people know', 'years plus iron', 'years probably know', 'years randomly happened', 'years really hard', 'years recently started', 'years room extremely', 'years school courses', 'years seen legend', 'years sit class', 'years studying vocational', 'years wasnt really', 'years went friends', 'years working gym', 'yelling trying frequencies', 'yelling went workers', 'yellow honda fit', 'yes advisepointers preparation', 'yes china risk', 'yes intended use', 'yes ive seen', 'yes know wont', 'yes lol says', 'yes moments angry', 'yes open mentioned', 'yes prioritize form', 'yes told care', 'yes tried reassuring', 'yes tried uni', 'yes went picked', 'yes yes know', 'yesterday alright quite', 'yesterday day english', 'yesterday eat literally', 'yesterday feel awful', 'yesterday lost lbs', 'yesterday result came', 'yields know potatoes', 'yn income middle', 'york outlining current', 'youd perfect fit', 'youd think public', 'youll real man', 'young change course', 'young family tirelessly', 'young friends experience', 'young id catastrophize', 'young ive afraid', 'young like parties', 'younger anxiety shorter', 'younger teen younger', 'younger threaded sewing', 'younger wanted ballet', 'youre close kiss', 'youre exhausted feel', 'youre favorite teacher', 'youre gaming certain', 'youre gorgeous course', 'youre guy like', 'youre highly skilled', 'youre lazy weirdo', 'youre like catches', 'youre number spreadsheet', 'youth advisory council', 'youth saw lot', 'youtube channel chillhop', 'youtube reddit rinse', 'youtube said medications', 'youtube swwwyoutubecomwatchvjhmzxkkzi im', 'youtube test sound', 'youtube wifi disconnects', 'youtube zyzz dude', 'youve seen im', 'zero sexual response', 'zoloft week half', 'zoloft weeks timing', 'zoned mid sentence', 'zoomed parts male', 'zotac geforce gtx', 'zyzz dude scrawny']\n"
          ]
        }
      ],
      "source": [
        "ngram_vect = TfidfVectorizer(ngram_range=(3,3), min_df = 2, stop_words = 'english')\n",
        "ngram_doc = ngram_vect.fit_transform(mhsu_balanced['clean_text'])\n",
        "print(ngram_doc.shape)\n",
        "print(ngram_vect.get_feature_names())"
      ]
    },
    {
      "cell_type": "code",
      "execution_count": null,
      "metadata": {
        "colab": {
          "base_uri": "https://localhost:8080/",
          "height": 280
        },
        "id": "XCGV4M5oaP9k",
        "outputId": "345a3ee8-461c-40ea-95f3-ecd25c91db82"
      },
      "outputs": [
        {
          "output_type": "execute_result",
          "data": {
            "text/plain": [
              "   0      1      2      3      4      5      6      7      8      9      ...  \\\n",
              "0    0.0    0.0    0.0    0.0    0.0    0.0    0.0    0.0    0.0    0.0  ...   \n",
              "1    0.0    0.0    0.0    0.0    0.0    0.0    0.0    0.0    0.0    0.0  ...   \n",
              "2    0.0    0.0    0.0    0.0    0.0    0.0    0.0    0.0    0.0    0.0  ...   \n",
              "3    0.0    0.0    0.0    0.0    0.0    0.0    0.0    0.0    0.0    0.0  ...   \n",
              "4    0.0    0.0    0.0    0.0    0.0    0.0    0.0    0.0    0.0    0.0  ...   \n",
              "\n",
              "   21354  21355  21356  21357  21358  21359  21360  21361  21362  21363  \n",
              "0    0.0    0.0    0.0    0.0    0.0    0.0    0.0    0.0    0.0    0.0  \n",
              "1    0.0    0.0    0.0    0.0    0.0    0.0    0.0    0.0    0.0    0.0  \n",
              "2    0.0    0.0    0.0    0.0    0.0    0.0    0.0    0.0    0.0    0.0  \n",
              "3    0.0    0.0    0.0    0.0    0.0    0.0    0.0    0.0    0.0    0.0  \n",
              "4    0.0    0.0    0.0    0.0    0.0    0.0    0.0    0.0    0.0    0.0  \n",
              "\n",
              "[5 rows x 21364 columns]"
            ],
            "text/html": [
              "\n",
              "  <div id=\"df-48701da5-c1e0-496b-90e2-f9446850105e\">\n",
              "    <div class=\"colab-df-container\">\n",
              "      <div>\n",
              "<style scoped>\n",
              "    .dataframe tbody tr th:only-of-type {\n",
              "        vertical-align: middle;\n",
              "    }\n",
              "\n",
              "    .dataframe tbody tr th {\n",
              "        vertical-align: top;\n",
              "    }\n",
              "\n",
              "    .dataframe thead th {\n",
              "        text-align: right;\n",
              "    }\n",
              "</style>\n",
              "<table border=\"1\" class=\"dataframe\">\n",
              "  <thead>\n",
              "    <tr style=\"text-align: right;\">\n",
              "      <th></th>\n",
              "      <th>0</th>\n",
              "      <th>1</th>\n",
              "      <th>2</th>\n",
              "      <th>3</th>\n",
              "      <th>4</th>\n",
              "      <th>5</th>\n",
              "      <th>6</th>\n",
              "      <th>7</th>\n",
              "      <th>8</th>\n",
              "      <th>9</th>\n",
              "      <th>...</th>\n",
              "      <th>21354</th>\n",
              "      <th>21355</th>\n",
              "      <th>21356</th>\n",
              "      <th>21357</th>\n",
              "      <th>21358</th>\n",
              "      <th>21359</th>\n",
              "      <th>21360</th>\n",
              "      <th>21361</th>\n",
              "      <th>21362</th>\n",
              "      <th>21363</th>\n",
              "    </tr>\n",
              "  </thead>\n",
              "  <tbody>\n",
              "    <tr>\n",
              "      <th>0</th>\n",
              "      <td>0.0</td>\n",
              "      <td>0.0</td>\n",
              "      <td>0.0</td>\n",
              "      <td>0.0</td>\n",
              "      <td>0.0</td>\n",
              "      <td>0.0</td>\n",
              "      <td>0.0</td>\n",
              "      <td>0.0</td>\n",
              "      <td>0.0</td>\n",
              "      <td>0.0</td>\n",
              "      <td>...</td>\n",
              "      <td>0.0</td>\n",
              "      <td>0.0</td>\n",
              "      <td>0.0</td>\n",
              "      <td>0.0</td>\n",
              "      <td>0.0</td>\n",
              "      <td>0.0</td>\n",
              "      <td>0.0</td>\n",
              "      <td>0.0</td>\n",
              "      <td>0.0</td>\n",
              "      <td>0.0</td>\n",
              "    </tr>\n",
              "    <tr>\n",
              "      <th>1</th>\n",
              "      <td>0.0</td>\n",
              "      <td>0.0</td>\n",
              "      <td>0.0</td>\n",
              "      <td>0.0</td>\n",
              "      <td>0.0</td>\n",
              "      <td>0.0</td>\n",
              "      <td>0.0</td>\n",
              "      <td>0.0</td>\n",
              "      <td>0.0</td>\n",
              "      <td>0.0</td>\n",
              "      <td>...</td>\n",
              "      <td>0.0</td>\n",
              "      <td>0.0</td>\n",
              "      <td>0.0</td>\n",
              "      <td>0.0</td>\n",
              "      <td>0.0</td>\n",
              "      <td>0.0</td>\n",
              "      <td>0.0</td>\n",
              "      <td>0.0</td>\n",
              "      <td>0.0</td>\n",
              "      <td>0.0</td>\n",
              "    </tr>\n",
              "    <tr>\n",
              "      <th>2</th>\n",
              "      <td>0.0</td>\n",
              "      <td>0.0</td>\n",
              "      <td>0.0</td>\n",
              "      <td>0.0</td>\n",
              "      <td>0.0</td>\n",
              "      <td>0.0</td>\n",
              "      <td>0.0</td>\n",
              "      <td>0.0</td>\n",
              "      <td>0.0</td>\n",
              "      <td>0.0</td>\n",
              "      <td>...</td>\n",
              "      <td>0.0</td>\n",
              "      <td>0.0</td>\n",
              "      <td>0.0</td>\n",
              "      <td>0.0</td>\n",
              "      <td>0.0</td>\n",
              "      <td>0.0</td>\n",
              "      <td>0.0</td>\n",
              "      <td>0.0</td>\n",
              "      <td>0.0</td>\n",
              "      <td>0.0</td>\n",
              "    </tr>\n",
              "    <tr>\n",
              "      <th>3</th>\n",
              "      <td>0.0</td>\n",
              "      <td>0.0</td>\n",
              "      <td>0.0</td>\n",
              "      <td>0.0</td>\n",
              "      <td>0.0</td>\n",
              "      <td>0.0</td>\n",
              "      <td>0.0</td>\n",
              "      <td>0.0</td>\n",
              "      <td>0.0</td>\n",
              "      <td>0.0</td>\n",
              "      <td>...</td>\n",
              "      <td>0.0</td>\n",
              "      <td>0.0</td>\n",
              "      <td>0.0</td>\n",
              "      <td>0.0</td>\n",
              "      <td>0.0</td>\n",
              "      <td>0.0</td>\n",
              "      <td>0.0</td>\n",
              "      <td>0.0</td>\n",
              "      <td>0.0</td>\n",
              "      <td>0.0</td>\n",
              "    </tr>\n",
              "    <tr>\n",
              "      <th>4</th>\n",
              "      <td>0.0</td>\n",
              "      <td>0.0</td>\n",
              "      <td>0.0</td>\n",
              "      <td>0.0</td>\n",
              "      <td>0.0</td>\n",
              "      <td>0.0</td>\n",
              "      <td>0.0</td>\n",
              "      <td>0.0</td>\n",
              "      <td>0.0</td>\n",
              "      <td>0.0</td>\n",
              "      <td>...</td>\n",
              "      <td>0.0</td>\n",
              "      <td>0.0</td>\n",
              "      <td>0.0</td>\n",
              "      <td>0.0</td>\n",
              "      <td>0.0</td>\n",
              "      <td>0.0</td>\n",
              "      <td>0.0</td>\n",
              "      <td>0.0</td>\n",
              "      <td>0.0</td>\n",
              "      <td>0.0</td>\n",
              "    </tr>\n",
              "  </tbody>\n",
              "</table>\n",
              "<p>5 rows × 21364 columns</p>\n",
              "</div>\n",
              "      <button class=\"colab-df-convert\" onclick=\"convertToInteractive('df-48701da5-c1e0-496b-90e2-f9446850105e')\"\n",
              "              title=\"Convert this dataframe to an interactive table.\"\n",
              "              style=\"display:none;\">\n",
              "        \n",
              "  <svg xmlns=\"http://www.w3.org/2000/svg\" height=\"24px\"viewBox=\"0 0 24 24\"\n",
              "       width=\"24px\">\n",
              "    <path d=\"M0 0h24v24H0V0z\" fill=\"none\"/>\n",
              "    <path d=\"M18.56 5.44l.94 2.06.94-2.06 2.06-.94-2.06-.94-.94-2.06-.94 2.06-2.06.94zm-11 1L8.5 8.5l.94-2.06 2.06-.94-2.06-.94L8.5 2.5l-.94 2.06-2.06.94zm10 10l.94 2.06.94-2.06 2.06-.94-2.06-.94-.94-2.06-.94 2.06-2.06.94z\"/><path d=\"M17.41 7.96l-1.37-1.37c-.4-.4-.92-.59-1.43-.59-.52 0-1.04.2-1.43.59L10.3 9.45l-7.72 7.72c-.78.78-.78 2.05 0 2.83L4 21.41c.39.39.9.59 1.41.59.51 0 1.02-.2 1.41-.59l7.78-7.78 2.81-2.81c.8-.78.8-2.07 0-2.86zM5.41 20L4 18.59l7.72-7.72 1.47 1.35L5.41 20z\"/>\n",
              "  </svg>\n",
              "      </button>\n",
              "      \n",
              "  <style>\n",
              "    .colab-df-container {\n",
              "      display:flex;\n",
              "      flex-wrap:wrap;\n",
              "      gap: 12px;\n",
              "    }\n",
              "\n",
              "    .colab-df-convert {\n",
              "      background-color: #E8F0FE;\n",
              "      border: none;\n",
              "      border-radius: 50%;\n",
              "      cursor: pointer;\n",
              "      display: none;\n",
              "      fill: #1967D2;\n",
              "      height: 32px;\n",
              "      padding: 0 0 0 0;\n",
              "      width: 32px;\n",
              "    }\n",
              "\n",
              "    .colab-df-convert:hover {\n",
              "      background-color: #E2EBFA;\n",
              "      box-shadow: 0px 1px 2px rgba(60, 64, 67, 0.3), 0px 1px 3px 1px rgba(60, 64, 67, 0.15);\n",
              "      fill: #174EA6;\n",
              "    }\n",
              "\n",
              "    [theme=dark] .colab-df-convert {\n",
              "      background-color: #3B4455;\n",
              "      fill: #D2E3FC;\n",
              "    }\n",
              "\n",
              "    [theme=dark] .colab-df-convert:hover {\n",
              "      background-color: #434B5C;\n",
              "      box-shadow: 0px 1px 3px 1px rgba(0, 0, 0, 0.15);\n",
              "      filter: drop-shadow(0px 1px 2px rgba(0, 0, 0, 0.3));\n",
              "      fill: #FFFFFF;\n",
              "    }\n",
              "  </style>\n",
              "\n",
              "      <script>\n",
              "        const buttonEl =\n",
              "          document.querySelector('#df-48701da5-c1e0-496b-90e2-f9446850105e button.colab-df-convert');\n",
              "        buttonEl.style.display =\n",
              "          google.colab.kernel.accessAllowed ? 'block' : 'none';\n",
              "\n",
              "        async function convertToInteractive(key) {\n",
              "          const element = document.querySelector('#df-48701da5-c1e0-496b-90e2-f9446850105e');\n",
              "          const dataTable =\n",
              "            await google.colab.kernel.invokeFunction('convertToInteractive',\n",
              "                                                     [key], {});\n",
              "          if (!dataTable) return;\n",
              "\n",
              "          const docLinkHtml = 'Like what you see? Visit the ' +\n",
              "            '<a target=\"_blank\" href=https://colab.research.google.com/notebooks/data_table.ipynb>data table notebook</a>'\n",
              "            + ' to learn more about interactive tables.';\n",
              "          element.innerHTML = '';\n",
              "          dataTable['output_type'] = 'display_data';\n",
              "          await google.colab.output.renderOutput(dataTable, element);\n",
              "          const docLink = document.createElement('div');\n",
              "          docLink.innerHTML = docLinkHtml;\n",
              "          element.appendChild(docLink);\n",
              "        }\n",
              "      </script>\n",
              "    </div>\n",
              "  </div>\n",
              "  "
            ]
          },
          "metadata": {},
          "execution_count": 24
        }
      ],
      "source": [
        "Ng_features = pd.DataFrame(ngram_doc.toarray())\n",
        "Ng_features.head()"
      ]
    },
    {
      "cell_type": "code",
      "execution_count": null,
      "metadata": {
        "id": "bFjLAcS7apjQ"
      },
      "outputs": [],
      "source": [
        "label = mhsu_balanced.label\n",
        "\n",
        "X_train, X_test, y_train, y_test = train_test_split(Ng_features, label,\n",
        "                                                    shuffle=True, \n",
        "                                                    test_size = 0.2, \n",
        "                                                    random_state = 42, \n",
        "                                                    stratify = label)"
      ]
    },
    {
      "cell_type": "code",
      "execution_count": null,
      "metadata": {
        "colab": {
          "base_uri": "https://localhost:8080/"
        },
        "id": "lqKF0QS1lMGb",
        "outputId": "9f32389a-6ed8-4d64-b637-b510b4388490"
      },
      "outputs": [
        {
          "output_type": "stream",
          "name": "stdout",
          "text": [
            "Total number of data in X_train :7840\n",
            "Total number of data in X_test :1960\n",
            "Total number of data in y_train :7840\n",
            "Total number of data in y_test :1960\n"
          ]
        }
      ],
      "source": [
        "print('Total number of data in X_train :{}' .format(len(X_train)))\n",
        "print('Total number of data in X_test :{}' .format(len(X_test)))\n",
        "print('Total number of data in y_train :{}' .format(len(y_train)))\n",
        "print('Total number of data in y_test :{}' .format(len(y_test)))"
      ]
    },
    {
      "cell_type": "markdown",
      "source": [
        "## Logistics Regression (Baseline Model)"
      ],
      "metadata": {
        "id": "dVhm2bh0IVkD"
      }
    },
    {
      "cell_type": "code",
      "source": [
        "logReg = LogisticRegression()\n",
        "lg_model = logReg.fit(X_train, y_train.values.ravel())\n",
        "\n",
        "# Prediction with Test data\n",
        "y_pred_lg = lg_model.predict(X_test)"
      ],
      "metadata": {
        "id": "Hya0HRUBIZub"
      },
      "execution_count": null,
      "outputs": []
    },
    {
      "cell_type": "code",
      "source": [
        "LogisticRegression().get_params()"
      ],
      "metadata": {
        "id": "1ywMOLAOJKy7"
      },
      "execution_count": null,
      "outputs": []
    },
    {
      "cell_type": "code",
      "source": [
        "print(classification_report(y_test, y_pred_lg))"
      ],
      "metadata": {
        "colab": {
          "base_uri": "https://localhost:8080/"
        },
        "id": "Xtoef6asI8uL",
        "outputId": "c9e38587-5d26-459a-86dd-c9b61388e3c1"
      },
      "execution_count": null,
      "outputs": [
        {
          "output_type": "stream",
          "name": "stdout",
          "text": [
            "              precision    recall  f1-score   support\n",
            "\n",
            "   With ADHD       0.66      0.32      0.43       980\n",
            "Without ADHD       0.55      0.83      0.66       980\n",
            "\n",
            "    accuracy                           0.58      1960\n",
            "   macro avg       0.61      0.58      0.55      1960\n",
            "weighted avg       0.61      0.58      0.55      1960\n",
            "\n"
          ]
        }
      ]
    },
    {
      "cell_type": "code",
      "source": [
        "cf_matrix = confusion_matrix(y_test, y_pred_lg)\n",
        "print(confusion_matrix(y_test, y_pred_lg))\n",
        "#sns.heatmap(confusion_matrix(y_test, y_pred_lg), annot=True)\n",
        "sns.heatmap(cf_matrix/np.sum(cf_matrix), annot=True, fmt='.2%')"
      ],
      "metadata": {
        "id": "KE-LXryU8-ir",
        "colab": {
          "base_uri": "https://localhost:8080/",
          "height": 317
        },
        "outputId": "b1b715e9-9371-4442-d4b5-bdf9d1318a7f"
      },
      "execution_count": null,
      "outputs": [
        {
          "output_type": "stream",
          "name": "stdout",
          "text": [
            "[[316 664]\n",
            " [162 818]]\n"
          ]
        },
        {
          "output_type": "execute_result",
          "data": {
            "text/plain": [
              "<matplotlib.axes._subplots.AxesSubplot at 0x7fd300174450>"
            ]
          },
          "metadata": {},
          "execution_count": 31
        },
        {
          "output_type": "display_data",
          "data": {
            "text/plain": [
              "<Figure size 432x288 with 2 Axes>"
            ],
            "image/png": "[encoded data removed]"
          },
          "metadata": {
            "needs_background": "light"
          }
        }
      ]
    },
    {
      "cell_type": "markdown",
      "source": [
        "## Random Forest Classifier"
      ],
      "metadata": {
        "id": "2Ra8P3m47Ume"
      }
    },
    {
      "cell_type": "code",
      "execution_count": null,
      "metadata": {
        "id": "DGm0UW1kmdZD"
      },
      "outputs": [],
      "source": [
        "rf = RandomForestClassifier()\n",
        "\n",
        "rf_model = rf.fit(X_train, y_train.values.ravel())"
      ]
    },
    {
      "cell_type": "code",
      "execution_count": null,
      "metadata": {
        "colab": {
          "base_uri": "https://localhost:8080/"
        },
        "id": "Iz92yC7duQx2",
        "outputId": "b90a4daa-9bf9-4f3b-b1a8-60814f2bbbea"
      },
      "outputs": [
        {
          "output_type": "stream",
          "name": "stdout",
          "text": [
            "              precision    recall  f1-score   support\n",
            "\n",
            "   With ADHD       0.66      0.29      0.41       980\n",
            "Without ADHD       0.55      0.85      0.67       980\n",
            "\n",
            "    accuracy                           0.57      1960\n",
            "   macro avg       0.60      0.57      0.54      1960\n",
            "weighted avg       0.60      0.57      0.54      1960\n",
            "\n"
          ]
        }
      ],
      "source": [
        "y_pred_rf = rf_model.predict(X_test)\n",
        "print(classification_report(y_test, y_pred_rf))"
      ]
    },
    {
      "cell_type": "code",
      "source": [
        "cf_matrix = confusion_matrix(y_test, y_pred_rf)\n",
        "print(confusion_matrix(y_test, y_pred_rf))\n",
        "#sns.heatmap(confusion_matrix(y_test, y_pred_rf), annot=True)\n",
        "sns.heatmap(cf_matrix/np.sum(cf_matrix), annot=True, fmt='.2%')"
      ],
      "metadata": {
        "colab": {
          "base_uri": "https://localhost:8080/",
          "height": 317
        },
        "id": "7tz6UNCR-9cj",
        "outputId": "08fdf5a7-f1c0-4ef7-cf0b-251d37ea5c39"
      },
      "execution_count": null,
      "outputs": [
        {
          "output_type": "stream",
          "name": "stdout",
          "text": [
            "[[286 694]\n",
            " [145 835]]\n"
          ]
        },
        {
          "output_type": "execute_result",
          "data": {
            "text/plain": [
              "<matplotlib.axes._subplots.AxesSubplot at 0x7fd2fe3eed90>"
            ]
          },
          "metadata": {},
          "execution_count": 34
        },
        {
          "output_type": "display_data",
          "data": {
            "text/plain": [
              "<Figure size 432x288 with 2 Axes>"
            ],
            "image/png": "[encoded data removed]"
          },
          "metadata": {
            "needs_background": "light"
          }
        }
      ]
    },
    {
      "cell_type": "markdown",
      "metadata": {
        "id": "nELcN1ajesuP"
      },
      "source": [
        "## Hyperparameter Tunning for Random Forest Classifier"
      ]
    },
    {
      "cell_type": "code",
      "execution_count": null,
      "metadata": {
        "colab": {
          "base_uri": "https://localhost:8080/"
        },
        "id": "4KVRR0ebY1Ou",
        "outputId": "5abae395-8da1-4b5f-b629-fa48205f470a"
      },
      "outputs": [
        {
          "output_type": "stream",
          "name": "stdout",
          "text": [
            "BEST PARAMS: {'max_depth': None, 'n_estimators': 50}\n",
            "\n",
            "0.251 (+/-0.001) for {'max_depth': 2, 'n_estimators': 5}\n",
            "0.256 (+/-0.003) for {'max_depth': 2, 'n_estimators': 50}\n",
            "0.26 (+/-0.004) for {'max_depth': 2, 'n_estimators': 100}\n",
            "0.254 (+/-0.002) for {'max_depth': 10, 'n_estimators': 5}\n",
            "0.267 (+/-0.005) for {'max_depth': 10, 'n_estimators': 50}\n",
            "0.278 (+/-0.01) for {'max_depth': 10, 'n_estimators': 100}\n",
            "0.258 (+/-0.003) for {'max_depth': 20, 'n_estimators': 5}\n",
            "0.283 (+/-0.005) for {'max_depth': 20, 'n_estimators': 50}\n",
            "0.289 (+/-0.006) for {'max_depth': 20, 'n_estimators': 100}\n",
            "0.312 (+/-0.008) for {'max_depth': None, 'n_estimators': 5}\n",
            "0.321 (+/-0.005) for {'max_depth': None, 'n_estimators': 50}\n",
            "0.321 (+/-0.008) for {'max_depth': None, 'n_estimators': 100}\n"
          ]
        }
      ],
      "source": [
        "# Using the GridSearch Cross validation method at 5-fold and hyper-parameter tuning of n_estimators and max_depth \n",
        "# to determine the best hyper-parameter settings that will produce the optimal performance for the RF classifier\n",
        "\n",
        "def print_results(results):\n",
        "    print('BEST PARAMS: {}\\n'.format(results.best_params_))\n",
        "\n",
        "    means = results.cv_results_['mean_test_score']\n",
        "    stds = results.cv_results_['std_test_score']\n",
        "    for mean, std, params in zip(means, stds, results.cv_results_['params']):\n",
        "        print('{} (+/-{}) for {}'.format(round(mean, 3), round(std * 2, 3), params))\n",
        "        \n",
        "        \n",
        "rf_cv = RandomForestClassifier()\n",
        "parameters = {\n",
        "    'n_estimators': [5, 50, 100],\n",
        "    'max_depth': [2, 10, 20, None]\n",
        "}\n",
        "\n",
        "cv = GridSearchCV(rf_cv, parameters, cv=5)\n",
        "cv.fit(X_train, y_train.values.ravel())\n",
        "\n",
        "print_results(cv)"
      ]
    },
    {
      "cell_type": "code",
      "execution_count": null,
      "metadata": {
        "id": "GZoUMU8si6L9",
        "colab": {
          "base_uri": "https://localhost:8080/"
        },
        "outputId": "7914eb78-e707-4c3d-c872-b1d1c3184bc5"
      },
      "outputs": [
        {
          "output_type": "execute_result",
          "data": {
            "text/plain": [
              "RandomForestClassifier()"
            ]
          },
          "metadata": {},
          "execution_count": 34
        }
      ],
      "source": [
        "# Refit the three best hyper-parameter models on the full training set\n",
        "# 0.312 (+/-0.008) for {'max_depth': None, 'n_estimators': 5}\n",
        "# 0.321 (+/-0.005) for {'max_depth': None, 'n_estimators': 50}\n",
        "# 0.321 (+/-0.008) for {'max_depth': None, 'n_estimators': 100}\n",
        "\n",
        "rf1 = RandomForestClassifier(n_estimators=5, max_depth=None)\n",
        "rf1.fit(X_train, y_train.values.ravel())\n",
        "\n",
        "rf2 = RandomForestClassifier(n_estimators=50, max_depth=None)\n",
        "rf2.fit(X_train, y_train.values.ravel())\n",
        "\n",
        "rf3 = RandomForestClassifier(n_estimators=100, max_depth=None)\n",
        "rf3.fit(X_train, y_train.values.ravel())"
      ]
    },
    {
      "cell_type": "code",
      "execution_count": null,
      "metadata": {
        "id": "D6cSTp4UjkLR"
      },
      "outputs": [],
      "source": [
        "rf1_pred = rf1.predict(X_test)\n",
        "rf2_pred = rf2.predict(X_test)\n",
        "rf3_pred = rf3.predict(X_test)"
      ]
    },
    {
      "cell_type": "code",
      "execution_count": null,
      "metadata": {
        "id": "TLQE3IeRjp74",
        "colab": {
          "base_uri": "https://localhost:8080/"
        },
        "outputId": "d7bbf0e6-bb5c-4b4b-ceb7-c05c893bffbd"
      },
      "outputs": [
        {
          "output_type": "stream",
          "name": "stdout",
          "text": [
            "              precision    recall  f1-score   support\n",
            "\n",
            "        ADHD       0.27      0.81      0.41       900\n",
            "     anxiety       0.40      0.14      0.21       900\n",
            "      autism       0.44      0.14      0.21       900\n",
            "  depression       0.49      0.20      0.28       900\n",
            "\n",
            "    accuracy                           0.32      3600\n",
            "   macro avg       0.40      0.32      0.28      3600\n",
            "weighted avg       0.40      0.32      0.28      3600\n",
            "\n",
            "              precision    recall  f1-score   support\n",
            "\n",
            "        ADHD       0.39      0.16      0.22       900\n",
            "     anxiety       0.43      0.16      0.24       900\n",
            "      autism       0.28      0.78      0.42       900\n",
            "  depression       0.48      0.22      0.31       900\n",
            "\n",
            "    accuracy                           0.33      3600\n",
            "   macro avg       0.40      0.33      0.30      3600\n",
            "weighted avg       0.40      0.33      0.30      3600\n",
            "\n",
            "              precision    recall  f1-score   support\n",
            "\n",
            "        ADHD       0.41      0.16      0.23       900\n",
            "     anxiety       0.44      0.17      0.24       900\n",
            "      autism       0.29      0.78      0.42       900\n",
            "  depression       0.49      0.24      0.32       900\n",
            "\n",
            "    accuracy                           0.34      3600\n",
            "   macro avg       0.40      0.34      0.30      3600\n",
            "weighted avg       0.40      0.34      0.30      3600\n",
            "\n"
          ]
        }
      ],
      "source": [
        "print(classification_report(y_test, rf1_pred))\n",
        "print(classification_report(y_test, rf2_pred))\n",
        "print(classification_report(y_test, rf3_pred))"
      ]
    },
    {
      "cell_type": "markdown",
      "metadata": {
        "id": "CGC3lHH_j1ZV"
      },
      "source": [
        "# Result\n",
        "rf3 gave the optimal prdiction having **n_estimators**=100, and **max_depth**=None"
      ]
    },
    {
      "cell_type": "markdown",
      "source": [
        "## Support Vector Machine  Pipeline"
      ],
      "metadata": {
        "id": "dZLiwQO2ZZRI"
      }
    },
    {
      "cell_type": "code",
      "source": [
        "svm = SVC()\n",
        "svm_model = svm.fit(X_train, y_train.values.ravel())\n",
        "\n",
        "# Prediction with Test data\n",
        "y_pred_svm = svm_model.predict(X_test)"
      ],
      "metadata": {
        "id": "W-4yJN8MaQCD"
      },
      "execution_count": null,
      "outputs": []
    },
    {
      "cell_type": "code",
      "source": [
        "print(classification_report(y_test, y_pred_svm))"
      ],
      "metadata": {
        "id": "Uo-oA__2ahYf",
        "colab": {
          "base_uri": "https://localhost:8080/"
        },
        "outputId": "21e7b9d7-b5ce-43ed-e6eb-467f2f9ee84e"
      },
      "execution_count": null,
      "outputs": [
        {
          "output_type": "stream",
          "name": "stdout",
          "text": [
            "              precision    recall  f1-score   support\n",
            "\n",
            "   With ADHD       0.64      0.38      0.48       980\n",
            "Without ADHD       0.56      0.78      0.65       980\n",
            "\n",
            "    accuracy                           0.58      1960\n",
            "   macro avg       0.60      0.58      0.57      1960\n",
            "weighted avg       0.60      0.58      0.57      1960\n",
            "\n"
          ]
        }
      ]
    },
    {
      "cell_type": "code",
      "source": [
        "cf_matrix = confusion_matrix(y_test, y_pred_svm)\n",
        "print(confusion_matrix(y_test, y_pred_svm))\n",
        "sns.heatmap(cf_matrix/np.sum(cf_matrix), annot=True, fmt='.2%')"
      ],
      "metadata": {
        "colab": {
          "base_uri": "https://localhost:8080/",
          "height": 317
        },
        "id": "h30tcBtcIGgm",
        "outputId": "eb780e07-e8ab-4e01-ff3b-bcfe9b2e0b26"
      },
      "execution_count": null,
      "outputs": [
        {
          "output_type": "stream",
          "name": "stdout",
          "text": [
            "[[377 603]\n",
            " [216 764]]\n"
          ]
        },
        {
          "output_type": "execute_result",
          "data": {
            "text/plain": [
              "<matplotlib.axes._subplots.AxesSubplot at 0x7fd2fb984c50>"
            ]
          },
          "metadata": {},
          "execution_count": 41
        },
        {
          "output_type": "display_data",
          "data": {
            "text/plain": [
              "<Figure size 432x288 with 2 Axes>"
            ],
            "image/png": "[encoded data removed]"
          },
          "metadata": {
            "needs_background": "light"
          }
        }
      ]
    },
    {
      "cell_type": "markdown",
      "source": [
        "## Naive Bayes Pipeline"
      ],
      "metadata": {
        "id": "tuxoWMc1sxyP"
      }
    },
    {
      "cell_type": "code",
      "source": [
        "nb = MultinomialNB()\n",
        "nb_model = nb.fit(X_train, y_train.values.ravel())\n",
        "\n",
        "# Prediction with Test data\n",
        "y_pred_nb = nb_model.predict(X_test)"
      ],
      "metadata": {
        "id": "RfZyeei4svk-"
      },
      "execution_count": null,
      "outputs": []
    },
    {
      "cell_type": "code",
      "source": [
        "print(classification_report(y_test, y_pred_nb))"
      ],
      "metadata": {
        "colab": {
          "base_uri": "https://localhost:8080/"
        },
        "id": "UtovLeWBtN6X",
        "outputId": "0d1d3ebd-4699-4896-eda3-64d9fc5d0cbb"
      },
      "execution_count": null,
      "outputs": [
        {
          "output_type": "stream",
          "name": "stdout",
          "text": [
            "              precision    recall  f1-score   support\n",
            "\n",
            "   With ADHD       0.53      0.78      0.63       980\n",
            "Without ADHD       0.59      0.32      0.42       980\n",
            "\n",
            "    accuracy                           0.55      1960\n",
            "   macro avg       0.56      0.55      0.52      1960\n",
            "weighted avg       0.56      0.55      0.52      1960\n",
            "\n"
          ]
        }
      ]
    },
    {
      "cell_type": "code",
      "source": [
        "cf_matrix = confusion_matrix(y_test, y_pred_nb)\n",
        "print(confusion_matrix(y_test, y_pred_nb))\n",
        "sns.heatmap(cf_matrix/np.sum(cf_matrix), annot=True, fmt='.2%')\n"
      ],
      "metadata": {
        "colab": {
          "base_uri": "https://localhost:8080/",
          "height": 317
        },
        "id": "Tbis0CXGC0W4",
        "outputId": "24de7df0-44da-46dc-ba82-8892abdea133"
      },
      "execution_count": null,
      "outputs": [
        {
          "output_type": "stream",
          "name": "stdout",
          "text": [
            "[[760 220]\n",
            " [664 316]]\n"
          ]
        },
        {
          "output_type": "execute_result",
          "data": {
            "text/plain": [
              "<matplotlib.axes._subplots.AxesSubplot at 0x7fd2fd8cc610>"
            ]
          },
          "metadata": {},
          "execution_count": 38
        },
        {
          "output_type": "display_data",
          "data": {
            "text/plain": [
              "<Figure size 432x288 with 2 Axes>"
            ],
            "image/png": "[encoded data removed]"
          },
          "metadata": {
            "needs_background": "light"
          }
        }
      ]
    },
    {
      "cell_type": "markdown",
      "metadata": {
        "id": "iam-V26n3rOo"
      },
      "source": [
        "## **Deep Learning Approach**"
      ]
    },
    {
      "cell_type": "code",
      "execution_count": null,
      "metadata": {
        "id": "j4uyE0rT8a5S"
      },
      "outputs": [],
      "source": [
        "#from keras.preprocessing.text import Tokenizer\n",
        "#from tensorflow.keras.preprocessing.sequence import pad_sequences\n",
        "\n",
        "from keras.models import Sequential\n",
        "from keras.layers import LSTM,Dense,Dropout,Embedding,CuDNNLSTM,Bidirectional\n",
        "from keras.preprocessing.text import Tokenizer\n",
        "from keras.preprocessing.sequence import pad_sequences\n",
        "from tqdm import tqdm\n",
        "import matplotlib.pyplot as plt\n",
        "import seaborn as sns\n",
        "%matplotlib inline"
      ]
    },
    {
      "cell_type": "code",
      "execution_count": null,
      "metadata": {
        "id": "i0dcuHsf7rhD",
        "colab": {
          "base_uri": "https://localhost:8080/"
        },
        "outputId": "94f5aae1-f2c3-4e71-eda8-337fad8c5f68"
      },
      "outputs": [
        {
          "output_type": "stream",
          "name": "stderr",
          "text": [
            "/usr/local/lib/python3.7/dist-packages/ipykernel_launcher.py:2: SettingWithCopyWarning: \n",
            "A value is trying to be set on a copy of a slice from a DataFrame\n",
            "\n",
            "See the caveats in the documentation: https://pandas.pydata.org/pandas-docs/stable/user_guide/indexing.html#returning-a-view-versus-a-copy\n",
            "  \n",
            "/usr/local/lib/python3.7/dist-packages/ipykernel_launcher.py:3: SettingWithCopyWarning: \n",
            "A value is trying to be set on a copy of a slice from a DataFrame\n",
            "\n",
            "See the caveats in the documentation: https://pandas.pydata.org/pandas-docs/stable/user_guide/indexing.html#returning-a-view-versus-a-copy\n",
            "  This is separate from the ipykernel package so we can avoid doing imports until\n"
          ]
        }
      ],
      "source": [
        "# Changing class labels to numeric for Recurrent Neural Network\n",
        "mhsu_balanced.label[mhsu_balanced.label == 'With ADHD'] = 1\n",
        "mhsu_balanced.label[mhsu_balanced.label == 'Without ADHD'] = 2\n"
      ]
    },
    {
      "cell_type": "code",
      "execution_count": null,
      "metadata": {
        "id": "d80OhuXZ3uHI"
      },
      "outputs": [],
      "source": [
        "x = mhsu_balanced['clean_text']\n",
        "#y = mhsu_balanced['label']\n",
        "y = np.asarray(mhsu_balanced['label']).astype(np.float32)"
      ]
    },
    {
      "cell_type": "code",
      "execution_count": null,
      "metadata": {
        "id": "pqnGCSxg8GOY",
        "colab": {
          "base_uri": "https://localhost:8080/"
        },
        "outputId": "2eef9a95-fd84-4d7f-b600-8d574b0ac7b6"
      },
      "outputs": [
        {
          "output_type": "execute_result",
          "data": {
            "text/plain": [
              "20207    else feeling especially episode tino not longt...\n",
              "23486    im going airport soon ive postsocial transitio...\n",
              "20655       go meds adhd meds interfere schizophrenia ones\n",
              "23701    hugs better shirtless epic shirts wear top coo...\n",
              "26921    half bar remeron put kids bed type sleep lol g...\n",
              "                               ...                        \n",
              "8289                            saw tour cried immense way\n",
              "33246    please someone help tired using foundation any...\n",
              "1400     not condoning use steroids wondering kind effe...\n",
              "15131    recently life going downhill say since decembe...\n",
              "11869    feel like im worthless like mess everything wo...\n",
              "Name: clean_text, Length: 9800, dtype: object"
            ]
          },
          "metadata": {},
          "execution_count": 32
        }
      ],
      "source": [
        "x"
      ]
    },
    {
      "cell_type": "code",
      "execution_count": null,
      "metadata": {
        "id": "KqRlM4KX8Hno"
      },
      "outputs": [],
      "source": [
        "token = Tokenizer()\n",
        "token.fit_on_texts(x)\n",
        "seq = token.texts_to_sequences(x)"
      ]
    },
    {
      "cell_type": "code",
      "execution_count": null,
      "metadata": {
        "id": "nKwGnBM-8R6V"
      },
      "outputs": [],
      "source": [
        "pad_seq = pad_sequences(seq,maxlen=300)"
      ]
    },
    {
      "cell_type": "code",
      "execution_count": null,
      "metadata": {
        "id": "waJkj5Ku81xt"
      },
      "outputs": [],
      "source": [
        "vocab_size = len(token.word_index)+1"
      ]
    },
    {
      "cell_type": "code",
      "execution_count": null,
      "metadata": {
        "id": "SBM8Emfz84DI",
        "colab": {
          "base_uri": "https://localhost:8080/"
        },
        "outputId": "347102b3-3ba5-4bc3-cd6e-2a0f676ba018"
      },
      "outputs": [
        {
          "output_type": "stream",
          "name": "stderr",
          "text": [
            "2196018it [02:08, 17072.02it/s]\n"
          ]
        }
      ],
      "source": [
        "embedding_vector = {}\n",
        "f = open('/content/drive/MyDrive/Mindsum/glove.840B.300d.txt')\n",
        "for line in tqdm(f):\n",
        "    value = line.split(' ')\n",
        "    word = value[0]\n",
        "    coef = np.array(value[1:],dtype = 'float32')\n",
        "    embedding_vector[word] = coef"
      ]
    },
    {
      "cell_type": "code",
      "execution_count": null,
      "metadata": {
        "id": "P8wmod0TMhKQ",
        "colab": {
          "base_uri": "https://localhost:8080/"
        },
        "outputId": "eaf79975-b8d4-4c16-83a9-6a0d2d2bff16"
      },
      "outputs": [
        {
          "output_type": "stream",
          "name": "stderr",
          "text": [
            "100%|██████████| 34043/34043 [00:00<00:00, 426698.93it/s]\n"
          ]
        }
      ],
      "source": [
        "embedding_matrix = np.zeros((vocab_size,300))\n",
        "for word,i in tqdm(token.word_index.items()):\n",
        "    embedding_value = embedding_vector.get(word)\n",
        "    if embedding_value is not None:\n",
        "        embedding_matrix[i] = embedding_value"
      ]
    },
    {
      "cell_type": "code",
      "execution_count": null,
      "metadata": {
        "id": "X5L-msAxNYVS",
        "colab": {
          "base_uri": "https://localhost:8080/"
        },
        "outputId": "a2985211-b2ec-4fa1-d4bb-a9fe125f02fd"
      },
      "outputs": [
        {
          "output_type": "stream",
          "name": "stdout",
          "text": [
            "Epoch 1/10\n",
            "31/31 [==============================] - 11s 65ms/step - loss: -0.2453 - accuracy: 0.5801 - val_loss: -5.7485 - val_accuracy: 0.0000e+00\n",
            "Epoch 2/10\n",
            "31/31 [==============================] - 1s 35ms/step - loss: -4.6514 - accuracy: 0.6250 - val_loss: -20.9326 - val_accuracy: 0.0000e+00\n",
            "Epoch 3/10\n",
            "31/31 [==============================] - 1s 35ms/step - loss: -11.4882 - accuracy: 0.6250 - val_loss: -41.7973 - val_accuracy: 0.0000e+00\n",
            "Epoch 4/10\n",
            "31/31 [==============================] - 1s 35ms/step - loss: -19.8733 - accuracy: 0.6250 - val_loss: -65.9783 - val_accuracy: 0.0000e+00\n",
            "Epoch 5/10\n",
            "31/31 [==============================] - 1s 35ms/step - loss: -29.6662 - accuracy: 0.6250 - val_loss: -93.9689 - val_accuracy: 0.0000e+00\n",
            "Epoch 6/10\n",
            "31/31 [==============================] - 1s 36ms/step - loss: -40.9610 - accuracy: 0.6250 - val_loss: -126.5893 - val_accuracy: 0.0000e+00\n",
            "Epoch 7/10\n",
            "31/31 [==============================] - 1s 35ms/step - loss: -53.9096 - accuracy: 0.6250 - val_loss: -163.3401 - val_accuracy: 0.0000e+00\n",
            "Epoch 8/10\n",
            "31/31 [==============================] - 1s 35ms/step - loss: -68.5490 - accuracy: 0.6250 - val_loss: -204.4493 - val_accuracy: 0.0000e+00\n",
            "Epoch 9/10\n",
            "31/31 [==============================] - 1s 36ms/step - loss: -84.7617 - accuracy: 0.6250 - val_loss: -250.5579 - val_accuracy: 0.0000e+00\n",
            "Epoch 10/10\n",
            "31/31 [==============================] - 1s 36ms/step - loss: -102.7726 - accuracy: 0.6250 - val_loss: -300.6242 - val_accuracy: 0.0000e+00\n"
          ]
        }
      ],
      "source": [
        "model = Sequential()\n",
        "model.add(Embedding(vocab_size,300,weights = [embedding_matrix],input_length=300,trainable = False))\n",
        "model.add(Bidirectional(LSTM(32, dropout= 0, recurrent_dropout=0)))\n",
        "#model.add(LSTM(32, dropout= 0, recurrent_dropout=0))\n",
        "model.add(Dense(32,activation = 'relu'))\n",
        "model.add(Dense(1,activation = 'sigmoid'))\n",
        "model.compile(optimizer='adam',loss='binary_crossentropy',metrics = ['accuracy'])\n",
        "history = model.fit(pad_seq,y,epochs = 10,batch_size=256,validation_split=0.2)"
      ]
    },
    {
      "cell_type": "markdown",
      "metadata": {
        "id": "sdXuIhR9eUlz"
      },
      "source": [
        "RNN Accuracy ---> 62.50%"
      ]
    },
    {
      "cell_type": "markdown",
      "source": [
        "## **Ensemble Building**\n",
        "\n"
      ],
      "metadata": {
        "id": "92-T6W2HujTY"
      }
    },
    {
      "cell_type": "code",
      "execution_count": null,
      "metadata": {
        "id": "CRO_SusdUHC4"
      },
      "outputs": [],
      "source": [
        "from nltk.metrics.scores import accuracy\n",
        "import time\n",
        "bag_model = BaggingClassifier()\n",
        "\n",
        "start = time.ctime()\n",
        "\n",
        "cv = RepeatedStratifiedKFold(n_splits=5, n_repeats=2, random_state=42)\n",
        "score = cross_val_score(bag_model, X_train, y_train, scoring=\"accuracy\", cv=cv, n_jobs=-1)\n",
        "print(f\"Mean Accuracy: {np.mean(score):.3f}\\nRun time:{(time() - start): .3f}s\")\n",
        "\n",
        "\n"
      ]
    },
    {
      "cell_type": "code",
      "source": [
        "from sklearn.tree import DecisionTreeClassifier\n",
        "\n",
        "tree = DecisionTreeClassifier(random_state = 0)\n",
        "# fitting the model\n",
        "tree = tree.fit(X_train, y_train)\n",
        "# Predicting the training set\n",
        "y_train_pred = tree.predict(X_train)\n",
        "# Predicting the test set\n",
        "y_test_pred = tree.predict(X_test)\n",
        "\n",
        "\n",
        "print(accuracy_score(y_train, y_train_pred))\n",
        "print(accuracy_score(y_test, y_test_pred))\n"
      ],
      "metadata": {
        "colab": {
          "base_uri": "https://localhost:8080/"
        },
        "id": "J6g8cPEVns4t",
        "outputId": "91cdd1ef-6567-4910-b8f1-12f3e7ffcbe1"
      },
      "execution_count": null,
      "outputs": [
        {
          "output_type": "stream",
          "name": "stdout",
          "text": [
            "0.5302777777777777\n",
            "0.3175\n"
          ]
        }
      ]
    },
    {
      "cell_type": "code",
      "source": [
        "print(classification_report(y_train, y_train_pred))\n",
        "print(classification_report(y_test, y_test_pred))"
      ],
      "metadata": {
        "colab": {
          "base_uri": "https://localhost:8080/"
        },
        "id": "euhUNpBAKpFA",
        "outputId": "a55d2f12-a2a0-441e-9fa8-ba7e9a5dbbe4"
      },
      "execution_count": null,
      "outputs": [
        {
          "output_type": "stream",
          "name": "stdout",
          "text": [
            "              precision    recall  f1-score   support\n",
            "\n",
            "        ADHD       0.83      0.39      0.53      3600\n",
            "     anxiety       0.90      0.37      0.52      3600\n",
            "      autism       0.35      0.96      0.52      3600\n",
            "  depression       0.98      0.40      0.57      3600\n",
            "\n",
            "    accuracy                           0.53     14400\n",
            "   macro avg       0.77      0.53      0.54     14400\n",
            "weighted avg       0.77      0.53      0.54     14400\n",
            "\n",
            "              precision    recall  f1-score   support\n",
            "\n",
            "        ADHD       0.39      0.14      0.21       900\n",
            "     anxiety       0.42      0.13      0.20       900\n",
            "      autism       0.28      0.81      0.41       900\n",
            "  depression       0.48      0.18      0.27       900\n",
            "\n",
            "    accuracy                           0.32      3600\n",
            "   macro avg       0.39      0.32      0.27      3600\n",
            "weighted avg       0.39      0.32      0.27      3600\n",
            "\n"
          ]
        }
      ]
    },
    {
      "cell_type": "code",
      "source": [
        "BaggingClassifier().get_params()"
      ],
      "metadata": {
        "colab": {
          "base_uri": "https://localhost:8080/"
        },
        "id": "zL-Zs3CENAS6",
        "outputId": "eb37e5bd-ab49-4ed8-ef43-644ddfde6271"
      },
      "execution_count": null,
      "outputs": [
        {
          "output_type": "execute_result",
          "data": {
            "text/plain": [
              "{'base_estimator': None,\n",
              " 'bootstrap': True,\n",
              " 'bootstrap_features': False,\n",
              " 'max_features': 1.0,\n",
              " 'max_samples': 1.0,\n",
              " 'n_estimators': 10,\n",
              " 'n_jobs': None,\n",
              " 'oob_score': False,\n",
              " 'random_state': None,\n",
              " 'verbose': 0,\n",
              " 'warm_start': False}"
            ]
          },
          "metadata": {},
          "execution_count": 31
        }
      ]
    },
    {
      "cell_type": "code",
      "source": [
        "from sklearn.ensemble import BaggingClassifier\n",
        "\n",
        "bag_model = BaggingClassifier(\n",
        "          base_estimator=LogisticRegression(),\n",
        "          n_estimators=100,\n",
        "          random_state=0)\n",
        "\n",
        "bag_model.fit(X_train, y_train.values.ravel())\n",
        "\n",
        "# Predicting the training set\n",
        "y_train_bag = bag_model.predict(X_train)\n",
        "# Predicting the test set\n",
        "y_test_bag = bag_model.predict(X_test)\n",
        "\n",
        "accuracy_score(y_train, y_train_bag)\n",
        "accuracy_score(y_test, y_test_bag)"
      ],
      "metadata": {
        "id": "qF11jiMVej7p",
        "colab": {
          "base_uri": "https://localhost:8080/"
        },
        "outputId": "cef222da-e2d0-46b4-e01a-f1d18782d16f"
      },
      "execution_count": null,
      "outputs": [
        {
          "output_type": "execute_result",
          "data": {
            "text/plain": [
              "0.5785714285714286"
            ]
          },
          "metadata": {},
          "execution_count": 42
        }
      ]
    },
    {
      "cell_type": "code",
      "source": [
        "print(classification_report(y_test, y_test_bag))"
      ],
      "metadata": {
        "id": "nWx0UVushZwc",
        "colab": {
          "base_uri": "https://localhost:8080/"
        },
        "outputId": "2afa5170-21bc-45cc-aa3f-79e270aa11cf"
      },
      "execution_count": null,
      "outputs": [
        {
          "output_type": "stream",
          "name": "stdout",
          "text": [
            "              precision    recall  f1-score   support\n",
            "\n",
            "   With ADHD       0.66      0.32      0.43       980\n",
            "Without ADHD       0.55      0.84      0.67       980\n",
            "\n",
            "    accuracy                           0.58      1960\n",
            "   macro avg       0.61      0.58      0.55      1960\n",
            "weighted avg       0.61      0.58      0.55      1960\n",
            "\n"
          ]
        }
      ]
    },
    {
      "cell_type": "code",
      "source": [
        "cf_matrix = confusion_matrix(y_test, y_test_bag)\n",
        "print(confusion_matrix(y_test, y_test_bag))\n",
        "sns.heatmap(cf_matrix/np.sum(cf_matrix), annot=True, fmt='.2%')"
      ],
      "metadata": {
        "colab": {
          "base_uri": "https://localhost:8080/",
          "height": 317
        },
        "id": "U0AihEd3AiH1",
        "outputId": "e880929f-3b30-4e1e-d6d6-01e1d60156bf"
      },
      "execution_count": null,
      "outputs": [
        {
          "output_type": "stream",
          "name": "stdout",
          "text": [
            "[[314 666]\n",
            " [160 820]]\n"
          ]
        },
        {
          "output_type": "execute_result",
          "data": {
            "text/plain": [
              "<matplotlib.axes._subplots.AxesSubplot at 0x7fd2ff1fc4d0>"
            ]
          },
          "metadata": {},
          "execution_count": 44
        },
        {
          "output_type": "display_data",
          "data": {
            "text/plain": [
              "<Figure size 432x288 with 2 Axes>"
            ],
            "image/png": "[encoded data removed]"
          },
          "metadata": {
            "needs_background": "light"
          }
        }
      ]
    },
    {
      "cell_type": "code",
      "source": [
        "from sklearn.ensemble import BaggingClassifier\n",
        "\n",
        "bag_model = BaggingClassifier(\n",
        "          base_estimator=nb_model,\n",
        "          n_estimators=100,\n",
        "          random_state=0)\n",
        "\n",
        "bag_model.fit(X_train, y_train.values.ravel())\n",
        "\n",
        "# Predicting the training set\n",
        "y_train_bag = bag_model.predict(X_train)\n",
        "# Predicting the test set\n",
        "y_test_bag = bag_model.predict(X_test)\n",
        "\n",
        "accuracy_score(y_train, y_train_bag)\n",
        "accuracy_score(y_test, y_test_bag)"
      ],
      "metadata": {
        "colab": {
          "base_uri": "https://localhost:8080/"
        },
        "id": "SzGcckcCBWn5",
        "outputId": "aad2e465-4b36-4efa-cb3b-b1309551300c"
      },
      "execution_count": null,
      "outputs": [
        {
          "output_type": "execute_result",
          "data": {
            "text/plain": [
              "0.33611111111111114"
            ]
          },
          "metadata": {},
          "execution_count": 36
        }
      ]
    },
    {
      "cell_type": "code",
      "source": [
        "print(classification_report(y_test, y_test_bag))"
      ],
      "metadata": {
        "colab": {
          "base_uri": "https://localhost:8080/"
        },
        "id": "lzBqH9M5JpYF",
        "outputId": "6e68fc44-bea2-4c25-8df3-059764aead62"
      },
      "execution_count": null,
      "outputs": [
        {
          "output_type": "stream",
          "name": "stdout",
          "text": [
            "              precision    recall  f1-score   support\n",
            "\n",
            "        ADHD       0.28      0.77      0.41       900\n",
            "     anxiety       0.43      0.17      0.24       900\n",
            "      autism       0.46      0.16      0.24       900\n",
            "  depression       0.52      0.25      0.33       900\n",
            "\n",
            "    accuracy                           0.34      3600\n",
            "   macro avg       0.42      0.34      0.31      3600\n",
            "weighted avg       0.42      0.34      0.31      3600\n",
            "\n"
          ]
        }
      ]
    },
    {
      "cell_type": "code",
      "source": [
        "confusion_matrix(y_test, y_test_bag)"
      ],
      "metadata": {
        "colab": {
          "base_uri": "https://localhost:8080/"
        },
        "id": "AaOsp9w-JqHc",
        "outputId": "7e2bb44a-caa4-4ace-fa64-4f1b7890f959"
      },
      "execution_count": null,
      "outputs": [
        {
          "output_type": "execute_result",
          "data": {
            "text/plain": [
              "array([[691,  68,  71,  70],\n",
              "       [615, 150,  58,  77],\n",
              "       [627,  64, 146,  63],\n",
              "       [566,  69,  42, 223]])"
            ]
          },
          "metadata": {},
          "execution_count": 38
        }
      ]
    },
    {
      "cell_type": "code",
      "source": [
        "from sklearn.ensemble import BaggingClassifier\n",
        "\n",
        "bag_model = BaggingClassifier(\n",
        "          base_estimator=RandomForestClassifier(),\n",
        "          n_estimators=100,\n",
        "          random_state=0)\n",
        "\n",
        "bag_model.fit(X_train, y_train.values.ravel())\n",
        "\n",
        "# Predicting the training set\n",
        "y_train_bag = bag_model.predict(X_train)\n",
        "# Predicting the test set\n",
        "y_test_bag = bag_model.predict(X_test)\n",
        "\n",
        "accuracy_score(y_train, y_train_bag)\n",
        "accuracy_score(y_test, y_test_bag)"
      ],
      "metadata": {
        "id": "hmuUUcp4KbUS",
        "colab": {
          "base_uri": "https://localhost:8080/"
        },
        "outputId": "ca8c68c8-7f5f-4ef7-d5f0-29a204679285"
      },
      "execution_count": null,
      "outputs": [
        {
          "output_type": "execute_result",
          "data": {
            "text/plain": [
              "0.5775510204081633"
            ]
          },
          "metadata": {},
          "execution_count": 45
        }
      ]
    },
    {
      "cell_type": "code",
      "source": [
        "print(classification_report(y_test, y_test_bag))"
      ],
      "metadata": {
        "colab": {
          "base_uri": "https://localhost:8080/"
        },
        "id": "vUUgnQu9LgSE",
        "outputId": "68105957-7a73-4f0e-82f4-5e9382bace26"
      },
      "execution_count": null,
      "outputs": [
        {
          "output_type": "stream",
          "name": "stdout",
          "text": [
            "              precision    recall  f1-score   support\n",
            "\n",
            "   With ADHD       0.68      0.30      0.41       980\n",
            "Without ADHD       0.55      0.86      0.67       980\n",
            "\n",
            "    accuracy                           0.58      1960\n",
            "   macro avg       0.61      0.58      0.54      1960\n",
            "weighted avg       0.61      0.58      0.54      1960\n",
            "\n"
          ]
        }
      ]
    },
    {
      "cell_type": "code",
      "source": [
        "cf_matrix = confusion_matrix(y_test, y_test_bag)\n",
        "print(confusion_matrix(y_test, y_test_bag))\n",
        "sns.heatmap(cf_matrix/np.sum(cf_matrix), annot=True, fmt='.2%')"
      ],
      "metadata": {
        "id": "C3P_QqdWPCn7",
        "colab": {
          "base_uri": "https://localhost:8080/",
          "height": 317
        },
        "outputId": "a6bfec08-a44b-4e28-ab2a-5cda1d0f08ab"
      },
      "execution_count": null,
      "outputs": [
        {
          "output_type": "stream",
          "name": "stdout",
          "text": [
            "[[291 689]\n",
            " [139 841]]\n"
          ]
        },
        {
          "output_type": "execute_result",
          "data": {
            "text/plain": [
              "<matplotlib.axes._subplots.AxesSubplot at 0x7fd2fbd0f550>"
            ]
          },
          "metadata": {},
          "execution_count": 47
        },
        {
          "output_type": "display_data",
          "data": {
            "text/plain": [
              "<Figure size 432x288 with 2 Axes>"
            ],
            "image/png": "[encoded data removed]"
          },
          "metadata": {
            "needs_background": "light"
          }
        }
      ]
    }
  ],
  "metadata": {
    "accelerator": "GPU",
    "colab": {
      "provenance": [],
      "collapsed_sections": [
        "dVhm2bh0IVkD",
        "FSAdacXcT5zF",
        "dZLiwQO2ZZRI",
        "tuxoWMc1sxyP",
        "iam-V26n3rOo"
      ]
    },
    "gpuClass": "standard",
    "kernelspec": {
      "display_name": "Python 3",
      "name": "python3"
    },
    "language_info": {
      "name": "python"
    }
  },
  "nbformat": 4,
  "nbformat_minor": 0
}