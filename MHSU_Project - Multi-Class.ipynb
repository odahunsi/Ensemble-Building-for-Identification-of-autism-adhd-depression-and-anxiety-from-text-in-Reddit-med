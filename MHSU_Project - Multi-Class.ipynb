{
  "cells": [
    {
      "cell_type": "markdown",
      "source": [
        "## Scraping from Reddit with Reddit API"
      ],
      "metadata": {
        "id": "tJenoDoIrEz_"
      }
    },
    {
      "cell_type": "code",
      "source": [
        "!pip install praw"
      ],
      "metadata": {
        "colab": {
          "base_uri": "https://localhost:8080/"
        },
        "id": "ZaX94zVEnU8e",
        "outputId": "f995283d-b6b7-48bb-bf4b-4723c687fdd3"
      },
      "execution_count": null,
      "outputs": [
        {
          "output_type": "stream",
          "name": "stdout",
          "text": [
            "Looking in indexes: https://pypi.org/simple, https://us-python.pkg.dev/colab-wheels/public/simple/\n",
            "Collecting praw\n",
            "  Downloading praw-7.6.0-py3-none-any.whl (188 kB)\n",
            "\u001b[K     |████████████████████████████████| 188 kB 7.5 MB/s \n",
            "\u001b[?25hCollecting websocket-client>=0.54.0\n",
            "  Downloading websocket_client-1.4.1-py3-none-any.whl (55 kB)\n",
            "\u001b[K     |████████████████████████████████| 55 kB 3.8 MB/s \n",
            "\u001b[?25hCollecting update-checker>=0.18\n",
            "  Downloading update_checker-0.18.0-py3-none-any.whl (7.0 kB)\n",
            "Collecting prawcore<3,>=2.1\n",
            "  Downloading prawcore-2.3.0-py3-none-any.whl (16 kB)\n",
            "Requirement already satisfied: requests<3.0,>=2.6.0 in /usr/local/lib/python3.7/dist-packages (from prawcore<3,>=2.1->praw) (2.23.0)\n",
            "Requirement already satisfied: chardet<4,>=3.0.2 in /usr/local/lib/python3.7/dist-packages (from requests<3.0,>=2.6.0->prawcore<3,>=2.1->praw) (3.0.4)\n",
            "Requirement already satisfied: certifi>=2017.4.17 in /usr/local/lib/python3.7/dist-packages (from requests<3.0,>=2.6.0->prawcore<3,>=2.1->praw) (2022.6.15)\n",
            "Requirement already satisfied: urllib3!=1.25.0,!=1.25.1,<1.26,>=1.21.1 in /usr/local/lib/python3.7/dist-packages (from requests<3.0,>=2.6.0->prawcore<3,>=2.1->praw) (1.24.3)\n",
            "Requirement already satisfied: idna<3,>=2.5 in /usr/local/lib/python3.7/dist-packages (from requests<3.0,>=2.6.0->prawcore<3,>=2.1->praw) (2.10)\n",
            "Installing collected packages: websocket-client, update-checker, prawcore, praw\n",
            "Successfully installed praw-7.6.0 prawcore-2.3.0 update-checker-0.18.0 websocket-client-1.4.1\n"
          ]
        }
      ]
    },
    {
      "cell_type": "code",
      "source": [
        "import praw\n",
        "import pandas as pd\n",
        "\n",
        "user_agent = \"Resddit Scraper by /u/tobbydah\"\n",
        "reddit = praw.Reddit(\n",
        "    client_id = \"xxxxxxxx\",\n",
        "    client_secret = \"xxxxxxxxxxxx\",\n",
        "    user_agent = user_agent\n",
        ")"
      ],
      "metadata": {
        "id": "_09qxy-pnvyZ"
      },
      "execution_count": null,
      "outputs": []
    },
    {
      "cell_type": "code",
      "source": [
        "# hot new rising top\n",
        "import pandas as pd\n",
        "headlines = []\n",
        "\n",
        "# Scraping subreddit for Autism\n",
        "for submission in reddit.subreddit('autism').hot(limit=None):\n",
        "    headlines.append([submission.title, submission.score, submission.id, submission.author, submission.subreddit, \n",
        "                      submission.url, submission.num_comments, submission.selftext, submission.created, submission.created_utc])\n",
        "\n",
        "autism_df = pd.DataFrame(headlines, \n",
        "                         columns=['title', 'score', 'id', 'author', 'subreddit', 'url', 'num_comments', 'body', 'created', 'created_utc'])\n",
        "\n",
        "# Scraping subreddit for Depression\n",
        "for submission in reddit.subreddit('depression').hot(limit=None):\n",
        "    headlines.append([submission.title, submission.score, submission.id, submission.author, submission.subreddit, \n",
        "                      submission.url, submission.num_comments, submission.selftext, submission.created, submission.created_utc])\n",
        "\n",
        "depression_df = pd.DataFrame(headlines, \n",
        "                         columns=['title', 'score', 'id', 'author', 'subreddit', 'url', 'num_comments', 'body', 'created', 'created_utc'])\n",
        "\n",
        "# Scraping subreddit for ADHD\n",
        "for submission in reddit.subreddit('ADHD').hot(limit=None):\n",
        "    headlines.append([submission.title, submission.score, submission.id, submission.author, submission.subreddit, \n",
        "                      submission.url, submission.num_comments, submission.selftext, submission.created, submission.created_utc])\n",
        "\n",
        "adhd_df = pd.DataFrame(headlines, \n",
        "                         columns=['title', 'score', 'id', 'author', 'subreddit', 'url', 'num_comments', 'body', 'created', 'created_utc'])\n",
        "\n",
        "# Scraping subreddit for Anxiety\n",
        "for submission in reddit.subreddit('anxiety').hot(limit=None):\n",
        "    headlines.append([submission.title, submission.score, submission.id, submission.author, submission.subreddit, \n",
        "                      submission.url, submission.num_comments, submission.selftext, submission.created, submission.created_utc])\n",
        "\n",
        "anxiety_df = pd.DataFrame(headlines, \n",
        "                         columns=['title', 'score', 'id', 'author', 'subreddit', 'url', 'num_comments', 'body', 'created', 'created_utc'])\n",
        "\n",
        "\n",
        "#Joining the four subreddits and saving data to a single CSV\n",
        "mental_health_categories = pd.concat([autism_df, adhd_df, anxiety_df, depression_df])\n",
        "#mental_health_categories.to_csv('C:/Users/USER/Downloads/Data Science/MindSum/Reddit Dataset/mental_health_categories_new4.csv', header=True, encoding='utf-8', index=False)\n",
        "\n",
        "#print(len(headlines))"
      ],
      "metadata": {
        "id": "0aqSgIpxnxtq"
      },
      "execution_count": null,
      "outputs": []
    },
    {
      "cell_type": "code",
      "source": [
        "mental_health_categories"
      ],
      "metadata": {
        "colab": {
          "base_uri": "https://localhost:8080/",
          "height": 1000
        },
        "id": "eie32YAxokz7",
        "outputId": "0ab5aa1a-fe2b-4c28-debe-92610c023565"
      },
      "execution_count": null,
      "outputs": [
        {
          "output_type": "execute_result",
          "data": {
            "text/plain": [
              "                                                  title  score      id  \\\n",
              "0     Let’s talk about ABA therapy. ABA posts outsid...    740  ub3skp   \n",
              "1                                 Same Food Saturdays !     14  xgfgbg   \n",
              "2     What foods are like this to you guys? To me, i...   1654  xgrgte   \n",
              "3     Got to a point where the walls were shaking fr...    760  xgxevr   \n",
              "4                                          masking meme    113  xh2hz6   \n",
              "...                                                 ...    ...     ...   \n",
              "1957                       life is an everyday struggle      1  xe07a1   \n",
              "1958                                     very depressed      1  xe05x5   \n",
              "1959                                         How to cry      1  xdzvx1   \n",
              "1960                          aw shit, here we go again      1  xdzp3n   \n",
              "1961                                  i want to be done      3  xdrmo2   \n",
              "\n",
              "                 author   subreddit  \\\n",
              "0          cakeisatruth      autism   \n",
              "1            sybersonic      autism   \n",
              "2         Dimentiorules      autism   \n",
              "3              jwin1211      autism   \n",
              "4        RestlessMind95      autism   \n",
              "...                 ...         ...   \n",
              "1957            _Ithri_  depression   \n",
              "1958      OkBuilder8671  depression   \n",
              "1959          applirium  depression   \n",
              "1960  scream-in-thevoid  depression   \n",
              "1961          locustine  depression   \n",
              "\n",
              "                                                    url  num_comments  \\\n",
              "0     https://www.reddit.com/r/autism/comments/ub3sk...          1106   \n",
              "1     https://www.reddit.com/r/autism/comments/xgfgb...            18   \n",
              "2                   https://i.redd.it/enzbkhes7go91.jpg           476   \n",
              "3                   https://i.redd.it/qa4pljsufho91.jpg           101   \n",
              "4                   https://i.redd.it/pju3zwq6kio91.jpg             3   \n",
              "...                                                 ...           ...   \n",
              "1957  https://www.reddit.com/r/depression/comments/x...             1   \n",
              "1958  https://www.reddit.com/r/depression/comments/x...             0   \n",
              "1959  https://www.reddit.com/r/depression/comments/x...             0   \n",
              "1960  https://www.reddit.com/r/depression/comments/x...             0   \n",
              "1961  https://www.reddit.com/r/depression/comments/x...             3   \n",
              "\n",
              "                                                   body       created  \\\n",
              "0     ABA (Applied Behavior Analysis) therapy is one...  1.650833e+09   \n",
              "1     Most of us  consistency love consistency. Shar...  1.663398e+09   \n",
              "2                                                        1.663433e+09   \n",
              "3                                                        1.663448e+09   \n",
              "4                                                        1.663462e+09   \n",
              "...                                                 ...           ...   \n",
              "1957  Hey all, just wanted to share a bit what I'm g...  1.663157e+09   \n",
              "1958  Hello guys I wish to die tonight. \\nThis life ...  1.663157e+09   \n",
              "1959  I am asking for help, want to cry but i cannot...  1.663156e+09   \n",
              "1960  wish I had one day I could wake up and not hav...  1.663156e+09   \n",
              "1961  I don't want to keep posting how i feel yet i ...  1.663127e+09   \n",
              "\n",
              "       created_utc  \n",
              "0     1.650833e+09  \n",
              "1     1.663398e+09  \n",
              "2     1.663433e+09  \n",
              "3     1.663448e+09  \n",
              "4     1.663462e+09  \n",
              "...            ...  \n",
              "1957  1.663157e+09  \n",
              "1958  1.663157e+09  \n",
              "1959  1.663156e+09  \n",
              "1960  1.663156e+09  \n",
              "1961  1.663127e+09  \n",
              "\n",
              "[9472 rows x 10 columns]"
            ],
            "text/html": [
              "\n",
              "  <div id=\"df-a6fe77fb-7beb-43a2-8849-b7d7208d2ac8\">\n",
              "    <div class=\"colab-df-container\">\n",
              "      <div>\n",
              "<style scoped>\n",
              "    .dataframe tbody tr th:only-of-type {\n",
              "        vertical-align: middle;\n",
              "    }\n",
              "\n",
              "    .dataframe tbody tr th {\n",
              "        vertical-align: top;\n",
              "    }\n",
              "\n",
              "    .dataframe thead th {\n",
              "        text-align: right;\n",
              "    }\n",
              "</style>\n",
              "<table border=\"1\" class=\"dataframe\">\n",
              "  <thead>\n",
              "    <tr style=\"text-align: right;\">\n",
              "      <th></th>\n",
              "      <th>title</th>\n",
              "      <th>score</th>\n",
              "      <th>id</th>\n",
              "      <th>author</th>\n",
              "      <th>subreddit</th>\n",
              "      <th>url</th>\n",
              "      <th>num_comments</th>\n",
              "      <th>body</th>\n",
              "      <th>created</th>\n",
              "      <th>created_utc</th>\n",
              "    </tr>\n",
              "  </thead>\n",
              "  <tbody>\n",
              "    <tr>\n",
              "      <th>0</th>\n",
              "      <td>Let’s talk about ABA therapy. ABA posts outsid...</td>\n",
              "      <td>740</td>\n",
              "      <td>ub3skp</td>\n",
              "      <td>cakeisatruth</td>\n",
              "      <td>autism</td>\n",
              "      <td>https://www.reddit.com/r/autism/comments/ub3sk...</td>\n",
              "      <td>1106</td>\n",
              "      <td>ABA (Applied Behavior Analysis) therapy is one...</td>\n",
              "      <td>1.650833e+09</td>\n",
              "      <td>1.650833e+09</td>\n",
              "    </tr>\n",
              "    <tr>\n",
              "      <th>1</th>\n",
              "      <td>Same Food Saturdays !</td>\n",
              "      <td>14</td>\n",
              "      <td>xgfgbg</td>\n",
              "      <td>sybersonic</td>\n",
              "      <td>autism</td>\n",
              "      <td>https://www.reddit.com/r/autism/comments/xgfgb...</td>\n",
              "      <td>18</td>\n",
              "      <td>Most of us  consistency love consistency. Shar...</td>\n",
              "      <td>1.663398e+09</td>\n",
              "      <td>1.663398e+09</td>\n",
              "    </tr>\n",
              "    <tr>\n",
              "      <th>2</th>\n",
              "      <td>What foods are like this to you guys? To me, i...</td>\n",
              "      <td>1654</td>\n",
              "      <td>xgrgte</td>\n",
              "      <td>Dimentiorules</td>\n",
              "      <td>autism</td>\n",
              "      <td>https://i.redd.it/enzbkhes7go91.jpg</td>\n",
              "      <td>476</td>\n",
              "      <td></td>\n",
              "      <td>1.663433e+09</td>\n",
              "      <td>1.663433e+09</td>\n",
              "    </tr>\n",
              "    <tr>\n",
              "      <th>3</th>\n",
              "      <td>Got to a point where the walls were shaking fr...</td>\n",
              "      <td>760</td>\n",
              "      <td>xgxevr</td>\n",
              "      <td>jwin1211</td>\n",
              "      <td>autism</td>\n",
              "      <td>https://i.redd.it/qa4pljsufho91.jpg</td>\n",
              "      <td>101</td>\n",
              "      <td></td>\n",
              "      <td>1.663448e+09</td>\n",
              "      <td>1.663448e+09</td>\n",
              "    </tr>\n",
              "    <tr>\n",
              "      <th>4</th>\n",
              "      <td>masking meme</td>\n",
              "      <td>113</td>\n",
              "      <td>xh2hz6</td>\n",
              "      <td>RestlessMind95</td>\n",
              "      <td>autism</td>\n",
              "      <td>https://i.redd.it/pju3zwq6kio91.jpg</td>\n",
              "      <td>3</td>\n",
              "      <td></td>\n",
              "      <td>1.663462e+09</td>\n",
              "      <td>1.663462e+09</td>\n",
              "    </tr>\n",
              "    <tr>\n",
              "      <th>...</th>\n",
              "      <td>...</td>\n",
              "      <td>...</td>\n",
              "      <td>...</td>\n",
              "      <td>...</td>\n",
              "      <td>...</td>\n",
              "      <td>...</td>\n",
              "      <td>...</td>\n",
              "      <td>...</td>\n",
              "      <td>...</td>\n",
              "      <td>...</td>\n",
              "    </tr>\n",
              "    <tr>\n",
              "      <th>1957</th>\n",
              "      <td>life is an everyday struggle</td>\n",
              "      <td>1</td>\n",
              "      <td>xe07a1</td>\n",
              "      <td>_Ithri_</td>\n",
              "      <td>depression</td>\n",
              "      <td>https://www.reddit.com/r/depression/comments/x...</td>\n",
              "      <td>1</td>\n",
              "      <td>Hey all, just wanted to share a bit what I'm g...</td>\n",
              "      <td>1.663157e+09</td>\n",
              "      <td>1.663157e+09</td>\n",
              "    </tr>\n",
              "    <tr>\n",
              "      <th>1958</th>\n",
              "      <td>very depressed</td>\n",
              "      <td>1</td>\n",
              "      <td>xe05x5</td>\n",
              "      <td>OkBuilder8671</td>\n",
              "      <td>depression</td>\n",
              "      <td>https://www.reddit.com/r/depression/comments/x...</td>\n",
              "      <td>0</td>\n",
              "      <td>Hello guys I wish to die tonight. \\nThis life ...</td>\n",
              "      <td>1.663157e+09</td>\n",
              "      <td>1.663157e+09</td>\n",
              "    </tr>\n",
              "    <tr>\n",
              "      <th>1959</th>\n",
              "      <td>How to cry</td>\n",
              "      <td>1</td>\n",
              "      <td>xdzvx1</td>\n",
              "      <td>applirium</td>\n",
              "      <td>depression</td>\n",
              "      <td>https://www.reddit.com/r/depression/comments/x...</td>\n",
              "      <td>0</td>\n",
              "      <td>I am asking for help, want to cry but i cannot...</td>\n",
              "      <td>1.663156e+09</td>\n",
              "      <td>1.663156e+09</td>\n",
              "    </tr>\n",
              "    <tr>\n",
              "      <th>1960</th>\n",
              "      <td>aw shit, here we go again</td>\n",
              "      <td>1</td>\n",
              "      <td>xdzp3n</td>\n",
              "      <td>scream-in-thevoid</td>\n",
              "      <td>depression</td>\n",
              "      <td>https://www.reddit.com/r/depression/comments/x...</td>\n",
              "      <td>0</td>\n",
              "      <td>wish I had one day I could wake up and not hav...</td>\n",
              "      <td>1.663156e+09</td>\n",
              "      <td>1.663156e+09</td>\n",
              "    </tr>\n",
              "    <tr>\n",
              "      <th>1961</th>\n",
              "      <td>i want to be done</td>\n",
              "      <td>3</td>\n",
              "      <td>xdrmo2</td>\n",
              "      <td>locustine</td>\n",
              "      <td>depression</td>\n",
              "      <td>https://www.reddit.com/r/depression/comments/x...</td>\n",
              "      <td>3</td>\n",
              "      <td>I don't want to keep posting how i feel yet i ...</td>\n",
              "      <td>1.663127e+09</td>\n",
              "      <td>1.663127e+09</td>\n",
              "    </tr>\n",
              "  </tbody>\n",
              "</table>\n",
              "<p>9472 rows × 10 columns</p>\n",
              "</div>\n",
              "      <button class=\"colab-df-convert\" onclick=\"convertToInteractive('df-a6fe77fb-7beb-43a2-8849-b7d7208d2ac8')\"\n",
              "              title=\"Convert this dataframe to an interactive table.\"\n",
              "              style=\"display:none;\">\n",
              "        \n",
              "  <svg xmlns=\"http://www.w3.org/2000/svg\" height=\"24px\"viewBox=\"0 0 24 24\"\n",
              "       width=\"24px\">\n",
              "    <path d=\"M0 0h24v24H0V0z\" fill=\"none\"/>\n",
              "    <path d=\"M18.56 5.44l.94 2.06.94-2.06 2.06-.94-2.06-.94-.94-2.06-.94 2.06-2.06.94zm-11 1L8.5 8.5l.94-2.06 2.06-.94-2.06-.94L8.5 2.5l-.94 2.06-2.06.94zm10 10l.94 2.06.94-2.06 2.06-.94-2.06-.94-.94-2.06-.94 2.06-2.06.94z\"/><path d=\"M17.41 7.96l-1.37-1.37c-.4-.4-.92-.59-1.43-.59-.52 0-1.04.2-1.43.59L10.3 9.45l-7.72 7.72c-.78.78-.78 2.05 0 2.83L4 21.41c.39.39.9.59 1.41.59.51 0 1.02-.2 1.41-.59l7.78-7.78 2.81-2.81c.8-.78.8-2.07 0-2.86zM5.41 20L4 18.59l7.72-7.72 1.47 1.35L5.41 20z\"/>\n",
              "  </svg>\n",
              "      </button>\n",
              "      \n",
              "  <style>\n",
              "    .colab-df-container {\n",
              "      display:flex;\n",
              "      flex-wrap:wrap;\n",
              "      gap: 12px;\n",
              "    }\n",
              "\n",
              "    .colab-df-convert {\n",
              "      background-color: #E8F0FE;\n",
              "      border: none;\n",
              "      border-radius: 50%;\n",
              "      cursor: pointer;\n",
              "      display: none;\n",
              "      fill: #1967D2;\n",
              "      height: 32px;\n",
              "      padding: 0 0 0 0;\n",
              "      width: 32px;\n",
              "    }\n",
              "\n",
              "    .colab-df-convert:hover {\n",
              "      background-color: #E2EBFA;\n",
              "      box-shadow: 0px 1px 2px rgba(60, 64, 67, 0.3), 0px 1px 3px 1px rgba(60, 64, 67, 0.15);\n",
              "      fill: #174EA6;\n",
              "    }\n",
              "\n",
              "    [theme=dark] .colab-df-convert {\n",
              "      background-color: #3B4455;\n",
              "      fill: #D2E3FC;\n",
              "    }\n",
              "\n",
              "    [theme=dark] .colab-df-convert:hover {\n",
              "      background-color: #434B5C;\n",
              "      box-shadow: 0px 1px 3px 1px rgba(0, 0, 0, 0.15);\n",
              "      filter: drop-shadow(0px 1px 2px rgba(0, 0, 0, 0.3));\n",
              "      fill: #FFFFFF;\n",
              "    }\n",
              "  </style>\n",
              "\n",
              "      <script>\n",
              "        const buttonEl =\n",
              "          document.querySelector('#df-a6fe77fb-7beb-43a2-8849-b7d7208d2ac8 button.colab-df-convert');\n",
              "        buttonEl.style.display =\n",
              "          google.colab.kernel.accessAllowed ? 'block' : 'none';\n",
              "\n",
              "        async function convertToInteractive(key) {\n",
              "          const element = document.querySelector('#df-a6fe77fb-7beb-43a2-8849-b7d7208d2ac8');\n",
              "          const dataTable =\n",
              "            await google.colab.kernel.invokeFunction('convertToInteractive',\n",
              "                                                     [key], {});\n",
              "          if (!dataTable) return;\n",
              "\n",
              "          const docLinkHtml = 'Like what you see? Visit the ' +\n",
              "            '<a target=\"_blank\" href=https://colab.research.google.com/notebooks/data_table.ipynb>data table notebook</a>'\n",
              "            + ' to learn more about interactive tables.';\n",
              "          element.innerHTML = '';\n",
              "          dataTable['output_type'] = 'display_data';\n",
              "          await google.colab.output.renderOutput(dataTable, element);\n",
              "          const docLink = document.createElement('div');\n",
              "          docLink.innerHTML = docLinkHtml;\n",
              "          element.appendChild(docLink);\n",
              "        }\n",
              "      </script>\n",
              "    </div>\n",
              "  </div>\n",
              "  "
            ]
          },
          "metadata": {},
          "execution_count": 5
        }
      ]
    },
    {
      "cell_type": "code",
      "source": [
        "# mental_health_categories['pattern_match'] = mental_health_categories['body'].str.contains('rest of it being useless')\n",
        "# mental_health_categories\n",
        "\n",
        "# Searching using specific key words indicating a post has a form of mental health condition according to insight taken from\n",
        "# mental health symptoms specified in ICD-11 document\n",
        "\n",
        "recent_diagnosis = mental_health_categories[mental_health_categories['body'].str.contains('recently diagnosed')==True]\n",
        "tired_of_life = mental_health_categories[mental_health_categories['body'].str.contains('tired of life')==True]\n",
        "kill_myself = mental_health_categories[mental_health_categories['body'].str.contains('will kill myself')==True]\n",
        "depressed = mental_health_categories[mental_health_categories['body'].str.contains('am depressed')==True]\n",
        "meaningless_life = mental_health_categories[mental_health_categories['body'].str.contains(r'life is meaningless')==True]\n",
        "feeling_sad = mental_health_categories[mental_health_categories['body'].str.contains(r'feeling sad')==True]\n",
        "guilty = mental_health_categories[mental_health_categories['body'].str.contains(r'feel guilty')==True]\n",
        "confused = mental_health_categories[mental_health_categories['body'].str.contains(r'am confused')==True]\n",
        "cannot_sleep = mental_health_categories[mental_health_categories['body'].str.contains(r\"can't sleep\")==True]\n",
        "cannot_understand = mental_health_categories[mental_health_categories['body'].str.contains(r\"can't understand\")==True]\n",
        "worthless = mental_health_categories[mental_health_categories['body'].str.contains(r\"worthless\")==True]\n",
        "traumatized = mental_health_categories[mental_health_categories['body'].str.contains(r\"traumatized\")==True]\n",
        "worry = mental_health_categories[mental_health_categories['body'].str.contains(r\"worried\")==True]\n",
        "anxious = mental_health_categories[mental_health_categories['body'].str.contains(r\"anxious\")==True]\n",
        "ashamed = mental_health_categories[mental_health_categories['body'].str.contains(r\"ashamed\")==True]\n",
        "mental_breakdown = mental_health_categories[mental_health_categories['body'].str.contains(r\"mental breakdown\")==True]\n",
        "lonely = mental_health_categories[mental_health_categories['body'].str.contains(r\"lonely\")==True]\n",
        "hate_myself = mental_health_categories[mental_health_categories['body'].str.contains(r\"I hate myself\")==True]\n",
        "dont_know_want = mental_health_categories[mental_health_categories['body'].str.contains(r\"don’t know what I want\")==True]\n",
        "dont_know = mental_health_categories[mental_health_categories['body'].str.contains(r\"I don’t know\")==True]\n",
        "dont_have = mental_health_categories[mental_health_categories['body'].str.contains(r\"I don’t have\")==True]\n",
        "weird = mental_health_categories[mental_health_categories['body'].str.contains(r\"weird\")==True]\n",
        "dont_have_friends = mental_health_categories[mental_health_categories['body'].str.contains(r\"i dont have any friends\")==True]\n",
        "feel_like = mental_health_categories[mental_health_categories['body'].str.contains(r\"i feel like\")==True]\n",
        "\n",
        "mhsu = pd.concat([recent_diagnosis, tired_of_life, kill_myself, depressed, meaningless_life, feeling_sad, guilty, \\\n",
        "                  confused, cannot_sleep, cannot_understand, worthless, traumatized, worry, anxious, ashamed, \\\n",
        "                 mental_breakdown, lonely, hate_myself, dont_know_want, dont_know, dont_have, weird, dont_have_friends, \\\n",
        "                 feel_like])\n",
        "mhsu.to_csv('C:/Users/USER/Downloads/Data Science/MindSum/Reddit Dataset/mhsu_new.csv', header=True, encoding='utf-8', index=False)\n",
        "mhsu"
      ],
      "metadata": {
        "id": "tQN4lgvOnxxH"
      },
      "execution_count": null,
      "outputs": []
    },
    {
      "cell_type": "markdown",
      "source": [
        "### Scraping for individual user posts\n",
        "\n"
      ],
      "metadata": {
        "id": "aQv3buSspzv0"
      }
    },
    {
      "cell_type": "code",
      "source": [
        "all_autism = mhsu[mhsu['subreddit']=='autism'].author.astype(str).tolist()\n",
        "all_autism = list(dict.fromkeys(all_autism))\n",
        "print('Total Autism post is {}' .format(len(all_autism)))\n",
        "\n",
        "all_depression = mhsu[mhsu['subreddit']=='depression'].author.astype(str).tolist()\n",
        "all_depression = list(dict.fromkeys(all_depression))\n",
        "print('Total Depression post is {}' .format(len(all_depression)))\n",
        "\n",
        "all_adhd = mhsu[mhsu['subreddit']=='ADHD'].author.astype(str).tolist()\n",
        "all_adhd = list(dict.fromkeys(all_adhd))\n",
        "print('Total ADHD post is {}' .format(len(all_adhd)))\n",
        "\n",
        "all_Anxiety = mhsu[mhsu['subreddit']=='Anxiety'].author.astype(str).tolist()\n",
        "all_Anxiety = list(dict.fromkeys(all_Anxiety))\n",
        "print('Total Anxiety post is {}' .format(len(all_Anxiety)))"
      ],
      "metadata": {
        "id": "KT_tXZPqtc8T"
      },
      "execution_count": null,
      "outputs": []
    },
    {
      "cell_type": "code",
      "source": [
        "#author=(mental_health_categories.author)[:1] ##[\"whzy0i\", \"ub3skp\"]\n",
        "#author = ['Effective-Bridge8937']\n",
        "#author = mhsu['author'].astype(str).tolist()\n",
        "author = all_Anxiety\n",
        "\n",
        "i = []\n",
        "for authors in author:\n",
        "    try:\n",
        "        submission = reddit.redditor(authors).submissions.hot(limit=None) # Note: cannot pull more than 1000 at a time\n",
        "        for column in submission:\n",
        "            i.append([column.title, column.id, column.subreddit, column.selftext, column.author, column.created])\n",
        "    except:\n",
        "        pass\n",
        "su = pd.DataFrame(i, columns=['title', 'id', 'subreddit', 'selftext', 'author', 'created'])\n",
        "\n",
        "#su.to_csv('C:/Users/USER/Downloads/Data Science/MindSum/Reddit Dataset/mhsu_single_users_total.csv', header=True, encoding='utf-8', index=False)\n",
        "su.to_csv('C:/Users/USER/Downloads/Data Science/MindSum/Reddit Dataset/all_Anxiety.csv', header=True, encoding='utf-8', index=False)"
      ],
      "metadata": {
        "id": "tccu0Ispnx1W"
      },
      "execution_count": null,
      "outputs": []
    },
    {
      "cell_type": "code",
      "source": [
        "### Joining the four single-user categories together\n",
        "\n",
        "autism_posts = pd.read_csv('C:/Users/USER/Downloads/Data Science/MindSum/Reddit Dataset/all_autism.csv')\n",
        "depression_posts = pd.read_csv('C:/Users/USER/Downloads/Data Science/MindSum/Reddit Dataset/all_depression.csv')\n",
        "adhd_posts = pd.read_csv('C:/Users/USER/Downloads/Data Science/MindSum/Reddit Dataset/all_adhd.csv')\n",
        "anxiety_posts = pd.read_csv('C:/Users/USER/Downloads/Data Science/MindSum/Reddit Dataset/all_Anxiety.csv')\n",
        "\n",
        "autism_posts['label'] = 'autism'\n",
        "depression_posts['label'] = 'depression'\n",
        "adhd_posts['label'] = 'ADHD'\n",
        "anxiety_posts['label'] = 'anxiety'\n",
        "\n",
        "mhsu_total = pd.concat([autism_posts, depression_posts, adhd_posts, anxiety_posts])\n",
        "mhsu_total.to_csv('C:/Users/USER/Downloads/Data Science/MindSum/Reddit Dataset/mhsu_total.csv', header=True, encoding='utf-8', index=False)"
      ],
      "metadata": {
        "id": "rQrDmlgEt7Os"
      },
      "execution_count": null,
      "outputs": []
    },
    {
      "cell_type": "markdown",
      "source": [
        "## Importing Libraries"
      ],
      "metadata": {
        "id": "h3aH7Zmhrdyx"
      }
    },
    {
      "cell_type": "code",
      "execution_count": null,
      "metadata": {
        "colab": {
          "base_uri": "https://localhost:8080/"
        },
        "id": "g8UkUtKFW1go",
        "outputId": "fc73365f-53c7-42bb-def0-f7ce592bc4d4"
      },
      "outputs": [
        {
          "output_type": "stream",
          "name": "stderr",
          "text": [
            "[nltk_data] Downloading package stopwords to /root/nltk_data...\n",
            "[nltk_data]   Unzipping corpora/stopwords.zip.\n"
          ]
        }
      ],
      "source": [
        "%matplotlib inline\n",
        "import re\n",
        "import string\n",
        "import nltk\n",
        "nltk.download('stopwords')\n",
        "import matplotlib\n",
        "import numpy as np\n",
        "import matplotlib.pyplot as plt\n",
        "import pandas as pd\n",
        "from sklearn.feature_extraction.text import TfidfVectorizer\n",
        "from sklearn.naive_bayes import MultinomialNB\n",
        "from sklearn.metrics import accuracy_score, precision_score, recall_score, classification_report, f1_score, roc_auc_score, confusion_matrix\n",
        "from sklearn.multiclass import OneVsRestClassifier\n",
        "from nltk.corpus import stopwords\n",
        "from nltk.tokenize import word_tokenize\n",
        "stop_words = set(stopwords.words('english'))\n",
        "stopwords = nltk.corpus.stopwords.words('english')\n",
        "from sklearn.svm import LinearSVC, SVC\n",
        "from sklearn.linear_model import LogisticRegression\n",
        "from sklearn.pipeline import Pipeline\n",
        "from sklearn.ensemble import RandomForestClassifier\n",
        "from sklearn.ensemble import BaggingClassifier\n",
        "from sklearn.model_selection import train_test_split, cross_val_score, GridSearchCV, StratifiedKFold, RepeatedStratifiedKFold\n",
        "import seaborn as sns\n",
        "import warnings\n",
        "warnings.filterwarnings(\"ignore\", category=FutureWarning)"
      ]
    },
    {
      "cell_type": "code",
      "execution_count": null,
      "metadata": {
        "colab": {
          "base_uri": "https://localhost:8080/",
          "height": 468
        },
        "id": "v0iMCyQjXsaz",
        "outputId": "cf0fc7c0-8f03-48f4-ba5a-b632bd7a9f45"
      },
      "outputs": [
        {
          "output_type": "execute_result",
          "data": {
            "text/plain": [
              "                                                   title      id  \\\n",
              "0                                            What to do?  wxut1r   \n",
              "1                  ASUS - ROUTER - GT-5300 ROG - AIMesh?  vbluyd   \n",
              "2      Why does Defillama not consider Milkomeda a Ca...  ttavji   \n",
              "3      COTI vs DJED vs SHEN vs ADA - Can anyone ELI5 ...  tq8x2w   \n",
              "4                                  Inquiry: Cold Climate  tpr09q   \n",
              "...                                                  ...     ...   \n",
              "48274               struggling a lot with health anxiety  v3ula0   \n",
              "48275               feel like i don't take in enough air  v1pj9k   \n",
              "48276  anxiety is ruining my social life and taking a...  wvdk04   \n",
              "48277                            tips for cleaning self?  wlklp5   \n",
              "48278                     AITA for asking for gas money?  uevpee   \n",
              "\n",
              "                  subreddit  \\\n",
              "0                    autism   \n",
              "1                      ASUS   \n",
              "2                   cardano   \n",
              "3                   cardano   \n",
              "4                  Kombucha   \n",
              "...                     ...   \n",
              "48274               Anxiety   \n",
              "48275               medical   \n",
              "48276               Anxiety   \n",
              "48277  TheGirlSurvivalGuide   \n",
              "48278         AmItheAsshole   \n",
              "\n",
              "                                                selftext  \\\n",
              "0      My partner’s kid just recently has been diagno...   \n",
              "1      Hey all, I've had This router for a while now,...   \n",
              "2      Just thought it was weird?\\n\\nI'm simply curio...   \n",
              "3      Hey All\\n\\nI'm trying to understand the relati...   \n",
              "4      Hey All - I'm trying to figure out if it is wo...   \n",
              "...                                                  ...   \n",
              "48274  i used to be doing okay, but ever since I had ...   \n",
              "48275  For the past few days I (F16) have been feelin...   \n",
              "48276  i've had anxiety my whole life. i used to go t...   \n",
              "48277                                          [removed]   \n",
              "48278  I drive my friends everywhere. My parents will...   \n",
              "\n",
              "                     author       created    label  \n",
              "0                Noradd_123  1.661475e+09   autism  \n",
              "1                Noradd_123  1.655153e+09   autism  \n",
              "2                Noradd_123  1.648764e+09   autism  \n",
              "3                Noradd_123  1.648473e+09   autism  \n",
              "4                Noradd_123  1.648409e+09   autism  \n",
              "...                     ...           ...      ...  \n",
              "48274  justarandomaccountyk  1.654244e+09  anxiety  \n",
              "48275  justarandomaccountyk  1.654001e+09  anxiety  \n",
              "48276         Main_Text9632  1.661224e+09  anxiety  \n",
              "48277         Main_Text9632  1.660200e+09  anxiety  \n",
              "48278         Main_Text9632  1.651267e+09  anxiety  \n",
              "\n",
              "[48279 rows x 7 columns]"
            ],
            "text/html": [
              "\n",
              "  <div id=\"df-98c95ce1-40a9-4b34-85dd-5febad658651\">\n",
              "    <div class=\"colab-df-container\">\n",
              "      <div>\n",
              "<style scoped>\n",
              "    .dataframe tbody tr th:only-of-type {\n",
              "        vertical-align: middle;\n",
              "    }\n",
              "\n",
              "    .dataframe tbody tr th {\n",
              "        vertical-align: top;\n",
              "    }\n",
              "\n",
              "    .dataframe thead th {\n",
              "        text-align: right;\n",
              "    }\n",
              "</style>\n",
              "<table border=\"1\" class=\"dataframe\">\n",
              "  <thead>\n",
              "    <tr style=\"text-align: right;\">\n",
              "      <th></th>\n",
              "      <th>title</th>\n",
              "      <th>id</th>\n",
              "      <th>subreddit</th>\n",
              "      <th>selftext</th>\n",
              "      <th>author</th>\n",
              "      <th>created</th>\n",
              "      <th>label</th>\n",
              "    </tr>\n",
              "  </thead>\n",
              "  <tbody>\n",
              "    <tr>\n",
              "      <th>0</th>\n",
              "      <td>What to do?</td>\n",
              "      <td>wxut1r</td>\n",
              "      <td>autism</td>\n",
              "      <td>My partner’s kid just recently has been diagno...</td>\n",
              "      <td>Noradd_123</td>\n",
              "      <td>1.661475e+09</td>\n",
              "      <td>autism</td>\n",
              "    </tr>\n",
              "    <tr>\n",
              "      <th>1</th>\n",
              "      <td>ASUS - ROUTER - GT-5300 ROG - AIMesh?</td>\n",
              "      <td>vbluyd</td>\n",
              "      <td>ASUS</td>\n",
              "      <td>Hey all, I've had This router for a while now,...</td>\n",
              "      <td>Noradd_123</td>\n",
              "      <td>1.655153e+09</td>\n",
              "      <td>autism</td>\n",
              "    </tr>\n",
              "    <tr>\n",
              "      <th>2</th>\n",
              "      <td>Why does Defillama not consider Milkomeda a Ca...</td>\n",
              "      <td>ttavji</td>\n",
              "      <td>cardano</td>\n",
              "      <td>Just thought it was weird?\\n\\nI'm simply curio...</td>\n",
              "      <td>Noradd_123</td>\n",
              "      <td>1.648764e+09</td>\n",
              "      <td>autism</td>\n",
              "    </tr>\n",
              "    <tr>\n",
              "      <th>3</th>\n",
              "      <td>COTI vs DJED vs SHEN vs ADA - Can anyone ELI5 ...</td>\n",
              "      <td>tq8x2w</td>\n",
              "      <td>cardano</td>\n",
              "      <td>Hey All\\n\\nI'm trying to understand the relati...</td>\n",
              "      <td>Noradd_123</td>\n",
              "      <td>1.648473e+09</td>\n",
              "      <td>autism</td>\n",
              "    </tr>\n",
              "    <tr>\n",
              "      <th>4</th>\n",
              "      <td>Inquiry: Cold Climate</td>\n",
              "      <td>tpr09q</td>\n",
              "      <td>Kombucha</td>\n",
              "      <td>Hey All - I'm trying to figure out if it is wo...</td>\n",
              "      <td>Noradd_123</td>\n",
              "      <td>1.648409e+09</td>\n",
              "      <td>autism</td>\n",
              "    </tr>\n",
              "    <tr>\n",
              "      <th>...</th>\n",
              "      <td>...</td>\n",
              "      <td>...</td>\n",
              "      <td>...</td>\n",
              "      <td>...</td>\n",
              "      <td>...</td>\n",
              "      <td>...</td>\n",
              "      <td>...</td>\n",
              "    </tr>\n",
              "    <tr>\n",
              "      <th>48274</th>\n",
              "      <td>struggling a lot with health anxiety</td>\n",
              "      <td>v3ula0</td>\n",
              "      <td>Anxiety</td>\n",
              "      <td>i used to be doing okay, but ever since I had ...</td>\n",
              "      <td>justarandomaccountyk</td>\n",
              "      <td>1.654244e+09</td>\n",
              "      <td>anxiety</td>\n",
              "    </tr>\n",
              "    <tr>\n",
              "      <th>48275</th>\n",
              "      <td>feel like i don't take in enough air</td>\n",
              "      <td>v1pj9k</td>\n",
              "      <td>medical</td>\n",
              "      <td>For the past few days I (F16) have been feelin...</td>\n",
              "      <td>justarandomaccountyk</td>\n",
              "      <td>1.654001e+09</td>\n",
              "      <td>anxiety</td>\n",
              "    </tr>\n",
              "    <tr>\n",
              "      <th>48276</th>\n",
              "      <td>anxiety is ruining my social life and taking a...</td>\n",
              "      <td>wvdk04</td>\n",
              "      <td>Anxiety</td>\n",
              "      <td>i've had anxiety my whole life. i used to go t...</td>\n",
              "      <td>Main_Text9632</td>\n",
              "      <td>1.661224e+09</td>\n",
              "      <td>anxiety</td>\n",
              "    </tr>\n",
              "    <tr>\n",
              "      <th>48277</th>\n",
              "      <td>tips for cleaning self?</td>\n",
              "      <td>wlklp5</td>\n",
              "      <td>TheGirlSurvivalGuide</td>\n",
              "      <td>[removed]</td>\n",
              "      <td>Main_Text9632</td>\n",
              "      <td>1.660200e+09</td>\n",
              "      <td>anxiety</td>\n",
              "    </tr>\n",
              "    <tr>\n",
              "      <th>48278</th>\n",
              "      <td>AITA for asking for gas money?</td>\n",
              "      <td>uevpee</td>\n",
              "      <td>AmItheAsshole</td>\n",
              "      <td>I drive my friends everywhere. My parents will...</td>\n",
              "      <td>Main_Text9632</td>\n",
              "      <td>1.651267e+09</td>\n",
              "      <td>anxiety</td>\n",
              "    </tr>\n",
              "  </tbody>\n",
              "</table>\n",
              "<p>48279 rows × 7 columns</p>\n",
              "</div>\n",
              "      <button class=\"colab-df-convert\" onclick=\"convertToInteractive('df-98c95ce1-40a9-4b34-85dd-5febad658651')\"\n",
              "              title=\"Convert this dataframe to an interactive table.\"\n",
              "              style=\"display:none;\">\n",
              "        \n",
              "  <svg xmlns=\"http://www.w3.org/2000/svg\" height=\"24px\"viewBox=\"0 0 24 24\"\n",
              "       width=\"24px\">\n",
              "    <path d=\"M0 0h24v24H0V0z\" fill=\"none\"/>\n",
              "    <path d=\"M18.56 5.44l.94 2.06.94-2.06 2.06-.94-2.06-.94-.94-2.06-.94 2.06-2.06.94zm-11 1L8.5 8.5l.94-2.06 2.06-.94-2.06-.94L8.5 2.5l-.94 2.06-2.06.94zm10 10l.94 2.06.94-2.06 2.06-.94-2.06-.94-.94-2.06-.94 2.06-2.06.94z\"/><path d=\"M17.41 7.96l-1.37-1.37c-.4-.4-.92-.59-1.43-.59-.52 0-1.04.2-1.43.59L10.3 9.45l-7.72 7.72c-.78.78-.78 2.05 0 2.83L4 21.41c.39.39.9.59 1.41.59.51 0 1.02-.2 1.41-.59l7.78-7.78 2.81-2.81c.8-.78.8-2.07 0-2.86zM5.41 20L4 18.59l7.72-7.72 1.47 1.35L5.41 20z\"/>\n",
              "  </svg>\n",
              "      </button>\n",
              "      \n",
              "  <style>\n",
              "    .colab-df-container {\n",
              "      display:flex;\n",
              "      flex-wrap:wrap;\n",
              "      gap: 12px;\n",
              "    }\n",
              "\n",
              "    .colab-df-convert {\n",
              "      background-color: #E8F0FE;\n",
              "      border: none;\n",
              "      border-radius: 50%;\n",
              "      cursor: pointer;\n",
              "      display: none;\n",
              "      fill: #1967D2;\n",
              "      height: 32px;\n",
              "      padding: 0 0 0 0;\n",
              "      width: 32px;\n",
              "    }\n",
              "\n",
              "    .colab-df-convert:hover {\n",
              "      background-color: #E2EBFA;\n",
              "      box-shadow: 0px 1px 2px rgba(60, 64, 67, 0.3), 0px 1px 3px 1px rgba(60, 64, 67, 0.15);\n",
              "      fill: #174EA6;\n",
              "    }\n",
              "\n",
              "    [theme=dark] .colab-df-convert {\n",
              "      background-color: #3B4455;\n",
              "      fill: #D2E3FC;\n",
              "    }\n",
              "\n",
              "    [theme=dark] .colab-df-convert:hover {\n",
              "      background-color: #434B5C;\n",
              "      box-shadow: 0px 1px 3px 1px rgba(0, 0, 0, 0.15);\n",
              "      filter: drop-shadow(0px 1px 2px rgba(0, 0, 0, 0.3));\n",
              "      fill: #FFFFFF;\n",
              "    }\n",
              "  </style>\n",
              "\n",
              "      <script>\n",
              "        const buttonEl =\n",
              "          document.querySelector('#df-98c95ce1-40a9-4b34-85dd-5febad658651 button.colab-df-convert');\n",
              "        buttonEl.style.display =\n",
              "          google.colab.kernel.accessAllowed ? 'block' : 'none';\n",
              "\n",
              "        async function convertToInteractive(key) {\n",
              "          const element = document.querySelector('#df-98c95ce1-40a9-4b34-85dd-5febad658651');\n",
              "          const dataTable =\n",
              "            await google.colab.kernel.invokeFunction('convertToInteractive',\n",
              "                                                     [key], {});\n",
              "          if (!dataTable) return;\n",
              "\n",
              "          const docLinkHtml = 'Like what you see? Visit the ' +\n",
              "            '<a target=\"_blank\" href=https://colab.research.google.com/notebooks/data_table.ipynb>data table notebook</a>'\n",
              "            + ' to learn more about interactive tables.';\n",
              "          element.innerHTML = '';\n",
              "          dataTable['output_type'] = 'display_data';\n",
              "          await google.colab.output.renderOutput(dataTable, element);\n",
              "          const docLink = document.createElement('div');\n",
              "          docLink.innerHTML = docLinkHtml;\n",
              "          element.appendChild(docLink);\n",
              "        }\n",
              "      </script>\n",
              "    </div>\n",
              "  </div>\n",
              "  "
            ]
          },
          "metadata": {},
          "execution_count": 2
        }
      ],
      "source": [
        "import pandas as pd\n",
        "mhsu = pd.read_csv('/content/drive/MyDrive/Mindsum/mhsu_total.csv')\n",
        "mhsu"
      ]
    },
    {
      "cell_type": "code",
      "execution_count": null,
      "metadata": {
        "colab": {
          "base_uri": "https://localhost:8080/"
        },
        "id": "PlrkyMQWYJ1m",
        "outputId": "66b7c4f3-08cb-4865-bb59-654e411e5eb4"
      },
      "outputs": [
        {
          "output_type": "stream",
          "name": "stdout",
          "text": [
            "<class 'pandas.core.frame.DataFrame'>\n",
            "RangeIndex: 48279 entries, 0 to 48278\n",
            "Data columns (total 7 columns):\n",
            " #   Column     Non-Null Count  Dtype  \n",
            "---  ------     --------------  -----  \n",
            " 0   title      48279 non-null  object \n",
            " 1   id         48279 non-null  object \n",
            " 2   subreddit  48279 non-null  object \n",
            " 3   selftext   33062 non-null  object \n",
            " 4   author     48279 non-null  object \n",
            " 5   created    48279 non-null  float64\n",
            " 6   label      48279 non-null  object \n",
            "dtypes: float64(1), object(6)\n",
            "memory usage: 2.6+ MB\n"
          ]
        }
      ],
      "source": [
        "mhsu.info()"
      ]
    },
    {
      "cell_type": "code",
      "execution_count": null,
      "metadata": {
        "colab": {
          "base_uri": "https://localhost:8080/"
        },
        "id": "LL_cbYVbYOM8",
        "outputId": "7984513d-c8d1-43a7-e407-c262db4b86ed"
      },
      "outputs": [
        {
          "output_type": "execute_result",
          "data": {
            "text/plain": [
              "anxiety       20443\n",
              "autism         9946\n",
              "depression     9675\n",
              "ADHD           8215\n",
              "Name: label, dtype: int64"
            ]
          },
          "metadata": {},
          "execution_count": 4
        }
      ],
      "source": [
        "mhsu.label.value_counts()"
      ]
    },
    {
      "cell_type": "code",
      "execution_count": null,
      "metadata": {
        "colab": {
          "base_uri": "https://localhost:8080/"
        },
        "id": "Cre6eZAlYQx6",
        "outputId": "c1de8ed8-13eb-4bf2-a311-b77bcea34e20"
      },
      "outputs": [
        {
          "output_type": "execute_result",
          "data": {
            "text/plain": [
              "title        0\n",
              "id           0\n",
              "subreddit    0\n",
              "selftext     0\n",
              "author       0\n",
              "created      0\n",
              "label        0\n",
              "dtype: int64"
            ]
          },
          "metadata": {},
          "execution_count": 5
        }
      ],
      "source": [
        "# Checking for duplicates across rows\n",
        "mhsu[mhsu.duplicated()].count()"
      ]
    },
    {
      "cell_type": "code",
      "execution_count": null,
      "metadata": {
        "colab": {
          "base_uri": "https://localhost:8080/",
          "height": 424
        },
        "id": "ULxStK6eYTbf",
        "outputId": "bc6bf32c-fa82-4503-e5fb-3b1ae1af1a04"
      },
      "outputs": [
        {
          "output_type": "execute_result",
          "data": {
            "text/plain": [
              "         label                                           selftext\n",
              "0       autism  My partner’s kid just recently has been diagno...\n",
              "1       autism  Hey all, I've had This router for a while now,...\n",
              "2       autism  Just thought it was weird?\\n\\nI'm simply curio...\n",
              "3       autism  Hey All\\n\\nI'm trying to understand the relati...\n",
              "4       autism  Hey All - I'm trying to figure out if it is wo...\n",
              "...        ...                                                ...\n",
              "48274  anxiety  i used to be doing okay, but ever since I had ...\n",
              "48275  anxiety  For the past few days I (F16) have been feelin...\n",
              "48276  anxiety  i've had anxiety my whole life. i used to go t...\n",
              "48277  anxiety                                          [removed]\n",
              "48278  anxiety  I drive my friends everywhere. My parents will...\n",
              "\n",
              "[48279 rows x 2 columns]"
            ],
            "text/html": [
              "\n",
              "  <div id=\"df-b6f95fc0-b6e4-42c9-9179-42a07246112d\">\n",
              "    <div class=\"colab-df-container\">\n",
              "      <div>\n",
              "<style scoped>\n",
              "    .dataframe tbody tr th:only-of-type {\n",
              "        vertical-align: middle;\n",
              "    }\n",
              "\n",
              "    .dataframe tbody tr th {\n",
              "        vertical-align: top;\n",
              "    }\n",
              "\n",
              "    .dataframe thead th {\n",
              "        text-align: right;\n",
              "    }\n",
              "</style>\n",
              "<table border=\"1\" class=\"dataframe\">\n",
              "  <thead>\n",
              "    <tr style=\"text-align: right;\">\n",
              "      <th></th>\n",
              "      <th>label</th>\n",
              "      <th>selftext</th>\n",
              "    </tr>\n",
              "  </thead>\n",
              "  <tbody>\n",
              "    <tr>\n",
              "      <th>0</th>\n",
              "      <td>autism</td>\n",
              "      <td>My partner’s kid just recently has been diagno...</td>\n",
              "    </tr>\n",
              "    <tr>\n",
              "      <th>1</th>\n",
              "      <td>autism</td>\n",
              "      <td>Hey all, I've had This router for a while now,...</td>\n",
              "    </tr>\n",
              "    <tr>\n",
              "      <th>2</th>\n",
              "      <td>autism</td>\n",
              "      <td>Just thought it was weird?\\n\\nI'm simply curio...</td>\n",
              "    </tr>\n",
              "    <tr>\n",
              "      <th>3</th>\n",
              "      <td>autism</td>\n",
              "      <td>Hey All\\n\\nI'm trying to understand the relati...</td>\n",
              "    </tr>\n",
              "    <tr>\n",
              "      <th>4</th>\n",
              "      <td>autism</td>\n",
              "      <td>Hey All - I'm trying to figure out if it is wo...</td>\n",
              "    </tr>\n",
              "    <tr>\n",
              "      <th>...</th>\n",
              "      <td>...</td>\n",
              "      <td>...</td>\n",
              "    </tr>\n",
              "    <tr>\n",
              "      <th>48274</th>\n",
              "      <td>anxiety</td>\n",
              "      <td>i used to be doing okay, but ever since I had ...</td>\n",
              "    </tr>\n",
              "    <tr>\n",
              "      <th>48275</th>\n",
              "      <td>anxiety</td>\n",
              "      <td>For the past few days I (F16) have been feelin...</td>\n",
              "    </tr>\n",
              "    <tr>\n",
              "      <th>48276</th>\n",
              "      <td>anxiety</td>\n",
              "      <td>i've had anxiety my whole life. i used to go t...</td>\n",
              "    </tr>\n",
              "    <tr>\n",
              "      <th>48277</th>\n",
              "      <td>anxiety</td>\n",
              "      <td>[removed]</td>\n",
              "    </tr>\n",
              "    <tr>\n",
              "      <th>48278</th>\n",
              "      <td>anxiety</td>\n",
              "      <td>I drive my friends everywhere. My parents will...</td>\n",
              "    </tr>\n",
              "  </tbody>\n",
              "</table>\n",
              "<p>48279 rows × 2 columns</p>\n",
              "</div>\n",
              "      <button class=\"colab-df-convert\" onclick=\"convertToInteractive('df-b6f95fc0-b6e4-42c9-9179-42a07246112d')\"\n",
              "              title=\"Convert this dataframe to an interactive table.\"\n",
              "              style=\"display:none;\">\n",
              "        \n",
              "  <svg xmlns=\"http://www.w3.org/2000/svg\" height=\"24px\"viewBox=\"0 0 24 24\"\n",
              "       width=\"24px\">\n",
              "    <path d=\"M0 0h24v24H0V0z\" fill=\"none\"/>\n",
              "    <path d=\"M18.56 5.44l.94 2.06.94-2.06 2.06-.94-2.06-.94-.94-2.06-.94 2.06-2.06.94zm-11 1L8.5 8.5l.94-2.06 2.06-.94-2.06-.94L8.5 2.5l-.94 2.06-2.06.94zm10 10l.94 2.06.94-2.06 2.06-.94-2.06-.94-.94-2.06-.94 2.06-2.06.94z\"/><path d=\"M17.41 7.96l-1.37-1.37c-.4-.4-.92-.59-1.43-.59-.52 0-1.04.2-1.43.59L10.3 9.45l-7.72 7.72c-.78.78-.78 2.05 0 2.83L4 21.41c.39.39.9.59 1.41.59.51 0 1.02-.2 1.41-.59l7.78-7.78 2.81-2.81c.8-.78.8-2.07 0-2.86zM5.41 20L4 18.59l7.72-7.72 1.47 1.35L5.41 20z\"/>\n",
              "  </svg>\n",
              "      </button>\n",
              "      \n",
              "  <style>\n",
              "    .colab-df-container {\n",
              "      display:flex;\n",
              "      flex-wrap:wrap;\n",
              "      gap: 12px;\n",
              "    }\n",
              "\n",
              "    .colab-df-convert {\n",
              "      background-color: #E8F0FE;\n",
              "      border: none;\n",
              "      border-radius: 50%;\n",
              "      cursor: pointer;\n",
              "      display: none;\n",
              "      fill: #1967D2;\n",
              "      height: 32px;\n",
              "      padding: 0 0 0 0;\n",
              "      width: 32px;\n",
              "    }\n",
              "\n",
              "    .colab-df-convert:hover {\n",
              "      background-color: #E2EBFA;\n",
              "      box-shadow: 0px 1px 2px rgba(60, 64, 67, 0.3), 0px 1px 3px 1px rgba(60, 64, 67, 0.15);\n",
              "      fill: #174EA6;\n",
              "    }\n",
              "\n",
              "    [theme=dark] .colab-df-convert {\n",
              "      background-color: #3B4455;\n",
              "      fill: #D2E3FC;\n",
              "    }\n",
              "\n",
              "    [theme=dark] .colab-df-convert:hover {\n",
              "      background-color: #434B5C;\n",
              "      box-shadow: 0px 1px 3px 1px rgba(0, 0, 0, 0.15);\n",
              "      filter: drop-shadow(0px 1px 2px rgba(0, 0, 0, 0.3));\n",
              "      fill: #FFFFFF;\n",
              "    }\n",
              "  </style>\n",
              "\n",
              "      <script>\n",
              "        const buttonEl =\n",
              "          document.querySelector('#df-b6f95fc0-b6e4-42c9-9179-42a07246112d button.colab-df-convert');\n",
              "        buttonEl.style.display =\n",
              "          google.colab.kernel.accessAllowed ? 'block' : 'none';\n",
              "\n",
              "        async function convertToInteractive(key) {\n",
              "          const element = document.querySelector('#df-b6f95fc0-b6e4-42c9-9179-42a07246112d');\n",
              "          const dataTable =\n",
              "            await google.colab.kernel.invokeFunction('convertToInteractive',\n",
              "                                                     [key], {});\n",
              "          if (!dataTable) return;\n",
              "\n",
              "          const docLinkHtml = 'Like what you see? Visit the ' +\n",
              "            '<a target=\"_blank\" href=https://colab.research.google.com/notebooks/data_table.ipynb>data table notebook</a>'\n",
              "            + ' to learn more about interactive tables.';\n",
              "          element.innerHTML = '';\n",
              "          dataTable['output_type'] = 'display_data';\n",
              "          await google.colab.output.renderOutput(dataTable, element);\n",
              "          const docLink = document.createElement('div');\n",
              "          docLink.innerHTML = docLinkHtml;\n",
              "          element.appendChild(docLink);\n",
              "        }\n",
              "      </script>\n",
              "    </div>\n",
              "  </div>\n",
              "  "
            ]
          },
          "metadata": {},
          "execution_count": 6
        }
      ],
      "source": [
        "# Merging the title text to the post\n",
        "\n",
        "#mhsu['text'] = mhsu['title'].astype(str) + ' ' + mhsu['selftext'].astype(str)\n",
        "mhsu = mhsu[['label', 'selftext']]\n",
        "mhsu"
      ]
    },
    {
      "cell_type": "code",
      "execution_count": null,
      "metadata": {
        "colab": {
          "base_uri": "https://localhost:8080/"
        },
        "id": "lpPFpvItYYtg",
        "outputId": "ef75d9c9-6214-42d2-ada6-f2b37f2fb193"
      },
      "outputs": [
        {
          "output_type": "stream",
          "name": "stdout",
          "text": [
            "Number of missing values in label: 0\n",
            "Number of missing values in body: 15217\n"
          ]
        }
      ],
      "source": [
        "print ('Number of missing values in label: {}'. format(mhsu.label.isnull().sum()))\n",
        "print ('Number of missing values in body: {}'. format(mhsu.selftext.isnull().sum()))"
      ]
    },
    {
      "cell_type": "code",
      "execution_count": null,
      "metadata": {
        "id": "KbbT_v1CYc8N"
      },
      "outputs": [],
      "source": [
        "mhsu = mhsu.dropna()\n",
        "mhsu = mhsu[mhsu.selftext!='[removed]']"
      ]
    },
    {
      "cell_type": "code",
      "execution_count": null,
      "metadata": {
        "colab": {
          "base_uri": "https://localhost:8080/"
        },
        "id": "dS-HrjAcYkhz",
        "outputId": "a4f86d7a-2b44-4e7c-da79-25e739675fc4"
      },
      "outputs": [
        {
          "output_type": "execute_result",
          "data": {
            "text/plain": [
              "anxiety       13604\n",
              "depression     5871\n",
              "ADHD           4903\n",
              "autism         4502\n",
              "Name: label, dtype: int64"
            ]
          },
          "metadata": {},
          "execution_count": 9
        }
      ],
      "source": [
        "mhsu.label.value_counts()"
      ]
    },
    {
      "cell_type": "code",
      "execution_count": null,
      "metadata": {
        "colab": {
          "base_uri": "https://localhost:8080/",
          "height": 367
        },
        "id": "K5oHq7CnYnrO",
        "outputId": "36b6eea2-1e7e-4e8f-e26e-5eebe02bc9a0"
      },
      "outputs": [
        {
          "output_type": "execute_result",
          "data": {
            "text/plain": [
              "Text(0.5, 0, 'Categories Type')"
            ]
          },
          "metadata": {},
          "execution_count": 10
        },
        {
          "output_type": "display_data",
          "data": {
            "text/plain": [
              "<Figure size 576x360 with 1 Axes>"
            ],
            "image/png": "[encoded data removed]"
          },
          "metadata": {
            "needs_background": "light"
          }
        }
      ],
      "source": [
        "rowsums = mhsu.iloc[:,:1].sum(axis=1)\n",
        "x = rowsums.value_counts()\n",
        "\n",
        "import matplotlib.pyplot as plt\n",
        "import seaborn as sns\n",
        "plt.figure(figsize=(8,5))\n",
        "ax = sns.barplot(x.index, x.values)\n",
        "plt.title(\"Number of Posts per categories\")\n",
        "plt.ylabel('Number of Occurrences')\n",
        "plt.xlabel('Categories Type')"
      ]
    },
    {
      "cell_type": "code",
      "execution_count": null,
      "metadata": {
        "colab": {
          "base_uri": "https://localhost:8080/"
        },
        "id": "r5W-ooORYtB4",
        "outputId": "ad02d1d5-acd2-4ad6-e392-9cbb3a23db26"
      },
      "outputs": [
        {
          "output_type": "execute_result",
          "data": {
            "text/plain": [
              "anxiety       4500\n",
              "ADHD          4500\n",
              "depression    4500\n",
              "autism        4500\n",
              "Name: label, dtype: int64"
            ]
          },
          "metadata": {},
          "execution_count": 11
        }
      ],
      "source": [
        "# Dealing with class imbalance by upsampling and downsampling the dataset\n",
        "from sklearn.utils import resample\n",
        "\n",
        "Anxiety_to_scale = mhsu[mhsu.label=='anxiety']\n",
        "ADHD_to_scale = mhsu[mhsu.label=='ADHD']\n",
        "Depression_to_scale = mhsu[mhsu.label=='depression']\n",
        "Autism_to_scale = mhsu[mhsu.label=='autism']\n",
        "# to upscale Anxiety class\n",
        "Anxiety_scaled = resample(Anxiety_to_scale,\n",
        "                            replace=False,     # sample with replacement\n",
        "                            n_samples=4500,    # to match majority class\n",
        "                            random_state=1234) # reproducible results\n",
        " \n",
        "# to upscale ADHD class\n",
        "ADHD_scaled = resample(ADHD_to_scale,\n",
        "                         replace=False,     # sample with replacement\n",
        "                         n_samples=4500,    # to match majority class\n",
        "                         random_state=1235) # reproducible results\n",
        " \n",
        "# to upscale Depression class\n",
        "Depression_scaled = resample(Depression_to_scale, \n",
        "                                 replace=False,     # sample with replacement\n",
        "                                 n_samples=4500,    # to match majority class\n",
        "                                 random_state=1236) # reproducible results\n",
        " \n",
        "# to upscale Autism class\n",
        "Autism_scaled = resample(Autism_to_scale, \n",
        "                                 replace=False,     # sample with replacement\n",
        "                                 n_samples=4500,    # to match majority class\n",
        "                                 random_state=12345) # reproducible results\n",
        " \n",
        "# Combine majority class with upsampled minority class\n",
        "mhsu_balanced = pd.concat([Anxiety_scaled, ADHD_scaled, Depression_scaled, Autism_scaled])\n",
        "\n",
        "\n",
        "mhsu_balanced.label.value_counts()"
      ]
    },
    {
      "cell_type": "code",
      "execution_count": null,
      "metadata": {
        "colab": {
          "base_uri": "https://localhost:8080/",
          "height": 367
        },
        "id": "CW58TgfDY5Qg",
        "outputId": "29fc3499-3861-4e8d-8699-c85fdef3aa72"
      },
      "outputs": [
        {
          "output_type": "execute_result",
          "data": {
            "text/plain": [
              "Text(0.5, 0, 'Categories Type')"
            ]
          },
          "metadata": {},
          "execution_count": 12
        },
        {
          "output_type": "display_data",
          "data": {
            "text/plain": [
              "<Figure size 576x360 with 1 Axes>"
            ],
            "image/png": "[encoded data removed]"
          },
          "metadata": {
            "needs_background": "light"
          }
        }
      ],
      "source": [
        "rowsums = mhsu_balanced.iloc[:,:1].sum(axis=1)\n",
        "x = rowsums.value_counts()\n",
        "\n",
        "import matplotlib.pyplot as plt\n",
        "import seaborn as sns\n",
        "plt.figure(figsize=(8,5))\n",
        "ax = sns.barplot(x.index, x.values)\n",
        "plt.title(\"Number of Posts per categories\")\n",
        "plt.ylabel('Number of Occurrences')\n",
        "plt.xlabel('Categories Type')"
      ]
    },
    {
      "cell_type": "code",
      "execution_count": null,
      "metadata": {
        "colab": {
          "base_uri": "https://localhost:8080/",
          "height": 424
        },
        "id": "H8lHQrkxY87W",
        "outputId": "c97bc76b-95d9-4f51-f94b-aa1b9463a3c2"
      },
      "outputs": [
        {
          "output_type": "execute_result",
          "data": {
            "text/plain": [
              "         label                                           selftext  text_len\n",
              "31579  anxiety  Been trying to join some discord servers to ma...       928\n",
              "32895  anxiety  I can’t stop worrying about it and thinking I ...       206\n",
              "44954  anxiety                      I may have gerd lol. Imma see        29\n",
              "39341  anxiety  I want to break no contact. I have this naggin...       700\n",
              "39009  anxiety  \\ni’m in grad school now. but i went through 4...      1112\n",
              "...        ...                                                ...       ...\n",
              "7650    autism  I'll go first, proctor ingram, Whitechapel Cha...        82\n",
              "9889    autism  i developed a fucking eating disorder im so fu...       106\n",
              "9266    autism  Hey so this may be a dumb question but I all o...       290\n",
              "7880    autism  This will literally fucking kill me. I’ve gott...       369\n",
              "7860    autism  I have hypermobility and it’s getting so bad I...       153\n",
              "\n",
              "[18000 rows x 3 columns]"
            ],
            "text/html": [
              "\n",
              "  <div id=\"df-abee2174-4cbd-47c9-88c9-e5c9d4225f7a\">\n",
              "    <div class=\"colab-df-container\">\n",
              "      <div>\n",
              "<style scoped>\n",
              "    .dataframe tbody tr th:only-of-type {\n",
              "        vertical-align: middle;\n",
              "    }\n",
              "\n",
              "    .dataframe tbody tr th {\n",
              "        vertical-align: top;\n",
              "    }\n",
              "\n",
              "    .dataframe thead th {\n",
              "        text-align: right;\n",
              "    }\n",
              "</style>\n",
              "<table border=\"1\" class=\"dataframe\">\n",
              "  <thead>\n",
              "    <tr style=\"text-align: right;\">\n",
              "      <th></th>\n",
              "      <th>label</th>\n",
              "      <th>selftext</th>\n",
              "      <th>text_len</th>\n",
              "    </tr>\n",
              "  </thead>\n",
              "  <tbody>\n",
              "    <tr>\n",
              "      <th>31579</th>\n",
              "      <td>anxiety</td>\n",
              "      <td>Been trying to join some discord servers to ma...</td>\n",
              "      <td>928</td>\n",
              "    </tr>\n",
              "    <tr>\n",
              "      <th>32895</th>\n",
              "      <td>anxiety</td>\n",
              "      <td>I can’t stop worrying about it and thinking I ...</td>\n",
              "      <td>206</td>\n",
              "    </tr>\n",
              "    <tr>\n",
              "      <th>44954</th>\n",
              "      <td>anxiety</td>\n",
              "      <td>I may have gerd lol. Imma see</td>\n",
              "      <td>29</td>\n",
              "    </tr>\n",
              "    <tr>\n",
              "      <th>39341</th>\n",
              "      <td>anxiety</td>\n",
              "      <td>I want to break no contact. I have this naggin...</td>\n",
              "      <td>700</td>\n",
              "    </tr>\n",
              "    <tr>\n",
              "      <th>39009</th>\n",
              "      <td>anxiety</td>\n",
              "      <td>\\ni’m in grad school now. but i went through 4...</td>\n",
              "      <td>1112</td>\n",
              "    </tr>\n",
              "    <tr>\n",
              "      <th>...</th>\n",
              "      <td>...</td>\n",
              "      <td>...</td>\n",
              "      <td>...</td>\n",
              "    </tr>\n",
              "    <tr>\n",
              "      <th>7650</th>\n",
              "      <td>autism</td>\n",
              "      <td>I'll go first, proctor ingram, Whitechapel Cha...</td>\n",
              "      <td>82</td>\n",
              "    </tr>\n",
              "    <tr>\n",
              "      <th>9889</th>\n",
              "      <td>autism</td>\n",
              "      <td>i developed a fucking eating disorder im so fu...</td>\n",
              "      <td>106</td>\n",
              "    </tr>\n",
              "    <tr>\n",
              "      <th>9266</th>\n",
              "      <td>autism</td>\n",
              "      <td>Hey so this may be a dumb question but I all o...</td>\n",
              "      <td>290</td>\n",
              "    </tr>\n",
              "    <tr>\n",
              "      <th>7880</th>\n",
              "      <td>autism</td>\n",
              "      <td>This will literally fucking kill me. I’ve gott...</td>\n",
              "      <td>369</td>\n",
              "    </tr>\n",
              "    <tr>\n",
              "      <th>7860</th>\n",
              "      <td>autism</td>\n",
              "      <td>I have hypermobility and it’s getting so bad I...</td>\n",
              "      <td>153</td>\n",
              "    </tr>\n",
              "  </tbody>\n",
              "</table>\n",
              "<p>18000 rows × 3 columns</p>\n",
              "</div>\n",
              "      <button class=\"colab-df-convert\" onclick=\"convertToInteractive('df-abee2174-4cbd-47c9-88c9-e5c9d4225f7a')\"\n",
              "              title=\"Convert this dataframe to an interactive table.\"\n",
              "              style=\"display:none;\">\n",
              "        \n",
              "  <svg xmlns=\"http://www.w3.org/2000/svg\" height=\"24px\"viewBox=\"0 0 24 24\"\n",
              "       width=\"24px\">\n",
              "    <path d=\"M0 0h24v24H0V0z\" fill=\"none\"/>\n",
              "    <path d=\"M18.56 5.44l.94 2.06.94-2.06 2.06-.94-2.06-.94-.94-2.06-.94 2.06-2.06.94zm-11 1L8.5 8.5l.94-2.06 2.06-.94-2.06-.94L8.5 2.5l-.94 2.06-2.06.94zm10 10l.94 2.06.94-2.06 2.06-.94-2.06-.94-.94-2.06-.94 2.06-2.06.94z\"/><path d=\"M17.41 7.96l-1.37-1.37c-.4-.4-.92-.59-1.43-.59-.52 0-1.04.2-1.43.59L10.3 9.45l-7.72 7.72c-.78.78-.78 2.05 0 2.83L4 21.41c.39.39.9.59 1.41.59.51 0 1.02-.2 1.41-.59l7.78-7.78 2.81-2.81c.8-.78.8-2.07 0-2.86zM5.41 20L4 18.59l7.72-7.72 1.47 1.35L5.41 20z\"/>\n",
              "  </svg>\n",
              "      </button>\n",
              "      \n",
              "  <style>\n",
              "    .colab-df-container {\n",
              "      display:flex;\n",
              "      flex-wrap:wrap;\n",
              "      gap: 12px;\n",
              "    }\n",
              "\n",
              "    .colab-df-convert {\n",
              "      background-color: #E8F0FE;\n",
              "      border: none;\n",
              "      border-radius: 50%;\n",
              "      cursor: pointer;\n",
              "      display: none;\n",
              "      fill: #1967D2;\n",
              "      height: 32px;\n",
              "      padding: 0 0 0 0;\n",
              "      width: 32px;\n",
              "    }\n",
              "\n",
              "    .colab-df-convert:hover {\n",
              "      background-color: #E2EBFA;\n",
              "      box-shadow: 0px 1px 2px rgba(60, 64, 67, 0.3), 0px 1px 3px 1px rgba(60, 64, 67, 0.15);\n",
              "      fill: #174EA6;\n",
              "    }\n",
              "\n",
              "    [theme=dark] .colab-df-convert {\n",
              "      background-color: #3B4455;\n",
              "      fill: #D2E3FC;\n",
              "    }\n",
              "\n",
              "    [theme=dark] .colab-df-convert:hover {\n",
              "      background-color: #434B5C;\n",
              "      box-shadow: 0px 1px 3px 1px rgba(0, 0, 0, 0.15);\n",
              "      filter: drop-shadow(0px 1px 2px rgba(0, 0, 0, 0.3));\n",
              "      fill: #FFFFFF;\n",
              "    }\n",
              "  </style>\n",
              "\n",
              "      <script>\n",
              "        const buttonEl =\n",
              "          document.querySelector('#df-abee2174-4cbd-47c9-88c9-e5c9d4225f7a button.colab-df-convert');\n",
              "        buttonEl.style.display =\n",
              "          google.colab.kernel.accessAllowed ? 'block' : 'none';\n",
              "\n",
              "        async function convertToInteractive(key) {\n",
              "          const element = document.querySelector('#df-abee2174-4cbd-47c9-88c9-e5c9d4225f7a');\n",
              "          const dataTable =\n",
              "            await google.colab.kernel.invokeFunction('convertToInteractive',\n",
              "                                                     [key], {});\n",
              "          if (!dataTable) return;\n",
              "\n",
              "          const docLinkHtml = 'Like what you see? Visit the ' +\n",
              "            '<a target=\"_blank\" href=https://colab.research.google.com/notebooks/data_table.ipynb>data table notebook</a>'\n",
              "            + ' to learn more about interactive tables.';\n",
              "          element.innerHTML = '';\n",
              "          dataTable['output_type'] = 'display_data';\n",
              "          await google.colab.output.renderOutput(dataTable, element);\n",
              "          const docLink = document.createElement('div');\n",
              "          docLink.innerHTML = docLinkHtml;\n",
              "          element.appendChild(docLink);\n",
              "        }\n",
              "      </script>\n",
              "    </div>\n",
              "  </div>\n",
              "  "
            ]
          },
          "metadata": {},
          "execution_count": 13
        }
      ],
      "source": [
        "mhsu_balanced['text_len'] = mhsu_balanced['selftext'].apply(lambda x: len(x))\n",
        "mhsu_balanced"
      ]
    },
    {
      "cell_type": "code",
      "execution_count": null,
      "metadata": {
        "colab": {
          "base_uri": "https://localhost:8080/",
          "height": 424
        },
        "id": "sYbutPNkZE7x",
        "outputId": "10cc580e-ade4-4083-b1b2-c3d7a0571583"
      },
      "outputs": [
        {
          "output_type": "execute_result",
          "data": {
            "text/plain": [
              "         label                                           selftext  text_len  \\\n",
              "31579  anxiety  Been trying to join some discord servers to ma...       928   \n",
              "32895  anxiety  I can’t stop worrying about it and thinking I ...       206   \n",
              "44954  anxiety                      I may have gerd lol. Imma see        29   \n",
              "39341  anxiety  I want to break no contact. I have this naggin...       700   \n",
              "39009  anxiety  \\ni’m in grad school now. but i went through 4...      1112   \n",
              "...        ...                                                ...       ...   \n",
              "7650    autism  I'll go first, proctor ingram, Whitechapel Cha...        82   \n",
              "9889    autism  i developed a fucking eating disorder im so fu...       106   \n",
              "9266    autism  Hey so this may be a dumb question but I all o...       290   \n",
              "7880    autism  This will literally fucking kill me. I’ve gott...       369   \n",
              "7860    autism  I have hypermobility and it’s getting so bad I...       153   \n",
              "\n",
              "          punct  \n",
              "31579  3.232759  \n",
              "32895  0.970874  \n",
              "44954  3.448276  \n",
              "39341  2.000000  \n",
              "39009  2.338129  \n",
              "...         ...  \n",
              "7650   7.317073  \n",
              "9889   0.000000  \n",
              "9266   1.379310  \n",
              "7880   2.439024  \n",
              "7860   1.960784  \n",
              "\n",
              "[18000 rows x 4 columns]"
            ],
            "text/html": [
              "\n",
              "  <div id=\"df-49da0f92-f6e8-476a-ae69-0bfa7ae9b490\">\n",
              "    <div class=\"colab-df-container\">\n",
              "      <div>\n",
              "<style scoped>\n",
              "    .dataframe tbody tr th:only-of-type {\n",
              "        vertical-align: middle;\n",
              "    }\n",
              "\n",
              "    .dataframe tbody tr th {\n",
              "        vertical-align: top;\n",
              "    }\n",
              "\n",
              "    .dataframe thead th {\n",
              "        text-align: right;\n",
              "    }\n",
              "</style>\n",
              "<table border=\"1\" class=\"dataframe\">\n",
              "  <thead>\n",
              "    <tr style=\"text-align: right;\">\n",
              "      <th></th>\n",
              "      <th>label</th>\n",
              "      <th>selftext</th>\n",
              "      <th>text_len</th>\n",
              "      <th>punct</th>\n",
              "    </tr>\n",
              "  </thead>\n",
              "  <tbody>\n",
              "    <tr>\n",
              "      <th>31579</th>\n",
              "      <td>anxiety</td>\n",
              "      <td>Been trying to join some discord servers to ma...</td>\n",
              "      <td>928</td>\n",
              "      <td>3.232759</td>\n",
              "    </tr>\n",
              "    <tr>\n",
              "      <th>32895</th>\n",
              "      <td>anxiety</td>\n",
              "      <td>I can’t stop worrying about it and thinking I ...</td>\n",
              "      <td>206</td>\n",
              "      <td>0.970874</td>\n",
              "    </tr>\n",
              "    <tr>\n",
              "      <th>44954</th>\n",
              "      <td>anxiety</td>\n",
              "      <td>I may have gerd lol. Imma see</td>\n",
              "      <td>29</td>\n",
              "      <td>3.448276</td>\n",
              "    </tr>\n",
              "    <tr>\n",
              "      <th>39341</th>\n",
              "      <td>anxiety</td>\n",
              "      <td>I want to break no contact. I have this naggin...</td>\n",
              "      <td>700</td>\n",
              "      <td>2.000000</td>\n",
              "    </tr>\n",
              "    <tr>\n",
              "      <th>39009</th>\n",
              "      <td>anxiety</td>\n",
              "      <td>\\ni’m in grad school now. but i went through 4...</td>\n",
              "      <td>1112</td>\n",
              "      <td>2.338129</td>\n",
              "    </tr>\n",
              "    <tr>\n",
              "      <th>...</th>\n",
              "      <td>...</td>\n",
              "      <td>...</td>\n",
              "      <td>...</td>\n",
              "      <td>...</td>\n",
              "    </tr>\n",
              "    <tr>\n",
              "      <th>7650</th>\n",
              "      <td>autism</td>\n",
              "      <td>I'll go first, proctor ingram, Whitechapel Cha...</td>\n",
              "      <td>82</td>\n",
              "      <td>7.317073</td>\n",
              "    </tr>\n",
              "    <tr>\n",
              "      <th>9889</th>\n",
              "      <td>autism</td>\n",
              "      <td>i developed a fucking eating disorder im so fu...</td>\n",
              "      <td>106</td>\n",
              "      <td>0.000000</td>\n",
              "    </tr>\n",
              "    <tr>\n",
              "      <th>9266</th>\n",
              "      <td>autism</td>\n",
              "      <td>Hey so this may be a dumb question but I all o...</td>\n",
              "      <td>290</td>\n",
              "      <td>1.379310</td>\n",
              "    </tr>\n",
              "    <tr>\n",
              "      <th>7880</th>\n",
              "      <td>autism</td>\n",
              "      <td>This will literally fucking kill me. I’ve gott...</td>\n",
              "      <td>369</td>\n",
              "      <td>2.439024</td>\n",
              "    </tr>\n",
              "    <tr>\n",
              "      <th>7860</th>\n",
              "      <td>autism</td>\n",
              "      <td>I have hypermobility and it’s getting so bad I...</td>\n",
              "      <td>153</td>\n",
              "      <td>1.960784</td>\n",
              "    </tr>\n",
              "  </tbody>\n",
              "</table>\n",
              "<p>18000 rows × 4 columns</p>\n",
              "</div>\n",
              "      <button class=\"colab-df-convert\" onclick=\"convertToInteractive('df-49da0f92-f6e8-476a-ae69-0bfa7ae9b490')\"\n",
              "              title=\"Convert this dataframe to an interactive table.\"\n",
              "              style=\"display:none;\">\n",
              "        \n",
              "  <svg xmlns=\"http://www.w3.org/2000/svg\" height=\"24px\"viewBox=\"0 0 24 24\"\n",
              "       width=\"24px\">\n",
              "    <path d=\"M0 0h24v24H0V0z\" fill=\"none\"/>\n",
              "    <path d=\"M18.56 5.44l.94 2.06.94-2.06 2.06-.94-2.06-.94-.94-2.06-.94 2.06-2.06.94zm-11 1L8.5 8.5l.94-2.06 2.06-.94-2.06-.94L8.5 2.5l-.94 2.06-2.06.94zm10 10l.94 2.06.94-2.06 2.06-.94-2.06-.94-.94-2.06-.94 2.06-2.06.94z\"/><path d=\"M17.41 7.96l-1.37-1.37c-.4-.4-.92-.59-1.43-.59-.52 0-1.04.2-1.43.59L10.3 9.45l-7.72 7.72c-.78.78-.78 2.05 0 2.83L4 21.41c.39.39.9.59 1.41.59.51 0 1.02-.2 1.41-.59l7.78-7.78 2.81-2.81c.8-.78.8-2.07 0-2.86zM5.41 20L4 18.59l7.72-7.72 1.47 1.35L5.41 20z\"/>\n",
              "  </svg>\n",
              "      </button>\n",
              "      \n",
              "  <style>\n",
              "    .colab-df-container {\n",
              "      display:flex;\n",
              "      flex-wrap:wrap;\n",
              "      gap: 12px;\n",
              "    }\n",
              "\n",
              "    .colab-df-convert {\n",
              "      background-color: #E8F0FE;\n",
              "      border: none;\n",
              "      border-radius: 50%;\n",
              "      cursor: pointer;\n",
              "      display: none;\n",
              "      fill: #1967D2;\n",
              "      height: 32px;\n",
              "      padding: 0 0 0 0;\n",
              "      width: 32px;\n",
              "    }\n",
              "\n",
              "    .colab-df-convert:hover {\n",
              "      background-color: #E2EBFA;\n",
              "      box-shadow: 0px 1px 2px rgba(60, 64, 67, 0.3), 0px 1px 3px 1px rgba(60, 64, 67, 0.15);\n",
              "      fill: #174EA6;\n",
              "    }\n",
              "\n",
              "    [theme=dark] .colab-df-convert {\n",
              "      background-color: #3B4455;\n",
              "      fill: #D2E3FC;\n",
              "    }\n",
              "\n",
              "    [theme=dark] .colab-df-convert:hover {\n",
              "      background-color: #434B5C;\n",
              "      box-shadow: 0px 1px 3px 1px rgba(0, 0, 0, 0.15);\n",
              "      filter: drop-shadow(0px 1px 2px rgba(0, 0, 0, 0.3));\n",
              "      fill: #FFFFFF;\n",
              "    }\n",
              "  </style>\n",
              "\n",
              "      <script>\n",
              "        const buttonEl =\n",
              "          document.querySelector('#df-49da0f92-f6e8-476a-ae69-0bfa7ae9b490 button.colab-df-convert');\n",
              "        buttonEl.style.display =\n",
              "          google.colab.kernel.accessAllowed ? 'block' : 'none';\n",
              "\n",
              "        async function convertToInteractive(key) {\n",
              "          const element = document.querySelector('#df-49da0f92-f6e8-476a-ae69-0bfa7ae9b490');\n",
              "          const dataTable =\n",
              "            await google.colab.kernel.invokeFunction('convertToInteractive',\n",
              "                                                     [key], {});\n",
              "          if (!dataTable) return;\n",
              "\n",
              "          const docLinkHtml = 'Like what you see? Visit the ' +\n",
              "            '<a target=\"_blank\" href=https://colab.research.google.com/notebooks/data_table.ipynb>data table notebook</a>'\n",
              "            + ' to learn more about interactive tables.';\n",
              "          element.innerHTML = '';\n",
              "          dataTable['output_type'] = 'display_data';\n",
              "          await google.colab.output.renderOutput(dataTable, element);\n",
              "          const docLink = document.createElement('div');\n",
              "          docLink.innerHTML = docLinkHtml;\n",
              "          element.appendChild(docLink);\n",
              "        }\n",
              "      </script>\n",
              "    </div>\n",
              "  </div>\n",
              "  "
            ]
          },
          "metadata": {},
          "execution_count": 14
        }
      ],
      "source": [
        "import string\n",
        "def punct_count(text):\n",
        "    count = sum([1 for punct in text if punct in string.punctuation])\n",
        "    return 100*count/len(text)\n",
        "mhsu_balanced['punct'] = mhsu_balanced['selftext'].apply(lambda x: punct_count(x))\n",
        "mhsu_balanced"
      ]
    },
    {
      "cell_type": "code",
      "execution_count": null,
      "metadata": {
        "colab": {
          "base_uri": "https://localhost:8080/",
          "height": 281
        },
        "id": "d7noDFTCZVL_",
        "outputId": "b45410f8-a511-4f3e-cb9f-42db5dabec9e"
      },
      "outputs": [
        {
          "output_type": "display_data",
          "data": {
            "text/plain": [
              "<Figure size 432x288 with 1 Axes>"
            ],
            "image/png": "[encoded data removed]"
          },
          "metadata": {
            "needs_background": "light"
          }
        }
      ],
      "source": [
        "# Evaluating the text length feature\n",
        "\n",
        "bins = np.linspace(0, 2000, 50)\n",
        "plt.hist(mhsu_balanced[mhsu_balanced['label'] == 'autism']['text_len'], bins, label='autism', density=True, stacked=True)\n",
        "plt.hist(mhsu_balanced[mhsu_balanced['label'] == 'depression']['text_len'], bins, label='depression', density=True, stacked=True)\n",
        "plt.hist(mhsu_balanced[mhsu_balanced['label'] == 'ADHD']['text_len'], bins, label='ADHD', density=True, stacked=True)\n",
        "plt.hist(mhsu_balanced[mhsu_balanced['label'] == 'anxiety']['text_len'], bins, label='Anxiety', density=True, stacked=True)\n",
        "plt.legend(loc='upper right')\n",
        "plt.title('Text length Feature')\n",
        "plt.show()"
      ]
    },
    {
      "cell_type": "code",
      "execution_count": null,
      "metadata": {
        "colab": {
          "base_uri": "https://localhost:8080/",
          "height": 281
        },
        "id": "GFltqtwPZYkv",
        "outputId": "1735efc7-eb6d-4ebc-8d9b-bf99e51b8c2c"
      },
      "outputs": [
        {
          "output_type": "display_data",
          "data": {
            "text/plain": [
              "<Figure size 432x288 with 1 Axes>"
            ],
            "image/png": "[encoded data removed]"
          },
          "metadata": {
            "needs_background": "light"
          }
        }
      ],
      "source": [
        "# Evaluating puctuation feature\n",
        "\n",
        "bins = np.linspace(0, 10)\n",
        "plt.hist(mhsu_balanced[mhsu_balanced['label'] == 'autism']['punct'], bins, label='autism', density=True, stacked=True)\n",
        "plt.hist(mhsu_balanced[mhsu_balanced['label'] == 'depression']['punct'], bins, label='depression', density=True, stacked=True)\n",
        "plt.hist(mhsu_balanced[mhsu_balanced['label'] == 'ADHD']['punct'], bins, label='ADHD', density=True, stacked=True)\n",
        "plt.hist(mhsu_balanced[mhsu_balanced['label'] == 'anxiety']['punct'], bins, label='Anxiety', density=True, stacked=True)\n",
        "plt.legend(loc='upper right')\n",
        "plt.title('Punctuation Feature')\n",
        "plt.show()"
      ]
    },
    {
      "cell_type": "code",
      "execution_count": null,
      "metadata": {
        "id": "B1z4obXyZbp8"
      },
      "outputs": [],
      "source": [
        "# Text Length plot\n",
        "\n",
        "bins = np.linspace(0, 2000, 50)\n",
        "plt.hist(mhsu_balanced['text_len'], bins)\n",
        "plt.title('Total Text length')\n",
        "plt.show()"
      ]
    },
    {
      "cell_type": "code",
      "execution_count": null,
      "metadata": {
        "id": "RPzHBlOLZeMj"
      },
      "outputs": [],
      "source": [
        "for i in [2,3,4,5]:\n",
        "    plt.hist((mhsu_balanced['text_len'])**(1/i), bins=50)\n",
        "    plt.title(f'Transform = 1/{i}')\n",
        "    plt.show()"
      ]
    },
    {
      "cell_type": "code",
      "execution_count": null,
      "metadata": {
        "colab": {
          "base_uri": "https://localhost:8080/",
          "height": 424
        },
        "id": "EObSJVq-ZhkQ",
        "outputId": "eb8733cd-68b5-4294-80b9-a237427c389d"
      },
      "outputs": [
        {
          "output_type": "execute_result",
          "data": {
            "text/plain": [
              "         label                                           selftext  text_len  \\\n",
              "31579  anxiety  Been trying to join some discord servers to ma...       928   \n",
              "32895  anxiety  I can’t stop worrying about it and thinking I ...       206   \n",
              "44954  anxiety                      I may have gerd lol. Imma see        29   \n",
              "39341  anxiety  I want to break no contact. I have this naggin...       700   \n",
              "39009  anxiety  \\ni’m in grad school now. but i went through 4...      1112   \n",
              "...        ...                                                ...       ...   \n",
              "7650    autism  I'll go first, proctor ingram, Whitechapel Cha...        82   \n",
              "9889    autism  i developed a fucking eating disorder im so fu...       106   \n",
              "9266    autism  Hey so this may be a dumb question but I all o...       290   \n",
              "7880    autism  This will literally fucking kill me. I’ve gott...       369   \n",
              "7860    autism  I have hypermobility and it’s getting so bad I...       153   \n",
              "\n",
              "          punct  \n",
              "31579  3.232759  \n",
              "32895  0.970874  \n",
              "44954  3.448276  \n",
              "39341  2.000000  \n",
              "39009  2.338129  \n",
              "...         ...  \n",
              "7650   7.317073  \n",
              "9889   0.000000  \n",
              "9266   1.379310  \n",
              "7880   2.439024  \n",
              "7860   1.960784  \n",
              "\n",
              "[18000 rows x 4 columns]"
            ],
            "text/html": [
              "\n",
              "  <div id=\"df-b6a6336e-db43-49a3-97e2-81347a4274c6\">\n",
              "    <div class=\"colab-df-container\">\n",
              "      <div>\n",
              "<style scoped>\n",
              "    .dataframe tbody tr th:only-of-type {\n",
              "        vertical-align: middle;\n",
              "    }\n",
              "\n",
              "    .dataframe tbody tr th {\n",
              "        vertical-align: top;\n",
              "    }\n",
              "\n",
              "    .dataframe thead th {\n",
              "        text-align: right;\n",
              "    }\n",
              "</style>\n",
              "<table border=\"1\" class=\"dataframe\">\n",
              "  <thead>\n",
              "    <tr style=\"text-align: right;\">\n",
              "      <th></th>\n",
              "      <th>label</th>\n",
              "      <th>selftext</th>\n",
              "      <th>text_len</th>\n",
              "      <th>punct</th>\n",
              "    </tr>\n",
              "  </thead>\n",
              "  <tbody>\n",
              "    <tr>\n",
              "      <th>31579</th>\n",
              "      <td>anxiety</td>\n",
              "      <td>Been trying to join some discord servers to ma...</td>\n",
              "      <td>928</td>\n",
              "      <td>3.232759</td>\n",
              "    </tr>\n",
              "    <tr>\n",
              "      <th>32895</th>\n",
              "      <td>anxiety</td>\n",
              "      <td>I can’t stop worrying about it and thinking I ...</td>\n",
              "      <td>206</td>\n",
              "      <td>0.970874</td>\n",
              "    </tr>\n",
              "    <tr>\n",
              "      <th>44954</th>\n",
              "      <td>anxiety</td>\n",
              "      <td>I may have gerd lol. Imma see</td>\n",
              "      <td>29</td>\n",
              "      <td>3.448276</td>\n",
              "    </tr>\n",
              "    <tr>\n",
              "      <th>39341</th>\n",
              "      <td>anxiety</td>\n",
              "      <td>I want to break no contact. I have this naggin...</td>\n",
              "      <td>700</td>\n",
              "      <td>2.000000</td>\n",
              "    </tr>\n",
              "    <tr>\n",
              "      <th>39009</th>\n",
              "      <td>anxiety</td>\n",
              "      <td>\\ni’m in grad school now. but i went through 4...</td>\n",
              "      <td>1112</td>\n",
              "      <td>2.338129</td>\n",
              "    </tr>\n",
              "    <tr>\n",
              "      <th>...</th>\n",
              "      <td>...</td>\n",
              "      <td>...</td>\n",
              "      <td>...</td>\n",
              "      <td>...</td>\n",
              "    </tr>\n",
              "    <tr>\n",
              "      <th>7650</th>\n",
              "      <td>autism</td>\n",
              "      <td>I'll go first, proctor ingram, Whitechapel Cha...</td>\n",
              "      <td>82</td>\n",
              "      <td>7.317073</td>\n",
              "    </tr>\n",
              "    <tr>\n",
              "      <th>9889</th>\n",
              "      <td>autism</td>\n",
              "      <td>i developed a fucking eating disorder im so fu...</td>\n",
              "      <td>106</td>\n",
              "      <td>0.000000</td>\n",
              "    </tr>\n",
              "    <tr>\n",
              "      <th>9266</th>\n",
              "      <td>autism</td>\n",
              "      <td>Hey so this may be a dumb question but I all o...</td>\n",
              "      <td>290</td>\n",
              "      <td>1.379310</td>\n",
              "    </tr>\n",
              "    <tr>\n",
              "      <th>7880</th>\n",
              "      <td>autism</td>\n",
              "      <td>This will literally fucking kill me. I’ve gott...</td>\n",
              "      <td>369</td>\n",
              "      <td>2.439024</td>\n",
              "    </tr>\n",
              "    <tr>\n",
              "      <th>7860</th>\n",
              "      <td>autism</td>\n",
              "      <td>I have hypermobility and it’s getting so bad I...</td>\n",
              "      <td>153</td>\n",
              "      <td>1.960784</td>\n",
              "    </tr>\n",
              "  </tbody>\n",
              "</table>\n",
              "<p>18000 rows × 4 columns</p>\n",
              "</div>\n",
              "      <button class=\"colab-df-convert\" onclick=\"convertToInteractive('df-b6a6336e-db43-49a3-97e2-81347a4274c6')\"\n",
              "              title=\"Convert this dataframe to an interactive table.\"\n",
              "              style=\"display:none;\">\n",
              "        \n",
              "  <svg xmlns=\"http://www.w3.org/2000/svg\" height=\"24px\"viewBox=\"0 0 24 24\"\n",
              "       width=\"24px\">\n",
              "    <path d=\"M0 0h24v24H0V0z\" fill=\"none\"/>\n",
              "    <path d=\"M18.56 5.44l.94 2.06.94-2.06 2.06-.94-2.06-.94-.94-2.06-.94 2.06-2.06.94zm-11 1L8.5 8.5l.94-2.06 2.06-.94-2.06-.94L8.5 2.5l-.94 2.06-2.06.94zm10 10l.94 2.06.94-2.06 2.06-.94-2.06-.94-.94-2.06-.94 2.06-2.06.94z\"/><path d=\"M17.41 7.96l-1.37-1.37c-.4-.4-.92-.59-1.43-.59-.52 0-1.04.2-1.43.59L10.3 9.45l-7.72 7.72c-.78.78-.78 2.05 0 2.83L4 21.41c.39.39.9.59 1.41.59.51 0 1.02-.2 1.41-.59l7.78-7.78 2.81-2.81c.8-.78.8-2.07 0-2.86zM5.41 20L4 18.59l7.72-7.72 1.47 1.35L5.41 20z\"/>\n",
              "  </svg>\n",
              "      </button>\n",
              "      \n",
              "  <style>\n",
              "    .colab-df-container {\n",
              "      display:flex;\n",
              "      flex-wrap:wrap;\n",
              "      gap: 12px;\n",
              "    }\n",
              "\n",
              "    .colab-df-convert {\n",
              "      background-color: #E8F0FE;\n",
              "      border: none;\n",
              "      border-radius: 50%;\n",
              "      cursor: pointer;\n",
              "      display: none;\n",
              "      fill: #1967D2;\n",
              "      height: 32px;\n",
              "      padding: 0 0 0 0;\n",
              "      width: 32px;\n",
              "    }\n",
              "\n",
              "    .colab-df-convert:hover {\n",
              "      background-color: #E2EBFA;\n",
              "      box-shadow: 0px 1px 2px rgba(60, 64, 67, 0.3), 0px 1px 3px 1px rgba(60, 64, 67, 0.15);\n",
              "      fill: #174EA6;\n",
              "    }\n",
              "\n",
              "    [theme=dark] .colab-df-convert {\n",
              "      background-color: #3B4455;\n",
              "      fill: #D2E3FC;\n",
              "    }\n",
              "\n",
              "    [theme=dark] .colab-df-convert:hover {\n",
              "      background-color: #434B5C;\n",
              "      box-shadow: 0px 1px 3px 1px rgba(0, 0, 0, 0.15);\n",
              "      filter: drop-shadow(0px 1px 2px rgba(0, 0, 0, 0.3));\n",
              "      fill: #FFFFFF;\n",
              "    }\n",
              "  </style>\n",
              "\n",
              "      <script>\n",
              "        const buttonEl =\n",
              "          document.querySelector('#df-b6a6336e-db43-49a3-97e2-81347a4274c6 button.colab-df-convert');\n",
              "        buttonEl.style.display =\n",
              "          google.colab.kernel.accessAllowed ? 'block' : 'none';\n",
              "\n",
              "        async function convertToInteractive(key) {\n",
              "          const element = document.querySelector('#df-b6a6336e-db43-49a3-97e2-81347a4274c6');\n",
              "          const dataTable =\n",
              "            await google.colab.kernel.invokeFunction('convertToInteractive',\n",
              "                                                     [key], {});\n",
              "          if (!dataTable) return;\n",
              "\n",
              "          const docLinkHtml = 'Like what you see? Visit the ' +\n",
              "            '<a target=\"_blank\" href=https://colab.research.google.com/notebooks/data_table.ipynb>data table notebook</a>'\n",
              "            + ' to learn more about interactive tables.';\n",
              "          element.innerHTML = '';\n",
              "          dataTable['output_type'] = 'display_data';\n",
              "          await google.colab.output.renderOutput(dataTable, element);\n",
              "          const docLink = document.createElement('div');\n",
              "          docLink.innerHTML = docLinkHtml;\n",
              "          element.appendChild(docLink);\n",
              "        }\n",
              "      </script>\n",
              "    </div>\n",
              "  </div>\n",
              "  "
            ]
          },
          "metadata": {},
          "execution_count": 21
        }
      ],
      "source": [
        "mhsu_balanced"
      ]
    },
    {
      "cell_type": "code",
      "execution_count": null,
      "metadata": {
        "id": "fqt3fL1oZo_S"
      },
      "outputs": [],
      "source": [
        "stop_words = set(stopwords) - set(['not', \"don't\", \"didn't\", \"hadn't\", \"hasn't\", \"haven't\", \"won't\", \"wouldn't\" ])\n",
        "def clean_text(text):\n",
        "    text = \"\".join([word.lower() for word in text if word not in string.punctuation])\n",
        "    sentence = text.replace(r\"http\\S+\", \"\")\n",
        "    sentence = sentence.replace(r'^https?:\\/\\/.*[\\r\\n]*', '')\n",
        "    sentence = sentence.replace(r\"https\\S+\", \"\")\n",
        "    sentence = sentence.replace(r\"http\", \"\")\n",
        "    sentence = sentence.replace(r\"https\", \"\")\n",
        "    tokens = re.split('\\W+', sentence)\n",
        "    text = [word for word in tokens if word not in stop_words]\n",
        "    text = [word for word in text if word.isalpha()]\n",
        "    text = \" \".join(text)\n",
        "    return text"
      ]
    },
    {
      "cell_type": "code",
      "execution_count": null,
      "metadata": {
        "colab": {
          "base_uri": "https://localhost:8080/",
          "height": 424
        },
        "id": "cRroaQgOZsUo",
        "outputId": "586527dd-9a0c-4038-d57e-4e07974c90ff"
      },
      "outputs": [
        {
          "output_type": "execute_result",
          "data": {
            "text/plain": [
              "         label                                           selftext  \\\n",
              "31579  anxiety  Been trying to join some discord servers to ma...   \n",
              "32895  anxiety  I can’t stop worrying about it and thinking I ...   \n",
              "44954  anxiety                      I may have gerd lol. Imma see   \n",
              "39341  anxiety  I want to break no contact. I have this naggin...   \n",
              "39009  anxiety  \\ni’m in grad school now. but i went through 4...   \n",
              "...        ...                                                ...   \n",
              "7650    autism  I'll go first, proctor ingram, Whitechapel Cha...   \n",
              "9889    autism  i developed a fucking eating disorder im so fu...   \n",
              "9266    autism  Hey so this may be a dumb question but I all o...   \n",
              "7880    autism  This will literally fucking kill me. I’ve gott...   \n",
              "7860    autism  I have hypermobility and it’s getting so bad I...   \n",
              "\n",
              "                                              clean_text  \n",
              "31579  trying join discord servers make new friends u...  \n",
              "32895  stop worrying thinking severe health anxiety o...  \n",
              "44954                              may gerd lol imma see  \n",
              "39341  want break contact nagging urge write text mes...  \n",
              "39009  grad school went years college never made clos...  \n",
              "...                                                  ...  \n",
              "7650   ill go first proctor ingram whitechapel charli...  \n",
              "9889   developed fucking eating disorder im fucking t...  \n",
              "9266   hey may dumb question sudden got really itchy ...  \n",
              "7880   literally fucking kill gotten circle friends e...  \n",
              "7860   hypermobility getting bad stand anymore need s...  \n",
              "\n",
              "[18000 rows x 3 columns]"
            ],
            "text/html": [
              "\n",
              "  <div id=\"df-24e922f8-c13d-4145-8ab1-569c25c8ce24\">\n",
              "    <div class=\"colab-df-container\">\n",
              "      <div>\n",
              "<style scoped>\n",
              "    .dataframe tbody tr th:only-of-type {\n",
              "        vertical-align: middle;\n",
              "    }\n",
              "\n",
              "    .dataframe tbody tr th {\n",
              "        vertical-align: top;\n",
              "    }\n",
              "\n",
              "    .dataframe thead th {\n",
              "        text-align: right;\n",
              "    }\n",
              "</style>\n",
              "<table border=\"1\" class=\"dataframe\">\n",
              "  <thead>\n",
              "    <tr style=\"text-align: right;\">\n",
              "      <th></th>\n",
              "      <th>label</th>\n",
              "      <th>selftext</th>\n",
              "      <th>clean_text</th>\n",
              "    </tr>\n",
              "  </thead>\n",
              "  <tbody>\n",
              "    <tr>\n",
              "      <th>31579</th>\n",
              "      <td>anxiety</td>\n",
              "      <td>Been trying to join some discord servers to ma...</td>\n",
              "      <td>trying join discord servers make new friends u...</td>\n",
              "    </tr>\n",
              "    <tr>\n",
              "      <th>32895</th>\n",
              "      <td>anxiety</td>\n",
              "      <td>I can’t stop worrying about it and thinking I ...</td>\n",
              "      <td>stop worrying thinking severe health anxiety o...</td>\n",
              "    </tr>\n",
              "    <tr>\n",
              "      <th>44954</th>\n",
              "      <td>anxiety</td>\n",
              "      <td>I may have gerd lol. Imma see</td>\n",
              "      <td>may gerd lol imma see</td>\n",
              "    </tr>\n",
              "    <tr>\n",
              "      <th>39341</th>\n",
              "      <td>anxiety</td>\n",
              "      <td>I want to break no contact. I have this naggin...</td>\n",
              "      <td>want break contact nagging urge write text mes...</td>\n",
              "    </tr>\n",
              "    <tr>\n",
              "      <th>39009</th>\n",
              "      <td>anxiety</td>\n",
              "      <td>\\ni’m in grad school now. but i went through 4...</td>\n",
              "      <td>grad school went years college never made clos...</td>\n",
              "    </tr>\n",
              "    <tr>\n",
              "      <th>...</th>\n",
              "      <td>...</td>\n",
              "      <td>...</td>\n",
              "      <td>...</td>\n",
              "    </tr>\n",
              "    <tr>\n",
              "      <th>7650</th>\n",
              "      <td>autism</td>\n",
              "      <td>I'll go first, proctor ingram, Whitechapel Cha...</td>\n",
              "      <td>ill go first proctor ingram whitechapel charli...</td>\n",
              "    </tr>\n",
              "    <tr>\n",
              "      <th>9889</th>\n",
              "      <td>autism</td>\n",
              "      <td>i developed a fucking eating disorder im so fu...</td>\n",
              "      <td>developed fucking eating disorder im fucking t...</td>\n",
              "    </tr>\n",
              "    <tr>\n",
              "      <th>9266</th>\n",
              "      <td>autism</td>\n",
              "      <td>Hey so this may be a dumb question but I all o...</td>\n",
              "      <td>hey may dumb question sudden got really itchy ...</td>\n",
              "    </tr>\n",
              "    <tr>\n",
              "      <th>7880</th>\n",
              "      <td>autism</td>\n",
              "      <td>This will literally fucking kill me. I’ve gott...</td>\n",
              "      <td>literally fucking kill gotten circle friends e...</td>\n",
              "    </tr>\n",
              "    <tr>\n",
              "      <th>7860</th>\n",
              "      <td>autism</td>\n",
              "      <td>I have hypermobility and it’s getting so bad I...</td>\n",
              "      <td>hypermobility getting bad stand anymore need s...</td>\n",
              "    </tr>\n",
              "  </tbody>\n",
              "</table>\n",
              "<p>18000 rows × 3 columns</p>\n",
              "</div>\n",
              "      <button class=\"colab-df-convert\" onclick=\"convertToInteractive('df-24e922f8-c13d-4145-8ab1-569c25c8ce24')\"\n",
              "              title=\"Convert this dataframe to an interactive table.\"\n",
              "              style=\"display:none;\">\n",
              "        \n",
              "  <svg xmlns=\"http://www.w3.org/2000/svg\" height=\"24px\"viewBox=\"0 0 24 24\"\n",
              "       width=\"24px\">\n",
              "    <path d=\"M0 0h24v24H0V0z\" fill=\"none\"/>\n",
              "    <path d=\"M18.56 5.44l.94 2.06.94-2.06 2.06-.94-2.06-.94-.94-2.06-.94 2.06-2.06.94zm-11 1L8.5 8.5l.94-2.06 2.06-.94-2.06-.94L8.5 2.5l-.94 2.06-2.06.94zm10 10l.94 2.06.94-2.06 2.06-.94-2.06-.94-.94-2.06-.94 2.06-2.06.94z\"/><path d=\"M17.41 7.96l-1.37-1.37c-.4-.4-.92-.59-1.43-.59-.52 0-1.04.2-1.43.59L10.3 9.45l-7.72 7.72c-.78.78-.78 2.05 0 2.83L4 21.41c.39.39.9.59 1.41.59.51 0 1.02-.2 1.41-.59l7.78-7.78 2.81-2.81c.8-.78.8-2.07 0-2.86zM5.41 20L4 18.59l7.72-7.72 1.47 1.35L5.41 20z\"/>\n",
              "  </svg>\n",
              "      </button>\n",
              "      \n",
              "  <style>\n",
              "    .colab-df-container {\n",
              "      display:flex;\n",
              "      flex-wrap:wrap;\n",
              "      gap: 12px;\n",
              "    }\n",
              "\n",
              "    .colab-df-convert {\n",
              "      background-color: #E8F0FE;\n",
              "      border: none;\n",
              "      border-radius: 50%;\n",
              "      cursor: pointer;\n",
              "      display: none;\n",
              "      fill: #1967D2;\n",
              "      height: 32px;\n",
              "      padding: 0 0 0 0;\n",
              "      width: 32px;\n",
              "    }\n",
              "\n",
              "    .colab-df-convert:hover {\n",
              "      background-color: #E2EBFA;\n",
              "      box-shadow: 0px 1px 2px rgba(60, 64, 67, 0.3), 0px 1px 3px 1px rgba(60, 64, 67, 0.15);\n",
              "      fill: #174EA6;\n",
              "    }\n",
              "\n",
              "    [theme=dark] .colab-df-convert {\n",
              "      background-color: #3B4455;\n",
              "      fill: #D2E3FC;\n",
              "    }\n",
              "\n",
              "    [theme=dark] .colab-df-convert:hover {\n",
              "      background-color: #434B5C;\n",
              "      box-shadow: 0px 1px 3px 1px rgba(0, 0, 0, 0.15);\n",
              "      filter: drop-shadow(0px 1px 2px rgba(0, 0, 0, 0.3));\n",
              "      fill: #FFFFFF;\n",
              "    }\n",
              "  </style>\n",
              "\n",
              "      <script>\n",
              "        const buttonEl =\n",
              "          document.querySelector('#df-24e922f8-c13d-4145-8ab1-569c25c8ce24 button.colab-df-convert');\n",
              "        buttonEl.style.display =\n",
              "          google.colab.kernel.accessAllowed ? 'block' : 'none';\n",
              "\n",
              "        async function convertToInteractive(key) {\n",
              "          const element = document.querySelector('#df-24e922f8-c13d-4145-8ab1-569c25c8ce24');\n",
              "          const dataTable =\n",
              "            await google.colab.kernel.invokeFunction('convertToInteractive',\n",
              "                                                     [key], {});\n",
              "          if (!dataTable) return;\n",
              "\n",
              "          const docLinkHtml = 'Like what you see? Visit the ' +\n",
              "            '<a target=\"_blank\" href=https://colab.research.google.com/notebooks/data_table.ipynb>data table notebook</a>'\n",
              "            + ' to learn more about interactive tables.';\n",
              "          element.innerHTML = '';\n",
              "          dataTable['output_type'] = 'display_data';\n",
              "          await google.colab.output.renderOutput(dataTable, element);\n",
              "          const docLink = document.createElement('div');\n",
              "          docLink.innerHTML = docLinkHtml;\n",
              "          element.appendChild(docLink);\n",
              "        }\n",
              "      </script>\n",
              "    </div>\n",
              "  </div>\n",
              "  "
            ]
          },
          "metadata": {},
          "execution_count": 14
        }
      ],
      "source": [
        "mhsu_balanced['clean_text'] = mhsu_balanced['selftext'].map(lambda x : clean_text(x))\n",
        "mhsu_balanced"
      ]
    },
    {
      "cell_type": "code",
      "execution_count": null,
      "metadata": {
        "id": "0syvKwIUZu-K"
      },
      "outputs": [],
      "source": [
        "from sklearn.feature_extraction.text import CountVectorizer\n",
        "\n",
        "#tokenized_text = tfidf_vect.get_feature_names()\n",
        "\n",
        "def get_toptext_ngrams(corpus, ngrams=(1, 1), nr=None):\n",
        "    \"\"\"\n",
        "    creates a bag of ngrams and counts ngram frequency.\n",
        "\n",
        "    Returns a list of tuples: (ngram, count)\n",
        "    \"\"\"\n",
        "    vec = CountVectorizer(ngram_range=ngrams, stop_words = 'english').fit(corpus)\n",
        "    bag_of_words = vec.transform(corpus)\n",
        "    sum_words = bag_of_words.sum(axis=0)\n",
        "    words_freq = [(word, sum_words[0, idx]) for word, idx in vec.vocabulary_.items()]\n",
        "    words_freq = sorted(words_freq, key=lambda x: x[1], reverse=True)\n",
        "    return words_freq[:nr]"
      ]
    },
    {
      "cell_type": "code",
      "execution_count": null,
      "metadata": {
        "id": "6kgLDFPuZ1uK",
        "colab": {
          "base_uri": "https://localhost:8080/"
        },
        "outputId": "dd19639d-7d41-4ab7-8f03-9c40ccadaaca"
      },
      "outputs": [
        {
          "output_type": "stream",
          "name": "stdout",
          "text": [
            "[('feel like im', 277), ('dont know im', 76), ('dont feel like', 70), ('im pretty sure', 68), ('long story short', 66), ('dont really know', 58), ('makes feel like', 57), ('feel like shit', 49), ('like feel like', 48), ('feel like going', 47)]\n"
          ]
        }
      ],
      "source": [
        "top_text_ngrams = get_toptext_ngrams(mhsu_balanced.clean_text, ngrams=(3, 3), nr=10)\n",
        "print(top_text_ngrams)"
      ]
    },
    {
      "cell_type": "code",
      "execution_count": null,
      "metadata": {
        "colab": {
          "base_uri": "https://localhost:8080/",
          "height": 516
        },
        "id": "NGAbV0EuZ4Tl",
        "outputId": "06907792-8217-44ca-b96f-2a722a95b420"
      },
      "outputs": [
        {
          "output_type": "execute_result",
          "data": {
            "text/plain": [
              "Text(0.5, 1.0, 'Distribution of Top-10 Tri-gram in the corpus')"
            ]
          },
          "metadata": {},
          "execution_count": 18
        },
        {
          "output_type": "display_data",
          "data": {
            "text/plain": [
              "<Figure size 1152x576 with 1 Axes>"
            ],
            "image/png": "[encoded data removed]"
          },
          "metadata": {
            "needs_background": "light"
          }
        }
      ],
      "source": [
        "x, y = zip(*top_text_ngrams)\n",
        "plt.figure(1, figsize=(16, 8))\n",
        "plt.subplot(1, 1, 1)\n",
        "plt.bar(x, y)\n",
        "plt.title('Distribution of Top-10 Tri-gram in the corpus')"
      ]
    },
    {
      "cell_type": "code",
      "execution_count": null,
      "metadata": {
        "colab": {
          "base_uri": "https://localhost:8080/"
        },
        "id": "XesY4NfbZ_MV",
        "outputId": "0e8e08a8-5f80-47e8-89cb-771532cfcf4c"
      },
      "outputs": [
        {
          "output_type": "stream",
          "name": "stdout",
          "text": [
            "(18000, 10672)\n",
            "['abandoned disappointed fall', 'abdominal pain pelvic', 'able afford nice', 'able feel bed', 'able health issues', 'able hear purr', 'able live dignity', 'able live life', 'able make friends', 'able make money', 'able overcome similar', 'able pay attention', 'able play game', 'able really poop', 'able say goodbye', 'able stop ruminating', 'able struggles fact', 'able swallow food', 'able transition selfemployment', 'abnorm irregular period', 'abnormal colours cause', 'abnormal smear years', 'absences adhere laws', 'absolutely shook came', 'absolutely social medical', 'absolutely terrible years', 'absolutely worth overtime', 'abuse issues insomnia', 'abused years multiple', 'abusive person fuck', 'academic future really', 'academically failing multiple', 'academically prime socially', 'academically staying strong', 'accent meaning hard', 'accent talk quite', 'accept supportive non', 'accepted bid wire', 'access garden said', 'accessory parotid gland', 'accommodations ok course', 'accompanied overwhelmingly horrible', 'account gold year', 'accused talking people', 'accutane high school', 'ache emptiness felt', 'ache ignore long', 'ache rashes started', 'ache stop stand', 'aches pains discomforts', 'aches rashes rashes', 'aches wasbt sure', 'achey bit tingly', 'achieve goal thanks', 'achieving kid played', 'aching discomfort goes', 'acid cycle instead', 'acidosis occur used', 'acknowledge mistake doubt', 'act like cool', 'act like dont', 'act like normal', 'act suicidal thoughts', 'acting consequence chemical', 'acting like beat', 'acting like sociopath', 'action lack motivation', 'action tail attacks', 'action threatened cops', 'active reddit recently', 'actively talking let', 'activity explained feel', 'acts irrationally silent', 'actually boy like', 'actually dating live', 'actually dont know', 'actually dont want', 'actually elderly point', 'actually feel better', 'actually feel like', 'actually feel worse', 'actually feeling pretty', 'actually felt like', 'actually ghosted thoughts', 'actually happened october', 'actually happened thought', 'actually happened today', 'actually look like', 'actually looked sad', 'actually lying relic', 'actually new cats', 'actually pretty easy', 'actually pretty good', 'actually really enjoyed', 'actually survive country', 'actually technically left', 'actually telling truth', 'add fluvoxamine stop', 'add schizophrenia bpd', 'add willing wait', 'added changed great', 'adderall explicitly stated', 'addition prayer life', 'additional things spice', 'additionthis actually happened', 'address intended donation', 'address knocked belongings', 'adhd add schizophrenia', 'adhd anxiety depression', 'adhd anxiety diverting', 'adhd depression anxiety', 'adhd depression view', 'adhd diagnosis soon', 'adhd doctor says', 'adhd dont know', 'adhd explains lot', 'adhd feel like', 'adhd fit profile', 'adhd going psychiatrist', 'adhd months ago', 'adhd share bunch', 'adhere laws barely', 'admit fired interview', 'admit im neurodivergent', 'admit things honestly', 'admitted fond talking', 'admittedly clean cpap', 'adolescence lost faith', 'adultparent type shes', 'adults nope confront', 'advance suggestions process', 'advance wish luck', 'adventurer npcs local', 'adventurers attack dragon', 'adventurers bring army', 'adventurers deal fallout', 'adventurers stop killing', 'adverse reaction edible', 'advice appreciated thank', 'advice better help', 'advice feel like', 'advice greatly appreciated', 'advice helps thanks', 'advice improve life', 'advice internet strangers', 'advice lost gorgeous', 'advice month ago', 'advice non binary', 'advice people feel', 'advice really appreciated', 'advice sending encouraging', 'advice thanks advance', 'advice thanks time', 'advice think going', 'advise want waste', 'advised check response', 'af decided add', 'af im constantly', 'afab came non', 'afab person family', 'affecting daily life', 'affects lower arm', 'afford nice car', 'afk display armor', 'afraid forget going', 'afraid wont like', 'african parenting finest', 'aftercare public school', 'afternoon today feel', 'age conquering issues', 'age dd instead', 'age faster like', 'age feel like', 'age maybe handful', 'ages server canvas', 'aggravated hurt bit', 'aggressive gendering know', 'aggressive propagandizing attack', 'aggressively patriotic propaganda', 'ago cleaning panoramic', 'ago closest friends', 'ago doctors loss', 'ago dont know', 'ago dont remember', 'ago dont think', 'ago feel like', 'ago feels like', 'ago felt like', 'ago history endometriosis', 'ago ive used', 'ago kind came', 'ago legit like', 'ago met guy', 'ago pressing cheeks', 'ago quite suddenly', 'ago struggling pretty', 'ago sudden limping', 'ago think time', 'ago thought calling', 'ago thought man', 'ago treasure peak', 'ago wfh want', 'ago work sent', 'ago worry bet', 'agreed really care', 'agrees sound stupid', 'ahead hoping bit', 'ahead thing happen', 'ailments stemming obesity', 'air floaty weird', 'air getting correctly', 'alarmed showed morning', 'alcohol im talking', 'alcohol personality change', 'alerts coupe days', 'alexander scriabin born', 'align probiotic day', 'alive feel like', 'allergic reaction havent', 'allergist anaphylaxis lupus', 'allergy trouble breathing', 'allowed let know', 'allowed work home', 'allowing people meds', 'alot things hurts', 'alright used breathing', 'alternative plot dragon', 'altogether helpless husband', 'altruism exists free', 'amazing best friends', 'amazing woman started', 'amazing year really', 'amazon miserable peopleto', 'amazon thought issue', 'amazon wasnt board', 'amber alerts coupe', 'ambulance brought main', 'ambush takes thief', 'americans way books', 'amounts time spot', 'ana blood test', 'anaphylactic reactions foods', 'anaphylaxis lupus redness', 'ancient car gonna', 'andor family important', 'anger issues substance', 'angry dont know', 'angry people bf', 'anhedonia officially diagnosed', 'animal im sitting', 'ankle swelled experienced', 'ankle weeks ago', 'annoying blow thats', 'answer questions appreciate', 'answer questions telling', 'antidepressant given sort', 'antidepressant quitting stand', 'antidepressants adderall explicitly', 'antidepressants months taking', 'antidepressants place started', 'antidepressants trying treat', 'antidiagnosinganythingmental dad ordered', 'antihistamine doctor prescribed', 'anxiety adhd depression', 'anxiety causes anxiety', 'anxiety causing symptoms', 'anxiety didnt misbehave', 'anxiety didnt particularly', 'anxiety disorders phobias', 'anxiety diverting normal', 'anxiety dont know', 'anxiety experience tldr', 'anxiety feel like', 'anxiety feels like', 'anxiety good ass', 'anxiety health anxiety', 'anxiety im scared', 'anxiety im trying', 'anxiety im worried', 'anxiety issues need', 'anxiety keeps telling', 'anxiety know ask', 'anxiety long time', 'anxiety main reason', 'anxiety make feel', 'anxiety makes feel', 'anxiety ocd ed', 'anxiety panic attack', 'anxiety panic attacks', 'anxiety panic disorder', 'anxiety past months', 'anxiety really hard', 'anxiety social anxiety', 'anxiety spoke doctor', 'anxiety started triggered', 'anxiety therapist recommended', 'anxiety went away', 'anxiety world long', 'anxietypanic attack sensitive', 'anxious day point', 'anxious entire time', 'anxious feel like', 'anxious feel sick', 'anxious person got', 'anxious sad situation', 'anxious self question', 'anybody feel way', 'anymore able feel', 'anymore dont care', 'anymore dont know', 'anymore dont want', 'anymore enjoyed hour', 'anymore feel like', 'anymore feels like', 'anymore felt comfortable', 'anymore heard silence', 'anymore irritating thing', 'anymore ive suffering', 'anymore like forced', 'anymore loneliness painful', 'anymore medications spiraling', 'anymore mention extended', 'anymore moment accompanied', 'anymore paint creative', 'anymore really want', 'anymore slightly elevated', 'anytime head bumped', 'anyways going bigger', 'ap world history', 'apart different cities', 'apart dramatically academically', 'apart escape world', 'apartment barely new', 'apnea use cpap', 'apologetic kind way', 'app asking make', 'appalled little crippling', 'apparently missed spot', 'appeared bad panic', 'appeared finally got', 'appearing follicular cyst', 'appetite extremely fast', 'appetite loss weight', 'application crash pc', 'appointment tomorrow additionthis', 'appreciate advice people', 'appreciate dont know', 'appreciate feedback experiences', 'appreciate help thanks', 'appreciate provide financial', 'appreciated end day', 'appreciated honesty fast', 'appreciated thanks advance', 'approach asked number', 'approach boss burning', 'approach need help', 'appropriate thing locker', 'approval said life', 'apps daily things', 'apps help hobbies', 'apps lower screen', 'april shake terrible', 'arcane relic immense', 'area issue closest', 'arent good thing', 'arguing caused dominao', 'arguing mi madre', 'argument ended new', 'argument goes dont', 'arguments like shed', 'arguments mil calls', 'arm prick feeling', 'armor statues armored', 'armored elytra cauldron', 'arms achey bit', 'arms arms achey', 'arms checked mirror', 'arms flailing im', 'arms like crazy', 'arms like invisible', 'arms porcelain talk', 'arms regardless intentions', 'army orcs lying', 'arranged marriageand moved', 'array mental illnesses', 'arrows spells fangs', 'asd service dog', 'ashamed feel like', 'aside especially teenager', 'aside lived life', 'ask know appropriate', 'ask mum use', 'ask questions like', 'ask questions thank', 'ask said bad', 'ask talking tell', 'asked feel really', 'asked feels finally', 'asked feels reach', 'asked number fun', 'asked say friends', 'asked terminated said', 'asked use sheher', 'asked wanted said', 'asking feel like', 'asking help feel', 'asking make accessible', 'asking right moment', 'asking whats wrong', 'aspergers autism ocd', 'aspergers thing feel', 'ass day playing', 'assault id partaken', 'assault went weed', 'assessment symptoms life', 'asshole trying talk', 'assignments students teachers', 'assume talked know', 'assume worst case', 'assumed stress stomach', 'assumed symptoms infection', 'assuming pull hold', 'astronaut dont want', 'asunder begone cut', 'ate bowl cereal', 'atleast month poor', 'attack adventurers deal', 'attack dragon dragon', 'attack dragon fighting', 'attack fears getting', 'attack know answer', 'attack sensitive surroundings', 'attack soil mobilize', 'attacks bad ocd', 'attacks dissociationdepersonalization episodes', 'attacks havent calculated', 'attacks literally passing', 'attacks pull program', 'attacks shortness breath', 'attacks started postmatesuber', 'attacks thoughts thinking', 'attending community college', 'attention pain dont', 'attention span apps', 'attention tend interrupt', 'attention theyve said', 'attention things concentration', 'attracted open idea', 'attracted true personality', 'attractive girls depressed', 'attractive tho wanted', 'audio message screaming', 'aurorix heard effect', 'authoritarian dictating want', 'autism adhd anxiety', 'autism ocd adhd', 'autism service dog', 'autism spectrum disorder', 'autism spectrum result', 'autistic people told', 'autistic person anxiety', 'automatically correct gets', 'average build brown', 'average person probably', 'avoid fight party', 'avoid sleeping wanna', 'avoiding job anxiety', 'avoiding online dating', 'avoiding personality disorder', 'awake know long', 'aware im hitting', 'away charge arguing', 'away feel like', 'away honestly regret', 'away im stuck', 'away marriage hope', 'away original issue', 'away today issues', 'away years ago', 'awful help social', 'awkward point stand', 'baby months ago', 'baby months old', 'background check drug', 'background id smoking', 'backtalking making excuses', 'backyard mushrooms heart', 'bad able health', 'bad academically failing', 'bad anxiety attack', 'bad anxiety depression', 'bad anxiety past', 'bad began acting', 'bad communicating elderly', 'bad contamination fears', 'bad day anxiety', 'bad deep wrinkles', 'bad dont know', 'bad dont want', 'bad english im', 'bad experience emotions', 'bad feel like', 'bad going happen', 'bad guy makes', 'bad guys trying', 'bad health anxiety', 'bad hear breathing', 'bad intrusive thoughts', 'bad know people', 'bad making people', 'bad mood dont', 'bad ocd sit', 'bad panic attack', 'bad panic attacks', 'bad person emotional', 'bad person love', 'bad social anxiety', 'bad suddenly like', 'bad taste mouth', 'bad thing feel', 'bad thing usually', 'bad things happen', 'bad things happening', 'bad want curl', 'bad watching like', 'badly dont like', 'badly wanted young', 'baggy eyes red', 'balance fall blurred', 'balance randomly lose', 'balance work mentalphysicalsocial', 'balcony blows mouth', 'band adventurer npcs', 'banging ground hard', 'banging head arms', 'bank work home', 'barely new shameful', 'barely roommates called', 'barely sickening started', 'barely talk people', 'barely walk talk', 'barely watch tv', 'baring enormous teeth', 'barking essentially pushover', 'based united states', 'bases jobs tried', 'basic adhd screening', 'basic premise remains', 'basically feel like', 'basically feels like', 'basically pushed aside', 'basically spoke lift', 'basically title says', 'basically working true', 'batch weed decided', 'bathroom floor toilet', 'bathroom looking mirror', 'bathroom threatened kick', 'bathroom vague idea', 'bathroom wished like', 'battery life comfortable', 'battled night didnt', 'bc feel like', 'bc want fully', 'bcs dont want', 'beak histamine allergist', 'bear flatmate downstairs', 'beast thats local', 'bed anymore heard', 'bed body began', 'bed dark wait', 'bed day long', 'bed hours lucid', 'bed lifting thats', 'bed shopping stores', 'bed thinking fucked', 'bedbugs day went', 'bedbugs got bedbugsniffing', 'bedbugs partner didnt', 'bedbugsniffing dog check', 'bedroom meditating friend', 'bedside table mother', 'bee hive lgbtq', 'began acting like', 'began question political', 'began slowly convulsing', 'began texting frequently', 'began warming obviously', 'begged protected sensed', 'begin ache ignore', 'beginning life going', 'begins happen usually', 'begins hours activity', 'begone cut like', 'believe asked feel', 'believe biteshiveswhatever infected', 'believe dragon good', 'believe dragon says', 'believe experienced like', 'believe happened day', 'believe harder brothers', 'believe like ive', 'believe removes opportunity', 'believe story like', 'believe true second', 'believe universe plan', 'believing non binary', 'belongings supplies table', 'bending downwards cause', 'benefits praying scripture', 'benign polyp hiatal', 'best course action', 'best friend completely', 'best friend focus', 'best friend huge', 'best friend living', 'best friend lost', 'best friend really', 'best friend tanked', 'best friend years', 'best friends amazing', 'best friends gaslighted', 'best friends life', 'best kind started', 'best place ask', 'best team world', 'best thing happened', 'best way feel', 'best way possible', 'bet years lower', 'better advice better', 'better dont know', 'better dont think', 'better feel like', 'better feels like', 'better help really', 'better hospital figuring', 'better im tired', 'better lot people', 'better mental health', 'better place post', 'better safe sorry', 'better sense humor', 'bf toxic hell', 'bicepsunderarms thought bedbugs', 'bid wire new', 'big aspergers thing', 'big deal feel', 'big screen debut', 'bigger size flattened', 'bigger things im', 'biggest dreams problem', 'biggest insecurities feel', 'binary idea react', 'binary legally recognised', 'binary like actually', 'binary mum gotten', 'binary particularly want', 'binary realising trans', 'binary recently watched', 'binary yeah thoughts', 'bipolar anger issues', 'bipolar generalized anxiety', 'bipolar slightly known', 'bird chew hands', 'birth control pills', 'birth control think', 'bisexual nonbinary lesbian', 'bit advice lost', 'bit better advice', 'bit feel like', 'bit feels like', 'bit life accessible', 'bit looked exact', 'bit really want', 'bit started talking', 'bit swollen need', 'bit tender outside', 'bit tender pain', 'bit tingly feels', 'bit weird texts', 'bitcoin cash possibility', 'bites arms arms', 'bites counted distinct', 'bites havent seen', 'bites high hell', 'bites stomach swells', 'bites total bicepsunderarms', 'biteshiveswhatever infected im', 'bizzare built stress', 'black pc reboots', 'black white thinking', 'black work trousers', 'blackboard terrible feeling', 'blades arrows spells', 'blah blah blah', 'blah blah happen', 'blah happen really', 'blank relationship lost', 'blank said um', 'blank weirdest generally', 'blasting high energy', 'bled moderately days', 'bleeding weeping assumed', 'blessed im happy', 'blessed want know', 'blind bit life', 'bloated day past', 'bloating getting fast', 'block defensive cr', 'blood cell count', 'blood flow left', 'blood stool know', 'blood test waiting', 'blood tests hormones', 'bloodied weary laid', 'bloodwork check hormones', 'blow thats nice', 'blows mouth boom', 'blue aggressive gendering', 'blurb spacetoken thought', 'blurred vision severe', 'board ideas fine', 'boarding business access', 'bodily symptoms changes', 'body banging head', 'body began slowly', 'body different aches', 'body difficult start', 'body feel like', 'body feels heavy', 'body feels like', 'body im sure', 'body like mentally', 'body overwhelming watching', 'body painful uncomfortable', 'body panic attacks', 'body pound message', 'body react ill', 'body soap drug', 'body trying learn', 'bond millie cried', 'bonuses care started', 'book anymore paint', 'book neck begin', 'books internet way', 'boom thats immediately', 'boom thought body', 'boost ensure naked', 'booster days prior', 'booting tarkov installed', 'borderline personality disorder', 'borderline physically abusive', 'borderline suiiiicedde thoughts', 'bore things love', 'bored remember going', 'bored therapy semester', 'boring feel like', 'born christmas day', 'born male causes', 'bose quietcomfort ii', 'boss burning bridges', 'bosses wants tag', 'bother appreciated honesty', 'bother havent gotten', 'bought dao enzymes', 'bought second hand', 'boundaries tells mind', 'bowel movements severe', 'bowl cereal got', 'boxes makes sense', 'boy called leo', 'boy cause little', 'boy girl trans', 'boy ish liked', 'boy like rollercoaster', 'boyfriend girlfriend care', 'boyfriend legs kicking', 'boyfriend smoking weed', 'bpd huntingtons bipolar', 'brain doesnt work', 'brain feels like', 'brain gets bored', 'brain got really', 'brain like remember', 'brain loses concentration', 'brain wont shut', 'brand new looking', 'brand new server', 'bras hated painting', 'break getting stomach', 'break necks bad', 'break skin like', 'break subsided felt', 'breaking yowl knew', 'breast cancer pgf', 'breath case er', 'breath fresh air', 'breath hate think', 'breath like air', 'breath like tickling', 'breath probablly sounded', 'breath relieve body', 'breath sensitivity light', 'breath weapon legendary', 'breathe feels like', 'breathe im tired', 'breathe really debilitating', 'breathe really hard', 'breathing anaphylactic reactions', 'breathing make sure', 'breathing thing talking', 'breathing tics gone', 'breathing wear headphones', 'breedjects wegg moves', 'bricks asked feels', 'bridges thinking asking', 'bring army orcs', 'bring loving mother', 'brings plant end', 'broke month ago', 'broke months ago', 'broke weeks ago', 'broken dumb pretends', 'broken thank god', 'bronners hemp body', 'bronze gold easily', 'brood like points', 'brother came home', 'brother fucked horribly', 'brothers come trans', 'brothers dad past', 'brothers dad phased', 'brothers friends refer', 'brothers worry coming', 'brought main floor', 'brown hair hazel', 'brown spotted days', 'brownie threw stayed', 'brownies roommates half', 'brushing times day', 'btw game fortnite', 'btw things got', 'build brown hair', 'build quality touchscreen', 'builders accepted bid', 'building grow house', 'built stress coming', 'bullshitter liver king', 'bump inside right', 'bumped grade daily', 'bunch symptoms think', 'bunch tests came', 'bundle nerves acting', 'burning bridges thinking', 'business access garden', 'business legal working', 'bustling energy love', 'busy schedules extra', 'busy thinking worst', 'butt end jokes', 'butter measuring super', 'buy dip know', 'buy gold crypto', 'buy gold thinking', 'buy later money', 'byt im panicking', 'cadvideo editingphoto editinggaming', 'calculated cr let', 'called ambulance brought', 'called goodamazing period', 'called leo trans', 'called mind saw', 'called things like', 'calling cousin accused', 'calling dumping ground', 'calling isp dumping', 'calling lips shut', 'calling mind time', 'calling opened mouth', 'calls asshole trying', 'calm screaming heels', 'calm usually happens', 'came benefits praying', 'came benign polyp', 'came bisexual nonbinary', 'came check convulsions', 'came clear day', 'came failed went', 'came mixed allowed', 'came non binary', 'came place bloodied', 'came realisation day', 'came suggestions need', 'came told looking', 'campaign ideal way', 'campus shes like', 'cancelled multiple weeks', 'cancels day worked', 'cancer barely function', 'cancer melanoma rare', 'cancer noticed month', 'cancer pgf colon', 'cancer ugh hate', 'canvas ready discovered', 'car anxious day', 'car cried hard', 'car feel like', 'car gonna lie', 'car im sure', 'car insurence phone', 'car like know', 'car low dips', 'car option right', 'car overthinking overthinking', 'card debt owe', 'card ready treat', 'care bother appreciated', 'care died effect', 'care dont know', 'care dont wanna', 'care dont want', 'care feel like', 'care needs yes', 'care people think', 'care really hard', 'care started school', 'care talked men', 'career flight attendant', 'careful thc cut', 'carefully brownies roommates', 'case er currently', 'case idea dentist', 'case like stress', 'case opposite gone', 'case scenario im', 'case scenario thinking', 'cash buy dip', 'cash buy later', 'cash dollars think', 'cash possibility start', 'casual equal dynamic', 'casual went uncomfortable', 'cat brothers dad', 'cat millie weeks', 'catastrophize fear heart', 'catch worse hiring', 'catholic followed commandments', 'cats feel guilty', 'cats strictly indoors', 'caucasian symptoms started', 'cauldron concrete coordinates', 'cause feel like', 'cause getting close', 'cause intense chest', 'cause like love', 'cause little hair', 'cause serotonin syndrome', 'cause time lol', 'cause tiring thought', 'caused body pound', 'caused dominao effect', 'caused pain miss', 'causes anxiety good', 'causes lot stress', 'causing panic attacks', 'cbd balcony blows', 'celiacs chrohns ibs', 'cells cervical cancer', 'centered heart today', 'centre attention tend', 'centuries ago kind', 'cerave moisturising lotion', 'cereal got uncomfortably', 'certain stress dont', 'certain things like', 'certain types addadhd', 'cervical cancer ugh', 'cetrorelix degarelix gonadorelin', 'chagrin sewed fidget', 'chair bedside table', 'chair going mess', 'chalk blackboard terrible', 'challenge motivation worse', 'challenging competitive society', 'chance experience relationship', 'chance leave possibly', 'chance serotonin syndrome', 'chances young party', 'change department sure', 'change dont ideal', 'change doomed forever', 'change feel like', 'change im hyper', 'change life feel', 'change normal life', 'change really confused', 'change screamed held', 'change straight afab', 'changed colour feel', 'changed great hero', 'changed person fucked', 'changed way think', 'changed year old', 'changes immediately assume', 'changing coming people', 'chaos suggestions helpful', 'characters chance leave', 'characters decide try', 'characters linger dragons', 'charge arguing mi', 'chart cut zoomed', 'chat abused years', 'chat work really', 'cheap pseudoscientific selfhelp', 'cheating way motivation', 'check bedbugs day', 'check convulsions rest', 'check drug screen', 'check game coming', 'check hormones scared', 'check response followed', 'check things therapist', 'checked mirror saw', 'checking lowest measured', 'cheek fever symptoms', 'cheek fingers holding', 'cheeks bit tender', 'chemical reactions floating', 'chemistry dont know', 'chest calm screaming', 'chest dysphoria large', 'chest feels tight', 'chest felt like', 'chest looking photos', 'chest pain loss', 'chew hands ive', 'chewelry stop mangling', 'child feel like', 'child instead daughter', 'child shes recommended', 'child used know', 'children family history', 'chill acts irrationally', 'chilling music weed', 'chills year symptoms', 'chillsshakes recently noticed', 'choice try stand', 'choices try depressed', 'choose moclobemide aurorix', 'chose hill die', 'christmas break getting', 'christmas break subsided', 'chrohns ibs ibd', 'chromatic dragon emphasize', 'chronical pain scoliosis', 'circulation isnt strong', 'circus extremely anxious', 'cis female suckssss', 'cis people talking', 'cities love loud', 'cities plans meet', 'citizens town near', 'citric acid cycle', 'class close stand', 'class embarrassing stomach', 'class high school', 'class reason guess', 'classes cheating way', 'classes good assignments', 'classes im finishing', 'classes retake lost', 'classic african parenting', 'classic crushes invited', 'classmates chronical pain', 'claws old dragon', 'claws torn countless', 'clean cpap month', 'cleaning panoramic xray', 'clear concise manual', 'clear dating fun', 'clear day released', 'clear dragon guard', 'clearly wrong action', 'click link discord', 'clicked profile saw', 'clinically depressed years', 'clock unlock recipes', 'clone ive completely', 'close feeling comfortable', 'close friends family', 'close friends like', 'close hear breathe', 'close stand talk', 'closed bank account', 'closed maybe half', 'closest friends tripping', 'closest guess accessory', 'closest thing ive', 'clutches beast thats', 'code grew older', 'coffee make jittery', 'coffee think hes', 'coin thanks advance', 'coincidence receive pfizer', 'cold circulation isnt', 'cold showers exercise', 'cold storage wallet', 'cold turkey prozac', 'collapse extremely fast', 'collapsed let heart', 'collapses best friends', 'collective consciousness tell', 'college drop semester', 'college feel like', 'college finished strong', 'college friends got', 'college going online', 'college health issues', 'college im btw', 'college im really', 'college live parents', 'college really friends', 'college struggle lot', 'college want make', 'colleges classes retake', 'colon cancer melanoma', 'colonoscopy doc said', 'colonoscopy endoscopy ct', 'colonoscopy endoscopy thing', 'colour blue aggressive', 'combination dangerous cause', 'combination moclobemide fluvoxamine', 'combination slept woke', 'combination suggest dragon', 'come abnorm irregular', 'come cause time', 'come check game', 'come companies straight', 'come days minutes', 'come game fucked', 'come half hour', 'come home notice', 'come home say', 'come home sleep', 'come im funny', 'come im going', 'come join bee', 'come jump painful', 'come point want', 'come semi conservative', 'come taken like', 'come terms fact', 'come trans think', 'comes initiating reason', 'comes overanalysing walk', 'comfortable fairly long', 'comfortable feel like', 'comfortable identity tick', 'comfortable label straight', 'comfortable sharing therapy', 'comfortable transitioning socially', 'coming days time', 'coming feel like', 'coming harder managed', 'coming make mother', 'coming originally came', 'coming people ready', 'coming reality likely', 'coming single parent', 'coming ted talk', 'commandments letter lied', 'commented snapchat story', 'comments recently post', 'commissioning adventurers bring', 'common term heard', 'communicate confidently mother', 'communicating elderly fairly', 'communicating people told', 'communication point tried', 'community college bc', 'community college im', 'community college live', 'community college want', 'community looking types', 'companies straight giving', 'companies wanted work', 'company apartment car', 'company dumping ground', 'company fakenatty bullshitter', 'company got exchanging', 'company ive thought', 'competitive society mention', 'complains hogging conversation', 'complete opposite extended', 'completed high school', 'completely changed person', 'completely different person', 'completely fucked march', 'completely gone dark', 'completely ive mentally', 'completely lost appetite', 'completely normal thats', 'completely tied communication', 'complicated want things', 'compliment told attractive', 'concentrate tasks distracted', 'concentration kinda blank', 'concentration mean trying', 'concern coworker mom', 'concerned isnt super', 'concerned overall impact', 'concerning ends pretty', 'concerning normal heart', 'concise manual living', 'concrete coordinates hud', 'concussions anytime head', 'confidence day feeling', 'confidence issue reason', 'confidently mother sister', 'confront quite frankly', 'confront remorseful got', 'confronted told idc', 'confronting quote playing', 'confused assume talked', 'confused heard calling', 'confused kept telling', 'confused kind upset', 'congestion using dentist', 'connect like knows', 'connected world anymore', 'conquering issues new', 'consciousness exist illusion', 'consciousness tell really', 'consecutive half steps', 'consequence chemical reactions', 'consequences thinking twice', 'conservative family culture', 'conservative family married', 'consider depression anxiety', 'consider finding way', 'considered self harm', 'considering surgery cause', 'considering using gold', 'consistent routine good', 'constant distress told', 'constant loops false', 'constant pain mind', 'constant shortness breath', 'constant suicidal thoughts', 'constantly abandoned disappointed', 'constantly ask talking', 'constantly feel like', 'constantly feeling like', 'constantly feels like', 'constantly live expectation', 'constantly puts cultural', 'constantly worried ill', 'construction houses thing', 'consultation job interview', 'consumed edibles edibles', 'consumed specific strain', 'contacts talk secret', 'contamination fears getting', 'context actively talking', 'context identified non', 'continue ache stop', 'continue hang introduces', 'continued strict moral', 'continuous period ups', 'contracting business legal', 'control felt like', 'control panal shows', 'conversation stilted dont', 'conversation wont let', 'conversations fucking suck', 'conversations really connect', 'conversationsinterferes bosses wants', 'conversion disorder fnd', 'converted lactate pyruvate', 'convictions dreams purpose', 'convince adventurers attack', 'convulsing bed hours', 'convulsing strong electric', 'convulsions rest body', 'cool day apologetic', 'cool doesnt make', 'cool friends really', 'cool guy decent', 'cool guy sure', 'cool im ready', 'coordinates hud double', 'cope taught easily', 'cops away charge', 'coreprotect afk display', 'corporation bank work', 'correct gets wrong', 'corrected wanna work', 'correctly dont know', 'corrupt lord commissioning', 'corsair ram booting', 'corsair ram rtx', 'corsair ram thought', 'couldve talked mature', 'counted distinct bites', 'countless blades arrows', 'countless mortals asunder', 'country know job', 'country know want', 'coupe days ago', 'couple dates date', 'couple days ago', 'couple days later', 'couple days tried', 'couple hours ago', 'couple hours later', 'couple minutes ago', 'couple months ago', 'couple months im', 'couple months ive', 'couple months mind', 'couple noticeable marks', 'couple times night', 'couple times past', 'couple times week', 'couple weeks ago', 'couple weeks feel', 'couple weeks ive', 'couple years ago', 'course grieving process', 'cousin accused talking', 'cousin supposed say', 'cousin went calling', 'covered bases jobs', 'covid bad know', 'covid hit ended', 'covid months ago', 'covid reason absences', 'covid shit got', 'coworker mom saying', 'coworkers really nice', 'cpap machine prediabetes', 'cpap month overdue', 'cptsd depression anxiety', 'cpu intel core', 'cr cr creature', 'cr creature gets', 'cr creature potentially', 'cr let know', 'cramping lower abdomen', 'crash pc shutdown', 'crazy bird chew', 'crazy feel like', 'crazy rich person', 'crazy thing arguments', 'creactive protein low', 'cream extremely painful', 'created increasingly negative', 'creative barely watch', 'creature gets lucky', 'creature potentially deal', 'credence especially id', 'credit card debt', 'credit card pay', 'creep fucked mental', 'creep happening active', 'cried died feel', 'cried hard dreaded', 'crippling especially home', 'crippling social anxiety', 'crises look photos', 'critical government motives', 'crohn disease celiac', 'crossposted yall need', 'crowded cities love', 'crush high school', 'crushes invited picked', 'crying dont know', 'crying feel like', 'crying saw telepathy', 'crypto tokens considering', 'cryptocurrency used accomplish', 'ct scan abdomen', 'ct scan contrast', 'ct scan ruled', 'cultural pressure wear', 'culture like listen', 'culture normal live', 'culture parents thinks', 'cunt motivation left', 'cups coffee day', 'curb years ago', 'curious clicked profile', 'curious collective consciousness', 'curious feel like', 'curious hear thoughts', 'curious people think', 'curious poly life', 'curl happens want', 'currently busy schedules', 'currently credit card', 'currently feel like', 'currently friday live', 'currently identify lesbian', 'currently taking lymecycline', 'currently trying doctors', 'currently wide variety', 'curse sternly told', 'cut like snarls', 'cut months later', 'cut zoomed parts', 'cuz mu friends', 'cycle everyday feeling', 'cycle instead converted', 'cyst located right', 'da vinci mini', 'dad approval said', 'dad called doctor', 'dad feel like', 'dad getting kittens', 'dad mom split', 'dad ordered chewelry', 'dad passed away', 'dad past years', 'dad pays car', 'dad phased death', 'dad really pissed', 'dad step mom', 'dads chagrin sewed', 'dads super adhd', 'daily drink sleep', 'daily journaling good', 'daily life work', 'daily panic attacks', 'daily suicidal thoughts', 'daily things daily', 'damage cr creature', 'dammit dao supplements', 'damn table escalate', 'dangerous cause serotonin', 'dangerous like im', 'dao enzymes online', 'dao supplements work', 'dare speak clearly', 'dark focus torturous', 'dark place mentally', 'dark social media', 'dark thoughts home', 'dark time life', 'dark wait passes', 'darkness pessimistic future', 'datapacksplugins dynmap coreprotect', 'date clear dating', 'date quite feminine', 'dated pretty attractive', 'dated woman poly', 'dates date clear', 'dates ghosted know', 'dating fun want', 'dating guy month', 'dating hit pretty', 'dating life pretty', 'dating live hours', 'dating meeting new', 'daughter anymore mention', 'daughter pretty slipping', 'day apologetic kind', 'day cancels day', 'day combination slept', 'day constant pain', 'day day life', 'day days week', 'day divided week', 'day dont feel', 'day dont know', 'day dressed masc', 'day fact friends', 'day feel like', 'day feeling blessed', 'day feels like', 'day felt like', 'day friends hanging', 'day hours day', 'day hs school', 'day im tired', 'day like days', 'day like yeah', 'day long panic', 'day long time', 'day panic attack', 'day passed talking', 'day passes know', 'day past week', 'day period cause', 'day playing games', 'day point mini', 'day released point', 'day sent message', 'day spent standing', 'day started feeling', 'day stop screaming', 'day things like', 'day took fluvoxamine', 'day want feel', 'day weeks admitted', 'day went sure', 'day worked min', 'day working feel', 'day yeah im', 'day years ago', 'days ago ate', 'days ago developed', 'days ago didnt', 'days ago feeling', 'days ago legit', 'days ago posted', 'days ago quite', 'days ago struggling', 'days ago think', 'days ago want', 'days bad days', 'days bled moderately', 'days couple weeks', 'days day hs', 'days didnt feel', 'days feel like', 'days felt bloated', 'days guess grieved', 'days im worried', 'days ive felt', 'days lately high', 'days later like', 'days later messaged', 'days later told', 'days let knew', 'days like today', 'days minutes minimum', 'days office week', 'days prior left', 'days randomly shutdown', 'days stopped working', 'days thankfully period', 'days thanks advance', 'days time writing', 'days tried amazon', 'days want end', 'days want overwhelm', 'days week really', 'days went college', 'days wfh come', 'db eb gb', 'dd instead say', 'dead end job', 'dead scared job', 'deaf school honduras', 'deal damage cr', 'deal fallout seen', 'deal imposter syndrome', 'deal transphobia selfish', 'dealing mental health', 'dealing sense shortness', 'death feel like', 'death happened recently', 'death rescue scared', 'debate heresimgurcomaazjbqbi idea', 'debating mean people', 'debilitating feel edge', 'decades yall think', 'decay graves mob', 'decent looking struggle', 'decent social life', 'decide speak centuries', 'decide try steal', 'decided add fluvoxamine', 'decided edibles careful', 'decided medications time', 'decided track watch', 'deciding believe story', 'decision soon actually', 'decreased libido reason', 'dedicated providing safe', 'deep breath relieve', 'deep wrinkles people', 'deeply dad pays', 'default lore dragons', 'defeating environment time', 'defend arguments mil', 'defend explain position', 'defend want fight', 'defensive cr cr', 'deficiency hypothyroidism know', 'deficiency muscle glycogen', 'definitely diarrhea unknown', 'definitely dont want', 'definitely feel like', 'definitely help lol', 'definitely stim point', 'definitely trans like', 'definitly attracted open', 'degarelix gonadorelin goserelin', 'degree little work', 'degree years people', 'dehydrogenase present lactate', 'deleted thing believe', 'demon possessed shit', 'dentist month ago', 'department say pretty', 'department sure approach', 'department want studies', 'depending complicated want', 'depleted shitty feeling', 'depressed af decided', 'depressed care died', 'depressed feel like', 'depressed let brood', 'depressed long time', 'depressed messed think', 'depressed miserable mess', 'depressed think weird', 'depressed thought write', 'depressed walk decided', 'depressed zero motivation', 'depressing point energy', 'depression anxiety adhd', 'depression anxiety didnt', 'depression anxiety disorders', 'depression anxiety experience', 'depression anxiety feel', 'depression anxiety im', 'depression anxiety ocd', 'depression anxiety really', 'depression anxiety spoke', 'depression chronic pain', 'depression diagnosed avoiding', 'depression feel like', 'depression feels like', 'depression getting worse', 'depression gone like', 'depression issues constant', 'depression issues functioning', 'depression pretty severe', 'depression social anxiety', 'depression sudden stopped', 'depression suffered highschool', 'depression thats hitting', 'depression thing long', 'depression view depression', 'depressive episode advised', 'deprived alot things', 'deprived decent social', 'depths drug understand', 'descent darkness pessimistic', 'description somatic symptoms', 'desde ya muchas', 'deserve dont deserve', 'deserve feel like', 'desires hurts sexuality', 'desperate feel like', 'desperately realised forgotten', 'despise life increasingly', 'despise life wish', 'despite best efforts', 'despite feeling fine', 'despite fired gained', 'details plot hook', 'details regarding bitcoin', 'deterministic doubt value', 'developing chillsshakes recently', 'devout catholic followed', 'diagnosed adhd months', 'diagnosed adhd prescribed', 'diagnosed anxiety depression', 'diagnosed autism adhd', 'diagnosed avoiding personality', 'diagnosed clinical depression', 'diagnosed cptsd depression', 'diagnosed depression anxiety', 'diagnosed generalized anxiety', 'diagnosed ocd depression', 'diagnosed took test', 'diagnosed year ago', 'diagnosed years ago', 'diagnosis love hear', 'diarrhea bowel movements', 'diarrhea chills sweating', 'diarrhea heart palpitations', 'diarrhea lack appetite', 'diarrhea loss appetite', 'diarrhea unknown reason', 'diarrhea weight loss', 'dictating want im', 'didnt acting like', 'didnt actually happen', 'didnt bites havent', 'didnt compliment told', 'didnt curse sternly', 'didnt feel good', 'didnt feel like', 'didnt feel tiredness', 'didnt felt like', 'didnt gone depressed', 'didnt help im', 'didnt kissed goodnight', 'didnt know adhd', 'didnt know deal', 'didnt know wanted', 'didnt make friends', 'didnt make sense', 'didnt misbehave kid', 'didnt particularly misbehave', 'didnt really help', 'didnt really know', 'didnt think id', 'didnt think time', 'didnt want eat', 'didnt want leave', 'didnt want talk', 'didnt work gas', 'didnt work im', 'didnt work manifested', 'didnt work tried', 'die automaticlly breathing', 'die dont want', 'die feel like', 'die god want', 'die strat im', 'die time im', 'died effect remained', 'died feel like', 'died looking replace', 'died months ago', 'dieted exercised took', 'dieting past couple', 'difference immediately actually', 'difference state life', 'different accent meaning', 'different aches pains', 'different cities plans', 'different contacts talk', 'different ordinary photo', 'different references scripture', 'different times life', 'different tone drastically', 'difficult situation really', 'difficult start think', 'difficult started make', 'difficult type lift', 'dignity ridiculous dont', 'diminished strength say', 'dip im community', 'dip know people', 'dip normal normal', 'dipped weird times', 'dips sitting car', 'directions basic premise', 'dirty help issue', 'disability know dads', 'disabled stuck need', 'disagree strategy assuming', 'disappearing randomly september', 'disappointed fall straight', 'discomfort goes overwhelming', 'discomforts world feel', 'disconnecting wifi fine', 'discord kik whatsapp', 'discouraged driving telsa', 'discovered running following', 'discuss holiday weeks', 'disease celiac disease', 'disfunctional long missed', 'disinterested bore things', 'disobedient hell explaining', 'disorder bipolar anger', 'disorder fnd pandas', 'disorder im currently', 'disorder therapy years', 'disorders phobias aspergers', 'display armor statues', 'disrespectful millie time', 'disrespectful reason feel', 'disrespecting course grieving', 'disrespecting shed gladly', 'dissociationdepersonalization episodes thought', 'distant emotional support', 'distinct bites total', 'distract jobs fit', 'distracted literally end', 'distracted things happening', 'distress told medication', 'diverting normal function', 'divided week increased', 'dizzy arms legs', 'dizzy lightheaded incapacitated', 'doc know told', 'doc ordered colonoscopy', 'doc said crohn', 'docs ruled ibd', 'doctor dont really', 'doctor ive come', 'doctor keen prescribing', 'doctor prescribed steroid', 'doctor said gone', 'doctor said probably', 'doctor says depression', 'doctor theres high', 'doctor today says', 'doctor years ago', 'doctors appointment tomorrow', 'doctors loss actually', 'doctors month said', 'doctors notes stress', 'doctors therapy antidepressant', 'doesnt feel good', 'doesnt feel like', 'doesnt feel real', 'doesnt help im', 'doesnt help ive', 'doesnt look like', 'doesnt make better', 'doesnt make happy', 'doesnt make room', 'doesnt make sense', 'doesnt matter im', 'doesnt matter know', 'doesnt mean dont', 'doesnt mean im', 'doesnt really feel', 'doesnt really matter', 'doesnt sit right', 'doesnt sound like', 'doesnt work way', 'dog check bedbugs', 'dog feel like', 'dog life accessible', 'dollars think thanks', 'dominao effect losing', 'donation eliminate doubts', 'donations help achieve', 'dont act like', 'dont actually want', 'dont adhd youre', 'dont believe biteshiveswhatever', 'dont bother havent', 'dont care anymore', 'dont care dont', 'dont care im', 'dont care people', 'dont care want', 'dont deserve dont', 'dont deserve good', 'dont deserve live', 'dont drink alcohol', 'dont drink dont', 'dont feel anymore', 'dont feel bad', 'dont feel comfortable', 'dont feel feel', 'dont feel good', 'dont feel like', 'dont feel loved', 'dont feel motivated', 'dont feel need', 'dont feel putting', 'dont feel sad', 'dont feel way', 'dont friends people', 'dont fully understand', 'dont great emotional', 'dont grow weaker', 'dont ideal dream', 'dont know anymore', 'dont know approach', 'dont know ask', 'dont know body', 'dont know coincidence', 'dont know cope', 'dont know deal', 'dont know didnt', 'dont know difference', 'dont know dont', 'dont know exactly', 'dont know explain', 'dont know feel', 'dont know feeling', 'dont know feels', 'dont know friends', 'dont know fuck', 'dont know going', 'dont know good', 'dont know got', 'dont know handle', 'dont know happened', 'dont know havent', 'dont know help', 'dont know id', 'dont know ill', 'dont know im', 'dont know improve', 'dont know ive', 'dont know keeps', 'dont know kind', 'dont know know', 'dont know life', 'dont know like', 'dont know live', 'dont know longer', 'dont know make', 'dont know makes', 'dont know maybe', 'dont know means', 'dont know need', 'dont know normal', 'dont know people', 'dont know person', 'dont know personally', 'dont know point', 'dont know probably', 'dont know problem', 'dont know real', 'dont know really', 'dont know reddit', 'dont know right', 'dont know said', 'dont know say', 'dont know set', 'dont know shes', 'dont know start', 'dont know started', 'dont know stop', 'dont know sure', 'dont know talk', 'dont know tell', 'dont know thats', 'dont know theres', 'dont know theyre', 'dont know things', 'dont know think', 'dont know thinks', 'dont know thought', 'dont know time', 'dont know turn', 'dont know want', 'dont know way', 'dont know whats', 'dont know wish', 'dont know work', 'dont know works', 'dont know worth', 'dont know write', 'dont know wrong', 'dont know youre', 'dont like anymore', 'dont like feeling', 'dont like happening', 'dont like im', 'dont like look', 'dont like people', 'dont like sleep', 'dont like taking', 'dont live home', 'dont look like', 'dont lot money', 'dont make feel', 'dont make lot', 'dont make money', 'dont make sense', 'dont mean like', 'dont mean sound', 'dont necessarily want', 'dont need ask', 'dont need know', 'dont north dont', 'dont outside anymore', 'dont pay attention', 'dont pay rent', 'dont people life', 'dont plans think', 'dont positive reaction', 'dont really care', 'dont really feel', 'dont really friends', 'dont really know', 'dont really like', 'dont really need', 'dont really point', 'dont really talk', 'dont really think', 'dont really understand', 'dont really want', 'dont really willpower', 'dont remember said', 'dont smoke drink', 'dont sound im', 'dont sound like', 'dont struggle keeping', 'dont talk im', 'dont talk like', 'dont talk metf', 'dont think deserve', 'dont think id', 'dont think ill', 'dont think im', 'dont think itll', 'dont think ive', 'dont think know', 'dont think really', 'dont think thats', 'dont think theres', 'dont think things', 'dont think weird', 'dont understand dont', 'dont understand feel', 'dont understand im', 'dont understand like', 'dont understand people', 'dont understand wanting', 'dont understand whats', 'dont wanna change', 'dont wanna die', 'dont wanna feel', 'dont wanna live', 'dont wanna talk', 'dont want add', 'dont want alive', 'dont want anymore', 'dont want astronaut', 'dont want bad', 'dont want blame', 'dont want body', 'dont want bother', 'dont want break', 'dont want bring', 'dont want burden', 'dont want change', 'dont want come', 'dont want continue', 'dont want deal', 'dont want die', 'dont want doctor', 'dont want dont', 'dont want eat', 'dont want end', 'dont want exist', 'dont want feel', 'dont want gatekeeping', 'dont want happen', 'dont want hear', 'dont want help', 'dont want house', 'dont want hurt', 'dont want im', 'dont want ive', 'dont want job', 'dont want kids', 'dont want kill', 'dont want know', 'dont want leave', 'dont want life', 'dont want like', 'dont want live', 'dont want look', 'dont want lose', 'dont want make', 'dont want making', 'dont want mess', 'dont want millionaire', 'dont want offend', 'dont want people', 'dont want read', 'dont want remember', 'dont want resort', 'dont want risk', 'dont want say', 'dont want scientist', 'dont want seen', 'dont want selfish', 'dont want sound', 'dont want speak', 'dont want spend', 'dont want start', 'dont want suffer', 'dont want talk', 'dont want tell', 'dont want think', 'dont want throw', 'dont want trouble', 'dont want try', 'dont want wait', 'dont want want', 'dont want waste', 'dont want work', 'dont worry ill', 'dont wrong love', 'door interact literally', 'dopamine effect feels', 'dork straight lead', 'dosage twice day', 'dose moclobemide midnight', 'double jaw surgery', 'double shulker shells', 'doubt doesnt mean', 'doubt value life', 'doubts greatest extent', 'downclocked speed fix', 'downs satisfied single', 'downstairs elderly neighbour', 'downwards cause tiring', 'dr bronners hemp', 'dr said probably', 'dragged bathroom vague', 'dragon actually lying', 'dragon actually telling', 'dragon distracted things', 'dragon dragon hesitate', 'dragon elder dragon', 'dragon emphasize townsfolk', 'dragon fighting adventurers', 'dragon form chromatic', 'dragon good theyd', 'dragon guard relic', 'dragon guards nefarious', 'dragon hesitate slaughter', 'dragon mountain heros', 'dragon offer characters', 'dragon party decide', 'dragon party end', 'dragon relic refuse', 'dragon says head', 'dragon says way', 'dragon sense powerful', 'dragon sustained years', 'dragons dont grow', 'dragons lair long', 'dragons stat block', 'dramatically academically staying', 'drastically change meaning', 'dreaded day stop', 'dream career flight', 'dream come true', 'dream dont north', 'dream job start', 'dream loved respected', 'dream military rules', 'dream navy seal', 'dream really challenging', 'dream worthless dreamt', 'dream years im', 'dreams doctor ive', 'dreams problem communicating', 'dreams purpose life', 'dreamt lot money', 'dress fairly masculine', 'dressed masc mistaken', 'dressed tom boy', 'drifted away original', 'drink lot water', 'drink sleep apnea', 'drink water feel', 'drinking group setting', 'drinking lot water', 'dripping sweat dragged', 'drive apart different', 'drive good input', 'driving ancient car', 'driving home work', 'driving mad essentially', 'driving telsa knowing', 'drop popcorn easy', 'drop semester ocd', 'dropped home didnt', 'dropped home dropped', 'dropped literally thinking', 'dropped months weighed', 'dropping highschool going', 'drops real time', 'drug test job', 'drug test using', 'drug understand tried', 'drugs alcohol im', 'dry want dulcolax', 'dude fun guy', 'dude quite honest', 'dude real relation', 'dulcolax stimulant anxiety', 'dumb pretends like', 'dumping ground sami', 'dumping ground satellite', 'dunno weight healthy', 'dust work table', 'dusted damn table', 'duty make sure', 'dying dreams doctor', 'dying little little', 'dynamic sided af', 'dynmap coreprotect afk', 'dysphoria large chest', 'dysphoria really painful', 'dysphoric lately friends', 'ear feels like', 'earlier enjoyed company', 'earlier things bad', 'early morning today', 'ears echoed brain', 'ears red warm', 'easily added changed', 'easily angry people', 'easily buy gold', 'easily good believe', 'easy boring feel', 'eat blah blah', 'eat certain foods', 'eat days felt', 'eat doctor keen', 'eat dont want', 'eat drink water', 'eat feel like', 'eat heres thing', 'eat lot junk', 'eaten different ordinary', 'eaten occasional night', 'eating fast food', 'eating making feel', 'eats didnt work', 'eb gb ab', 'eb gb bb', 'ecg start june', 'echoed brain got', 'echoing voice head', 'ed disorder bipolar', 'edge horrible feeling', 'edge max mb', 'edge max replaced', 'edge time like', 'edible didnt make', 'edible took hospital', 'edibles careful thc', 'edibles consumed specific', 'edibles edibles consumed', 'edibles friend grows', 'edit feel like', 'edit forgot mention', 'edit learned details', 'edit oh god', 'edit thank help', 'edit thanks help', 'edit wanted add', 'editinggaming list programsgames', 'editingphoto editinggaming list', 'effect feel happy', 'effect feels good', 'effect libido decreased', 'effect losing friends', 'effect remained blessed', 'effected lot life', 'effecting life think', 'effects anxiety didnt', 'eggs raids maximum', 'egos curious collective', 'egos egos curious', 'ehlers danlos syndrome', 'ekg chest xray', 'el problema es', 'elder dragon sense', 'elderly fairly strong', 'elderly neighbour hes', 'elderly point grown', 'electric shocks going', 'electrical contracting business', 'electrical industry wanted', 'electrical outlet hands', 'electrician exam midwestern', 'elementary middle school', 'elevated heart rate', 'elevator stairs dieting', 'eliminate doubts greatest', 'elliot page interview', 'elses idea plot', 'elytra cauldron concrete', 'email stating matter', 'embarrassing stomach issues', 'embrace toxicity like', 'emotion real love', 'emotional fast forward', 'emotional support feel', 'emotional support wise', 'emotions recommended various', 'emphasize townsfolk view', 'emptiness felt slept', 'emptiness pain help', 'en caso que', 'encouraging texts pictures', 'end attack adventurers', 'end claws old', 'end day dont', 'end day want', 'end dont know', 'end drinking group', 'end enjoyment watching', 'end essentially understand', 'end got ana', 'end jokes lot', 'end life school', 'end like watching', 'end middle school', 'end school year', 'end season used', 'end starting loads', 'end successful time', 'end understand hard', 'ended diagnosed ocd', 'ended dropping highschool', 'ended losing job', 'ended new year', 'ended weighing dropped', 'ending grating things', 'ending life struggled', 'endometriosis pcos children', 'endometriosis pcos herniated', 'endoscopy ct scan', 'endoscopy thing came', 'ends pretty quick', 'energy change normal', 'energy levels feel', 'energy like blasting', 'energy love crowded', 'energy music hours', 'energy possible tremors', 'english im dutch', 'english native language', 'english obviously understand', 'english second language', 'enjoy places high', 'enjoy spending time', 'enjoyed company got', 'enjoyed hour ago', 'enjoying work right', 'enjoyment watching turn', 'enormous teeth characters', 'ensure good living', 'ensure naked juice', 'ent told upper', 'entered college finished', 'entertaining group partner', 'entertaining people im', 'entire life dont', 'entire life im', 'entire life ive', 'entire time scared', 'entirely sure right', 'entirely visit week', 'entry level job', 'environment time interview', 'environment work scattered', 'enzymes online little', 'epilepsy centrum soon', 'episode advised check', 'episodes thought going', 'equal dynamic sided', 'er currently trying', 'er doc know', 'er feel like', 'erratic dangerous like', 'error idea going', 'es lo que', 'es que lo', 'escalate things held', 'escape marriage know', 'escape situation usually', 'escape tarkov ive', 'escape world lay', 'esophagus looks bit', 'especially comes initiating', 'especially feel like', 'especially feels like', 'especially helpful underwent', 'especially home weeks', 'especially id using', 'especially past couple', 'especially teenager got', 'essentially especially past', 'essentially pushover mom', 'essentially understand dont', 'eternal mental torture', 'ethic vs store', 'event viewer gave', 'everybody results life', 'everyday challenge motivation', 'everyday feel like', 'everyday feeling line', 'everyday feels like', 'everyday lately feeling', 'evga powersupply gb', 'evga supernova plus', 'evil im interested', 'evil make players', 'ex best friends', 'exact area issue', 'exactly considering surgery', 'exactly happened think', 'exam midwestern respective', 'example sit looking', 'excellent resource came', 'excessive work load', 'exchanging texts time', 'excited ran bathroom', 'excuses disrespectful reason', 'exercise elevator stairs', 'exercise journaling psychically', 'exercised took months', 'exhausted day day', 'exist feel like', 'exist illusion wish', 'existed nice family', 'existing relevant medical', 'exists free exists', 'exists moral convictions', 'expectation people complete', 'expectations help accommodations', 'experience combination moclobemide', 'experience dealing mental', 'experience emotions recommended', 'experience feel like', 'experience im worried', 'experience life join', 'experience relationship normal', 'experience tldr thought', 'experience unpatriotic critical', 'experience worried lies', 'experience young like', 'experienced knows whats', 'experienced like going', 'experienced symptoms time', 'experiences feel like', 'experiences past til', 'experiencing included redness', 'experiencing lot anxiety', 'experiencing past months', 'explain feel like', 'explain ill best', 'explain like shes', 'explain position fact', 'explained feel great', 'explained way understand', 'explaining thats backtalking', 'explanations similar happened', 'explicitly stated regarding', 'explore dated woman', 'explosions fireworks feel', 'exposed nerve ending', 'express intention forcibly', 'extended family french', 'extended family members', 'extent edit learned', 'extent necessity lot', 'extra context actively', 'extra pressure pay', 'extremely anxious entire', 'extremely bad academically', 'extremely fast completely', 'extremely fast feel', 'extremely late motivation', 'extremely order rambling', 'extremely painful uncomfortable', 'extremely red purple', 'extremely soft panic', 'eye contact lot', 'eye idea plot', 'eye unless shortness', 'eyes closed maybe', 'eyes ears red', 'eyes red spots', 'facade life admit', 'face day working', 'face looks like', 'facetimes asked say', 'fact diagnosed anxiety', 'fact friends left', 'fact friends told', 'fact id dare', 'fact like im', 'fact short term', 'factor influence think', 'fail drug test', 'failed ending life', 'failed went good', 'failing multiple colleges', 'failure feel like', 'fair share edibles', 'fairly long periods', 'fairly masculine manner', 'fairly new country', 'fairly strong accent', 'fairly successful career', 'faith god continued', 'fake till make', 'fakenatty bullshitter liver', 'faking dont know', 'faking lying hiding', 'faking trans bc', 'fall apart dramatically', 'fall apart escape', 'fall asleep feel', 'fall asleep hours', 'fall asleep night', 'fall asleep wake', 'fall blurred vision', 'fall break necks', 'fall straight girls', 'fall worse hands', 'falling want live', 'fallout seen villains', 'fallout wit best', 'false hope right', 'family anymore feel', 'family brothers come', 'family culture normal', 'family dont want', 'family feel like', 'family french grandma', 'family friends girlfriend', 'family friends know', 'family history mother', 'family important im', 'family married conservative', 'family members frustrating', 'family safe like', 'family things felt', 'family thinks im', 'fancier car option', 'fangs claws torn', 'fantasy desires hurts', 'far feel like', 'far ive looking', 'far ive seen', 'far know long', 'far remember thought', 'far wanted desperately', 'fast bites stomach', 'fast completely changed', 'fast different accent', 'fast feel bloated', 'fast food gaining', 'fast food job', 'fast food place', 'fast forward continue', 'fast forward spoken', 'fast forward today', 'fast forward years', 'fast heart rate', 'fast leaf decay', 'fast likely dont', 'fast pill fluvoxamine', 'faster like people', 'father brother fucked', 'fathom id wanna', 'fatigue heart palpitations', 'fatiguelow energy possible', 'fatty liver disease', 'fault feel like', 'favourite things world', 'fear body react', 'fear drinking chemical', 'fear heart thinking', 'fear hunted animal', 'fear making things', 'fear special know', 'fearadrenaline caused body', 'fears getting concussions', 'fears getting poisoned', 'feedback reddit ive', 'feeds wlw fantasy', 'feel absolutely terrible', 'feel anxious sad', 'feel anxious time', 'feel bad asking', 'feel bad bc', 'feel bad dont', 'feel bad feel', 'feel bad inside', 'feel bad know', 'feel bad like', 'feel bad really', 'feel bad want', 'feel bad watching', 'feel bed anymore', 'feel better eating', 'feel better feel', 'feel better good', 'feel better know', 'feel better soon', 'feel bit better', 'feel bit weird', 'feel bloated day', 'feel bustling energy', 'feel comfortable identity', 'feel comfortable sharing', 'feel comfortable talking', 'feel completely lost', 'feel completely normal', 'feel despite feeling', 'feel disabled stuck', 'feel dizzy lightheaded', 'feel dont know', 'feel dont really', 'feel dont want', 'feel dream worthless', 'feel edge time', 'feel emotion real', 'feel extremely unprepared', 'feel feel like', 'feel feels like', 'feel fingers inserted', 'feel free add', 'feel free ask', 'feel free comment', 'feel free dm', 'feel free make', 'feel free reach', 'feel free remove', 'feel free share', 'feel good feel', 'feel great inside', 'feel great things', 'feel guilty ashamed', 'feel guilty feel', 'feel guilty feeling', 'feel guilty grieving', 'feel guilty saying', 'feel happy fast', 'feel happy feel', 'feel happy high', 'feel hopeless feel', 'feel im far', 'feel im point', 'feel inhibition socialize', 'feel like able', 'feel like absolute', 'feel like absolutely', 'feel like actually', 'feel like air', 'feel like alien', 'feel like anxiety', 'feel like anymore', 'feel like apps', 'feel like asking', 'feel like asshole', 'feel like awful', 'feel like baby', 'feel like bad', 'feel like barely', 'feel like belong', 'feel like best', 'feel like better', 'feel like big', 'feel like bit', 'feel like body', 'feel like brain', 'feel like breath', 'feel like breathe', 'feel like breathing', 'feel like burden', 'feel like care', 'feel like cares', 'feel like catch', 'feel like change', 'feel like chore', 'feel like complete', 'feel like completely', 'feel like constant', 'feel like constantly', 'feel like control', 'feel like covered', 'feel like crap', 'feel like crazy', 'feel like crying', 'feel like day', 'feel like dead', 'feel like depressed', 'feel like depression', 'feel like deserve', 'feel like didnt', 'feel like die', 'feel like different', 'feel like doctor', 'feel like dont', 'feel like dream', 'feel like drowning', 'feel like dumbass', 'feel like dying', 'feel like eating', 'feel like end', 'feel like energy', 'feel like escape', 'feel like experience', 'feel like exposed', 'feel like express', 'feel like eyes', 'feel like factor', 'feel like failed', 'feel like failure', 'feel like fake', 'feel like fallen', 'feel like family', 'feel like fat', 'feel like fault', 'feel like feel', 'feel like feeling', 'feel like feels', 'feel like feminine', 'feel like finally', 'feel like fit', 'feel like fraud', 'feel like freak', 'feel like friends', 'feel like fucked', 'feel like fucking', 'feel like fully', 'feel like gets', 'feel like getting', 'feel like giving', 'feel like god', 'feel like going', 'feel like gone', 'feel like gonna', 'feel like good', 'feel like got', 'feel like gotten', 'feel like great', 'feel like gta', 'feel like guys', 'feel like handle', 'feel like hard', 'feel like havent', 'feel like head', 'feel like heard', 'feel like heart', 'feel like help', 'feel like helping', 'feel like home', 'feel like hope', 'feel like horrible', 'feel like hot', 'feel like hurt', 'feel like id', 'feel like idiot', 'feel like idk', 'feel like ill', 'feel like im', 'feel like imposter', 'feel like insane', 'feel like interesting', 'feel like isnt', 'feel like itd', 'feel like ive', 'feel like job', 'feel like jobs', 'feel like killing', 'feel like kind', 'feel like know', 'feel like late', 'feel like lazy', 'feel like leave', 'feel like life', 'feel like like', 'feel like live', 'feel like living', 'feel like long', 'feel like longer', 'feel like look', 'feel like loser', 'feel like losing', 'feel like lost', 'feel like lot', 'feel like love', 'feel like low', 'feel like lying', 'feel like make', 'feel like makes', 'feel like making', 'feel like matter', 'feel like maybe', 'feel like medication', 'feel like meds', 'feel like meet', 'feel like mental', 'feel like mentally', 'feel like mind', 'feel like missed', 'feel like missing', 'feel like mom', 'feel like need', 'feel like normal', 'feel like obvious', 'feel like old', 'feel like outcast', 'feel like outsider', 'feel like parents', 'feel like past', 'feel like people', 'feel like person', 'feel like personality', 'feel like piece', 'feel like point', 'feel like pointless', 'feel like pretty', 'feel like probably', 'feel like problems', 'feel like prove', 'feel like pushing', 'feel like quiet', 'feel like ready', 'feel like real', 'feel like really', 'feel like reason', 'feel like regret', 'feel like relationship', 'feel like responsibility', 'feel like ridiculous', 'feel like right', 'feel like running', 'feel like say', 'feel like saying', 'feel like screeching', 'feel like screwed', 'feel like shell', 'feel like shit', 'feel like shortness', 'feel like shouldnt', 'feel like situation', 'feel like sleep', 'feel like slowly', 'feel like smart', 'feel like solution', 'feel like soon', 'feel like speak', 'feel like start', 'feel like starting', 'feel like stress', 'feel like stuck', 'feel like suffocating', 'feel like symptoms', 'feel like takes', 'feel like talk', 'feel like talking', 'feel like tell', 'feel like terrible', 'feel like thats', 'feel like theres', 'feel like theyre', 'feel like thing', 'feel like things', 'feel like think', 'feel like throwing', 'feel like time', 'feel like tired', 'feel like total', 'feel like touch', 'feel like trapped', 'feel like truly', 'feel like trust', 'feel like try', 'feel like trying', 'feel like understand', 'feel like understands', 'feel like use', 'feel like used', 'feel like waiting', 'feel like wanna', 'feel like want', 'feel like wanted', 'feel like wasnt', 'feel like waste', 'feel like wasted', 'feel like wasting', 'feel like watching', 'feel like way', 'feel like weird', 'feel like went', 'feel like weve', 'feel like wont', 'feel like work', 'feel like working', 'feel like works', 'feel like world', 'feel like worse', 'feel like worst', 'feel like worth', 'feel like wrong', 'feel like year', 'feel like years', 'feel like zombie', 'feel little better', 'feel little bit', 'feel lonely feel', 'feel lost like', 'feel lot anxiety', 'feel lot better', 'feel low depleted', 'feel low like', 'feel matter situation', 'feel necessary beneficial', 'feel need defend', 'feel normal like', 'feel objectively speaking', 'feel okay like', 'feel old chances', 'feel paranoid thats', 'feel pathetic incompetent', 'feel physically sick', 'feel pretty good', 'feel putting situation', 'feel real feel', 'feel really bad', 'feel really good', 'feel really guilty', 'feel really helplesspowerless', 'feel really insecure', 'feel really sad', 'feel right wrong', 'feel sad feel', 'feel sad happy', 'feel sad know', 'feel sick needed', 'feel sick stomach', 'feel silly mum', 'feel small bump', 'feel sorta like', 'feel stuck feel', 'feel subtle sensations', 'feel suffocated tbh', 'feel super bad', 'feel super weird', 'feel tiredness didnt', 'feel trapped bored', 'feel type way', 'feel useless worthless', 'feel want know', 'feel way didnt', 'feel way different', 'feel way feel', 'feel way guess', 'feel way know', 'feel way like', 'feel way really', 'feel way thought', 'feel way want', 'feel whats happening', 'feel worthless feel', 'feel worthless helpless', 'feel worthless stupid', 'feeling blessed want', 'feeling comfortable transitioning', 'feeling common term', 'feeling dizzy lightheaded', 'feeling example sit', 'feeling feel like', 'feeling feet chest', 'feeling fine weekend', 'feeling incredibly lightheaded', 'feeling inside overwhelming', 'feeling inside world', 'feeling life person', 'feeling like days', 'feeling like drug', 'feeling like failure', 'feeling like going', 'feeling like gonna', 'feeling like im', 'feeling like life', 'feeling like really', 'feeling like shit', 'feeling like time', 'feeling like want', 'feeling line clone', 'feeling little better', 'feeling long eaten', 'feeling lot better', 'feeling mainly arms', 'feeling really bad', 'feeling really dysphoric', 'feeling safe stomach', 'feeling sick going', 'feeling tightness breathing', 'feeling times feel', 'feeling tried shake', 'feeling usually matter', 'feeling worst enemy', 'feeling yawn deep', 'feelings dont want', 'feelings feel like', 'feelings fucking game', 'feels far away', 'feels finally said', 'feels good anymore', 'feels good escape', 'feels good wake', 'feels heavy time', 'feels late got', 'feels like boat', 'feels like body', 'feels like brain', 'feels like choking', 'feels like chore', 'feels like completely', 'feels like day', 'feels like difficult', 'feels like dont', 'feels like dream', 'feels like earth', 'feels like end', 'feels like eyes', 'feels like forever', 'feels like game', 'feels like getting', 'feels like going', 'feels like gonna', 'feels like heart', 'feels like hell', 'feels like home', 'feels like huge', 'feels like ill', 'feels like im', 'feels like ive', 'feels like know', 'feels like left', 'feels like life', 'feels like lot', 'feels like make', 'feels like matter', 'feels like need', 'feels like people', 'feels like playing', 'feels like pushed', 'feels like real', 'feels like really', 'feels like rubbed', 'feels like seen', 'feels like shes', 'feels like shit', 'feels like theres', 'feels like theyre', 'feels like time', 'feels like trying', 'feels like waste', 'feels like water', 'feels like way', 'feels like work', 'feels like world', 'feels like years', 'feels like yesterday', 'feels like youre', 'feels reach point', 'feels terriblei feeling', 'feels weird like', 'feet ankle swelled', 'feet chest pain', 'feet feels late', 'feet turn extremely', 'fell asleep good', 'fell asleep woke', 'fell deeply love', 'fell love girl', 'felt comfortable label', 'felt distant emotional', 'felt guilty shocked', 'felt like casual', 'felt like completely', 'felt like didnt', 'felt like dream', 'felt like dying', 'felt like fit', 'felt like getting', 'felt like going', 'felt like gonna', 'felt like good', 'felt like heart', 'felt like im', 'felt like life', 'felt like lot', 'felt like needed', 'felt like normal', 'felt like old', 'felt like putting', 'felt like really', 'felt like shit', 'felt like time', 'felt like wanna', 'felt like wasnt', 'felt like woman', 'felt little better', 'felt little bit', 'felt long time', 'felt lot better', 'felt normal felt', 'felt numb start', 'felt physically sick', 'felt really bad', 'felt really tight', 'felt refreshed ready', 'felt right like', 'felt slept able', 'female caucasian symptoms', 'female far remember', 'female im weigh', 'female suckssss thing', 'feminine looking want', 'fever ive taken', 'fever symptoms going', 'fibroids mgm melanoma', 'fidget toy morning', 'fight mother want', 'fight party weakened', 'fighting adventurers stop', 'fighting single day', 'figure life togetherbuild', 'figure whats going', 'figure whats wrong', 'figured adverse reaction', 'figured id share', 'figuring subside uses', 'filled years sit', 'filtering going hear', 'filtering gone hear', 'finally feel like', 'finally fell asleep', 'finally got feet', 'finally major bad', 'finally said look', 'finally school people', 'finally time let', 'finally voice yelling', 'finance fancier car', 'financial support deaf', 'finding good shampoo', 'finding new job', 'finding way convince', 'finds way creep', 'fine dont know', 'fine dont want', 'fine feel like', 'fine giving special', 'fine looked worked', 'fine think people', 'fine week half', 'fine weekend im', 'fine went upstairs', 'finest crazy thing', 'fingerprint reader optical', 'fingers holding cheek', 'fingers inserted cheek', 'finish book anymore', 'finish matter simple', 'finished strong academically', 'finishing semester masters', 'finishing thoughts feel', 'fired gained lot', 'fired interview supposed', 'fired manager actually', 'fireworks feel like', 'firstly dragon elder', 'fit girls felt', 'fit profile perfectly', 'fix feel like', 'fix im mhz', 'fix things months', 'flailing im vaguely', 'flapped arms like', 'flared majorly life', 'flat inside flat', 'flat keeps giving', 'flatmate downstairs elderly', 'flattened grape squishysemifirm', 'flexibility hours want', 'floating rock space', 'floaty weird like', 'floor laid ground', 'floor toilet like', 'fluctuate like thought', 'fluvoxamine mention try', 'fluvoxamine moclobemide following', 'fluvoxamine moclobemide worried', 'fluvoxamine quit taking', 'fluvoxamine stop moclobemide', 'fnd pandas seizures', 'focus body overwhelming', 'focus overwhelming horrible', 'focus struggles rarely', 'focus surrounded happens', 'focus torturous point', 'focus whats ahead', 'focused feel sick', 'focused nonstop breathing', 'focusing painful reminders', 'folks specifically wants', 'folktale true version', 'follicular cyst located', 'follow dream really', 'follow reddit similar', 'followed advice online', 'followed advice sending', 'followed commandments letter', 'following datapacksplugins dynmap', 'following dose moclobemide', 'following told old', 'fond talking definitly', 'food eating making', 'food gaining weight', 'food intolerance allergy', 'food living boost', 'food lovely eat', 'food thoughts like', 'foods definitely diarrhea', 'fool actually ghosted', 'forced constantly live', 'forcibly relic warned', 'forcing faking dont', 'forcing vomit brownie', 'ford fusion miles', 'forefront mind chaos', 'forget going say', 'forgetting dust work', 'forgetting things im', 'forgotten millie ache', 'form chromatic dragon', 'form lymphoma think', 'form prescribed antidepressants', 'forth like loon', 'forth personalities like', 'forward continue hang', 'forward reading suggestions', 'forward spoken parents', 'fourth time coming', 'fractal torrent rgb', 'frail weak slain', 'frankly immature response', 'free amazon thought', 'free ask questions', 'free days later', 'free exists moral', 'free make super', 'freedom action lack', 'french grandma fourth', 'french nan know', 'french opinionated okay', 'frequencies radio reach', 'frequently day weeks', 'freshman year college', 'freshman year high', 'freshman year highschool', 'friday left office', 'friday like know', 'friday live literally', 'friend bedroom meditating', 'friend chilling music', 'friend completely fucked', 'friend facetimes asked', 'friend family member', 'friend focus struggles', 'friend gave vyvanse', 'friend grows weed', 'friend high school', 'friend huge argument', 'friend living room', 'friend lost life', 'friend maybe tell', 'friend online dating', 'friend really liked', 'friend recently got', 'friend tanked life', 'friendly basically spoke', 'friends amazing woman', 'friends andor family', 'friends apartment barely', 'friends beginning life', 'friends best friend', 'friends confronted told', 'friends experience life', 'friends family members', 'friends feel like', 'friends feels like', 'friends felt like', 'friends gaslighted believing', 'friends girlfriend brothers', 'friends got normal', 'friends hanging friend', 'friends high school', 'friends im feeling', 'friends immediately started', 'friends leave house', 'friends left reply', 'friends life hit', 'friends like years', 'friends middle school', 'friends real life', 'friends really quiet', 'friends refer girl', 'friends says relation', 'friends somewhat new', 'friends switch school', 'friends tease butt', 'friends things like', 'friends told bad', 'friends tripping house', 'friends yall think', 'friendship best friend', 'friendship things didnt', 'frustrated feel like', 'frustrating cause feel', 'frustrating feel like', 'ft breedjects wegg', 'ft lbs got', 'ftm previously identified', 'ftw ultra msi', 'fuck covid shit', 'fuck feel like', 'fuck fuck fuck', 'fuck son superstitious', 'fuck try hit', 'fucked academic future', 'fucked bad began', 'fucked horribly best', 'fucked horribly ways', 'fucked march start', 'fucked mental state', 'fucked women feeds', 'fucking game felt', 'fucking hate dont', 'fucking human tends', 'fucking rock ive', 'fucking shit everyday', 'fucking suck especially', 'fucking sucks cause', 'fullest health issues', 'fully time overthinking', 'fully transition yeah', 'fun casual went', 'fun guy spent', 'fun things im', 'fun want told', 'function like normal', 'function mind think', 'funding gofundme wonder', 'fundraising campaign ideal', 'funny entertaining group', 'fusion miles needs', 'future dont great', 'future really feel', 'fyp young boy', 'gained lot experience', 'gained past year', 'gaining weight losing', 'game coming days', 'game dont want', 'game felt like', 'game fortnite disconnects', 'game fucked women', 'game hours brain', 'game ive playing', 'game like escape', 'game production said', 'game spacemetaverse come', 'game technically yall', 'game watch youtube', 'games dork straight', 'games im grinding', 'games like gta', 'games spread floor', 'games suddenly heh', 'games want play', 'games watching films', 'gaming industry really', 'garden said discuss', 'gas prices insane', 'gaslighted believing non', 'gasp patriotism left', 'gatekeeping rude dont', 'gave kernal power', 'gave sedatives bunch', 'gb corsair ram', 'gb gb ram', 'gb mhz corsair', 'gb ram mhz', 'gen xbox hear', 'gender dysphoria bc', 'gender lately dont', 'gendering know cis', 'general anxiety depression', 'general anxiety disorder', 'general arent good', 'general mental health', 'generalized anxiety adhd', 'generalized anxiety disorder', 'generally enjoy places', 'generations tale meets', 'genuinely dont know', 'genuinely feel like', 'genuinely like type', 'genuinely want know', 'gets bored remember', 'gets lucky breath', 'gets really bad', 'gets really stressful', 'gets wrong going', 'getting better im', 'getting car low', 'getting close feeling', 'getting concussions anytime', 'getting correctly dont', 'getting daily suicidal', 'getting diagnosed epilepsy', 'getting fast bites', 'getting feel like', 'getting fired job', 'getting good grades', 'getting heart palpitations', 'getting jaw surgery', 'getting kittens spoken', 'getting new ones', 'getting panic attacks', 'getting poisoned backyard', 'getting pretty good', 'getting slightly stock', 'getting stomach aches', 'getting weird issues', 'getting worse day', 'getting worse feel', 'getting worse ringing', 'getting worse worse', 'gf really want', 'ghosted know long', 'ghosted point wanted', 'ghosted thoughts let', 'gi neurologist check', 'gi tested celiacs', 'gierkes rise levels', 'girl come taken', 'girl constantly ask', 'girl genuinely like', 'girl ghosted point', 'girl months ago', 'girl snapchat horrible', 'girl trans man', 'girl way league', 'girlfriend brothers friends', 'girlfriend care talked', 'girlfriend feel like', 'girls depressed messed', 'girls dude real', 'girls felt right', 'girls genuinely dont', 'given sort mental', 'given way saying', 'gives lot anxiety', 'giving food lovely', 'giving idealistic seen', 'giving special treatment', 'giving tired covid', 'gladly kick respecting', 'gland dont know', 'gland minor salivary', 'gloves pull poop', 'glycogen phosphorylase mcardles', 'glycolysis pyruvate used', 'goal thanks advance', 'god continued strict', 'god feel like', 'god forefront mind', 'god ofc dont', 'god want relief', 'goes away feel', 'goes away im', 'goes black pc', 'goes dont talk', 'goes forth personalities', 'goes overwhelming focus', 'gofundme wonder cryptocurrency', 'going anymore ive', 'going bigger things', 'going bit better', 'going body painful', 'going change dont', 'going circus extremely', 'going come abnorm', 'going crazy feel', 'going dates going', 'going die called', 'going die im', 'going doctor theres', 'going dont know', 'going feel like', 'going feels like', 'going financial problems', 'going friends house', 'going fucking shit', 'going gi neurologist', 'going goofing point', 'going grow penis', 'going hard time', 'going hear smell', 'going heart attack', 'going holiday saturday', 'going homeschool little', 'going insane pretty', 'going lot right', 'going mental health', 'going need degree', 'going nuts thinking', 'going online completely', 'going pass moment', 'going psychiatrist assessment', 'going really bad', 'going rough time', 'going say cool', 'going saying word', 'going second year', 'going sees life', 'going similar situation', 'going snap kinda', 'going start negatively', 'going start working', 'going stores feel', 'going theyre gone', 'going time visiting', 'going tldr want', 'going try best', 'going try make', 'going try use', 'gold crypto tokens', 'gold easily good', 'gold high yield', 'gold store cash', 'gold thinking getting', 'gold year learned', 'gonadorelin goserelin leuprorelin', 'gone away im', 'gone dark social', 'gone depressed af', 'gone feel like', 'gone hear like', 'gone like unbelievable', 'gone school felt', 'gone shit things', 'gone stages life', 'gonna admit fired', 'gonna fall break', 'gonna feel like', 'gonna lie really', 'gonna pay rent', 'gonna say nukes', 'gonna sit chill', 'gonna stuck living', 'good anymore enjoyed', 'good apps daily', 'good ass day', 'good assignments students', 'good bad experience', 'good bad thing', 'good battery life', 'good believe removes', 'good day im', 'good days bad', 'good deterministic doubt', 'good dont know', 'good escape situation', 'good feel like', 'good feels like', 'good food thoughts', 'good friends yall', 'good games play', 'good idea try', 'good impression bf', 'good input devices', 'good job want', 'good keyboard reliable', 'good listener im', 'good living freedom', 'good looking school', 'good looking tough', 'good mood forcing', 'good mood time', 'good music meditate', 'good paying job', 'good person trying', 'good poop stool', 'good portion life', 'good pronouns automatically', 'good really good', 'good routines need', 'good store support', 'good terms liked', 'good theyd consider', 'good thing case', 'good thing idk', 'good things life', 'good turned freshman', 'good used google', 'good wake morning', 'goodamazing period severe', 'goodbye left wreck', 'goodnight wanted didnt', 'goofing point trying', 'gorgeous cat millie', 'goserelin leuprorelin triptorelin', 'got ana blood', 'got angry started', 'got approved disability', 'got bedbugsniffing dog', 'got better deal', 'got blood test', 'got car accident', 'got chance experience', 'got college drop', 'got colonoscopy endoscopy', 'got contact employees', 'got ct scan', 'got diagnosed adhd', 'got email stating', 'got exchanging texts', 'got feet feels', 'got fired job', 'got formal diagnosis', 'got good grades', 'got hit truck', 'got home work', 'got hours sleep', 'got job place', 'got job theater', 'got little heated', 'got mad confronting', 'got mad fact', 'got medical marijana', 'got mum try', 'got new apartment', 'got new different', 'got new job', 'got new phone', 'got normal degree', 'got realised living', 'got really bad', 'got really excited', 'got relationship girl', 'got response kind', 'got restraining order', 'got scared dipped', 'got shot lump', 'got stronger stronger', 'got thought time', 'got uncomfortably ive', 'got ventilator day', 'got worse tried', 'got worse worse', 'gotten borderline suiiiicedde', 'gotten case idea', 'gotten lot worse', 'gotten really bad', 'gotten really good', 'government motives aggressive', 'grade daily panic', 'grade paranoid low', 'grade thought mentally', 'gradually got worse', 'graduate high school', 'graduated high school', 'graduating high school', 'grand scheme things', 'grandma fourth time', 'grape squishysemifirm moveable', 'grating things feel', 'graves mob heads', 'great bond millie', 'great emotional support', 'great feel trapped', 'great hero magic', 'great inside body', 'great things tune', 'great time watching', 'greatest extent edit', 'greatest hero realm', 'greatest treasure arcane', 'greatly appreciated edit', 'greatly appreciated need', 'greatly appreciated thank', 'greatly appreciated thanks', 'greatly despise life', 'greatly diminished strength', 'grew older scientifically', 'grieved quickly feel', 'grieving millie soon', 'grieving pet trying', 'grieving process pretty', 'grinding game hours', 'ground day sent', 'ground growing tough', 'ground hard break', 'ground instead try', 'ground sami help', 'ground satellite isp', 'ground seizures got', 'group class close', 'group meditation working', 'group partner complains', 'group setting feels', 'groupchat friends im', 'grow house electrical', 'grow weaker age', 'growing tough high', 'grown frail weak', 'grows weed year', 'guard relic fall', 'guards nefarious purposes', 'guess accessory parotid', 'guess brain gets', 'guess fear special', 'guess feel like', 'guess good really', 'guess grieved quickly', 'guess im asking', 'guess im looking', 'guess im trying', 'guess like advice', 'guess literally talk', 'guess questions think', 'guess reason ranting', 'guess told stop', 'guess unlabelled want', 'guess want know', 'guilty asked use', 'guilty feel like', 'guilty feeling like', 'guilty grieving millie', 'guilty shocked new', 'gusto ko lang', 'guy community college', 'guy cope transition', 'guy decent looking', 'guy dont think', 'guy feel like', 'guy friendly basically', 'guy ftm previously', 'guy like week', 'guy makes second', 'guy maybe dont', 'guy spent years', 'guy sure going', 'guy took couple', 'guy wanted badly', 'guy wanted live', 'guys feel better', 'guys feel like', 'guys im new', 'guys kinda annoying', 'guys like sure', 'guys scariest strangest', 'guys story afab', 'guys think new', 'guys trying steal', 'habe ich auch', 'hair hazel eyes', 'hair loved colour', 'haircut really bad', 'half diminished chord', 'half hour ago', 'half hour heard', 'half immediately started', 'half started getting', 'hall started crying', 'hallucinate feel paranoid', 'hand randomly start', 'handful time hs', 'handle concerned isnt', 'handle corrected wanna', 'handle listen anymore', 'handle narrative aside', 'handle overwhelmingly bad', 'hands arms flailing', 'hands cold circulation', 'hands feet sweating', 'hands feet turn', 'hands ive heard', 'hands rock rock', 'hands theres lot', 'hands unworthy dragon', 'hang introduces family', 'hanging friend facetimes', 'hangout rhein feel', 'happen feel like', 'happen filtering gone', 'happen follow reddit', 'happen really depressed', 'happen usually begins', 'happen went cool', 'happened couple times', 'happened day combination', 'happened day took', 'happened dont know', 'happened dont want', 'happened hoping theres', 'happened like times', 'happened long time', 'happened notice comments', 'happened october couple', 'happened recently makes', 'happened suggested physiologically', 'happened think car', 'happened thought experienced', 'happened time tried', 'happened twice year', 'happened years ago', 'happening active reddit', 'happening depending complicated', 'happening im terrified', 'happening like stuck', 'happening outside body', 'happens feel like', 'happens im anxietypanic', 'happens im listening', 'happens reason happens', 'happens speak tonal', 'happens store going', 'happens want relief', 'happy depression gone', 'happy enjoying work', 'happy fast pill', 'happy feel like', 'happy high confidence', 'happy valentines day', 'hard able really', 'hard believe like', 'hard break skin', 'hard choose cause', 'hard dreaded day', 'hard explain ill', 'hard explain like', 'hard feel like', 'hard feels like', 'hard good person', 'hard impress classic', 'hard kinda dry', 'hard labels pov', 'hard manually make', 'hard read people', 'hard taken lot', 'hard think shit', 'hard time accepting', 'hard time connecting', 'hard time figuring', 'hard time finding', 'hard time focusing', 'hard time getting', 'hard time know', 'hard time remembering', 'hard time sunday', 'hard time telling', 'hard time trying', 'hard time understanding', 'hard touch like', 'hard tried sleep', 'hard understand conversation', 'harder brothers worry', 'harder managed parents', 'harder time deciding', 'hardest listen realise', 'harmful stim lot', 'harmonic minor scale', 'hasty decision soon', 'hate asking help', 'hate disrespectful millie', 'hate feel like', 'hate feeling like', 'hate hate hate', 'hate hate want', 'hate health anxiety', 'hate life want', 'hate people say', 'hate think killing', 'hate want die', 'hate way look', 'hated painting nails', 'hated wearing bras', 'havent calculated cr', 'havent cut months', 'havent gotten case', 'havent paid attention', 'havent seen signs', 'havent seen years', 'havent tried new', 'head arms porcelain', 'head bumped grade', 'head dont want', 'head drops real', 'head feel like', 'head felt really', 'head raised proudly', 'head time weak', 'headphones fear hunted', 'heads multiplayer sleep', 'health anxiety currently', 'health anxiety keeps', 'health anxiety panic', 'health anxiety roof', 'health attack know', 'health earlier things', 'health feel like', 'health issues like', 'health issues lines', 'health issues showed', 'health issues things', 'health troubles professionals', 'health university religious', 'health wise really', 'healthy balance work', 'healthy dont know', 'healthy white hypermobility', 'hear breathe im', 'hear breathing wear', 'hear ears echoed', 'hear like loud', 'hear people saying', 'hear purr anymore', 'hear smell things', 'hear thoughts laying', 'hear xbox ports', 'heard anhedonia officially', 'heard best friend', 'heard calling lips', 'heard combination dangerous', 'heard echoing voice', 'heard effect libido', 'heard good things', 'heard great things', 'heard horror stories', 'heard knew hear', 'heard little month', 'heard lot people', 'heard people say', 'heard people saying', 'heard phrase neurodiversity', 'heard silence focused', 'heard somewhat harmful', 'heart attack fears', 'heart attack im', 'heart beating chest', 'heart beating fast', 'heart boom thought', 'heart breaking yowl', 'heart feels like', 'heart felt like', 'heart fluctuate like', 'heart healthy doctor', 'heart palpitations feels', 'heart palpitations heart', 'heart palpitations increased', 'heart palpitations like', 'heart palpitations months', 'heart palpitations occasionally', 'heart rate blood', 'heart rate chart', 'heart rate fever', 'heart rate goes', 'heart rate high', 'heart rate normal', 'heart skipping beat', 'heart skips beat', 'heart started beating', 'heart thinking makes', 'heart today decided', 'heated mom anxious', 'heath issues went', 'heavy time hope', 'heels started banging', 'heh heart boom', 'height weight race', 'held dream years', 'held place order', 'held verbal ground', 'hell explaining thats', 'hell feel like', 'hell filled years', 'hell started bleeding', 'hell thought suicided', 'hell want meet', 'hello admin good', 'hello current job', 'hello hope youre', 'hello im looking', 'hello need advice', 'hello thank calling', 'hello weed smoker', 'hello year old', 'help accommodations ok', 'help achieve goal', 'help anxiety depression', 'help appreciated edit', 'help appreciated thank', 'help appreciated thanks', 'help dont know', 'help dont want', 'help ex best', 'help fall asleep', 'help feel better', 'help feel guilty', 'help feel like', 'help feels like', 'help greatly appreciated', 'help guy thanks', 'help im really', 'help im scared', 'help im sorry', 'help im tired', 'help issue unfortunately', 'help like person', 'help lol sorry', 'help lose weight', 'help make feel', 'help makes feel', 'help making feel', 'help really appreciated', 'help social situations', 'help thanks advance', 'help thanks listening', 'help thing stressing', 'help understand situation', 'help woke early', 'help world today', 'help year old', 'helped spoke struggles', 'helpful share peers', 'helpful underwent physicalsexual', 'helping feel like', 'helpless husband role', 'helpless panic attacks', 'helplesspowerless know useful', 'helps immensely point', 'hemp body soap', 'heres thing feel', 'heresimgurcomaazjbqbi idea dragons', 'hernia weight loss', 'hero magic relic', 'hero realm met', 'heros greatest treasure', 'hes getting pretty', 'hes nice guy', 'hes probably lonely', 'hesitate slaughter party', 'hey guys im', 'hey guys ive', 'hey guys like', 'hey guys story', 'hey im looking', 'hey im trying', 'hey passed state', 'hey turned april', 'hey wrote blurb', 'hi best friend', 'hi guys im', 'hi guys scariest', 'hi guys wanted', 'hi im beginning', 'hi im brand', 'hi im currently', 'hi im looking', 'hi im trying', 'hi im year', 'hi know right', 'hi male working', 'hi people friends', 'hi recent argument', 'hi recently diagnosed', 'hi recently got', 'hi turned days', 'hi turned lot', 'hiding dads chagrin', 'hiding obvious disability', 'high achieving kid', 'high blood pressure', 'high chance serotonin', 'high confidence day', 'high energy like', 'high energy music', 'high functioning autism', 'high heart rate', 'high hell started', 'high im tired', 'high risk come', 'high school age', 'high school college', 'high school dont', 'high school feel', 'high school friends', 'high school got', 'high school like', 'high school planning', 'high school semester', 'high school started', 'high school year', 'high school years', 'high work ethic', 'high yield savings', 'higher paying job', 'highs getting car', 'highschool college health', 'highschool college really', 'highschool failed ending', 'highschool going homeschool', 'highschool got college', 'highschool started terrible', 'highschool use good', 'hikes nights games', 'hip pain musclejoint', 'hiring person related', 'histamine allergist anaphylaxis', 'histamine intolerance bought', 'history endometriosis pcos', 'history mother uterine', 'history recently closed', 'history tmj predominately', 'hit ended losing', 'hit fucking rock', 'hit good friends', 'hit like ton', 'hit pretty began', 'hit wall like', 'hit wall tune', 'hit wall world', 'hitting arms regardless', 'hitting boyfriend legs', 'hitting months believe', 'hive lgbtq inclusive', 'hives noticed hard', 'hobbiesinterests subreddits result', 'hogging conversation wont', 'hold breath like', 'hold cash buy', 'hold conversations fucking', 'hold conversations really', 'hold disinterested bore', 'hold im school', 'hold job couple', 'holding cheek fever', 'hole disrespecting course', 'holiday saturday seeing', 'holiday weeks worried', 'home address knocked', 'home builders accepted', 'home didnt kissed', 'home dropped home', 'home feel like', 'home keeps way', 'home notice legs', 'home payed dropped', 'home really feeling', 'home say hi', 'home situation great', 'home week month', 'home weeks gets', 'homeschool little know', 'honduras like organize', 'honest im scared', 'honest like happens', 'honestly dont know', 'honestly dont really', 'honestly dont think', 'honestly dont want', 'honestly feel like', 'honestly feel pathetic', 'honestly feels like', 'honestly like culture', 'honestly regret marriage', 'honestly think id', 'honesty fast forward', 'hook easily added', 'hook look forward', 'hook taken opposite', 'hope advice improve', 'hope feel like', 'hope help download', 'hope makes sense', 'hope meet soon', 'hope nice day', 'hope overcame panic', 'hope right think', 'hope youre fine', 'hopefully makes sense', 'hopeless feel like', 'hoping bit advice', 'hoping hold cash', 'hoping relate understand', 'hoping theres insight', 'hormones normal range', 'hormones scared shtless', 'horrible fallout wit', 'horrible feeling example', 'horrible relief neck', 'horribly best friend', 'horribly ways end', 'hospital figuring subside', 'hospital gave sedatives', 'hospital specialized dizziness', 'hostile work environment', 'hour ago feel', 'hour heard echoing', 'hour roommates came', 'hours activity explained', 'hours brain loses', 'hours drive apart', 'hours edible took', 'hours end enjoyment', 'hours feel like', 'hours later arguing', 'hours like going', 'hours lucid feel', 'hours sleep night', 'hours want work', 'hours week retail', 'house crippling social', 'house electrical contracting', 'house going saying', 'house home address', 'house like daily', 'house living room', 'house new construction', 'house snoops conversationsinterferes', 'household feel like', 'houses thing margins', 'hs ended diagnosed', 'hs school work', 'hs started depressed', 'hud double shulker', 'huge argument ended', 'huge mcu fan', 'huge rant guess', 'huge red flag', 'hugged left car', 'human tends overreact', 'humour tends come', 'hunched bathroom floor', 'hunted animal im', 'huntingtons bipolar slightly', 'hurt bit looked', 'hurt im tired', 'hurt people love', 'hurts attention pain', 'hurts led girl', 'hurts sexuality feelings', 'husband imind newly', 'husband mil constantly', 'husband role husband', 'husband support defend', 'hyper centre attention', 'hyperechoic liver parenchyma', 'hypermobility spectrum disorder', 'hypochondria depression anxiety', 'hypothyroidism know anymore', 'ibd colonoscopy endoscopy', 'ibd got colonoscopy', 'ibs ibd colonoscopy', 'id catastrophize fear', 'id consumed edibles', 'id dare speak', 'id disrespecting shed', 'id feel like', 'id felt physically', 'id greatly appreciate', 'id like able', 'id like ask', 'id like hear', 'id like im', 'id like know', 'id like make', 'id like say', 'id like spend', 'id like think', 'id love hear', 'id love share', 'id partaken fair', 'id play maybe', 'id really appreciate', 'id really like', 'id really love', 'id smoking weed', 'id think demon', 'id using weed', 'id wanna stop', 'idc people day', 'idea actually dating', 'idea dentist ent', 'idea dragons stat', 'idea forcing vomit', 'idea going anymore', 'idea im wrong', 'idea let know', 'idea plot hook', 'idea react non', 'idea want life', 'ideal dream dont', 'ideal way proceed', 'idealistic seen good', 'ideally id like', 'ideals true altruism', 'ideas fine week', 'identified lesbian like', 'identified non binary', 'identify lesbian man', 'identify non binary', 'identity crises look', 'identity tick boxes', 'idk explain feel', 'idk feel like', 'idk guys think', 'idk im thinking', 'idk ive tried', 'idk know big', 'idk makes sense', 'idk maybe im', 'idk nan react', 'idk sorry long', 'idk stick embrace', 'idk think im', 'idk wanna pay', 'ig im looking', 'ignore long work', 'ignore mute usually', 'ill abnormal smear', 'ill admit im', 'ill best kind', 'ill feel like', 'ill hard time', 'ill let know', 'ill list specs', 'ill live past', 'ill sound erratic', 'ill try make', 'ill try short', 'ill way react', 'illnesses prozac klonopin', 'illusion wish clear', 'im adultparent type', 'im afraid ill', 'im afraid im', 'im afraid wont', 'im alarmed showed', 'im annoying blow', 'im anxietypanic attack', 'im anxious depressed', 'im asking case', 'im asking diagnosis', 'im asking im', 'im autistic im', 'im bad person', 'im basically working', 'im better im', 'im big fan', 'im bit confused', 'im brand new', 'im btw things', 'im bundle nerves', 'im busy im', 'im busy thinking', 'im certain stress', 'im coming reality', 'im community college', 'im completely lost', 'im concerned overall', 'im confused whats', 'im constantly abandoned', 'im constantly thinking', 'im constantly worried', 'im curious hear', 'im curious know', 'im curious think', 'im curious want', 'im currently looking', 'im currently taking', 'im currently trying', 'im currently working', 'im dealing grief', 'im dealing sense', 'im deprived alot', 'im dont know', 'im dude im', 'im dying little', 'im entirely sure', 'im fairly new', 'im fairly sure', 'im falling asleep', 'im far gone', 'im feel like', 'im feeling anymore', 'im feeling hopeful', 'im feeling like', 'im feeling really', 'im fine giving', 'im fine im', 'im fine think', 'im finishing semester', 'im frustrated im', 'im fucking human', 'im fucking tired', 'im funny entertaining', 'im getting better', 'im getting daily', 'im getting im', 'im getting old', 'im going able', 'im going assume', 'im going better', 'im going buy', 'im going crazy', 'im going die', 'im going fail', 'im going home', 'im going im', 'im going insane', 'im going kill', 'im going live', 'im going make', 'im going medication', 'im going need', 'im going nuts', 'im going say', 'im going second', 'im going start', 'im going stop', 'im going tell', 'im going try', 'im going trying', 'im going work', 'im gonna die', 'im gonna say', 'im gonna sit', 'im gonna try', 'im good im', 'im good listener', 'im good person', 'im good time', 'im grinding game', 'im happy excited', 'im happy im', 'im hard time', 'im hitting arms', 'im honest im', 'im hoping help', 'im hyper centre', 'im im tired', 'im im trying', 'im interested evil', 'im interested good', 'im interested hear', 'im job searching', 'im kind afraid', 'im kinda broken', 'im late thirties', 'im laying bed', 'im learning stop', 'im likely going', 'im listening music', 'im little bit', 'im little confused', 'im little worried', 'im living im', 'im looking advice', 'im looking forward', 'im looking friends', 'im looking getting', 'im looking like', 'im looking make', 'im looking new', 'im looking people', 'im looking tips', 'im losing mind', 'im losing weight', 'im mad handle', 'im mad im', 'im making im', 'im making post', 'im mhz rtx', 'im native speaker', 'im nauseous sweaty', 'im nervous start', 'im new reddit', 'im normal filtering', 'im okay im', 'im older absolutely', 'im open suggestions', 'im panicking byt', 'im panicking lasts', 'im planet dont', 'im planning making', 'im point im', 'im position pay', 'im pretty experienced', 'im pretty good', 'im pretty life', 'im pretty new', 'im pretty sure', 'im probably going', 'im probably overthinking', 'im quite sure', 'im reading book', 'im ready say', 'im real man', 'im really anxious', 'im really bad', 'im really confused', 'im really curious', 'im really depressed', 'im really end', 'im really enjoying', 'im really excited', 'im really good', 'im really happy', 'im really hoping', 'im really interested', 'im really living', 'im really looking', 'im really nervous', 'im really new', 'im really paranoid', 'im really proud', 'im really really', 'im really scared', 'im really starting', 'im really struggling', 'im really sure', 'im really tired', 'im really trying', 'im really worried', 'im relatively new', 'im right talking', 'im running ideas', 'im running options', 'im running time', 'im sad really', 'im saying dont', 'im saying wrong', 'im scared anxiety', 'im scared dont', 'im scared feel', 'im scared going', 'im scared happen', 'im scared ill', 'im scared im', 'im scared ive', 'im scared sleep', 'im school dip', 'im shakily whispering', 'im sick dont', 'im sick feeling', 'im sick im', 'im sick shit', 'im sick tired', 'im simply tired', 'im sitting room', 'im sorry dont', 'im sorry extremely', 'im sorry im', 'im sorry post', 'im sorry rambling', 'im starting believe', 'im starting feel', 'im starting new', 'im starting think', 'im struggling relate', 'im stuck living', 'im stuck odd', 'im super close', 'im super excited', 'im super paranoid', 'im supposed feel', 'im sure adhd', 'im sure bc', 'im sure correct', 'im sure doesnt', 'im sure dont', 'im sure girl', 'im sure ill', 'im sure im', 'im sure ive', 'im sure know', 'im sure like', 'im sure people', 'im sure said', 'im sure shes', 'im sure start', 'im sure thats', 'im sure theres', 'im sure think', 'im sure try', 'im sure want', 'im talking drugs', 'im talking forgetting', 'im talking mothers', 'im tech savvy', 'im terrified want', 'im thinking buying', 'im thinking doesnt', 'im thinking getting', 'im thinking going', 'im thinking making', 'im thinking starting', 'im thinking things', 'im tired day', 'im tired dont', 'im tired feel', 'im tired feeling', 'im tired fighting', 'im tired getting', 'im tired im', 'im tired ive', 'im tired killing', 'im tired know', 'im tired like', 'im tired listening', 'im tired living', 'im tired people', 'im tired sad', 'im tired seeing', 'im tired tired', 'im tired want', 'im tired worrying', 'im trans im', 'im treated like', 'im trying able', 'im trying anxiety', 'im trying best', 'im trying decide', 'im trying figure', 'im trying hard', 'im trying like', 'im trying make', 'im trying remember', 'im trying say', 'im trying sleep', 'im trying stay', 'im trying think', 'im trying update', 'im trying use', 'im trying work', 'im trying write', 'im type person', 'im uk live', 'im uncomfortably severe', 'im unemployed point', 'im vaguely aware', 'im waiting come', 'im want free', 'im wasting money', 'im wasting time', 'im weigh smoke', 'im whispering wish', 'im willing bet', 'im wits end', 'im wondering guys', 'im wondering im', 'im wondering people', 'im wondering theres', 'im wondering worth', 'im worried able', 'im worried going', 'im worried ill', 'im worried im', 'im worried ive', 'im worried think', 'im worried wont', 'im worrying im', 'im worthless piece', 'im year old', 'im yearning deprived', 'im yearning relationship', 'im years old', 'imagine make dating', 'imind newly wed', 'immature response issue', 'immediately actually dont', 'immediately assume worst', 'immediately got anxious', 'immediately got realised', 'immediately start feeling', 'immediately started feeling', 'immediately started talking', 'immense power rested', 'immensely point eat', 'impacted wisdom teeth', 'important im interested', 'important weight thinness', 'impossible sit moment', 'imposter syndrome feel', 'impress classic crushes', 'impression bf toxic', 'improve life marriage', 'improve social skills', 'incapacitated rest night', 'include baggy eyes', 'included redness tongue', 'including tiktok fyp', 'inclusive server dedicated', 'incompetent people likely', 'increased depressed walk', 'increased dosage twice', 'increased skin redness', 'increased sweating increased', 'increasingly negative mindset', 'increasingly worrying thoughts', 'incredibly lightheaded roommates', 'indoors let mum', 'indoors mum runs', 'industry wanted feedback', 'infected im alarmed', 'infection dont believe', 'influence think confused', 'influenced phase saying', 'info dunno weight', 'inhibition socialize communicate', 'initiating reason avoiding', 'input devices keyboardtouchpad', 'input greatly appreciated', 'insane deleted thing', 'insane pretty grade', 'insane way self', 'insecurities feel like', 'inserted cheek fingers', 'inside body different', 'inside feel like', 'inside flat keeps', 'inside mouth feel', 'inside mouth left', 'inside overwhelming sitting', 'inside right midcheek', 'inside world handle', 'insinuates really fucking', 'insomnia years plus', 'installation company ive', 'instantly ramped came', 'instead converted lactate', 'instead daughter pretty', 'instead feel like', 'instead passion think', 'instead say wounds', 'instead try peace', 'insurance dont know', 'insurence phone im', 'intel core ghz', 'intended donation eliminate', 'intense chest dysphoria', 'intense pain headaches', 'intention forcibly relic', 'intentions hitting boyfriend', 'interact literally keeps', 'interested anyways going', 'interested evil im', 'interested good deterministic', 'interested hear people', 'interesting alternative plot', 'interesting debate heresimgurcomaazjbqbi', 'interesting struggle hold', 'internet keeps disconnecting', 'internet strangers id', 'internet way experience', 'interview day yeah', 'interview got job', 'interview months ive', 'interview oprah hit', 'interview supposed say', 'intolerance allergy trouble', 'intolerance bought dao', 'introduces family friends', 'intrusive obsessive thoughts', 'intrusive thoughts hard', 'intrusive thoughts like', 'invisible feel like', 'invited coffee think', 'invited picked home', 'ios officially beta', 'iphone pro max', 'iq reason special', 'iron deficiency hypothyroidism', 'irrationally silent treatment', 'irregular period month', 'irritating thing video', 'ish liked look', 'isnt strong anymore', 'isnt subject cheap', 'isnt super concerning', 'isnt time happened', 'isp dumping ground', 'issue closest guess', 'issue couldve talked', 'issue especially helpful', 'issue evga supernova', 'issue leading dark', 'issue reason feel', 'issue recently lost', 'issue right inside', 'issue unfortunately shes', 'issue used skin', 'issue windows event', 'issues application crash', 'issues blood tests', 'issues came failed', 'issues constant distress', 'issues days randomly', 'issues dont want', 'issues downclocked speed', 'issues feel like', 'issues functioning feeling', 'issues impacted wisdom', 'issues insomnia years', 'issues lines life', 'issues making friends', 'issues mental health', 'issues mil husband', 'issues mind slow', 'issues need really', 'issues new appeared', 'issues play game', 'issues really bad', 'issues showed feel', 'issues spent days', 'issues substance abuse', 'issues things started', 'issues went highschool', 'itch hives noticed', 'itched bites high', 'itching upper arms', 'itd nice gen', 'ive avoiding job', 'ive clinically depressed', 'ive come point', 'ive come realize', 'ive completely gone', 'ive decades yall', 'ive dieted exercised', 'ive eating fast', 'ive experiencing lot', 'ive feeling like', 'ive feeling lot', 'ive felt like', 'ive felt long', 'ive finally hit', 'ive fucked academic', 'ive gained weight', 'ive got feeling', 'ive got really', 'ive gotten borderline', 'ive great progress', 'ive hard time', 'ive heard different', 'ive heard good', 'ive heard horror', 'ive heard lot', 'ive heard people', 'ive heard somewhat', 'ive known years', 'ive learned lot', 'ive life im', 'ive liked entertaining', 'ive looked hypochondria', 'ive losing mind', 'ive lost hope', 'ive lost symptoms', 'ive lost weight', 'ive lot progress', 'ive masking years', 'ive mentally suffering', 'ive moved boyfriend', 'ive noticed im', 'ive noticed lot', 'ive noticed people', 'ive obsessions health', 'ive passive life', 'ive played game', 'ive played years', 'ive questioning sexuality', 'ive read people', 'ive read says', 'ive really hard', 'ive really overdone', 'ive really talked', 'ive really wanting', 'ive recently gotten', 'ive recently started', 'ive repeated cycle', 'ive seen far', 'ive seen gi', 'ive seen lot', 'ive seen people', 'ive seen person', 'ive seen posts', 'ive seen sick', 'ive spent time', 'ive spent years', 'ive started new', 'ive started treated', 'ive started using', 'ive stopped going', 'ive stopped hiding', 'ive struggled long', 'ive struggled mental', 'ive struggling extremely', 'ive struggling work', 'ive suffering week', 'ive taken antihistamine', 'ive therapy years', 'ive thinking going', 'ive thought building', 'ive thought getting', 'ive thought solar', 'ive thrown perfectly', 'ive told family', 'ive told im', 'ive tried different', 'ive tried long', 'ive tried therapy', 'ive trying better', 'ive trying make', 'ive type kid', 'ive wasted years', 'ive worked restaurants', 'ive working center', 'ive working time', 'ive years im', 'ive zoned mid', 'january background id', 'job actually like', 'job anxiety main', 'job client facing', 'job couple months', 'job dont know', 'job dont really', 'job dont want', 'job escape marriage', 'job feel like', 'job friday like', 'job got fired', 'job help think', 'job interview day', 'job interview months', 'job ive worked', 'job long possible', 'job month ago', 'job months ago', 'job pay phone', 'job place worried', 'job role years', 'job start podcast', 'job theater really', 'job think got', 'job tried work', 'job want happy', 'jobs dont know', 'jobs feel like', 'jobs fit try', 'jobs ive past', 'jobs rest life', 'jobs tried self', 'joe rogan podcast', 'join bee hive', 'join click link', 'join military happened', 'join military struggling', 'join pararescue held', 'join survived highschool', 'joined paramedic program', 'jokes lot like', 'jokes sarcasm think', 'journaling good routines', 'journaling psychically working', 'jump painful reminders', 'jump steal relic', 'june panics anxiety', 'jurassic world evolution', 'keen prescribing really', 'keeping god forefront', 'keeps disconnecting wifi', 'keeps feeling like', 'keeps getting worse', 'keeps giving food', 'keeps night know', 'keeps telling ill', 'keeps way driving', 'kept asking okay', 'kept asking questions', 'kept checking lowest', 'kept getting worse', 'kept hands unworthy', 'kept telling knew', 'kept turning head', 'kernal power error', 'ketamine transcranial magnetic', 'keyboard reliable build', 'kick house home', 'kick respecting house', 'kick thing thinks', 'kicked sent text', 'kicking im nauseous', 'kid dressed tom', 'kid matter mom', 'kid people used', 'kid played sports', 'kik whatsapp hope', 'kill dont know', 'kill dragon relic', 'killing dragon party', 'killing egos egos', 'killing fast likely', 'killing resting heart', 'kind came place', 'kind feel like', 'kind feels like', 'kind felt like', 'kind goes forth', 'kind guess told', 'kind hard read', 'kind market years', 'kind panic ask', 'kind started friendship', 'kind upset like', 'kind way cool', 'kinda blank weirdest', 'kinda broken dumb', 'kinda dry want', 'kinda feel bad', 'kinda feel like', 'kinda feels like', 'kinda lose focus', 'kinda makes sense', 'kinda muted focus', 'kinds weird symptoms', 'king dammit dao', 'kissed goodnight wanted', 'kittens spoken previously', 'klonopin needed long', 'knew better hospital', 'knew earlier enjoyed', 'knew going happen', 'knew hear ears', 'knew medication dream', 'knew said cousin', 'knew vets know', 'knocked belongings supplies', 'know actually survive', 'know adults nope', 'know advice appreciated', 'know agrees sound', 'know answer questions', 'know anymore feel', 'know anymore im', 'know anymore medications', 'know appropriate thing', 'know ask know', 'know awful help', 'know best way', 'know better know', 'know better way', 'know big aspergers', 'know body trying', 'know cis people', 'know coincidence receive', 'know cope taught', 'know dads super', 'know didnt know', 'know difference state', 'know dont care', 'know dont know', 'know dont need', 'know dont really', 'know dont think', 'know dont understand', 'know dont want', 'know exactly happened', 'know explain dont', 'know fairly common', 'know fairly new', 'know feel anymore', 'know feel better', 'know feel like', 'know feel way', 'know feels like', 'know flexibility hours', 'know giving idealistic', 'know goes away', 'know going ask', 'know going time', 'know gonna pay', 'know good quality', 'know greatly appreciated', 'know guys think', 'know happened day', 'know hard time', 'know hoping relate', 'know identify non', 'know ill able', 'know im bad', 'know im entitled', 'know im feeling', 'know im going', 'know im gonna', 'know im really', 'know im right', 'know im sorry', 'know im supposed', 'know im talking', 'know im thinking', 'know im tired', 'know im trans', 'know im wrong', 'know isnt gta', 'know itll better', 'know ive seen', 'know job escape', 'know know know', 'know lesbian anymore', 'know like days', 'know like feel', 'know like satisfying', 'know little bit', 'know live feel', 'know living like', 'know long fighting', 'know long lot', 'know long winded', 'know looks like', 'know lot people', 'know luxury car', 'know makes sense', 'know need make', 'know nice maybe', 'know non binary', 'know normal people', 'know obvious answer', 'know opinions think', 'know owner company', 'know people autism', 'know people disagree', 'know people dont', 'know people gonna', 'know people got', 'know people like', 'know people really', 'know people say', 'know personally struggle', 'know possible fail', 'know post probably', 'know probably sound', 'know rare started', 'know real life', 'know realize lot', 'know really care', 'know really know', 'know really like', 'know really need', 'know recently married', 'know right choice', 'know right place', 'know right sub', 'know say feel', 'know say mind', 'know says im', 'know set theory', 'know shes really', 'know social problems', 'know sorry sounds', 'know sound like', 'know sounds insane', 'know sounds kind', 'know sounds like', 'know sounds ridiculous', 'know sounds weird', 'know start painful', 'know start want', 'know stats wonky', 'know stuff like', 'know sure im', 'know survive guess', 'know taking form', 'know talk people', 'know talk therapist', 'know tell parents', 'know thanks advance', 'know thats really', 'know think im', 'know thinks said', 'know thought good', 'know thoughts thanks', 'know title sounds', 'know told eye', 'know use know', 'know useful texts', 'know want girl', 'know want join', 'know want know', 'know want little', 'know want person', 'know want run', 'know want tell', 'know whats going', 'know whats wrong', 'know wrong fix', 'knowing able afford', 'knowing thingspeople chair', 'known ones start', 'knows hold conversations', 'knows whats january', 'la liga title', 'label change straight', 'label straight feel', 'labels make people', 'labels pov know', 'lack energy change', 'lack motivation willpower', 'lack self awareness', 'lack self control', 'lactate levels rise', 'lactate pyruvate dehydrogenase', 'lactate rise deficiency', 'lactic acidosis occur', 'laid ground seizures', 'laid relic begged', 'lair long proving', 'language pronouncing word', 'large chest looking', 'lasts calm usually', 'lasts like minutes', 'late got relationship', 'late motivation try', 'late thirties wrinkles', 'lately dont know', 'lately feel like', 'lately feeling tightness', 'lately friends immediately', 'lately high work', 'lately ive feeling', 'lately ive noticed', 'lately ive started', 'later arguing caused', 'later im sure', 'later ive moved', 'later like cunt', 'later money pull', 'later texting hours', 'laugh time mom', 'laughed thought maybe', 'laughing noticed difference', 'laws barely sickening', 'laws okay vocal', 'lay bed dark', 'lay bed day', 'lay bed thinking', 'laying awake know', 'laziness lack motivation', 'lbs exercise elevator', 'lbs got really', 'lead sheet notation', 'leader hours week', 'leading dark thoughts', 'leads lactic acidosis', 'leaf decay graves', 'league went quite', 'learn breathe really', 'learn depths drug', 'learn game spacemetaverse', 'learn music theory', 'learn new skill', 'learn new skills', 'learn new things', 'learn play instrument', 'learned details regarding', 'learned easily buy', 'lease thought door', 'leave doctors notes', 'leave feel like', 'leave finishing thoughts', 'leave house crippling', 'leave possibly prove', 'leaving vacation hangout', 'led girl genuinely', 'led greatly despise', 'left car overthinking', 'left feel like', 'left fired manager', 'left good terms', 'left got shot', 'left life wake', 'left make weed', 'left normal vaguely', 'left office id', 'left propelled punch', 'left reply messages', 'left wake extremely', 'left wreck day', 'left years ago', 'legal working home', 'legally recognised uk', 'legally want touch', 'legendary action tail', 'legit like wave', 'legs changed colour', 'legs feel like', 'legs kicking im', 'lemme know guys', 'leo got mum', 'leo including tiktok', 'leo trans sign', 'lesbian anymore felt', 'lesbian feel like', 'lesbian like men', 'lesbian man obviously', 'lessen negative effects', 'let brood like', 'let feel like', 'let ground growing', 'let guy wanted', 'let heart breaking', 'let knew earlier', 'let know cool', 'let know going', 'let know good', 'let know greatly', 'let know guys', 'let know ideas', 'let know im', 'let know lmaooo', 'let know need', 'let know realize', 'let know remove', 'let know stats', 'let know taking', 'let know thanks', 'let know think', 'let know thoughts', 'let know want', 'let preface saying', 'let say come', 'let start saying', 'let talk think', 'let tell ya', 'letter lied time', 'leuprorelin triptorelin leuprorelin', 'levels feel low', 'levels leads lactic', 'levels rise lactate', 'lg smart tv', 'lgbtq inclusive server', 'libido decreased libido', 'libido reason quit', 'license real id', 'lie actually technically', 'lie bed body', 'lie really gets', 'lied time went', 'lies catch worse', 'life accessible blind', 'life adhd medication', 'life admit things', 'life amazing year', 'life approach boss', 'life breathe really', 'life completely different', 'life completely ive', 'life death feel', 'life difficult started', 'life dog life', 'life dont know', 'life dont want', 'life entered college', 'life experiences past', 'life falling apart', 'life feel like', 'life feeling like', 'life feels like', 'life felt like', 'life finally school', 'life focused nonstop', 'life fullest health', 'life getting worse', 'life going fucking', 'life hell thought', 'life hit fucking', 'life im bundle', 'life im curious', 'life im sure', 'life im tired', 'life im trying', 'life increasingly worrying', 'life isnt subject', 'life ive avoiding', 'life ive felt', 'life ive obsessions', 'life join military', 'life lack energy', 'life look people', 'life looking good', 'life makes sense', 'life marriage escape', 'life neurotypical person', 'life normal regular', 'life past years', 'life people struggle', 'life person want', 'life personality opposite', 'life pretty hard', 'life school work', 'life started fall', 'life struggled thought', 'life style wanted', 'life thats feel', 'life think negatively', 'life time woman', 'life today years', 'life togetherbuild consistent', 'life truly called', 'life tuesday recently', 'life verbally battled', 'life wake noon', 'life want die', 'life want live', 'life wish existed', 'life worth living', 'life writing different', 'life years embarrassment', 'life young devout', 'lift hands cold', 'lift seconds invited', 'lifting thats ive', 'light end tunnel', 'lightheaded incapacitated rest', 'lightheaded roommates fine', 'like able use', 'like aching discomfort', 'like act like', 'like actually boy', 'like advice think', 'like advice welcome', 'like air coming', 'like air floaty', 'like air getting', 'like anymore feel', 'like arms legs', 'like bad person', 'like big deal', 'like blasting high', 'like blood pressure', 'like brain doesnt', 'like breath fresh', 'like breathing messed', 'like bronze gold', 'like brushing teeth', 'like casual equal', 'like closest thing', 'like come game', 'like completely different', 'like control body', 'like cool day', 'like covered bases', 'like crazy bird', 'like culture parents', 'like cunt motivation', 'like daily panic', 'like dark souls', 'like day like', 'like days ago', 'like days didnt', 'like days want', 'like dead scared', 'like depressed thought', 'like didnt know', 'like difficult type', 'like distract jobs', 'like doesnt make', 'like dont belong', 'like dont care', 'like dont deserve', 'like dont feel', 'like dont know', 'like dont like', 'like dont mind', 'like dont need', 'like dont really', 'like dont think', 'like dont wanna', 'like dont want', 'like dream feel', 'like dying feel', 'like eat blah', 'like end world', 'like environment work', 'like escape tarkov', 'like exposed nerve', 'like factor influence', 'like failure feel', 'like fathom id', 'like feel im', 'like feel like', 'like feel sorta', 'like feel way', 'like feeling like', 'like feels good', 'like feels like', 'like feels weird', 'like felt like', 'like finally time', 'like fit like', 'like forced constantly', 'like freight train', 'like friends feel', 'like game production', 'like getting worse', 'like girl dont', 'like god damn', 'like going away', 'like going crazy', 'like going die', 'like going insane', 'like going pass', 'like going stores', 'like gonna pass', 'like good idea', 'like good mood', 'like got hit', 'like handle concerned', 'like handle listen', 'like happening im', 'like happening outside', 'like hard time', 'like head idk', 'like heart attack', 'like heart beating', 'like heart skipping', 'like high school', 'like highschool use', 'like hold breath', 'like holy shit', 'like hope lost', 'like horrible person', 'like hour later', 'like hour roommates', 'like hours sleep', 'like id play', 'like im actually', 'like im broken', 'like im coming', 'like im constantly', 'like im dumb', 'like im dying', 'like im falling', 'like im family', 'like im fine', 'like im fucking', 'like im getting', 'like im going', 'like im gonna', 'like im good', 'like im kind', 'like im like', 'like im living', 'like im looking', 'like im losing', 'like im making', 'like im missing', 'like im normal', 'like im old', 'like im planet', 'like im playing', 'like im real', 'like im really', 'like im running', 'like im shakily', 'like im slowly', 'like im starting', 'like im stuck', 'like im sure', 'like im talking', 'like im trying', 'like im using', 'like im wasting', 'like im watching', 'like im weird', 'like im whispering', 'like im worthless', 'like influenced phase', 'like interesting struggle', 'like invisible feel', 'like ive decades', 'like ive lost', 'like ive thrown', 'like ive tried', 'like ive wasted', 'like job feel', 'like join survived', 'like ketamine transcranial', 'like know better', 'like know guys', 'like know im', 'like know luxury', 'like know possible', 'like know probably', 'like know queer', 'like know sorry', 'like know things', 'like know want', 'like knowing thingspeople', 'like knows hold', 'like life want', 'like like know', 'like like think', 'like listen good', 'like little kid', 'like lived life', 'like living anymore', 'like long focusing', 'like long time', 'like look like', 'like look people', 'like lose control', 'like losing mind', 'like lost potential', 'like lot people', 'like lot potential', 'like loud ignore', 'like love child', 'like love talk', 'like lump underneath', 'like lying yeah', 'like make feel', 'like make sense', 'like make sure', 'like makes feel', 'like makes sense', 'like matter im', 'like matter unless', 'like maybe im', 'like meds work', 'like men want', 'like mental health', 'like mentally im', 'like mentally physically', 'like minding business', 'like minutes im', 'like missed youth', 'like moment times', 'like month ago', 'like mosquito bites', 'like need help', 'like need vent', 'like neurotypical people', 'like nice person', 'like normal human', 'like normal people', 'like normal person', 'like normal thing', 'like octotonic scale', 'like odd thing', 'like oh god', 'like oh yeah', 'like old man', 'like old school', 'like old times', 'like ones mentioned', 'like open mouth', 'like organize fundraising', 'like outcast driving', 'like parties going', 'like passing things', 'like past years', 'like people dont', 'like people say', 'like people think', 'like person saw', 'like points ive', 'like quiet awkward', 'like read able', 'like real life', 'like really bad', 'like really dark', 'like really dont', 'like really feel', 'like really like', 'like really need', 'like really overreact', 'like really want', 'like recently takes', 'like red dead', 'like regret changing', 'like remember started', 'like responded saying', 'like right im', 'like rollercoaster help', 'like rubbed face', 'like said im', 'like satisfying bad', 'like screeching chalk', 'like second ago', 'like second time', 'like seen mere', 'like shed try', 'like shell child', 'like shes really', 'like shit didnt', 'like shit dont', 'like shit feel', 'like shit im', 'like shit ive', 'like shit like', 'like shit time', 'like shortness breath', 'like simpsons movie', 'like snarls baring', 'like social anxiety', 'like sociopath best', 'like solution im', 'like spirit defeating', 'like stools hard', 'like stress guess', 'like stuck toes', 'like stupid question', 'like supportive reasonable', 'like sure trans', 'like takes edge', 'like talk millie', 'like talk people', 'like talking people', 'like theres hope', 'like theres point', 'like theres really', 'like theres way', 'like theres wrong', 'like thing fall', 'like think really', 'like think straight', 'like thought shopping', 'like tickling feeling', 'like time know', 'like time tell', 'like times past', 'like titel says', 'like title says', 'like ton bricks', 'like treated like', 'like trying make', 'like type people', 'like unbelievable felt', 'like video game', 'like wanna talk', 'like want anymore', 'like want die', 'like want feel', 'like want know', 'like want people', 'like want play', 'like want stay', 'like want stop', 'like wasnt fully', 'like waste time', 'like watching movie', 'like watching tv', 'like wave fearadrenaline', 'like wave panic', 'like way look', 'like way talk', 'like wearing makeup', 'like week approach', 'like weeks ago', 'like welp ive', 'like woman hated', 'like wow im', 'like yeah definitely', 'like year old', 'like years ago', 'like years im', 'like years old', 'liked entertaining people', 'liked job role', 'liked left fired', 'liked look came', 'likely appalled little', 'likely dont want', 'likely happen went', 'likes marvel star', 'limping stairs morning', 'line clone ive', 'lines life personality', 'linger dragons lair', 'lips shut looked', 'list programsgames desire', 'list specs ryzen', 'listen anymore irritating', 'listen different genres', 'listen good music', 'listen realise ive', 'listened music eyes', 'listening music long', 'listening music playing', 'listening music sudden', 'literally end starting', 'literally feel like', 'literally felt like', 'literally gloves pull', 'literally keeps night', 'literally month old', 'literally passing everyday', 'literally talk feel', 'literally thinking anxiety', 'little bit feel', 'little bit im', 'little bit pain', 'little bit time', 'little crippling especially', 'little different im', 'little friends andor', 'little going change', 'little hair loved', 'little heated mom', 'little know owner', 'little know start', 'little little friends', 'little little going', 'little lol time', 'little month time', 'little things like', 'little things people', 'little time left', 'little weird bear', 'little work experience', 'little year ago', 'live constant fear', 'live dignity ridiculous', 'live expectation people', 'live far away', 'live feel like', 'live hour away', 'live hours drive', 'live laws okay', 'live life breathe', 'live life fullest', 'live life want', 'live like im', 'live literally gloves', 'live normal life', 'live past makes', 'live rio janeiro', 'live small town', 'live united states', 'live used dream', 'lived life neurotypical', 'liver cancer tumors', 'liver king dammit', 'lives hour away', 'lives miles away', 'living best life', 'living boost ensure', 'living campus shes', 'living freedom action', 'living home parents', 'living life isnt', 'living paycheck paycheck', 'living room listened', 'living room listening', 'living room thing', 'living room waiting', 'living room wanted', 'lo que estoy', 'lo que sea', 'load recently christmas', 'loads tasks struggle', 'local community college', 'local town trying', 'local townsfolk saying', 'located right ovary', 'locker approach need', 'lol away today', 'lol currently identify', 'lol feel like', 'lol sorry huge', 'lol time think', 'london distance learning', 'loneliness come jump', 'loneliness painful wasting', 'lonely feel like', 'lonely weve spoken', 'long ago treasure', 'long amounts time', 'long eaten occasional', 'long feel like', 'long fighting single', 'long finish book', 'long focusing painful', 'long gone school', 'long history tmj', 'long hit wall', 'long like handle', 'long long time', 'long lot talk', 'long missed feel', 'long panic attack', 'long period time', 'long periods time', 'long post ahead', 'long post thanks', 'long proving worthy', 'long remember autism', 'long remember struggling', 'long shot im', 'long story short', 'long term effects', 'long term relationship', 'long time ago', 'long time feel', 'long time finally', 'long time friends', 'long time good', 'long time im', 'long time ive', 'long time know', 'long time like', 'long time thought', 'long time took', 'long winded pity', 'long work hit', 'long year life', 'longer feels like', 'longer know need', 'longest relationship years', 'look came realisation', 'look completely different', 'look exactly considering', 'look feel like', 'look forward reading', 'look join military', 'look like adhd', 'look like dont', 'look like girl', 'look like idiot', 'look like im', 'look like theyre', 'look mirror dont', 'look mirror feel', 'look mirror shower', 'look months pregnant', 'look people like', 'look people think', 'look photos past', 'look really cool', 'look turned joined', 'looked confused assume', 'looked exact area', 'looked good said', 'looked hypochondria depression', 'looked like mosquito', 'looked sad used', 'looked worked btw', 'looking good turned', 'looking make new', 'looking mirror absolutely', 'looking new job', 'looking niche electrical', 'looking paper book', 'looking photos kid', 'looking possible conversion', 'looking really confused', 'looking replace far', 'looking school dated', 'looking struggle girls', 'looking tough dude', 'looking trippy things', 'looking types players', 'looking want imagine', 'looks bit swollen', 'looks like game', 'looks like im', 'loops false hope', 'lord commissioning adventurers', 'lore dragons dont', 'lose balance fall', 'lose focus surrounded', 'lose ive lost', 'loses concentration kinda', 'losing friends beginning', 'losing lost appetite', 'losing mind feel', 'losing mind sitting', 'loss actually happened', 'loss balance randomly', 'loss excessive sweating', 'loss fatigue heart', 'loss weight loss', 'loss worry ive', 'lost appetite extremely', 'lost appetite year', 'lost best friend', 'lost cause like', 'lost faith god', 'lost faith medical', 'lost feel like', 'lost gorgeous cat', 'lost lbs exercise', 'lost life time', 'lost lot weight', 'lost potential like', 'lost reverse ailments', 'lost significant weight', 'lost symptoms abdominal', 'lost ton weight', 'lost weight trying', 'lot autistic people', 'lot congestion using', 'lot dad approval', 'lot details plot', 'lot dont feel', 'lot dont really', 'lot experience worried', 'lot feel like', 'lot felt like', 'lot free time', 'lot friends growing', 'lot jokes sarcasm', 'lot life people', 'lot like id', 'lot lot meltdowns', 'lot mental health', 'lot money able', 'lot money ensure', 'lot music theory', 'lot people buy', 'lot people know', 'lot people like', 'lot people quit', 'lot people say', 'lot people saying', 'lot people want', 'lot point antidiagnosinganythingmental', 'lot posts like', 'lot potential bad', 'lot regret spent', 'lot sick days', 'lot stress dress', 'lot tends aggravated', 'lot therapist hs', 'lot things want', 'lot time ill', 'lot times people', 'lot weight loss', 'lot weight thought', 'loud explosions fireworks', 'loud ignore mute', 'loud rock music', 'love able pay', 'love crowded cities', 'love dad really', 'love deeply dad', 'love dont know', 'love dont like', 'love elses idea', 'love feel like', 'love friends really', 'love friendship best', 'love hear people', 'love hear peoples', 'love hear stories', 'love hear thoughts', 'love know love', 'love life amazing', 'love loud explosions', 'love love love', 'love road trips', 'love talk idk', 'love want touch', 'loved colour blue', 'loved respected person', 'lovely eat heres', 'loving mother father', 'low depleted shitty', 'low dip normal', 'low dips sitting', 'low dose adderall', 'low end got', 'low feel like', 'low grade fever', 'low iq reason', 'low point life', 'low self esteem', 'low sex drive', 'low wage jobs', 'lower abdomen usually', 'lower arm prick', 'lower falling want', 'lower hip pain', 'lower market cap', 'lowest measured bed', 'lowest point life', 'lucid feel whats', 'lucidawake point overheated', 'lucky breath weapon', 'lump right admittedly', 'lump underneath skin', 'lupus redness experiencing', 'luxury car feel', 'lying hiding obvious', 'lying relic avoid', 'lying wait near', 'lying yeah relates', 'lymecycline heard phrase', 'lymph nodes neck', 'lymphoma know rare', 'lymphoma think lymphoma', 'machine prediabetes array', 'mad confronting quote', 'mad dont want', 'mad essentially especially', 'mad fact id', 'mad handle corrected', 'mad im mad', 'madre dusted damn', 'magandang araw sa', 'magic relic specifically', 'magnetic stimulation therapy', 'main floor laid', 'main reason like', 'main symptoms trouble', 'mainly arms like', 'mainly cat brothers', 'maintaining healthy balance', 'major bad guys', 'major corporation bank', 'major depressive disorder', 'major mood swings', 'majority cbd balcony', 'majorly life hell', 'make better person', 'make big deal', 'make big difference', 'make clear dragon', 'make coming harder', 'make dating life', 'make doctors appointment', 'make ends meet', 'make eye contact', 'make feel bad', 'make feel better', 'make feel comfortable', 'make feel good', 'make feel grounded', 'make feel happy', 'make feel like', 'make feel lonely', 'make feel loved', 'make feel worse', 'make friends im', 'make friends people', 'make friends school', 'make hallucinate feel', 'make interesting alternative', 'make life better', 'make long year', 'make look bad', 'make look better', 'make look like', 'make lot money', 'make make sense', 'make money im', 'make money pay', 'make mother sad', 'make new friends', 'make people feel', 'make people laugh', 'make phone calls', 'make players harder', 'make premeditated way', 'make really hard', 'make right choice', 'make room dirty', 'make secondly band', 'make sense feel', 'make sense going', 'make sense got', 'make sense id', 'make sense im', 'make sense sorry', 'make sense want', 'make situation better', 'make super super', 'make sure actually', 'make sure comfortable', 'make sure didnt', 'make sure doesnt', 'make sure dont', 'make sure got', 'make sure im', 'make sure know', 'make sure make', 'make sure right', 'make things better', 'make things work', 'make things worse', 'make think adhd', 'make types memories', 'make weed butter', 'make youtube videos', 'makes anxious self', 'makes big difference', 'makes depression worse', 'makes feel anxious', 'makes feel bad', 'makes feel better', 'makes feel depressed', 'makes feel good', 'makes feel guilty', 'makes feel like', 'makes feel really', 'makes feel shitty', 'makes feel sick', 'makes feel stupid', 'makes feel uncomfortable', 'makes feel way', 'makes feel weird', 'makes feel worse', 'makes look like', 'makes panic amber', 'makes people feel', 'makes race makes', 'makes really hard', 'makes really sad', 'makes sad thought', 'makes second guess', 'makes sense anymore', 'makes sense dont', 'makes sense feel', 'makes sense feels', 'makes sense guess', 'makes sense ive', 'makes sense like', 'makes sound like', 'makes super uncomfortable', 'makes things worse', 'makes think im', 'makes want die', 'makes want throw', 'makes wonder bad', 'makes zero sense', 'makeup fit girls', 'makeup year felt', 'making big deal', 'making excuses disrespectful', 'making feel bad', 'making feel better', 'making feel like', 'making feel way', 'making feel worse', 'making fool actually', 'making friends switch', 'making hair fall', 'making hasty decision', 'making life difficult', 'making look like', 'making new friends', 'making slow progress', 'making things worse', 'making way worse', 'male causes lot', 'male ft lbs', 'male height weight', 'male pattern baldness', 'male tall lbs', 'male working sales', 'male years old', 'man breath probablly', 'man dont want', 'man look exactly', 'man maybe terrified', 'man obviously label', 'man realised man', 'man want transition', 'managed parents use', 'manager actually looked', 'mangling hands rock', 'manifested created increasingly', 'manner mistaken dude', 'manual living life', 'manually make sure', 'march start college', 'margins usually small', 'marijana card ready', 'market cap coins', 'market gold high', 'market hoping hold', 'market years continuous', 'marks feet ankle', 'marriage altogether helpless', 'marriage escape altogether', 'marriage hope advice', 'marriage know survive', 'marriageand moved let', 'married arranged marriageand', 'married conservative family', 'marvel star wars', 'masc mistaken boy', 'masculine manner mistaken', 'masking definitely stim', 'masking years masking', 'master electrician exam', 'masters maintaining healthy', 'matter hard tried', 'matter hard try', 'matter high risk', 'matter mom say', 'matter simple really', 'matter situation good', 'matter time till', 'matter unless crazy', 'mature wayyou know', 'max mb evga', 'max replaced free', 'maybe allergic reaction', 'maybe confidence issue', 'maybe cuz mu', 'maybe dont adhd', 'maybe dont know', 'maybe dont need', 'maybe dont want', 'maybe food eating', 'maybe food intolerance', 'maybe half hour', 'maybe handful time', 'maybe histamine intolerance', 'maybe im crazy', 'maybe im getting', 'maybe im good', 'maybe im overthinking', 'maybe im wrong', 'maybe open mouth', 'maybe surgery debating', 'maybe surgery make', 'maybe terrified come', 'maybe thats maybe', 'maybe theres wrong', 'maybe theyre right', 'maybe trying hard', 'maybe twice week', 'maybe twice year', 'maybe weeks ago', 'maybe years ago', 'maybe years old', 'mb evga powersupply', 'mean dont know', 'mean feel like', 'mean gonna admit', 'mean im gonna', 'mean make long', 'mean people date', 'mean sound like', 'mean trying hardest', 'meaning autism adhd', 'meaning dont know', 'meaning hard understand', 'measured bed shopping', 'measuring super carefully', 'media fact friends', 'media use social', 'medical consequences thinking', 'medical marijana card', 'medically surgically maybe', 'medication dream military', 'medication mental health', 'medication refused knew', 'medication therapy helped', 'medications spiraling need', 'medications time choose', 'medicine super traumatic', 'meditate trips want', 'meditating friend chilling', 'meditation taking cold', 'meditation working killing', 'meds like join', 'meds working right', 'meet nerdy stuff', 'meet new people', 'meet person currently', 'meeting new people', 'meets eye idea', 'melanoma rare form', 'members frustrating cause', 'memorizing verses pray', 'memory really struggle', 'men said agreed', 'men want transition', 'mental health attack', 'mental health better', 'mental health day', 'mental health disorders', 'mental health feel', 'mental health help', 'mental health im', 'mental health issues', 'mental health ive', 'mental health like', 'mental health problems', 'mental health professionals', 'mental health really', 'mental health reasons', 'mental health related', 'mental health seriously', 'mental health struggles', 'mental health think', 'mental health troubles', 'mental health want', 'mental health wise', 'mental health worse', 'mental illnesses prozac', 'mental physical health', 'mental state time', 'mental torture bring', 'mentality handle narrative', 'mentally depressing point', 'mentally im kinda', 'mentally physically point', 'mentally suffering relationship', 'mentally wrong years', 'mentalphysicalsocial health university', 'mention extended family', 'mention extent necessity', 'mention feel like', 'mention try going', 'mere facade life', 'mess dont know', 'mess lot tends', 'message gonna say', 'message groupchat friends', 'message screaming threatening', 'message whatsapp apparently', 'messages days later', 'messed think age', 'met best friend', 'met end claws', 'met friend online', 'met guy took', 'metf tts like', 'mgm melanoma fibroids', 'mhz corsair ram', 'mhz rtx msi', 'mi madre dusted', 'mid sentence havent', 'midcheek bigger size', 'middle school high', 'midnight effect feel', 'midwestern respective state', 'mil calls asshole', 'mil constantly puts', 'mil husband mil', 'miles needs new', 'military allowing people', 'military happened time', 'military join pararescue', 'military rules military', 'military struggling years', 'millie ache emptiness', 'millie cried died', 'millie death happened', 'millie soon resent', 'millie time properly', 'millie weeks ago', 'million miles hour', 'millionaire dont want', 'min ot wfh', 'mind body im', 'mind chaos suggestions', 'mind descent darkness', 'mind feel like', 'mind feel way', 'mind feels like', 'mind immediately goes', 'mind playing tricks', 'mind saw looking', 'mind sitting house', 'mind slow ended', 'mind tells wrong', 'mind think ive', 'mind time happened', 'mind went blank', 'minded began question', 'mindset drifted away', 'mini like wave', 'minimum day cancels', 'minor salivary gland', 'minutes feel like', 'minutes im panicking', 'minutes minimum day', 'minutes trying figure', 'mirror absolutely shook', 'mirror feel like', 'mirror saw welts', 'mirror shower think', 'misbehave child shes', 'miserable peopleto chat', 'miss ive fucked', 'missed feel like', 'missed spot table', 'missed youth heath', 'missed youthful fun', 'missing youth saw', 'mistake doubt doesnt', 'mistake life focused', 'mistake make premeditated', 'mistaken boy girl', 'mistaken dude quite', 'mistakes like really', 'misusing acid thanks', 'mixed allowed work', 'mixed fact short', 'mo ago history', 'mob heads multiplayer', 'mobilize population nationwide', 'moclobemide aurorix heard', 'moclobemide fluvoxamine quit', 'moclobemide following dose', 'moclobemide midnight effect', 'moclobemide replace wellbutrin', 'moclobemide worried heard', 'mode harmonic minor', 'moderately bled days', 'moderately days thankfully', 'modules year years', 'mom anxious person', 'mom came home', 'mom like recently', 'mom needs hold', 'mom say wouldnt', 'mom saying lost', 'mom split days', 'mom visiting start', 'moment accompanied overwhelmingly', 'moment afraid forget', 'moment im sure', 'moment kid people', 'moment mixed fact', 'moment times normal', 'moment worked year', 'moms new number', 'money able live', 'money ensure good', 'money feels good', 'money pull stock', 'money time misusing', 'monotone robotic voices', 'month ago cleaning', 'month ago got', 'month ago met', 'month ago pressing', 'month ago went', 'month brown spotted', 'month feel like', 'month half ago', 'month health anxiety', 'month new role', 'month old motherboard', 'month originally work', 'month overdue tend', 'month poor finance', 'month said alright', 'month time talked', 'months able swallow', 'months ago dont', 'months ago got', 'months ago happened', 'months ago im', 'months ago ive', 'months ago like', 'months ago think', 'months ago took', 'months ago went', 'months ago wfh', 'months believe happened', 'months centered heart', 'months days ago', 'months dont know', 'months feel like', 'months ive eating', 'months ive losing', 'months later ive', 'months later texting', 'months look work', 'months lose ive', 'months mind descent', 'months really felt', 'months relationship told', 'months taking kind', 'months weighed yesterday', 'mood dont understand', 'mood forcing faking', 'mood time im', 'moral code grew', 'moral convictions dreams', 'morning collapsed let', 'morning feel like', 'morning flapped arms', 'morning regretting ive', 'morning sleeping thought', 'morning today itching', 'mortals asunder begone', 'mortals wanted run', 'mosquito bites counted', 'mother father brother', 'mother sad daughter', 'mother tried change', 'mother uterine fibroids', 'mother want tell', 'motherboard amazon wasnt', 'motherboard replaced literally', 'motherly person shes', 'mothers hard explain', 'motivated task making', 'motivation left life', 'motivation left wake', 'motivation try save', 'motivation willpower try', 'motivation worse years', 'motives aggressive propagandizing', 'mountain believe true', 'mountain heros greatest', 'mountainside ambush takes', 'mouth boom thats', 'mouth feel fingers', 'mouth laughed thought', 'mouth left normal', 'mouth remember went', 'moveable bit tender', 'moved boyfriend smoking', 'moved let say', 'moved new apartment', 'moved new city', 'movements severe appetite', 'movie short attention', 'movies tv shows', 'moving days want', 'moving im wondering', 'moving physically impossible', 'mpg edge max', 'msi mpg edge', 'mu friends tease', 'multiplayer sleep player', 'multiple classmates chronical', 'multiple colleges classes', 'multiple times day', 'multiple times life', 'multiple times row', 'mum gotten really', 'mum great bond', 'mum runs pet', 'mum said believe', 'mum truly accept', 'mum try seen', 'mum use old', 'muscle glycogen phosphorylase', 'musclejoint pain fatiguelow', 'mushrooms heart attack', 'music eyes closed', 'music hours like', 'music long like', 'music meditate trips', 'music playing video', 'music sudden heard', 'music theory books', 'music theory help', 'music theory limited', 'music theory really', 'music theory tonal', 'music weed living', 'mute usually lasts', 'muted focus whats', 'mystic chord voicing', 'nails word woman', 'naked juice ramen', 'nan french opinionated', 'nan know non', 'nan react nan', 'narcolepsy mental illnesses', 'narrative aside especially', 'narrative firstly dragon', 'nathan drake collection', 'nationalities ages server', 'nationwide aggressively patriotic', 'native english speaker', 'nauseous sweaty time', 'navy seal lol', 'near mountain believe', 'near mountainside ambush', 'nearly turn world', 'nearly years old', 'necessarily want stop', 'necessary beneficial discussion', 'necessity lot money', 'neck begin ache', 'neck continue ache', 'necks bad intrusive', 'need advice internet', 'need advice month', 'need advice non', 'need advice post', 'need advise want', 'need bit work', 'need breathe know', 'need defend explain', 'need degree years', 'need dont know', 'need feel like', 'need hear im', 'need help advice', 'need help downloading', 'need help getting', 'need help im', 'need help like', 'need help woke', 'need know best', 'need know worth', 'need lose weight', 'need make money', 'need make sure', 'need opinions getting', 'need really good', 'need respond ok', 'need talk therapist', 'need testing xanax', 'needed extended time', 'needed hole disrespecting', 'needed long history', 'needed throw alot', 'needed vent bit', 'needs little time', 'needs new repair', 'nefarious purposes wealthy', 'negative dont want', 'negative mindset drifted', 'negative self talk', 'negatively effected lot', 'negatively effecting life', 'neighbour hes nice', 'nerd likes marvel', 'nerdy stuff going', 'nerve ending grating', 'nerves acting consequence', 'nervous feel like', 'nervous start guess', 'nervous thank advance', 'neurodiversity meaning autism', 'neurologist check things', 'neurotypical person expectations', 'new appeared finally', 'new bodily symptoms', 'new cats feel', 'new construction houses', 'new country know', 'new different contacts', 'new gta game', 'new issues days', 'new job got', 'new job im', 'new job month', 'new job months', 'new number got', 'new people feel', 'new pet soon', 'new products eaten', 'new psychedelic world', 'new repair atleast', 'new saints row', 'new semester starts', 'new shameful sobbing', 'new year friends', 'newly wed honestly', 'nice car like', 'nice family things', 'nice feel like', 'nice gen xbox', 'nice guy friendly', 'nice know social', 'nice maybe cuz', 'nice motherly person', 'niche electrical industry', 'night avoid sleeping', 'night convulsing bed', 'night didnt curse', 'night feeling long', 'night feeling really', 'night friend bedroom', 'night know awful', 'night spoken confused', 'night sweats seen', 'nights ago work', 'nights games dork', 'noise canceling headphones', 'non binary idea', 'non binary legally', 'non binary like', 'non binary mum', 'non binary particularly', 'non binary realising', 'non binary recently', 'non binary yeah', 'nonbinary dont want', 'nonbinary lesbian feel', 'nonstop breathing make', 'noon lay bed', 'nope confront remorseful', 'normal adults im', 'normal age im', 'normal days guess', 'normal degree little', 'normal dont know', 'normal feel like', 'normal feel way', 'normal filtering going', 'normal function mind', 'normal heart fluctuate', 'normal life thats', 'normal live laws', 'normal month health', 'normal normal anxiety', 'normal people feel', 'normal people need', 'normal person disfunctional', 'normal person know', 'normal range creactive', 'normal regular straights', 'normal social life', 'normal sorry makes', 'normal thats rare', 'normal thing people', 'normal vaguely feel', 'normal year old', 'north dont want', 'notes stress feel', 'notice comments recently', 'notice legs changed', 'notice shower tired', 'noticeable marks feet', 'noticed difference immediately', 'noticed hard touch', 'noticed month ago', 'noticed solid red', 'npcs local town', 'nukes dropped literally', 'numb start developing', 'number fun casual', 'number got new', 'nuts thinking cancer', 'obesity issue right', 'objectively speaking live', 'obsessions health earlier', 'obvious disability know', 'obviously label change', 'obviously said sad', 'obviously understand happens', 'occasional night sweats', 'occur used glycolysis', 'ocd adhd add', 'ocd depression issues', 'ocd ed disorder', 'ocd flared majorly', 'ocd intrusive thoughts', 'ocd sit room', 'ocd thoughts main', 'october couple noticeable', 'odd english obviously', 'odd feeling times', 'odd thing like', 'ofc dont positive', 'offer characters chance', 'office id felt', 'office week said', 'officially diagnosed generalized', 'ok course struggled', 'ok given way', 'okay believe universe', 'okay gf really', 'okay little weird', 'okay vocal taboo', 'old chances young', 'old college student', 'old dragon mountain', 'old dragon party', 'old feel like', 'old feel objectively', 'old female caucasian', 'old hold im', 'old job think', 'old motherboard amazon', 'old psu thought', 'old white male', 'old year old', 'older absolutely social', 'older scientifically minded', 'ones start grade', 'online classes cheating', 'online completely tied', 'online dating hit', 'online dating meeting', 'online dating platforms', 'online little know', 'open idea actually', 'open minded person', 'open mouth remember', 'open world game', 'open world games', 'opened mouth laughed', 'opinionated okay gf', 'opinions getting shit', 'opinions think feel', 'opportunity interesting debate', 'opposite directions basic', 'opposite effect people', 'opposite extended family', 'opposite gone stages', 'opposite guy wanted', 'oprah hit like', 'optical drive good', 'optimism finds way', 'option feel like', 'option right discouraged', 'orcs lying wait', 'order love dad', 'order rambling dont', 'order stuff chair', 'ordered chewelry stop', 'ordered colonoscopy colonoscopy', 'ordinary photo ref', 'organize fundraising campaign', 'original issue leading', 'originally came bisexual', 'originally work ot', 'ot skip days', 'ot wfh days', 'outcast driving ancient', 'outlet hands arms', 'outside body like', 'outside feel like', 'outside flat inside', 'outside inside mouth', 'overall feel like', 'overall impact career', 'overall make clear', 'overanalysing walk group', 'overcame panic attacks', 'overcome similar phase', 'overdone time guess', 'overdue tend lot', 'overheated dripping sweat', 'overreact im talking', 'overreact said mistakes', 'overstepping want creep', 'overthink little thing', 'overthinking kicked sent', 'overthinking overthinking kicked', 'overthinking want relax', 'overtime work extra', 'overwhelm tell need', 'overwhelmed classes im', 'overwhelming focus overwhelming', 'overwhelming hit wall', 'overwhelming horrible relief', 'overwhelming sitting dark', 'overwhelming watching tv', 'overwhelmingly bad want', 'overwhelmingly horrible feeling', 'owner company fakenatty', 'page interview oprah', 'paid attention theyve', 'paid minimum wage', 'pain chest pain', 'pain dont want', 'pain fatiguelow energy', 'pain feel like', 'pain feels like', 'pain loss balance', 'pain lower hip', 'pain mess lot', 'pain mind tells', 'pain miss ive', 'pain musclejoint pain', 'pain pelvic pain', 'pain rib pain', 'pain scoliosis ptsd', 'pain severe bloating', 'pain shoulder pain', 'pain stomach issues', 'pain want able', 'painful hell filled', 'painful hurts attention', 'painful reminders constant', 'painful reminders loneliness', 'painful uncomfortable er', 'painful uncomfortable lucidawake', 'painful wasting youth', 'pains discomforts world', 'paint creative barely', 'painting nails word', 'pair bose quietcomfort', 'palpitations feels like', 'palpitations increased sweating', 'pandas seizures ocd', 'panic amber alerts', 'panic ask said', 'panic attack earlier', 'panic attack feel', 'panic attack felt', 'panic attack im', 'panic attack scared', 'panic attack time', 'panic attack trying', 'panic attack years', 'panic attack yesterday', 'panic attacks bad', 'panic attacks day', 'panic attacks dissociationdepersonalization', 'panic attacks feel', 'panic attacks know', 'panic attacks like', 'panic attacks literally', 'panic attacks pull', 'panic attacks shortness', 'panic attacks started', 'panic attacks thoughts', 'panic disorder started', 'panic ecg start', 'panicking byt im', 'panicking lasts calm', 'panics anxiety started', 'panoramic xray showing', 'pap going come', 'pap smear pap', 'paper book neck', 'papsmear tomorrow results', 'paramedic program started', 'paranoid low iq', 'paranoid special class', 'paranoid thats thing', 'pararescue held dream', 'parent life experiences', 'parenting finest crazy', 'parents especially mom', 'parents feel like', 'parents im scared', 'parents thinks bad', 'parents use child', 'parents wanting rescue', 'parking lot school', 'parotid gland minor', 'partaken fair share', 'particularly misbehave child', 'particularly want tell', 'parties going goofing', 'partner complains hogging', 'partner didnt bites', 'partner looks like', 'parts male ft', 'partum pre eclampsia', 'party additional things', 'party decide speak', 'party end attack', 'party make types', 'party right point', 'party weakened state', 'pass moment fucking', 'passed away years', 'passed state master', 'passed talking dad', 'passes feeling inside', 'passing everyday lately', 'passion think good', 'passive life verbally', 'past couple days', 'past couple months', 'past couple weeks', 'past couple years', 'past dark time', 'past days ive', 'past dont know', 'past makes sad', 'past months able', 'past months centered', 'past months frequent', 'past months im', 'past months ive', 'past months today', 'past precancerous cells', 'past recognise know', 'past til thats', 'past week eat', 'past week ive', 'past weeks ive', 'past went highschool', 'past year ive', 'past years began', 'past years ive', 'past years life', 'past years really', 'pathetic incompetent people', 'patience moving physically', 'patriotic propaganda gasp', 'patriotism left propelled', 'paused seconds know', 'pay credit card', 'pay game technically', 'pay live near', 'pay lot attention', 'pay phone tech', 'pay pretty bad', 'pay pretty similar', 'pay rent live', 'pay rn im', 'payed dropped home', 'paying attention things', 'paying student loans', 'pays car insurence', 'pc shutdown turn', 'pcos children family', 'pcos herniated discs', 'peace barking essentially', 'peak greatest hero', 'pelvic pain lower', 'people actually know', 'people actually want', 'people age conquering', 'people age maybe', 'people ask questions', 'people complete opposite', 'people date quite', 'people day friends', 'people disagree strategy', 'people dont care', 'people dont feel', 'people dont know', 'people dont like', 'people dont make', 'people dont need', 'people dont really', 'people dont understand', 'people dont wanna', 'people dont want', 'people experience dealing', 'people faking lying', 'people feel bad', 'people feel better', 'people feel comfortable', 'people feel free', 'people feel good', 'people feel like', 'people feel need', 'people friends somewhat', 'people gonna fall', 'people got ventilator', 'people hard time', 'people high school', 'people identity crises', 'people im nervous', 'people im really', 'people im worried', 'people ive met', 'people know like', 'people know people', 'people know talk', 'people know think', 'people life know', 'people like better', 'people like come', 'people like family', 'people like im', 'people like like', 'people like make', 'people like people', 'people likely appalled', 'people look weird', 'people lot jokes', 'people make friends', 'people makes feel', 'people meds like', 'people mental illness', 'people need advice', 'people need help', 'people ready know', 'people really like', 'people really understand', 'people really want', 'people say like', 'people say things', 'people say time', 'people saying need', 'people speak rest', 'people stomach issues', 'people struggle depression', 'people talk like', 'people talking school', 'people telling im', 'people think dont', 'people think faking', 'people think im', 'people think know', 'people think thirties', 'people told monotone', 'people told purposely', 'people treat like', 'people try understand', 'people use word', 'people used think', 'people worse feel', 'peopleto chat work', 'perfectly brain like', 'perfectly good food', 'period month brown', 'period normal month', 'period severe depression', 'period ups downs', 'person currently busy', 'person disfunctional long', 'person dont know', 'person dont want', 'person emotional fast', 'person expectations help', 'person family brothers', 'person feel like', 'person fuck son', 'person fucked bad', 'person got restraining', 'person like im', 'person love friendship', 'person person want', 'person pretend covid', 'person related old', 'person saw pretty', 'person shes verbally', 'person things help', 'person thinks anymore', 'person want let', 'person wish people', 'personalities like im', 'personality change im', 'personality disorder therapy', 'personality maybe trying', 'personality opposite guy', 'personally feel like', 'personally struggle dysphoria', 'pessimistic future dont', 'pet boarding business', 'pet soon died', 'pet trying forget', 'pfizer booster days', 'pgf colon cancer', 'pgm breast cancer', 'phase saying society', 'phased death rescue', 'phobias aspergers autism', 'phone im position', 'phone im sure', 'phone tech company', 'phone tech service', 'photos kid dressed', 'photos past recognise', 'phrase neurodiversity meaning', 'physical mental health', 'physical symptoms like', 'physical symptoms panic', 'physical withdrawal symptoms', 'physically abusive person', 'physically impossible sit', 'physically point hours', 'physically sick afternoon', 'physicalsexual assault id', 'physiologically assault went', 'picked home payed', 'pictures things know', 'piece shit deserves', 'pill fluvoxamine mention', 'pinned post saying', 'pissed upset thing', 'pity party right', 'place bloodied weary', 'place community looking', 'place dont want', 'place feels like', 'place mentally depressing', 'place order stuff', 'place post let', 'place said okay', 'place started twice', 'place worried mean', 'places high energy', 'plan know agrees', 'plan use moms', 'planet dont feel', 'plans feel like', 'plans meet person', 'plans think despise', 'plant end season', 'platinum powersupply changed', 'platinum powersupply replaced', 'play cards right', 'play dog life', 'play game like', 'play maybe thats', 'play red dead', 'play video game', 'play video games', 'played sports players', 'played years issues', 'player head drops', 'players believe dragon', 'players currently wide', 'players harder time', 'players team dream', 'playing games suddenly', 'playing victim ive', 'playing video games', 'plot dragon actually', 'plot hook easily', 'plot hook look', 'plot hook taken', 'plus iron deficiency', 'plus platinum powersupply', 'podcast make youtube', 'point antidiagnosinganythingmental dad', 'point dont know', 'point eat doctor', 'point energy levels', 'point feel like', 'point feels terriblei', 'point getting better', 'point grown frail', 'point hours edible', 'point im concerned', 'point im exhausted', 'point im going', 'point im sure', 'point im trying', 'point ive stopped', 'point life finally', 'point mini like', 'point overheated dripping', 'point right direction', 'point stand anymore', 'point struggling depression', 'point tired feeling', 'point tried fix', 'point trying life', 'point usually end', 'point want end', 'point wanted military', 'point weak fine', 'points ive gotten', 'poisoned backyard mushrooms', 'political ideals true', 'poly good impression', 'poly life style', 'polyp hiatal hernia', 'poop came suggestions', 'poop hard kinda', 'poop like stools', 'poop stool hard', 'poor attention span', 'poor finance fancier', 'poor mental health', 'popcorn easy boring', 'population nationwide aggressively', 'por otro lado', 'porcelain talk barely', 'ports general arent', 'position fact like', 'position feel like', 'position pay rn', 'positive ana test', 'positive place community', 'positive reaction confront', 'possess relic characters', 'possessed shit truly', 'possibility start fundraising', 'possible change doomed', 'possible conversion disorder', 'possible fail drug', 'possible funding gofundme', 'possible tremors hand', 'possibly prove worthy', 'post ahead hoping', 'post credit scene', 'post feels like', 'post let know', 'post nasal drip', 'post partum pre', 'post saying want', 'post subreddits seeing', 'posted days ago', 'postmatesuber eats didnt', 'posts social media', 'pot daily drink', 'potassium marked low', 'potential bad able', 'potential feel like', 'potential girl come', 'potential like highschool', 'potentially deal damage', 'pound message gonna', 'pov know lesbian', 'power cash rewards', 'power error idea', 'power kept hands', 'power rested clutches', 'powerful sense actually', 'powersupply gb corsair', 'powersupply replaced new', 'powersupply replaced year', 'practically rubbed face', 'praise test scores', 'pray excellent resource', 'prayer life writing', 'praying scripture interested', 'precancerous cells cervical', 'prediabetes array mental', 'predominately right issue', 'preferred screen size', 'premeditated way disobedient', 'premenstrual dysphoric disorder', 'premise remains premise', 'premise versions folktale', 'prescribed antidepressants adderall', 'prescribed steroid cream', 'prescribing really struggling', 'present lactate levels', 'press power button', 'pressing cheeks bit', 'pressure chest calm', 'pressure chills year', 'pressure instantly ramped', 'pressure pay pretty', 'pressure wear responsibility', 'pretend covid bad', 'pretends like im', 'pretty attractive girls', 'pretty bad anxiety', 'pretty bad feel', 'pretty began texting', 'pretty cool friends', 'pretty far away', 'pretty good time', 'pretty grade thought', 'pretty hard labels', 'pretty hard taken', 'pretty life ive', 'pretty mainly cat', 'pretty quick ive', 'pretty similar bonuses', 'pretty slipping used', 'pretty straight forward', 'pretty sure adhd', 'pretty sure blood', 'pretty sure got', 'pretty sure im', 'pretty sure people', 'previously identified lesbian', 'previously wanted felt', 'prices insane way', 'prick feeling feet', 'prime socially amazing', 'prior left got', 'private medical information', 'probablly sounded weird', 'probably lonely weve', 'probably virus inner', 'probably wont able', 'problem bathroom threatened', 'problem communicating people', 'problem feel like', 'problem know work', 'problem related years', 'problema es que', 'problems comes overanalysing', 'proceed possible funding', 'process pretty mainly', 'process validating wallet', 'processor cpu cooler', 'production said alive', 'products eaten different', 'professionally diagnosed cptsd', 'professionals told depressive', 'profile perfectly brain', 'profile saw pinned', 'program lowest point', 'program started panic', 'programsgames desire run', 'promotion pay rise', 'pronouncing word different', 'pronouns automatically correct', 'pronouns believe harder', 'pronouns deal transphobia', 'pronouns idk nan', 'propaganda gasp patriotism', 'propagandizing attack soil', 'propelled punch stomach', 'properly grieving pet', 'protected sensed power', 'protein low end', 'proudly dragon offer', 'prove worthy possess', 'provide financial support', 'providing safe positive', 'proving worthy express', 'prozac klonopin needed', 'pseudoscientific selfhelp like', 'psu thought issue', 'psychedelic world culture', 'psychiatrist assessment symptoms', 'psychically working read', 'ptsd sever depression', 'pull hold cash', 'pull poop hard', 'pull program lowest', 'pull stock market', 'pull trigger dont', 'pumps estrogel daily', 'punch stomach americans', 'punched hole door', 'purple especially winter', 'purpose life today', 'purpose post guess', 'purposely tried calling', 'purposes wealthy corrupt', 'purr anymore able', 'push comes shove', 'push couple days', 'push people away', 'pushed aside lived', 'pushover mom like', 'puts cultural pressure', 'putting phone away', 'putting situation dont', 'pyruvate dehydrogenase present', 'pyruvate used citric', 'quality feel like', 'quality touchscreen fingerprint', 'question im curious', 'question making fool', 'question nervous thank', 'question political ideals', 'question stood ground', 'questions appreciate provide', 'questions feel free', 'questions telling heard', 'questions think experience', 'quick ive life', 'quickly feel silly', 'quiet awkward point', 'quiet social anxiety', 'quit antidepressants place', 'quit cold turkey', 'quit taking antidepressants', 'quite bit better', 'quite dates ghosted', 'quite fast different', 'quite feminine looking', 'quite frankly immature', 'quite honest like', 'quite suddenly college', 'quitting stand self', 'quote playing victim', 'race makes panic', 'radio reach immediately', 'raids maximum distance', 'raised proudly dragon', 'ram booting tarkov', 'ram mhz corsair', 'ram rtx msi', 'ram thought ryzen', 'rambling dont care', 'ramped came mixed', 'ran bathroom looking', 'randomly happened hoping', 'randomly lose balance', 'randomly september wrong', 'randomly shutdown thought', 'randomly start shaking', 'range creactive protein', 'rant guess questions', 'ranting know fairly', 'rap hip hop', 'rare form lymphoma', 'rare like hold', 'rare started concern', 'rarely helped spoke', 'rash spreading bites', 'rashes rashes sort', 'rashes sort assumed', 'rashes started time', 'rate blood pressure', 'rate chart cut', 'rate fever ive', 'rate high im', 'raynaud hands feet', 'reach immediately got', 'reach point feeling', 'reach point feels', 'react ill way', 'react nan french', 'react new bodily', 'react non binary', 'reaction confront quite', 'reaction edible didnt', 'reaction havent tried', 'reactions floating rock', 'reactions foods definitely', 'read able overcome', 'read book like', 'read civil war', 'read far know', 'read feel bit', 'read long finish', 'read lot online', 'read people lot', 'read sounds like', 'reader optical drive', 'reading book called', 'ready discovered running', 'ready know want', 'ready say fuck', 'ready treat seeing', 'ready workload pressure', 'real feel like', 'real feels like', 'real life im', 'real life shit', 'real love life', 'real relation years', 'real time clock', 'realisation day dressed', 'realise ive zoned', 'realised forgotten millie', 'realised living room', 'realised man look', 'realising trans man', 'reality likely happen', 'realize lot things', 'really annoying think', 'really annoying times', 'really appreciate advice', 'really appreciate feedback', 'really appreciate help', 'really appreciate input', 'really appreciate thank', 'really appreciate thanks', 'really appreciate tips', 'really appreciated end', 'really bad anxiety', 'really bad communicating', 'really bad day', 'really bad deep', 'really bad depression', 'really bad feel', 'really bad health', 'really bad hear', 'really bad im', 'really bad like', 'really bad panic', 'really bad people', 'really bad person', 'really bad really', 'really bad right', 'really bad social', 'really big deal', 'really care bother', 'really challenging competitive', 'really confused heard', 'really confused kind', 'really connect like', 'really cool getting', 'really dark place', 'really debilitating feel', 'really depressed let', 'really doesnt help', 'really dont care', 'really dont know', 'really dont like', 'really dont think', 'really dont understand', 'really dont wanna', 'really dont want', 'really dumb question', 'really dysphoric lately', 'really end road', 'really excited ran', 'really feel like', 'really feel need', 'really feeling safe', 'really feels like', 'really felt like', 'really friends felt', 'really friends leave', 'really fucking sucks', 'really good friends', 'really good job', 'really good mood', 'really good poop', 'really good pronouns', 'really good time', 'really guilty asked', 'really hard care', 'really hard feels', 'really hard manually', 'really hard time', 'really hate feel', 'really helplesspowerless know', 'really kind goes', 'really know anymore', 'really know feel', 'really know help', 'really know hoping', 'really know id', 'really know im', 'really know say', 'really know sounds', 'really know start', 'really know talk', 'really know want', 'really like environment', 'really like idea', 'really like know', 'really like moment', 'really liked job', 'really living campus', 'really long time', 'really look like', 'really looked new', 'really looking forward', 'really make difference', 'really make sense', 'really makes feel', 'really need advice', 'really need advise', 'really need help', 'really need job', 'really need know', 'really need money', 'really need talk', 'really need tips', 'really nice motherly', 'really nonbinary dont', 'really overdone time', 'really overreact im', 'really painful hurts', 'really pissed upset', 'really poop like', 'really quiet social', 'really real like', 'really really appreciate', 'really really bad', 'really really feel', 'really really like', 'really really need', 'really really really', 'really really want', 'really sad thinking', 'really starting run', 'really strange symptoms', 'really stressful hold', 'really struggle motivated', 'really struggle restlessness', 'really struggling going', 'really think past', 'really thought going', 'really thought gonna', 'really thought issue', 'really tight like', 'really tiring like', 'really try remind', 'really understand going', 'really use advice', 'really use somebody', 'really wanna know', 'really want friends', 'really want help', 'really want hug', 'really want know', 'really want leave', 'really want live', 'really want make', 'really want play', 'really want relationship', 'really want risk', 'really want talk', 'really want understand', 'really want work', 'really wanted understand', 'really weird feeling', 'really weird like', 'really willpower dont', 'realm met end', 'reason absences adhere', 'reason avoiding online', 'reason dont understand', 'reason dont want', 'reason feel like', 'reason feel need', 'reason guess fear', 'reason happens store', 'reason im asking', 'reason im considering', 'reason like dead', 'reason maybe food', 'reason quit antidepressants', 'reason ranting know', 'reason special classes', 'reasonable really kind', 'receive pfizer booster', 'recent addition prayer', 'recent argument goes', 'recently built pc', 'recently christmas break', 'recently closed area', 'recently days ago', 'recently diagnosed adhd', 'recently diagnosed autism', 'recently diagnosed inattentive', 'recently got accepted', 'recently got blood', 'recently got new', 'recently ive feeling', 'recently lost reverse', 'recently makes anxious', 'recently makes wonder', 'recently married arranged', 'recently moved new', 'recently noticed solid', 'recently post subreddits', 'recently started getting', 'recently started new', 'recently started taking', 'recently started using', 'recently started working', 'recently takes mistake', 'recently used dr', 'recently watched elliot', 'recently wife got', 'recipes wish join', 'recognise know identify', 'recognised uk seen', 'recommend choices try', 'recommended start therapy', 'recommended various therapies', 'recommended want make', 'red dead online', 'red dead redemption', 'red purple especially', 'red rash spreading', 'red spots corneas', 'red spots eyes', 'red warm night', 'reddit ive thought', 'reddit recently makes', 'reddit similar hobbiesinterests', 'redness experiencing included', 'redness pressure chills', 'redness tongue slightly', 'refer girl constantly', 'reference despite fired', 'references scripture memorizing', 'refreshed ready workload', 'refuse believe dragon', 'refused knew medication', 'regarding bitcoin cash', 'regarding depression sudden', 'regardless intentions hitting', 'register come home', 'regret changing coming', 'regret marriage altogether', 'regret spent past', 'regretting ive donesaid', 'regular straights women', 'relate overwhelmed classes', 'relate understand hate', 'related old job', 'related years ive', 'relates let know', 'relation paused seconds', 'relation years look', 'relationship amazing woman', 'relationship collapses best', 'relationship day fact', 'relationship end understand', 'relationship felt like', 'relationship girl way', 'relationship lost cause', 'relationship normal social', 'relax guy maybe', 'released point weak', 'relevant medical issues', 'reliable build quality', 'reliant push couple', 'relic attack dragon', 'relic avoid fight', 'relic begged protected', 'relic characters linger', 'relic dragon distracted', 'relic dragon guards', 'relic fall worse', 'relic immense power', 'relic refuse believe', 'relic specifically dragon', 'relic warned nearly', 'relief feels good', 'relief neck continue', 'relieve body feels', 'religious dont struggle', 'remained blessed im', 'remains premise versions', 'remember autism spectrum', 'remember felt like', 'remember going circus', 'remember started consider', 'remember struggling paying', 'remember thought born', 'remember went living', 'remind self eternal', 'reminders constant loops', 'reminders loneliness come', 'remorseful got mad', 'removes opportunity interesting', 'repair atleast month', 'repeat months ordeal', 'repeated cycle everyday', 'replace far wanted', 'replace wellbutrin wake', 'replaced free amazon', 'replaced literally month', 'replaced new issues', 'replaced year old', 'reply messages days', 'requirements good keyboard', 'rescue cats strictly', 'rescue scared brothers', 'resent difficult situation', 'resource came benefits', 'respected person things', 'respecting house going', 'respond ok given', 'responded saying mental', 'responding texts kind', 'response followed advice', 'response issue couldve', 'response kind guess', 'response worry overstepping', 'responsibility work house', 'rest body banging', 'rest day feel', 'rest day like', 'rest life want', 'rest night convulsing', 'rest night spoken', 'rest time office', 'rested clutches beast', 'resting heart rate', 'restless leg syndrome', 'restlessness patience moving', 'restraining order love', 'result dont really', 'result happened notice', 'results bloodwork check', 'results life pretty', 'results think maybe', 'retail moment worked', 'retake lost best', 'return bed lifting', 'reverse ailments stemming', 'rhein feel like', 'rich person pretend', 'ridiculed pronouns deal', 'ridiculous dont really', 'right admittedly clean', 'right discouraged driving', 'right dont know', 'right dont want', 'right feel like', 'right feels like', 'right felt like', 'right im dealing', 'right im trying', 'right inside mouth', 'right issue recently', 'right ive read', 'right know im', 'right know long', 'right like wearing', 'right midcheek bigger', 'right moment afraid', 'right place post', 'right point struggling', 'right really appreciate', 'right really want', 'right sub tired', 'right talking secret', 'right think everybody', 'right think potential', 'right wrong say', 'rise deficiency muscle', 'rise lactate rise', 'rise levels leads', 'risk come companies', 'risk ridiculed pronouns', 'rn im right', 'road trips hikes', 'robotic voices sound', 'rock forth like', 'rock ive struggling', 'rock music watching', 'rock rock forth', 'rock space consciousness', 'role husband support', 'role promotion pay', 'role years companies', 'rollercoaster help ex', 'room close hear', 'room didnt know', 'room dirty help', 'room extremely soft', 'room listened music', 'room listening music', 'room nights ago', 'room people stomach', 'room thing heard', 'room waiting hall', 'room wanted try', 'roommates called ambulance', 'roommates came check', 'roommates fine went', 'roommates half immediately', 'rose tinted glasses', 'round prozac time', 'routine good apps', 'routines need opinions', 'rtx ftw ultra', 'rtx msi mpg', 'rubbed face day', 'rubs wrong way', 'rude dont know', 'ruled ibd got', 'ruled thyroid issues', 'rules im scared', 'rules military allowing', 'run away marriage', 'run default lore', 'run dont know', 'run things try', 'running away honestly', 'running following datapacksplugins', 'runs pet boarding', 'ryzen gb gb', 'ryzen gb mhz', 'ryzen rtx ftw', 'ryzen stability issues', 'sa sarili ko', 'sad daughter anymore', 'sad feel like', 'sad moment kid', 'sad situation right', 'sad thought years', 'sad used reference', 'sad went normal', 'safe like matter', 'safe positive place', 'safe stomach ache', 'safely im older', 'said agreed really', 'said alright used', 'said bad suddenly', 'said believe asked', 'said concentrate tasks', 'said cousin supposed', 'said didnt know', 'said didnt need', 'said didnt want', 'said discuss holiday', 'said dont know', 'said feel like', 'said felt like', 'said fuck covid', 'said got response', 'said heart normal', 'said lie actually', 'said life looking', 'said look mirror', 'said looks like', 'said love deeply', 'said mistakes like', 'said probably virus', 'said sad went', 'said stuff like', 'said trans women', 'said um cousin', 'said yes said', 'said yes told', 'said yes tried', 'saints row game', 'sales job pay', 'sales leader hours', 'salivary gland dont', 'sarcasm think tone', 'satisfied single antidepressant', 'satisfying bad mood', 'saturday seeing french', 'save dying dreams', 'savings account gold', 'saw looking really', 'saw lot therapist', 'saw pinned post', 'saw pretty cool', 'saw psychiatrist today', 'saw telepathy biggest', 'saw welts looked', 'say actually dont', 'say combination suggest', 'say come semi', 'say cool guy', 'say dont know', 'say dont want', 'say feel like', 'say friends says', 'say fuck try', 'say good morning', 'say goodbye left', 'say hi recent', 'say im going', 'say mind went', 'say nukes dropped', 'say pretty sure', 'say said got', 'say shit like', 'say stuff like', 'say things like', 'say usually labels', 'say want say', 'say wouldnt question', 'say wounds dragon', 'say wrong thing', 'say yeah im', 'saying feels like', 'saying generations tale', 'saying going sleep', 'saying lost lot', 'saying mental health', 'saying shit like', 'saying society insinuates', 'saying stuff like', 'saying things like', 'saying unfair able', 'saying want say', 'saying want talk', 'saying word come', 'says depression anxiety', 'says effects anxiety', 'says head raised', 'says need help', 'says relation paused', 'says things like', 'says way players', 'scales weathered countless', 'scan ruled thyroid', 'scared brothers dad', 'scared dipped weird', 'scared dont know', 'scared feel like', 'scared im going', 'scared im scared', 'scared job interview', 'scared shtless pap', 'scared trapeze people', 'scared want feel', 'scariest strangest thing', 'scattered time day', 'scenario thinking symptoms', 'schedules extra context', 'schizophrenia bpd huntingtons', 'school dated pretty', 'school dip im', 'school dont want', 'school feel like', 'school felt like', 'school good grades', 'school high school', 'school honduras like', 'school hours work', 'school lot dad', 'school people age', 'school time years', 'school tried makeup', 'school work im', 'school work people', 'school work return', 'scientifically minded began', 'scientist dont want', 'scoliosis ptsd sever', 'scores paranoid special', 'screamed held place', 'screaming heels started', 'screaming saying unfair', 'screaming threatening kick', 'screeching chalk blackboard', 'screen goes black', 'screen size indifferent', 'scriabins late era', 'scriabins mystic chord', 'scripture interested anyways', 'scripture memorizing verses', 'seal lol away', 'searched trying recommend', 'season used left', 'second ago thought', 'second guess literally', 'second round prozac', 'second version tale', 'second year community', 'secondly band adventurer', 'seconds invited coffee', 'seconds know say', 'seconds seriously dont', 'secret feel anxious', 'secret said love', 'secretary government office', 'sedatives bunch tests', 'seeing anxiety therapist', 'seeing curious clicked', 'seeing french nan', 'seen cis female', 'seen docs ruled', 'seen doctors month', 'seen ent told', 'seen gi tested', 'seen good thing', 'seen leo including', 'seen lot people', 'seen mere facade', 'seen people say', 'seen people saying', 'seen sick leave', 'seen signs bedbugs', 'seen villains townsfolk', 'sees life positives', 'seizures got worse', 'seizures ocd thoughts', 'self eternal mental', 'self harm feel', 'self hatred think', 'self question making', 'self reliant push', 'self starter job', 'self suicidal thoughts', 'self worth came', 'selfemployment looking thanks', 'selfhelp like read', 'selfish ask mum', 'selfish dont know', 'sell electrical equipment', 'semester masters maintaining', 'semester ocd flared', 'semester starts honestly', 'semester want home', 'semi conservative family', 'sending encouraging texts', 'senior high school', 'sensations feel like', 'sense actually elderly', 'sense feel like', 'sense feels like', 'sense guess unlabelled', 'sense humour tends', 'sense id consumed', 'sense powerful sense', 'sense shortness breath', 'sensed power kept', 'sensitive surroundings happens', 'sensitivity light sound', 'sensory issues really', 'sent audio message', 'sent message groupchat', 'sent message whatsapp', 'sent text days', 'sent time response', 'sentence havent paid', 'september wrong help', 'seriously dont know', 'seriously feel like', 'serotonin syndrome choice', 'serotonin syndrome searched', 'server canvas ready', 'server dedicated providing', 'set theory chord', 'set theory like', 'setting feels good', 'setting led greatly', 'setting wrong boundaries', 'sever depression diagnosed', 'severe appetite loss', 'severe bloating getting', 'severe depression anxiety', 'severe depression caused', 'severe health anxiety', 'severe panic attacks', 'severe panic disorder', 'severe social anxiety', 'severe sudden intense', 'sewed fidget toy', 'sexual stuff people', 'sexuality feelings fucking', 'shake optimism finds', 'shake terrible feeling', 'shakily whispering breath', 'shaking affects lower', 'shameful sobbing girl', 'share bunch symptoms', 'share edibles friend', 'share experience combination', 'sharing folks specifically', 'sharing therapy setting', 'shed gladly kick', 'shed try act', 'sheds like freight', 'sheher pronouns idk', 'shell child used', 'shells fast leaf', 'shes authoritarian dictating', 'shes like odd', 'shes really nice', 'shes really nonbinary', 'shes recommended start', 'shes verbally borderline', 'shes wrong wronged', 'shit didnt acting', 'shit dont know', 'shit especially feels', 'shit everyday challenge', 'shit feel like', 'shit got email', 'shit idk stick', 'shit things change', 'shit truly bizzare', 'shitty feeling tried', 'shocked new pet', 'shocks going body', 'shook came told', 'shopping stores think', 'shopping trip low', 'short attention span', 'short period time', 'short term memory', 'short worst social', 'shortness breath case', 'shortness breath like', 'shortness breath sensitivity', 'shot lump right', 'showed feel old', 'showed morning sleeping', 'shower think sad', 'shower tired stand', 'showers exercise journaling', 'showing issues impacted', 'shows playing games', 'shtless pap going', 'shulker shells fast', 'shut looked confused', 'shutdown thought motherboard', 'shutdown turn seconds', 'sibbcovhvknhfsibbcovhvknhf heart rate', 'sick afternoon today', 'sick days lately', 'sick feeling like', 'sick going pass', 'sick leave doctors', 'sick needed hole', 'sickening started job', 'sided af im', 'sign universe telling', 'signs bedbugs got', 'silence focused feel', 'silent treatment id', 'silly mum great', 'similar bonuses care', 'similar happened suggested', 'similar hobbiesinterests subreddits', 'similar phase life', 'simple appearing follicular', 'simple really struggle', 'simple things like', 'simply dont know', 'single antidepressant quitting', 'single day constant', 'single day im', 'single night avoid', 'single parent life', 'single player games', 'single social media', 'sit chill acts', 'sit class embarrassing', 'sit looking paper', 'sit moment mixed', 'sit room people', 'sitestetracubecomdnddndstatblockhtml used make', 'sitting car anxious', 'sitting dark focus', 'sitting feel like', 'sitting hours day', 'sitting house like', 'sitting living room', 'sitting room close', 'situation dont know', 'situation feel like', 'situation good bad', 'situation great feel', 'situation really know', 'situation right thing', 'situation usually like', 'situations favourite things', 'size flattened grape', 'size indifferent na', 'skills years ive', 'skin felt like', 'skin felt numb', 'skin like happening', 'skin redness pressure', 'skin redness skin', 'skin turning abnormal', 'skip days wfh', 'slain mortals wanted', 'slaughter party additional', 'sleep apnea use', 'sleep deprived obviously', 'sleep feel like', 'sleep hours day', 'sleep hours wake', 'sleep player head', 'sleep really want', 'sleep schedule like', 'sleeping hours night', 'sleeping thought maybe', 'sleeping wanna hear', 'slept able hear', 'slept woke happy', 'slightly elevated heart', 'slightly higher usually', 'slightly hurts pressure', 'slightly known ones', 'slightly stock market', 'slipping used theythem', 'slow ended dropping', 'slowly convulsing strong', 'small bump inside', 'small group people', 'small im trying', 'small things like', 'smash head wall', 'smear years past', 'smell things kinda', 'smoke pot daily', 'smoked life tuesday', 'smoker smoked life', 'smoking weed issue', 'smoking weed majority', 'smoothness chord changes', 'snap kinda lose', 'snapchat discord kik', 'snapchat horrible fallout', 'snarls baring enormous', 'sneezing runny nose', 'snoops conversationsinterferes bosses', 'soap drug test', 'soap thc like', 'soap think soap', 'sobbing girl snapchat', 'sober seven years', 'social anxiety anxiety', 'social anxiety feel', 'social anxiety im', 'social anxiety job', 'social anxiety know', 'social anxiety really', 'social anxiety world', 'social life lack', 'social life normal', 'social media fact', 'social media im', 'social media platforms', 'social media reddit', 'social media use', 'social medical consequences', 'social problems comes', 'social situations favourite', 'social skills im', 'socialize communicate confidently', 'socially amazing best', 'socially awkward person', 'socially feel like', 'society feel like', 'society insinuates really', 'society mention extent', 'sociopath best friend', 'soft panic attacks', 'soil mobilize population', 'solar installation company', 'solid red rash', 'solution im getting', 'somatic symptoms anxiety', 'somebody chat abused', 'somewhat harmful stim', 'somewhat new psychedelic', 'son superstitious id', 'songs stuck head', 'soon actually new', 'soon died looking', 'soon feel like', 'soon resent difficult', 'soon start talking', 'soothe emptiness pain', 'sorry bad english', 'sorry bad grammar', 'sorry doesnt make', 'sorry dont know', 'sorry dont want', 'sorry dumb question', 'sorry english im', 'sorry extremely order', 'sorry huge rant', 'sorry long lost', 'sorry long post', 'sorry long text', 'sorry make sense', 'sorry makes sense', 'sorry rant im', 'sorry really long', 'sorry sound like', 'sorry sounds like', 'sorry stupid question', 'sorry time posting', 'sorry wasting time', 'sort assumed stress', 'sort feel like', 'sort mental stimulation', 'sorta like passing', 'sound erratic dangerous', 'sound im constantly', 'sound like im', 'sound like love', 'sound odd english', 'sound stupid testing', 'sounded weird worst', 'sounds exactly like', 'sounds insane deleted', 'sounds kind like', 'sounds like im', 'sounds like lot', 'sounds like stupid', 'space consciousness exist', 'spacemetaverse come check', 'spacetoken thought sharing', 'span apps help', 'speak centuries ago', 'speak clearly wrong', 'speak rest night', 'speak tonal language', 'speaking live used', 'special class reason', 'special classes good', 'special know nice', 'special place heart', 'specific need guidebook', 'specific requirements good', 'specific strain batch', 'specifically dragon actually', 'specifically wants understand', 'specs ryzen gb', 'specs ryzen rtx', 'spectrum disorder im', 'spectrum result dont', 'spectrum voiced problem', 'speed fix im', 'spells fangs claws', 'spend free time', 'spend lot money', 'spend lot time', 'spend rest life', 'spend time family', 'spend time friends', 'spending time family', 'spent days day', 'spent entire day', 'spent hours today', 'spent lot time', 'spent minutes trying', 'spent past went', 'spent standing waiting', 'spent years life', 'spent years room', 'spice narrative firstly', 'spiraling need talk', 'spirit defeating environment', 'split days ago', 'spoke doctor today', 'spoke lift seconds', 'spoke struggles relationship', 'spoken confused kept', 'spoken outside flat', 'spoken parents wanting', 'spoken previously wanted', 'sports players team', 'spot register come', 'spot table think', 'spotify default music', 'spots eyes ears', 'spotted brown days', 'spotted days bled', 'spreading bites arms', 'squishysemifirm moveable bit', 'stability issues downclocked', 'stages life young', 'stairs dieting past', 'stairs morning collapsed', 'stand anymore loneliness', 'stand bending downwards', 'stand depression thats', 'stand self suicidal', 'stand talk going', 'stand things tune', 'standing long amounts', 'standing waiting drop', 'star wars anime', 'start acting like', 'start college going', 'start developing chillsshakes', 'start feel like', 'start feeling dizzy', 'start fundraising flipstarter', 'start grade paranoid', 'start guess im', 'start hrt asap', 'start june panics', 'start negatively effecting', 'start new job', 'start painful hell', 'start paying attention', 'start podcast make', 'start shaking affects', 'start taking laughing', 'start therapy im', 'start think long', 'start youtube channel', 'started banging ground', 'started bleeding weeping', 'started collapse extremely', 'started concern coworker', 'started consider depression', 'started crying saw', 'started days ago', 'started depressed think', 'started fall apart', 'started feel emotion', 'started feel like', 'started feeling incredibly', 'started feeling really', 'started feeling sick', 'started friendship things', 'started getting heart', 'started getting panic', 'started getting really', 'started getting weird', 'started going gym', 'started heart palpitations', 'started high school', 'started job months', 'started look turned', 'started make think', 'started medication week', 'started mo ago', 'started months ago', 'started new job', 'started panic attacks', 'started playing game', 'started postmatesuber eats', 'started reading books', 'started saying things', 'started school time', 'started seeing therapist', 'started taking antidepressants', 'started taking finasteride', 'started taking prozac', 'started taking toll', 'started talking working', 'started terrible stomach', 'started time friday', 'started triggered wisdom', 'started twice day', 'started vyvanse month', 'started years ago', 'starter job tried', 'starting feel like', 'starting loads tasks', 'starting look like', 'starting new job', 'starting run things', 'starts feel like', 'starts honestly dont', 'stat block defensive', 'state life death', 'state love elses', 'state master electrician', 'state time wish', 'stated regarding depression', 'stating matter high', 'stats wonky sitestetracubecomdnddndstatblockhtml', 'statues armored elytra', 'stay home mom', 'stay like minutes', 'stay room day', 'stayed hunched bathroom', 'staying friends house', 'staying strong relationship', 'steal relic attack', 'steal relic dragon', 'stemming obesity issue', 'step mom dad', 'stereotypical classic african', 'sternly told wasnt', 'steroid cream extremely', 'stick embrace toxicity', 'stilted dont necessarily', 'stim lot point', 'stim point ive', 'stimulant anxiety issues', 'stimulation therapy doctors', 'stock market gold', 'stock market hoping', 'stomach ache rashes', 'stomach aches rashes', 'stomach aches wasbt', 'stomach americans way', 'stomach issues mind', 'stomach issues really', 'stomach issues spent', 'stomach pain stomach', 'stomach swells im', 'stood ground instead', 'stool hard able', 'stools hard time', 'stop cold turkey', 'stop feel like', 'stop feeling like', 'stop gets really', 'stop killing dragon', 'stop mangling hands', 'stop moclobemide replace', 'stop paying attention', 'stop screaming saying', 'stop stand things', 'stop talking entirely', 'stop talking trying', 'stop texting happen', 'stop wasting time', 'stop way things', 'stopped couple days', 'stopped going gym', 'stopped hiding dads', 'stopped paying attention', 'stopped responding texts', 'store cash dollars', 'store going snap', 'store support department', 'stores feel bustling', 'stores think highs', 'story afab came', 'story like bronze', 'story short im', 'story short worst', 'straight afab person', 'straight feel right', 'straight girls genuinely', 'straight giving tired', 'straight lead technician', 'straights women prefer', 'strain batch weed', 'strangers id really', 'strangest thing happened', 'strat im basically', 'strategy assuming pull', 'strength say combination', 'stress coming single', 'stress dont feel', 'stress dress fairly', 'stress excessive work', 'stress feel im', 'stress feel like', 'stress guess brain', 'stress june july', 'stress stomach aches', 'stressful hold disinterested', 'stressing end dont', 'strict moral code', 'strictly indoors mum', 'strictly pop punk', 'strong academically prime', 'strong accent talk', 'strong anymore slightly', 'strong electric shocks', 'strong emotional response', 'strong relationship amazing', 'stronger finally voice', 'stronger stronger finally', 'struggle depression anxiety', 'struggle dysphoria really', 'struggle eye contact', 'struggle finish matter', 'struggle girls dude', 'struggle hold conversations', 'struggle keeping god', 'struggle lot lot', 'struggle mental health', 'struggle motivated task', 'struggle restlessness patience', 'struggled long remember', 'struggled mental health', 'struggled thought online', 'struggles fact diagnosed', 'struggles feel like', 'struggles rarely helped', 'struggles relationship collapses', 'struggling depression thing', 'struggling extremely bad', 'struggling going gi', 'struggling mental health', 'struggling paying attention', 'struggling pretty bad', 'struggling relate overwhelmed', 'struggling work stress', 'struggling years missed', 'stuck need breathe', 'stuck odd feeling', 'stuck toes electrical', 'stuck vicious cycle', 'student loan debt', 'student loan payments', 'students teachers praise', 'studies know flexibility', 'stuff chair going', 'stuff dont want', 'stuff feel like', 'stuff going sees', 'stuff im wondering', 'stuff like dont', 'stuff like really', 'stupid question nervous', 'stupid testing leo', 'style wanted explore', 'sub feel like', 'sub im looking', 'sub tired know', 'subject cheap pseudoscientific', 'subreddits result happened', 'subreddits seeing curious', 'subside uses weed', 'subsided felt refreshed', 'substance abuse issues', 'substance abuse problems', 'subtle sensations body', 'successful time try', 'suck especially comes', 'sucks cause getting', 'sucks feel like', 'suckssss thing look', 'sudden heard best', 'sudden intense pain', 'sudden limping stairs', 'sudden stopped responding', 'suddenly college im', 'suddenly heh heart', 'suddenly like responded', 'suffer depression anxiety', 'suffered highschool failed', 'suffering depressive episodes', 'suffering relationship day', 'suffering week thought', 'suffocated tbh feel', 'suggest dragon form', 'suggested physiologically assault', 'suggestions greatly appreciated', 'suggestions helpful share', 'suggestions need asap', 'suggestions process validating', 'suicidal thoughts increased', 'suicide felt like', 'suicided days went', 'suiiiicedde thoughts feel', 'sunday poop came', 'super adhd share', 'super carefully brownies', 'super concerning ends', 'super specific need', 'super super specific', 'super traumatic try', 'super young id', 'supernova plus platinum', 'superstitious feel like', 'superstitious id think', 'supplements work beak', 'supplies table games', 'support deaf school', 'support defend arguments', 'support department say', 'support department want', 'support feel comfortable', 'support instead passion', 'support wise feels', 'supportive non binary', 'supportive reasonable really', 'supposed feel like', 'supposed say mind', 'sure adhd going', 'sure approach boss', 'sure christmas break', 'sure dont sound', 'sure feel like', 'sure girl ghosted', 'sure going tldr', 'sure ill able', 'sure im looking', 'sure itch hives', 'sure makes sense', 'sure right place', 'sure theres credence', 'sure trans guy', 'sure whats going', 'surely disappearing randomly', 'surgery cause intense', 'surgery debating mean', 'surgery make coming', 'surgery weeks ago', 'surgically maybe surgery', 'surprise birthday party', 'surrounded happens im', 'surroundings happens reason', 'survive country know', 'survive guess want', 'survived highschool got', 'sustained years greatly', 'swallow food living', 'swear feel like', 'sweat dragged bathroom', 'sweating heart palpitations', 'sweating increased skin', 'sweating night sweats', 'sweats seen docs', 'sweaty time knew', 'swelled experienced symptoms', 'swells im uncomfortably', 'switch school lot', 'swollen lymph nodes', 'swollen need testing', 'symptoms abdominal pain', 'symptoms changes immediately', 'symptoms experiencing past', 'symptoms fear body', 'symptoms feel like', 'symptoms getting worse', 'symptoms going nuts', 'symptoms include baggy', 'symptoms infection dont', 'symptoms life approach', 'symptoms panic attacks', 'symptoms started diarrhea', 'symptoms started mo', 'symptoms think idk', 'symptoms time itched', 'symptoms trouble swallowing', 'symptoms went away', 'syndrome choice try', 'syndrome feel like', 'syndrome searched trying', 'table escalate things', 'table games spread', 'table mother tried', 'table room nights', 'table think problem', 'taboo topic trouble', 'tag husband imind', 'tail attacks havent', 'taken antihistamine doctor', 'taken like really', 'taken lot sick', 'taken opposite directions', 'takes edge horrible', 'takes long time', 'takes lot time', 'takes mistake make', 'takes thief waiting', 'taking antidepressants months', 'taking cold showers', 'taking feel like', 'taking finasteride march', 'taking finasteride started', 'taking form prescribed', 'taking kind market', 'taking laughing noticed', 'taking lymecycline heard', 'taking time read', 'tale following told', 'tale meets eye', 'talk barely roommates', 'talk best friend', 'talk defend want', 'talk dont want', 'talk feel like', 'talk feel suffocated', 'talk going theyre', 'talk guess like', 'talk idk sorry', 'talk metf tts', 'talk millie death', 'talk people im', 'talk quite fast', 'talk secret said', 'talk therapist like', 'talk victim mentality', 'talk wanna laugh', 'talked know really', 'talked mature wayyou', 'talked men said', 'talked people experience', 'talking brick wall', 'talking dad getting', 'talking definitly attracted', 'talking drugs alcohol', 'talking entirely visit', 'talking fear making', 'talking feel like', 'talking forgetting dust', 'talking let know', 'talking mothers hard', 'talking people especially', 'talking people like', 'talking people really', 'talking people speak', 'talking school tried', 'talking secret feel', 'talking seen doctors', 'talking tell friends', 'talking trying stereotypical', 'talking working gender', 'tanked life completely', 'tarkov ive played', 'task making life', 'tasks distracted literally', 'tasks struggle finish', 'taught easily angry', 'tbh feel like', 'teacher secondary school', 'teachers praise test', 'team dream navy', 'team feel like', 'tease butt end', 'tech company dumping', 'technically yall think', 'teenager got mad', 'teeth characters decide', 'teeth dont bother', 'telepathy biggest dreams', 'tell boundaries tells', 'tell close friends', 'tell dont want', 'tell feel like', 'tell friends confronted', 'tell gets better', 'tell going tell', 'tell good things', 'tell im annoying', 'tell mum said', 'tell need respond', 'tell people im', 'tell pros cons', 'tell really need', 'telling heard little', 'telling ill abnormal', 'telling knew said', 'telling truth make', 'tells mind feel', 'tells wrong wanna', 'telsa knowing able', 'tend lot congestion', 'tender outside inside', 'tender pain mess', 'tends aggravated hurt', 'tends come im', 'tends overreact said', 'tense body panic', 'term heard anhedonia', 'term memory really', 'terminated said lie', 'terms liked left', 'terrible feel like', 'terrible feeling inside', 'terrible feeling life', 'terrible room advancement', 'terrible stomach pain', 'terrible years lease', 'terriblei feeling usually', 'terrified come cause', 'terrified want soothe', 'test doctors agreed', 'test job friday', 'test looked good', 'test scores paranoid', 'test showed calprotectin', 'test using soap', 'test waiting results', 'tested celiacs chrohns', 'testing leo got', 'testing xanax helps', 'tests came clear', 'tests hormones normal', 'text days let', 'textbook description somatic', 'texting frequently day', 'texting happen follow', 'texting hours later', 'texts kind panic', 'texts pictures things', 'texts read feel', 'texts sent time', 'texts time leaving', 'thank advance edit', 'thank advance help', 'thank advance wish', 'thank calling dumping', 'thank calling isp', 'thank coming ted', 'thank god ofc', 'thank help advance', 'thank nice day', 'thank taking time', 'thankfully period normal', 'thanks advance answers', 'thanks advance edit', 'thanks advance feedback', 'thanks advance guys', 'thanks advance help', 'thanks advance hope', 'thanks advance ps', 'thanks advance sorry', 'thanks advance suggestions', 'thanks bunch advance', 'thanks help far', 'thanks read far', 'thanks taking time', 'thanks time help', 'thats backtalking making', 'thats brain works', 'thats feel disabled', 'thats good thing', 'thats hitting months', 'thats immediately start', 'thats ive repeated', 'thats local townsfolk', 'thats maybe confidence', 'thats nice know', 'thats rare like', 'thats thing want', 'thats try shit', 'thc cut months', 'thc like know', 'theater really like', 'theory help understand', 'theory tonal centric', 'therapies like ketamine', 'therapist hs ended', 'therapist like advice', 'therapist looking possible', 'therapist recommended want', 'therapists meditation taking', 'therapy antidepressant given', 'therapy doctors therapy', 'therapy im going', 'therapy semester want', 'therapy setting led', 'therapy years things', 'therapy years various', 'theres concerning normal', 'theres credence especially', 'theres good chance', 'theres high chance', 'theres lot details', 'theres lot things', 'theres really wrong', 'theres wrong im', 'theyd consider finding', 'theyre different games', 'theyre gone shit', 'theythem pronouns believe', 'theyve said concentrate', 'thief waiting jump', 'thing arguments like', 'thing believe experienced', 'thing came benign', 'thing case opposite', 'thing comes mind', 'thing dont feel', 'thing dont know', 'thing dont like', 'thing dont want', 'thing fall apart', 'thing feel absolutely', 'thing feel like', 'thing feels like', 'thing happen filtering', 'thing happened twice', 'thing heard knew', 'thing idk wanna', 'thing ive heard', 'thing ive tried', 'thing like supportive', 'thing locker approach', 'thing long gone', 'thing look mirror', 'thing margins usually', 'thing people like', 'thing really know', 'thing stressing end', 'thing talking seen', 'thing think wake', 'thing thinks im', 'thing usually end', 'thing video games', 'thing want talking', 'thing want want', 'things bad contamination', 'things bathroom wished', 'things change really', 'things concentration mean', 'things daily journaling', 'things didnt work', 'things dont care', 'things dont know', 'things dont like', 'things dont need', 'things dont want', 'things feel like', 'things felt distant', 'things getting worse', 'things got heated', 'things got little', 'things happen feel', 'things happening depending', 'things held verbal', 'things help world', 'things honestly feel', 'things hurts led', 'things im struggling', 'things im unemployed', 'things ive tried', 'things kinda muted', 'things know like', 'things like getting', 'things like kind', 'things like kissing', 'things like know', 'things like really', 'things long time', 'things lot people', 'things love dont', 'things make feel', 'things make happy', 'things make sense', 'things makes feel', 'things months later', 'things overall make', 'things really bad', 'things spice narrative', 'things started look', 'things therapist looking', 'things therapist said', 'things tune overwhelming', 'things tune tune', 'things want advice', 'things world im', 'things worse legally', 'thingspeople chair bedside', 'think absolutely worth', 'think adhd fit', 'think age faster', 'think boy cause', 'think car cried', 'think demon possessed', 'think despise life', 'think dont want', 'think everybody results', 'think experience young', 'think fair say', 'think faking trans', 'think feel happy', 'think feel like', 'think feel way', 'think food allergy', 'think going mental', 'think good idea', 'think good store', 'think got job', 'think heart attack', 'think hes probably', 'think highs getting', 'think id like', 'think idk know', 'think ill able', 'think ill live', 'think im autistic', 'think im crazy', 'think im going', 'think im good', 'think im late', 'think im lazy', 'think im pretty', 'think im starting', 'think im weird', 'think intrusive thoughts', 'think ive felt', 'think ive got', 'think ive masking', 'think ive seen', 'think killing resting', 'think long hit', 'think lymphoma know', 'think man realised', 'think maybe food', 'think maybe im', 'think negatively effected', 'think past dark', 'think people faking', 'think people like', 'think potential girl', 'think problem bathroom', 'think really cool', 'think really need', 'think running away', 'think sad moment', 'think shit especially', 'think soap thc', 'think struggling anxiety', 'think thanks bunch', 'think thanks read', 'think thirties definitely', 'think time mum', 'think tone tell', 'think usa mobilize', 'think weird missing', 'think year old', 'thinking anxiety causes', 'thinking asking right', 'thinking cancer noticed', 'thinking feel like', 'thinking fucked horribly', 'thinking getting adult', 'thinking getting slightly', 'thinking going school', 'thinking like welp', 'thinking makes race', 'thinking symptoms fear', 'thinking worst case', 'thinks anymore like', 'thinks bad guy', 'thinks im mad', 'thinks really cool', 'thinks said okay', 'thirties definitely help', 'thirties wrinkles im', 'tho know im', 'tho wanted hugged', 'thought adhd doctor', 'thought bedbugs partner', 'thought body react', 'thought born male', 'thought building grow', 'thought calling opened', 'thought came head', 'thought door interact', 'thought ended weighing', 'thought experienced knows', 'thought feel like', 'thought going die', 'thought going insane', 'thought gonna die', 'thought good idea', 'thought id ask', 'thought id make', 'thought id post', 'thought id reach', 'thought id share', 'thought issue evga', 'thought issue used', 'thought issue windows', 'thought itd nice', 'thought make wallflower', 'thought man breath', 'thought maybe allergic', 'thought maybe histamine', 'thought maybe open', 'thought mentally wrong', 'thought motherboard replaced', 'thought online classes', 'thought powersupply replaced', 'thought ryzen stability', 'thought sharing folks', 'thought shopping trip', 'thought solar installation', 'thought suicided days', 'thought women life', 'thought wouldnt stop', 'thought write think', 'thought years ago', 'thoughts end essentially', 'thoughts feel like', 'thoughts feel necessary', 'thoughts feel worthless', 'thoughts hard believe', 'thoughts home situation', 'thoughts increased depressed', 'thoughts laying awake', 'thoughts let know', 'thoughts like eat', 'thoughts main symptoms', 'thoughts running head', 'thoughts self harm', 'thoughts suicide frequent', 'thoughts thinking like', 'threatened cops away', 'threatened kick thing', 'threatening kick house', 'threw stayed hunched', 'throw little lol', 'thrown perfectly good', 'thyroid issues blood', 'tick boxes makes', 'tickling feeling yawn', 'tics gone away', 'tied communication point', 'tightness breathing thing', 'tiktok fyp young', 'til day die', 'til thats try', 'till begins happen', 'till die strat', 'time appeared bad', 'time asked feels', 'time birth control', 'time choose moclobemide', 'time clock unlock', 'time comes mind', 'time coming originally', 'time connecting people', 'time day spent', 'time deciding believe', 'time dont feel', 'time dont know', 'time dont really', 'time dont think', 'time dont want', 'time falling asleep', 'time feel bad', 'time feel guilty', 'time feel like', 'time feels like', 'time felt like', 'time fine like', 'time friday left', 'time fully recover', 'time going slow', 'time guess good', 'time happened couple', 'time hope overcame', 'time hs started', 'time im able', 'time im busy', 'time im scared', 'time im sure', 'time im thinking', 'time im trying', 'time im worried', 'time interview got', 'time ios officially', 'time itched bites', 'time ive gotten', 'time ive really', 'time ive seen', 'time knew better', 'time know going', 'time know im', 'time know start', 'time lately ive', 'time leaving vacation', 'time let guy', 'time life started', 'time like breathing', 'time like time', 'time lol currently', 'time long long', 'time long time', 'time mainly need', 'time makes feel', 'time making friends', 'time mental health', 'time misusing acid', 'time mom visiting', 'time mum truly', 'time office spent', 'time overthinking want', 'time panic attack', 'time properly grieving', 'time reach point', 'time really want', 'time response worry', 'time scared trapeze', 'time spending time', 'time spot register', 'time sunday poop', 'time talked people', 'time talking people', 'time tell want', 'time things like', 'time think ill', 'time think im', 'time think man', 'time till begins', 'time time know', 'time tried issues', 'time try really', 'time visiting surely', 'time wasnt really', 'time weak voice', 'time went adolescence', 'time wish feeling', 'time woman caused', 'time writing march', 'time years job', 'times day maybe', 'times feel completely', 'times feel like', 'times feels like', 'times kept checking', 'times night friend', 'times normal sorry', 'times past months', 'times people say', 'tingly feels like', 'tips help maybe', 'tips make easier', 'tired covid reason', 'tired dont want', 'tired feel like', 'tired feeling like', 'tired killing fast', 'tired know recently', 'tired stand bending', 'tired talking like', 'tired worrying dont', 'tiredness didnt gone', 'tirelessly looking niche', 'tiring like spirit', 'tiring thought lazy', 'title pretty says', 'title says im', 'title says need', 'title self explanatory', 'tldr thought adhd', 'tldr want change', 'tmj predominately right', 'today day anxiety', 'today decided track', 'today feel despite', 'today feel dream', 'today feel like', 'today feeling like', 'today feels like', 'today felt like', 'today good day', 'today issues making', 'today itching upper', 'today little bit', 'today panic attack', 'today says effects', 'today woke feeling', 'today years old', 'toes electrical outlet', 'togetherbuild consistent routine', 'toilet like hour', 'tokens considering using', 'told attractive tho', 'told bad person', 'told boyfriend girlfriend', 'told depressive episode', 'told didnt want', 'told dont want', 'told eye unless', 'told good time', 'told idc people', 'told im fine', 'told im going', 'told looking trippy', 'told medication refused', 'told mom said', 'told mom told', 'told monotone robotic', 'told old dragon', 'told purposely tried', 'told stop texting', 'told upper esophagus', 'told wasnt cool', 'toll mental health', 'tom boy ish', 'tomorrow additionthis actually', 'tomorrow results bloodwork', 'ton bricks asked', 'tonal language pronouncing', 'tone drastically change', 'tone tell im', 'tongue slightly hurts', 'took blood pressure', 'took car shop', 'took couple dates', 'took emergency vet', 'took fin months', 'took fluvoxamine moclobemide', 'took hospital gave', 'took long time', 'took months lose', 'took second dose', 'took test doctors', 'tooth consultation job', 'topic trouble issues', 'torn countless mortals', 'torture bring loving', 'torturous point usually', 'total bicepsunderarms thought', 'total stock market', 'totally makes sense', 'touch like lump', 'touch plan use', 'touchscreen fingerprint reader', 'tough dude fun', 'tough high achieving', 'town near mountain', 'town trying kill', 'townsfolk finally major', 'townsfolk saying generations', 'townsfolk view evil', 'toxic hell want', 'toxicity like ive', 'toy morning flapped', 'track watch got', 'trans bc want', 'trans guy ftm', 'trans like influenced', 'trans man maybe', 'trans man want', 'trans people identity', 'trans sign universe', 'trans think time', 'transcranial magnetic stimulation', 'transition maybe surgery', 'transition medically surgically', 'transition safely im', 'transition selfemployment looking', 'transition yeah help', 'transitioning socially feel', 'transphobia selfish ask', 'trapeze people gonna', 'trapped bored therapy', 'traumatic try explanations', 'treasure arcane relic', 'treasure peak greatest', 'treat feeling common', 'treat like im', 'treat like shit', 'treat seeing anxiety', 'treated like child', 'treated like shit', 'treating like shit', 'treatment id disrespecting', 'treatment resistant depression', 'treats like shit', 'tremors hand randomly', 'tried amazon miserable', 'tried calling mind', 'tried change screamed', 'tried fall asleep', 'tried fix things', 'tried group meditation', 'tried issues came', 'tried makeup fit', 'tried multiple times', 'tried new products', 'tried online dating', 'tried pressure chest', 'tried school work', 'tried self starter', 'tried shake optimism', 'tried talk didnt', 'tried work till', 'trigger dont know', 'triggered wisdom tooth', 'trip low dip', 'tripping house living', 'trippy things bathroom', 'trips hikes nights', 'trips want learn', 'trouble breathing anaphylactic', 'trouble issues mil', 'trouble making friends', 'troubles professionals told', 'true altruism exists', 'true dream job', 'true personality maybe', 'true second version', 'true version citizens', 'truly accept supportive', 'truly bizzare built', 'truly called goodamazing', 'truly feel like', 'truth make interesting', 'try act like', 'try called mind', 'try depressed care', 'try explain things', 'try explanations similar', 'try feel like', 'try follow dream', 'try force leave', 'try going doctor', 'try hit good', 'try lay bed', 'try make short', 'try make work', 'try new things', 'try peace barking', 'try really hard', 'try really try', 'try remind self', 'try save dying', 'try seen leo', 'try shit idk', 'try solve problem', 'try stand depression', 'try start going', 'try steal relic', 'try talk people', 'try walk day', 'trying able transition', 'trying doctors appointment', 'trying fall asleep', 'trying figure life', 'trying figure wrong', 'trying forget replace', 'trying frequencies radio', 'trying hard impress', 'trying hardest listen', 'trying kill dragon', 'trying learn breathe', 'trying life years', 'trying like distract', 'trying lose weight', 'trying make feel', 'trying make friends', 'trying make sense', 'trying make sure', 'trying meet people', 'trying new things', 'trying really hard', 'trying recommend choices', 'trying solve problem', 'trying steal relic', 'trying stereotypical classic', 'trying talk defend', 'trying treat feeling', 'tts like fathom', 'tuesday recently used', 'tune anymore moment', 'tune body difficult', 'tune overwhelming hit', 'tune tune body', 'turn extremely red', 'turn focus body', 'turn seconds seriously', 'turn world scales', 'turned april shake', 'turned days ago', 'turned feel like', 'turned freshman year', 'turned joined paramedic', 'turned lot regret', 'turning abnormal colours', 'tv feel bad', 'tv hours end', 'tv movie short', 'tv shows movies', 'twice day days', 'twice day divided', 'twice day like', 'twice year ago', 'type kid matter', 'type lift hands', 'type people like', 'type shes wrong', 'types players currently', 'uefa champions league', 'ugh hate health', 'uk seen cis', 'ultra msi mpg', 'um cousin went', 'unbelievable felt like', 'uncomfortable attracted true', 'uncomfortable er doc', 'uncomfortable feel like', 'uncomfortable felt like', 'uncomfortable lucidawake point', 'uncomfortably ive seen', 'underneath skin felt', 'understand conversation stilted', 'understand dont plans', 'understand dont really', 'understand dont think', 'understand feel like', 'understand going bit', 'understand happens speak', 'understand hard think', 'understand hate disrespectful', 'understand learn game', 'understand like good', 'understand tried group', 'understand wanting live', 'understanding social cues', 'underwent physicalsexual assault', 'unfair able say', 'unfortunately shes authoritarian', 'unhealthy coping mechanism', 'universal basic income', 'universe plan know', 'universe telling finally', 'university london distance', 'university religious dont', 'unknown reason maybe', 'unlabelled want people', 'unless crazy rich', 'unless shortness breath', 'unlock recipes wish', 'unlocking mind body', 'unofficially diagnosed took', 'unpatriotic critical government', 'unworthy dragon says', 'upper arms checked', 'upper esophagus looks', 'ups downs satisfied', 'upset like knowing', 'upset thing want', 'upstairs lie bed', 'usa mobilize population', 'use child instead', 'use cpap machine', 'use good looking', 'use hehim pronouns', 'use moms new', 'use old pronouns', 'use sheher pronouns', 'use social media', 'use somebody chat', 'use thanks advance', 'use vegas pro', 'used breathing tics', 'used citric acid', 'used dr bronners', 'used dream loved', 'used glycolysis pyruvate', 'used know giving', 'used left make', 'used make secondly', 'used reference despite', 'used skin turning', 'used theythem pronouns', 'used think boy', 'useful texts read', 'uses weed medicine', 'using dentist month', 'using gold store', 'using mode harmonic', 'using soap think', 'using weed years', 'usually begins hours', 'usually brings plant', 'usually end drinking', 'usually end like', 'usually happens im', 'usually labels make', 'usually lasts like', 'usually like feels', 'usually matter time', 'usually small im', 'usually standing long', 'uterine fibroids mgm', 'vacation hangout rhein', 'vague idea forcing', 'vaguely aware im', 'vaguely feel small', 'validating wallet address', 'value life im', 'variety nationalities ages', 'various antidepressants trying', 'various therapies like', 'vast majority people', 'ventilator day started', 'verbal ground day', 'verbally battled night', 'verbally borderline physically', 'verses pray excellent', 'version citizens town', 'version tale following', 'versions folktale true', 'vets know exactly', 'victim ive passive', 'victim mentality handle', 'video game soundtrack', 'video games im', 'video games watching', 'videos ive liked', 'view depression issues', 'view evil make', 'view music theory', 'viewer gave kernal', 'villains townsfolk finally', 'vinci mini maker', 'virus inner ear', 'vision severe bloating', 'visit week new', 'visiting start taking', 'visiting surely disappearing', 'vivid dreams nightmares', 'vocal taboo topic', 'voice got stronger', 'voice head time', 'voice sounds like', 'voice yelling trying', 'voiced problem related', 'voices sound odd', 'vomit brownie threw', 'von gierkes rise', 'vs store support', 'wait care needs', 'wait near mountainside', 'wait passes feeling', 'waiting drop popcorn', 'waiting hall started', 'waiting jump steal', 'waiting results think', 'wake extremely late', 'wake feel like', 'wake middle night', 'wake morning regretting', 'wake noon lay', 'wake took fluvoxamine', 'walk decided medications', 'walk group class', 'walking feel like', 'wall like aching', 'wall tune anymore', 'wall world outside', 'wallet address intended', 'wallet thanks advance', 'wanna die god', 'wanna feel like', 'wanna hear thoughts', 'wanna know think', 'wanna laugh time', 'wanna make sure', 'wanna pay game', 'wanna share experience', 'wanna stop talking', 'wanna talk wanna', 'wanna work acknowledge', 'want able feel', 'want able live', 'want able talk', 'want advice thanks', 'want anymore want', 'want astronaut dont', 'want change department', 'want change time', 'want creep happening', 'want curl happens', 'want didnt want', 'want die automaticlly', 'want die bad', 'want die feel', 'want die im', 'want die life', 'want die parents', 'want die want', 'want doctor dont', 'want dont know', 'want dont really', 'want dont want', 'want dulcolax stimulant', 'want end successful', 'want enjoy life', 'want exist im', 'want fall asleep', 'want family safe', 'want feel im', 'want feel inhibition', 'want feel like', 'want feel normal', 'want feel really', 'want feel way', 'want feeling guilty', 'want feels like', 'want fight mother', 'want friends anymore', 'want fucking die', 'want fully transition', 'want gatekeeping rude', 'want happy enjoying', 'want happy really', 'want happy want', 'want hear people', 'want help dont', 'want help im', 'want help know', 'want help want', 'want home keeps', 'want hurt anymore', 'want hurt people', 'want im adultparent', 'want im going', 'want imagine make', 'want know actually', 'want know better', 'want know exactly', 'want know experience', 'want know feel', 'want know good', 'want know okay', 'want know opinions', 'want know people', 'want know sounds', 'want know want', 'want learn depths', 'want leave house', 'want leave want', 'want let ground', 'want life know', 'want little little', 'want live anymore', 'want live life', 'want live like', 'want look like', 'want make feel', 'want make friends', 'want make hallucinate', 'want make happy', 'want make money', 'want make progress', 'want make sure', 'want meet nerdy', 'want millionaire dont', 'want overwhelm tell', 'want panic attack', 'want people think', 'want person thinks', 'want play game', 'want play games', 'want quit job', 'want really good', 'want relationship right', 'want relax guy', 'want relief burden', 'want relief feels', 'want risk ridiculed', 'want run away', 'want say said', 'want scientist dont', 'want self harm', 'want selfish dont', 'want sleep really', 'want sleep wake', 'want soothe emptiness', 'want sound like', 'want spend time', 'want start hrt', 'want start saying', 'want stay bed', 'want stay like', 'want stop feeling', 'want stop talking', 'want stop want', 'want studies know', 'want suffer anymore', 'want talk guess', 'want talk know', 'want talk people', 'want talking fear', 'want tell boundaries', 'want tell mum', 'want tell parents', 'want tell people', 'want things overall', 'want throw little', 'want time think', 'want told boyfriend', 'want touch plan', 'want transition maybe', 'want transition medically', 'want try make', 'want try new', 'want understand going', 'want wait months', 'want want feel', 'want want know', 'want want want', 'want waste money', 'want waste time', 'want watch videos', 'want work anymore', 'want work think', 'wanted badly wanted', 'wanted build pc', 'wanted desperately realised', 'wanted didnt compliment', 'wanted didnt want', 'wanted explore dated', 'wanted feedback reddit', 'wanted feel like', 'wanted felt guilty', 'wanted hear thoughts', 'wanted hugged left', 'wanted live life', 'wanted make feel', 'wanted make sure', 'wanted military join', 'wanted run default', 'wanted say hi', 'wanted spend time', 'wanted try called', 'wanted work support', 'wanted young friends', 'wanting rescue cats', 'wants tag husband', 'wants understand learn', 'warm night feeling', 'warming obviously said', 'warned nearly turn', 'wasbt sure christmas', 'wasnt board ideas', 'wasnt cool doesnt', 'wasnt fully time', 'waste money time', 'waste time dont', 'watch got scared', 'watch tv movie', 'watch tv shows', 'watch youtube video', 'watch youtube videos', 'watched elliot page', 'watching like takes', 'watching shows playing', 'watching turn focus', 'watching tv feel', 'watching tv hours', 'watching youtube videos', 'water feel like', 'wave fearadrenaline caused', 'wave panic ecg', 'way books internet', 'way convince adventurers', 'way cool im', 'way creep fucked', 'way disobedient hell', 'way dont want', 'way driving mad', 'way experience unpatriotic', 'way feel like', 'way feels like', 'way guess reason', 'way im asking', 'way im going', 'way im really', 'way interact people', 'way league went', 'way look way', 'way make feel', 'way make stop', 'way makes feel', 'way makes sense', 'way motivation left', 'way players believe', 'way proceed possible', 'way react new', 'way really dont', 'way saying want', 'way self reliant', 'way shape form', 'way think things', 'way thought maybe', 'way used think', 'ways earn quid', 'ways end life', 'wayyou know adults', 'weak slain mortals', 'weak voice got', 'weakened state love', 'weaker age dd', 'wealthy corrupt lord', 'weapon legendary action', 'wear headphones fear', 'wear long sleeves', 'wear responsibility work', 'wear short sleeves', 'wearing bras hated', 'wearing makeup year', 'weary laid relic', 'weathered countless blades', 'wed honestly like', 'weed butter measuring', 'weed decided edibles', 'weed issue especially', 'weed living room', 'weed majority cbd', 'weed medicine super', 'weed smoker smoked', 'weed unlocking mind', 'weed year usually', 'weed years randomly', 'week approach asked', 'week dont know', 'week eat days', 'week feel like', 'week half ago', 'week half started', 'week increased dosage', 'week month originally', 'week new semester', 'week retail moment', 'week said fuck', 'week thought powersupply', 'weekend im certain', 'weeks admitted fond', 'weeks ago closest', 'weeks ago doctor', 'weeks ago feel', 'weeks ago got', 'weeks ago ive', 'weeks ago noticed', 'weeks ago started', 'weeks ago sudden', 'weeks feel like', 'weeks finally got', 'weeks gets really', 'weeks worried making', 'weeping assumed symptoms', 'weigh smoke pot', 'weighed yesterday lost', 'weighing dropped months', 'weight healthy white', 'weight losing lost', 'weight loss excessive', 'weight loss fatigue', 'weight loss feeling', 'weight loss journey', 'weight loss worry', 'weight thought ended', 'weird bear flatmate', 'weird feel like', 'weird feeling mainly', 'weird feels like', 'weird hard explain', 'weird im trying', 'weird issues play', 'weird like feel', 'weird like im', 'weird missing youth', 'weird stuff like', 'weird texts sent', 'weird times kept', 'weird worst mistake', 'weirdest generally enjoy', 'wellbutrin wake took', 'welp ive really', 'welts looked like', 'went adolescence lost', 'went away came', 'went away felt', 'went away went', 'went blank relationship', 'went blank said', 'went calling cousin', 'went cold turkey', 'went college friends', 'went cool guy', 'went doctor told', 'went ent specialist', 'went friends work', 'went good looking', 'went highschool college', 'went hospital specialized', 'went living room', 'went mom house', 'went normal days', 'went quite dates', 'went really good', 'went sleep woke', 'went sure itch', 'went uncomfortable attracted', 'went upstairs lie', 'went urgent care', 'went walk today', 'went weed unlocking', 'went years ago', 'weve spoken outside', 'wfh come days', 'wfh days office', 'wfh want family', 'whats ahead thing', 'whats best way', 'whats happening like', 'whats january background', 'whatsapp apparently missed', 'whatsapp hope meet', 'whispering breath hate', 'whispering wish stop', 'white blood cell', 'white hypermobility spectrum', 'wide variety nationalities', 'wife got diagnosed', 'wifi fine looked', 'willing wait care', 'willpower dont know', 'willpower try follow', 'wim hofs breathing', 'winded pity party', 'windows event viewer', 'wire new construction', 'wisdom teeth dont', 'wisdom tooth consultation', 'wise feels like', 'wise really want', 'wish apps lower', 'wish clear concise', 'wish existed nice', 'wish feeling worst', 'wish join click', 'wish live life', 'wish people understand', 'wish sleep forever', 'wish sleep wake', 'wish stop gets', 'wished like second', 'wit best friend', 'wlw fantasy desires', 'woke early morning', 'woke feeling anxious', 'woke feeling like', 'woke happy depression', 'woke middle night', 'woman caused pain', 'woman hated wearing', 'woman makes want', 'woman poly good', 'woman started collapse', 'woman started feel', 'women feeds wlw', 'women prefer men', 'wonder bad person', 'wonder cryptocurrency used', 'wonder im going', 'wondering good idea', 'wondering similar experiences', 'wondering theres concerning', 'wonky sitestetracubecomdnddndstatblockhtml used', 'wont able pay', 'wont let talk', 'wont let use', 'wont like real', 'wont mean make', 'word come home', 'word different tone', 'word woman makes', 'words dont want', 'work acknowledge mistake', 'work aftercare public', 'work anymore im', 'work beak histamine', 'work boss called', 'work come home', 'work days week', 'work dont really', 'work end seeing', 'work ethic vs', 'work experience feel', 'work extra pressure', 'work feel like', 'work feels like', 'work gas prices', 'work guys think', 'work hit wall', 'work home really', 'work home week', 'work house snoops', 'work im going', 'work im sure', 'work ive tried', 'work let know', 'work like normal', 'work load recently', 'work major corporation', 'work manifested created', 'work mentalphysicalsocial health', 'work need job', 'work ot skip', 'work people age', 'work physical mental', 'work really tiring', 'work rest life', 'work rest time', 'work return bed', 'work right think', 'work scattered time', 'work sent audio', 'work stress excessive', 'work support instead', 'work table room', 'work think absolutely', 'work till die', 'worked btw game', 'worked min ot', 'worked restaurants centers', 'worked year really', 'working customer service', 'working days week', 'working dont want', 'working eating healthy', 'working electrical sales', 'working feel like', 'working gender lately', 'working getting diagnosed', 'working grocery store', 'working home builders', 'working killing egos', 'working low wage', 'working read long', 'working sales leader', 'working time job', 'working true dream', 'working twice day', 'workload pressure instantly', 'works feel like', 'world better place', 'world culture like', 'world feel great', 'world feel like', 'world handle overwhelmingly', 'world history course', 'world im really', 'world lay bed', 'world long remember', 'world outside feel', 'world scales weathered', 'world today feel', 'worried feel like', 'worried going crazy', 'worried heard combination', 'worried ill end', 'worried ill sound', 'worried im gonna', 'worried lies catch', 'worried making hasty', 'worried mean gonna', 'worry bet years', 'worry coming make', 'worry ive dieted', 'worry overstepping want', 'worrying dont think', 'worrying thoughts end', 'worse dont feel', 'worse dont know', 'worse feel like', 'worse hands theres', 'worse hiring person', 'worse legally want', 'worse mental health', 'worse ringing ears', 'worse single night', 'worse tried pressure', 'worse worse ive', 'worse worse single', 'worse years depression', 'worst case like', 'worst case scenario', 'worst mental state', 'worst mistake life', 'worst social anxiety', 'worth feel like', 'worth overtime work', 'worthless dreamt lot', 'worthless helpless panic', 'worthless piece shit', 'worthy express intention', 'worthy possess relic', 'wouldnt make sense', 'wouldnt question stood', 'wounds dragon sustained', 'wreck day passed', 'wrinkles im sure', 'wrinkles people think', 'write think running', 'writing different references', 'writing guy like', 'wrong action threatened', 'wrong didnt know', 'wrong dont know', 'wrong dont want', 'wrong feel like', 'wrong feel way', 'wrong going holiday', 'wrong help thing', 'wrong im lazy', 'wrong say usually', 'wrong wanna die', 'wrong wronged talk', 'wrong years ive', 'wronged talk victim', 'wrote blurb spacetoken', 'xanax helps immensely', 'xbox game pass', 'xbox hear xbox', 'xbox ports general', 'xray showing issues', 'ya muchas gracias', 'yada yada yada', 'yall need help', 'yall think thanks', 'yall think year', 'yawn deep breath', 'yeah definitely trans', 'yeah help guy', 'yeah im wondering', 'yeah relates let', 'yeah thoughts thank', 'year ago doctors', 'year ago started', 'year ago stopped', 'year ago think', 'year community college', 'year dizzy anymore', 'year feel like', 'year felt like', 'year friends apartment', 'year getting worse', 'year half ago', 'year high school', 'year highschool started', 'year later im', 'year learned easily', 'year life truly', 'year old adult', 'year old autistic', 'year old brother', 'year old child', 'year old college', 'year old daughter', 'year old female', 'year old girl', 'year old guy', 'year old hold', 'year old kid', 'year old male', 'year old man', 'year old psu', 'year old started', 'year old trans', 'year old year', 'year really bad', 'year really liked', 'year really think', 'year started dating', 'year symptoms include', 'year usually brings', 'year waiting list', 'yearning deprived decent', 'years ago bad', 'years ago decided', 'years ago dont', 'years ago feel', 'years ago got', 'years ago im', 'years ago ive', 'years ago know', 'years ago life', 'years ago like', 'years ago new', 'years ago remember', 'years ago said', 'years ago started', 'years ago thought', 'years ago time', 'years ago took', 'years ago tried', 'years ago used', 'years ago want', 'years ago went', 'years ago worry', 'years began warming', 'years companies wanted', 'years continuous period', 'years depression suffered', 'years dont know', 'years embarrassment dysfunction', 'years feel like', 'years feels like', 'years greatly diminished', 'years high school', 'years im coming', 'years im tired', 'years issues application', 'years ive looked', 'years ive trying', 'years job want', 'years lease thought', 'years look join', 'years lower falling', 'years make money', 'years masking definitely', 'years missed youthful', 'years multiple classmates', 'years old diagnosed', 'years old didnt', 'years old feel', 'years old got', 'years old im', 'years old ive', 'years old know', 'years old lbs', 'years old life', 'years old recently', 'years old tall', 'years old time', 'years old year', 'years old young', 'years past precancerous', 'years people know', 'years plus iron', 'years randomly happened', 'years recently started', 'years room extremely', 'years sit class', 'years things getting', 'years various antidepressants', 'yelling trying frequencies', 'yellow honda fit', 'yes got chance', 'yesterday lost lbs', 'yield savings account', 'yo trans girl', 'young boy called', 'young devout catholic', 'young friends experience', 'young id catastrophize', 'young like parties', 'young party make', 'yous think usa', 'youth heath issues', 'youth saw lot', 'youthful fun things', 'youtube videos ive', 'yowl knew vets', 'zoned mid sentence', 'zoomed parts male']\n"
          ]
        }
      ],
      "source": [
        "ngram_vect = TfidfVectorizer(ngram_range=(3,3), min_df = 3, stop_words = 'english')\n",
        "ngram_doc = ngram_vect.fit_transform(mhsu_balanced['clean_text'])\n",
        "print(ngram_doc.shape)\n",
        "print(ngram_vect.get_feature_names())"
      ]
    },
    {
      "cell_type": "code",
      "execution_count": null,
      "metadata": {
        "colab": {
          "base_uri": "https://localhost:8080/",
          "height": 236
        },
        "id": "XCGV4M5oaP9k",
        "outputId": "a569ce1f-f693-4b71-fa3e-3947516412f7"
      },
      "outputs": [
        {
          "output_type": "execute_result",
          "data": {
            "text/plain": [
              "   0      1      2      3      4      5      6      7      8      9      ...  \\\n",
              "0    0.0    0.0    0.0    0.0    0.0    0.0    0.0    0.0    0.0    0.0  ...   \n",
              "1    0.0    0.0    0.0    0.0    0.0    0.0    0.0    0.0    0.0    0.0  ...   \n",
              "2    0.0    0.0    0.0    0.0    0.0    0.0    0.0    0.0    0.0    0.0  ...   \n",
              "3    0.0    0.0    0.0    0.0    0.0    0.0    0.0    0.0    0.0    0.0  ...   \n",
              "4    0.0    0.0    0.0    0.0    0.0    0.0    0.0    0.0    0.0    0.0  ...   \n",
              "\n",
              "   10662  10663  10664  10665  10666  10667  10668  10669  10670  10671  \n",
              "0    0.0    0.0    0.0    0.0    0.0    0.0    0.0    0.0    0.0    0.0  \n",
              "1    0.0    0.0    0.0    0.0    0.0    0.0    0.0    0.0    0.0    0.0  \n",
              "2    0.0    0.0    0.0    0.0    0.0    0.0    0.0    0.0    0.0    0.0  \n",
              "3    0.0    0.0    0.0    0.0    0.0    0.0    0.0    0.0    0.0    0.0  \n",
              "4    0.0    0.0    0.0    0.0    0.0    0.0    0.0    0.0    0.0    0.0  \n",
              "\n",
              "[5 rows x 10672 columns]"
            ],
            "text/html": [
              "\n",
              "  <div id=\"df-f609c309-c50e-4b46-b67d-5412f84410f2\">\n",
              "    <div class=\"colab-df-container\">\n",
              "      <div>\n",
              "<style scoped>\n",
              "    .dataframe tbody tr th:only-of-type {\n",
              "        vertical-align: middle;\n",
              "    }\n",
              "\n",
              "    .dataframe tbody tr th {\n",
              "        vertical-align: top;\n",
              "    }\n",
              "\n",
              "    .dataframe thead th {\n",
              "        text-align: right;\n",
              "    }\n",
              "</style>\n",
              "<table border=\"1\" class=\"dataframe\">\n",
              "  <thead>\n",
              "    <tr style=\"text-align: right;\">\n",
              "      <th></th>\n",
              "      <th>0</th>\n",
              "      <th>1</th>\n",
              "      <th>2</th>\n",
              "      <th>3</th>\n",
              "      <th>4</th>\n",
              "      <th>5</th>\n",
              "      <th>6</th>\n",
              "      <th>7</th>\n",
              "      <th>8</th>\n",
              "      <th>9</th>\n",
              "      <th>...</th>\n",
              "      <th>10662</th>\n",
              "      <th>10663</th>\n",
              "      <th>10664</th>\n",
              "      <th>10665</th>\n",
              "      <th>10666</th>\n",
              "      <th>10667</th>\n",
              "      <th>10668</th>\n",
              "      <th>10669</th>\n",
              "      <th>10670</th>\n",
              "      <th>10671</th>\n",
              "    </tr>\n",
              "  </thead>\n",
              "  <tbody>\n",
              "    <tr>\n",
              "      <th>0</th>\n",
              "      <td>0.0</td>\n",
              "      <td>0.0</td>\n",
              "      <td>0.0</td>\n",
              "      <td>0.0</td>\n",
              "      <td>0.0</td>\n",
              "      <td>0.0</td>\n",
              "      <td>0.0</td>\n",
              "      <td>0.0</td>\n",
              "      <td>0.0</td>\n",
              "      <td>0.0</td>\n",
              "      <td>...</td>\n",
              "      <td>0.0</td>\n",
              "      <td>0.0</td>\n",
              "      <td>0.0</td>\n",
              "      <td>0.0</td>\n",
              "      <td>0.0</td>\n",
              "      <td>0.0</td>\n",
              "      <td>0.0</td>\n",
              "      <td>0.0</td>\n",
              "      <td>0.0</td>\n",
              "      <td>0.0</td>\n",
              "    </tr>\n",
              "    <tr>\n",
              "      <th>1</th>\n",
              "      <td>0.0</td>\n",
              "      <td>0.0</td>\n",
              "      <td>0.0</td>\n",
              "      <td>0.0</td>\n",
              "      <td>0.0</td>\n",
              "      <td>0.0</td>\n",
              "      <td>0.0</td>\n",
              "      <td>0.0</td>\n",
              "      <td>0.0</td>\n",
              "      <td>0.0</td>\n",
              "      <td>...</td>\n",
              "      <td>0.0</td>\n",
              "      <td>0.0</td>\n",
              "      <td>0.0</td>\n",
              "      <td>0.0</td>\n",
              "      <td>0.0</td>\n",
              "      <td>0.0</td>\n",
              "      <td>0.0</td>\n",
              "      <td>0.0</td>\n",
              "      <td>0.0</td>\n",
              "      <td>0.0</td>\n",
              "    </tr>\n",
              "    <tr>\n",
              "      <th>2</th>\n",
              "      <td>0.0</td>\n",
              "      <td>0.0</td>\n",
              "      <td>0.0</td>\n",
              "      <td>0.0</td>\n",
              "      <td>0.0</td>\n",
              "      <td>0.0</td>\n",
              "      <td>0.0</td>\n",
              "      <td>0.0</td>\n",
              "      <td>0.0</td>\n",
              "      <td>0.0</td>\n",
              "      <td>...</td>\n",
              "      <td>0.0</td>\n",
              "      <td>0.0</td>\n",
              "      <td>0.0</td>\n",
              "      <td>0.0</td>\n",
              "      <td>0.0</td>\n",
              "      <td>0.0</td>\n",
              "      <td>0.0</td>\n",
              "      <td>0.0</td>\n",
              "      <td>0.0</td>\n",
              "      <td>0.0</td>\n",
              "    </tr>\n",
              "    <tr>\n",
              "      <th>3</th>\n",
              "      <td>0.0</td>\n",
              "      <td>0.0</td>\n",
              "      <td>0.0</td>\n",
              "      <td>0.0</td>\n",
              "      <td>0.0</td>\n",
              "      <td>0.0</td>\n",
              "      <td>0.0</td>\n",
              "      <td>0.0</td>\n",
              "      <td>0.0</td>\n",
              "      <td>0.0</td>\n",
              "      <td>...</td>\n",
              "      <td>0.0</td>\n",
              "      <td>0.0</td>\n",
              "      <td>0.0</td>\n",
              "      <td>0.0</td>\n",
              "      <td>0.0</td>\n",
              "      <td>0.0</td>\n",
              "      <td>0.0</td>\n",
              "      <td>0.0</td>\n",
              "      <td>0.0</td>\n",
              "      <td>0.0</td>\n",
              "    </tr>\n",
              "    <tr>\n",
              "      <th>4</th>\n",
              "      <td>0.0</td>\n",
              "      <td>0.0</td>\n",
              "      <td>0.0</td>\n",
              "      <td>0.0</td>\n",
              "      <td>0.0</td>\n",
              "      <td>0.0</td>\n",
              "      <td>0.0</td>\n",
              "      <td>0.0</td>\n",
              "      <td>0.0</td>\n",
              "      <td>0.0</td>\n",
              "      <td>...</td>\n",
              "      <td>0.0</td>\n",
              "      <td>0.0</td>\n",
              "      <td>0.0</td>\n",
              "      <td>0.0</td>\n",
              "      <td>0.0</td>\n",
              "      <td>0.0</td>\n",
              "      <td>0.0</td>\n",
              "      <td>0.0</td>\n",
              "      <td>0.0</td>\n",
              "      <td>0.0</td>\n",
              "    </tr>\n",
              "  </tbody>\n",
              "</table>\n",
              "<p>5 rows × 10672 columns</p>\n",
              "</div>\n",
              "      <button class=\"colab-df-convert\" onclick=\"convertToInteractive('df-f609c309-c50e-4b46-b67d-5412f84410f2')\"\n",
              "              title=\"Convert this dataframe to an interactive table.\"\n",
              "              style=\"display:none;\">\n",
              "        \n",
              "  <svg xmlns=\"http://www.w3.org/2000/svg\" height=\"24px\"viewBox=\"0 0 24 24\"\n",
              "       width=\"24px\">\n",
              "    <path d=\"M0 0h24v24H0V0z\" fill=\"none\"/>\n",
              "    <path d=\"M18.56 5.44l.94 2.06.94-2.06 2.06-.94-2.06-.94-.94-2.06-.94 2.06-2.06.94zm-11 1L8.5 8.5l.94-2.06 2.06-.94-2.06-.94L8.5 2.5l-.94 2.06-2.06.94zm10 10l.94 2.06.94-2.06 2.06-.94-2.06-.94-.94-2.06-.94 2.06-2.06.94z\"/><path d=\"M17.41 7.96l-1.37-1.37c-.4-.4-.92-.59-1.43-.59-.52 0-1.04.2-1.43.59L10.3 9.45l-7.72 7.72c-.78.78-.78 2.05 0 2.83L4 21.41c.39.39.9.59 1.41.59.51 0 1.02-.2 1.41-.59l7.78-7.78 2.81-2.81c.8-.78.8-2.07 0-2.86zM5.41 20L4 18.59l7.72-7.72 1.47 1.35L5.41 20z\"/>\n",
              "  </svg>\n",
              "      </button>\n",
              "      \n",
              "  <style>\n",
              "    .colab-df-container {\n",
              "      display:flex;\n",
              "      flex-wrap:wrap;\n",
              "      gap: 12px;\n",
              "    }\n",
              "\n",
              "    .colab-df-convert {\n",
              "      background-color: #E8F0FE;\n",
              "      border: none;\n",
              "      border-radius: 50%;\n",
              "      cursor: pointer;\n",
              "      display: none;\n",
              "      fill: #1967D2;\n",
              "      height: 32px;\n",
              "      padding: 0 0 0 0;\n",
              "      width: 32px;\n",
              "    }\n",
              "\n",
              "    .colab-df-convert:hover {\n",
              "      background-color: #E2EBFA;\n",
              "      box-shadow: 0px 1px 2px rgba(60, 64, 67, 0.3), 0px 1px 3px 1px rgba(60, 64, 67, 0.15);\n",
              "      fill: #174EA6;\n",
              "    }\n",
              "\n",
              "    [theme=dark] .colab-df-convert {\n",
              "      background-color: #3B4455;\n",
              "      fill: #D2E3FC;\n",
              "    }\n",
              "\n",
              "    [theme=dark] .colab-df-convert:hover {\n",
              "      background-color: #434B5C;\n",
              "      box-shadow: 0px 1px 3px 1px rgba(0, 0, 0, 0.15);\n",
              "      filter: drop-shadow(0px 1px 2px rgba(0, 0, 0, 0.3));\n",
              "      fill: #FFFFFF;\n",
              "    }\n",
              "  </style>\n",
              "\n",
              "      <script>\n",
              "        const buttonEl =\n",
              "          document.querySelector('#df-f609c309-c50e-4b46-b67d-5412f84410f2 button.colab-df-convert');\n",
              "        buttonEl.style.display =\n",
              "          google.colab.kernel.accessAllowed ? 'block' : 'none';\n",
              "\n",
              "        async function convertToInteractive(key) {\n",
              "          const element = document.querySelector('#df-f609c309-c50e-4b46-b67d-5412f84410f2');\n",
              "          const dataTable =\n",
              "            await google.colab.kernel.invokeFunction('convertToInteractive',\n",
              "                                                     [key], {});\n",
              "          if (!dataTable) return;\n",
              "\n",
              "          const docLinkHtml = 'Like what you see? Visit the ' +\n",
              "            '<a target=\"_blank\" href=https://colab.research.google.com/notebooks/data_table.ipynb>data table notebook</a>'\n",
              "            + ' to learn more about interactive tables.';\n",
              "          element.innerHTML = '';\n",
              "          dataTable['output_type'] = 'display_data';\n",
              "          await google.colab.output.renderOutput(dataTable, element);\n",
              "          const docLink = document.createElement('div');\n",
              "          docLink.innerHTML = docLinkHtml;\n",
              "          element.appendChild(docLink);\n",
              "        }\n",
              "      </script>\n",
              "    </div>\n",
              "  </div>\n",
              "  "
            ]
          },
          "metadata": {},
          "execution_count": 16
        }
      ],
      "source": [
        "Ng_features = pd.DataFrame(ngram_doc.toarray())\n",
        "Ng_features.head()"
      ]
    },
    {
      "cell_type": "code",
      "execution_count": null,
      "metadata": {
        "id": "bFjLAcS7apjQ"
      },
      "outputs": [],
      "source": [
        "label = mhsu_balanced.label\n",
        "\n",
        "X_train, X_test, y_train, y_test = train_test_split(Ng_features, label,\n",
        "                                                    shuffle=True, \n",
        "                                                    test_size = 0.2, \n",
        "                                                    random_state = 42, \n",
        "                                                    stratify = label)"
      ]
    },
    {
      "cell_type": "code",
      "execution_count": null,
      "metadata": {
        "colab": {
          "base_uri": "https://localhost:8080/"
        },
        "id": "lqKF0QS1lMGb",
        "outputId": "b5226c9b-61e7-4c1d-d160-1b4a5a27db9c"
      },
      "outputs": [
        {
          "output_type": "stream",
          "name": "stdout",
          "text": [
            "Total number of data in X_train :14400\n",
            "Total number of data in X_test :3600\n",
            "Total number of data in y_train :14400\n",
            "Total number of data in y_test :3600\n"
          ]
        }
      ],
      "source": [
        "print('Total number of data in X_train :{}' .format(len(X_train)))\n",
        "print('Total number of data in X_test :{}' .format(len(X_test)))\n",
        "print('Total number of data in y_train :{}' .format(len(y_train)))\n",
        "print('Total number of data in y_test :{}' .format(len(y_test)))"
      ]
    },
    {
      "cell_type": "markdown",
      "source": [
        "## Logistics Regression (Baseline Model)"
      ],
      "metadata": {
        "id": "dVhm2bh0IVkD"
      }
    },
    {
      "cell_type": "code",
      "source": [
        "logReg = LogisticRegression()\n",
        "lg_model = logReg.fit(X_train, y_train.values.ravel())\n",
        "\n",
        "# Prediction with Test data\n",
        "y_pred_lg = lg_model.predict(X_test)"
      ],
      "metadata": {
        "colab": {
          "base_uri": "https://localhost:8080/"
        },
        "id": "Hya0HRUBIZub",
        "outputId": "89c5bba2-0e77-4547-ea58-779f2ba43319"
      },
      "execution_count": null,
      "outputs": [
        {
          "output_type": "stream",
          "name": "stderr",
          "text": [
            "/usr/local/lib/python3.7/dist-packages/sklearn/linear_model/_logistic.py:818: ConvergenceWarning: lbfgs failed to converge (status=1):\n",
            "STOP: TOTAL NO. of ITERATIONS REACHED LIMIT.\n",
            "\n",
            "Increase the number of iterations (max_iter) or scale the data as shown in:\n",
            "    https://scikit-learn.org/stable/modules/preprocessing.html\n",
            "Please also refer to the documentation for alternative solver options:\n",
            "    https://scikit-learn.org/stable/modules/linear_model.html#logistic-regression\n",
            "  extra_warning_msg=_LOGISTIC_SOLVER_CONVERGENCE_MSG,\n"
          ]
        }
      ]
    },
    {
      "cell_type": "code",
      "source": [
        "LogisticRegression().get_params()"
      ],
      "metadata": {
        "id": "1ywMOLAOJKy7"
      },
      "execution_count": null,
      "outputs": []
    },
    {
      "cell_type": "code",
      "source": [
        "print(classification_report(y_test, y_pred_lg))"
      ],
      "metadata": {
        "colab": {
          "base_uri": "https://localhost:8080/"
        },
        "id": "Xtoef6asI8uL",
        "outputId": "99c7c0b4-4ee5-4833-c732-2063f7e3eabf"
      },
      "execution_count": null,
      "outputs": [
        {
          "output_type": "stream",
          "name": "stdout",
          "text": [
            "              precision    recall  f1-score   support\n",
            "\n",
            "        ADHD       0.41      0.17      0.24       900\n",
            "     anxiety       0.44      0.16      0.24       900\n",
            "      autism       0.29      0.78      0.42       900\n",
            "  depression       0.50      0.25      0.33       900\n",
            "\n",
            "    accuracy                           0.34      3600\n",
            "   macro avg       0.41      0.34      0.31      3600\n",
            "weighted avg       0.41      0.34      0.31      3600\n",
            "\n"
          ]
        }
      ]
    },
    {
      "cell_type": "code",
      "source": [
        "cf_matrix = confusion_matrix(y_test, y_pred_lg)\n",
        "print(confusion_matrix(y_test, y_pred_lg))\n",
        "#sns.heatmap(confusion_matrix(y_test, y_pred_lg), annot=True)\n",
        "sns.heatmap(cf_matrix/np.sum(cf_matrix), annot=True, fmt='.2%')"
      ],
      "metadata": {
        "colab": {
          "base_uri": "https://localhost:8080/",
          "height": 352
        },
        "id": "KE-LXryU8-ir",
        "outputId": "3efed635-5fbf-4a63-faba-68b4ad3a0a73"
      },
      "execution_count": null,
      "outputs": [
        {
          "output_type": "stream",
          "name": "stdout",
          "text": [
            "[[149  64 615  72]\n",
            " [ 77 148 597  78]\n",
            " [ 72  54 702  72]\n",
            " [ 69  69 538 224]]\n"
          ]
        },
        {
          "output_type": "execute_result",
          "data": {
            "text/plain": [
              "<matplotlib.axes._subplots.AxesSubplot at 0x7f86d20c7910>"
            ]
          },
          "metadata": {},
          "execution_count": 30
        },
        {
          "output_type": "display_data",
          "data": {
            "text/plain": [
              "<Figure size 432x288 with 2 Axes>"
            ],
            "image/png": "[encoded data removed]"
          },
          "metadata": {
            "needs_background": "light"
          }
        }
      ]
    },
    {
      "cell_type": "code",
      "source": [
        "import matplotlib.pyplot as plt     \n",
        "\n",
        "ax= plt.subplot()\n",
        "sns.heatmap(cf_matrix/np.sum(cf_matrix), annot=True, fmt='.2%', ax=ax);  #annot=True to annotate cells, ftm='g' to disable scientific notation\n",
        "\n",
        "# labels, title and ticks\n",
        "ax.set_xlabel('Predicted labels');ax.set_ylabel('True labels'); \n",
        "ax.set_title('Confusion Matrix'); \n",
        "ax.xaxis.set_ticklabels(['ADHD','Anxiety', 'Autism', 'Depression']); ax.yaxis.set_ticklabels(['ADHD','Anxiety', 'Autism', 'Depression']);"
      ],
      "metadata": {
        "colab": {
          "base_uri": "https://localhost:8080/",
          "height": 295
        },
        "id": "ABZS_bUxJMCm",
        "outputId": "a106da31-924c-4345-c386-af6911e49299"
      },
      "execution_count": null,
      "outputs": [
        {
          "output_type": "display_data",
          "data": {
            "text/plain": [
              "<Figure size 432x288 with 2 Axes>"
            ],
            "image/png": "[encoded data removed]"
          },
          "metadata": {
            "needs_background": "light"
          }
        }
      ]
    },
    {
      "cell_type": "code",
      "source": [
        "# from sklearn.metrics import confusion_matrix, ConfusionMatrixDisplay\n",
        "\n",
        "# cf_matrix = confusion_matrix(y_test, y_pred_lg)\n",
        "# cmd = ConfusionMatrixDisplay(cf_matrix/np.sum(cf_matrix), display_labels=['ADHD','Anxiety', 'Autism', 'Depression'])\n",
        "# cmd.plot()"
      ],
      "metadata": {
        "colab": {
          "base_uri": "https://localhost:8080/",
          "height": 296
        },
        "id": "0sNaVzWkHNjO",
        "outputId": "fc6559a3-f6fb-4b9f-d95e-aca718184cca"
      },
      "execution_count": null,
      "outputs": [
        {
          "output_type": "execute_result",
          "data": {
            "text/plain": [
              "<sklearn.metrics._plot.confusion_matrix.ConfusionMatrixDisplay at 0x7f86d6322d50>"
            ]
          },
          "metadata": {},
          "execution_count": 26
        },
        {
          "output_type": "display_data",
          "data": {
            "text/plain": [
              "<Figure size 432x288 with 2 Axes>"
            ],
            "image/png": "[encoded data removed]"
          },
          "metadata": {
            "needs_background": "light"
          }
        }
      ]
    },
    {
      "cell_type": "markdown",
      "source": [
        "## Logistics Regression Result\n",
        "Unigram ---> 54% Bigram ---> 43% Trigram ---> 34%"
      ],
      "metadata": {
        "id": "FSAdacXcT5zF"
      }
    },
    {
      "cell_type": "markdown",
      "source": [
        "## Random Forest Classifier"
      ],
      "metadata": {
        "id": "2Ra8P3m47Ume"
      }
    },
    {
      "cell_type": "code",
      "execution_count": null,
      "metadata": {
        "id": "DGm0UW1kmdZD"
      },
      "outputs": [],
      "source": [
        "rf = RandomForestClassifier()\n",
        "\n",
        "rf_model = rf.fit(X_train, y_train.values.ravel())"
      ]
    },
    {
      "cell_type": "code",
      "execution_count": null,
      "metadata": {
        "colab": {
          "base_uri": "https://localhost:8080/"
        },
        "id": "Iz92yC7duQx2",
        "outputId": "460e5333-f509-48f7-f55a-8dbd1d5042fb"
      },
      "outputs": [
        {
          "output_type": "stream",
          "name": "stdout",
          "text": [
            "              precision    recall  f1-score   support\n",
            "\n",
            "        ADHD       0.40      0.15      0.22       900\n",
            "     anxiety       0.43      0.16      0.24       900\n",
            "      autism       0.28      0.78      0.42       900\n",
            "  depression       0.49      0.24      0.32       900\n",
            "\n",
            "    accuracy                           0.33      3600\n",
            "   macro avg       0.40      0.33      0.30      3600\n",
            "weighted avg       0.40      0.33      0.30      3600\n",
            "\n"
          ]
        }
      ],
      "source": [
        "y_pred_rf = rf_model.predict(X_test)\n",
        "print(classification_report(y_test, y_pred_rf))"
      ]
    },
    {
      "cell_type": "code",
      "source": [
        "cf_matrix = confusion_matrix(y_test, y_pred_rf)\n",
        "print(confusion_matrix(y_test, y_pred_rf))\n",
        "sns.heatmap(cf_matrix/np.sum(cf_matrix), annot=True, fmt='.2%')"
      ],
      "metadata": {
        "colab": {
          "base_uri": "https://localhost:8080/",
          "height": 352
        },
        "id": "7tz6UNCR-9cj",
        "outputId": "20e42658-0fa6-45c1-eddf-b9254c1245d8"
      },
      "execution_count": null,
      "outputs": [
        {
          "output_type": "stream",
          "name": "stdout",
          "text": [
            "[[139  61 622  78]\n",
            " [ 68 146 605  81]\n",
            " [ 62  65 702  71]\n",
            " [ 77  65 541 217]]\n"
          ]
        },
        {
          "output_type": "execute_result",
          "data": {
            "text/plain": [
              "<matplotlib.axes._subplots.AxesSubplot at 0x7f91ed419210>"
            ]
          },
          "metadata": {},
          "execution_count": 26
        },
        {
          "output_type": "display_data",
          "data": {
            "text/plain": [
              "<Figure size 432x288 with 2 Axes>"
            ],
            "image/png": "[encoded data removed]"
          },
          "metadata": {
            "needs_background": "light"
          }
        }
      ]
    },
    {
      "cell_type": "markdown",
      "metadata": {
        "id": "bJ0DaoJVcIQg"
      },
      "source": [
        "# Random Forest Classifier Result\n",
        "Unigram ---> 41%  Bigram ---> 40%  Trigram ---> 33%"
      ]
    },
    {
      "cell_type": "markdown",
      "metadata": {
        "id": "nELcN1ajesuP"
      },
      "source": [
        "## Hyperparameter Tunning for Random Forest Classifier"
      ]
    },
    {
      "cell_type": "code",
      "execution_count": null,
      "metadata": {
        "colab": {
          "base_uri": "https://localhost:8080/"
        },
        "id": "4KVRR0ebY1Ou",
        "outputId": "5abae395-8da1-4b5f-b629-fa48205f470a"
      },
      "outputs": [
        {
          "output_type": "stream",
          "name": "stdout",
          "text": [
            "BEST PARAMS: {'max_depth': None, 'n_estimators': 50}\n",
            "\n",
            "0.251 (+/-0.001) for {'max_depth': 2, 'n_estimators': 5}\n",
            "0.256 (+/-0.003) for {'max_depth': 2, 'n_estimators': 50}\n",
            "0.26 (+/-0.004) for {'max_depth': 2, 'n_estimators': 100}\n",
            "0.254 (+/-0.002) for {'max_depth': 10, 'n_estimators': 5}\n",
            "0.267 (+/-0.005) for {'max_depth': 10, 'n_estimators': 50}\n",
            "0.278 (+/-0.01) for {'max_depth': 10, 'n_estimators': 100}\n",
            "0.258 (+/-0.003) for {'max_depth': 20, 'n_estimators': 5}\n",
            "0.283 (+/-0.005) for {'max_depth': 20, 'n_estimators': 50}\n",
            "0.289 (+/-0.006) for {'max_depth': 20, 'n_estimators': 100}\n",
            "0.312 (+/-0.008) for {'max_depth': None, 'n_estimators': 5}\n",
            "0.321 (+/-0.005) for {'max_depth': None, 'n_estimators': 50}\n",
            "0.321 (+/-0.008) for {'max_depth': None, 'n_estimators': 100}\n"
          ]
        }
      ],
      "source": [
        "# Using the GridSearch Cross validation method at 5-fold and hyper-parameter tuning of n_estimators and max_depth \n",
        "# to determine the best hyper-parameter settings that will produce the optimal performance for the RF classifier\n",
        "\n",
        "def print_results(results):\n",
        "    print('BEST PARAMS: {}\\n'.format(results.best_params_))\n",
        "\n",
        "    means = results.cv_results_['mean_test_score']\n",
        "    stds = results.cv_results_['std_test_score']\n",
        "    for mean, std, params in zip(means, stds, results.cv_results_['params']):\n",
        "        print('{} (+/-{}) for {}'.format(round(mean, 3), round(std * 2, 3), params))\n",
        "        \n",
        "        \n",
        "rf_cv = RandomForestClassifier()\n",
        "parameters = {\n",
        "    'n_estimators': [5, 50, 100],\n",
        "    'max_depth': [2, 10, 20, None]\n",
        "}\n",
        "\n",
        "cv = GridSearchCV(rf_cv, parameters, cv=5)\n",
        "cv.fit(X_train, y_train.values.ravel())\n",
        "\n",
        "print_results(cv)"
      ]
    },
    {
      "cell_type": "code",
      "execution_count": null,
      "metadata": {
        "id": "GZoUMU8si6L9",
        "colab": {
          "base_uri": "https://localhost:8080/"
        },
        "outputId": "7914eb78-e707-4c3d-c872-b1d1c3184bc5"
      },
      "outputs": [
        {
          "output_type": "execute_result",
          "data": {
            "text/plain": [
              "RandomForestClassifier()"
            ]
          },
          "metadata": {},
          "execution_count": 34
        }
      ],
      "source": [
        "# Refit the three best hyper-parameter models on the full training set\n",
        "# 0.312 (+/-0.008) for {'max_depth': None, 'n_estimators': 5}\n",
        "# 0.321 (+/-0.005) for {'max_depth': None, 'n_estimators': 50}\n",
        "# 0.321 (+/-0.008) for {'max_depth': None, 'n_estimators': 100}\n",
        "\n",
        "rf1 = RandomForestClassifier(n_estimators=5, max_depth=None)\n",
        "rf1.fit(X_train, y_train.values.ravel())\n",
        "\n",
        "rf2 = RandomForestClassifier(n_estimators=50, max_depth=None)\n",
        "rf2.fit(X_train, y_train.values.ravel())\n",
        "\n",
        "rf3 = RandomForestClassifier(n_estimators=100, max_depth=None)\n",
        "rf3.fit(X_train, y_train.values.ravel())"
      ]
    },
    {
      "cell_type": "code",
      "execution_count": null,
      "metadata": {
        "id": "D6cSTp4UjkLR"
      },
      "outputs": [],
      "source": [
        "rf1_pred = rf1.predict(X_test)\n",
        "rf2_pred = rf2.predict(X_test)\n",
        "rf3_pred = rf3.predict(X_test)"
      ]
    },
    {
      "cell_type": "code",
      "execution_count": null,
      "metadata": {
        "id": "TLQE3IeRjp74",
        "colab": {
          "base_uri": "https://localhost:8080/"
        },
        "outputId": "d7bbf0e6-bb5c-4b4b-ceb7-c05c893bffbd"
      },
      "outputs": [
        {
          "output_type": "stream",
          "name": "stdout",
          "text": [
            "              precision    recall  f1-score   support\n",
            "\n",
            "        ADHD       0.27      0.81      0.41       900\n",
            "     anxiety       0.40      0.14      0.21       900\n",
            "      autism       0.44      0.14      0.21       900\n",
            "  depression       0.49      0.20      0.28       900\n",
            "\n",
            "    accuracy                           0.32      3600\n",
            "   macro avg       0.40      0.32      0.28      3600\n",
            "weighted avg       0.40      0.32      0.28      3600\n",
            "\n",
            "              precision    recall  f1-score   support\n",
            "\n",
            "        ADHD       0.39      0.16      0.22       900\n",
            "     anxiety       0.43      0.16      0.24       900\n",
            "      autism       0.28      0.78      0.42       900\n",
            "  depression       0.48      0.22      0.31       900\n",
            "\n",
            "    accuracy                           0.33      3600\n",
            "   macro avg       0.40      0.33      0.30      3600\n",
            "weighted avg       0.40      0.33      0.30      3600\n",
            "\n",
            "              precision    recall  f1-score   support\n",
            "\n",
            "        ADHD       0.41      0.16      0.23       900\n",
            "     anxiety       0.44      0.17      0.24       900\n",
            "      autism       0.29      0.78      0.42       900\n",
            "  depression       0.49      0.24      0.32       900\n",
            "\n",
            "    accuracy                           0.34      3600\n",
            "   macro avg       0.40      0.34      0.30      3600\n",
            "weighted avg       0.40      0.34      0.30      3600\n",
            "\n"
          ]
        }
      ],
      "source": [
        "print(classification_report(y_test, rf1_pred))\n",
        "print(classification_report(y_test, rf2_pred))\n",
        "print(classification_report(y_test, rf3_pred))"
      ]
    },
    {
      "cell_type": "markdown",
      "metadata": {
        "id": "CGC3lHH_j1ZV"
      },
      "source": [
        "# Result\n",
        "rf3 gave the optimal prdiction having **n_estimators**=100, and **max_depth**=None"
      ]
    },
    {
      "cell_type": "markdown",
      "source": [
        "## Support Vector Machine  Pipeline"
      ],
      "metadata": {
        "id": "dZLiwQO2ZZRI"
      }
    },
    {
      "cell_type": "code",
      "source": [
        "svm = SVC()\n",
        "svm_model = svm.fit(X_train, y_train.values.ravel())\n",
        "\n",
        "# Prediction with Test data\n",
        "y_pred_svm = svm_model.predict(X_test)"
      ],
      "metadata": {
        "id": "W-4yJN8MaQCD"
      },
      "execution_count": null,
      "outputs": []
    },
    {
      "cell_type": "code",
      "source": [
        "print(classification_report(y_test, y_pred_svm))"
      ],
      "metadata": {
        "id": "Uo-oA__2ahYf",
        "colab": {
          "base_uri": "https://localhost:8080/"
        },
        "outputId": "efd3f9b8-275a-420d-ea00-3f13047a4830"
      },
      "execution_count": null,
      "outputs": [
        {
          "output_type": "stream",
          "name": "stdout",
          "text": [
            "              precision    recall  f1-score   support\n",
            "\n",
            "        ADHD       0.43      0.10      0.16       900\n",
            "     anxiety       0.40      0.11      0.17       900\n",
            "      autism       0.27      0.76      0.40       900\n",
            "  depression       0.38      0.26      0.31       900\n",
            "\n",
            "    accuracy                           0.31      3600\n",
            "   macro avg       0.37      0.31      0.26      3600\n",
            "weighted avg       0.37      0.31      0.26      3600\n",
            "\n"
          ]
        }
      ]
    },
    {
      "cell_type": "code",
      "source": [
        "confusion_matrix(y_test, y_pred_svm)"
      ],
      "metadata": {
        "colab": {
          "base_uri": "https://localhost:8080/"
        },
        "id": "h30tcBtcIGgm",
        "outputId": "73b4de4a-b604-4836-f95a-875136e40e45"
      },
      "execution_count": null,
      "outputs": [
        {
          "output_type": "execute_result",
          "data": {
            "text/plain": [
              "array([[ 86,  47, 649, 118],\n",
              "       [ 41,  99, 629, 131],\n",
              "       [ 36,  53, 688, 123],\n",
              "       [ 37,  46, 586, 231]])"
            ]
          },
          "metadata": {},
          "execution_count": 56
        }
      ]
    },
    {
      "cell_type": "markdown",
      "source": [
        "SVM Result\n",
        "Unigram ---> 54% Bigram ---> 43% Trigram ---> 31%"
      ],
      "metadata": {
        "id": "WItRgHEiLWuk"
      }
    },
    {
      "cell_type": "markdown",
      "source": [
        "## Naive Bayes Pipeline"
      ],
      "metadata": {
        "id": "tuxoWMc1sxyP"
      }
    },
    {
      "cell_type": "code",
      "source": [
        "nb = MultinomialNB()\n",
        "nb_model = nb.fit(X_train, y_train.values.ravel())\n",
        "\n",
        "# Prediction with Test data\n",
        "y_pred_nb = nb_model.predict(X_test)"
      ],
      "metadata": {
        "id": "RfZyeei4svk-"
      },
      "execution_count": null,
      "outputs": []
    },
    {
      "cell_type": "code",
      "source": [
        "print(classification_report(y_test, y_pred_nb))"
      ],
      "metadata": {
        "colab": {
          "base_uri": "https://localhost:8080/"
        },
        "id": "UtovLeWBtN6X",
        "outputId": "8509cd90-1c1f-42c4-bebb-9e958658d122"
      },
      "execution_count": null,
      "outputs": [
        {
          "output_type": "stream",
          "name": "stdout",
          "text": [
            "              precision    recall  f1-score   support\n",
            "\n",
            "        ADHD       0.28      0.77      0.41       900\n",
            "     anxiety       0.44      0.17      0.25       900\n",
            "      autism       0.45      0.16      0.23       900\n",
            "  depression       0.52      0.25      0.34       900\n",
            "\n",
            "    accuracy                           0.34      3600\n",
            "   macro avg       0.42      0.34      0.31      3600\n",
            "weighted avg       0.42      0.34      0.31      3600\n",
            "\n"
          ]
        }
      ]
    },
    {
      "cell_type": "code",
      "source": [
        "confusion_matrix(y_test, y_pred_nb)"
      ],
      "metadata": {
        "colab": {
          "base_uri": "https://localhost:8080/"
        },
        "id": "Tbis0CXGC0W4",
        "outputId": "d895f084-c033-4ef0-c4e1-659aa1128ab7"
      },
      "execution_count": null,
      "outputs": [
        {
          "output_type": "execute_result",
          "data": {
            "text/plain": [
              "array([[694,  70,  70,  66],\n",
              "       [614, 155,  58,  73],\n",
              "       [630,  62, 141,  67],\n",
              "       [568,  68,  41, 223]])"
            ]
          },
          "metadata": {},
          "execution_count": 31
        }
      ]
    },
    {
      "cell_type": "markdown",
      "source": [
        "Naive Bayes Result Unigram ---> 53% Bigram ---> 44% Trigram ---> 31%"
      ],
      "metadata": {
        "id": "gEstWeUQtuWL"
      }
    },
    {
      "cell_type": "markdown",
      "metadata": {
        "id": "iam-V26n3rOo"
      },
      "source": [
        "## **Deep Learning Approach**"
      ]
    },
    {
      "cell_type": "code",
      "execution_count": null,
      "metadata": {
        "id": "j4uyE0rT8a5S"
      },
      "outputs": [],
      "source": [
        "#from keras.preprocessing.text import Tokenizer\n",
        "#from tensorflow.keras.preprocessing.sequence import pad_sequences\n",
        "\n",
        "from keras.models import Sequential\n",
        "from keras.layers import LSTM,Dense,Dropout,Embedding,CuDNNLSTM,Bidirectional\n",
        "from keras.preprocessing.text import Tokenizer\n",
        "from keras.preprocessing.sequence import pad_sequences\n",
        "from tqdm import tqdm\n",
        "import matplotlib.pyplot as plt\n",
        "import seaborn as sns\n",
        "%matplotlib inline"
      ]
    },
    {
      "cell_type": "code",
      "execution_count": null,
      "metadata": {
        "id": "i0dcuHsf7rhD"
      },
      "outputs": [],
      "source": [
        "# Changing class labels to numeric for Recurrent Neural Network\n",
        "mhsu_balanced.label[mhsu_balanced.label == 'ADHD'] = 1\n",
        "mhsu_balanced.label[mhsu_balanced.label == 'anxiety'] = 2\n",
        "mhsu_balanced.label[mhsu_balanced.label == 'autism'] = 3\n",
        "mhsu_balanced.label[mhsu_balanced.label == 'depression'] = 4"
      ]
    },
    {
      "cell_type": "code",
      "execution_count": null,
      "metadata": {
        "id": "d80OhuXZ3uHI"
      },
      "outputs": [],
      "source": [
        "x = mhsu_balanced['clean_text']\n",
        "#y = mhsu_balanced['label']\n",
        "y = np.asarray(mhsu_balanced['label']).astype(np.float32)"
      ]
    },
    {
      "cell_type": "code",
      "execution_count": null,
      "metadata": {
        "id": "pqnGCSxg8GOY",
        "colab": {
          "base_uri": "https://localhost:8080/"
        },
        "outputId": "f52dbcca-fd56-47cd-ed5c-5f16bb5eef8f"
      },
      "outputs": [
        {
          "output_type": "execute_result",
          "data": {
            "text/plain": [
              "31579    trying join discord servers make new friends u...\n",
              "32895    stop worrying thinking severe health anxiety o...\n",
              "44954                                may gerd lol imma see\n",
              "39341    want break contact nagging urge write text mes...\n",
              "39009    grad school went years college never made clos...\n",
              "                               ...                        \n",
              "7650     ill go first proctor ingram whitechapel charli...\n",
              "9889     developed fucking eating disorder im fucking t...\n",
              "9266     hey may dumb question sudden got really itchy ...\n",
              "7880     literally fucking kill gotten circle friends e...\n",
              "7860     hypermobility getting bad stand anymore need s...\n",
              "Name: clean_text, Length: 18000, dtype: object"
            ]
          },
          "metadata": {},
          "execution_count": 29
        }
      ],
      "source": [
        "x"
      ]
    },
    {
      "cell_type": "code",
      "execution_count": null,
      "metadata": {
        "id": "KqRlM4KX8Hno"
      },
      "outputs": [],
      "source": [
        "token = Tokenizer()\n",
        "token.fit_on_texts(x)\n",
        "seq = token.texts_to_sequences(x)"
      ]
    },
    {
      "cell_type": "code",
      "execution_count": null,
      "metadata": {
        "id": "nKwGnBM-8R6V"
      },
      "outputs": [],
      "source": [
        "pad_seq = pad_sequences(seq,maxlen=300)"
      ]
    },
    {
      "cell_type": "code",
      "execution_count": null,
      "metadata": {
        "id": "waJkj5Ku81xt"
      },
      "outputs": [],
      "source": [
        "vocab_size = len(token.word_index)+1"
      ]
    },
    {
      "cell_type": "code",
      "execution_count": null,
      "metadata": {
        "id": "SBM8Emfz84DI",
        "colab": {
          "base_uri": "https://localhost:8080/"
        },
        "outputId": "3b4eb25c-00fd-4276-eee3-155da355e787"
      },
      "outputs": [
        {
          "output_type": "stream",
          "name": "stderr",
          "text": [
            "2196018it [02:21, 15566.18it/s]\n"
          ]
        }
      ],
      "source": [
        "embedding_vector = {}\n",
        "f = open('/content/drive/MyDrive/Mindsum/glove.840B.300d.txt')\n",
        "for line in tqdm(f):\n",
        "    value = line.split(' ')\n",
        "    word = value[0]\n",
        "    coef = np.array(value[1:],dtype = 'float32')\n",
        "    embedding_vector[word] = coef"
      ]
    },
    {
      "cell_type": "code",
      "execution_count": null,
      "metadata": {
        "id": "P8wmod0TMhKQ",
        "colab": {
          "base_uri": "https://localhost:8080/"
        },
        "outputId": "e966904a-35a5-470c-effb-2b9769a64f15"
      },
      "outputs": [
        {
          "output_type": "stream",
          "name": "stderr",
          "text": [
            "100%|██████████| 47409/47409 [00:00<00:00, 431520.70it/s]\n"
          ]
        }
      ],
      "source": [
        "embedding_matrix = np.zeros((vocab_size,300))\n",
        "for word,i in tqdm(token.word_index.items()):\n",
        "    embedding_value = embedding_vector.get(word)\n",
        "    if embedding_value is not None:\n",
        "        embedding_matrix[i] = embedding_value"
      ]
    },
    {
      "cell_type": "code",
      "execution_count": null,
      "metadata": {
        "id": "X5L-msAxNYVS",
        "colab": {
          "base_uri": "https://localhost:8080/"
        },
        "outputId": "8422cdc4-c69a-46ae-e519-11ae51af150b"
      },
      "outputs": [
        {
          "output_type": "stream",
          "name": "stdout",
          "text": [
            "Epoch 1/10\n",
            "57/57 [==============================] - 6s 51ms/step - loss: 0.0000e+00 - accuracy: 0.3107 - val_loss: 0.0000e+00 - val_accuracy: 0.0000e+00\n",
            "Epoch 2/10\n",
            "57/57 [==============================] - 2s 35ms/step - loss: 0.0000e+00 - accuracy: 0.3125 - val_loss: 0.0000e+00 - val_accuracy: 0.0000e+00\n",
            "Epoch 3/10\n",
            "57/57 [==============================] - 2s 36ms/step - loss: 0.0000e+00 - accuracy: 0.3125 - val_loss: 0.0000e+00 - val_accuracy: 0.0000e+00\n",
            "Epoch 4/10\n",
            "57/57 [==============================] - 2s 35ms/step - loss: 0.0000e+00 - accuracy: 0.3125 - val_loss: 0.0000e+00 - val_accuracy: 0.0000e+00\n",
            "Epoch 5/10\n",
            "57/57 [==============================] - 2s 35ms/step - loss: 0.0000e+00 - accuracy: 0.3125 - val_loss: 0.0000e+00 - val_accuracy: 0.0000e+00\n",
            "Epoch 6/10\n",
            "57/57 [==============================] - 2s 35ms/step - loss: 0.0000e+00 - accuracy: 0.3125 - val_loss: 0.0000e+00 - val_accuracy: 0.0000e+00\n",
            "Epoch 7/10\n",
            "57/57 [==============================] - 2s 35ms/step - loss: 0.0000e+00 - accuracy: 0.3125 - val_loss: 0.0000e+00 - val_accuracy: 0.0000e+00\n",
            "Epoch 8/10\n",
            "57/57 [==============================] - 2s 36ms/step - loss: 0.0000e+00 - accuracy: 0.3125 - val_loss: 0.0000e+00 - val_accuracy: 0.0000e+00\n",
            "Epoch 9/10\n",
            "57/57 [==============================] - 3s 45ms/step - loss: 0.0000e+00 - accuracy: 0.3125 - val_loss: 0.0000e+00 - val_accuracy: 0.0000e+00\n",
            "Epoch 10/10\n",
            "57/57 [==============================] - 3s 47ms/step - loss: 0.0000e+00 - accuracy: 0.3125 - val_loss: 0.0000e+00 - val_accuracy: 0.0000e+00\n"
          ]
        }
      ],
      "source": [
        "model = Sequential()\n",
        "model.add(Embedding(vocab_size,300,weights = [embedding_matrix],input_length=300,trainable = False))\n",
        "model.add(Bidirectional(LSTM(32, dropout= 0, recurrent_dropout=0)))\n",
        "#model.add(LSTM(32, dropout= 0, recurrent_dropout=0))\n",
        "model.add(Dense(32,activation = 'relu'))\n",
        "model.add(Dense(1,activation = 'sigmoid'))\n",
        "model.compile(optimizer='adam',loss='categorical_crossentropy',metrics = ['accuracy'])\n",
        "history = model.fit(pad_seq,y,epochs = 10,batch_size=256,validation_split=0.2)"
      ]
    },
    {
      "cell_type": "markdown",
      "metadata": {
        "id": "sdXuIhR9eUlz"
      },
      "source": [
        "RNN for 4500 posts\n",
        "Accuracy ---> 31.25%"
      ]
    },
    {
      "cell_type": "markdown",
      "source": [
        "## **Ensemble Building**\n",
        "\n"
      ],
      "metadata": {
        "id": "92-T6W2HujTY"
      }
    },
    {
      "cell_type": "code",
      "execution_count": null,
      "metadata": {
        "id": "CRO_SusdUHC4"
      },
      "outputs": [],
      "source": [
        "from nltk.metrics.scores import accuracy\n",
        "import time\n",
        "bag_model = BaggingClassifier()\n",
        "\n",
        "start = time.ctime()\n",
        "\n",
        "cv = RepeatedStratifiedKFold(n_splits=5, n_repeats=2, random_state=42)\n",
        "score = cross_val_score(bag_model, X_train, y_train, scoring=\"accuracy\", cv=cv, n_jobs=-1)\n",
        "print(f\"Mean Accuracy: {np.mean(score):.3f}\\nRun time:{(time() - start): .3f}s\")\n",
        "\n",
        "\n"
      ]
    },
    {
      "cell_type": "code",
      "source": [
        "from sklearn.tree import DecisionTreeClassifier\n",
        "\n",
        "tree = DecisionTreeClassifier(random_state = 0)\n",
        "# fitting the model\n",
        "tree = tree.fit(X_train, y_train)\n",
        "# Predicting the training set\n",
        "y_train_pred = tree.predict(X_train)\n",
        "# Predicting the test set\n",
        "y_test_pred = tree.predict(X_test)\n",
        "\n",
        "\n",
        "print(accuracy_score(y_train, y_train_pred))\n",
        "print(accuracy_score(y_test, y_test_pred))\n"
      ],
      "metadata": {
        "colab": {
          "base_uri": "https://localhost:8080/"
        },
        "id": "J6g8cPEVns4t",
        "outputId": "91cdd1ef-6567-4910-b8f1-12f3e7ffcbe1"
      },
      "execution_count": null,
      "outputs": [
        {
          "output_type": "stream",
          "name": "stdout",
          "text": [
            "0.5302777777777777\n",
            "0.3175\n"
          ]
        }
      ]
    },
    {
      "cell_type": "code",
      "source": [
        "print(classification_report(y_train, y_train_pred))\n",
        "print(classification_report(y_test, y_test_pred))"
      ],
      "metadata": {
        "colab": {
          "base_uri": "https://localhost:8080/"
        },
        "id": "euhUNpBAKpFA",
        "outputId": "a55d2f12-a2a0-441e-9fa8-ba7e9a5dbbe4"
      },
      "execution_count": null,
      "outputs": [
        {
          "output_type": "stream",
          "name": "stdout",
          "text": [
            "              precision    recall  f1-score   support\n",
            "\n",
            "        ADHD       0.83      0.39      0.53      3600\n",
            "     anxiety       0.90      0.37      0.52      3600\n",
            "      autism       0.35      0.96      0.52      3600\n",
            "  depression       0.98      0.40      0.57      3600\n",
            "\n",
            "    accuracy                           0.53     14400\n",
            "   macro avg       0.77      0.53      0.54     14400\n",
            "weighted avg       0.77      0.53      0.54     14400\n",
            "\n",
            "              precision    recall  f1-score   support\n",
            "\n",
            "        ADHD       0.39      0.14      0.21       900\n",
            "     anxiety       0.42      0.13      0.20       900\n",
            "      autism       0.28      0.81      0.41       900\n",
            "  depression       0.48      0.18      0.27       900\n",
            "\n",
            "    accuracy                           0.32      3600\n",
            "   macro avg       0.39      0.32      0.27      3600\n",
            "weighted avg       0.39      0.32      0.27      3600\n",
            "\n"
          ]
        }
      ]
    },
    {
      "cell_type": "code",
      "source": [
        "BaggingClassifier().get_params()"
      ],
      "metadata": {
        "colab": {
          "base_uri": "https://localhost:8080/"
        },
        "id": "zL-Zs3CENAS6",
        "outputId": "eb37e5bd-ab49-4ed8-ef43-644ddfde6271"
      },
      "execution_count": null,
      "outputs": [
        {
          "output_type": "execute_result",
          "data": {
            "text/plain": [
              "{'base_estimator': None,\n",
              " 'bootstrap': True,\n",
              " 'bootstrap_features': False,\n",
              " 'max_features': 1.0,\n",
              " 'max_samples': 1.0,\n",
              " 'n_estimators': 10,\n",
              " 'n_jobs': None,\n",
              " 'oob_score': False,\n",
              " 'random_state': None,\n",
              " 'verbose': 0,\n",
              " 'warm_start': False}"
            ]
          },
          "metadata": {},
          "execution_count": 31
        }
      ]
    },
    {
      "cell_type": "code",
      "source": [
        "from sklearn.ensemble import BaggingClassifier\n",
        "bag_model = BaggingClassifier(\n",
        "          base_estimator=LogisticRegression (),\n",
        "          n_estimators=100,\n",
        "          random_state=0)\n",
        "bag_model.fit(X_train, y_train.values.ravel())\n",
        "\n",
        "# Predicting the test set\n",
        "y_test_bag = bag_model.predict(X_test)\n",
        "\n",
        "classification_report(y_test, y_test_bag)"
      ],
      "metadata": {
        "id": "qF11jiMVej7p"
      },
      "execution_count": null,
      "outputs": []
    },
    {
      "cell_type": "code",
      "source": [
        "print(classification_report(y_test, y_test_bag))"
      ],
      "metadata": {
        "id": "nWx0UVushZwc",
        "colab": {
          "base_uri": "https://localhost:8080/"
        },
        "outputId": "fb034e5a-8a95-41e6-9893-ab99d265a0ac"
      },
      "execution_count": null,
      "outputs": [
        {
          "output_type": "stream",
          "name": "stdout",
          "text": [
            "              precision    recall  f1-score   support\n",
            "\n",
            "        ADHD       0.41      0.16      0.23       900\n",
            "     anxiety       0.43      0.16      0.24       900\n",
            "      autism       0.29      0.78      0.42       900\n",
            "  depression       0.51      0.25      0.33       900\n",
            "\n",
            "    accuracy                           0.34      3600\n",
            "   macro avg       0.41      0.34      0.31      3600\n",
            "weighted avg       0.41      0.34      0.31      3600\n",
            "\n"
          ]
        }
      ]
    },
    {
      "cell_type": "code",
      "source": [
        "confusion_matrix(y_test, y_test_bag)"
      ],
      "metadata": {
        "colab": {
          "base_uri": "https://localhost:8080/"
        },
        "id": "U0AihEd3AiH1",
        "outputId": "6165b3f8-6f4f-48cc-9f6a-adb9f6890675"
      },
      "execution_count": null,
      "outputs": [
        {
          "output_type": "execute_result",
          "data": {
            "text/plain": [
              "array([[148,  64, 620,  68],\n",
              "       [ 78, 148, 597,  77],\n",
              "       [ 70,  60, 701,  69],\n",
              "       [ 69,  70, 537, 224]])"
            ]
          },
          "metadata": {},
          "execution_count": 26
        }
      ]
    },
    {
      "cell_type": "code",
      "source": [
        "from sklearn.ensemble import BaggingClassifier\n",
        "\n",
        "bag_model = BaggingClassifier(\n",
        "          base_estimator=nb_model,\n",
        "          n_estimators=100,\n",
        "          random_state=0)\n",
        "\n",
        "bag_model.fit(X_train, y_train.values.ravel())\n",
        "\n",
        "# Predicting the training set\n",
        "y_train_bag = bag_model.predict(X_train)\n",
        "# Predicting the test set\n",
        "y_test_bag = bag_model.predict(X_test)\n",
        "\n",
        "accuracy_score(y_train, y_train_bag)\n",
        "accuracy_score(y_test, y_test_bag)"
      ],
      "metadata": {
        "colab": {
          "base_uri": "https://localhost:8080/"
        },
        "id": "SzGcckcCBWn5",
        "outputId": "aad2e465-4b36-4efa-cb3b-b1309551300c"
      },
      "execution_count": null,
      "outputs": [
        {
          "output_type": "execute_result",
          "data": {
            "text/plain": [
              "0.33611111111111114"
            ]
          },
          "metadata": {},
          "execution_count": 36
        }
      ]
    },
    {
      "cell_type": "code",
      "source": [
        "print(classification_report(y_test, y_test_bag))"
      ],
      "metadata": {
        "colab": {
          "base_uri": "https://localhost:8080/"
        },
        "id": "lzBqH9M5JpYF",
        "outputId": "6e68fc44-bea2-4c25-8df3-059764aead62"
      },
      "execution_count": null,
      "outputs": [
        {
          "output_type": "stream",
          "name": "stdout",
          "text": [
            "              precision    recall  f1-score   support\n",
            "\n",
            "        ADHD       0.28      0.77      0.41       900\n",
            "     anxiety       0.43      0.17      0.24       900\n",
            "      autism       0.46      0.16      0.24       900\n",
            "  depression       0.52      0.25      0.33       900\n",
            "\n",
            "    accuracy                           0.34      3600\n",
            "   macro avg       0.42      0.34      0.31      3600\n",
            "weighted avg       0.42      0.34      0.31      3600\n",
            "\n"
          ]
        }
      ]
    },
    {
      "cell_type": "code",
      "source": [
        "confusion_matrix(y_test, y_test_bag)"
      ],
      "metadata": {
        "colab": {
          "base_uri": "https://localhost:8080/"
        },
        "id": "AaOsp9w-JqHc",
        "outputId": "7e2bb44a-caa4-4ace-fa64-4f1b7890f959"
      },
      "execution_count": null,
      "outputs": [
        {
          "output_type": "execute_result",
          "data": {
            "text/plain": [
              "array([[691,  68,  71,  70],\n",
              "       [615, 150,  58,  77],\n",
              "       [627,  64, 146,  63],\n",
              "       [566,  69,  42, 223]])"
            ]
          },
          "metadata": {},
          "execution_count": 38
        }
      ]
    },
    {
      "cell_type": "code",
      "source": [
        "from sklearn.ensemble import BaggingClassifier\n",
        "\n",
        "bag_model = BaggingClassifier(\n",
        "          base_estimator=rf_model,\n",
        "          n_estimators=100,\n",
        "          random_state=0)\n",
        "\n",
        "bag_model.fit(X_train, y_train.values.ravel())\n",
        "\n",
        "# Predicting the training set\n",
        "y_train_bag = bag_model.predict(X_train)\n",
        "# Predicting the test set\n",
        "y_test_bag = bag_model.predict(X_test)\n",
        "\n",
        "accuracy_score(y_train, y_train_bag)\n",
        "accuracy_score(y_test, y_test_bag)"
      ],
      "metadata": {
        "colab": {
          "base_uri": "https://localhost:8080/"
        },
        "id": "hmuUUcp4KbUS",
        "outputId": "9986775c-7e9a-4984-d2c5-520b56403f21"
      },
      "execution_count": null,
      "outputs": [
        {
          "output_type": "execute_result",
          "data": {
            "text/plain": [
              "0.3386111111111111"
            ]
          },
          "metadata": {},
          "execution_count": 44
        }
      ]
    },
    {
      "cell_type": "code",
      "source": [
        "print(classification_report(y_test, y_test_bag))"
      ],
      "metadata": {
        "colab": {
          "base_uri": "https://localhost:8080/"
        },
        "id": "vUUgnQu9LgSE",
        "outputId": "16e2c78a-6735-424c-ea4d-7bd55f3065a1"
      },
      "execution_count": null,
      "outputs": [
        {
          "output_type": "stream",
          "name": "stdout",
          "text": [
            "              precision    recall  f1-score   support\n",
            "\n",
            "        ADHD       0.40      0.16      0.23       900\n",
            "     anxiety       0.44      0.16      0.24       900\n",
            "      autism       0.29      0.79      0.42       900\n",
            "  depression       0.50      0.24      0.33       900\n",
            "\n",
            "    accuracy                           0.34      3600\n",
            "   macro avg       0.41      0.34      0.30      3600\n",
            "weighted avg       0.41      0.34      0.30      3600\n",
            "\n"
          ]
        }
      ]
    },
    {
      "cell_type": "code",
      "source": [],
      "metadata": {
        "id": "C3P_QqdWPCn7"
      },
      "execution_count": null,
      "outputs": []
    }
  ],
  "metadata": {
    "accelerator": "GPU",
    "colab": {
      "provenance": [],
      "collapsed_sections": [
        "dVhm2bh0IVkD",
        "FSAdacXcT5zF",
        "dZLiwQO2ZZRI",
        "tuxoWMc1sxyP",
        "iam-V26n3rOo"
      ]
    },
    "gpuClass": "standard",
    "kernelspec": {
      "display_name": "Python 3",
      "name": "python3"
    },
    "language_info": {
      "name": "python"
    }
  },
  "nbformat": 4,
  "nbformat_minor": 0
}
