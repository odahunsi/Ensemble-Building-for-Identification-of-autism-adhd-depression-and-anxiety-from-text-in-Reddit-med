{
  "cells": [
    {
      "cell_type": "markdown",
      "source": [
        "## Scraping from Reddit with Reddit API"
      ],
      "metadata": {
        "id": "tJenoDoIrEz_"
      }
    },
    {
      "cell_type": "code",
      "source": [
        "!pip install praw"
      ],
      "metadata": {
        "colab": {
          "base_uri": "https://localhost:8080/"
        },
        "id": "ZaX94zVEnU8e",
        "outputId": "f995283d-b6b7-48bb-bf4b-4723c687fdd3"
      },
      "execution_count": null,
      "outputs": [
        {
          "output_type": "stream",
          "name": "stdout",
          "text": [
            "Looking in indexes: https://pypi.org/simple, https://us-python.pkg.dev/colab-wheels/public/simple/\n",
            "Collecting praw\n",
            "  Downloading praw-7.6.0-py3-none-any.whl (188 kB)\n",
            "\u001b[K     |████████████████████████████████| 188 kB 7.5 MB/s \n",
            "\u001b[?25hCollecting websocket-client>=0.54.0\n",
            "  Downloading websocket_client-1.4.1-py3-none-any.whl (55 kB)\n",
            "\u001b[K     |████████████████████████████████| 55 kB 3.8 MB/s \n",
            "\u001b[?25hCollecting update-checker>=0.18\n",
            "  Downloading update_checker-0.18.0-py3-none-any.whl (7.0 kB)\n",
            "Collecting prawcore<3,>=2.1\n",
            "  Downloading prawcore-2.3.0-py3-none-any.whl (16 kB)\n",
            "Requirement already satisfied: requests<3.0,>=2.6.0 in /usr/local/lib/python3.7/dist-packages (from prawcore<3,>=2.1->praw) (2.23.0)\n",
            "Requirement already satisfied: chardet<4,>=3.0.2 in /usr/local/lib/python3.7/dist-packages (from requests<3.0,>=2.6.0->prawcore<3,>=2.1->praw) (3.0.4)\n",
            "Requirement already satisfied: certifi>=2017.4.17 in /usr/local/lib/python3.7/dist-packages (from requests<3.0,>=2.6.0->prawcore<3,>=2.1->praw) (2022.6.15)\n",
            "Requirement already satisfied: urllib3!=1.25.0,!=1.25.1,<1.26,>=1.21.1 in /usr/local/lib/python3.7/dist-packages (from requests<3.0,>=2.6.0->prawcore<3,>=2.1->praw) (1.24.3)\n",
            "Requirement already satisfied: idna<3,>=2.5 in /usr/local/lib/python3.7/dist-packages (from requests<3.0,>=2.6.0->prawcore<3,>=2.1->praw) (2.10)\n",
            "Installing collected packages: websocket-client, update-checker, prawcore, praw\n",
            "Successfully installed praw-7.6.0 prawcore-2.3.0 update-checker-0.18.0 websocket-client-1.4.1\n"
          ]
        }
      ]
    },
    {
      "cell_type": "code",
      "source": [
        "import praw\n",
        "import pandas as pd\n",
        "\n",
        "user_agent = \"Resddit Scraper by /u/tobbydah\"\n",
        "reddit = praw.Reddit(\n",
        "    client_id = \"xxxxxxxxxxxxxxx\",\n",
        "    client_secret = \"xxxxxxxxxxxxxxxxxxxxxxxxx\",\n",
        "    user_agent = user_agent\n",
        ")"
      ],
      "metadata": {
        "id": "_09qxy-pnvyZ"
      },
      "execution_count": null,
      "outputs": []
    },
    {
      "cell_type": "code",
      "source": [
        "# hot new rising top\n",
        "import pandas as pd\n",
        "headlines = []\n",
        "\n",
        "# Scraping subreddit for Autism\n",
        "for submission in reddit.subreddit('autism').hot(limit=None):\n",
        "    headlines.append([submission.title, submission.score, submission.id, submission.author, submission.subreddit, \n",
        "                      submission.url, submission.num_comments, submission.selftext, submission.created, submission.created_utc])\n",
        "\n",
        "autism_df = pd.DataFrame(headlines, \n",
        "                         columns=['title', 'score', 'id', 'author', 'subreddit', 'url', 'num_comments', 'body', 'created', 'created_utc'])\n",
        "\n",
        "# Scraping subreddit for Depression\n",
        "for submission in reddit.subreddit('depression').hot(limit=None):\n",
        "    headlines.append([submission.title, submission.score, submission.id, submission.author, submission.subreddit, \n",
        "                      submission.url, submission.num_comments, submission.selftext, submission.created, submission.created_utc])\n",
        "\n",
        "depression_df = pd.DataFrame(headlines, \n",
        "                         columns=['title', 'score', 'id', 'author', 'subreddit', 'url', 'num_comments', 'body', 'created', 'created_utc'])\n",
        "\n",
        "# Scraping subreddit for ADHD\n",
        "for submission in reddit.subreddit('ADHD').hot(limit=None):\n",
        "    headlines.append([submission.title, submission.score, submission.id, submission.author, submission.subreddit, \n",
        "                      submission.url, submission.num_comments, submission.selftext, submission.created, submission.created_utc])\n",
        "\n",
        "adhd_df = pd.DataFrame(headlines, \n",
        "                         columns=['title', 'score', 'id', 'author', 'subreddit', 'url', 'num_comments', 'body', 'created', 'created_utc'])\n",
        "\n",
        "# Scraping subreddit for Anxiety\n",
        "for submission in reddit.subreddit('anxiety').hot(limit=None):\n",
        "    headlines.append([submission.title, submission.score, submission.id, submission.author, submission.subreddit, \n",
        "                      submission.url, submission.num_comments, submission.selftext, submission.created, submission.created_utc])\n",
        "\n",
        "anxiety_df = pd.DataFrame(headlines, \n",
        "                         columns=['title', 'score', 'id', 'author', 'subreddit', 'url', 'num_comments', 'body', 'created', 'created_utc'])\n",
        "\n",
        "\n",
        "#Joining the four subreddits and saving data to a single CSV\n",
        "mental_health_categories = pd.concat([autism_df, adhd_df, anxiety_df, depression_df])\n",
        "#mental_health_categories.to_csv('C:/Users/USER/Downloads/Data Science/MindSum/Reddit Dataset/mental_health_categories_new4.csv', header=True, encoding='utf-8', index=False)\n",
        "\n",
        "#print(len(headlines))"
      ],
      "metadata": {
        "id": "0aqSgIpxnxtq"
      },
      "execution_count": null,
      "outputs": []
    },
    {
      "cell_type": "code",
      "source": [
        "mental_health_categories"
      ],
      "metadata": {
        "colab": {
          "base_uri": "https://localhost:8080/",
          "height": 1000
        },
        "id": "eie32YAxokz7",
        "outputId": "0ab5aa1a-fe2b-4c28-debe-92610c023565"
      },
      "execution_count": null,
      "outputs": [
        {
          "output_type": "execute_result",
          "data": {
            "text/plain": [
              "                                                  title  score      id  \\\n",
              "0     Let’s talk about ABA therapy. ABA posts outsid...    740  ub3skp   \n",
              "1                                 Same Food Saturdays !     14  xgfgbg   \n",
              "2     What foods are like this to you guys? To me, i...   1654  xgrgte   \n",
              "3     Got to a point where the walls were shaking fr...    760  xgxevr   \n",
              "4                                          masking meme    113  xh2hz6   \n",
              "...                                                 ...    ...     ...   \n",
              "1957                       life is an everyday struggle      1  xe07a1   \n",
              "1958                                     very depressed      1  xe05x5   \n",
              "1959                                         How to cry      1  xdzvx1   \n",
              "1960                          aw shit, here we go again      1  xdzp3n   \n",
              "1961                                  i want to be done      3  xdrmo2   \n",
              "\n",
              "                 author   subreddit  \\\n",
              "0          cakeisatruth      autism   \n",
              "1            sybersonic      autism   \n",
              "2         Dimentiorules      autism   \n",
              "3              jwin1211      autism   \n",
              "4        RestlessMind95      autism   \n",
              "...                 ...         ...   \n",
              "1957            _Ithri_  depression   \n",
              "1958      OkBuilder8671  depression   \n",
              "1959          applirium  depression   \n",
              "1960  scream-in-thevoid  depression   \n",
              "1961          locustine  depression   \n",
              "\n",
              "                                                    url  num_comments  \\\n",
              "0     https://www.reddit.com/r/autism/comments/ub3sk...          1106   \n",
              "1     https://www.reddit.com/r/autism/comments/xgfgb...            18   \n",
              "2                   https://i.redd.it/enzbkhes7go91.jpg           476   \n",
              "3                   https://i.redd.it/qa4pljsufho91.jpg           101   \n",
              "4                   https://i.redd.it/pju3zwq6kio91.jpg             3   \n",
              "...                                                 ...           ...   \n",
              "1957  https://www.reddit.com/r/depression/comments/x...             1   \n",
              "1958  https://www.reddit.com/r/depression/comments/x...             0   \n",
              "1959  https://www.reddit.com/r/depression/comments/x...             0   \n",
              "1960  https://www.reddit.com/r/depression/comments/x...             0   \n",
              "1961  https://www.reddit.com/r/depression/comments/x...             3   \n",
              "\n",
              "                                                   body       created  \\\n",
              "0     ABA (Applied Behavior Analysis) therapy is one...  1.650833e+09   \n",
              "1     Most of us  consistency love consistency. Shar...  1.663398e+09   \n",
              "2                                                        1.663433e+09   \n",
              "3                                                        1.663448e+09   \n",
              "4                                                        1.663462e+09   \n",
              "...                                                 ...           ...   \n",
              "1957  Hey all, just wanted to share a bit what I'm g...  1.663157e+09   \n",
              "1958  Hello guys I wish to die tonight. \\nThis life ...  1.663157e+09   \n",
              "1959  I am asking for help, want to cry but i cannot...  1.663156e+09   \n",
              "1960  wish I had one day I could wake up and not hav...  1.663156e+09   \n",
              "1961  I don't want to keep posting how i feel yet i ...  1.663127e+09   \n",
              "\n",
              "       created_utc  \n",
              "0     1.650833e+09  \n",
              "1     1.663398e+09  \n",
              "2     1.663433e+09  \n",
              "3     1.663448e+09  \n",
              "4     1.663462e+09  \n",
              "...            ...  \n",
              "1957  1.663157e+09  \n",
              "1958  1.663157e+09  \n",
              "1959  1.663156e+09  \n",
              "1960  1.663156e+09  \n",
              "1961  1.663127e+09  \n",
              "\n",
              "[9472 rows x 10 columns]"
            ],
            "text/html": [
              "\n",
              "  <div id=\"df-a6fe77fb-7beb-43a2-8849-b7d7208d2ac8\">\n",
              "    <div class=\"colab-df-container\">\n",
              "      <div>\n",
              "<style scoped>\n",
              "    .dataframe tbody tr th:only-of-type {\n",
              "        vertical-align: middle;\n",
              "    }\n",
              "\n",
              "    .dataframe tbody tr th {\n",
              "        vertical-align: top;\n",
              "    }\n",
              "\n",
              "    .dataframe thead th {\n",
              "        text-align: right;\n",
              "    }\n",
              "</style>\n",
              "<table border=\"1\" class=\"dataframe\">\n",
              "  <thead>\n",
              "    <tr style=\"text-align: right;\">\n",
              "      <th></th>\n",
              "      <th>title</th>\n",
              "      <th>score</th>\n",
              "      <th>id</th>\n",
              "      <th>author</th>\n",
              "      <th>subreddit</th>\n",
              "      <th>url</th>\n",
              "      <th>num_comments</th>\n",
              "      <th>body</th>\n",
              "      <th>created</th>\n",
              "      <th>created_utc</th>\n",
              "    </tr>\n",
              "  </thead>\n",
              "  <tbody>\n",
              "    <tr>\n",
              "      <th>0</th>\n",
              "      <td>Let’s talk about ABA therapy. ABA posts outsid...</td>\n",
              "      <td>740</td>\n",
              "      <td>ub3skp</td>\n",
              "      <td>cakeisatruth</td>\n",
              "      <td>autism</td>\n",
              "      <td>https://www.reddit.com/r/autism/comments/ub3sk...</td>\n",
              "      <td>1106</td>\n",
              "      <td>ABA (Applied Behavior Analysis) therapy is one...</td>\n",
              "      <td>1.650833e+09</td>\n",
              "      <td>1.650833e+09</td>\n",
              "    </tr>\n",
              "    <tr>\n",
              "      <th>1</th>\n",
              "      <td>Same Food Saturdays !</td>\n",
              "      <td>14</td>\n",
              "      <td>xgfgbg</td>\n",
              "      <td>sybersonic</td>\n",
              "      <td>autism</td>\n",
              "      <td>https://www.reddit.com/r/autism/comments/xgfgb...</td>\n",
              "      <td>18</td>\n",
              "      <td>Most of us  consistency love consistency. Shar...</td>\n",
              "      <td>1.663398e+09</td>\n",
              "      <td>1.663398e+09</td>\n",
              "    </tr>\n",
              "    <tr>\n",
              "      <th>2</th>\n",
              "      <td>What foods are like this to you guys? To me, i...</td>\n",
              "      <td>1654</td>\n",
              "      <td>xgrgte</td>\n",
              "      <td>Dimentiorules</td>\n",
              "      <td>autism</td>\n",
              "      <td>https://i.redd.it/enzbkhes7go91.jpg</td>\n",
              "      <td>476</td>\n",
              "      <td></td>\n",
              "      <td>1.663433e+09</td>\n",
              "      <td>1.663433e+09</td>\n",
              "    </tr>\n",
              "    <tr>\n",
              "      <th>3</th>\n",
              "      <td>Got to a point where the walls were shaking fr...</td>\n",
              "      <td>760</td>\n",
              "      <td>xgxevr</td>\n",
              "      <td>jwin1211</td>\n",
              "      <td>autism</td>\n",
              "      <td>https://i.redd.it/qa4pljsufho91.jpg</td>\n",
              "      <td>101</td>\n",
              "      <td></td>\n",
              "      <td>1.663448e+09</td>\n",
              "      <td>1.663448e+09</td>\n",
              "    </tr>\n",
              "    <tr>\n",
              "      <th>4</th>\n",
              "      <td>masking meme</td>\n",
              "      <td>113</td>\n",
              "      <td>xh2hz6</td>\n",
              "      <td>RestlessMind95</td>\n",
              "      <td>autism</td>\n",
              "      <td>https://i.redd.it/pju3zwq6kio91.jpg</td>\n",
              "      <td>3</td>\n",
              "      <td></td>\n",
              "      <td>1.663462e+09</td>\n",
              "      <td>1.663462e+09</td>\n",
              "    </tr>\n",
              "    <tr>\n",
              "      <th>...</th>\n",
              "      <td>...</td>\n",
              "      <td>...</td>\n",
              "      <td>...</td>\n",
              "      <td>...</td>\n",
              "      <td>...</td>\n",
              "      <td>...</td>\n",
              "      <td>...</td>\n",
              "      <td>...</td>\n",
              "      <td>...</td>\n",
              "      <td>...</td>\n",
              "    </tr>\n",
              "    <tr>\n",
              "      <th>1957</th>\n",
              "      <td>life is an everyday struggle</td>\n",
              "      <td>1</td>\n",
              "      <td>xe07a1</td>\n",
              "      <td>_Ithri_</td>\n",
              "      <td>depression</td>\n",
              "      <td>https://www.reddit.com/r/depression/comments/x...</td>\n",
              "      <td>1</td>\n",
              "      <td>Hey all, just wanted to share a bit what I'm g...</td>\n",
              "      <td>1.663157e+09</td>\n",
              "      <td>1.663157e+09</td>\n",
              "    </tr>\n",
              "    <tr>\n",
              "      <th>1958</th>\n",
              "      <td>very depressed</td>\n",
              "      <td>1</td>\n",
              "      <td>xe05x5</td>\n",
              "      <td>OkBuilder8671</td>\n",
              "      <td>depression</td>\n",
              "      <td>https://www.reddit.com/r/depression/comments/x...</td>\n",
              "      <td>0</td>\n",
              "      <td>Hello guys I wish to die tonight. \\nThis life ...</td>\n",
              "      <td>1.663157e+09</td>\n",
              "      <td>1.663157e+09</td>\n",
              "    </tr>\n",
              "    <tr>\n",
              "      <th>1959</th>\n",
              "      <td>How to cry</td>\n",
              "      <td>1</td>\n",
              "      <td>xdzvx1</td>\n",
              "      <td>applirium</td>\n",
              "      <td>depression</td>\n",
              "      <td>https://www.reddit.com/r/depression/comments/x...</td>\n",
              "      <td>0</td>\n",
              "      <td>I am asking for help, want to cry but i cannot...</td>\n",
              "      <td>1.663156e+09</td>\n",
              "      <td>1.663156e+09</td>\n",
              "    </tr>\n",
              "    <tr>\n",
              "      <th>1960</th>\n",
              "      <td>aw shit, here we go again</td>\n",
              "      <td>1</td>\n",
              "      <td>xdzp3n</td>\n",
              "      <td>scream-in-thevoid</td>\n",
              "      <td>depression</td>\n",
              "      <td>https://www.reddit.com/r/depression/comments/x...</td>\n",
              "      <td>0</td>\n",
              "      <td>wish I had one day I could wake up and not hav...</td>\n",
              "      <td>1.663156e+09</td>\n",
              "      <td>1.663156e+09</td>\n",
              "    </tr>\n",
              "    <tr>\n",
              "      <th>1961</th>\n",
              "      <td>i want to be done</td>\n",
              "      <td>3</td>\n",
              "      <td>xdrmo2</td>\n",
              "      <td>locustine</td>\n",
              "      <td>depression</td>\n",
              "      <td>https://www.reddit.com/r/depression/comments/x...</td>\n",
              "      <td>3</td>\n",
              "      <td>I don't want to keep posting how i feel yet i ...</td>\n",
              "      <td>1.663127e+09</td>\n",
              "      <td>1.663127e+09</td>\n",
              "    </tr>\n",
              "  </tbody>\n",
              "</table>\n",
              "<p>9472 rows × 10 columns</p>\n",
              "</div>\n",
              "      <button class=\"colab-df-convert\" onclick=\"convertToInteractive('df-a6fe77fb-7beb-43a2-8849-b7d7208d2ac8')\"\n",
              "              title=\"Convert this dataframe to an interactive table.\"\n",
              "              style=\"display:none;\">\n",
              "        \n",
              "  <svg xmlns=\"http://www.w3.org/2000/svg\" height=\"24px\"viewBox=\"0 0 24 24\"\n",
              "       width=\"24px\">\n",
              "    <path d=\"M0 0h24v24H0V0z\" fill=\"none\"/>\n",
              "    <path d=\"M18.56 5.44l.94 2.06.94-2.06 2.06-.94-2.06-.94-.94-2.06-.94 2.06-2.06.94zm-11 1L8.5 8.5l.94-2.06 2.06-.94-2.06-.94L8.5 2.5l-.94 2.06-2.06.94zm10 10l.94 2.06.94-2.06 2.06-.94-2.06-.94-.94-2.06-.94 2.06-2.06.94z\"/><path d=\"M17.41 7.96l-1.37-1.37c-.4-.4-.92-.59-1.43-.59-.52 0-1.04.2-1.43.59L10.3 9.45l-7.72 7.72c-.78.78-.78 2.05 0 2.83L4 21.41c.39.39.9.59 1.41.59.51 0 1.02-.2 1.41-.59l7.78-7.78 2.81-2.81c.8-.78.8-2.07 0-2.86zM5.41 20L4 18.59l7.72-7.72 1.47 1.35L5.41 20z\"/>\n",
              "  </svg>\n",
              "      </button>\n",
              "      \n",
              "  <style>\n",
              "    .colab-df-container {\n",
              "      display:flex;\n",
              "      flex-wrap:wrap;\n",
              "      gap: 12px;\n",
              "    }\n",
              "\n",
              "    .colab-df-convert {\n",
              "      background-color: #E8F0FE;\n",
              "      border: none;\n",
              "      border-radius: 50%;\n",
              "      cursor: pointer;\n",
              "      display: none;\n",
              "      fill: #1967D2;\n",
              "      height: 32px;\n",
              "      padding: 0 0 0 0;\n",
              "      width: 32px;\n",
              "    }\n",
              "\n",
              "    .colab-df-convert:hover {\n",
              "      background-color: #E2EBFA;\n",
              "      box-shadow: 0px 1px 2px rgba(60, 64, 67, 0.3), 0px 1px 3px 1px rgba(60, 64, 67, 0.15);\n",
              "      fill: #174EA6;\n",
              "    }\n",
              "\n",
              "    [theme=dark] .colab-df-convert {\n",
              "      background-color: #3B4455;\n",
              "      fill: #D2E3FC;\n",
              "    }\n",
              "\n",
              "    [theme=dark] .colab-df-convert:hover {\n",
              "      background-color: #434B5C;\n",
              "      box-shadow: 0px 1px 3px 1px rgba(0, 0, 0, 0.15);\n",
              "      filter: drop-shadow(0px 1px 2px rgba(0, 0, 0, 0.3));\n",
              "      fill: #FFFFFF;\n",
              "    }\n",
              "  </style>\n",
              "\n",
              "      <script>\n",
              "        const buttonEl =\n",
              "          document.querySelector('#df-a6fe77fb-7beb-43a2-8849-b7d7208d2ac8 button.colab-df-convert');\n",
              "        buttonEl.style.display =\n",
              "          google.colab.kernel.accessAllowed ? 'block' : 'none';\n",
              "\n",
              "        async function convertToInteractive(key) {\n",
              "          const element = document.querySelector('#df-a6fe77fb-7beb-43a2-8849-b7d7208d2ac8');\n",
              "          const dataTable =\n",
              "            await google.colab.kernel.invokeFunction('convertToInteractive',\n",
              "                                                     [key], {});\n",
              "          if (!dataTable) return;\n",
              "\n",
              "          const docLinkHtml = 'Like what you see? Visit the ' +\n",
              "            '<a target=\"_blank\" href=https://colab.research.google.com/notebooks/data_table.ipynb>data table notebook</a>'\n",
              "            + ' to learn more about interactive tables.';\n",
              "          element.innerHTML = '';\n",
              "          dataTable['output_type'] = 'display_data';\n",
              "          await google.colab.output.renderOutput(dataTable, element);\n",
              "          const docLink = document.createElement('div');\n",
              "          docLink.innerHTML = docLinkHtml;\n",
              "          element.appendChild(docLink);\n",
              "        }\n",
              "      </script>\n",
              "    </div>\n",
              "  </div>\n",
              "  "
            ]
          },
          "metadata": {},
          "execution_count": 5
        }
      ]
    },
    {
      "cell_type": "code",
      "source": [
        "# mental_health_categories['pattern_match'] = mental_health_categories['body'].str.contains('rest of it being useless')\n",
        "# mental_health_categories\n",
        "\n",
        "# Searching using specific key words indicating a post has a form of mental health condition according to insight taken from\n",
        "# mental health symptoms specified in ICD-11 document\n",
        "\n",
        "recent_diagnosis = mental_health_categories[mental_health_categories['body'].str.contains('recently diagnosed')==True]\n",
        "tired_of_life = mental_health_categories[mental_health_categories['body'].str.contains('tired of life')==True]\n",
        "kill_myself = mental_health_categories[mental_health_categories['body'].str.contains('will kill myself')==True]\n",
        "depressed = mental_health_categories[mental_health_categories['body'].str.contains('am depressed')==True]\n",
        "meaningless_life = mental_health_categories[mental_health_categories['body'].str.contains(r'life is meaningless')==True]\n",
        "feeling_sad = mental_health_categories[mental_health_categories['body'].str.contains(r'feeling sad')==True]\n",
        "guilty = mental_health_categories[mental_health_categories['body'].str.contains(r'feel guilty')==True]\n",
        "confused = mental_health_categories[mental_health_categories['body'].str.contains(r'am confused')==True]\n",
        "cannot_sleep = mental_health_categories[mental_health_categories['body'].str.contains(r\"can't sleep\")==True]\n",
        "cannot_understand = mental_health_categories[mental_health_categories['body'].str.contains(r\"can't understand\")==True]\n",
        "worthless = mental_health_categories[mental_health_categories['body'].str.contains(r\"worthless\")==True]\n",
        "traumatized = mental_health_categories[mental_health_categories['body'].str.contains(r\"traumatized\")==True]\n",
        "worry = mental_health_categories[mental_health_categories['body'].str.contains(r\"worried\")==True]\n",
        "anxious = mental_health_categories[mental_health_categories['body'].str.contains(r\"anxious\")==True]\n",
        "ashamed = mental_health_categories[mental_health_categories['body'].str.contains(r\"ashamed\")==True]\n",
        "mental_breakdown = mental_health_categories[mental_health_categories['body'].str.contains(r\"mental breakdown\")==True]\n",
        "lonely = mental_health_categories[mental_health_categories['body'].str.contains(r\"lonely\")==True]\n",
        "hate_myself = mental_health_categories[mental_health_categories['body'].str.contains(r\"I hate myself\")==True]\n",
        "dont_know_want = mental_health_categories[mental_health_categories['body'].str.contains(r\"don’t know what I want\")==True]\n",
        "dont_know = mental_health_categories[mental_health_categories['body'].str.contains(r\"I don’t know\")==True]\n",
        "dont_have = mental_health_categories[mental_health_categories['body'].str.contains(r\"I don’t have\")==True]\n",
        "weird = mental_health_categories[mental_health_categories['body'].str.contains(r\"weird\")==True]\n",
        "dont_have_friends = mental_health_categories[mental_health_categories['body'].str.contains(r\"i dont have any friends\")==True]\n",
        "feel_like = mental_health_categories[mental_health_categories['body'].str.contains(r\"i feel like\")==True]\n",
        "\n",
        "mhsu = pd.concat([recent_diagnosis, tired_of_life, kill_myself, depressed, meaningless_life, feeling_sad, guilty, \\\n",
        "                  confused, cannot_sleep, cannot_understand, worthless, traumatized, worry, anxious, ashamed, \\\n",
        "                 mental_breakdown, lonely, hate_myself, dont_know_want, dont_know, dont_have, weird, dont_have_friends, \\\n",
        "                 feel_like])\n",
        "mhsu.to_csv('C:/Users/USER/Downloads/Data Science/MindSum/Reddit Dataset/mhsu_new.csv', header=True, encoding='utf-8', index=False)\n",
        "mhsu"
      ],
      "metadata": {
        "id": "tQN4lgvOnxxH"
      },
      "execution_count": null,
      "outputs": []
    },
    {
      "cell_type": "markdown",
      "source": [
        "### Scraping for individual user posts\n",
        "\n"
      ],
      "metadata": {
        "id": "aQv3buSspzv0"
      }
    },
    {
      "cell_type": "code",
      "source": [
        "all_autism = mhsu[mhsu['subreddit']=='autism'].author.astype(str).tolist()\n",
        "all_autism = list(dict.fromkeys(all_autism))\n",
        "print('Total Autism post is {}' .format(len(all_autism)))\n",
        "\n",
        "all_depression = mhsu[mhsu['subreddit']=='depression'].author.astype(str).tolist()\n",
        "all_depression = list(dict.fromkeys(all_depression))\n",
        "print('Total Depression post is {}' .format(len(all_depression)))\n",
        "\n",
        "all_adhd = mhsu[mhsu['subreddit']=='ADHD'].author.astype(str).tolist()\n",
        "all_adhd = list(dict.fromkeys(all_adhd))\n",
        "print('Total ADHD post is {}' .format(len(all_adhd)))\n",
        "\n",
        "all_Anxiety = mhsu[mhsu['subreddit']=='Anxiety'].author.astype(str).tolist()\n",
        "all_Anxiety = list(dict.fromkeys(all_Anxiety))\n",
        "print('Total Anxiety post is {}' .format(len(all_Anxiety)))"
      ],
      "metadata": {
        "id": "KT_tXZPqtc8T"
      },
      "execution_count": null,
      "outputs": []
    },
    {
      "cell_type": "code",
      "source": [
        "#author=(mental_health_categories.author)[:1] ##[\"whzy0i\", \"ub3skp\"]\n",
        "#author = ['Effective-Bridge8937']\n",
        "#author = mhsu['author'].astype(str).tolist()\n",
        "author = all_Anxiety\n",
        "\n",
        "i = []\n",
        "for authors in author:\n",
        "    try:\n",
        "        submission = reddit.redditor(authors).submissions.hot(limit=None) # Note: cannot pull more than 1000 at a time\n",
        "        for column in submission:\n",
        "            i.append([column.title, column.id, column.subreddit, column.selftext, column.author, column.created])\n",
        "    except:\n",
        "        pass\n",
        "su = pd.DataFrame(i, columns=['title', 'id', 'subreddit', 'selftext', 'author', 'created'])\n",
        "\n",
        "#su.to_csv('C:/Users/USER/Downloads/Data Science/MindSum/Reddit Dataset/mhsu_single_users_total.csv', header=True, encoding='utf-8', index=False)\n",
        "su.to_csv('C:/Users/USER/Downloads/Data Science/MindSum/Reddit Dataset/all_Anxiety.csv', header=True, encoding='utf-8', index=False)"
      ],
      "metadata": {
        "id": "tccu0Ispnx1W"
      },
      "execution_count": null,
      "outputs": []
    },
    {
      "cell_type": "code",
      "source": [
        "### Joining the four single-user categories together\n",
        "\n",
        "autism_posts = pd.read_csv('C:/Users/USER/Downloads/Data Science/MindSum/Reddit Dataset/all_autism.csv')\n",
        "depression_posts = pd.read_csv('C:/Users/USER/Downloads/Data Science/MindSum/Reddit Dataset/all_depression.csv')\n",
        "adhd_posts = pd.read_csv('C:/Users/USER/Downloads/Data Science/MindSum/Reddit Dataset/all_adhd.csv')\n",
        "anxiety_posts = pd.read_csv('C:/Users/USER/Downloads/Data Science/MindSum/Reddit Dataset/all_Anxiety.csv')\n",
        "\n",
        "autism_posts['label'] = 'autism'\n",
        "depression_posts['label'] = 'depression'\n",
        "adhd_posts['label'] = 'ADHD'\n",
        "anxiety_posts['label'] = 'anxiety'\n",
        "\n",
        "mhsu_total = pd.concat([autism_posts, depression_posts, adhd_posts, anxiety_posts])\n",
        "mhsu_total.to_csv('C:/Users/USER/Downloads/Data Science/MindSum/Reddit Dataset/mhsu_total.csv', header=True, encoding='utf-8', index=False)"
      ],
      "metadata": {
        "id": "rQrDmlgEt7Os"
      },
      "execution_count": null,
      "outputs": []
    },
    {
      "cell_type": "markdown",
      "source": [
        "## Importing Libraries"
      ],
      "metadata": {
        "id": "h3aH7Zmhrdyx"
      }
    },
    {
      "cell_type": "code",
      "execution_count": null,
      "metadata": {
        "colab": {
          "base_uri": "https://localhost:8080/"
        },
        "id": "g8UkUtKFW1go",
        "outputId": "0035871a-9e0c-48a2-88f2-d241708d98e9"
      },
      "outputs": [
        {
          "output_type": "stream",
          "name": "stderr",
          "text": [
            "[nltk_data] Downloading package stopwords to /root/nltk_data...\n",
            "[nltk_data]   Package stopwords is already up-to-date!\n"
          ]
        }
      ],
      "source": [
        "%matplotlib inline\n",
        "import re\n",
        "import string\n",
        "import nltk\n",
        "nltk.download('stopwords')\n",
        "import matplotlib\n",
        "import numpy as np\n",
        "import matplotlib.pyplot as plt\n",
        "import pandas as pd\n",
        "from sklearn.feature_extraction.text import TfidfVectorizer\n",
        "from sklearn.naive_bayes import MultinomialNB\n",
        "from sklearn.metrics import accuracy_score, precision_score, recall_score, classification_report, f1_score, roc_auc_score, confusion_matrix\n",
        "from sklearn.multiclass import OneVsRestClassifier\n",
        "from nltk.corpus import stopwords\n",
        "from nltk.tokenize import word_tokenize\n",
        "stop_words = set(stopwords.words('english'))\n",
        "stopwords = nltk.corpus.stopwords.words('english')\n",
        "from sklearn.svm import LinearSVC, SVC\n",
        "from sklearn.linear_model import LogisticRegression\n",
        "from sklearn.pipeline import Pipeline\n",
        "from sklearn.ensemble import RandomForestClassifier\n",
        "from sklearn.ensemble import BaggingClassifier\n",
        "from sklearn.model_selection import train_test_split, cross_val_score, GridSearchCV, StratifiedKFold, RepeatedStratifiedKFold\n",
        "import seaborn as sns\n",
        "import warnings\n",
        "warnings.filterwarnings(\"ignore\", category=FutureWarning)"
      ]
    },
    {
      "cell_type": "code",
      "execution_count": null,
      "metadata": {
        "colab": {
          "base_uri": "https://localhost:8080/",
          "height": 468
        },
        "id": "v0iMCyQjXsaz",
        "outputId": "1f834915-4f7c-4994-bd4d-9e8b85a0fe71"
      },
      "outputs": [
        {
          "output_type": "execute_result",
          "data": {
            "text/plain": [
              "                                                   title      id  \\\n",
              "0                                            What to do?  wxut1r   \n",
              "1                  ASUS - ROUTER - GT-5300 ROG - AIMesh?  vbluyd   \n",
              "2      Why does Defillama not consider Milkomeda a Ca...  ttavji   \n",
              "3      COTI vs DJED vs SHEN vs ADA - Can anyone ELI5 ...  tq8x2w   \n",
              "4                                  Inquiry: Cold Climate  tpr09q   \n",
              "...                                                  ...     ...   \n",
              "48274               struggling a lot with health anxiety  v3ula0   \n",
              "48275               feel like i don't take in enough air  v1pj9k   \n",
              "48276  anxiety is ruining my social life and taking a...  wvdk04   \n",
              "48277                            tips for cleaning self?  wlklp5   \n",
              "48278                     AITA for asking for gas money?  uevpee   \n",
              "\n",
              "                  subreddit  \\\n",
              "0                    autism   \n",
              "1                      ASUS   \n",
              "2                   cardano   \n",
              "3                   cardano   \n",
              "4                  Kombucha   \n",
              "...                     ...   \n",
              "48274               Anxiety   \n",
              "48275               medical   \n",
              "48276               Anxiety   \n",
              "48277  TheGirlSurvivalGuide   \n",
              "48278         AmItheAsshole   \n",
              "\n",
              "                                                selftext  \\\n",
              "0      My partner’s kid just recently has been diagno...   \n",
              "1      Hey all, I've had This router for a while now,...   \n",
              "2      Just thought it was weird?\\n\\nI'm simply curio...   \n",
              "3      Hey All\\n\\nI'm trying to understand the relati...   \n",
              "4      Hey All - I'm trying to figure out if it is wo...   \n",
              "...                                                  ...   \n",
              "48274  i used to be doing okay, but ever since I had ...   \n",
              "48275  For the past few days I (F16) have been feelin...   \n",
              "48276  i've had anxiety my whole life. i used to go t...   \n",
              "48277                                          [removed]   \n",
              "48278  I drive my friends everywhere. My parents will...   \n",
              "\n",
              "                     author       created    label  \n",
              "0                Noradd_123  1.661475e+09   autism  \n",
              "1                Noradd_123  1.655153e+09   autism  \n",
              "2                Noradd_123  1.648764e+09   autism  \n",
              "3                Noradd_123  1.648473e+09   autism  \n",
              "4                Noradd_123  1.648409e+09   autism  \n",
              "...                     ...           ...      ...  \n",
              "48274  justarandomaccountyk  1.654244e+09  anxiety  \n",
              "48275  justarandomaccountyk  1.654001e+09  anxiety  \n",
              "48276         Main_Text9632  1.661224e+09  anxiety  \n",
              "48277         Main_Text9632  1.660200e+09  anxiety  \n",
              "48278         Main_Text9632  1.651267e+09  anxiety  \n",
              "\n",
              "[48279 rows x 7 columns]"
            ],
            "text/html": [
              "\n",
              "  <div id=\"df-d5e62659-c141-433e-9b8e-edc295ebd1eb\">\n",
              "    <div class=\"colab-df-container\">\n",
              "      <div>\n",
              "<style scoped>\n",
              "    .dataframe tbody tr th:only-of-type {\n",
              "        vertical-align: middle;\n",
              "    }\n",
              "\n",
              "    .dataframe tbody tr th {\n",
              "        vertical-align: top;\n",
              "    }\n",
              "\n",
              "    .dataframe thead th {\n",
              "        text-align: right;\n",
              "    }\n",
              "</style>\n",
              "<table border=\"1\" class=\"dataframe\">\n",
              "  <thead>\n",
              "    <tr style=\"text-align: right;\">\n",
              "      <th></th>\n",
              "      <th>title</th>\n",
              "      <th>id</th>\n",
              "      <th>subreddit</th>\n",
              "      <th>selftext</th>\n",
              "      <th>author</th>\n",
              "      <th>created</th>\n",
              "      <th>label</th>\n",
              "    </tr>\n",
              "  </thead>\n",
              "  <tbody>\n",
              "    <tr>\n",
              "      <th>0</th>\n",
              "      <td>What to do?</td>\n",
              "      <td>wxut1r</td>\n",
              "      <td>autism</td>\n",
              "      <td>My partner’s kid just recently has been diagno...</td>\n",
              "      <td>Noradd_123</td>\n",
              "      <td>1.661475e+09</td>\n",
              "      <td>autism</td>\n",
              "    </tr>\n",
              "    <tr>\n",
              "      <th>1</th>\n",
              "      <td>ASUS - ROUTER - GT-5300 ROG - AIMesh?</td>\n",
              "      <td>vbluyd</td>\n",
              "      <td>ASUS</td>\n",
              "      <td>Hey all, I've had This router for a while now,...</td>\n",
              "      <td>Noradd_123</td>\n",
              "      <td>1.655153e+09</td>\n",
              "      <td>autism</td>\n",
              "    </tr>\n",
              "    <tr>\n",
              "      <th>2</th>\n",
              "      <td>Why does Defillama not consider Milkomeda a Ca...</td>\n",
              "      <td>ttavji</td>\n",
              "      <td>cardano</td>\n",
              "      <td>Just thought it was weird?\\n\\nI'm simply curio...</td>\n",
              "      <td>Noradd_123</td>\n",
              "      <td>1.648764e+09</td>\n",
              "      <td>autism</td>\n",
              "    </tr>\n",
              "    <tr>\n",
              "      <th>3</th>\n",
              "      <td>COTI vs DJED vs SHEN vs ADA - Can anyone ELI5 ...</td>\n",
              "      <td>tq8x2w</td>\n",
              "      <td>cardano</td>\n",
              "      <td>Hey All\\n\\nI'm trying to understand the relati...</td>\n",
              "      <td>Noradd_123</td>\n",
              "      <td>1.648473e+09</td>\n",
              "      <td>autism</td>\n",
              "    </tr>\n",
              "    <tr>\n",
              "      <th>4</th>\n",
              "      <td>Inquiry: Cold Climate</td>\n",
              "      <td>tpr09q</td>\n",
              "      <td>Kombucha</td>\n",
              "      <td>Hey All - I'm trying to figure out if it is wo...</td>\n",
              "      <td>Noradd_123</td>\n",
              "      <td>1.648409e+09</td>\n",
              "      <td>autism</td>\n",
              "    </tr>\n",
              "    <tr>\n",
              "      <th>...</th>\n",
              "      <td>...</td>\n",
              "      <td>...</td>\n",
              "      <td>...</td>\n",
              "      <td>...</td>\n",
              "      <td>...</td>\n",
              "      <td>...</td>\n",
              "      <td>...</td>\n",
              "    </tr>\n",
              "    <tr>\n",
              "      <th>48274</th>\n",
              "      <td>struggling a lot with health anxiety</td>\n",
              "      <td>v3ula0</td>\n",
              "      <td>Anxiety</td>\n",
              "      <td>i used to be doing okay, but ever since I had ...</td>\n",
              "      <td>justarandomaccountyk</td>\n",
              "      <td>1.654244e+09</td>\n",
              "      <td>anxiety</td>\n",
              "    </tr>\n",
              "    <tr>\n",
              "      <th>48275</th>\n",
              "      <td>feel like i don't take in enough air</td>\n",
              "      <td>v1pj9k</td>\n",
              "      <td>medical</td>\n",
              "      <td>For the past few days I (F16) have been feelin...</td>\n",
              "      <td>justarandomaccountyk</td>\n",
              "      <td>1.654001e+09</td>\n",
              "      <td>anxiety</td>\n",
              "    </tr>\n",
              "    <tr>\n",
              "      <th>48276</th>\n",
              "      <td>anxiety is ruining my social life and taking a...</td>\n",
              "      <td>wvdk04</td>\n",
              "      <td>Anxiety</td>\n",
              "      <td>i've had anxiety my whole life. i used to go t...</td>\n",
              "      <td>Main_Text9632</td>\n",
              "      <td>1.661224e+09</td>\n",
              "      <td>anxiety</td>\n",
              "    </tr>\n",
              "    <tr>\n",
              "      <th>48277</th>\n",
              "      <td>tips for cleaning self?</td>\n",
              "      <td>wlklp5</td>\n",
              "      <td>TheGirlSurvivalGuide</td>\n",
              "      <td>[removed]</td>\n",
              "      <td>Main_Text9632</td>\n",
              "      <td>1.660200e+09</td>\n",
              "      <td>anxiety</td>\n",
              "    </tr>\n",
              "    <tr>\n",
              "      <th>48278</th>\n",
              "      <td>AITA for asking for gas money?</td>\n",
              "      <td>uevpee</td>\n",
              "      <td>AmItheAsshole</td>\n",
              "      <td>I drive my friends everywhere. My parents will...</td>\n",
              "      <td>Main_Text9632</td>\n",
              "      <td>1.651267e+09</td>\n",
              "      <td>anxiety</td>\n",
              "    </tr>\n",
              "  </tbody>\n",
              "</table>\n",
              "<p>48279 rows × 7 columns</p>\n",
              "</div>\n",
              "      <button class=\"colab-df-convert\" onclick=\"convertToInteractive('df-d5e62659-c141-433e-9b8e-edc295ebd1eb')\"\n",
              "              title=\"Convert this dataframe to an interactive table.\"\n",
              "              style=\"display:none;\">\n",
              "        \n",
              "  <svg xmlns=\"http://www.w3.org/2000/svg\" height=\"24px\"viewBox=\"0 0 24 24\"\n",
              "       width=\"24px\">\n",
              "    <path d=\"M0 0h24v24H0V0z\" fill=\"none\"/>\n",
              "    <path d=\"M18.56 5.44l.94 2.06.94-2.06 2.06-.94-2.06-.94-.94-2.06-.94 2.06-2.06.94zm-11 1L8.5 8.5l.94-2.06 2.06-.94-2.06-.94L8.5 2.5l-.94 2.06-2.06.94zm10 10l.94 2.06.94-2.06 2.06-.94-2.06-.94-.94-2.06-.94 2.06-2.06.94z\"/><path d=\"M17.41 7.96l-1.37-1.37c-.4-.4-.92-.59-1.43-.59-.52 0-1.04.2-1.43.59L10.3 9.45l-7.72 7.72c-.78.78-.78 2.05 0 2.83L4 21.41c.39.39.9.59 1.41.59.51 0 1.02-.2 1.41-.59l7.78-7.78 2.81-2.81c.8-.78.8-2.07 0-2.86zM5.41 20L4 18.59l7.72-7.72 1.47 1.35L5.41 20z\"/>\n",
              "  </svg>\n",
              "      </button>\n",
              "      \n",
              "  <style>\n",
              "    .colab-df-container {\n",
              "      display:flex;\n",
              "      flex-wrap:wrap;\n",
              "      gap: 12px;\n",
              "    }\n",
              "\n",
              "    .colab-df-convert {\n",
              "      background-color: #E8F0FE;\n",
              "      border: none;\n",
              "      border-radius: 50%;\n",
              "      cursor: pointer;\n",
              "      display: none;\n",
              "      fill: #1967D2;\n",
              "      height: 32px;\n",
              "      padding: 0 0 0 0;\n",
              "      width: 32px;\n",
              "    }\n",
              "\n",
              "    .colab-df-convert:hover {\n",
              "      background-color: #E2EBFA;\n",
              "      box-shadow: 0px 1px 2px rgba(60, 64, 67, 0.3), 0px 1px 3px 1px rgba(60, 64, 67, 0.15);\n",
              "      fill: #174EA6;\n",
              "    }\n",
              "\n",
              "    [theme=dark] .colab-df-convert {\n",
              "      background-color: #3B4455;\n",
              "      fill: #D2E3FC;\n",
              "    }\n",
              "\n",
              "    [theme=dark] .colab-df-convert:hover {\n",
              "      background-color: #434B5C;\n",
              "      box-shadow: 0px 1px 3px 1px rgba(0, 0, 0, 0.15);\n",
              "      filter: drop-shadow(0px 1px 2px rgba(0, 0, 0, 0.3));\n",
              "      fill: #FFFFFF;\n",
              "    }\n",
              "  </style>\n",
              "\n",
              "      <script>\n",
              "        const buttonEl =\n",
              "          document.querySelector('#df-d5e62659-c141-433e-9b8e-edc295ebd1eb button.colab-df-convert');\n",
              "        buttonEl.style.display =\n",
              "          google.colab.kernel.accessAllowed ? 'block' : 'none';\n",
              "\n",
              "        async function convertToInteractive(key) {\n",
              "          const element = document.querySelector('#df-d5e62659-c141-433e-9b8e-edc295ebd1eb');\n",
              "          const dataTable =\n",
              "            await google.colab.kernel.invokeFunction('convertToInteractive',\n",
              "                                                     [key], {});\n",
              "          if (!dataTable) return;\n",
              "\n",
              "          const docLinkHtml = 'Like what you see? Visit the ' +\n",
              "            '<a target=\"_blank\" href=https://colab.research.google.com/notebooks/data_table.ipynb>data table notebook</a>'\n",
              "            + ' to learn more about interactive tables.';\n",
              "          element.innerHTML = '';\n",
              "          dataTable['output_type'] = 'display_data';\n",
              "          await google.colab.output.renderOutput(dataTable, element);\n",
              "          const docLink = document.createElement('div');\n",
              "          docLink.innerHTML = docLinkHtml;\n",
              "          element.appendChild(docLink);\n",
              "        }\n",
              "      </script>\n",
              "    </div>\n",
              "  </div>\n",
              "  "
            ]
          },
          "metadata": {},
          "execution_count": 4
        }
      ],
      "source": [
        "import pandas as pd\n",
        "mhsu = pd.read_csv('/content/drive/MyDrive/Mindsum/mhsu_total.csv')\n",
        "mhsu"
      ]
    },
    {
      "cell_type": "code",
      "execution_count": null,
      "metadata": {
        "colab": {
          "base_uri": "https://localhost:8080/"
        },
        "id": "PlrkyMQWYJ1m",
        "outputId": "7cb48cc8-1c5c-4596-dfd0-c6ddd3ff4403"
      },
      "outputs": [
        {
          "output_type": "stream",
          "name": "stdout",
          "text": [
            "<class 'pandas.core.frame.DataFrame'>\n",
            "RangeIndex: 48279 entries, 0 to 48278\n",
            "Data columns (total 7 columns):\n",
            " #   Column     Non-Null Count  Dtype  \n",
            "---  ------     --------------  -----  \n",
            " 0   title      48279 non-null  object \n",
            " 1   id         48279 non-null  object \n",
            " 2   subreddit  48279 non-null  object \n",
            " 3   selftext   33062 non-null  object \n",
            " 4   author     48279 non-null  object \n",
            " 5   created    48279 non-null  float64\n",
            " 6   label      48279 non-null  object \n",
            "dtypes: float64(1), object(6)\n",
            "memory usage: 2.6+ MB\n"
          ]
        }
      ],
      "source": [
        "mhsu.info()"
      ]
    },
    {
      "cell_type": "code",
      "execution_count": null,
      "metadata": {
        "colab": {
          "base_uri": "https://localhost:8080/"
        },
        "id": "LL_cbYVbYOM8",
        "outputId": "73dabba3-2576-4010-afc3-3c74cf955148"
      },
      "outputs": [
        {
          "output_type": "execute_result",
          "data": {
            "text/plain": [
              "anxiety       20443\n",
              "autism         9946\n",
              "depression     9675\n",
              "ADHD           8215\n",
              "Name: label, dtype: int64"
            ]
          },
          "metadata": {},
          "execution_count": 6
        }
      ],
      "source": [
        "mhsu.label.value_counts()"
      ]
    },
    {
      "cell_type": "code",
      "execution_count": null,
      "metadata": {
        "colab": {
          "base_uri": "https://localhost:8080/"
        },
        "id": "Cre6eZAlYQx6",
        "outputId": "c6cd3719-7972-4e0e-b3b8-b89728931e9c"
      },
      "outputs": [
        {
          "output_type": "execute_result",
          "data": {
            "text/plain": [
              "title        0\n",
              "id           0\n",
              "subreddit    0\n",
              "selftext     0\n",
              "author       0\n",
              "created      0\n",
              "label        0\n",
              "dtype: int64"
            ]
          },
          "metadata": {},
          "execution_count": 7
        }
      ],
      "source": [
        "# Checking for duplicates across rows\n",
        "mhsu[mhsu.duplicated()].count()"
      ]
    },
    {
      "cell_type": "code",
      "execution_count": null,
      "metadata": {
        "colab": {
          "base_uri": "https://localhost:8080/",
          "height": 424
        },
        "id": "ULxStK6eYTbf",
        "outputId": "f8841a84-3581-4d73-fed2-b834a37d15c6"
      },
      "outputs": [
        {
          "output_type": "execute_result",
          "data": {
            "text/plain": [
              "         label                                           selftext\n",
              "0       autism  My partner’s kid just recently has been diagno...\n",
              "1       autism  Hey all, I've had This router for a while now,...\n",
              "2       autism  Just thought it was weird?\\n\\nI'm simply curio...\n",
              "3       autism  Hey All\\n\\nI'm trying to understand the relati...\n",
              "4       autism  Hey All - I'm trying to figure out if it is wo...\n",
              "...        ...                                                ...\n",
              "48274  anxiety  i used to be doing okay, but ever since I had ...\n",
              "48275  anxiety  For the past few days I (F16) have been feelin...\n",
              "48276  anxiety  i've had anxiety my whole life. i used to go t...\n",
              "48277  anxiety                                          [removed]\n",
              "48278  anxiety  I drive my friends everywhere. My parents will...\n",
              "\n",
              "[48279 rows x 2 columns]"
            ],
            "text/html": [
              "\n",
              "  <div id=\"df-163ba645-38b7-46dc-b18f-3e57959e0a51\">\n",
              "    <div class=\"colab-df-container\">\n",
              "      <div>\n",
              "<style scoped>\n",
              "    .dataframe tbody tr th:only-of-type {\n",
              "        vertical-align: middle;\n",
              "    }\n",
              "\n",
              "    .dataframe tbody tr th {\n",
              "        vertical-align: top;\n",
              "    }\n",
              "\n",
              "    .dataframe thead th {\n",
              "        text-align: right;\n",
              "    }\n",
              "</style>\n",
              "<table border=\"1\" class=\"dataframe\">\n",
              "  <thead>\n",
              "    <tr style=\"text-align: right;\">\n",
              "      <th></th>\n",
              "      <th>label</th>\n",
              "      <th>selftext</th>\n",
              "    </tr>\n",
              "  </thead>\n",
              "  <tbody>\n",
              "    <tr>\n",
              "      <th>0</th>\n",
              "      <td>autism</td>\n",
              "      <td>My partner’s kid just recently has been diagno...</td>\n",
              "    </tr>\n",
              "    <tr>\n",
              "      <th>1</th>\n",
              "      <td>autism</td>\n",
              "      <td>Hey all, I've had This router for a while now,...</td>\n",
              "    </tr>\n",
              "    <tr>\n",
              "      <th>2</th>\n",
              "      <td>autism</td>\n",
              "      <td>Just thought it was weird?\\n\\nI'm simply curio...</td>\n",
              "    </tr>\n",
              "    <tr>\n",
              "      <th>3</th>\n",
              "      <td>autism</td>\n",
              "      <td>Hey All\\n\\nI'm trying to understand the relati...</td>\n",
              "    </tr>\n",
              "    <tr>\n",
              "      <th>4</th>\n",
              "      <td>autism</td>\n",
              "      <td>Hey All - I'm trying to figure out if it is wo...</td>\n",
              "    </tr>\n",
              "    <tr>\n",
              "      <th>...</th>\n",
              "      <td>...</td>\n",
              "      <td>...</td>\n",
              "    </tr>\n",
              "    <tr>\n",
              "      <th>48274</th>\n",
              "      <td>anxiety</td>\n",
              "      <td>i used to be doing okay, but ever since I had ...</td>\n",
              "    </tr>\n",
              "    <tr>\n",
              "      <th>48275</th>\n",
              "      <td>anxiety</td>\n",
              "      <td>For the past few days I (F16) have been feelin...</td>\n",
              "    </tr>\n",
              "    <tr>\n",
              "      <th>48276</th>\n",
              "      <td>anxiety</td>\n",
              "      <td>i've had anxiety my whole life. i used to go t...</td>\n",
              "    </tr>\n",
              "    <tr>\n",
              "      <th>48277</th>\n",
              "      <td>anxiety</td>\n",
              "      <td>[removed]</td>\n",
              "    </tr>\n",
              "    <tr>\n",
              "      <th>48278</th>\n",
              "      <td>anxiety</td>\n",
              "      <td>I drive my friends everywhere. My parents will...</td>\n",
              "    </tr>\n",
              "  </tbody>\n",
              "</table>\n",
              "<p>48279 rows × 2 columns</p>\n",
              "</div>\n",
              "      <button class=\"colab-df-convert\" onclick=\"convertToInteractive('df-163ba645-38b7-46dc-b18f-3e57959e0a51')\"\n",
              "              title=\"Convert this dataframe to an interactive table.\"\n",
              "              style=\"display:none;\">\n",
              "        \n",
              "  <svg xmlns=\"http://www.w3.org/2000/svg\" height=\"24px\"viewBox=\"0 0 24 24\"\n",
              "       width=\"24px\">\n",
              "    <path d=\"M0 0h24v24H0V0z\" fill=\"none\"/>\n",
              "    <path d=\"M18.56 5.44l.94 2.06.94-2.06 2.06-.94-2.06-.94-.94-2.06-.94 2.06-2.06.94zm-11 1L8.5 8.5l.94-2.06 2.06-.94-2.06-.94L8.5 2.5l-.94 2.06-2.06.94zm10 10l.94 2.06.94-2.06 2.06-.94-2.06-.94-.94-2.06-.94 2.06-2.06.94z\"/><path d=\"M17.41 7.96l-1.37-1.37c-.4-.4-.92-.59-1.43-.59-.52 0-1.04.2-1.43.59L10.3 9.45l-7.72 7.72c-.78.78-.78 2.05 0 2.83L4 21.41c.39.39.9.59 1.41.59.51 0 1.02-.2 1.41-.59l7.78-7.78 2.81-2.81c.8-.78.8-2.07 0-2.86zM5.41 20L4 18.59l7.72-7.72 1.47 1.35L5.41 20z\"/>\n",
              "  </svg>\n",
              "      </button>\n",
              "      \n",
              "  <style>\n",
              "    .colab-df-container {\n",
              "      display:flex;\n",
              "      flex-wrap:wrap;\n",
              "      gap: 12px;\n",
              "    }\n",
              "\n",
              "    .colab-df-convert {\n",
              "      background-color: #E8F0FE;\n",
              "      border: none;\n",
              "      border-radius: 50%;\n",
              "      cursor: pointer;\n",
              "      display: none;\n",
              "      fill: #1967D2;\n",
              "      height: 32px;\n",
              "      padding: 0 0 0 0;\n",
              "      width: 32px;\n",
              "    }\n",
              "\n",
              "    .colab-df-convert:hover {\n",
              "      background-color: #E2EBFA;\n",
              "      box-shadow: 0px 1px 2px rgba(60, 64, 67, 0.3), 0px 1px 3px 1px rgba(60, 64, 67, 0.15);\n",
              "      fill: #174EA6;\n",
              "    }\n",
              "\n",
              "    [theme=dark] .colab-df-convert {\n",
              "      background-color: #3B4455;\n",
              "      fill: #D2E3FC;\n",
              "    }\n",
              "\n",
              "    [theme=dark] .colab-df-convert:hover {\n",
              "      background-color: #434B5C;\n",
              "      box-shadow: 0px 1px 3px 1px rgba(0, 0, 0, 0.15);\n",
              "      filter: drop-shadow(0px 1px 2px rgba(0, 0, 0, 0.3));\n",
              "      fill: #FFFFFF;\n",
              "    }\n",
              "  </style>\n",
              "\n",
              "      <script>\n",
              "        const buttonEl =\n",
              "          document.querySelector('#df-163ba645-38b7-46dc-b18f-3e57959e0a51 button.colab-df-convert');\n",
              "        buttonEl.style.display =\n",
              "          google.colab.kernel.accessAllowed ? 'block' : 'none';\n",
              "\n",
              "        async function convertToInteractive(key) {\n",
              "          const element = document.querySelector('#df-163ba645-38b7-46dc-b18f-3e57959e0a51');\n",
              "          const dataTable =\n",
              "            await google.colab.kernel.invokeFunction('convertToInteractive',\n",
              "                                                     [key], {});\n",
              "          if (!dataTable) return;\n",
              "\n",
              "          const docLinkHtml = 'Like what you see? Visit the ' +\n",
              "            '<a target=\"_blank\" href=https://colab.research.google.com/notebooks/data_table.ipynb>data table notebook</a>'\n",
              "            + ' to learn more about interactive tables.';\n",
              "          element.innerHTML = '';\n",
              "          dataTable['output_type'] = 'display_data';\n",
              "          await google.colab.output.renderOutput(dataTable, element);\n",
              "          const docLink = document.createElement('div');\n",
              "          docLink.innerHTML = docLinkHtml;\n",
              "          element.appendChild(docLink);\n",
              "        }\n",
              "      </script>\n",
              "    </div>\n",
              "  </div>\n",
              "  "
            ]
          },
          "metadata": {},
          "execution_count": 8
        }
      ],
      "source": [
        "# Merging the title text to the post\n",
        "\n",
        "#mhsu['text'] = mhsu['title'].astype(str) + ' ' + mhsu['selftext'].astype(str)\n",
        "mhsu = mhsu[['label', 'selftext']]\n",
        "mhsu"
      ]
    },
    {
      "cell_type": "code",
      "execution_count": null,
      "metadata": {
        "colab": {
          "base_uri": "https://localhost:8080/"
        },
        "id": "lpPFpvItYYtg",
        "outputId": "c92055ba-84a7-4e4c-a761-ce1cfc278e7c"
      },
      "outputs": [
        {
          "output_type": "stream",
          "name": "stdout",
          "text": [
            "Number of missing values in label: 0\n",
            "Number of missing values in body: 15217\n"
          ]
        }
      ],
      "source": [
        "print ('Number of missing values in label: {}'. format(mhsu.label.isnull().sum()))\n",
        "print ('Number of missing values in body: {}'. format(mhsu.selftext.isnull().sum()))"
      ]
    },
    {
      "cell_type": "code",
      "execution_count": null,
      "metadata": {
        "id": "KbbT_v1CYc8N"
      },
      "outputs": [],
      "source": [
        "mhsu = mhsu.dropna()\n",
        "mhsu = mhsu[mhsu.selftext!='[removed]']"
      ]
    },
    {
      "cell_type": "code",
      "execution_count": null,
      "metadata": {
        "colab": {
          "base_uri": "https://localhost:8080/"
        },
        "id": "dS-HrjAcYkhz",
        "outputId": "66556abb-b520-4a5d-c52d-80826249b52a"
      },
      "outputs": [
        {
          "output_type": "execute_result",
          "data": {
            "text/plain": [
              "anxiety       13604\n",
              "depression     5871\n",
              "ADHD           4903\n",
              "autism         4502\n",
              "Name: label, dtype: int64"
            ]
          },
          "metadata": {},
          "execution_count": 11
        }
      ],
      "source": [
        "mhsu.label.value_counts()"
      ]
    },
    {
      "cell_type": "markdown",
      "source": [
        "#### Converting top a Binary Classification Problem\n",
        "\n",
        "With Anxiety --> Without Anxiety"
      ],
      "metadata": {
        "id": "4sKnxEdmF7bH"
      }
    },
    {
      "cell_type": "code",
      "source": [
        "anx = mhsu[mhsu['label']=='anxiety']\n",
        "dep = mhsu[mhsu['label']=='depression']\n",
        "ADHD = mhsu[mhsu['label']=='ADHD']\n",
        "aut = mhsu[mhsu['label']=='autism']\n",
        "others = pd.concat([dep, ADHD, aut])\n",
        "others['label'] = 'Without Anxiety'\n",
        "anx['label'] = 'With Anxiety'\n",
        "mhsu_new = pd.concat([anx, others])\n",
        "mhsu_new"
      ],
      "metadata": {
        "colab": {
          "base_uri": "https://localhost:8080/",
          "height": 528
        },
        "id": "ffU7vIrDGTGl",
        "outputId": "8eacec2d-c358-4f06-d81d-67fb0878f387"
      },
      "execution_count": null,
      "outputs": [
        {
          "output_type": "stream",
          "name": "stderr",
          "text": [
            "/usr/local/lib/python3.7/dist-packages/ipykernel_launcher.py:7: SettingWithCopyWarning: \n",
            "A value is trying to be set on a copy of a slice from a DataFrame.\n",
            "Try using .loc[row_indexer,col_indexer] = value instead\n",
            "\n",
            "See the caveats in the documentation: https://pandas.pydata.org/pandas-docs/stable/user_guide/indexing.html#returning-a-view-versus-a-copy\n",
            "  import sys\n"
          ]
        },
        {
          "output_type": "execute_result",
          "data": {
            "text/plain": [
              "                 label                                           selftext\n",
              "27836     With Anxiety  So I recently quit my job, it was in finance, ...\n",
              "27837     With Anxiety  I’m really not doing well, it’s my own fault, ...\n",
              "27838     With Anxiety  And they don’t get it. I let them know I decid...\n",
              "27839     With Anxiety  I hate my job. I feel guilty because the pay a...\n",
              "27840     With Anxiety  I just got approved for an apartment so I’ll b...\n",
              "...                ...                                                ...\n",
              "9936   Without Anxiety  I found out a few days ago when I looked at my...\n",
              "9937   Without Anxiety  I found a video on a cassette of her smoking w...\n",
              "9940   Without Anxiety  So I’ve been trying to mod gta 5 solo online f...\n",
              "9943   Without Anxiety  Im a virgin and i want to be until marriage, b...\n",
              "9945   Without Anxiety  throwaway account because i feel too guilty to...\n",
              "\n",
              "[28880 rows x 2 columns]"
            ],
            "text/html": [
              "\n",
              "  <div id=\"df-56bfd4fe-ef28-44c5-ac68-c639366ea029\">\n",
              "    <div class=\"colab-df-container\">\n",
              "      <div>\n",
              "<style scoped>\n",
              "    .dataframe tbody tr th:only-of-type {\n",
              "        vertical-align: middle;\n",
              "    }\n",
              "\n",
              "    .dataframe tbody tr th {\n",
              "        vertical-align: top;\n",
              "    }\n",
              "\n",
              "    .dataframe thead th {\n",
              "        text-align: right;\n",
              "    }\n",
              "</style>\n",
              "<table border=\"1\" class=\"dataframe\">\n",
              "  <thead>\n",
              "    <tr style=\"text-align: right;\">\n",
              "      <th></th>\n",
              "      <th>label</th>\n",
              "      <th>selftext</th>\n",
              "    </tr>\n",
              "  </thead>\n",
              "  <tbody>\n",
              "    <tr>\n",
              "      <th>27836</th>\n",
              "      <td>With Anxiety</td>\n",
              "      <td>So I recently quit my job, it was in finance, ...</td>\n",
              "    </tr>\n",
              "    <tr>\n",
              "      <th>27837</th>\n",
              "      <td>With Anxiety</td>\n",
              "      <td>I’m really not doing well, it’s my own fault, ...</td>\n",
              "    </tr>\n",
              "    <tr>\n",
              "      <th>27838</th>\n",
              "      <td>With Anxiety</td>\n",
              "      <td>And they don’t get it. I let them know I decid...</td>\n",
              "    </tr>\n",
              "    <tr>\n",
              "      <th>27839</th>\n",
              "      <td>With Anxiety</td>\n",
              "      <td>I hate my job. I feel guilty because the pay a...</td>\n",
              "    </tr>\n",
              "    <tr>\n",
              "      <th>27840</th>\n",
              "      <td>With Anxiety</td>\n",
              "      <td>I just got approved for an apartment so I’ll b...</td>\n",
              "    </tr>\n",
              "    <tr>\n",
              "      <th>...</th>\n",
              "      <td>...</td>\n",
              "      <td>...</td>\n",
              "    </tr>\n",
              "    <tr>\n",
              "      <th>9936</th>\n",
              "      <td>Without Anxiety</td>\n",
              "      <td>I found out a few days ago when I looked at my...</td>\n",
              "    </tr>\n",
              "    <tr>\n",
              "      <th>9937</th>\n",
              "      <td>Without Anxiety</td>\n",
              "      <td>I found a video on a cassette of her smoking w...</td>\n",
              "    </tr>\n",
              "    <tr>\n",
              "      <th>9940</th>\n",
              "      <td>Without Anxiety</td>\n",
              "      <td>So I’ve been trying to mod gta 5 solo online f...</td>\n",
              "    </tr>\n",
              "    <tr>\n",
              "      <th>9943</th>\n",
              "      <td>Without Anxiety</td>\n",
              "      <td>Im a virgin and i want to be until marriage, b...</td>\n",
              "    </tr>\n",
              "    <tr>\n",
              "      <th>9945</th>\n",
              "      <td>Without Anxiety</td>\n",
              "      <td>throwaway account because i feel too guilty to...</td>\n",
              "    </tr>\n",
              "  </tbody>\n",
              "</table>\n",
              "<p>28880 rows × 2 columns</p>\n",
              "</div>\n",
              "      <button class=\"colab-df-convert\" onclick=\"convertToInteractive('df-56bfd4fe-ef28-44c5-ac68-c639366ea029')\"\n",
              "              title=\"Convert this dataframe to an interactive table.\"\n",
              "              style=\"display:none;\">\n",
              "        \n",
              "  <svg xmlns=\"http://www.w3.org/2000/svg\" height=\"24px\"viewBox=\"0 0 24 24\"\n",
              "       width=\"24px\">\n",
              "    <path d=\"M0 0h24v24H0V0z\" fill=\"none\"/>\n",
              "    <path d=\"M18.56 5.44l.94 2.06.94-2.06 2.06-.94-2.06-.94-.94-2.06-.94 2.06-2.06.94zm-11 1L8.5 8.5l.94-2.06 2.06-.94-2.06-.94L8.5 2.5l-.94 2.06-2.06.94zm10 10l.94 2.06.94-2.06 2.06-.94-2.06-.94-.94-2.06-.94 2.06-2.06.94z\"/><path d=\"M17.41 7.96l-1.37-1.37c-.4-.4-.92-.59-1.43-.59-.52 0-1.04.2-1.43.59L10.3 9.45l-7.72 7.72c-.78.78-.78 2.05 0 2.83L4 21.41c.39.39.9.59 1.41.59.51 0 1.02-.2 1.41-.59l7.78-7.78 2.81-2.81c.8-.78.8-2.07 0-2.86zM5.41 20L4 18.59l7.72-7.72 1.47 1.35L5.41 20z\"/>\n",
              "  </svg>\n",
              "      </button>\n",
              "      \n",
              "  <style>\n",
              "    .colab-df-container {\n",
              "      display:flex;\n",
              "      flex-wrap:wrap;\n",
              "      gap: 12px;\n",
              "    }\n",
              "\n",
              "    .colab-df-convert {\n",
              "      background-color: #E8F0FE;\n",
              "      border: none;\n",
              "      border-radius: 50%;\n",
              "      cursor: pointer;\n",
              "      display: none;\n",
              "      fill: #1967D2;\n",
              "      height: 32px;\n",
              "      padding: 0 0 0 0;\n",
              "      width: 32px;\n",
              "    }\n",
              "\n",
              "    .colab-df-convert:hover {\n",
              "      background-color: #E2EBFA;\n",
              "      box-shadow: 0px 1px 2px rgba(60, 64, 67, 0.3), 0px 1px 3px 1px rgba(60, 64, 67, 0.15);\n",
              "      fill: #174EA6;\n",
              "    }\n",
              "\n",
              "    [theme=dark] .colab-df-convert {\n",
              "      background-color: #3B4455;\n",
              "      fill: #D2E3FC;\n",
              "    }\n",
              "\n",
              "    [theme=dark] .colab-df-convert:hover {\n",
              "      background-color: #434B5C;\n",
              "      box-shadow: 0px 1px 3px 1px rgba(0, 0, 0, 0.15);\n",
              "      filter: drop-shadow(0px 1px 2px rgba(0, 0, 0, 0.3));\n",
              "      fill: #FFFFFF;\n",
              "    }\n",
              "  </style>\n",
              "\n",
              "      <script>\n",
              "        const buttonEl =\n",
              "          document.querySelector('#df-56bfd4fe-ef28-44c5-ac68-c639366ea029 button.colab-df-convert');\n",
              "        buttonEl.style.display =\n",
              "          google.colab.kernel.accessAllowed ? 'block' : 'none';\n",
              "\n",
              "        async function convertToInteractive(key) {\n",
              "          const element = document.querySelector('#df-56bfd4fe-ef28-44c5-ac68-c639366ea029');\n",
              "          const dataTable =\n",
              "            await google.colab.kernel.invokeFunction('convertToInteractive',\n",
              "                                                     [key], {});\n",
              "          if (!dataTable) return;\n",
              "\n",
              "          const docLinkHtml = 'Like what you see? Visit the ' +\n",
              "            '<a target=\"_blank\" href=https://colab.research.google.com/notebooks/data_table.ipynb>data table notebook</a>'\n",
              "            + ' to learn more about interactive tables.';\n",
              "          element.innerHTML = '';\n",
              "          dataTable['output_type'] = 'display_data';\n",
              "          await google.colab.output.renderOutput(dataTable, element);\n",
              "          const docLink = document.createElement('div');\n",
              "          docLink.innerHTML = docLinkHtml;\n",
              "          element.appendChild(docLink);\n",
              "        }\n",
              "      </script>\n",
              "    </div>\n",
              "  </div>\n",
              "  "
            ]
          },
          "metadata": {},
          "execution_count": 12
        }
      ]
    },
    {
      "cell_type": "code",
      "source": [
        "mhsu_new.label.value_counts()"
      ],
      "metadata": {
        "colab": {
          "base_uri": "https://localhost:8080/"
        },
        "id": "lhkp7mbNL0ZJ",
        "outputId": "af255262-08c8-4c0a-fb63-e9e714a9f7a5"
      },
      "execution_count": null,
      "outputs": [
        {
          "output_type": "execute_result",
          "data": {
            "text/plain": [
              "Without Anxiety    15276\n",
              "With Anxiety       13604\n",
              "Name: label, dtype: int64"
            ]
          },
          "metadata": {},
          "execution_count": 13
        }
      ]
    },
    {
      "cell_type": "code",
      "execution_count": null,
      "metadata": {
        "colab": {
          "base_uri": "https://localhost:8080/",
          "height": 367
        },
        "id": "K5oHq7CnYnrO",
        "outputId": "612fd885-c9b6-492f-82ff-a5eb0b8ee431"
      },
      "outputs": [
        {
          "output_type": "execute_result",
          "data": {
            "text/plain": [
              "Text(0.5, 0, 'Categories Type')"
            ]
          },
          "metadata": {},
          "execution_count": 14
        },
        {
          "output_type": "display_data",
          "data": {
            "text/plain": [
              "<Figure size 576x360 with 1 Axes>"
            ],
            "image/png": "[encoded data removed]"
          },
          "metadata": {
            "needs_background": "light"
          }
        }
      ],
      "source": [
        "rowsums = mhsu_new.iloc[:,:1].sum(axis=1)\n",
        "x = rowsums.value_counts()\n",
        "\n",
        "import matplotlib.pyplot as plt\n",
        "import seaborn as sns\n",
        "plt.figure(figsize=(8,5))\n",
        "ax = sns.barplot(x.index, x.values)\n",
        "plt.title(\"Number of Posts per categories\")\n",
        "plt.ylabel('Number of Occurrences')\n",
        "plt.xlabel('Categories Type')"
      ]
    },
    {
      "cell_type": "code",
      "execution_count": null,
      "metadata": {
        "colab": {
          "base_uri": "https://localhost:8080/"
        },
        "id": "r5W-ooORYtB4",
        "outputId": "068c96f6-bf56-4eed-b6e4-82458af7f2bb"
      },
      "outputs": [
        {
          "output_type": "execute_result",
          "data": {
            "text/plain": [
              "With Anxiety       12000\n",
              "Without Anxiety    12000\n",
              "Name: label, dtype: int64"
            ]
          },
          "metadata": {},
          "execution_count": 15
        }
      ],
      "source": [
        "# Dealing with class imbalance by upsampling and downsampling the dataset\n",
        "from sklearn.utils import resample\n",
        "\n",
        "Anxiety_to_scale = mhsu_new[mhsu_new.label=='With Anxiety']\n",
        "Without_Anxiety_to_scale = mhsu_new[mhsu_new.label=='Without Anxiety']\n",
        "\n",
        "# to upscale Anxiety class\n",
        "Anxiety_scaled = resample(Anxiety_to_scale,\n",
        "                            replace=False,     # sample with replacement\n",
        "                            n_samples=12000,    # to match majority class\n",
        "                            random_state=1234) # reproducible results\n",
        " \n",
        "# to upscale ADHD class\n",
        "Without_Anxiety_scaled = resample(Without_Anxiety_to_scale,\n",
        "                                  replace=False,     # sample with replacement\n",
        "                                  n_samples=12000,    # to match majority class\n",
        "                                  random_state=1235) # reproducible results\n",
        " \n",
        "# Combine majority class with upsampled minority class\n",
        "mhsu_balanced = pd.concat([Anxiety_scaled, Without_Anxiety_scaled])\n",
        "\n",
        "\n",
        "mhsu_balanced.label.value_counts()"
      ]
    },
    {
      "cell_type": "code",
      "execution_count": null,
      "metadata": {
        "colab": {
          "base_uri": "https://localhost:8080/",
          "height": 367
        },
        "id": "CW58TgfDY5Qg",
        "outputId": "96d4a9f5-5947-495c-b45e-bd1b86112f49"
      },
      "outputs": [
        {
          "output_type": "execute_result",
          "data": {
            "text/plain": [
              "Text(0.5, 0, 'Categories Type')"
            ]
          },
          "metadata": {},
          "execution_count": 16
        },
        {
          "output_type": "display_data",
          "data": {
            "text/plain": [
              "<Figure size 576x360 with 1 Axes>"
            ],
            "image/png": "[encoded data removed]"
          },
          "metadata": {
            "needs_background": "light"
          }
        }
      ],
      "source": [
        "rowsums = mhsu_balanced.iloc[:,:1].sum(axis=1)\n",
        "x = rowsums.value_counts()\n",
        "\n",
        "import matplotlib.pyplot as plt\n",
        "import seaborn as sns\n",
        "plt.figure(figsize=(8,5))\n",
        "ax = sns.barplot(x.index, x.values)\n",
        "plt.title(\"Number of Posts per categories\")\n",
        "plt.ylabel('Number of Occurrences')\n",
        "plt.xlabel('Categories Type')"
      ]
    },
    {
      "cell_type": "code",
      "execution_count": null,
      "metadata": {
        "colab": {
          "base_uri": "https://localhost:8080/",
          "height": 424
        },
        "id": "EObSJVq-ZhkQ",
        "outputId": "f5f5054c-7523-487f-d86c-7e3e580c6112"
      },
      "outputs": [
        {
          "output_type": "execute_result",
          "data": {
            "text/plain": [
              "                 label                                           selftext\n",
              "31579     With Anxiety  Been trying to join some discord servers to ma...\n",
              "32895     With Anxiety  I can’t stop worrying about it and thinking I ...\n",
              "44954     With Anxiety                      I may have gerd lol. Imma see\n",
              "39341     With Anxiety  I want to break no contact. I have this naggin...\n",
              "39009     With Anxiety  \\ni’m in grad school now. but i went through 4...\n",
              "...                ...                                                ...\n",
              "12989  Without Anxiety  Hello everyone, my piggy Lucky seemed to be co...\n",
              "9291   Without Anxiety  I’ve just thought of this because, since I’ve ...\n",
              "9889   Without Anxiety  i developed a fucking eating disorder im so fu...\n",
              "11410  Without Anxiety  I’d rather not apply for another credit card. ...\n",
              "9487   Without Anxiety  I work at a big box store and will often “forg...\n",
              "\n",
              "[24000 rows x 2 columns]"
            ],
            "text/html": [
              "\n",
              "  <div id=\"df-2a701ad8-c391-418c-88d0-10debd8687fd\">\n",
              "    <div class=\"colab-df-container\">\n",
              "      <div>\n",
              "<style scoped>\n",
              "    .dataframe tbody tr th:only-of-type {\n",
              "        vertical-align: middle;\n",
              "    }\n",
              "\n",
              "    .dataframe tbody tr th {\n",
              "        vertical-align: top;\n",
              "    }\n",
              "\n",
              "    .dataframe thead th {\n",
              "        text-align: right;\n",
              "    }\n",
              "</style>\n",
              "<table border=\"1\" class=\"dataframe\">\n",
              "  <thead>\n",
              "    <tr style=\"text-align: right;\">\n",
              "      <th></th>\n",
              "      <th>label</th>\n",
              "      <th>selftext</th>\n",
              "    </tr>\n",
              "  </thead>\n",
              "  <tbody>\n",
              "    <tr>\n",
              "      <th>31579</th>\n",
              "      <td>With Anxiety</td>\n",
              "      <td>Been trying to join some discord servers to ma...</td>\n",
              "    </tr>\n",
              "    <tr>\n",
              "      <th>32895</th>\n",
              "      <td>With Anxiety</td>\n",
              "      <td>I can’t stop worrying about it and thinking I ...</td>\n",
              "    </tr>\n",
              "    <tr>\n",
              "      <th>44954</th>\n",
              "      <td>With Anxiety</td>\n",
              "      <td>I may have gerd lol. Imma see</td>\n",
              "    </tr>\n",
              "    <tr>\n",
              "      <th>39341</th>\n",
              "      <td>With Anxiety</td>\n",
              "      <td>I want to break no contact. I have this naggin...</td>\n",
              "    </tr>\n",
              "    <tr>\n",
              "      <th>39009</th>\n",
              "      <td>With Anxiety</td>\n",
              "      <td>\\ni’m in grad school now. but i went through 4...</td>\n",
              "    </tr>\n",
              "    <tr>\n",
              "      <th>...</th>\n",
              "      <td>...</td>\n",
              "      <td>...</td>\n",
              "    </tr>\n",
              "    <tr>\n",
              "      <th>12989</th>\n",
              "      <td>Without Anxiety</td>\n",
              "      <td>Hello everyone, my piggy Lucky seemed to be co...</td>\n",
              "    </tr>\n",
              "    <tr>\n",
              "      <th>9291</th>\n",
              "      <td>Without Anxiety</td>\n",
              "      <td>I’ve just thought of this because, since I’ve ...</td>\n",
              "    </tr>\n",
              "    <tr>\n",
              "      <th>9889</th>\n",
              "      <td>Without Anxiety</td>\n",
              "      <td>i developed a fucking eating disorder im so fu...</td>\n",
              "    </tr>\n",
              "    <tr>\n",
              "      <th>11410</th>\n",
              "      <td>Without Anxiety</td>\n",
              "      <td>I’d rather not apply for another credit card. ...</td>\n",
              "    </tr>\n",
              "    <tr>\n",
              "      <th>9487</th>\n",
              "      <td>Without Anxiety</td>\n",
              "      <td>I work at a big box store and will often “forg...</td>\n",
              "    </tr>\n",
              "  </tbody>\n",
              "</table>\n",
              "<p>24000 rows × 2 columns</p>\n",
              "</div>\n",
              "      <button class=\"colab-df-convert\" onclick=\"convertToInteractive('df-2a701ad8-c391-418c-88d0-10debd8687fd')\"\n",
              "              title=\"Convert this dataframe to an interactive table.\"\n",
              "              style=\"display:none;\">\n",
              "        \n",
              "  <svg xmlns=\"http://www.w3.org/2000/svg\" height=\"24px\"viewBox=\"0 0 24 24\"\n",
              "       width=\"24px\">\n",
              "    <path d=\"M0 0h24v24H0V0z\" fill=\"none\"/>\n",
              "    <path d=\"M18.56 5.44l.94 2.06.94-2.06 2.06-.94-2.06-.94-.94-2.06-.94 2.06-2.06.94zm-11 1L8.5 8.5l.94-2.06 2.06-.94-2.06-.94L8.5 2.5l-.94 2.06-2.06.94zm10 10l.94 2.06.94-2.06 2.06-.94-2.06-.94-.94-2.06-.94 2.06-2.06.94z\"/><path d=\"M17.41 7.96l-1.37-1.37c-.4-.4-.92-.59-1.43-.59-.52 0-1.04.2-1.43.59L10.3 9.45l-7.72 7.72c-.78.78-.78 2.05 0 2.83L4 21.41c.39.39.9.59 1.41.59.51 0 1.02-.2 1.41-.59l7.78-7.78 2.81-2.81c.8-.78.8-2.07 0-2.86zM5.41 20L4 18.59l7.72-7.72 1.47 1.35L5.41 20z\"/>\n",
              "  </svg>\n",
              "      </button>\n",
              "      \n",
              "  <style>\n",
              "    .colab-df-container {\n",
              "      display:flex;\n",
              "      flex-wrap:wrap;\n",
              "      gap: 12px;\n",
              "    }\n",
              "\n",
              "    .colab-df-convert {\n",
              "      background-color: #E8F0FE;\n",
              "      border: none;\n",
              "      border-radius: 50%;\n",
              "      cursor: pointer;\n",
              "      display: none;\n",
              "      fill: #1967D2;\n",
              "      height: 32px;\n",
              "      padding: 0 0 0 0;\n",
              "      width: 32px;\n",
              "    }\n",
              "\n",
              "    .colab-df-convert:hover {\n",
              "      background-color: #E2EBFA;\n",
              "      box-shadow: 0px 1px 2px rgba(60, 64, 67, 0.3), 0px 1px 3px 1px rgba(60, 64, 67, 0.15);\n",
              "      fill: #174EA6;\n",
              "    }\n",
              "\n",
              "    [theme=dark] .colab-df-convert {\n",
              "      background-color: #3B4455;\n",
              "      fill: #D2E3FC;\n",
              "    }\n",
              "\n",
              "    [theme=dark] .colab-df-convert:hover {\n",
              "      background-color: #434B5C;\n",
              "      box-shadow: 0px 1px 3px 1px rgba(0, 0, 0, 0.15);\n",
              "      filter: drop-shadow(0px 1px 2px rgba(0, 0, 0, 0.3));\n",
              "      fill: #FFFFFF;\n",
              "    }\n",
              "  </style>\n",
              "\n",
              "      <script>\n",
              "        const buttonEl =\n",
              "          document.querySelector('#df-2a701ad8-c391-418c-88d0-10debd8687fd button.colab-df-convert');\n",
              "        buttonEl.style.display =\n",
              "          google.colab.kernel.accessAllowed ? 'block' : 'none';\n",
              "\n",
              "        async function convertToInteractive(key) {\n",
              "          const element = document.querySelector('#df-2a701ad8-c391-418c-88d0-10debd8687fd');\n",
              "          const dataTable =\n",
              "            await google.colab.kernel.invokeFunction('convertToInteractive',\n",
              "                                                     [key], {});\n",
              "          if (!dataTable) return;\n",
              "\n",
              "          const docLinkHtml = 'Like what you see? Visit the ' +\n",
              "            '<a target=\"_blank\" href=https://colab.research.google.com/notebooks/data_table.ipynb>data table notebook</a>'\n",
              "            + ' to learn more about interactive tables.';\n",
              "          element.innerHTML = '';\n",
              "          dataTable['output_type'] = 'display_data';\n",
              "          await google.colab.output.renderOutput(dataTable, element);\n",
              "          const docLink = document.createElement('div');\n",
              "          docLink.innerHTML = docLinkHtml;\n",
              "          element.appendChild(docLink);\n",
              "        }\n",
              "      </script>\n",
              "    </div>\n",
              "  </div>\n",
              "  "
            ]
          },
          "metadata": {},
          "execution_count": 17
        }
      ],
      "source": [
        "mhsu_balanced"
      ]
    },
    {
      "cell_type": "code",
      "execution_count": null,
      "metadata": {
        "id": "fqt3fL1oZo_S"
      },
      "outputs": [],
      "source": [
        "stop_words = set(stopwords) - set(['not', \"don't\", \"didn't\", \"hadn't\", \"hasn't\", \"haven't\", \"won't\", \"wouldn't\" ])\n",
        "def clean_text(text):\n",
        "    text = \"\".join([word.lower() for word in text if word not in string.punctuation])\n",
        "    sentence = text.replace(r\"http\\S+\", \"\")\n",
        "    sentence = sentence.replace(r'^https?:\\/\\/.*[\\r\\n]*', '')\n",
        "    sentence = sentence.replace(r\"https\\S+\", \"\")\n",
        "    sentence = sentence.replace(r\"http\", \"\")\n",
        "    sentence = sentence.replace(r\"https\", \"\")\n",
        "    tokens = re.split('\\W+', sentence)\n",
        "    text = [word for word in tokens if word not in stop_words]\n",
        "    text = [word for word in text if word.isalpha()]\n",
        "    text = \" \".join(text)\n",
        "    return text"
      ]
    },
    {
      "cell_type": "code",
      "execution_count": null,
      "metadata": {
        "id": "cRroaQgOZsUo",
        "colab": {
          "base_uri": "https://localhost:8080/",
          "height": 424
        },
        "outputId": "243490de-8ac1-4735-f985-c8c14f4ae089"
      },
      "outputs": [
        {
          "output_type": "execute_result",
          "data": {
            "text/plain": [
              "                 label                                           selftext  \\\n",
              "31579     With Anxiety  Been trying to join some discord servers to ma...   \n",
              "32895     With Anxiety  I can’t stop worrying about it and thinking I ...   \n",
              "44954     With Anxiety                      I may have gerd lol. Imma see   \n",
              "39341     With Anxiety  I want to break no contact. I have this naggin...   \n",
              "39009     With Anxiety  \\ni’m in grad school now. but i went through 4...   \n",
              "...                ...                                                ...   \n",
              "12989  Without Anxiety  Hello everyone, my piggy Lucky seemed to be co...   \n",
              "9291   Without Anxiety  I’ve just thought of this because, since I’ve ...   \n",
              "9889   Without Anxiety  i developed a fucking eating disorder im so fu...   \n",
              "11410  Without Anxiety  I’d rather not apply for another credit card. ...   \n",
              "9487   Without Anxiety  I work at a big box store and will often “forg...   \n",
              "\n",
              "                                              clean_text  \n",
              "31579  trying join discord servers make new friends u...  \n",
              "32895  stop worrying thinking severe health anxiety o...  \n",
              "44954                              may gerd lol imma see  \n",
              "39341  want break contact nagging urge write text mes...  \n",
              "39009  grad school went years college never made clos...  \n",
              "...                                                  ...  \n",
              "12989  hello everyone piggy lucky seemed convulsing r...  \n",
              "9291   thought since considered leftist two years ago...  \n",
              "9889   developed fucking eating disorder im fucking t...  \n",
              "11410  rather not apply another credit card already t...  \n",
              "9487   work big box store often forget scan items esp...  \n",
              "\n",
              "[24000 rows x 3 columns]"
            ],
            "text/html": [
              "\n",
              "  <div id=\"df-1400f141-0e8b-4e54-a47e-0d4d9c108897\">\n",
              "    <div class=\"colab-df-container\">\n",
              "      <div>\n",
              "<style scoped>\n",
              "    .dataframe tbody tr th:only-of-type {\n",
              "        vertical-align: middle;\n",
              "    }\n",
              "\n",
              "    .dataframe tbody tr th {\n",
              "        vertical-align: top;\n",
              "    }\n",
              "\n",
              "    .dataframe thead th {\n",
              "        text-align: right;\n",
              "    }\n",
              "</style>\n",
              "<table border=\"1\" class=\"dataframe\">\n",
              "  <thead>\n",
              "    <tr style=\"text-align: right;\">\n",
              "      <th></th>\n",
              "      <th>label</th>\n",
              "      <th>selftext</th>\n",
              "      <th>clean_text</th>\n",
              "    </tr>\n",
              "  </thead>\n",
              "  <tbody>\n",
              "    <tr>\n",
              "      <th>31579</th>\n",
              "      <td>With Anxiety</td>\n",
              "      <td>Been trying to join some discord servers to ma...</td>\n",
              "      <td>trying join discord servers make new friends u...</td>\n",
              "    </tr>\n",
              "    <tr>\n",
              "      <th>32895</th>\n",
              "      <td>With Anxiety</td>\n",
              "      <td>I can’t stop worrying about it and thinking I ...</td>\n",
              "      <td>stop worrying thinking severe health anxiety o...</td>\n",
              "    </tr>\n",
              "    <tr>\n",
              "      <th>44954</th>\n",
              "      <td>With Anxiety</td>\n",
              "      <td>I may have gerd lol. Imma see</td>\n",
              "      <td>may gerd lol imma see</td>\n",
              "    </tr>\n",
              "    <tr>\n",
              "      <th>39341</th>\n",
              "      <td>With Anxiety</td>\n",
              "      <td>I want to break no contact. I have this naggin...</td>\n",
              "      <td>want break contact nagging urge write text mes...</td>\n",
              "    </tr>\n",
              "    <tr>\n",
              "      <th>39009</th>\n",
              "      <td>With Anxiety</td>\n",
              "      <td>\\ni’m in grad school now. but i went through 4...</td>\n",
              "      <td>grad school went years college never made clos...</td>\n",
              "    </tr>\n",
              "    <tr>\n",
              "      <th>...</th>\n",
              "      <td>...</td>\n",
              "      <td>...</td>\n",
              "      <td>...</td>\n",
              "    </tr>\n",
              "    <tr>\n",
              "      <th>12989</th>\n",
              "      <td>Without Anxiety</td>\n",
              "      <td>Hello everyone, my piggy Lucky seemed to be co...</td>\n",
              "      <td>hello everyone piggy lucky seemed convulsing r...</td>\n",
              "    </tr>\n",
              "    <tr>\n",
              "      <th>9291</th>\n",
              "      <td>Without Anxiety</td>\n",
              "      <td>I’ve just thought of this because, since I’ve ...</td>\n",
              "      <td>thought since considered leftist two years ago...</td>\n",
              "    </tr>\n",
              "    <tr>\n",
              "      <th>9889</th>\n",
              "      <td>Without Anxiety</td>\n",
              "      <td>i developed a fucking eating disorder im so fu...</td>\n",
              "      <td>developed fucking eating disorder im fucking t...</td>\n",
              "    </tr>\n",
              "    <tr>\n",
              "      <th>11410</th>\n",
              "      <td>Without Anxiety</td>\n",
              "      <td>I’d rather not apply for another credit card. ...</td>\n",
              "      <td>rather not apply another credit card already t...</td>\n",
              "    </tr>\n",
              "    <tr>\n",
              "      <th>9487</th>\n",
              "      <td>Without Anxiety</td>\n",
              "      <td>I work at a big box store and will often “forg...</td>\n",
              "      <td>work big box store often forget scan items esp...</td>\n",
              "    </tr>\n",
              "  </tbody>\n",
              "</table>\n",
              "<p>24000 rows × 3 columns</p>\n",
              "</div>\n",
              "      <button class=\"colab-df-convert\" onclick=\"convertToInteractive('df-1400f141-0e8b-4e54-a47e-0d4d9c108897')\"\n",
              "              title=\"Convert this dataframe to an interactive table.\"\n",
              "              style=\"display:none;\">\n",
              "        \n",
              "  <svg xmlns=\"http://www.w3.org/2000/svg\" height=\"24px\"viewBox=\"0 0 24 24\"\n",
              "       width=\"24px\">\n",
              "    <path d=\"M0 0h24v24H0V0z\" fill=\"none\"/>\n",
              "    <path d=\"M18.56 5.44l.94 2.06.94-2.06 2.06-.94-2.06-.94-.94-2.06-.94 2.06-2.06.94zm-11 1L8.5 8.5l.94-2.06 2.06-.94-2.06-.94L8.5 2.5l-.94 2.06-2.06.94zm10 10l.94 2.06.94-2.06 2.06-.94-2.06-.94-.94-2.06-.94 2.06-2.06.94z\"/><path d=\"M17.41 7.96l-1.37-1.37c-.4-.4-.92-.59-1.43-.59-.52 0-1.04.2-1.43.59L10.3 9.45l-7.72 7.72c-.78.78-.78 2.05 0 2.83L4 21.41c.39.39.9.59 1.41.59.51 0 1.02-.2 1.41-.59l7.78-7.78 2.81-2.81c.8-.78.8-2.07 0-2.86zM5.41 20L4 18.59l7.72-7.72 1.47 1.35L5.41 20z\"/>\n",
              "  </svg>\n",
              "      </button>\n",
              "      \n",
              "  <style>\n",
              "    .colab-df-container {\n",
              "      display:flex;\n",
              "      flex-wrap:wrap;\n",
              "      gap: 12px;\n",
              "    }\n",
              "\n",
              "    .colab-df-convert {\n",
              "      background-color: #E8F0FE;\n",
              "      border: none;\n",
              "      border-radius: 50%;\n",
              "      cursor: pointer;\n",
              "      display: none;\n",
              "      fill: #1967D2;\n",
              "      height: 32px;\n",
              "      padding: 0 0 0 0;\n",
              "      width: 32px;\n",
              "    }\n",
              "\n",
              "    .colab-df-convert:hover {\n",
              "      background-color: #E2EBFA;\n",
              "      box-shadow: 0px 1px 2px rgba(60, 64, 67, 0.3), 0px 1px 3px 1px rgba(60, 64, 67, 0.15);\n",
              "      fill: #174EA6;\n",
              "    }\n",
              "\n",
              "    [theme=dark] .colab-df-convert {\n",
              "      background-color: #3B4455;\n",
              "      fill: #D2E3FC;\n",
              "    }\n",
              "\n",
              "    [theme=dark] .colab-df-convert:hover {\n",
              "      background-color: #434B5C;\n",
              "      box-shadow: 0px 1px 3px 1px rgba(0, 0, 0, 0.15);\n",
              "      filter: drop-shadow(0px 1px 2px rgba(0, 0, 0, 0.3));\n",
              "      fill: #FFFFFF;\n",
              "    }\n",
              "  </style>\n",
              "\n",
              "      <script>\n",
              "        const buttonEl =\n",
              "          document.querySelector('#df-1400f141-0e8b-4e54-a47e-0d4d9c108897 button.colab-df-convert');\n",
              "        buttonEl.style.display =\n",
              "          google.colab.kernel.accessAllowed ? 'block' : 'none';\n",
              "\n",
              "        async function convertToInteractive(key) {\n",
              "          const element = document.querySelector('#df-1400f141-0e8b-4e54-a47e-0d4d9c108897');\n",
              "          const dataTable =\n",
              "            await google.colab.kernel.invokeFunction('convertToInteractive',\n",
              "                                                     [key], {});\n",
              "          if (!dataTable) return;\n",
              "\n",
              "          const docLinkHtml = 'Like what you see? Visit the ' +\n",
              "            '<a target=\"_blank\" href=https://colab.research.google.com/notebooks/data_table.ipynb>data table notebook</a>'\n",
              "            + ' to learn more about interactive tables.';\n",
              "          element.innerHTML = '';\n",
              "          dataTable['output_type'] = 'display_data';\n",
              "          await google.colab.output.renderOutput(dataTable, element);\n",
              "          const docLink = document.createElement('div');\n",
              "          docLink.innerHTML = docLinkHtml;\n",
              "          element.appendChild(docLink);\n",
              "        }\n",
              "      </script>\n",
              "    </div>\n",
              "  </div>\n",
              "  "
            ]
          },
          "metadata": {},
          "execution_count": 19
        }
      ],
      "source": [
        "mhsu_balanced['clean_text'] = mhsu_balanced['selftext'].map(lambda x : clean_text(x))\n",
        "mhsu_balanced"
      ]
    },
    {
      "cell_type": "code",
      "execution_count": null,
      "metadata": {
        "id": "0syvKwIUZu-K"
      },
      "outputs": [],
      "source": [
        "from sklearn.feature_extraction.text import CountVectorizer\n",
        "\n",
        "#tokenized_text = tfidf_vect.get_feature_names()\n",
        "\n",
        "def get_toptext_ngrams(corpus, ngrams=(1, 1), nr=None):\n",
        "    \"\"\"\n",
        "    creates a bag of ngrams and counts ngram frequency.\n",
        "\n",
        "    Returns a list of tuples: (ngram, count)\n",
        "    \"\"\"\n",
        "    vec = CountVectorizer(ngram_range=ngrams, stop_words = 'english').fit(corpus)\n",
        "    bag_of_words = vec.transform(corpus)\n",
        "    sum_words = bag_of_words.sum(axis=0)\n",
        "    words_freq = [(word, sum_words[0, idx]) for word, idx in vec.vocabulary_.items()]\n",
        "    words_freq = sorted(words_freq, key=lambda x: x[1], reverse=True)\n",
        "    return words_freq[:nr]"
      ]
    },
    {
      "cell_type": "code",
      "execution_count": null,
      "metadata": {
        "id": "6kgLDFPuZ1uK",
        "colab": {
          "base_uri": "https://localhost:8080/"
        },
        "outputId": "9012c1a7-8003-4f55-ce82-d7df210c1051"
      },
      "outputs": [
        {
          "output_type": "stream",
          "name": "stdout",
          "text": [
            "[('feel like im', 412), ('mental static mental', 173), ('static mental static', 173), ('dont know im', 105), ('dont feel like', 86), ('makes feel like', 86), ('im pretty sure', 85), ('long story short', 78), ('like feel like', 74), ('dont really know', 68)]\n"
          ]
        }
      ],
      "source": [
        "top_text_ngrams = get_toptext_ngrams(mhsu_balanced.clean_text, ngrams=(3, 3), nr=10)\n",
        "print(top_text_ngrams)"
      ]
    },
    {
      "cell_type": "code",
      "execution_count": null,
      "metadata": {
        "colab": {
          "base_uri": "https://localhost:8080/",
          "height": 516
        },
        "id": "NGAbV0EuZ4Tl",
        "outputId": "ff85ef48-c2e2-4873-c279-32284a6bb8c6"
      },
      "outputs": [
        {
          "output_type": "execute_result",
          "data": {
            "text/plain": [
              "Text(0.5, 1.0, 'Distribution of Top-10 Tri-gram in the corpus')"
            ]
          },
          "metadata": {},
          "execution_count": 22
        },
        {
          "output_type": "display_data",
          "data": {
            "text/plain": [
              "<Figure size 1152x576 with 1 Axes>"
            ],
            "image/png": "[encoded data removed]"
          },
          "metadata": {
            "needs_background": "light"
          }
        }
      ],
      "source": [
        "x, y = zip(*top_text_ngrams)\n",
        "plt.figure(1, figsize=(16, 8))\n",
        "plt.subplot(1, 1, 1)\n",
        "plt.bar(x, y)\n",
        "plt.title('Distribution of Top-10 Tri-gram in the corpus')"
      ]
    },
    {
      "cell_type": "code",
      "execution_count": null,
      "metadata": {
        "id": "XesY4NfbZ_MV",
        "colab": {
          "base_uri": "https://localhost:8080/"
        },
        "outputId": "0699474e-9357-4e8f-a211-bfe026b03ee0"
      },
      "outputs": [
        {
          "output_type": "stream",
          "name": "stdout",
          "text": [
            "(24000, 9186)\n",
            "['aagian idk thing', 'ab ap research', 'abdomen arms itch', 'abdomen legs arms', 'abdomen usually mornings', 'abdominal pain pelvic', 'able fall asleep', 'able fullfill promise', 'able health issues', 'able live life', 'able make money', 'able pinpoint food', 'able play game', 'able promise wed', 'able really poop', 'able swallow food', 'able talk people', 'abnormal bowel movements', 'abnormal pap smears', 'abnormal scared uterineovarycervixal', 'absolute facts feel', 'absolutely appetite normally', 'abuse issues insomnia', 'abuse manipulation gaslighting', 'abused years multiple', 'accept payment offsite', 'accepted job offer', 'accepting payment booking', 'accepting payment outside', 'accessory parotid gland', 'accident feel like', 'account rover terminate', 'accused talking people', 'accutane high school', 'achieve goal thanks', 'achieving kid played', 'acknowledged understood powerful', 'action based monetary', 'action completely remove', 'action instead picking', 'active march lot', 'activities brush teeth', 'acts like internal', 'actually action instead', 'actually boy like', 'actually calms body', 'actually feel like', 'actually feel worse', 'actually gives meaning', 'actually like forget', 'actually period making', 'actually pretty good', 'actually really nice', 'actually sounds really', 'actually sure good', 'actually want know', 'add arent intrusive', 'add diabetess heart', 'add schizophrenia bpd', 'address intended donation', 'adhd add schizophrenia', 'adhd depression anxiety', 'adhd months ago', 'adhd ocd anxiety', 'adhd share bunch', 'admittedly clean cpap', 'adrenaline day jst', 'adrenaline rushes overall', 'adult birthday dread', 'adult ill teenagekid', 'adult makes think', 'advance suggestions process', 'advice appointment wait', 'advice appreciated thanks', 'advice bad long', 'advice greatly appreciated', 'advice month ago', 'advice non binary', 'advice really appreciated', 'advice thanks advance', 'advisory council communicated', 'affects lower arm', 'affirmations stand like', 'afraid fall asleep', 'afraid long recovery', 'aftercare public school', 'age athletes time', 'age conquering issues', 'age faster like', 'age im worried', 'age lbs listened', 'age male thanks', 'age maybe handful', 'age social media', 'age theyre good', 'ages server canvas', 'aggravated hurt bit', 'ago bad lasted', 'ago cleaning panoramic', 'ago closest friends', 'ago cut gluten', 'ago dont know', 'ago feel like', 'ago felt like', 'ago history endometriosis', 'ago legit like', 'ago listened ecg', 'ago met guy', 'ago panic attack', 'ago panic attacks', 'ago pressing cheeks', 'ago quite suddenly', 'ago root canal', 'ago sleep anxiety', 'ago slightly painful', 'ago started getting', 'ago struggling pretty', 'ago thought man', 'ago went cold', 'ago worry bet', 'agree use rover', 'agreed day asked', 'agreed days later', 'agreed really care', 'ah sleep fear', 'ahead thing happen', 'ailments stemming obesity', 'air floaty weird', 'airsoft shooting grade', 'album eye issues', 'album random red', 'alerts coupe days', 'alienware sounds good', 'alive idk id', 'allergist said histamine', 'allergy basically tests', 'allow feel anger', 'allow feel healthy', 'allowed let know', 'allowing freedom possible', 'allowing people meds', 'allowing posts benefits', 'almsot faster outside', 'alot end birthday', 'alright idk true', 'amazon thought issue', 'amber alerts coupe', 'amd thing bad', 'amds relive thing', 'american math competition', 'amoxicillin clavulanate past', 'ana blood test', 'ana test pcp', 'ancient history ap', 'andor stopping ssris', 'anger convince im', 'anger issues substance', 'aniety bring theres', 'animal im sitting', 'answer cause symptoms', 'answer questions appreciate', 'answer said shoildve', 'answered million times', 'anti anxiety meds', 'anways went urgent', 'anxiety attack coming', 'anxiety bipolar bpd', 'anxiety bp like', 'anxiety cardiophobia thing', 'anxiety caused svt', 'anxiety caused theres', 'anxiety causes anxiety', 'anxiety checking bring', 'anxiety days hits', 'anxiety definitely depend', 'anxiety depression years', 'anxiety disorders phobias', 'anxiety dont know', 'anxiety energy nervousness', 'anxiety entire life', 'anxiety feel anxious', 'anxiety feel liek', 'anxiety feel like', 'anxiety feelhear heart', 'anxiety feels like', 'anxiety getting day', 'anxiety good ass', 'anxiety health anxiety', 'anxiety heart kinda', 'anxiety heart slows', 'anxiety hyper focusing', 'anxiety im scared', 'anxiety im trying', 'anxiety im worried', 'anxiety issues need', 'anxiety ive taken', 'anxiety know ask', 'anxiety long remember', 'anxiety long time', 'anxiety make feel', 'anxiety ocd ed', 'anxiety panic attack', 'anxiety panic attacks', 'anxiety panic disorder', 'anxiety past months', 'anxiety phase struggling', 'anxiety physical testing', 'anxiety pretty bad', 'anxiety prevented coming', 'anxiety shorter lasting', 'anxiety slept like', 'anxiety social anxiety', 'anxiety started triggered', 'anxiety symptoms like', 'anxiety time high', 'anxiety went ecg', 'anxiety yeah summary', 'anxietypanic attack sensitive', 'anxietypanic attacks past', 'anxiey makes look', 'anxious advicecalming thoughtshelp', 'anxious day point', 'anxious entire time', 'anxious feel like', 'anxious feel sick', 'anxious heart opposite', 'anxious like life', 'anxious panic attack', 'anxious person got', 'anxious personality long', 'anxious right feel', 'anxious sad situation', 'anxious said biopsy', 'anxious thoughts miraculously', 'anybody feel way', 'anybody know fix', 'anymore anxiety energy', 'anymore distractions reminds', 'anymore dont care', 'anymore dont know', 'anymore dont want', 'anymore feel like', 'anymore feels like', 'anymore irritating thing', 'anymore literallysince spoken', 'anymore loneliness painful', 'anymore medications spiraling', 'anymore paint creative', 'anymore realized dont', 'anymore really want', 'anymore scares honestly', 'anymore tend avoid', 'anytime head bumped', 'anyways looking purchase', 'ap ancient history', 'ap csp physics', 'ap lang french', 'ap modern history', 'ap research project', 'ap scholar honor', 'ap tests selected', 'ap world history', 'ap world petition', 'ap world teachers', 'apart mental health', 'apartment furniture job', 'apetite sure whats', 'apib scores world', 'apnea use cpap', 'apologize kept saying', 'apologize text app', 'app decided stay', 'apparently false reading', 'appear generally drier', 'appeared bad panic', 'appeared finally got', 'appears abdomen arms', 'appetite extremely fast', 'appetite loss fatigue', 'appetite loss weight', 'appetite normally wake', 'appetite weight loss', 'applying jobs matter', 'appointment wait till', 'appreciate advice people', 'appreciate depth struggle', 'appreciate feedback experiences', 'appreciate help thanks', 'appreciate provide financial', 'appreciated honesty fast', 'approach need help', 'appropriate thing locker', 'approval said life', 'apps daily things', 'apps help hobbies', 'appsite initial contact', 'appsite violate rule', 'april moved april', 'april moved pay', 'april shake terrible', 'april started getting', 'april time started', 'apush ap csp', 'area ear flushing', 'area issue closest', 'arent intrusive dont', 'argue called mom', 'arguing alot end', 'arguing avoid conflict', 'arguing decided broke', 'arguments bad time', 'arguments controlno fighting', 'arguments person arguing', 'arm prick feeling', 'arms itch raised', 'arms itchy spots', 'arms legs want', 'arms like invisible', 'arms overall body', 'aroun like im', 'arrange provision purchase', 'arranging booking rover', 'array mental illnesses', 'arrhythmia svt wearing', 'asbestos mercury fears', 'ask know appropriate', 'ask mum use', 'ask questions like', 'ask talking tell', 'asked explain like', 'asked feel really', 'asked getting attention', 'asked help told', 'asked pcos says', 'asked say friends', 'asked use sheher', 'asked want break', 'asking feel like', 'aspergers autism ocd', 'aspergers thing feel', 'ass day playing', 'ass eventually time', 'assaults maybe write', 'assignments students teachers', 'assume worst case', 'assuming period way', 'ate diarrhea day', 'ate home day', 'athletes time im', 'atm ranking course', 'attach things way', 'attack brought higher', 'attack fears getting', 'attack kept coming', 'attack lasted like', 'attack occasional heart', 'attack sensitive surroundings', 'attack shower heart', 'attack went urgent', 'attacks bad ocd', 'attacks days ago', 'attacks depression started', 'attacks dissociationdepersonalization episodes', 'attacks ecg fine', 'attacks idk feel', 'attacks past like', 'attacks pull program', 'attacks said fine', 'attacks shortness breath', 'attacks thoughts thinking', 'attention gets louder', 'attention said later', 'attention span apps', 'attractive girls depressed', 'atx mid tower', 'audacity results id', 'audio actually sounds', 'audio lack bass', 'audio output audio', 'audio record whats', 'august feel like', 'august situation happened', 'august spotted brown', 'authors write memoirs', 'autism adhd ocd', 'autism ocd adhd', 'autoimmune condition meeting', 'automatically correct gets', 'autopilot id remind', 'available trying replace', 'average sitting rate', 'average walking rate', 'avoid conflict defent', 'avoid sleeping wanna', 'avoid stuff like', 'avoidant cleaned mightve', 'avoiding personality disorder', 'awake know long', 'awake needed wouldve', 'awardshonors level recognition', 'aware heart beat', 'aware heart beats', 'away day went', 'away feel like', 'away feels like', 'away felt stomach', 'away felt vulnerable', 'away idk like', 'away today issues', 'away went school', 'away years ago', 'awhile birth control', 'awkward point stand', 'baby months old', 'baby schizophrenia add', 'baby voice dad', 'background check drug', 'backpack know sounds', 'backpacks piano keyboards', 'backyard mushrooms heart', 'bad able health', 'bad anxiety attack', 'bad anxiety depression', 'bad anxiety past', 'bad contamination fears', 'bad dad time', 'bad deep wrinkles', 'bad dont know', 'bad english im', 'bad feel like', 'bad feels like', 'bad going happen', 'bad good things', 'bad health anxiety', 'bad health life', 'bad hear breathing', 'bad im super', 'bad intrusive thoughts', 'bad lasted hours', 'bad long story', 'bad mental health', 'bad mic recordings', 'bad mood dont', 'bad nausea vomit', 'bad ocd sit', 'bad panic attack', 'bad panic attacks', 'bad paranoid like', 'bad social anxiety', 'bad things happen', 'bad things happened', 'bad things happening', 'bad thoughts werent', 'bad time arguments', 'badly wanted young', 'bag anymore literallysince', 'baggy eyes red', 'bags eyes slightly', 'balance fall blurred', 'balance randomly lose', 'baldness symptoms started', 'ball cancer skin', 'bank new york', 'banning note arranging', 'barely function anxiety', 'barely new person', 'barely talk ongoing', 'barely watch tv', 'based monetary policy', 'basically fearing mental', 'basically feels like', 'basically intrusive thoughts', 'basically religiously researched', 'basically repeat like', 'basically saying say', 'basically tests resulted', 'basically things came', 'basically title says', 'basically variety diarrhea', 'bass depth honest', 'bass hollow poppy', 'bass maxed figure', 'bass speakers hella', 'bc dont want', 'bc feel like', 'bc probably electrolytes', 'bc really anxious', 'bc talked site', 'beacuse im scared', 'beat bit fast', 'beat came bed', 'beat checking anxiety', 'beat fast svt', 'beat fasted legit', 'beat like slow', 'beat literally grade', 'beat lot quieter', 'beat randomly pretty', 'beating hard beating', 'beating hard times', 'beating harder faster', 'beating kinda calmed', 'beating kinda hard', 'beating maybe like', 'beating slow hard', 'beating steady goes', 'beats feel like', 'beats hard fast', 'beats phases heart', 'beats pulse time', 'beats stress piss', 'bed completely numb', 'bed cooking picking', 'bed heart rate', 'bed heart weak', 'bed like started', 'bed low standing', 'bed pm struggling', 'bed shopping stores', 'bee hive lgbtq', 'began argue called', 'behavior feel like', 'believe asked feel', 'believe keeps thought', 'believe like ive', 'believe normal healthy', 'believing fine sat', 'believing non binary', 'belong rpetsittingswwwredditcomrpetsitting megathread', 'bench felt heart', 'bench rate maybe', 'benefits allowing posts', 'benefits banning note', 'berries heat hours', 'best course action', 'best dont know', 'best friend anymore', 'best friend eat', 'best friend known', 'best friend years', 'best friends gaslighted', 'best friends life', 'best hearts close', 'best option right', 'best place ask', 'best product possible', 'best sativa strains', 'best strain mood', 'best way explain', 'bet years lower', 'beta blocker iv', 'beta blocker propranolol', 'better came better', 'better dont know', 'better educate society', 'better feel like', 'better feels like', 'better paying job', 'better stomach started', 'better tho night', 'bf toxic hell', 'big ah sleep', 'big aspergers thing', 'big jail cried', 'big thought wished', 'bigger size flattened', 'biggest insecurities feel', 'bikes im sure', 'bills fine arrhythmia', 'binary idea react', 'binary legally recognised', 'binary like actually', 'binary mum gotten', 'binary particularly want', 'biopsy results colon', 'biopsy utereus case', 'bipolar anger issues', 'bipolar bpd maybe', 'bipolar slightly known', 'birth control kids', 'birth control know', 'birth control obese', 'birth control pills', 'birthday august situation', 'birthday day broke', 'birthday dread im', 'birthday feel like', 'birthday party great', 'birthed grade super', 'bit fast id', 'bit feel like', 'bit feels like', 'bit itchy usually', 'bit life accessible', 'bit like dont', 'bit looked exact', 'bit loud opinionated', 'bit order prevent', 'bit really want', 'bit swollen need', 'bit tender outside', 'bit tender pain', 'black white thinking', 'black work trousers', 'blah blah blah', 'blah blah happen', 'blah happen really', 'blame makes hardest', 'blaming couldve maybe', 'blaming shouldve didnt', 'blank blank type', 'blank relationship lost', 'blank said um', 'blank type thoughts', 'blank weirdest generally', 'blasting high energy', 'bled lightmoderately days', 'bleeding august feel', 'bleeding period lightmoderate', 'bless lot things', 'bless pill taking', 'blind kings truth', 'bloating getting fast', 'blocked ig woke', 'blood cell count', 'blood count said', 'blood going really', 'blood pressure drops', 'blood pressure feeling', 'blood pressure heart', 'blood pressure high', 'blood pressure normal', 'blood stool past', 'blood stop flowing', 'blood work came', 'blurred vision severe', 'blurry despite using', 'bodily symptoms changes', 'body feel like', 'body feels heavy', 'body feels like', 'body like arms', 'body panic attacks', 'body pound message', 'body react ill', 'body sleeping raises', 'body sluggish im', 'body super sweaty', 'body sweating lot', 'body tired physically', 'body trying learn', 'book anymore paint', 'booking ends makes', 'booking releasing funds', 'booking rover paying', 'books obsessed mario', 'books started looking', 'boom thought body', 'boost ensure naked', 'booster days prior', 'borderline personality disorder', 'borderline suiiiicedde thoughts', 'bored remember going', 'boring feel like', 'boring let think', 'boring ok grey', 'boringness want thing', 'born said knew', 'bose quietcomfort ii', 'bother appreciated honesty', 'bother havent gotten', 'bother random word', 'bothering dont feel', 'bothers know obvious', 'bought brand new', 'bought dao enzymes', 'bought days general', 'bought second hand', 'bowel movements diarrhea', 'boy like rollercoaster', 'boyfriend girlfriend care', 'bp like feels', 'bpd huntingtons bipolar', 'bpd maybe dropped', 'bpm way measuring', 'brain feels like', 'brain gets bored', 'brain loses concentration', 'brain minutesbut believe', 'brain tumors ball', 'brain wont let', 'brain zaps trouble', 'break gel stuff', 'break necks bad', 'break said agreed', 'break start making', 'break year covid', 'breakdowns worried point', 'breakfast day eat', 'breakfast hungry couple', 'breakfast lie feel', 'breakfast like literally', 'breakfast morning think', 'breakfast yeah life', 'breath dizzy work', 'breath fresh air', 'breath hate think', 'breath heart races', 'breath im positive', 'breath probablly sounded', 'breath really quick', 'breath sensitivity light', 'breath slows like', 'breathe im tired', 'breathe really hard', 'breathing make sure', 'breathing wear headphones', 'brick like past', 'brief description math', 'bring like constantly', 'bring theres true', 'bring thing tried', 'bringsme enjoyment anymore', 'broke slap headphones', 'broke usually arguments', 'broken dumb pretends', 'brood day people', 'brood like points', 'brother came said', 'brother works says', 'brothers friends refer', 'brought cancer think', 'brought higher idk', 'brown cramping im', 'brown days period', 'brown foamy times', 'brown hair hazel', 'brown today smaller', 'brush teeth make', 'bts stan pains', 'btw sorry english', 'btw things got', 'bug stomach feels', 'build quality touchscreen', 'bump inside right', 'bumped grade daily', 'bunch huge stressful', 'bunch stories people', 'bunch stress years', 'bunch symptoms think', 'bustling energy love', 'busy college busy', 'busy friends games', 'busy thinking worst', 'busy videos games', 'busy work people', 'butt end jokes', 'buying wanna make', 'byt im panicking', 'cable food house', 'cadvideo editingphoto editinggaming', 'calf legs getting', 'called answer said', 'called mom mom', 'called mom nurse', 'called pussy told', 'calling cousin accused', 'calm resting rate', 'calm say urgent', 'calm usually happens', 'calmed like mins', 'calmed like minute', 'calmed whats concerning', 'calms body sleeping', 'calprotectin level elevated', 'calprotectin stool sample', 'came bed heart', 'came benign polyp', 'came better tho', 'came failed went', 'came gritty dirty', 'came heart calmed', 'came home said', 'came home sex', 'came like times', 'came picking tried', 'came reasonable maxed', 'came said leaving', 'came suggestions need', 'came times tonight', 'came twice clothes', 'campaign ideal way', 'cancer barely function', 'cancer noticed month', 'cancer skin cancers', 'cancer spotting prolonged', 'cancer think shed', 'cancer yesterday small', 'cancers autism adhd', 'candy gets painful', 'canvas ready discovered', 'capstone project focusing', 'car anxious day', 'car apartment furniture', 'car guy house', 'car insurence phone', 'car low dips', 'car unlocked parking', 'card digital switch', 'cardiophobia anxiety entire', 'cardiophobia thing ive', 'care bother appreciated', 'care dont know', 'care exist struggling', 'care feel like', 'care got got', 'care listened ecg', 'care reoccurring panic', 'care started worrying', 'care talked men', 'care visit felt', 'career paths like', 'case doesnt super', 'case happened forget', 'case idea dentist', 'case like stress', 'case scenario thinking', 'case thought id', 'catastrophize fear heart', 'catch breath really', 'catches happened thought', 'caucasian symptoms started', 'cause dont like', 'cause feel like', 'cause like love', 'cause longterm effects', 'cause spotting longer', 'cause symptoms months', 'cause weight gain', 'caused blood stop', 'caused body pound', 'caused bunch stress', 'caused fever throat', 'caused immense pain', 'caused neuropathy taking', 'caused revisions changes', 'caused svt type', 'caused theres worse', 'causes anxiety good', 'causes lot stress', 'causing diarrhea heart', 'causing heart palpitations', 'causing panic attacks', 'caution discretion furthermore', 'cb policies products', 'cbd need best', 'cbd possible familiar', 'celiac disease gastroparesis', 'celiacs chrohns ibs', 'cell count high', 'cells colon lining', 'centered heart today', 'challenge worked team', 'challenges rewards help', 'chances young party', 'chanel miller point', 'change actually fix', 'change doomed forever', 'changed nervous worried', 'changed way think', 'changes ap world', 'changes immediately assume', 'changes leading creation', 'channel think daily', 'chart cut zoomed', 'chat abused years', 'check drug screen', 'check loved ones', 'check make sure', 'check things therapist', 'checked blood pressure', 'checked doctors tests', 'checked phone guy', 'checked vitals said', 'checking anxiety cardiophobia', 'checking bring like', 'checking lowest measured', 'checking night tried', 'cheek dentist previously', 'cheek fever symptoms', 'cheek fingers holding', 'cheeks bit tender', 'cheering suddenly negative', 'chem apib scores', 'chem macro seminar', 'chest feels like', 'chest feels tight', 'chest felt like', 'chest legs felt', 'chest maybe close', 'chest pain loss', 'chewing molars rash', 'child feel like', 'child mom stress', 'childhood sexual abuse', 'chrohns ibs ibd', 'chromecast connected tv', 'chronical pain scoliosis', 'circulation issues hands', 'circus extremely anxious', 'cis female suckssss', 'cities love loud', 'city farms strain', 'clam got super', 'clarity way peaceful', 'class embarrassing stomach', 'class rank ap', 'class reason guess', 'class sure exact', 'classes exams university', 'classes good assignments', 'classmates chronical pain', 'clavulanate past week', 'clean cpap month', 'clean health bills', 'cleaned mightve touched', 'cleaning panoramic xray', 'cleaningswwwocdtypescomwashingocdphp mental ritualsswwwocdtypescommentalritualsphp', 'clear dating fun', 'cleared saying fine', 'click link discord', 'clients rover appsite', 'climb flight stairs', 'close bpm way', 'close family thoughts', 'close friends family', 'close friends know', 'close friends love', 'close hear breathe', 'close let pray', 'closer thats terrifying', 'closest guess accessory', 'closest thing ive', 'clothes left idk', 'clothes paid rent', 'club competitive club', 'club met group', 'clue whats going', 'code expires second', 'code used december', 'code used want', 'cognitive behavior therapy', 'coincidence receive pfizer', 'cold emotionless defend', 'cold showers exercise', 'cold turkey months', 'cold turkey prozac', 'college busy friends', 'college degree hobby', 'college didnt know', 'college drop semester', 'college feedback cb', 'college friends got', 'college health issues', 'college high school', 'college im btw', 'college national french', 'college really friends', 'college student studying', 'college took break', 'college want make', 'collegeboard officials students', 'collegeboard youth advisory', 'colonoscopy doc said', 'colonoscopy endoscopy ct', 'colonoscopy endoscopy revealed', 'colonoscopy endoscopy rule', 'colonoscopy heart rate', 'colonoscopy prep cause', 'come feels liek', 'come gone good', 'come inside heart', 'come join bee', 'come true kinda', 'comes initiating reason', 'comfortable loved making', 'coming abnormal scared', 'coming caused fever', 'coming dentist said', 'coming feel like', 'coming going days', 'coming like mins', 'coming purpose sit', 'coming reality likely', 'coming said temporary', 'coming speakers plugged', 'coming starts wanna', 'coming ted talk', 'comments rants raves', 'communicated collegeboard officials', 'community benefits allowing', 'community college im', 'community college live', 'community college want', 'community looking types', 'community open sites', 'company apartment car', 'compare past nostalgia', 'competed regional math', 'competes american math', 'competitions september march', 'competitive club met', 'competitive feeder school', 'complete blood count', 'complete transactions services', 'completely changed person', 'completely different person', 'completely exhausted skateboarded', 'completely extend periods', 'completely like recovered', 'completely lost answer', 'completely lost appetite', 'completely lost depressed', 'completely numb like', 'completely remove wisdom', 'completely unaffiliated rover', 'compulsed write case', 'compulsionsswwwocdtypescomsomaticocdcompulsionsphp compulsionsswwwocdtypescomunusualcompulsionsphp current', 'compulsionsswwwocdtypescomunusualcompulsionsphp current thing', 'computer games glow', 'concentration kinda blank', 'concern coworker mom', 'concern normal age', 'concerned brought cancer', 'concerned isnt super', 'concerning ends pretty', 'concerning events happened', 'concerning normal heart', 'concerning sleeping heart', 'concerns feel like', 'conclusive currently think', 'concretely positive hold', 'concussions anytime head', 'condition meeting rheumatologist', 'conditions depression anxiety', 'conditions especially regarding', 'conditions policy action', 'conduct rover service', 'confidence guy solved', 'confidence issue reason', 'conflict defent let', 'confronted told idc', 'confused kept telling', 'congestion using dentist', 'congestive heart failure', 'connect like knows', 'conquering issues new', 'consent injustice spreads', 'consistent finishes team', 'consistent prevail obese', 'consistent routine good', 'consoles nes snes', 'constant anxiety checking', 'constant distress told', 'constant pain mind', 'constant shortness breath', 'constant suicidal thoughts', 'constantly ask talking', 'constantly feel like', 'constantly feeling like', 'constantly fluctuating like', 'constantly remind homework', 'constantly worried ill', 'consultation job interview', 'contact established rover', 'contacts talk secret', 'contamination fears getting', 'contamination fearsswwwocdtypescomcontaminationocdphp sexual', 'content fine high', 'content kept busy', 'contents stomach moving', 'continue hang introduces', 'control beats stress', 'control feel like', 'control felt like', 'control kids sexually', 'control monday speak', 'control muscles eyelids', 'control obese gained', 'controlno fighting lot', 'controversial slightest allow', 'conversations especially going', 'conversations fucking suck', 'conversations really connect', 'conversion disorder fnd', 'convince im wrong', 'convincing sitters accept', 'cooking picking tend', 'cookout suppose wind', 'cookout worker met', 'cool friends really', 'cool guy decent', 'corner started talking', 'corners eyes itch', 'corny jokes probably', 'correct gets wrong', 'corsair ram rtx', 'cortisol awakening response', 'couch potato indiacs', 'couldve maybe shed', 'council communicated collegeboard', 'count said wait', 'country purchase usa', 'coupe days ago', 'couple dates date', 'couple days ago', 'couple days feel', 'couple days later', 'couple days tried', 'couple days week', 'couple hours ago', 'couple hours bed', 'couple hours later', 'couple months ago', 'couple months ive', 'couple months prevent', 'couple times night', 'couple times past', 'couple weeks ago', 'couple weeks feel', 'couple years ago', 'couple years ive', 'couple years wasnt', 'course action completely', 'course cut half', 'course rigor class', 'cousin accused talking', 'cousin supposed say', 'cousin went calling', 'covering prehistory ap', 'covid hit ended', 'covid hit years', 'coworker mom saying', 'coworkers really nice', 'coz insomnia dumbass', 'cpap machine prediabetes', 'cpap month overdue', 'cptsd depression anxiety', 'cpu intel core', 'cramping excessive sweating', 'cramping im assuming', 'cramping lower abdomen', 'crashes window sends', 'crazy feel like', 'crazy symptoms majority', 'create presentation federal', 'create thread endorse', 'creation ap ancient', 'creative barely watch', 'creativity energy couch', 'credit card debt', 'cried said wanted', 'crippling anxiety depression', 'crippling social anxiety', 'crises look photos', 'crohn celiac disease', 'crohn disease celiac', 'crowded cities love', 'crush girl think', 'crush lasted grade', 'crush tho grade', 'crushes depressed month', 'crying feel like', 'cryptocurrency used accomplish', 'ct scan abdomen', 'ct scan contrast', 'culprit hormonal imbalances', 'culturally relevant programs', 'curious people think', 'curious poly life', 'current macroeconomic conditions', 'current month spotting', 'current thing ive', 'current thing lists', 'currently credit card', 'currently friday live', 'currently im obsessing', 'currently think possible', 'currently wewdigihdmi switch', 'currently wide variety', 'currently working jobs', 'currently years old', 'customer service industry', 'cut gluten diet', 'cut gums teeth', 'cut half gained', 'cut zoomed parts', 'cuz kept freaking', 'cuz mu friends', 'cuz thats thing', 'cysts polpys fibroids', 'dad approval said', 'dad getting pissed', 'dad maybe dont', 'dad mom split', 'dad passed away', 'dad pays car', 'dad pissed want', 'dad really pissed', 'dad step mom', 'dad time frame', 'dads super adhd', 'daily drink sleep', 'daily journaling good', 'daily mental breakdowns', 'daily mind knew', 'daily panic attacks', 'daily routine activities', 'daily things daily', 'daily things ive', 'daily urgent times', 'dairy days ago', 'dangerous big ah', 'dangerous like im', 'dark books obsessed', 'dark religious intrusive', 'date clear dating', 'date start things', 'dated pretty attractive', 'dated woman poly', 'dated wonder women', 'dates date clear', 'dates ghosted know', 'dates going lot', 'dating fun want', 'dating meeting new', 'day actually period', 'day anxiety slept', 'day asked want', 'day broke usually', 'day constant pain', 'day content kept', 'day cuz thats', 'day day content', 'day day feel', 'day day im', 'day day issue', 'day day life', 'day days week', 'day dont feel', 'day dont know', 'day eat breakfast', 'day feel like', 'day feels like', 'day felt like', 'day felt weird', 'day friends hanging', 'day great panic', 'day hs school', 'day im scared', 'day im tired', 'day issue focus', 'day jst makes', 'day long panic', 'day long sick', 'day lot hair', 'day make sure', 'day mom gave', 'day multiple times', 'day panic attack', 'day passes know', 'day past week', 'day people live', 'day period usually', 'day playing games', 'day point mini', 'day right asked', 'day usually late', 'day write everyday', 'day yeah im', 'day years ago', 'days ago cut', 'days ago developed', 'days ago dont', 'days ago left', 'days ago legit', 'days ago listened', 'days ago posted', 'days ago quite', 'days ago started', 'days ago struggling', 'days ago took', 'days ago want', 'days ate diarrhea', 'days booking ends', 'days day hs', 'days feel like', 'days felt heart', 'days general things', 'days hear sitting', 'days heart rate', 'days hits like', 'days ignore anxious', 'days im worried', 'days issue havent', 'days ive felt', 'days later wrote', 'days left stuff', 'days like today', 'days like woke', 'days months idk', 'days noticing heart', 'days period bled', 'days period day', 'days post op', 'days prevented sleeping', 'days prior left', 'days week really', 'days weeks months', 'days went college', 'dead end job', 'dead feel like', 'deaf school honduras', 'deal depression anxiety', 'deal remember telling', 'deal transphobia selfish', 'dealing mental health', 'death heart increased', 'deaths didnt understand', 'deaths starting occur', 'debate club competitive', 'debate various topics', 'debated members sub', 'december junenovember thread', 'december thats code', 'decent looking struggle', 'decent social life', 'decided broke slap', 'decided pee maybe', 'decided sleep yesterday', 'decided start taking', 'decided stay fast', 'decided track watch', 'decreases severity eat', 'dedicated providing safe', 'deep breath slows', 'deep wrinkles people', 'deeply dad pays', 'defend views gives', 'defensive took leaving', 'defent let think', 'deficiency hypothyroidism know', 'definitely depend parents', 'definitely feel like', 'definitely help lol', 'definition im drained', 'degree hobby gotta', 'degree little work', 'delete social media', 'dell speakers things', 'demographics race gender', 'dense green brown', 'dentist month ago', 'dentist previously gauze', 'dentist said gums', 'dentist said pericoronitis', 'deny yeah thought', 'depend parents lot', 'depressed feel like', 'depressed grade crush', 'depressed let brood', 'depressed messed think', 'depressed month wanted', 'depressed think weird', 'depression anxiety adhd', 'depression anxiety disorders', 'depression anxiety ocd', 'depression diagnosed avoiding', 'depression feel like', 'depression issues constant', 'depression pretty severe', 'depression social anxiety', 'depression started trying', 'depression thing long', 'deprived obviously isnt', 'depth honest idea', 'depth struggle pain', 'describes dot contamination', 'description math team', 'deserve best hearts', 'deserve dont deserve', 'deserve trade places', 'design im working', 'desire eat eat', 'desktop audio record', 'despite feeling good', 'despite using exact', 'developed number ulcers', 'diabetess heart issues', 'diagnosed avoiding personality', 'diagnosed bipolar disorder', 'diagnosed cptsd depression', 'diagnosed depression anxiety', 'diagnosed generalized anxiety', 'diagnosed ocd depression', 'diagnosis love hear', 'diarrhea appetite loss', 'diarrhea basically things', 'diarrhea bowel movements', 'diarrhea daily urgent', 'diarrhea day long', 'diarrhea drank salt', 'diarrhea heart palpitations', 'diarrhea lack appetite', 'diarrhea loss appetite', 'diarrhea occasional cramping', 'diarrhea occasionally frequently', 'diarrhea possible watery', 'diarrhea prevalent symptoms', 'diarrhea severe appetite', 'diarrhea times night', 'diarrhea today like', 'diarrhea weight loss', 'didnt deserve trade', 'didnt feel good', 'didnt feel like', 'didnt know say', 'didnt know start', 'didnt know wanted', 'didnt make sense', 'didnt really know', 'didnt sleep night', 'didnt think id', 'didnt understand things', 'didnt wanna born', 'didnt want eat', 'didnt want leave', 'didnt work im', 'didnt work tried', 'die automaticlly breathing', 'die called mom', 'die dont want', 'die feel like', 'die god want', 'die lack sleep', 'die mentally disabled', 'die symptoms went', 'died months ago', 'diet really changed', 'dieting past couple', 'difference feel like', 'different contacts talk', 'different life know', 'differently youre teen', 'difficult mind exercise', 'digging prodding trying', 'digital code used', 'digital switch online', 'dip normal normal', 'dipped weird times', 'dips sitting car', 'dirty sounding monitor', 'disability know dads', 'disabled time ended', 'discontinued affirmations stand', 'discord kik whatsapp', 'discovered running following', 'discovery self help', 'discretion furthermore note', 'discuss debate various', 'discuss rover safely', 'disease brain tumors', 'disease celiac disease', 'disease gastroparesis thyroid', 'disease pcp think', 'diseases stress hard', 'disfunctional long missed', 'disorder bipolar anger', 'disorder fnd pandas', 'disorder knowing wont', 'disorder therapy years', 'disorders phobias aspergers', 'dissociationdepersonalization episodes thought', 'distract wasnt working', 'distracting symptom moving', 'distraction actually gives', 'distractions reminds dont', 'distress told medication', 'dizzy days ate', 'dizzy head weird', 'dizzy work catch', 'dizzytiredness feeling head', 'doc ordered colonoscopy', 'doc said crohn', 'doctor imaginable say', 'doctor keen prescribing', 'doctors tests say', 'doesnt feel good', 'doesnt feel like', 'doesnt feel right', 'doesnt help im', 'doesnt look like', 'doesnt make feel', 'doesnt make sense', 'doesnt make want', 'doesnt matter im', 'doesnt mean dont', 'doesnt mean im', 'doesnt really fit', 'doesnt really know', 'doesnt really matter', 'doesnt sit right', 'doesnt sound like', 'doesnt super concerned', 'dog lose probably', 'donation eliminate doubts', 'donations help achieve', 'dont anymore distractions', 'dont attach things', 'dont bother havent', 'dont care anymore', 'dont care dont', 'dont care feel', 'dont care got', 'dont care im', 'dont care people', 'dont care want', 'dont cause weight', 'dont deserve dont', 'dont deserve good', 'dont deserve live', 'dont drink dont', 'dont factor months', 'dont feel bad', 'dont feel breath', 'dont feel comfortable', 'dont feel feel', 'dont feel good', 'dont feel happy', 'dont feel like', 'dont feel motivated', 'dont feel need', 'dont feel sad', 'dont forget check', 'dont fully understand', 'dont invested things', 'dont job dont', 'dont know address', 'dont know anxiety', 'dont know anymore', 'dont know approach', 'dont know ask', 'dont know begin', 'dont know body', 'dont know bringsme', 'dont know coincidence', 'dont know cope', 'dont know deal', 'dont know didnt', 'dont know dont', 'dont know drive', 'dont know explain', 'dont know fear', 'dont know feel', 'dont know feeling', 'dont know feels', 'dont know fuck', 'dont know going', 'dont know good', 'dont know got', 'dont know handle', 'dont know happened', 'dont know havent', 'dont know help', 'dont know hes', 'dont know id', 'dont know ill', 'dont know im', 'dont know ive', 'dont know know', 'dont know life', 'dont know like', 'dont know live', 'dont know make', 'dont know makes', 'dont know manage', 'dont know maybe', 'dont know mental', 'dont know need', 'dont know normal', 'dont know people', 'dont know person', 'dont know point', 'dont know real', 'dont know really', 'dont know relate', 'dont know right', 'dont know said', 'dont know say', 'dont know shes', 'dont know start', 'dont know stop', 'dont know talk', 'dont know tell', 'dont know thats', 'dont know theres', 'dont know theyll', 'dont know theyre', 'dont know think', 'dont know thought', 'dont know time', 'dont know trust', 'dont know turn', 'dont know want', 'dont know way', 'dont know whats', 'dont know work', 'dont know write', 'dont know youre', 'dont like dont', 'dont like idea', 'dont like im', 'dont like look', 'dont like people', 'dont like way', 'dont look like', 'dont mad views', 'dont make feel', 'dont make money', 'dont make sense', 'dont mean like', 'dont mean sound', 'dont measure pulse', 'dont mind like', 'dont need distraction', 'dont pay rent', 'dont really care', 'dont really feel', 'dont really know', 'dont really like', 'dont really make', 'dont really mind', 'dont really need', 'dont really point', 'dont really real', 'dont really talk', 'dont really think', 'dont really understand', 'dont really want', 'dont remember said', 'dont remember time', 'dont smoke drink', 'dont sound im', 'dont sound like', 'dont story arguing', 'dont talk im', 'dont think deserve', 'dont think handle', 'dont think id', 'dont think ill', 'dont think im', 'dont think ive', 'dont think know', 'dont think people', 'dont think physical', 'dont think really', 'dont think thats', 'dont think theres', 'dont think words', 'dont thryoid issues', 'dont understand dont', 'dont understand im', 'dont understand like', 'dont understand people', 'dont understand whats', 'dont wanna anymore', 'dont wanna deal', 'dont wanna die', 'dont wanna live', 'dont wanna talk', 'dont want adult', 'dont want alive', 'dont want anymore', 'dont want body', 'dont want break', 'dont want burden', 'dont want buy', 'dont want change', 'dont want come', 'dont want deal', 'dont want die', 'dont want doctor', 'dont want dont', 'dont want eat', 'dont want end', 'dont want exist', 'dont want feel', 'dont want friends', 'dont want happen', 'dont want hear', 'dont want help', 'dont want hurt', 'dont want im', 'dont want ive', 'dont want job', 'dont want kids', 'dont want kill', 'dont want know', 'dont want leave', 'dont want life', 'dont want like', 'dont want live', 'dont want look', 'dont want lose', 'dont want make', 'dont want mess', 'dont want people', 'dont want read', 'dont want remember', 'dont want say', 'dont want seen', 'dont want selfish', 'dont want slight', 'dont want sound', 'dont want spend', 'dont want start', 'dont want stay', 'dont want suffer', 'dont want talk', 'dont want tell', 'dont want think', 'dont want throw', 'dont want try', 'dont want wait', 'dont want wanna', 'dont want want', 'dont want waste', 'dont want work', 'dont want working', 'dont want worry', 'dork straight lead', 'dot contamination fearsswwwocdtypescomcontaminationocdphp', 'doubt thought fucking', 'doubts greatest extent', 'dpdr feel symptoms', 'dr like good', 'dr say mild', 'drained feel like', 'drained people ocd', 'drank salt water', 'dread birthday feel', 'dread im year', 'dream military rules', 'dream navy seal', 'dream years im', 'dreaming half year', 'dreams single day', 'drier normal increased', 'drink lot water', 'drink salt sugar', 'drink sleep apnea', 'drinking lot water', 'drive good input', 'drive handle places', 'driving home work', 'droopy feels like', 'drop realize dont', 'drop semester ocd', 'dropped baby schizophrenia', 'dropped literally thinking', 'dropping highschool going', 'drops overstimulating stomach', 'drug experiencing male', 'drunk defensive took', 'dry herb vape', 'dry want dulcolax', 'dude fun guy', 'dude real relation', 'dulcolax stimulant anxiety', 'dumb car unlocked', 'dumb pretends like', 'dumbass decided sleep', 'dumping ground satellite', 'duty make sure', 'dying checked doctors', 'ear evenings gets', 'ear feels like', 'ear flushing usually', 'ear weird symptom', 'earlier things bad', 'ears red warm', 'ears right ear', 'easier let things', 'easily drop realize', 'easily eat huge', 'eat blah blah', 'eat breakfast day', 'eat breakfast lie', 'eat certain foods', 'eat doctor keen', 'eat dont want', 'eat eat makes', 'eat feel like', 'eat feel sitting', 'eat food think', 'eat huge breakfast', 'eat makes feel', 'eat meal day', 'eat snack bought', 'eat sour candy', 'eating breakfast like', 'eating breakfast morning', 'eating fast food', 'eating gastroparesis symptoms', 'eating tongue helps', 'ecg fine finding', 'ecg mild left', 'ecg months ago', 'ecg panic attacks', 'ecg said fine', 'ecg start june', 'economic conditions especially', 'economics math minor', 'economics miscellaneous topics', 'ed disorder bipolar', 'edge max replaced', 'edit feel like', 'edit forgot mention', 'edit thank guys', 'edit thanks help', 'edit wanted add', 'editinggaming list programsgames', 'editingphoto editinggaming list', 'educate society small', 'effects experiencing libido', 'eggs sandwich probably', 'ehlers danlos syndrome', 'ekg chest xray', 'el problema es', 'electrolytes flushed diarrhea', 'elementary middle school', 'elevated white blood', 'elevator stairs dieting', 'eliminate doubts greatest', 'email know care', 'embarrassing stomach issues', 'emotionless defend views', 'emotions feel like', 'encouragement huge social', 'end birthday day', 'end day im', 'end dont know', 'end dont think', 'end feel like', 'end getting fired', 'end jokes lot', 'end middle school', 'end month consistent', 'end month irregular', 'end school year', 'end torment silence', 'end world send', 'ended diagnosed ocd', 'ended dropping highschool', 'ended getting restraining', 'ended highcshool im', 'ended losing job', 'ended weighing dropped', 'endorse going rover', 'endoscopy ct scan', 'endoscopy rule crohn', 'ends makes scamming', 'ends pretty quick', 'energy couch potato', 'energy like blasting', 'energy love crowded', 'energy music hours', 'energy nervousness overthinking', 'energy possible tremors', 'english im dutch', 'english native language', 'enjoy places high', 'enjoy present current', 'enjoy spending time', 'enjoyment anymore realized', 'enjoyment life anymore', 'ensure naked juice', 'ent told upper', 'entire life dont', 'entire life idk', 'entire life im', 'entire life ive', 'entire time birth', 'entire time scared', 'entry level job', 'epi met allergist', 'episodes thought going', 'erection issues worried', 'erratic dangerous like', 'es lo que', 'eshop card digital', 'esketamine medical trial', 'esophagus looks bit', 'especially comes initiating', 'especially dont job', 'especially family know', 'especially feel like', 'especially going stress', 'especially regarding foreign', 'especially ulcers pain', 'established rover rule', 'evening freak beats', 'evenings gets red', 'events happened long', 'events lead day', 'eventually ill parents', 'eventually parents fear', 'eventually time fine', 'eventually wanna like', 'everybody problem happy', 'everyday feel like', 'everyday paranoid forgetting', 'everyday things like', 'evga supernova plus', 'evidence make look', 'ex best friends', 'exact area issue', 'exact rich poor', 'exact settings amd', 'example woke middle', 'exams university week', 'excessive lists remind', 'excessive sweating fatigue', 'excessive sweating heart', 'excessive sweating sweat', 'exchange relationship united', 'excuse started going', 'excuses asked getting', 'exercise elevator stairs', 'exercise extreme caution', 'exercise journaling psychically', 'exertion climb flight', 'exhausted skateboarded recently', 'exist police hospital', 'exist struggling lot', 'expect freaking makes', 'expectantly quality life', 'experience feel like', 'experience life join', 'experience really normal', 'experience young like', 'experienced taking accutane', 'experiences taking care', 'experiencing libido erection', 'experiencing lot anxiety', 'experiencing male pattern', 'expires second xbox', 'explain feel like', 'explain like perfect', 'explode instant panic', 'explode itd beating', 'explore dated woman', 'explore save options', 'explosions fireworks feel', 'exposed wisdom teeth', 'extend periods scared', 'extended periods time', 'extensive research economic', 'external hard drive', 'extraction schedules tomorrow', 'extracurriculars brief description', 'extreme caution discretion', 'extreme fear poison', 'extreme hunger noticing', 'extreme social anxiety', 'extremely anxious entire', 'extremely fast feel', 'extremely soft panic', 'eye brain minutesbut', 'eye contact lot', 'eye issues red', 'eyebags underneath bags', 'eyelids droopy feels', 'eyelids noticed pictures', 'eyes appear generally', 'eyes extreme hunger', 'eyes eyebags underneath', 'eyes general im', 'eyes itch hurt', 'eyes red spots', 'eyes slightly red', 'face long forgotten', 'face longer left', 'face looks like', 'face neck arms', 'facetimes asked say', 'fact hour sleep', 'factor months ago', 'facts feel like', 'fail time time', 'failed wasnt needed', 'failed went good', 'failure feel like', 'fake age social', 'fake thoughts shake', 'fake till make', 'faking dont know', 'faking lying hiding', 'fall asleep feel', 'fall asleep heart', 'fall asleep hours', 'fall asleep wake', 'fall blurred vision', 'fall break necks', 'falling apart mental', 'falling lot faster', 'falling want live', 'false reading said', 'familiar strains strains', 'family close friends', 'family dont know', 'family dont want', 'family feel like', 'family friends girlfriend', 'family friends know', 'family know hour', 'family know lot', 'family know rape', 'family membership digital', 'family thoughts try', 'fan deaths starting', 'far check loved', 'far difficult mind', 'far ive looking', 'far kinda worked', 'farms strain site', 'farthest heart fears', 'fast decided start', 'fast feel bloated', 'fast food gaining', 'fast food job', 'fast food place', 'fast forward birthday', 'fast forward continue', 'fast forward months', 'fast forward today', 'fast hard like', 'fast heart rate', 'fast heart rates', 'fast heart super', 'fast id guess', 'fast id worry', 'fast im trying', 'fast leaf decay', 'fast like beats', 'fast likely dont', 'fast right standing', 'fast sit normal', 'fast svt panicking', 'fasted legit thought', 'faster eat food', 'faster like people', 'faster movement anxiety', 'faster normally got', 'faster outside like', 'faster thing thats', 'fatigue heart palpitations', 'fatigue weight loss', 'fatiguelow energy possible', 'fault feel like', 'favorite video game', 'fear body react', 'fear die lack', 'fear eventually parents', 'fear falling apart', 'fear forget important', 'fear future eventually', 'fear growing fear', 'fear growing isnt', 'fear growing necessarily', 'fear heart thinking', 'fear hunted animal', 'fear making things', 'fear poison mushrooms', 'fear special know', 'fear thats scary', 'fearadrenaline caused body', 'fearing mental health', 'fears getting concussions', 'fears getting poisoned', 'fears grade felt', 'fears huge crushes', 'fearsswwwocdtypescomcontaminationocdphp sexual orientation', 'fed challenge worked', 'federal reserve bank', 'feedback cb policies', 'feedback experiences taking', 'feeder school nope', 'feel absolutely horrible', 'feel absolutely terrible', 'feel anger convince', 'feel anxiety attack', 'feel anxious heart', 'feel anxious im', 'feel anxious sad', 'feel anxious time', 'feel bad asking', 'feel bad bc', 'feel bad dont', 'feel bad feel', 'feel bad im', 'feel bad inside', 'feel bad know', 'feel bad like', 'feel bad making', 'feel bad want', 'feel better came', 'feel better dont', 'feel better feel', 'feel better know', 'feel better like', 'feel bit better', 'feel bloated day', 'feel breath dizzy', 'feel bustling energy', 'feel comfortable loved', 'feel comfortable talking', 'feel completely lost', 'feel completely normal', 'feel compulsed write', 'feel dizzy head', 'feel dont know', 'feel dont want', 'feel feel like', 'feel feels like', 'feel fingers inserted', 'feel free ask', 'feel free check', 'feel free reach', 'feel free tell', 'feel good feel', 'feel good feels', 'feel great im', 'feel guilty ashamed', 'feel guilty feel', 'feel guilty feeling', 'feel healthy behavior', 'feel hear watery', 'feel heart beating', 'feel heart pounding', 'feel hopeless feel', 'feel liek body', 'feel like able', 'feel like absolute', 'feel like actually', 'feel like adult', 'feel like air', 'feel like alien', 'feel like anxiety', 'feel like anymore', 'feel like asshole', 'feel like baby', 'feel like bad', 'feel like barely', 'feel like basically', 'feel like belong', 'feel like best', 'feel like better', 'feel like big', 'feel like bit', 'feel like body', 'feel like brain', 'feel like breath', 'feel like breathe', 'feel like breathing', 'feel like burden', 'feel like care', 'feel like change', 'feel like choice', 'feel like chore', 'feel like cold', 'feel like complete', 'feel like completely', 'feel like constant', 'feel like constantly', 'feel like control', 'feel like crap', 'feel like crazy', 'feel like crying', 'feel like day', 'feel like dead', 'feel like deep', 'feel like deeper', 'feel like depressed', 'feel like deserve', 'feel like didnt', 'feel like die', 'feel like different', 'feel like doctor', 'feel like dont', 'feel like dream', 'feel like driving', 'feel like drowning', 'feel like dumb', 'feel like dumbass', 'feel like dying', 'feel like eating', 'feel like end', 'feel like energy', 'feel like escape', 'feel like failed', 'feel like failure', 'feel like fall', 'feel like falling', 'feel like family', 'feel like fault', 'feel like feel', 'feel like feeling', 'feel like feels', 'feel like finally', 'feel like fit', 'feel like fraud', 'feel like friends', 'feel like fucked', 'feel like fucking', 'feel like fully', 'feel like gets', 'feel like getting', 'feel like giving', 'feel like going', 'feel like gonna', 'feel like good', 'feel like got', 'feel like great', 'feel like handle', 'feel like hard', 'feel like head', 'feel like heart', 'feel like help', 'feel like helping', 'feel like hes', 'feel like horrible', 'feel like hot', 'feel like hurt', 'feel like id', 'feel like idiot', 'feel like idk', 'feel like ill', 'feel like im', 'feel like interesting', 'feel like ive', 'feel like job', 'feel like kind', 'feel like kinda', 'feel like know', 'feel like late', 'feel like learning', 'feel like leave', 'feel like left', 'feel like life', 'feel like like', 'feel like live', 'feel like living', 'feel like long', 'feel like look', 'feel like loser', 'feel like losing', 'feel like lost', 'feel like lot', 'feel like love', 'feel like low', 'feel like lying', 'feel like make', 'feel like makes', 'feel like making', 'feel like man', 'feel like matter', 'feel like maybe', 'feel like meet', 'feel like mental', 'feel like mentally', 'feel like missed', 'feel like missing', 'feel like monster', 'feel like need', 'feel like needs', 'feel like normal', 'feel like obvious', 'feel like old', 'feel like outside', 'feel like outsider', 'feel like parents', 'feel like past', 'feel like people', 'feel like person', 'feel like physically', 'feel like place', 'feel like point', 'feel like pretty', 'feel like probably', 'feel like problems', 'feel like prove', 'feel like pushing', 'feel like quiet', 'feel like real', 'feel like really', 'feel like reason', 'feel like regret', 'feel like relationship', 'feel like responsibility', 'feel like right', 'feel like running', 'feel like say', 'feel like screwed', 'feel like shit', 'feel like shouldnt', 'feel like sleep', 'feel like smart', 'feel like solution', 'feel like soon', 'feel like starting', 'feel like stop', 'feel like stuck', 'feel like suffocating', 'feel like supposed', 'feel like symptoms', 'feel like takes', 'feel like talk', 'feel like talking', 'feel like tell', 'feel like thats', 'feel like theres', 'feel like theyre', 'feel like thing', 'feel like things', 'feel like think', 'feel like thought', 'feel like thoughts', 'feel like throwing', 'feel like time', 'feel like tired', 'feel like toilet', 'feel like total', 'feel like trapped', 'feel like truly', 'feel like trust', 'feel like trying', 'feel like understand', 'feel like understands', 'feel like use', 'feel like used', 'feel like waiting', 'feel like wanna', 'feel like want', 'feel like wasnt', 'feel like waste', 'feel like wasted', 'feel like wasting', 'feel like watching', 'feel like way', 'feel like week', 'feel like weird', 'feel like weve', 'feel like woman', 'feel like wont', 'feel like work', 'feel like working', 'feel like world', 'feel like worst', 'feel like worth', 'feel like wrong', 'feel like year', 'feel like years', 'feel like zombie', 'feel little better', 'feel little bit', 'feel lonely feel', 'feel long time', 'feel lost feel', 'feel lost like', 'feel lot better', 'feel necessary beneficial', 'feel old chances', 'feel physically sick', 'feel real feel', 'feel really bad', 'feel really guilty', 'feel really insecure', 'feel sick stomach', 'feel sitting stomach', 'feel small bump', 'feel sorta like', 'feel stuck feel', 'feel suicidal im', 'feel super bad', 'feel super hours', 'feel symptoms match', 'feel type way', 'feel way feel', 'feel way guess', 'feel way like', 'feel way really', 'feel weak legs', 'feel weird like', 'feel worthless feel', 'feel worthless helpless', 'feelhear heart worry', 'feeling bit anxious', 'feeling body like', 'feeling chest legs', 'feeling feel like', 'feeling feeling like', 'feeling feels like', 'feeling feet chest', 'feeling felt like', 'feeling good make', 'feeling head tired', 'feeling holding steering', 'feeling impending doom', 'feeling kinda like', 'feeling life person', 'feeling like bad', 'feeling like breathe', 'feeling like days', 'feeling like ghost', 'feeling like going', 'feeling like gonna', 'feeling like im', 'feeling like like', 'feeling like need', 'feeling like night', 'feeling like really', 'feeling like shit', 'feeling like stuck', 'feeling like time', 'feeling like want', 'feeling mainly arms', 'feeling pretty good', 'feeling really bad', 'feeling really depressed', 'feeling stomach bug', 'feeling suddenly like', 'feeling worse im', 'feelings control monday', 'feelings randomly know', 'feelings vibes like', 'feels far away', 'feels fulluncomfortable diarrhea', 'feels late got', 'feels liek heart', 'feels light scared', 'feels like anxiety', 'feels like beating', 'feels like big', 'feels like body', 'feels like brain', 'feels like burning', 'feels like chore', 'feels like completely', 'feels like control', 'feels like day', 'feels like death', 'feels like dont', 'feels like dream', 'feels like end', 'feels like getting', 'feels like going', 'feels like heart', 'feels like hearts', 'feels like hell', 'feels like im', 'feels like ive', 'feels like joints', 'feels like life', 'feels like matter', 'feels like missing', 'feels like option', 'feels like people', 'feels like pressure', 'feels like real', 'feels like really', 'feels like shit', 'feels like slowly', 'feels like stop', 'feels like taking', 'feels like theres', 'feels like theyre', 'feels like thought', 'feels like thoughts', 'feels like time', 'feels like wants', 'feels like way', 'feels like work', 'feels like world', 'feels like yesterday', 'feels like youre', 'feels necessary gets', 'feels really hard', 'feet chest pain', 'feet feels late', 'feet tingly feeling', 'fell asleep woke', 'fell said best', 'felt completely like', 'felt dizzy days', 'felt great day', 'felt heart increase', 'felt heart pounding', 'felt insane teachers', 'felt light weak', 'felt like best', 'felt like didnt', 'felt like dream', 'felt like dying', 'felt like getting', 'felt like going', 'felt like gonna', 'felt like good', 'felt like heart', 'felt like im', 'felt like life', 'felt like lot', 'felt like needed', 'felt like normal', 'felt like old', 'felt like really', 'felt like saying', 'felt like sharing', 'felt like shit', 'felt like thing', 'felt like time', 'felt like wasnt', 'felt little bit', 'felt long time', 'felt lot better', 'felt normal felt', 'felt really bad', 'felt really good', 'felt seen read', 'felt sharp stabbing', 'felt stomach moving', 'felt vulnerable lonely', 'felt way felt', 'felt weak legs', 'felt weird days', 'felt weird head', 'felt weird night', 'felt weird stomach', 'female caucasian symptoms', 'female im weigh', 'female suckssss thing', 'fever symptoms going', 'fever throat infection', 'fever tiredness sleep', 'fibroids thickening utereus', 'fiction live sense', 'fighting lot yelling', 'fighting single day', 'figure best way', 'figure bring thing', 'figure life togetherbuild', 'figure want life', 'figure wanted life', 'figure whats wrong', 'figure wrong instead', 'figured id ask', 'filled adrenaline day', 'filled years sit', 'filtering going hear', 'filtering gone hear', 'finally able job', 'finally feel like', 'finally fell asleep', 'finally felt completely', 'finally gave beta', 'finally got feet', 'finally school people', 'finally time let', 'financial problems lack', 'financial support deaf', 'finasteride finasteride known', 'finasteride known cause', 'finasteride march late', 'finasteride mens hair', 'finasteride photo album', 'finding lvh apparently', 'fine arrhythmia svt', 'fine checked vitals', 'fine dont know', 'fine dont want', 'fine dr say', 'fine feel like', 'fine finding lvh', 'fine giving special', 'fine going kept', 'fine high school', 'fine im worried', 'fine mild left', 'fine past like', 'fine ruined years', 'fine sat like', 'fine super aware', 'fine think people', 'fingerprint reader optical', 'fingers holding cheek', 'fingers inserted cheek', 'finish book anymore', 'finishes team competes', 'finishing thoughts feel', 'fios gigabit internet', 'fios quantum gateway', 'fired job actually', 'fireworks feel like', 'fit int tv', 'fix anxiety getting', 'fix dont attach', 'fix feel like', 'flared majorly life', 'flattened grape squishysemifirm', 'flaws working spent', 'flight stairs completely', 'floating oily dense', 'floaty weightless light', 'floaty weird like', 'floor went met', 'flowing area ear', 'fluctuate like thought', 'fluctuating like beats', 'flurry selfhatred discontinued', 'flushed diarrhea drank', 'flushing ears right', 'flushing usually right', 'flutter dont think', 'flutters doesnt make', 'flutters help checking', 'flying eye brain', 'fnd pandas seizures', 'foamy times blood', 'focus brood day', 'focus surrounded happens', 'focus whats ahead', 'focused hoarding things', 'focused nonstop breathing', 'focusing heart beating', 'focusing small pet', 'food allergy basically', 'food allergy intolerance', 'food floor went', 'food gaining weight', 'food going bad', 'food house conversations', 'food intolerance like', 'food living boost', 'food particular causing', 'food past week', 'food poisoning eggs', 'food posioning like', 'food think normal', 'food thoughts like', 'foot ground night', 'foot pressed bed', 'force way thinking', 'forcing faking dont', 'foreign exchange relationship', 'forget check notes', 'forget deaths didnt', 'forget going say', 'forget important make', 'forget sure memory', 'forgetting honestly things', 'forgot bless pill', 'forgotten past misbegotten', 'form self harm', 'forward birthday august', 'forward continue hang', 'forward months later', 'frame hes fine', 'frames diseases stress', 'freak beating slow', 'freak beats hard', 'freaked heart rate', 'freaking fast heart', 'freaking makes worse', 'freaking messaged night', 'freaks family know', 'free amazon thought', 'free ask questions', 'free roam missions', 'free sure like', 'freedom possible providing', 'french honor society', 'french iv apush', 'french opinionated okay', 'frequently usual symptoms', 'freshman year college', 'freshman year highschool', 'friday live literally', 'friend eat snack', 'friend facetimes asked', 'friend feel comfortable', 'friend helped car', 'friends confronted told', 'friends experience life', 'friends family members', 'friends feel like', 'friends feels like', 'friends felt like', 'friends games really', 'friends gaslighted believing', 'friends girlfriend brothers', 'friends got normal', 'friends grade got', 'friends hanging friend', 'friends high school', 'friends love know', 'friends middle school', 'friends rape victims', 'friends real life', 'friends really quiet', 'friends refer girl', 'friends says relation', 'friends switch school', 'friends talked daily', 'friends tease butt', 'friends told bad', 'ft lbs got', 'fuck chest maybe', 'fuck fuck fuck', 'fucked said didnt', 'fucked shit thats', 'fucking brick like', 'fucking know fact', 'fucking losing sent', 'fucking sick shit', 'fucking suck especially', 'fullest health issues', 'fullfill promise sweetest', 'fulluncomfortable diarrhea prevalent', 'fully rested usually', 'fully switch sleep', 'fun fix dont', 'fun guy spent', 'fun things im', 'fun want told', 'function like normal', 'funding gofundme wonder', 'fundraising campaign ideal', 'funds days booking', 'furniture job clothes', 'furthermore note going', 'furthermore result termination', 'future eventually ill', 'future present boringness', 'future really feel', 'gained past year', 'gained supporters caused', 'gaining weight losing', 'game felt like', 'game hangout best', 'game hoping someday', 'game hours brain', 'game ive playing', 'game like escape', 'games dork straight', 'games glow dark', 'games group friends', 'games im grinding', 'games like csgo', 'games like gta', 'games list single', 'games really use', 'games spending time', 'games suddenly heh', 'games want play', 'gaming industry really', 'gaming mice monitor', 'gas prices insane', 'gaslighted believing non', 'gastroenterologist suggests look', 'gastroparesis symptoms excessive', 'gastroparesis thyroid disease', 'gauze gums taking', 'gave beta blocker', 'gave infusion feel', 'gb mhz corsair', 'gel stuff wrong', 'gen urm yn', 'gender white male', 'general everyday things', 'general im used', 'general mental health', 'general things honestly', 'generalized anxiety disorder', 'generally drier normal', 'generally enjoy places', 'genuinely dont know', 'genuinely feel like', 'genuinely want know', 'geographic tongue painful', 'gets better time', 'gets bored remember', 'gets louder faster', 'gets painful normally', 'gets really bad', 'gets red laying', 'gets red warm', 'gets slow youre', 'gets tiring write', 'gets wrong going', 'getting attention said', 'getting better better', 'getting better feel', 'getting car low', 'getting clean health', 'getting concussions anytime', 'getting day make', 'getting diagnosed epilepsy', 'getting feel like', 'getting fired job', 'getting heart palpitations', 'getting home walk', 'getting intrusive thoughts', 'getting jaw surgery', 'getting panic attacks', 'getting pissed idk', 'getting poisoned backyard', 'getting really dark', 'getting really paranoid', 'getting restraining order', 'getting sleep night', 'getting super paranoid', 'getting tired extreme', 'getting trampoline wanted', 'getting ultrasound thyroid', 'getting weak like', 'getting worse day', 'getting worse feel', 'getting worse im', 'getting worse longer', 'getting worse worse', 'gettiung worrie hours', 'gf really want', 'ghost like dreaming', 'ghosted know long', 'ghosted point wanted', 'gi doc said', 'gi neurologist check', 'gi tested celiacs', 'girl constantly ask', 'girl ghosted point', 'girl think really', 'girl way league', 'girlfriend brothers friends', 'girlfriend care talked', 'girlfriend feel like', 'girls depressed messed', 'girls dude real', 'gives anxiey makes', 'gives consent injustice', 'gives meaning dont', 'giving special treatment', 'gland dont know', 'gland minor salivary', 'glass flying eye', 'gloves pull poop', 'glow dark books', 'gluten dairy days', 'gluten diet really', 'goal thanks advance', 'goal time general', 'goals projects whatnot', 'god want relief', 'goes away feel', 'goes like stand', 'goes stand think', 'gofundme wonder cryptocurrency', 'going appsite violate', 'going bad fridge', 'going bed pm', 'going circus extremely', 'going crazy feel', 'going dates going', 'going days prevented', 'going die called', 'going die im', 'going dont know', 'going feel like', 'going feels like', 'going financial problems', 'going gi neurologist', 'going goofing point', 'going gym stopped', 'going hard time', 'going hear smell', 'going holiday saturday', 'going homeschool little', 'going huge like', 'going insane pretty', 'going insane started', 'going isnt bothering', 'going kept busy', 'going lot staying', 'going nuts thinking', 'going offsite means', 'going really bad', 'going really thought', 'going rough time', 'going rover simply', 'going second year', 'going sees life', 'going snap kinda', 'going stores feel', 'going stress child', 'going try best', 'going walks outside', 'going week heart', 'going work im', 'gold digital code', 'gone feel like', 'gone good weeks', 'gone hear like', 'gone like night', 'gone school felt', 'gonna alright idk', 'gonna come gone', 'gonna deny yeah', 'gonna die mentally', 'gonna explode instant', 'gonna fall break', 'gonna lie wouldnt', 'gonna pass die', 'gonna pass really', 'gonna post definition', 'gonna say nukes', 'good apps daily', 'good ass day', 'good assignments students', 'good battery life', 'good day im', 'good days bad', 'good feels necessary', 'good food thoughts', 'good hdmi switch', 'good head high', 'good impression bf', 'good input devices', 'good keyboard reliable', 'good looking school', 'good looking tough', 'good make huge', 'good mood forcing', 'good mood time', 'good nights sleep', 'good paying job', 'good person recording', 'good poop stool', 'good portion life', 'good problem recording', 'good pronouns automatically', 'good really good', 'good routines need', 'good source swwwocdtypescomindexphpswwwocdtypescomindexphp', 'good summer despite', 'good theres bass', 'good theres im', 'good things im', 'good turned freshman', 'good weeks break', 'good went urgent', 'good yeah dont', 'goofing point trying', 'got ana blood', 'got approved disability', 'got blood test', 'got blood work', 'got car accident', 'got college drop', 'got colonoscopy endoscopy', 'got crush lasted', 'got ct scan', 'got diagnosed adhd', 'got diagnosed ocd', 'got feet feels', 'got good grades', 'got got thoughts', 'got heated left', 'got hours sleep', 'got infection gums', 'got intrusive thought', 'got listened dr', 'got little heated', 'got new different', 'got new job', 'got normal degree', 'got prescribed mg', 'got pretty good', 'got quite fast', 'got really bad', 'got really excited', 'got relationship girl', 'got restraining order', 'got romac pcbs', 'got root canal', 'got scared dipped', 'got shot lump', 'got stool test', 'got super quiet', 'got thoughts bother', 'got weird ocd', 'got wonky questions', 'got worse worse', 'got wrong hell', 'gotta research possible', 'gotten borderline suiiiicedde', 'gotten case idea', 'gotten lot worse', 'gotten really bad', 'gotten really good', 'gpa uww weighted', 'grade crush tho', 'grade daily panic', 'grade felt sharp', 'grade got crush', 'grade huge obsessive', 'grade idk beat', 'grade obsessed friends', 'grade paranoid low', 'grade really depressed', 'grade started getting', 'grade super weird', 'grade thought mentally', 'graduate high school', 'graduated high school', 'graduating high school', 'graduation caused bunch', 'grand scheme things', 'grape squishysemifirm moveable', 'graphic design im', 'great day day', 'great panic free', 'great romance fiction', 'great time felt', 'greatly appreciate thanks', 'greatly appreciated edit', 'greatly appreciated thank', 'greatly appreciated thanks', 'green brown foamy', 'grew playing fighting', 'grey om healthy', 'grinding game hours', 'gritty dirty sounding', 'ground growing tough', 'ground night example', 'ground satellite isp', 'group friends talked', 'group upwards discuss', 'grow scary especially', 'growing fear eventually', 'growing isnt fear', 'growing lately ive', 'growing necessarily growing', 'growing older kidteen', 'growing tough high', 'grown guess world', 'grown wont seen', 'guarantee furthermore result', 'guess accessory parotid', 'guess brain gets', 'guess fear special', 'guess feel like', 'guess good really', 'guess im asking', 'guess im looking', 'guess im paranoid', 'guess im trying', 'guess maybe pacing', 'guess questions think', 'guess regional ap', 'guess want know', 'guess world treats', 'guess worried touxhed', 'guilty asked use', 'guilty feel like', 'guitar piano think', 'gums dentist said', 'gums exposed wisdom', 'gums quite swollen', 'gums taking bit', 'gums teeth couple', 'guy came home', 'guy cookout worker', 'guy decent looking', 'guy feel like', 'guy house posting', 'guy solved everybody', 'guy spent years', 'guy sure going', 'guy took couple', 'guy wanted badly', 'guy wanted live', 'guys bit like', 'guys feel better', 'gym stopped playing', 'gyno ultrasounds cysts', 'hair falling lot', 'hair hazel eyes', 'hair loss drug', 'hair lot thicker', 'hair shedding loss', 'hair used shed', 'hairs day lot', 'half diminished chord', 'half gained supporters', 'half hour ago', 'half year time', 'hand randomly start', 'handful time hs', 'handle concerned isnt', 'handle hdr xbox', 'handle listen anymore', 'handle places severe', 'hands feet sweating', 'hands feet sweaty', 'hands feet tingly', 'hands remind seen', 'hands trembling im', 'hang introduces family', 'hanging friend facetimes', 'hangout best friend', 'happen feel like', 'happen filtering gone', 'happen really depressed', 'happen remember end', 'happen went cool', 'happened couple times', 'happened days ago', 'happened dont want', 'happened feel like', 'happened forget sure', 'happened happen remember', 'happened like times', 'happened long ago', 'happened thought gonna', 'happened time tried', 'happened tried kill', 'happened week june', 'happened weeks ago', 'happened years ago', 'happening dont story', 'happens close family', 'happens im anxietypanic', 'happens im listening', 'happens movies paid', 'happens reason happens', 'happens store going', 'happy answer questions', 'happy cheering suddenly', 'happy feel like', 'happy idk goals', 'happy relationship said', 'hard able really', 'hard beating hard', 'hard beating maybe', 'hard believe like', 'hard fast right', 'hard feel like', 'hard feelings vibes', 'hard kinda dry', 'hard like bed', 'hard make friends', 'hard manually make', 'hard meet people', 'hard phase heart', 'hard phases heart', 'hard slow decided', 'hard think shit', 'hard time accepting', 'hard time adjusting', 'hard time connecting', 'hard time finding', 'hard time focusing', 'hard time getting', 'hard time learning', 'hard time sunday', 'hard time telling', 'hard time trying', 'hard time understanding', 'hard times feels', 'harder faster eat', 'harder slightly faster', 'hardest understand fake', 'harm feel like', 'hate feel like', 'hate feeling like', 'hate hate hate', 'hate hate want', 'hate people say', 'hate think killing', 'hate way look', 'havent gotten case', 'havent seen years', 'havent sex awhile', 'havent stuff like', 'hdmi ports support', 'hdmi switch ports', 'hdmi switch recommendations', 'hdr wewdigi hdmi', 'hdr xbox pro', 'head bumped grade', 'head calf legs', 'head feel like', 'head feels like', 'head felt like', 'head felt really', 'head felt weak', 'head high cbd', 'head knocked food', 'head needed tell', 'head thc years', 'head tired feeling', 'head weird like', 'headed kinda breath', 'headphones fear hunted', 'headphones head knocked', 'heal rape reading', 'health anxiety panic', 'health anxiety recently', 'health bills fine', 'health dread birthday', 'health earlier things', 'health feel like', 'health im trying', 'health issues like', 'health issues lines', 'health issues showed', 'health issues things', 'health life long', 'health long past', 'health physical health', 'healthdisease things obsessive', 'healthy behavior feel', 'healthy bit loud', 'healthy experience really', 'healthy like way', 'healthy lives anxious', 'hear breathe im', 'hear breathing wear', 'hear bunch stories', 'hear like loud', 'hear makes periods', 'hear people saying', 'hear people thoughts', 'hear sitting hours', 'hear smell things', 'hear thoughts laying', 'hear watery contents', 'heard good things', 'heard horror stories', 'heart anxiety phase', 'heart attack fears', 'heart attack occasional', 'heart attack think', 'heart beat came', 'heart beat checking', 'heart beat fast', 'heart beat literally', 'heart beat lot', 'heart beating chest', 'heart beating fast', 'heart beating faster', 'heart beating harder', 'heart beating kinda', 'heart beating steady', 'heart beats pulse', 'heart boom thought', 'heart calmed like', 'heart came picking', 'heart cleared saying', 'heart fast hard', 'heart fears grade', 'heart feels like', 'heart feels really', 'heart felt like', 'heart fluctuate like', 'heart freaked heart', 'heart gets slow', 'heart increase brother', 'heart increased think', 'heart issues healthdisease', 'heart issues like', 'heart issues uh', 'heart kinda flutters', 'heart kinda races', 'heart monitors days', 'heart opposite point', 'heart palpitations diarrhea', 'heart palpitations feel', 'heart palpitations feels', 'heart palpitations heart', 'heart palpitations increased', 'heart palpitations like', 'heart palpitations make', 'heart palpitations months', 'heart palpitations occurred', 'heart pounding fast', 'heart pounding kind', 'heart races day', 'heart races minimal', 'heart rate blood', 'heart rate bpm', 'heart rate chart', 'heart rate goes', 'heart rate high', 'heart rate low', 'heart rate normal', 'heart rate walking', 'heart rate went', 'heart rates aagian', 'heart rates like', 'heart rates said', 'heart sits goes', 'heart skipping beat', 'heart skips beat', 'heart slows idk', 'heart started beating', 'heart started racing', 'heart stethoscope said', 'heart super hard', 'heart thinking makes', 'heart today decided', 'heart weak pulse', 'heart weak slow', 'heart worry start', 'heartbeat hands trembling', 'heartrate maybe aroun', 'hearts close let', 'hearts racing usually', 'heat come inside', 'heat fever tiredness', 'heat hours heart', 'heated left ended', 'heated mom anxious', 'heath issues went', 'heh heart boom', 'held dream years', 'hell belong ill', 'hell feel like', 'hell filled years', 'hell thought suicided', 'hell want meet', 'hell worth ill', 'hella old dell', 'hello college student', 'hello hope youre', 'hello im new', 'hello need advice', 'hello need help', 'hello really bad', 'hello thank calling', 'hello year old', 'help achieve goal', 'help advice bad', 'help anxiety depression', 'help appreciated edit', 'help appreciated ive', 'help appreciated thank', 'help appreciated thanks', 'help better educate', 'help checking night', 'help dont know', 'help dont wanna', 'help dont want', 'help ex best', 'help fall asleep', 'help feel better', 'help feel guilty', 'help feel like', 'help feels like', 'help focus brood', 'help greatly appreciated', 'help im scared', 'help im sorry', 'help know let', 'help land job', 'help like person', 'help lol sorry', 'help makes feel', 'help need exist', 'help realized reason', 'help stress blank', 'help thanks advance', 'help understand situation', 'help understand started', 'helped car apartment', 'helpful hold hands', 'helpless panic attacks', 'helps chewing molars', 'helps immensely point', 'hes fine ruined', 'hey guys bought', 'hey guys got', 'hey guys im', 'hey guys ive', 'hey guys like', 'hey turned april', 'hi folks im', 'hi got romac', 'hi guys im', 'hi im currently', 'hi im going', 'hi im looking', 'hi im new', 'hi ive trying', 'hi long history', 'hi need help', 'hi recently diagnosed', 'hi recently got', 'hi time posting', 'hi turned days', 'hi turned lot', 'hi year old', 'hiding obvious disability', 'high achieving kid', 'high blood pressure', 'high cbd possible', 'high energy like', 'high energy music', 'high functioning autism', 'high heart rate', 'high im tired', 'high school age', 'high school college', 'high school competitive', 'high school dont', 'high school fed', 'high school feel', 'high school friends', 'high school pain', 'high school planning', 'high school really', 'high school year', 'high school years', 'high yield savings', 'highcshool im years', 'higher idk fast', 'higher paying job', 'highest scorer schools', 'highs getting car', 'highschool college health', 'highschool college really', 'highschool going homeschool', 'highschool got college', 'highschool started terrible', 'highschool thought basically', 'highschool use good', 'hikes nights games', 'hips skin redness', 'histamine intolerance mcas', 'history ap modern', 'history chem macro', 'history course cut', 'history covering prehistory', 'history covering present', 'history doable econmath', 'history endometriosis pcos', 'history opposed preap', 'history recently closed', 'history tmj predominately', 'hit ended losing', 'hit fan deaths', 'hit tree knocks', 'hit years kinda', 'hits like fucking', 'hive lgbtq inclusive', 'hoarding things wanna', 'hobby gotta research', 'hold conversations fucking', 'hold conversations really', 'hold flurry selfhatred', 'hold hands remind', 'holding cheek fever', 'holding steering wheel', 'holding tight things', 'holiday saturday seeing', 'hollow poppy kinda', 'holy city farms', 'home day felt', 'home feel like', 'home said think', 'home sex went', 'home times pretty', 'home walk like', 'homeschool little know', 'homework play favorite', 'honduras like organize', 'honest idea stereo', 'honestly dont know', 'honestly dont think', 'honestly dont want', 'honestly feel like', 'honestly feels like', 'honestly perform autopilot', 'honestly things eventually', 'honesty fast forward', 'honor international super', 'honor society inductee', 'honors satact section', 'hoodies pens mechanical', 'hope alive idk', 'hope feel like', 'hope makes sense', 'hope meet soon', 'hope megathread provide', 'hope right place', 'hope shes really', 'hope youre fine', 'hopefully makes sense', 'hoping bit advice', 'hoping someday play', 'hormonal imbalances usually', 'hormonal tested hormones', 'hormones normal range', 'hormones thyroid complete', 'horrible feel like', 'hospital freaks family', 'hour sleep fucked', 'hour therapy barely', 'hours accident feel', 'hours bed like', 'hours bed low', 'hours brain loses', 'hours day days', 'hours eating breakfast', 'hours eating gastroparesis', 'hours feel like', 'hours heart came', 'hours heart rates', 'hours heartrate maybe', 'hours hours eating', 'hours ive moved', 'hours later longer', 'hours like going', 'hours night like', 'hours normal im', 'hours pressure appears', 'hours recurring panics', 'hours shes replying', 'hours sleep feel', 'hours sleep night', 'hours wake like', 'hours walks id', 'hours wish listing', 'house came twice', 'house conversations especially', 'house days left', 'house keys keys', 'house past years', 'house posting single', 'house saw message', 'house went apologize', 'hr night hrs', 'hrs night like', 'hrs night sleep', 'hs ended diagnosed', 'hs school work', 'hs started depressed', 'hug let know', 'huge breakfast hungry', 'huge crushes depressed', 'huge fear thats', 'huge hug let', 'huge like heart', 'huge obsessive crush', 'huge overthinker overthink', 'huge plans try', 'huge rant guess', 'huge social support', 'huge stressful events', 'hulu prime video', 'humor really wanted', 'hunger noticing hair', 'hungry couple hours', 'hungry desire eat', 'hungry past easily', 'hunted animal im', 'huntingtons bipolar slightly', 'huntingtons disease brain', 'hurt bit looked', 'hurt included pictures', 'hurt looks like', 'hurt people love', 'hurts physical sat', 'hyper focusing heart', 'hypochondria actually sure', 'hypochondria depression anxiety', 'hypothyroidism know anymore', 'hypotrophy asked explain', 'hypotrophy normla age', 'hypotrophy said concern', 'ibs ibd colonoscopy', 'id add arent', 'id appreciate help', 'id catastrophize fear', 'id come feels', 'id dont want', 'id feel like', 'id greatly appreciate', 'id guess maybe', 'id like able', 'id like add', 'id like hear', 'id like im', 'id like know', 'id like later', 'id like say', 'id like start', 'id like think', 'id love hear', 'id love know', 'id love share', 'id love try', 'id play maybe', 'id prefer use', 'id really appreciate', 'id really like', 'id really love', 'id remind case', 'id run outside', 'id worry wouldnt', 'idc people day', 'idea dentist ent', 'idea im wrong', 'idea let know', 'idea react non', 'idea start job', 'idea stereo mix', 'idea want life', 'idea whats going', 'ideal way proceed', 'identify non binary', 'identity crises look', 'idk anxiety caused', 'idk anxiety feel', 'idk anxiety physical', 'idk beat bit', 'idk explain feel', 'idk fast heart', 'idk fast id', 'idk feel like', 'idk goals projects', 'idk gonna come', 'idk guys think', 'idk id dont', 'idk know big', 'idk like concerning', 'idk makes sense', 'idk man calm', 'idk nan react', 'idk pay attention', 'idk sorry long', 'idk thing kinda', 'idk true friend', 'idk want solution', 'ig woke began', 'ignore anxious thoughts', 'ignore mute usually', 'ill end getting', 'ill end messing', 'ill feel like', 'ill hard time', 'ill live past', 'ill look like', 'ill miss end', 'ill nintendo eshop', 'ill parents huge', 'ill sound erratic', 'ill teenagekid mindset', 'ill try make', 'ill way react', 'illnesses prozac klonopin', 'im adult ill', 'im afraid ill', 'im afraid im', 'im afraid wont', 'im anxiety heart', 'im anxietypanic attack', 'im asking im', 'im assuming period', 'im autistic im', 'im aware im', 'im bad person', 'im barely getting', 'im big fan', 'im bit confused', 'im boring let', 'im brand new', 'im btw things', 'im busy thinking', 'im college student', 'im coming reality', 'im community college', 'im completely lost', 'im confused im', 'im constantly thinking', 'im constantly worried', 'im curious hear', 'im curious know', 'im curious think', 'im currently looking', 'im currently taking', 'im currently trying', 'im currently using', 'im currently working', 'im dont know', 'im drained people', 'im dying constantly', 'im entirely sure', 'im exactly sure', 'im fairly certain', 'im fairly new', 'im fairly sure', 'im falling apart', 'im feel like', 'im feeling hopeful', 'im feeling like', 'im feeling really', 'im filled adrenaline', 'im fine giving', 'im fine think', 'im focused hoarding', 'im freaking messaged', 'im fucking sick', 'im fully rested', 'im getting better', 'im getting closer', 'im getting im', 'im getting old', 'im getting older', 'im getting pretty', 'im going buy', 'im going college', 'im going crazy', 'im going die', 'im going home', 'im going huge', 'im going insane', 'im going kill', 'im going live', 'im going make', 'im going nuts', 'im going say', 'im going start', 'im going stop', 'im going tell', 'im going try', 'im going trying', 'im going use', 'im going work', 'im gonna deny', 'im gonna die', 'im gonna end', 'im gonna say', 'im gonna sit', 'im gonna throw', 'im gonna try', 'im good im', 'im good listener', 'im grinding game', 'im grown wont', 'im happy im', 'im hard time', 'im hoping help', 'im huge overthinker', 'im hyper aware', 'im im trying', 'im impatient want', 'im kind scared', 'im kinda broken', 'im kinda getting', 'im kinda scared', 'im kinda worried', 'im late thirties', 'im laying bed', 'im leaving college', 'im likely going', 'im listening music', 'im little bit', 'im little confused', 'im little worried', 'im living home', 'im living im', 'im looking advice', 'im looking buy', 'im looking forward', 'im looking getting', 'im looking good', 'im looking im', 'im looking like', 'im looking make', 'im looking people', 'im looking relationship', 'im losing mind', 'im losing weight', 'im lost life', 'im mad im', 'im making plans', 'im making post', 'im native speaker', 'im normal filtering', 'im obsessing obsessions', 'im old school', 'im panicking byt', 'im panicking lasts', 'im panicking usually', 'im paranoid im', 'im paranoid kinda', 'im pat couple', 'im planet dont', 'im point im', 'im position pay', 'im positive thats', 'im pretty dumb', 'im pretty good', 'im pretty new', 'im pretty sure', 'im probably going', 'im probably gonna', 'im quite sure', 'im reading book', 'im really anxious', 'im really bad', 'im really concerned', 'im really confused', 'im really curious', 'im really disappointed', 'im really enjoying', 'im really excited', 'im really good', 'im really happy', 'im really hoping', 'im really interested', 'im really looking', 'im really nervous', 'im really new', 'im really paranoid', 'im really really', 'im really scared', 'im really starting', 'im really struggling', 'im really sure', 'im really tired', 'im really trying', 'im really worried', 'im relatively new', 'im right talking', 'im running ideas', 'im running options', 'im running time', 'im scared anxiety', 'im scared death', 'im scared dont', 'im scared feel', 'im scared going', 'im scared happen', 'im scared ill', 'im scared im', 'im scared ive', 'im scared know', 'im scared sleep', 'im scared talk', 'im scared think', 'im scared try', 'im scared wont', 'im seeing lot', 'im shakily whispering', 'im shy talk', 'im sick dont', 'im sick im', 'im sick shit', 'im sick tired', 'im simply tired', 'im sitting room', 'im sleep deprived', 'im sorry dont', 'im sorry im', 'im sorry post', 'im standing start', 'im starting believe', 'im starting feel', 'im starting new', 'im starting think', 'im super aware', 'im super excited', 'im super paranoid', 'im supposed feel', 'im sure bc', 'im sure dont', 'im sure girl', 'im sure ill', 'im sure im', 'im sure ive', 'im sure like', 'im sure means', 'im sure measured', 'im sure people', 'im sure start', 'im sure thats', 'im sure theres', 'im sure things', 'im sure think', 'im sure want', 'im tech savvy', 'im thinking buying', 'im thinking getting', 'im thinking going', 'im thinking im', 'im thinking making', 'im thinking starting', 'im tired body', 'im tired day', 'im tired feel', 'im tired feeling', 'im tired fighting', 'im tired im', 'im tired ive', 'im tired killing', 'im tired living', 'im tired people', 'im tired seeing', 'im tired tired', 'im tired want', 'im tired working', 'im tired worrying', 'im trouble finding', 'im trying best', 'im trying buy', 'im trying decide', 'im trying figure', 'im trying fully', 'im trying hard', 'im trying land', 'im trying like', 'im trying make', 'im trying say', 'im trying stay', 'im trying think', 'im trying use', 'im trying work', 'im type person', 'im unemployed point', 'im unhappy im', 'im used stuff', 'im wasting life', 'im wasting time', 'im week twice', 'im weigh smoke', 'im weird ive', 'im whispering wish', 'im wits end', 'im wondering guys', 'im wondering im', 'im wondering people', 'im wondering possible', 'im wondering theres', 'im wondering worth', 'im working jobs', 'im working low', 'im working senior', 'im worried anxiety', 'im worried going', 'im worried hear', 'im worried ill', 'im worried im', 'im worried ive', 'im worried theyll', 'im worried wont', 'im worthless piece', 'im wrong im', 'im wrong stupid', 'im year closer', 'im year old', 'im years graduation', 'im years old', 'imbalances usually hear', 'immediately assume worst', 'immense pain mouth', 'immensely point eat', 'impacted wisdom teeth', 'important classes exams', 'important college national', 'important make excessive', 'important weight thinness', 'imposter syndrome feel', 'impression bf toxic', 'improve social skills', 'improvement today panic', 'included picture tests', 'included pictures linked', 'including rover guarantee', 'inclusive server dedicated', 'income middle class', 'inconsolable remember feeling', 'increase brother works', 'increased hair loss', 'increased hair shedding', 'increased sweating increased', 'increased think beat', 'increases decreases severity', 'independent stuff makes', 'independently makes feel', 'indiacs pls lol', 'indoors let mum', 'infection fell said', 'infection gums dentist', 'infection important classes', 'infection reoccurring recommended', 'infection subsided gums', 'infection taking amoxicillin', 'infection ulcers caused', 'inflammation gi tract', 'influence opposite end', 'influences stats gpa', 'infusion feel better', 'initial contact established', 'injustice spreads wings', 'input came gritty', 'input devices keyboardtouchpad', 'input greatly appreciated', 'insane pretty grade', 'insane started getting', 'insane teachers doubt', 'insecurities feel like', 'inserted cheek fingers', 'inside cheek dentist', 'inside feel like', 'inside heart beat', 'inside mouth feel', 'inside mouth left', 'inside right midcheek', 'insight greatly appreciated', 'insomnia dumbass decided', 'insomnia years plus', 'instant panic attack', 'instead feels like', 'instead picking personal', 'instead picking potential', 'instrument kind long', 'insurence phone im', 'insurence phone need', 'int tv need', 'intel core ghz', 'intended donation eliminate', 'intended major economics', 'intense pain headaches', 'interesting struggle hold', 'interests sit shit', 'internal hard drive', 'internal mic tips', 'international highest scorer', 'international super prestigious', 'interview day yeah', 'interview got job', 'intolerance like gluten', 'intolerance mcas think', 'introduces family friends', 'intrusive dont really', 'intrusive obsessive thoughts', 'intrusive thoughts feelings', 'intrusive thoughts hard', 'intrusive thoughts like', 'intrusive thoughts tell', 'invested things unless', 'investigation smth felt', 'invisible feel like', 'involve convincing sitters', 'ipad air iphone', 'iphone pro max', 'iphone safety notice', 'iq reason special', 'irl someday stop', 'iron deficiency hypothyroidism', 'irregular periods bc', 'irregular periods scared', 'irritating thing video', 'isnt bothering dont', 'isnt fear growing', 'isnt healthy like', 'isnt super concerning', 'isnt working anymore', 'issue closest guess', 'issue evga supernova', 'issue havent sex', 'issue questions pertaining', 'issue reason feel', 'issue recently lost', 'issue right inside', 'issue super unhealthy', 'issues came failed', 'issues constant distress', 'issues feel like', 'issues hands feet', 'issues healthdisease things', 'issues impacted wisdom', 'issues insomnia years', 'issues like heart', 'issues lines life', 'issues making friends', 'issues mental health', 'issues mind slow', 'issues need really', 'issues new appeared', 'issues pcos stress', 'issues really bad', 'issues red spots', 'issues showed feel', 'issues spent days', 'issues substance abuse', 'issues things started', 'issues uh sleep', 'issues went highschool', 'issues worried caused', 'itch drink lot', 'itch hurt looks', 'itch raised hurt', 'itchy spots skin', 'itchy spots slightly', 'itchy usually flushing', 'itd beating kinda', 'iv apush ap', 'ive anxious like', 'ive applied jobs', 'ive cardiophobia anxiety', 'ive come point', 'ive come realize', 'ive dated wonder', 'ive depressed years', 'ive eating fast', 'ive experiencing lot', 'ive feeling like', 'ive feeling really', 'ive felt like', 'ive gained weight', 'ive gotten borderline', 'ive heard horror', 'ive heard people', 'ive ive younger', 'ive known years', 'ive learned lot', 'ive life im', 'ive like long', 'ive looked hypochondria', 'ive looking new', 'ive lost hope', 'ive lot progress', 'ive moved heart', 'ive obsessions health', 'ive played years', 'ive probably played', 'ive read people', 'ive read says', 'ive really overdone', 'ive recently started', 'ive restaurant center', 'ive ruined treatment', 'ive scared heart', 'ive seeing years', 'ive seen gi', 'ive seen lot', 'ive seen people', 'ive seen posts', 'ive self discovery', 'ive spent past', 'ive spent time', 'ive spent weeks', 'ive spent years', 'ive struggled anxiety', 'ive struggling anxiety', 'ive taken melatonin', 'ive talked dad', 'ive thing write', 'ive thinking getting', 'ive thinking going', 'ive thought getting', 'ive thrown perfectly', 'ive told im', 'ive tried different', 'ive tried things', 'ive tried using', 'ive trying figure', 'ive trying make', 'ive trying talk', 'ive trying work', 'ive wanted want', 'ive wasted teen', 'ive wasted years', 'ive worked low', 'ive worked restaurants', 'ive working center', 'ive years im', 'ive young id', 'ive younger stuff', 'jail cried said', 'jailbreaking iphone safety', 'job actually like', 'job clothes paid', 'job college degree', 'job coming starts', 'job dead end', 'job dont know', 'job dont want', 'job end getting', 'job feel like', 'job feels like', 'job im worried', 'job interview day', 'job ive working', 'job month ago', 'job months ago', 'jobs feel like', 'jobs ive past', 'jobs ive worked', 'jobs matter try', 'jobs rest life', 'join bee hive', 'join click link', 'join military happened', 'join military struggling', 'join pararescue held', 'join survived highschool', 'joined paramedic program', 'joints lower hips', 'jokes lot like', 'jokes probably wont', 'journaling good routines', 'journaling psychically working', 'jst makes sad', 'july july violence', 'july violence took', 'june panics anxiety', 'june surprise birthday', 'keen prescribing really', 'keeps coming purpose', 'keeps getting worse', 'keeps thought mind', 'kept busy videos', 'kept busy work', 'kept checking lowest', 'kept coming going', 'kept freaking fast', 'kept getting worse', 'kept saying sunday', 'kept telling knew', 'kernal power error', 'keyboard reliable build', 'keyboards bikes im', 'keys keys left', 'keys left went', 'keys took house', 'kid lot easier', 'kid played sports', 'kid world especially', 'kids sexually active', 'kidsteens feel like', 'kidteen anymore tend', 'kik whatsapp hope', 'kill said shed', 'killing fast likely', 'killing resting heart', 'kind diarrhea today', 'kind feel like', 'kind feels like', 'kind long term', 'kinda blank weirdest', 'kinda blurry despite', 'kinda breath im', 'kinda broken dumb', 'kinda calmed whats', 'kinda concerns feel', 'kinda dont care', 'kinda dry want', 'kinda feel bad', 'kinda feel like', 'kinda feels like', 'kinda flutters doesnt', 'kinda flutters help', 'kinda getting tired', 'kinda got wonky', 'kinda hard slow', 'kinda lose focus', 'kinda makes sense', 'kinda muted focus', 'kinda races like', 'kinda reset heart', 'kinda sat pc', 'kinda sleep issue', 'kinda stayed normal', 'kinda stresses thing', 'kinda thoughts way', 'kinda warped sounding', 'kinda worked guess', 'kindly let know', 'kinds crazy symptoms', 'kinds weird symptoms', 'kings truth lie', 'klonopin needed long', 'knew going happen', 'knew gonna lie', 'knew medication dream', 'knew need ass', 'knew said cousin', 'knew useless busy', 'knew writes really', 'knocked food floor', 'knocks telephone pole', 'know advice appreciated', 'know anymore feel', 'know anymore im', 'know anymore medications', 'know appropriate thing', 'know ask know', 'know bc talked', 'know best way', 'know better know', 'know big aspergers', 'know bringsme enjoyment', 'know care exist', 'know chanel miller', 'know coincidence receive', 'know dads super', 'know day day', 'know dont care', 'know dont know', 'know dont want', 'know drive handle', 'know exactly happened', 'know explain dont', 'know explain feel', 'know fact hour', 'know fear growing', 'know feel bad', 'know feel better', 'know feel like', 'know feel lost', 'know feel way', 'know feels like', 'know friends rape', 'know going change', 'know going time', 'know gonna pay', 'know greatly appreciated', 'know guys think', 'know hes going', 'know hour therapy', 'know identify non', 'know im bad', 'know im entitled', 'know im feeling', 'know im getting', 'know im going', 'know im gonna', 'know im like', 'know im really', 'know im scared', 'know im sorry', 'know im supposed', 'know im talking', 'know im thinking', 'know im trans', 'know im wrong', 'know ive anxious', 'know ive seen', 'know ive trying', 'know know know', 'know let think', 'know life dont', 'know like feel', 'know like satisfying', 'know likely true', 'know long fighting', 'know long winded', 'know looks like', 'know lot people', 'know lot sounds', 'know makes sense', 'know maybe wouldnt', 'know mental health', 'know mental shit', 'know mixes sounds', 'know need stop', 'know nice maybe', 'know non binary', 'know obvious like', 'know opinions thank', 'know people gonna', 'know people like', 'know people say', 'know people use', 'know real life', 'know right place', 'know right sub', 'know say feel', 'know say mind', 'know shes really', 'know shes wed', 'know sound like', 'know sounds dumb', 'know sounds insane', 'know sounds like', 'know sounds ridiculous', 'know sounds weird', 'know start painful', 'know start yeah', 'know stress bad', 'know tell parents', 'know thanks advance', 'know think im', 'know want know', 'know wanted fine', 'know whats going', 'know whats wrong', 'knowing need want', 'knowing wont fake', 'known cause longterm', 'known ones start', 'knows hold conversations', 'korea someday shes', 'lack bass depth', 'lack bass hollow', 'lack confidence guy', 'lack motivation lack', 'lack self awareness', 'lack sleep kinda', 'lang french iv', 'lasted grade really', 'lasted hours heart', 'lasted like hours', 'lasting kid lot', 'lasts calm usually', 'lasts hours pressure', 'lasts like minutes', 'lasts usually dont', 'late april started', 'late evening freak', 'late got relationship', 'late nights time', 'late thirties wrinkles', 'lately dont know', 'lately feel like', 'lately ive feeling', 'lately ive getting', 'lately ive self', 'lately symptoms experiencing', 'later date start', 'later feel like', 'later longer hungry', 'later night checked', 'later plan activity', 'later unable control', 'later wrote apologize', 'laugh corny jokes', 'lay bed day', 'laying awake know', 'laying pressing normally', 'lazy im gonna', 'lbs got really', 'lbs know ive', 'lbs life long', 'lbs listened like', 'lbs used years', 'lead asbestos mercury', 'lead day long', 'lead sheet notation', 'leading creation ap', 'league monthly competitions', 'league went quite', 'learn music theory', 'learn new skill', 'learn new skills', 'learn play instrument', 'learning new material', 'learning new way', 'leave agreed days', 'leave current job', 'leave feel like', 'leave finishing thoughts', 'leave house week', 'leave leave really', 'leave really hope', 'leaving drunk defensive', 'leaving relationship took', 'led team consistent', 'left blind kings', 'left came heart', 'left ended getting', 'left feel like', 'left felt like', 'left got shot', 'left hell worth', 'left idk gonna', 'left normal vaguely', 'left right arm', 'left stuff house', 'left ventricle hypotrophy', 'left ventricular hypotrophy', 'left went mom', 'left years ago', 'leftright sub woofer', 'legally love want', 'legally recognised uk', 'legally want touch', 'legit like wave', 'legit thought shoot', 'legs arms itchy', 'legs better stomach', 'legs diarrhea basically', 'legs feel like', 'legs felt light', 'legs getting weak', 'legs im completely', 'legs want relaxed', 'lemme know guys', 'let brood like', 'let feel like', 'let ground growing', 'let guy wanted', 'let know greatly', 'let know guys', 'let know ideas', 'let know im', 'let know maybe', 'let know opinions', 'let know shes', 'let know thanks', 'let know think', 'let know thoughts', 'let know want', 'let preface saying', 'let start saying', 'let things distracting', 'let think come', 'let think controversial', 'let think things', 'letters words meaning', 'level recognition regional', 'lg smart tv', 'lgbtq inclusive server', 'libido erection issues', 'lie feel hear', 'lie got wrong', 'lie wouldnt birthed', 'liek body tired', 'liek heart sits', 'life anymore scares', 'life basically fearing', 'life breathe really', 'life centered fear', 'life dont know', 'life falling apart', 'life feel like', 'life feels like', 'life felt like', 'life finally school', 'life focused nonstop', 'life fullest health', 'life getting better', 'life goal time', 'life hard time', 'life hell thought', 'life idk anxiety', 'life im curious', 'life im tired', 'life im trying', 'life im working', 'life ive felt', 'life ive obsessions', 'life join military', 'life long anxiety', 'life long expectantly', 'life look people', 'life looking good', 'life lot severe', 'life normal current', 'life obsessing bad', 'life outside work', 'life person want', 'life personality opposite', 'life pretty hard', 'life really want', 'life style wanted', 'life togetherbuild consistent', 'life want live', 'life worth living', 'life years embarrassment', 'lifting creativity energy', 'light end tunnel', 'light headed kinda', 'light scared think', 'light tongue feels', 'light weak like', 'lighter stop completely', 'lightmoderate entire time', 'lightmoderately days issue', 'like able use', 'like absolute shit', 'like actually boy', 'like adrenaline rushes', 'like adult makes', 'like advice welcome', 'like air floaty', 'like anxiety heart', 'like anymore feel', 'like april time', 'like arms legs', 'like average sitting', 'like bad idea', 'like bad person', 'like beating hard', 'like beats feel', 'like beats phases', 'like bed heart', 'like best friend', 'like best way', 'like big deal', 'like blasting high', 'like blood going', 'like blood pressure', 'like brain doesnt', 'like burden like', 'like catches happened', 'like cold emotionless', 'like complete utter', 'like completely different', 'like concerning events', 'like constantly fluctuating', 'like constantly remind', 'like control muscles', 'like cuz kept', 'like day cuz', 'like day long', 'like days ago', 'like days felt', 'like deep breath', 'like didnt know', 'like dizzytiredness feeling', 'like dog lose', 'like dont belong', 'like dont care', 'like dont deserve', 'like dont feel', 'like dont know', 'like dont like', 'like dont mad', 'like dont mind', 'like dont really', 'like dont think', 'like dont wanna', 'like dont want', 'like dreaming half', 'like eat blah', 'like end world', 'like enjoyment life', 'like entire body', 'like escape tarkov', 'like failure feel', 'like falling apart', 'like feel like', 'like feel sorta', 'like feel way', 'like feeling like', 'like feeling suddenly', 'like feels like', 'like feels real', 'like felt like', 'like finally time', 'like floaty weightless', 'like flutter dont', 'like forget deaths', 'like freight train', 'like fucking brick', 'like fucking loser', 'like getting worse', 'like ghost like', 'like gluten dairy', 'like going away', 'like going crazy', 'like going die', 'like going insane', 'like going pass', 'like going stores', 'like gonna die', 'like gonna pass', 'like good idea', 'like good mood', 'like good went', 'like guess worried', 'like guys bit', 'like guys think', 'like handle concerned', 'like handle listen', 'like happened happen', 'like hard time', 'like head calf', 'like heart anxiety', 'like heart attack', 'like heart beating', 'like heart races', 'like heart skipping', 'like heart skips', 'like hearts racing', 'like high school', 'like highschool use', 'like holy shit', 'like horrible person', 'like hours heartrate', 'like hours ive', 'like hours normal', 'like hours recurring', 'like hr night', 'like id play', 'like ill end', 'like im actually', 'like im adult', 'like im anxiety', 'like im boring', 'like im burden', 'like im constantly', 'like im dumb', 'like im dying', 'like im falling', 'like im fine', 'like im fucking', 'like im fully', 'like im getting', 'like im going', 'like im gonna', 'like im good', 'like im grown', 'like im im', 'like im living', 'like im looking', 'like im losing', 'like im making', 'like im missing', 'like im normal', 'like im old', 'like im planet', 'like im playing', 'like im ready', 'like im really', 'like im running', 'like im shakily', 'like im stuck', 'like im suffocating', 'like im sure', 'like im taking', 'like im talking', 'like im tired', 'like im trying', 'like im using', 'like im wasting', 'like im watching', 'like im whispering', 'like im worthless', 'like interesting struggle', 'like internal mic', 'like invisible feel', 'like ive lost', 'like ive ruined', 'like ive thrown', 'like ive tried', 'like ive wasted', 'like jailbreaking iphone', 'like join survived', 'like joints lower', 'like jumping jacks', 'like kidsteens feel', 'like know anymore', 'like know best', 'like know im', 'like know people', 'like know possible', 'like knows hold', 'like later date', 'like learn play', 'like life lot', 'like like flutter', 'like like know', 'like like want', 'like literally eat', 'like little kid', 'like living life', 'like long anxietypanic', 'like long time', 'like look like', 'like look people', 'like lose control', 'like losing mind', 'like lost potential', 'like lot people', 'like lot potential', 'like loud ignore', 'like love talk', 'like make feel', 'like make sense', 'like make sure', 'like makes feel', 'like makes sense', 'like making bed', 'like maniac slowly', 'like meds work', 'like men want', 'like mental health', 'like mentally im', 'like mins finally', 'like mins getting', 'like mins kinda', 'like mins later', 'like minute idk', 'like minutes im', 'like missed youth', 'like moment times', 'like month ago', 'like months ago', 'like months ive', 'like need help', 'like new job', 'like night long', 'like night sleep', 'like normal human', 'like normal person', 'like normal sitting', 'like normal thing', 'like oh god', 'like old times', 'like ones mentioned', 'like organize fundraising', 'like panic attack', 'like panic attacks', 'like parties going', 'like passing things', 'like past days', 'like past years', 'like peaks ive', 'like people dont', 'like people think', 'like perfect normal', 'like person saw', 'like points ive', 'like post workout', 'like pressure caused', 'like pretty easy', 'like quiet awkward', 'like real life', 'like real like', 'like really bad', 'like really computer', 'like really dont', 'like really feel', 'like really like', 'like really need', 'like really want', 'like recovered idk', 'like red dead', 'like right im', 'like right thing', 'like rollercoaster help', 'like rush type', 'like said im', 'like satisfying bad', 'like school recognition', 'like sensory overload', 'like shes really', 'like shit dont', 'like shit feel', 'like shit im', 'like shit ive', 'like shit like', 'like shit make', 'like shit really', 'like shortness breath', 'like skiing snowboarding', 'like sleep hours', 'like slow got', 'like slow heart', 'like slow sticky', 'like social anxiety', 'like social media', 'like soon dont', 'like spend time', 'like stand panicky', 'like started gettiung', 'like started new', 'like stayed mins', 'like stoned eyelids', 'like stools hard', 'like stop thoughts', 'like stress guess', 'like stuff like', 'like stupid question', 'like sudden started', 'like talking people', 'like theres hope', 'like theres way', 'like thing massive', 'like thought duty', 'like thought related', 'like thought shopping', 'like throat closing', 'like time im', 'like time know', 'like time like', 'like time try', 'like times day', 'like times past', 'like times week', 'like title says', 'like today picking', 'like toilet came', 'like treated like', 'like trying make', 'like video game', 'like walking air', 'like wanna eat', 'like wanna talk', 'like want know', 'like want play', 'like want stay', 'like wants slow', 'like waste time', 'like watching tv', 'like wave fearadrenaline', 'like wave panic', 'like way actually', 'like way look', 'like weeks ago', 'like welp ive', 'like whats point', 'like woke upset', 'like words day', 'like year old', 'like years ago', 'like years old', 'likely dont want', 'likely happen went', 'likely submit chem', 'likely true help', 'likes marvel star', 'lines life personality', 'link doesnt work', 'linked album random', 'lips inside cheek', 'list programsgames desire', 'list single mario', 'listen anymore irritating', 'listened dr like', 'listened ecg mild', 'listened ecg said', 'listened heart stethoscope', 'listened like cuz', 'listening music long', 'listing things wanted', 'lists gonna post', 'lists growing lately', 'lists remind daily', 'literally barely new', 'literally describes dot', 'literally eat breakfast', 'literally feel like', 'literally felt like', 'literally gloves pull', 'literally grade idk', 'literally site know', 'literally thinking anxiety', 'literallysince spoken going', 'little bit better', 'little bit itchy', 'little bit money', 'little bit pain', 'little bit time', 'little heated mom', 'little know start', 'little months ago', 'little streak brown', 'little thing fear', 'little things like', 'little time left', 'little work experience', 'little year ago', 'live apartment complex', 'live constant fear', 'live decent life', 'live dont know', 'live feel like', 'live gold digital', 'live home parents', 'live life breathe', 'live life fullest', 'live life like', 'live like anymore', 'live literally gloves', 'live long healthy', 'live normal life', 'live past makes', 'live rest life', 'live sense humor', 'live small town', 'lives anxious personality', 'lives hour away', 'living best life', 'living boost ensure', 'living feel like', 'living hell trying', 'living paycheck paycheck', 'local community college', 'locker approach need', 'lol away today', 'lol feel like', 'lol sorry huge', 'lonely feel like', 'lonely want leave', 'long ago sleep', 'long anxiety went', 'long anxietypanic attacks', 'long battery life', 'long day mom', 'long distance boyfriend', 'long dont know', 'long expectantly quality', 'long feel like', 'long fighting single', 'long finish book', 'long forgotten past', 'long gone school', 'long healthy lives', 'long history tmj', 'long like control', 'long like handle', 'long long time', 'long missed feel', 'long panic attack', 'long past plan', 'long period time', 'long periods time', 'long post ahead', 'long post thanks', 'long post wanted', 'long recovery kindly', 'long sick felt', 'long story food', 'long story short', 'long term effects', 'long term life', 'long term relationship', 'long time ago', 'long time dont', 'long time feel', 'long time feeling', 'long time friends', 'long time im', 'long time ive', 'long time know', 'long time moderators', 'long time remember', 'long time thought', 'long time trying', 'long winded pity', 'longer blocked ig', 'longer feel like', 'longer hungry desire', 'longer lasts usually', 'longer left hell', 'longer periods post', 'longterm effects experiencing', 'look bad paper', 'look feel like', 'look forward reading', 'look join military', 'look legally love', 'look like dont', 'look like idiot', 'look like im', 'look like theyre', 'look mirror dont', 'look mirror feel', 'look months pregnant', 'look people like', 'look people think', 'look photos past', 'look sibo epi', 'look stupid lose', 'look teens age', 'look turned joined', 'looked exact area', 'looked hypochondria depression', 'looking applying jobs', 'looking good head', 'looking good turned', 'looking new job', 'looking possible conversion', 'looking purchase holy', 'looking quit looking', 'looking school dated', 'looking struggle girls', 'looking tough dude', 'looking types players', 'looks bit swollen', 'looks like im', 'looks like stoned', 'lose balance fall', 'lose focus surrounded', 'lose hope alive', 'lose ive dated', 'lose ive lost', 'lose probably hairs', 'loses concentration kinda', 'losing hope feel', 'losing lost appetite', 'losing mind really', 'losing protection rover', 'losing sent home', 'loss appetite loss', 'loss balance randomly', 'loss drug experiencing', 'loss fatigue heart', 'loss phobia maybe', 'loss severe appetite', 'loss symptoms started', 'loss weight loss', 'lost ability feel', 'lost answer cause', 'lost appetite extremely', 'lost best friend', 'lost cause like', 'lost feel like', 'lost life im', 'lost lot people', 'lost lot weight', 'lost potential like', 'lost reverse ailments', 'lost ton weight', 'lot able pinpoint', 'lot anxiety panic', 'lot common interests', 'lot concretely positive', 'lot congestion using', 'lot dad approval', 'lot dont feel', 'lot dont really', 'lot easier let', 'lot faster normally', 'lot feel like', 'lot felt like', 'lot free time', 'lot hair used', 'lot like guess', 'lot like id', 'lot mental health', 'lot people buy', 'lot people dont', 'lot people know', 'lot people like', 'lot people say', 'lot people saying', 'lot people want', 'lot people year', 'lot potential bad', 'lot quieter almsot', 'lot regret spent', 'lot severe know', 'lot sounds lazy', 'lot staying ny', 'lot stress summer', 'lot stuff going', 'lot symptoms like', 'lot tends aggravated', 'lot therapist hs', 'lot thicker symptoms', 'lot things life', 'lot things look', 'lot things taking', 'lot time im', 'lot water pictures', 'lot weight thought', 'lot yelling went', 'loud explosions fireworks', 'loud ignore mute', 'louder faster thing', 'love character maybe', 'love crowded cities', 'love dad really', 'love deeply dad', 'love dont know', 'love feel like', 'love hear opinions', 'love hear people', 'love hear thanks', 'love hear thoughts', 'love know friends', 'love life amazing', 'love loud explosions', 'love love love', 'love loved deserve', 'love road trips', 'love sativa sour', 'love support let', 'love talk idk', 'love want touch', 'loved deserve best', 'loved making laugh', 'loved ones tell', 'low average walking', 'low blood pressure', 'low blood sugar', 'low couple hours', 'low dip normal', 'low dips sitting', 'low gastroenterologist suggests', 'low grade fever', 'low iq reason', 'low paying job', 'low paying jobs', 'low point life', 'low self esteem', 'low sex drive', 'low standing standing', 'low time anways', 'low wage jobs', 'lower abdomen usually', 'lower arm prick', 'lower falling want', 'lower hip pain', 'lower hips skin', 'lower spinal pain', 'lowest measured bed', 'lowest point life', 'lump right admittedly', 'lvh apparently false', 'lying hiding obvious', 'machine prediabetes array', 'macro seminar extracurriculars', 'macroeconomic conditions policy', 'mad dad pays', 'mad views dont', 'main culprit hormonal', 'main symptoms trouble', 'mainly arms like', 'major depressive disorder', 'major economics math', 'majority scams rover', 'majority started diarrhea', 'majorly life hell', 'make better person', 'make big deal', 'make breakfast yeah', 'make effort socialize', 'make ends meet', 'make excessive lists', 'make eye contact', 'make feel anymore', 'make feel bad', 'make feel better', 'make feel good', 'make feel guilty', 'make feel like', 'make feel loved', 'make feel really', 'make feel worse', 'make friends school', 'make heart beat', 'make huge plans', 'make like fault', 'make long story', 'make look bad', 'make look legally', 'make look like', 'make make sense', 'make money im', 'make money ive', 'make money pay', 'make new friends', 'make paronoid mad', 'make people feel', 'make people laugh', 'make sense feel', 'make sense im', 'make short possible', 'make situation better', 'make small talk', 'make sound like', 'make sure actually', 'make sure best', 'make sure didnt', 'make sure doesnt', 'make sure dont', 'make sure good', 'make sure im', 'make sure know', 'make sure right', 'make sure thought', 'make sure wasnt', 'make things easier', 'make things right', 'make things work', 'make things worse', 'make types memories', 'make youtube videos', 'makes anxious advicecalming', 'makes feel anxious', 'makes feel bad', 'makes feel better', 'makes feel completely', 'makes feel depressed', 'makes feel good', 'makes feel guilty', 'makes feel like', 'makes feel long', 'makes feel nauseous', 'makes feel really', 'makes feel sad', 'makes feel sick', 'makes feel uncomfortable', 'makes feel way', 'makes feel weird', 'makes feel worse', 'makes feel worthless', 'makes happy anymore', 'makes hardest understand', 'makes look like', 'makes look stupid', 'makes panic amber', 'makes periods lighter', 'makes race makes', 'makes really hard', 'makes really sad', 'makes sad sleep', 'makes sad thought', 'makes scamming onsite', 'makes sense dont', 'makes sense feel', 'makes sense im', 'makes sense like', 'makes sound like', 'makes super tired', 'makes things worse', 'makes think fear', 'makes want die', 'makes worse light', 'makes zero sense', 'making anxiety worse', 'making anxious depressed', 'making bed cooking', 'making big deal', 'making excuses asked', 'making feel bad', 'making feel better', 'making feel like', 'making feel way', 'making friends switch', 'making laugh corny', 'making look like', 'making new friends', 'making people upset', 'making things worse', 'making week bleeding', 'making youtube videos', 'male ft lbs', 'male gen urm', 'male lbs know', 'male lbs life', 'male lbs tall', 'male pattern baldness', 'male tall lbs', 'male thanks comments', 'male years old', 'man breath probablly', 'man calm say', 'man dont want', 'maniac slowly came', 'manually make sure', 'march july july', 'march late april', 'march lot stress', 'march schools led', 'mario game hoping', 'mario games list', 'marvel star wars', 'massive improvement today', 'massive panic attack', 'masters history university', 'math competition annually', 'math league monthly', 'math minor history', 'math team competed', 'math team like', 'matter hard tried', 'matter hard try', 'matter try keeps', 'max replaced free', 'maxed bench rate', 'maxed figure bring', 'maxing bench felt', 'maybe aroun like', 'maybe close bpm', 'maybe confidence issue', 'maybe cuz mu', 'maybe dont adhd', 'maybe dont know', 'maybe dont need', 'maybe dont want', 'maybe dropped baby', 'maybe food allergy', 'maybe handful time', 'maybe histamine intolerance', 'maybe holding tight', 'maybe im good', 'maybe im wrong', 'maybe like peaks', 'maybe like thing', 'maybe little bit', 'maybe pacing like', 'maybe shed lose', 'maybe standing mind', 'maybe thats maybe', 'maybe wouldnt happened', 'maybe write email', 'maybe years ago', 'maybe years old', 'mcas think food', 'mean dont know', 'mean feel like', 'mean im gonna', 'meaning dont know', 'meaning words encouragement', 'means losing protection', 'meant live long', 'measure pulse pressure', 'measured bed shopping', 'measured months ago', 'measuring truly think', 'mechanical pencils notebooks', 'media help know', 'media im weird', 'medication dream military', 'medication mental health', 'medication refused knew', 'medications spiraling need', 'medicine forgot bless', 'meditation taking cold', 'meds like join', 'meet irl someday', 'meet nerdy stuff', 'meet new people', 'meeting new people', 'meeting rheumatologist positive', 'megathread place posts', 'megathread provide community', 'melatonin far kinda', 'members sub long', 'membership digital code', 'memoirs assaults maybe', 'memories feel like', 'memory loss phobia', 'memory reminds needs', 'men said agreed', 'mens hair loss', 'mental breakdowns worried', 'mental clarity way', 'mental health better', 'mental health clinic', 'mental health day', 'mental health dread', 'mental health feel', 'mental health getting', 'mental health issues', 'mental health ive', 'mental health know', 'mental health lot', 'mental health physical', 'mental health problems', 'mental health professionals', 'mental health really', 'mental health want', 'mental health worse', 'mental healthcare facility', 'mental illnesses prozac', 'mental physical health', 'mental ritualsswwwocdtypescommentalritualsphp somatic', 'mental shit hypochondria', 'mentally disabled time', 'mentally ill people', 'mentally im kinda', 'mentally wrong years', 'mention feel like', 'mentioned feel like', 'mercury fears huge', 'mess lot tends', 'message gonna say', 'message usually talk', 'messaged night taken', 'messages im freaking', 'messed think age', 'met allergist said', 'met group upwards', 'met guy came', 'met guy took', 'met night works', 'mhz corsair ram', 'mic input came', 'mic recordings sound', 'mic tips greatly', 'mice monitor shoes', 'midcheek bigger size', 'middle class sure', 'middle nervous breakdown', 'middle night foot', 'middle school close', 'middle school high', 'middle school thought', 'mightve special needs', 'mightve touched like', 'mild left ventricle', 'mild left ventricular', 'military allowing people', 'military happened time', 'military join pararescue', 'military rules military', 'military struggling years', 'miller point received', 'mind bit anxiety', 'mind exercise extreme', 'mind feel like', 'mind feels like', 'mind goes blank', 'mind immediately goes', 'mind keeps telling', 'mind kinda reset', 'mind knew need', 'mind like skiing', 'mind playing tricks', 'mind really help', 'mind slow ended', 'mind tells wrong', 'mind went blank', 'mindset thats feel', 'mini like wave', 'minimal exertion climb', 'minor history doable', 'minor salivary gland', 'mins finally felt', 'mins getting home', 'mins going isnt', 'mins kinda stayed', 'mins later unable', 'minute idk anxiety', 'minutes feel like', 'minutes im panicking', 'minutesbut believe keeps', 'miraculously day great', 'mirror feel like', 'misbegotten face longer', 'miss end torment', 'missed feel like', 'missed youth heath', 'missed youthful fun', 'missing youth saw', 'mistake life focused', 'mix know mixes', 'mix thing mic', 'mixes sounds acts', 'mo ago history', 'mode low time', 'moderators rroverpetsittingswwwredditcomrroverpetsitting hope', 'modern history opposed', 'molars rash increases', 'mom anxious person', 'mom brother came', 'mom came home', 'mom dad getting', 'mom gave infusion', 'mom grade huge', 'mom happy relationship', 'mom house went', 'mom mom brother', 'mom nurse told', 'mom scared person', 'mom split days', 'mom stress getting', 'mom told think', 'moment times normal', 'moms house days', 'moms new number', 'monday speak tuesday', 'monetary policy required', 'money left help', 'monitor alienware sounds', 'monitor shoes hoodies', 'monitors audio output', 'monitors days months', 'month ago cleaning', 'month ago got', 'month ago met', 'month ago pressing', 'month ago went', 'month consistent prevail', 'month family membership', 'month feel like', 'month half ago', 'month irregular periods', 'month overdue tend', 'month spotting days', 'month wanted start', 'monthly competitions september', 'months able swallow', 'months ago bad', 'months ago got', 'months ago im', 'months ago months', 'months ago panic', 'months ago really', 'months ago slightly', 'months ago took', 'months ago went', 'months centered heart', 'months digging prodding', 'months dont know', 'months feel like', 'months food posioning', 'months idk man', 'months ive eating', 'months ive experiencing', 'months kinds crazy', 'months ordeal stopped', 'months prevent infection', 'months prior cause', 'months recently experiencing', 'months today feeling', 'months want leave', 'mood dont understand', 'mood forcing faking', 'mood lifting creativity', 'mood time im', 'morning called answer', 'morning feel like', 'morning think heart', 'mornings tiredness occasional', 'motivation lack confidence', 'mouth feel fingers', 'mouth left normal', 'mouth solid food', 'mouth super dry', 'moveable bit tender', 'moved april moved', 'moved heart issues', 'moved new apartment', 'moved new city', 'moved pay rent', 'moved years ago', 'movement anxiety prevented', 'movement ap world', 'movie short attention', 'movies paid netflix', 'movies tv shows', 'moving days hear', 'moving help focus', 'moving poop realised', 'mpg edge max', 'msi mpg edge', 'mu friends tease', 'multiple classmates chronical', 'multiple sexual assaults', 'multiple times day', 'multiple times week', 'mum gotten really', 'mum said believe', 'mum use old', 'musclejoint pain fatiguelow', 'muscles eyelids noticed', 'mushrooms heart attack', 'mushrooms yard super', 'music hours like', 'music long like', 'music meditate trips', 'music theory books', 'music video games', 'mute usually lasts', 'muted focus whats', 'naked juice ramen', 'nan french opinionated', 'nan react nan', 'national french honor', 'national international highest', 'nationalities ages server', 'nationwide prevent changes', 'native english speaker', 'nausea vomit feeling', 'navy seal lol', 'necessarily growing older', 'necessary beneficial discussion', 'necessary gets tiring', 'neck arms overall', 'necks bad intrusive', 'need advice month', 'need advice non', 'need ass eventually', 'need best strain', 'need buy able', 'need distraction actually', 'need exist police', 'need feel like', 'need good hdmi', 'need help advice', 'need help downloading', 'need help getting', 'need help im', 'need help like', 'need help people', 'need lose weight', 'need make money', 'need make sure', 'need opinions getting', 'need ports handle', 'need position loose', 'need really good', 'need sound advice', 'need talk therapist', 'need testing xanax', 'need want write', 'needed long history', 'needed stop blaming', 'needed tell mom', 'needed wouldve showed', 'needs feel compulsed', 'needs ones said', 'negative crohn disease', 'negative person started', 'nerd likes marvel', 'nerdy stuff going', 'nervous feel like', 'nervous worried symptoms', 'nervousness overthinking mental', 'nes snes genesis', 'netflix hulu prime', 'neurologist check things', 'neuropathy taking finasteride', 'new appeared finally', 'new bodily symptoms', 'new different contacts', 'new job coming', 'new job im', 'new job monday', 'new job months', 'new job want', 'new number got', 'new people feel', 'new person obviously', 'new saints row', 'new ssri medicine', 'new way live', 'new york outlining', 'nice bass maxed', 'nice feel like', 'nice maybe cuz', 'night avoid sleeping', 'night checked phone', 'night example woke', 'night feel like', 'night feel tired', 'night foot pressed', 'night hours night', 'night hrs night', 'night like hours', 'night like hr', 'night long day', 'night sleep night', 'night solid like', 'night spoken confused', 'night started feel', 'night started randomly', 'night sweats times', 'night taken pills', 'night tried telling', 'night trying fall', 'night works big', 'night wouldve stayed', 'nights games dork', 'nights time coz', 'nintendo eshop card', 'nintendo switch online', 'noise canceling headphones', 'non binary idea', 'non binary legally', 'non binary like', 'non binary mum', 'non binary particularly', 'nonstop breathing make', 'nope demographics race', 'normal age athletes', 'normal age im', 'normal age lbs', 'normal blood pressure', 'normal current month', 'normal degree little', 'normal feel like', 'normal feel way', 'normal filtering going', 'normal healthy experience', 'normal heart fluctuate', 'normal help need', 'normal idk pay', 'normal im tired', 'normal increased hair', 'normal normal anxiety', 'normal panic attacks', 'normal panic mode', 'normal people feel', 'normal person disfunctional', 'normal push heart', 'normal repeat months', 'normal sitting resting', 'normal sleep schedule', 'normal sorry makes', 'normal tongue pattern', 'normal vaguely feel', 'normal year old', 'normally geographic tongue', 'normally got quite', 'normally say typical', 'normally wake super', 'normla age male', 'normla panic longer', 'nostalgia enjoy present', 'note arranging booking', 'note going offsite', 'notebooks backpacks piano', 'notice stomach feel', 'notice vast majority', 'noticed heart racing', 'noticed month ago', 'noticed pictures eyes', 'noticing hair falling', 'noticing heart beating', 'nukes dropped literally', 'numb like pressure', 'number got new', 'number ulcers tongue', 'number words numbers', 'numbers usually time', 'nurse told drink', 'nuts thinking cancer', 'nvidia shield fit', 'nvidia shield tv', 'ny moms house', 'obese gained past', 'obesity issue right', 'obs streamlabs audacity', 'obs streamlabs kinda', 'obsessed friends grade', 'obsessed getting trampoline', 'obsessed mario games', 'obsessing bad good', 'obsessing obsessions dont', 'obsessions dont know', 'obsessions health earlier', 'obsessionsswwwocdtypescomreligiousocdphp superstitious obsessionsswwwocdtypescomsuperstitiousocdphp', 'obsessionsswwwocdtypescomsoocdhocdphp religious obsessionsswwwocdtypescomreligiousocdphp', 'obsessionsswwwocdtypescomsuperstitiousocdphp uncommon obsessionsswwwocdtypescomunusualocdphp', 'obsessionsswwwocdtypescomunusualocdphp washing cleaningswwwocdtypescomwashingocdphp', 'obsessive crush girl', 'obsessive lead asbestos', 'obvious disability know', 'obvious like theres', 'obviously isnt healthy', 'obviously kinda thoughts', 'occasional cramping lower', 'occasional heart palpitations', 'occasional red spots', 'occasionally frequently usual', 'occur abdomen legs', 'occur corner started', 'occur months ago', 'occurred eating breakfast', 'ocd adhd add', 'ocd anxiety bipolar', 'ocd bless lot', 'ocd depression issues', 'ocd ed disorder', 'ocd fear forget', 'ocd flared majorly', 'ocd sit room', 'ocd thoughts main', 'offer including rover', 'officials students sophomore', 'offsite means losing', 'offsite rovers practice', 'oh seen car', 'oily dense green', 'ok grey om', 'okay fine like', 'okay gf really', 'okay got weird', 'okay ive trying', 'okay reason ive', 'old chances young', 'old dell speakers', 'old feel like', 'old female caucasian', 'old male lbs', 'old male tall', 'old psu thought', 'old school pot', 'old times came', 'old walked away', 'old white male', 'old year months', 'older kidteen anymore', 'older sister bipolar', 'om healthy bit', 'ones said thought', 'ones start grade', 'ones tell love', 'ongoing police investigation', 'online dating meeting', 'online month family', 'online son ill', 'onsite far difficult', 'open mouth say', 'open sites best', 'open spaceshigh ceilingstall', 'open world game', 'opinionated okay gf', 'opinions dont invested', 'opinions getting shit', 'opposed preap world', 'opposite end world', 'opposite guy wanted', 'opposite point thought', 'optical drive good', 'option right especially', 'options actually action', 'ordeal stopped bleeding', 'order ive talked', 'order love dad', 'order prevent infection', 'ordered colonoscopy colonoscopy', 'organize fundraising campaign', 'orientation obsessionsswwwocdtypescomsoocdhocdphp religious', 'outlining current macroeconomic', 'output audio actually', 'outside feel like', 'outside heat come', 'outside inside mouth', 'outside like today', 'outside rover service', 'outside rover violates', 'outside started going', 'overall body super', 'overall feel like', 'overall massive improvement', 'overdone time guess', 'overdue tend lot', 'overstimulating stomach help', 'overthink little thing', 'overthink single thing', 'overthinker overthink little', 'overthinking mental clarity', 'pacing like maniac', 'paid minimum wage', 'paid netflix hulu', 'paid rent moved', 'pain chest pain', 'pain comes goes', 'pain fatiguelow energy', 'pain feel like', 'pain feels like', 'pain helpful hold', 'pain loss balance', 'pain lower hip', 'pain lower spinal', 'pain mess lot', 'pain mind tells', 'pain mouth solid', 'pain normal help', 'pain pelvic pain', 'pain present predispose', 'pain random hurts', 'pain scoliosis ptsd', 'pain stomach issues', 'painful hell filled', 'painful normally geographic', 'painful pattern included', 'painful reddish spot', 'pains able fullfill', 'pains huge hug', 'paint creative barely', 'pale redness lasts', 'palpitations feels like', 'palpitations increased sweating', 'palpitations like april', 'palpitations make heart', 'palpitations occurred eating', 'palps wont away', 'pandas seizures ocd', 'panic amber alerts', 'panic attack brought', 'panic attack coming', 'panic attack day', 'panic attack days', 'panic attack felt', 'panic attack im', 'panic attack kept', 'panic attack know', 'panic attack lasted', 'panic attack like', 'panic attack night', 'panic attack panic', 'panic attack scared', 'panic attack shower', 'panic attack symptoms', 'panic attack thinking', 'panic attack time', 'panic attack today', 'panic attack trying', 'panic attack went', 'panic attacks anxiety', 'panic attacks bad', 'panic attacks come', 'panic attacks day', 'panic attacks days', 'panic attacks depression', 'panic attacks dissociationdepersonalization', 'panic attacks ecg', 'panic attacks feel', 'panic attacks idk', 'panic attacks know', 'panic attacks like', 'panic attacks literally', 'panic attacks panic', 'panic attacks pull', 'panic attacks said', 'panic attacks shortness', 'panic attacks started', 'panic attacks think', 'panic attacks thoughts', 'panic attacks time', 'panic disorder knowing', 'panic disorder started', 'panic ecg start', 'panic free sure', 'panic longer lasts', 'panic mode low', 'panic past week', 'panicking anxious right', 'panicking byt im', 'panicking lasts calm', 'panicking thinking palps', 'panicking usually time', 'panicky expect freaking', 'panics anxiety started', 'panics idk fast', 'panoramic xray showing', 'pap coming abnormal', 'pap smear pap', 'pap smears life', 'pap smears years', 'papsmear day right', 'papsmear end month', 'paramedic program started', 'paranoid forgetting honestly', 'paranoid health im', 'paranoid kinda stresses', 'paranoid like slow', 'paranoid low iq', 'paranoid mightve special', 'paranoid personality disorder', 'paranoid special class', 'paranoid thoughts turning', 'pararescue held dream', 'parents eyes general', 'parents fear falling', 'parents feel like', 'parents huge fear', 'parents lot things', 'parents spliting mom', 'parking lot like', 'paronoid mad dad', 'parotid gland minor', 'particular causing diarrhea', 'particularly want tell', 'parties going goofing', 'parts male ft', 'party great time', 'party make types', 'party right point', 'pass die symptoms', 'pass really thought', 'pass sensations feel', 'passed away years', 'past couple days', 'past couple months', 'past couple weeks', 'past couple years', 'past days hell', 'past days ignore', 'past days im', 'past days ive', 'past days noticing', 'past dont know', 'past easily eat', 'past like months', 'past like years', 'past makes sad', 'past misbegotten face', 'past month half', 'past months able', 'past months centered', 'past months ive', 'past months today', 'past nostalgia enjoy', 'past plan future', 'past recognise know', 'past week eat', 'past week fever', 'past week gone', 'past week ive', 'past week wondering', 'past weeks ive', 'past went highschool', 'past year abnormal', 'past year breath', 'past year ive', 'past year lot', 'past years anxiety', 'past years im', 'past years ive', 'past years life', 'pat couple years', 'paths like times', 'pattern baldness symptoms', 'pattern included picture', 'pattern symptom started', 'pattern think reaction', 'pause job search', 'paused seconds know', 'pay attention gets', 'pay credit card', 'pay like shit', 'pay phone tech', 'pay pretty bad', 'pay rent paying', 'pay rn im', 'paying accepting payment', 'paying cable food', 'paying student loans', 'payment booking releasing', 'payment offsite rovers', 'payment outside rover', 'pays car insurence', 'pc audio lack', 'pc day day', 'pc started reading', 'pcos says irregular', 'pcos stress main', 'pcp said titer', 'pcp think autoimmune', 'peaks ive like', 'pee maybe standing', 'pencils notebooks backpacks', 'pens mechanical pencils', 'people act like', 'people actually know', 'people age conquering', 'people age maybe', 'people ask questions', 'people day friends', 'people dont know', 'people dont like', 'people dont make', 'people dont really', 'people dont understand', 'people dont want', 'people faking lying', 'people feel bad', 'people feel comfortable', 'people feel free', 'people feel like', 'people getting clean', 'people going say', 'people gonna fall', 'people hard time', 'people high school', 'people identity crises', 'people im worried', 'people ive met', 'people know like', 'people like im', 'people like people', 'people like really', 'people like shit', 'people like want', 'people live long', 'people look weird', 'people make friends', 'people makes feel', 'people meds like', 'people need help', 'people ocd fear', 'people real life', 'people really like', 'people say like', 'people say things', 'people say time', 'people saying need', 'people socialize college', 'people speak rest', 'people stomach issues', 'people talking sexual', 'people tell im', 'people telling im', 'people think im', 'people think thirties', 'people treat like', 'people upset seen', 'people want grow', 'people year total', 'perfect high clear', 'perfect normal age', 'perfectly good food', 'perform autopilot id', 'pericoronitis week wisdom', 'period bled lightmoderately', 'period day actually', 'period lightmoderate entire', 'period making week', 'period need sound', 'period severe depression', 'period way scared', 'periods bc really', 'periods lighter stop', 'periods post august', 'periods scared cancer', 'periods scared pap', 'person arguing avoid', 'person disfunctional long', 'person dont know', 'person dont want', 'person feel like', 'person got restraining', 'person knew writes', 'person obviously kinda', 'person recording lack', 'person saw pretty', 'person started hit', 'person want let', 'person world bad', 'personal flaws working', 'personality disorder therapy', 'personality long like', 'personality opposite guy', 'pertaining going appsite', 'petition really sure', 'petsitting completely unaffiliated', 'pfizer booster days', 'phase heart fast', 'phase struggling believe', 'phases heart feels', 'phases heart weak', 'phobia maybe holding', 'phobias aspergers autism', 'phonak hearing aids', 'phone guy cookout', 'phone im position', 'phone need position', 'phone seen longer', 'photo album eye', 'photo album simgurcomacrgdumf', 'photos past recognise', 'physical health long', 'physical mental health', 'physical sat weird', 'physical symptoms anxiety', 'physical symptoms panic', 'physical testing standing', 'physical time feel', 'physical withdrawal symptoms', 'physically stupid anymore', 'piano keyboards bikes', 'piano think good', 'picking berries heat', 'picking personal flaws', 'picking potential job', 'picking tend speak', 'picking tried clam', 'picture tests tested', 'pictures eyes eyebags', 'pictures linked album', 'pictures photo album', 'piece glass flying', 'piece shit deserves', 'pill taking feel', 'pills house saw', 'pinpoint food particular', 'piss left came', 'pissed idk want', 'pissed upset thing', 'pissed want talking', 'pity party right', 'place community looking', 'place feels like', 'place post let', 'place posts rule', 'place said okay', 'places heartbeat hands', 'places high energy', 'places severe panic', 'plan future present', 'plan going school', 'plan use moms', 'planet dont feel', 'plans try compare', 'platinum powersupply replaced', 'play favorite video', 'play feel like', 'play game like', 'play instrument kind', 'play maybe thats', 'play started getting', 'play video game', 'play video games', 'played sports players', 'player story games', 'players currently wide', 'players team dream', 'playing fighting games', 'playing games spending', 'playing games suddenly', 'playing guitar piano', 'playing video games', 'plugged pc audio', 'plus iron deficiency', 'plus platinum powersupply', 'pm struggling sleep', 'point dont know', 'point dont want', 'point eat doctor', 'point feel like', 'point im going', 'point life finally', 'point mini like', 'point really felt', 'point received letters', 'point right direction', 'point stand anymore', 'point struggling depression', 'point thought death', 'point tired feeling', 'point trying life', 'point want end', 'point wanted military', 'points ive gotten', 'poison mushrooms yard', 'poisoned backyard mushrooms', 'poisoning eggs sandwich', 'pole crashes window', 'police hospital freaks', 'police investigation smth', 'policies products sat', 'policy action based', 'policy required extensive', 'politics economics miscellaneous', 'polpys fibroids thickening', 'poly good impression', 'poly life style', 'poop came suggestions', 'poop hard kinda', 'poop like stools', 'poop realised thing', 'poop stool hard', 'poppy kinda warped', 'por otro lado', 'ports handle hdr', 'ports need ports', 'ports support hdr', 'posioning like blood', 'position loose rn', 'position pay rn', 'positive ana test', 'positive hold flurry', 'positive place community', 'positive thats anxiety', 'possible change doomed', 'possible conversion disorder', 'possible familiar strains', 'possible food intolerance', 'possible funding gofundme', 'possible gaming mice', 'possible providing space', 'possible thing interests', 'possible tremors hand', 'possible watery floating', 'possibly result using', 'post august spotted', 'post definition im', 'post feels like', 'post let know', 'post nasal drip', 'post workout heart', 'posting single social', 'posting social media', 'posts benefits banning', 'posts petsitting completely', 'posts rule issue', 'posts social media', 'pot daily drink', 'pot head thc', 'potato indiacs pls', 'potential bad able', 'potential job college', 'potential like highschool', 'pound message gonna', 'pounding fast sit', 'pounding kind diarrhea', 'powerful influence opposite', 'powersupply replaced year', 'practice accepting payment', 'praise test scores', 'preap world history', 'prediabetes array mental', 'predispose infection important', 'predominately right issue', 'prefer use obs', 'preferred screen size', 'prehistory ap world', 'prescribed beta blocker', 'prescribing really struggling', 'present boringness want', 'present current thing', 'present predispose infection', 'presentation federal reserve', 'press power button', 'pressed bed completely', 'pressing cheeks bit', 'pressing normally say', 'pressure appears abdomen', 'pressure caused blood', 'pressure drops overstimulating', 'pressure im panicking', 'pressure upper abdominal', 'pressured feelings control', 'prestigious important college', 'pretend pain normal', 'pretending highschool thought', 'pretends like im', 'pretty attractive girls', 'pretty bad anxiety', 'pretty bad feel', 'pretty badly like', 'pretty cool friends', 'pretty grade thought', 'pretty inconsolable remember', 'pretty quick ive', 'pretty scary time', 'pretty social person', 'pretty straight forward', 'pretty sure got', 'pretty sure im', 'pretty sure ocd', 'prevail obese weighing', 'prevalent symptoms diarrhea', 'prevent changes ap', 'prevent infection fell', 'prevent infection reoccurring', 'prevented coming like', 'prevented sleeping night', 'previously gauze gums', 'prick feeling feet', 'primary care doc', 'prime video time', 'prior cause spotting', 'prior left got', 'pro nvidia shield', 'probablly sounded weird', 'probably ate home', 'probably dumb question', 'probably electrolytes flushed', 'probably hairs day', 'probably virus inner', 'probably wont able', 'problem dont know', 'problem felt dizzy', 'problem happy cheering', 'problem recording desktop', 'problema es que', 'problems lack motivation', 'proceed possible funding', 'process validating wallet', 'processor cpu cooler', 'prodding trying figure', 'product possible gaming', 'products sat ap', 'professionally diagnosed cptsd', 'program lowest point', 'program started panic', 'programsgames desire run', 'project focusing small', 'projects whatnot wake', 'prolonged period need', 'promise sweetest person', 'promise wed korea', 'promotion pay rise', 'pronouns automatically correct', 'pronouns deal transphobia', 'pronouns idk nan', 'protection rover offer', 'provide community benefits', 'provide financial support', 'providing safe positive', 'providing space discuss', 'provision purchase services', 'prozac klonopin needed', 'prozac years tried', 'psu thought issue', 'psych ward times', 'psychically working read', 'ptsd sever depression', 'public feel like', 'pull poop hard', 'pull program lowest', 'pulse fast like', 'pulse pressure im', 'pulse time sleep', 'punching bag anymore', 'purchase holy city', 'purchase services user', 'purpose sit dont', 'push comes shove', 'push heart gets', 'push people away', 'putting phone away', 'quality life look', 'quality touchscreen fingerprint', 'quantum gateway router', 'questions appreciate provide', 'questions comments rants', 'questions dangerous big', 'questions feel free', 'questions pertaining going', 'questions think experience', 'quick heart kinda', 'quick ive life', 'quiet awkward point', 'quiet like stayed', 'quiet social anxiety', 'quieter almsot faster', 'quit cold turkey', 'quit looking good', 'quite dates ghosted', 'quite fast decided', 'quite suddenly college', 'quite swollen developed', 'race gender white', 'race makes panic', 'races day usually', 'races like beating', 'races minimal exertion', 'racing usually dont', 'raised hurt included', 'raised turn red', 'raises anxiety feel', 'ram rtx msi', 'random hurts physical', 'random red itchy', 'random small itchy', 'random word number', 'randomly know likely', 'randomly lose balance', 'randomly pretty scary', 'randomly start shaking', 'randomly symptoms felt', 'rank ap classes', 'ranking course rigor', 'rant guess questions', 'rant know lot', 'rants raves taking', 'rape reading know', 'rape victims pretend', 'rash increases decreases', 'rate blood pressure', 'rate bp like', 'rate chart cut', 'rate high im', 'rate like average', 'rate like im', 'rate like time', 'rate low average', 'rate low couple', 'rate maybe like', 'rate walking talking', 'rate went harder', 'rate went scared', 'rates aagian idk', 'rates like day', 'rates said fine', 'raves taking clients', 'react ill way', 'react nan french', 'react new bodily', 'react non binary', 'reaction thing eating', 'read far check', 'read far thank', 'read long finish', 'read relate authors', 'reader optical drive', 'reading books started', 'reading know chanel', 'reading said fine', 'ready discovered running', 'real feel like', 'real life ill', 'real life im', 'real like enjoyment', 'real love life', 'real relation years', 'realised thing pass', 'reality likely happen', 'realize dont wanted', 'realized dont need', 'realized lot common', 'realized reason explore', 'really anxious said', 'really appreciate advice', 'really appreciate feedback', 'really appreciate help', 'really appreciate insight', 'really appreciate thank', 'really appreciate thanks', 'really bad anxiety', 'really bad deep', 'really bad depression', 'really bad experience', 'really bad health', 'really bad hear', 'really bad hypochondria', 'really bad im', 'really bad like', 'really bad panic', 'really bad paranoid', 'really bad past', 'really bad really', 'really bad right', 'really bad social', 'really care anymore', 'really care bother', 'really changed nervous', 'really close friends', 'really computer games', 'really connect like', 'really content fine', 'really dark religious', 'really debilitating feel', 'really depressed grade', 'really depressed let', 'really doesnt make', 'really dont care', 'really dont know', 'really dont like', 'really dont think', 'really dont understand', 'really dont wanna', 'really dont want', 'really dumb question', 'really feel good', 'really feel like', 'really feel weak', 'really feels like', 'really felt insane', 'really felt like', 'really friends felt', 'really fucking sucks', 'really good friends', 'really good job', 'really good mood', 'really good poop', 'really good pronouns', 'really good time', 'really great romance', 'really guilty asked', 'really hard manually', 'really hard phase', 'really hard time', 'really help understand', 'really hope shes', 'really hoping help', 'really know feel', 'really know help', 'really know hoping', 'really know point', 'really know say', 'really know start', 'really know talk', 'really know want', 'really like job', 'really like know', 'really like moment', 'really like time', 'really like want', 'really long time', 'really looking forward', 'really make difference', 'really make feel', 'really make sense', 'really makes feel', 'really means lot', 'really need advice', 'really need help', 'really need job', 'really need know', 'really need talk', 'really need tips', 'really nice bass', 'really normal age', 'really notice difference', 'really obsessed getting', 'really opinions dont', 'really overdone time', 'really pains huge', 'really paranoid health', 'really paranoid mightve', 'really pissed upset', 'really poop like', 'really quick heart', 'really quiet social', 'really real like', 'really really appreciate', 'really really bad', 'really really like', 'really really need', 'really really want', 'really strange symptoms', 'really struggling going', 'really stupid question', 'really sure goes', 'really thought going', 'really thought gonna', 'really tight like', 'really tough time', 'really use advice', 'really use excuse', 'really use somebody', 'really want know', 'really want leave', 'really want make', 'really want play', 'really want risk', 'really want talk', 'really want want', 'really want work', 'really wanted meet', 'really weird like', 'reason dont want', 'reason explore save', 'reason feel like', 'reason guess fear', 'reason happens store', 'reason ive scared', 'reason special classes', 'reasonable maxed bench', 'receive pfizer booster', 'received letters words', 'recently closed area', 'recently diagnosed adhd', 'recently diagnosed autism', 'recently feel like', 'recently got blood', 'recently got new', 'recently heart pounding', 'recently ive feeling', 'recently joined gym', 'recently lost reverse', 'recently moved new', 'recently started new', 'recently started taking', 'recently started using', 'recognise know identify', 'recognised uk seen', 'recognition guess regional', 'recognition regional state', 'recommendations greatly appreciated', 'recommended wisdom tooth', 'record monitors audio', 'record whats coming', 'recording amds relive', 'recording desktop audio', 'recording lack bass', 'recordings sound good', 'recovered idk anxiety', 'recovery kindly let', 'recurring panics idk', 'red dead redemption', 'red eyes appear', 'red itch drink', 'red itchy spots', 'red laying pressing', 'red spots corneas', 'red spots corners', 'red spots eyes', 'red warm little', 'reddish spot tongue', 'reddit community open', 'redness lasts hours', 'redness skin gets', 'refer girl constantly', 'refused knew medication', 'regarding foreign exchange', 'regional ap scholar', 'regional math league', 'regional state national', 'regret spent past', 'relate authors write', 'related dpdr feel', 'relation paused seconds', 'relation years look', 'relationship feel like', 'relationship girl way', 'relationship lost cause', 'relationship said splitting', 'relationship took keys', 'relationship united states', 'relaxed absolutely appetite', 'relaxed pressured feelings', 'releasing funds days', 'reliable build quality', 'religious intrusive thoughts', 'religious obsessionsswwwocdtypescomreligiousocdphp superstitious', 'religiously researched huntingtons', 'relive thing obs', 'remember dreams single', 'remember end middle', 'remember feeling like', 'remember felt like', 'remember going circus', 'remember head needed', 'remember looked like', 'remember telling mom', 'remind case happened', 'remind daily routine', 'remind homework play', 'remind seen acknowledged', 'reminds dont really', 'reminds needs feel', 'remove wisdom teeth', 'removing wisdom tooth', 'rent moved april', 'rent paying cable', 'reoccurring panic attacks', 'reoccurring recommended wisdom', 'repeat like words', 'repeat months ordeal', 'replace thc cbd', 'replaced free amazon', 'replaced year old', 'replying messages im', 'required extensive research', 'requirements good keyboard', 'research economic conditions', 'research possible thing', 'researched huntingtons disease', 'researching buying wanna', 'reserve bank new', 'reset heart beat', 'rest life feel', 'rest night spoken', 'restaurant center jobs', 'rested usually couple', 'resting heart rate', 'resting like post', 'resting rate bp', 'restless leg syndrome', 'restraining order ive', 'restraining order love', 'result termination rover', 'result using finasteride', 'resulted themdoctors conclusive', 'results id prefer', 'reverse ailments stemming', 'revisions changes leading', 'rewards help better', 'rheumatologist positive ana', 'ridiculed pronouns deal', 'right admittedly clean', 'right asked pcos', 'right dont know', 'right dont think', 'right dont want', 'right ear evenings', 'right ear weird', 'right especially ulcers', 'right feel like', 'right feel weird', 'right feels like', 'right im going', 'right im trying', 'right inside mouth', 'right issue recently', 'right midcheek bigger', 'right place ask', 'right place post', 'right point struggling', 'right pretty sure', 'right root canal', 'right standing freak', 'right talking secret', 'right wish wanna', 'rigor class rank', 'risk making people', 'risk ridiculed pronouns', 'ritualsswwwocdtypescommentalritualsphp somatic compulsionsswwwocdtypescomsomaticocdcompulsionsphp', 'rn im right', 'road trips hikes', 'role pr team', 'role promotion pay', 'rollercoaster help ex', 'romance fiction live', 'room close hear', 'room extremely soft', 'room people stomach', 'root canal tooth', 'rose tinted glasses', 'routine activities brush', 'routine good apps', 'routines need opinions', 'rover account rover', 'rover appsite initial', 'rover belong rpetsittingswwwredditcomrpetsitting', 'rover guarantee furthermore', 'rover involve convincing', 'rover offer including', 'rover paying accepting', 'rover rule posts', 'rover safely wisely', 'rover service agree', 'rover service arrange', 'rover service create', 'rover service use', 'rover simply sake', 'rover terminate accounts', 'rover violates section', 'rovers practice accepting', 'rpetsittingswwwredditcomrpetsitting megathread place', 'rroverpetsittingswwwredditcomrroverpetsitting hope megathread', 'rtx msi mpg', 'ruined years times', 'rule crohn celiac', 'rule debated members', 'rule issue questions', 'rule posts petsitting', 'ruled thyroid issues', 'rules military allowing', 'run dont know', 'run games like', 'run outside heat', 'rush type feeling', 'rushes overall massive', 'ryzen gb mhz', 'sad feel like', 'sad situation right', 'sad sleep deprived', 'sad thought years', 'safe positive place', 'safely wisely think', 'safety notice vast', 'said agreed day', 'said agreed really', 'said believe asked', 'said best course', 'said biopsy utereus', 'said concern normal', 'said cousin supposed', 'said didnt need', 'said didnt wanna', 'said didnt want', 'said dont know', 'said feel like', 'said fine checked', 'said fine dr', 'said fine feel', 'said fine im', 'said fine mild', 'said good yeah', 'said gums exposed', 'said histamine intolerance', 'said im going', 'said knew gonna', 'said later night', 'said leaving drunk', 'said life looking', 'said looks like', 'said love deeply', 'said pericoronitis week', 'said probably virus', 'said shed leave', 'said shoildve relaxed', 'said splitting things', 'said temporary solution', 'said think break', 'said thought pretending', 'said titer low', 'said um cousin', 'said wait papsmear', 'said wanted make', 'said wed stick', 'said yes told', 'said yes tried', 'saints row game', 'sake allowing freedom', 'sales job pay', 'salivary gland dont', 'salt sugar bc', 'salt water weakness', 'sandwich probably ate', 'sat ap tests', 'sat didnt know', 'sat like mins', 'sat pc day', 'sat subjects wh', 'sat weird feels', 'satact section scores', 'satisfying bad mood', 'sativa sour diesel', 'sativa strains available', 'saturday seeing french', 'save options actually', 'saw lot therapist', 'saw message usually', 'saw pretty cool', 'saw video guy', 'saw walking looked', 'say anxiety panic', 'say dont know', 'say dont want', 'say feel like', 'say friends says', 'say good morning', 'say make things', 'say mild left', 'say mind went', 'say nukes dropped', 'say pretty sure', 'say shit like', 'say stuff like', 'say things like', 'say treat like', 'say typical pale', 'say urgent care', 'say want say', 'saying feels like', 'saying fine super', 'saying say make', 'saying stuff like', 'saying sunday morning', 'saying things like', 'says irregular periods', 'says relation paused', 'says thats normal', 'scamming onsite far', 'scams rover involve', 'scared cancer yesterday', 'scared dipped weird', 'scared dont know', 'scared feel like', 'scared heart beat', 'scared heart issues', 'scared im gonna', 'scared im scared', 'scared panic attack', 'scared pap coming', 'scared person world', 'scared think dying', 'scared trapeze people', 'scared uterineovarycervixal cancer', 'scared want feel', 'scared wont normal', 'scares honestly dont', 'scary especially dont', 'scary think severe', 'scary time experienced', 'scenario thinking symptoms', 'schedule fucking know', 'schedule like new', 'schedules tomorrow infection', 'schizophrenia add diabetess', 'schizophrenia bpd huntingtons', 'schizophrenia older sister', 'scholar honor international', 'school college didnt', 'school competitive feeder', 'school dated pretty', 'school dont want', 'school fed challenge', 'school feel like', 'school felt like', 'school good grades', 'school high school', 'school honduras like', 'school hours work', 'school lot dad', 'school nope demographics', 'school pain lower', 'school people age', 'school pot head', 'school recognition guess', 'school thought gonna', 'school title influences', 'school wants talk', 'school work im', 'school work people', 'schools led team', 'schools math team', 'scoliosis ptsd sever', 'scorer schools math', 'scores paranoid special', 'scores world history', 'screen size indifferent', 'seal lol away', 'seb derm rosacea', 'second feel like', 'second xbox live', 'second year community', 'seconds know say', 'secret feel anxious', 'secret said love', 'section tosswwwrovercomtermstos conduct', 'seeing french nan', 'seen acknowledged understood', 'seen boring ok', 'seen car guy', 'seen cis female', 'seen ent told', 'seen gi tested', 'seen grown guess', 'seen longer blocked', 'seen lot people', 'seen people say', 'seen read relate', 'seen reddit community', 'seen teenager kid', 'seen way parents', 'sees life positives', 'seizures ocd thoughts', 'selected international applicants', 'self discovery self', 'self harm feel', 'self harm suicidal', 'self help books', 'self help realized', 'selfhatred discontinued affirmations', 'selfish ask mum', 'selfish dont know', 'semester ocd flared', 'seminar extracurriculars brief', 'semitruck hit tree', 'sends piece glass', 'senior capstone project', 'senior high school', 'sensation heart skipping', 'sensations feel like', 'sense feel like', 'sense felt like', 'sense humor really', 'sensitive feel like', 'sensitive surroundings happens', 'sensitivity light sound', 'sent home times', 'sent text basically', 'september makes anxious', 'september march schools', 'seriously dont know', 'seriously feel like', 'server canvas ready', 'server dedicated providing', 'service agree use', 'service arrange provision', 'service create thread', 'service use rover', 'services outside rover', 'services user complete', 'settings amd thing', 'seven years ago', 'sever depression diagnosed', 'severe anxiety definitely', 'severe anxiety depression', 'severe anxiety health', 'severe appetite loss', 'severe bloating getting', 'severe depression anxiety', 'severe health anxiety', 'severe know stress', 'severe panic attacks', 'severe panic disorder', 'severe social anxiety', 'severe sudden intense', 'severe weight loss', 'severity eat sour', 'sex awhile birth', 'sex went sleep', 'sexual abuse rape', 'sexual assault rape', 'sexual orientation obsessionsswwwocdtypescomsoocdhocdphp', 'sexually active march', 'shake aniety bring', 'shake terrible feeling', 'shakily whispering breath', 'shaking affects lower', 'share bunch symptoms', 'sharp pain left', 'sharp stabbing heart', 'shed hair lot', 'shed leave leave', 'shed lose hope', 'shed papsmear day', 'shedding like dog', 'shedding loss symptoms', 'sheher pronouns idk', 'shes bts stan', 'shes really pains', 'shes replying messages', 'shes wed said', 'shield fit int', 'shit dont know', 'shit dont want', 'shit feel like', 'shit happens movies', 'shit hypochondria actually', 'shit thats kinda', 'shoes hoodies pens', 'shoildve relaxed pressured', 'shoot fuck chest', 'shooting grade obsessed', 'shopping stores think', 'shopping trip low', 'short attention span', 'short period time', 'short term memory', 'shorter lasting kid', 'shortness breath heart', 'shortness breath indigestion', 'shortness breath like', 'shortness breath sensitivity', 'shot lump right', 'shouldve didnt deserve', 'showed feel old', 'showed love support', 'showed mild inflammation', 'shower heart rates', 'showers exercise journaling', 'showing issues impacted', 'shows playing games', 'sibbcovhvknhfsibbcovhvknhf heart rate', 'sibo epi met', 'sick feeling like', 'sick felt weird', 'silence gives consent', 'simple things like', 'simply dont know', 'simply sake allowing', 'single day constant', 'single day im', 'single mario game', 'single night avoid', 'single player content', 'single player games', 'single player story', 'single social media', 'sister schizophrenia older', 'sit class embarrassing', 'sit dont anymore', 'sit normal tongue', 'sit room people', 'sit shit happens', 'site know bc', 'site literally site', 'site seen reddit', 'sites best sativa', 'sits goes stand', 'sits stomach hours', 'sitters accept payment', 'sitting car anxious', 'sitting foot ground', 'sitting hours eating', 'sitting rate like', 'sitting resting like', 'sitting room close', 'sitting stomach hours', 'situation feel like', 'situation happened week', 'situation right thing', 'size flattened grape', 'size indifferent na', 'skateboarded recently heart', 'skiing snowboarding playing', 'skin cancers autism', 'skin gets red', 'skin random small', 'skin redness skin', 'skin usually occur', 'skips beat randomly', 'slap headphones head', 'sleep anxiety feelhear', 'sleep anxiety hyper', 'sleep anxiety im', 'sleep anxiety ive', 'sleep apnea use', 'sleep deprived obviously', 'sleep fear die', 'sleep feel like', 'sleep fucked shit', 'sleep hours accident', 'sleep hours day', 'sleep hours night', 'sleep hours wake', 'sleep issue super', 'sleep kinda sleep', 'sleep night hours', 'sleep night hrs', 'sleep phase disorder', 'sleep rate low', 'sleep really want', 'sleep schedule fucking', 'sleep schedule like', 'sleep went phone', 'sleep yesterday night', 'sleeping heart rate', 'sleeping like hours', 'sleeping night solid', 'sleeping raises anxiety', 'sleeping wanna hear', 'slept like hours', 'slight risk making', 'slightest allow feel', 'slightest heat fever', 'slightly faster movement', 'slightly known ones', 'slightly painful reddish', 'slightly raised turn', 'slightly red eyes', 'sloshy stomach feeling', 'slow constant anxiety', 'slow decided pee', 'slow ended dropping', 'slow got listened', 'slow hard phases', 'slow heart palpitations', 'slow past days', 'slow sticky beat', 'slow youre like', 'slowly came reasonable', 'slows idk anxiety', 'slows like slow', 'sluggish im filled', 'small bump inside', 'small intestine got', 'small itchy spots', 'small little streak', 'small pet care', 'small things like', 'smaller streak brown', 'smear pap smears', 'smears life normal', 'smears years went', 'smell things kinda', 'smoke pot daily', 'smoothness chord changes', 'smth felt way', 'snack bought days', 'snap kinda lose', 'snapchat discord kik', 'snowboarding playing guitar', 'sober seven years', 'social anxiety im', 'social anxiety know', 'social anxiety really', 'social media free', 'social media help', 'social media im', 'social media platforms', 'social skills im', 'social support close', 'socialize college took', 'socially awkward person', 'society feel like', 'society small pet', 'soft panic attacks', 'solid food past', 'solid like hours', 'solution cut gums', 'solution make paronoid', 'solved everybody problem', 'somatic compulsionsswwwocdtypescomsomaticocdcompulsionsphp compulsionsswwwocdtypescomunusualcompulsionsphp', 'somebody chat abused', 'someday play started', 'someday shes bts', 'someday stop blaming', 'son ill nintendo', 'songs stuck head', 'sons ipad pro', 'soon dont thryoid', 'sophomore year freshman', 'sore throat like', 'sorry bad english', 'sorry bad grammar', 'sorry dont know', 'sorry dont understand', 'sorry dumb question', 'sorry english bad', 'sorry english im', 'sorry huge rant', 'sorry long lost', 'sorry long post', 'sorry long text', 'sorry makes sense', 'sorry rant im', 'sorry rant know', 'sorry really long', 'sorry sound like', 'sorry sounds like', 'sorry stupid question', 'sorry wasting time', 'sorry wrong place', 'sorta like passing', 'sorts weird symptoms', 'sound advice appointment', 'sound erratic dangerous', 'sound good person', 'sound good problem', 'sound im constantly', 'sound like idiot', 'sound like im', 'sound like love', 'sounded weird worst', 'sounding monitor alienware', 'sounding record monitors', 'sounds acts like', 'sounds dumb car', 'sounds good theres', 'sounds lazy im', 'sounds like im', 'sounds like lot', 'sounds like really', 'sounds like stupid', 'sounds really nice', 'sour candy gets', 'source swwwocdtypescomindexphpswwwocdtypescomindexphp literally', 'space discuss rover', 'spaceshigh ceilingstall buildingsetc', 'span apps help', 'speak baby voice', 'speak rest night', 'speak tuesday sent', 'speakers hella old', 'speakers plugged pc', 'speakers sound good', 'speakers things leftright', 'special class reason', 'special classes good', 'special know nice', 'special needs ones', 'specific requirements good', 'specs ryzen gb', 'spend free time', 'spend lot time', 'spend rest life', 'spend time family', 'spending time family', 'spending time pc', 'spent days day', 'spent entire day', 'spent hours wish', 'spent hours working', 'spent lot time', 'spent months digging', 'spent past went', 'spent past years', 'spent weeks researching', 'spent years room', 'spinal pain random', 'spiraling need talk', 'split days ago', 'spliting mom happy', 'splitting things got', 'spoken confused kept', 'spoken going dates', 'sports players team', 'spot tongue pattern', 'spots corners eyes', 'spots eyes extreme', 'spots skin random', 'spots skin usually', 'spots slightly raised', 'spotted brown days', 'spotting days period', 'spotting longer periods', 'spotting prolonged period', 'spreads wings left', 'squishysemifirm moveable bit', 'ssri medicine forgot', 'ssris cold turkey', 'stabbing heart freaked', 'stairs completely exhausted', 'stairs dieting past', 'stan pains able', 'stand anymore loneliness', 'stand like think', 'stand panicky expect', 'stand think normla', 'standing freak beating', 'standing heart rate', 'standing like normal', 'standing mind kinda', 'standing standing like', 'standing start feeling', 'star wars anime', 'start change actually', 'start feel like', 'start feeling like', 'start going bed', 'start grade paranoid', 'start june panics', 'start making excuses', 'start new job', 'start painful hell', 'start panic past', 'start shaking affects', 'start taking finasteride', 'start things lists', 'start yeah im', 'start youtube channel', 'started circulation issues', 'started concern coworker', 'started daily mental', 'started days ago', 'started depressed think', 'started diarrhea occasionally', 'started feel dizzy', 'started feel like', 'started feeling like', 'started feeling really', 'started feeling sick', 'started getting heart', 'started getting really', 'started getting super', 'started getting weird', 'started getting worse', 'started gettiung worrie', 'started going gym', 'started going walks', 'started heart palpitations', 'started hit fan', 'started look turned', 'started looking applying', 'started looking new', 'started mo ago', 'started months ago', 'started new job', 'started new ssri', 'started notice stomach', 'started occur months', 'started panic attacks', 'started past year', 'started randomly symptoms', 'started reading books', 'started really bad', 'started seeing therapist', 'started shedding like', 'started started taking', 'started taking antidepressants', 'started taking finasteride', 'started taking mg', 'started taking prozac', 'started talking took', 'started terrible stomach', 'started triggered wisdom', 'started trying distract', 'started turn bad', 'started worrying heart', 'started writing thoughts', 'started year ago', 'started years ago', 'starting feel like', 'starting new job', 'starting occur corner', 'starts wanna try', 'state national international', 'states economies countries', 'stats gpa uww', 'stay current role', 'stay fast forward', 'stay home mom', 'stay ive looking', 'stayed awake needed', 'stayed mins going', 'stayed normal panic', 'staying friends house', 'staying ny moms', 'steady goes like', 'steering wheel sitting', 'stemming obesity issue', 'stereo mix know', 'stereo mix thing', 'stick failed wasnt', 'sticky beat like', 'stimulant anxiety issues', 'stomach apetite sure', 'stomach bug stomach', 'stomach contents sloshing', 'stomach feel like', 'stomach feel super', 'stomach feels fulluncomfortable', 'stomach felt weird', 'stomach help makes', 'stomach hours end', 'stomach issues mind', 'stomach issues really', 'stomach issues spent', 'stomach moving days', 'stomach moving poop', 'stomach pain stomach', 'stomach started turn', 'stoned eyelids droopy', 'stool hard able', 'stool past year', 'stool test showed', 'stools hard time', 'stop blaming couldve', 'stop blaming shouldve', 'stop completely extend', 'stop explode itd', 'stop feel like', 'stop feeling like', 'stop flowing area', 'stop gets really', 'stop panicking anxious', 'stop thinking feels', 'stopped bleeding august', 'stopped going gym', 'stopped playing games', 'stopped taking antidepressants', 'stopped taking days', 'stopping ssris cold', 'storage seagate barracuda', 'store going snap', 'stores feel bustling', 'stores think highs', 'stories people getting', 'story arguing alot', 'story food poisoning', 'story short im', 'straight lead technician', 'strain mood lifting', 'strain site literally', 'strains available trying', 'strains strains thc', 'strains thc anyways', 'streak brown cramping', 'streak brown today', 'streamlabs audacity results', 'streamlabs kinda blurry', 'stress andor stopping', 'stress anxiety depression', 'stress bad health', 'stress blank blank', 'stress child mom', 'stress getting fired', 'stress guess brain', 'stress hard feelings', 'stress main culprit', 'stress piss left', 'stress summer stressed', 'stress years big', 'stressed dont factor', 'stresses thing sucks', 'stressful events lead', 'stretching feeling thyroid', 'strictly pop punk', 'stroke heart attack', 'strong emotional response', 'struggle depression anxiety', 'struggle girls dude', 'struggle hold conversations', 'struggle pain helpful', 'struggles feel like', 'struggling believe normal', 'struggling depression thing', 'struggling going gi', 'struggling lot concretely', 'struggling lot recently', 'struggling mental health', 'struggling pretty bad', 'struggling sleep anxiety', 'struggling years missed', 'student loan debt', 'student loan payments', 'student movement ap', 'student studying graphic', 'students sophomore year', 'students teachers praise', 'studying graphic design', 'stuff dont want', 'stuff feel like', 'stuff going sees', 'stuff house came', 'stuff independently makes', 'stuff like kidsteens', 'stuff like making', 'stuff makes feel', 'stuff wrong oh', 'stupid allow feel', 'stupid anymore anxiety', 'stupid lose ive', 'style wanted explore', 'sub long time', 'sub woofer speakers', 'subjective arguments person', 'subjects wh likely', 'submit chem apib', 'subsided gums quite', 'substance abuse issues', 'suck especially comes', 'sucks feel like', 'sucks normal sleep', 'suckssss thing look', 'sudden intense pain', 'sudden started feel', 'suddenly college im', 'suddenly heh heart', 'suddenly like happened', 'suddenly negative person', 'suffer depression anxiety', 'suffering depressive episodes', 'sugar bc probably', 'suggestions appreciated thanks', 'suggestions greatly appreciated', 'suggestions need asap', 'suggestions process validating', 'suggests look sibo', 'suicided days went', 'suiiiicedde thoughts feel', 'summary sleep rate', 'summer despite feeling', 'summer stressed dont', 'sunday morning called', 'sunday poop came', 'super adhd share', 'super avoidant cleaned', 'super aware heart', 'super concerned brought', 'super concerning ends', 'super hard beating', 'super hours hours', 'super hungry past', 'super mario bros', 'super mario odyssey', 'super paranoid thoughts', 'super prestigious important', 'super quiet like', 'super smash bros', 'super sweaty slightest', 'super unhealthy fix', 'super weird thing', 'super young id', 'supernova plus platinum', 'superstitious obsessionsswwwocdtypescomsuperstitiousocdphp uncommon', 'support close friends', 'support deaf school', 'support hdr wewdigi', 'support let know', 'supporters caused revisions', 'suppose wind arguing', 'supposed say mind', 'sure best product', 'sure doesnt break', 'sure dont sound', 'sure exact rich', 'sure feel like', 'sure girl ghosted', 'sure goes led', 'sure going tldr', 'sure good source', 'sure ill able', 'sure like adrenaline', 'sure makes sense', 'sure measured months', 'sure memory loss', 'sure right place', 'sure right subreddit', 'sure things currently', 'sure thought later', 'sure trans guy', 'sure unweighted atm', 'sure whats problem', 'surprise birthday party', 'surrounded happens im', 'surroundings happens reason', 'survived highschool got', 'svt panicking thinking', 'svt type thing', 'svt wearing heart', 'swallow food living', 'sweat way used', 'sweating heart palpitations', 'sweating night sweats', 'sweating sweat way', 'sweats times face', 'sweaty slightest heat', 'sweetest person knew', 'switch hdmi ports', 'switch online month', 'switch online son', 'switch ports need', 'switch school lot', 'switch sleep schedule', 'switched career paths', 'swollen developed number', 'swollen need testing', 'swwwocdtypescomindexphpswwwocdtypescomindexphp literally describes', 'symptom moving help', 'symptom started occur', 'symptom started past', 'symptoms abdominal pain', 'symptoms changes immediately', 'symptoms diarrhea daily', 'symptoms diarrhea occasional', 'symptoms excessive sweating', 'symptoms fear body', 'symptoms feel like', 'symptoms felt weird', 'symptoms going nuts', 'symptoms majority started', 'symptoms months food', 'symptoms panic attacks', 'symptoms possibly result', 'symptoms started circulation', 'symptoms started happening', 'symptoms started mo', 'symptoms started shedding', 'symptoms started started', 'symptoms think idk', 'symptoms trouble swallowing', 'symptoms went away', 'symptoms year male', 'syndrome feel like', 'taken melatonin far', 'taken pills house', 'takes long time', 'taking accutane high', 'taking amoxicillin clavulanate', 'taking bit order', 'taking clients rover', 'taking cold showers', 'taking feel like', 'taking finasteride march', 'taking finasteride mens', 'taking finasteride photo', 'taking like started', 'taking time read', 'talk best friend', 'talk dont know', 'talk feel like', 'talk hours shes', 'talk idk sorry', 'talk late nights', 'talk old walked', 'talk ongoing police', 'talk people talk', 'talk secret said', 'talk therapist like', 'talk wanted friends', 'talked dad pissed', 'talked daily mind', 'talked men said', 'talked site seen', 'talking dont know', 'talking fear making', 'talking feel like', 'talking people especially', 'talking people speak', 'talking rate like', 'talking secret feel', 'talking tell friends', 'talking thinks use', 'talking took friend', 'tall lbs used', 'tbh feel like', 'teachers doubt thought', 'teachers nationwide prevent', 'teachers praise test', 'team competed regional', 'team competes american', 'team consistent finishes', 'team create presentation', 'team dream navy', 'team feel like', 'team like school', 'tease butt end', 'teen sorry rant', 'teen years havent', 'teenagekid mindset thats', 'teenager kid world', 'teens age theyre', 'teeth coming caused', 'teeth coming dentist', 'teeth coming said', 'teeth couple months', 'teeth dont bother', 'teeth make breakfast', 'telephone pole crashes', 'tell close friends', 'tell dont want', 'tell feel like', 'tell friends confronted', 'tell gets better', 'tell gonna alright', 'tell im gonna', 'tell love loved', 'tell mom grade', 'tell mom told', 'tell mum said', 'telling believing fine', 'telling knew said', 'telling mom scared', 'tells wrong wanna', 'temporary solution cut', 'tend avoid stuff', 'tend lot congestion', 'tend speak baby', 'tender outside inside', 'tender pain mess', 'tends aggravated hurt', 'tense body panic', 'term life goal', 'terminate accounts reason', 'termination rover account', 'terrible feeling life', 'terrible stomach pain', 'terrifying want seen', 'test blood sugar', 'test came positive', 'test pcp said', 'test scores paranoid', 'test showed calprotectin', 'test waiting results', 'tested celiacs chrohns', 'tested hormones thyroid', 'tested negative crohn', 'tested positive covid', 'testing standing heart', 'testing xanax helps', 'tests resulted themdoctors', 'tests say anxiety', 'tests selected international', 'tests tested negative', 'text app decided', 'text basically saying', 'thank advance help', 'thank coming ted', 'thank taking time', 'thanks advance edit', 'thanks advance help', 'thanks advance suggestions', 'thanks bunch advance', 'thanks taking time', 'thats anxiety yeah', 'thats code expires', 'thats feel dont', 'thats going week', 'thats good thing', 'thats kinda got', 'thats maybe confidence', 'thats normal push', 'thats scary think', 'thats terrifying want', 'thats thing think', 'thc anyways looking', 'thc cbd need', 'thc years looking', 'themdoctors conclusive currently', 'therapist hs ended', 'therapist like advice', 'therapist looking possible', 'therapists meditation taking', 'therapy barely talk', 'therapy different therapists', 'therapy lately feeling', 'therapy mental health', 'therapy years things', 'theres bass speakers', 'theres concerning normal', 'theres good chance', 'theres im huge', 'theres true bothers', 'theres way semitruck', 'theres worse ecg', 'theyre good theres', 'thickening utereus told', 'thicker symptoms started', 'thing bad mic', 'thing came benign', 'thing dont know', 'thing dont like', 'thing dont want', 'thing eating tongue', 'thing fear growing', 'thing feel like', 'thing feels like', 'thing felt like', 'thing happen filtering', 'thing im worried', 'thing interests sit', 'thing ive cardiophobia', 'thing ive spent', 'thing kinda concerns', 'thing lists gonna', 'thing locker approach', 'thing long gone', 'thing look mirror', 'thing massive panic', 'thing mic input', 'thing obs streamlabs', 'thing pass sensations', 'thing sucks normal', 'thing thats going', 'thing thing work', 'thing think fun', 'thing think younger', 'thing tried using', 'thing video games', 'thing want talking', 'thing work maxing', 'thing write id', 'things bad contamination', 'things came like', 'things currently im', 'things daily journaling', 'things distracting symptom', 'things dont care', 'things dont want', 'things eventually wanna', 'things feel like', 'things feels like', 'things getting worse', 'things got heated', 'things got little', 'things happening dont', 'things happy idk', 'things honestly perform', 'things im kinda', 'things im noticing', 'things im unemployed', 'things ive wanted', 'things kinda muted', 'things leftright sub', 'things like constantly', 'things like know', 'things like really', 'things lists growing', 'things look teens', 'things make feel', 'things makes feel', 'things obsessive lead', 'things past years', 'things right wish', 'things started look', 'things subjective arguments', 'things taking like', 'things therapist looking', 'things unless absolute', 'things used enjoy', 'things wanna start', 'things wanted watch', 'things way easily', 'things work talk', 'things worse legally', 'think age faster', 'think autoimmune condition', 'think beat fasted', 'think break said', 'think controversial slightest', 'think daily things', 'think deal remember', 'think dont know', 'think dying checked', 'think experience young', 'think fear future', 'think feel like', 'think food allergy', 'think fun fix', 'think good summer', 'think heart attack', 'think highs getting', 'think id like', 'think idk know', 'think ill able', 'think ill live', 'think im dying', 'think im going', 'think im late', 'think im weird', 'think ive felt', 'think killing resting', 'think like jailbreaking', 'think maybe food', 'think maybe im', 'think need start', 'think normal idk', 'think normla panic', 'think people faking', 'think people like', 'think physical time', 'think possible food', 'think reaction thing', 'think really obsessed', 'think right decision', 'think severe anxiety', 'think shed papsmear', 'think shit especially', 'think social anxiety', 'think theres wrong', 'think things subjective', 'think thirties definitely', 'think weird missing', 'think words like', 'think worst calmed', 'think year old', 'think younger anxiety', 'thinking anxiety causes', 'thinking cancer noticed', 'thinking feel like', 'thinking feels like', 'thinking going school', 'thinking im gonna', 'thinking like welp', 'thinking literally barely', 'thinking makes race', 'thinking palps wont', 'thinking symptoms fear', 'thinking worst case', 'thinks use evidence', 'thirties definitely help', 'thirties wrinkles im', 'tho grade started', 'tho know im', 'tho night started', 'thought basically religiously', 'thought body react', 'thought came head', 'thought death heart', 'thought duty make', 'thought ended weighing', 'thought feel like', 'thought fucking losing', 'thought going die', 'thought going insane', 'thought going school', 'thought gonna die', 'thought gonna explode', 'thought gonna pass', 'thought good idea', 'thought heart attack', 'thought id add', 'thought id ask', 'thought id post', 'thought id share', 'thought independent stuff', 'thought issue evga', 'thought later plan', 'thought man breath', 'thought maybe finasteride', 'thought mentally wrong', 'thought mind bit', 'thought pretending highschool', 'thought related dpdr', 'thought shoot fuck', 'thought shopping trip', 'thought suicided days', 'thought wished bad', 'thought years ago', 'thoughts bother random', 'thoughts come true', 'thoughts feel like', 'thoughts feel necessary', 'thoughts feel worthless', 'thoughts feelings randomly', 'thoughts hard believe', 'thoughts laying awake', 'thoughts like eat', 'thoughts main symptoms', 'thoughts miraculously day', 'thoughts self harm', 'thoughts shake aniety', 'thoughts tell mom', 'thoughts thinking like', 'thoughts try force', 'thoughts turning voices', 'thoughts way blame', 'thoughts way try', 'thoughts werent fucked', 'thread endorse going', 'thread questions comments', 'throat infection subsided', 'throat infection taking', 'throwing took er', 'thrown perfectly good', 'thryoid issues pcos', 'thyroid complete blood', 'thyroid disease pcp', 'thyroid hormone normal', 'thyroid issues blood', 'tight things happy', 'till september makes', 'time anways went', 'time appeared bad', 'time arguments controlno', 'time birth control', 'time calm resting', 'time comes mind', 'time connecting people', 'time coz insomnia', 'time dont know', 'time dont really', 'time dont think', 'time dont want', 'time ended highcshool', 'time experienced taking', 'time falling asleep', 'time feel bad', 'time feel guilty', 'time feel heart', 'time feel like', 'time feeling stomach', 'time feels like', 'time felt like', 'time fine past', 'time frame hes', 'time frames diseases', 'time general everyday', 'time going try', 'time guess good', 'time heart rate', 'time hs started', 'time im afraid', 'time im busy', 'time im going', 'time im hyper', 'time im pretty', 'time im scared', 'time im standing', 'time im sure', 'time im trying', 'time im worried', 'time ive heard', 'time ive really', 'time know going', 'time let guy', 'time life started', 'time long time', 'time look mirror', 'time makes feel', 'time moderators rroverpetsittingswwwredditcomrroverpetsitting', 'time panic attack', 'time pc started', 'time really want', 'time scared trapeze', 'time sensation heart', 'time sleep anxiety', 'time spent hours', 'time started notice', 'time started writing', 'time sunday poop', 'time talking people', 'time thought going', 'time tried issues', 'time want time', 'times basically variety', 'times blood stool', 'times came home', 'times face neck', 'times feel completely', 'times feel like', 'times feels like', 'times felt like', 'times kept checking', 'times normal sorry', 'times past months', 'times people say', 'times pretty inconsolable', 'times tonight like', 'times tragedy happens', 'tingly feeling holding', 'tips greatly appreciated', 'tired body sluggish', 'tired dont want', 'tired extreme fear', 'tired feel like', 'tired feeling body', 'tired feeling like', 'tired killing fast', 'tired people saying', 'tired physically stupid', 'tired worrying dont', 'tiredness occasional red', 'tiredness sleep hours', 'tiring write stop', 'titer low gastroenterologist', 'title influences stats', 'title says im', 'title self explanatory', 'tldr life obsessing', 'tmj predominately right', 'today day anxiety', 'today decided track', 'today feel like', 'today feeling like', 'today felt like', 'today issues making', 'today like sudden', 'today panic attack', 'today picking berries', 'today smaller streak', 'today woke feeling', 'today years old', 'togetherbuild consistent routine', 'toilet came times', 'told boyfriend girlfriend', 'told didnt want', 'told drink salt', 'told felt way', 'told good time', 'told hormonal tested', 'told idc people', 'told make feel', 'told medication refused', 'told multiple times', 'told think deal', 'told upper esophagus', 'toll going financial', 'toll mental health', 'tomorrow infection ulcers', 'tongue feels light', 'tongue helps chewing', 'tongue lips inside', 'tongue painful pattern', 'tongue pattern symptom', 'tongue pattern think', 'tonight like really', 'took accutane high', 'took break year', 'took cold shower', 'took couple dates', 'took fin months', 'took friend helped', 'took house keys', 'took keys took', 'took leaving relationship', 'took long time', 'took toll going', 'tooth consultation job', 'tooth extraction schedules', 'tooth truly best', 'topics politics economics', 'torment silence gives', 'tosswwwrovercomtermstos conduct rover', 'total march july', 'touch mom dad', 'touch plan use', 'touched like really', 'touchscreen fingerprint reader', 'tough dude fun', 'tough high achieving', 'touxhed stuff gone', 'toxic hell want', 'track watch got', 'trade places heartbeat', 'tragedy happens close', 'trampoline wanted airsoft', 'trans hit puberty', 'trans people identity', 'transactions services outside', 'transcranial magnetic stimulation', 'transphobia selfish ask', 'trapeze people gonna', 'treat like im', 'treat like shit', 'treatment resistant depression', 'treats differently youre', 'tree knocks telephone', 'trembling im writing', 'tremors hand randomly', 'tried clam got', 'tried different things', 'tried end month', 'tried issues came', 'tried kill said', 'tried online dating', 'tried recording amds', 'tried telling believing', 'tried using stereo', 'triggered wisdom tooth', 'trip low dip', 'trips hikes nights', 'true bothers know', 'true friend feel', 'true help stress', 'true kinda dont', 'truly best option', 'truly feel like', 'truly think worst', 'truth lie got', 'try compare past', 'try explain things', 'try force way', 'try keeps coming', 'try make feel', 'try make friends', 'try make short', 'try really hard', 'try remember head', 'try start going', 'try talk people', 'trying distract wasnt', 'trying fall asleep', 'trying figure life', 'trying figure wrong', 'trying fully switch', 'trying hard going', 'trying heal rape', 'trying help feel', 'trying life years', 'trying lose weight', 'trying make feel', 'trying make friends', 'trying make money', 'trying make sense', 'trying make sure', 'trying new things', 'trying really hard', 'trying replace thc', 'trying talk hours', 'trying work anxiety', 'tuesday sent text', 'tumors ball cancer', 'turkey months prior', 'turkey prozac years', 'turn bad nausea', 'turn extremely red', 'turn red itch', 'turned april shake', 'turned days ago', 'turned feel like', 'turned freshman year', 'turned joined paramedic', 'turned lot regret', 'turning voices losing', 'tv movie short', 'tv need good', 'tv shows movies', 'twice clothes left', 'twice day days', 'type feeling chest', 'type thing thing', 'type thoughts come', 'types players currently', 'typical pale redness', 'uh sleep anxiety', 'uk seen cis', 'ulcers caused immense', 'ulcers pain present', 'ulcers tongue lips', 'ultrasounds cysts polpys', 'um cousin went', 'unable control beats', 'unaffiliated rover belong', 'uncomfortable feel like', 'uncomfortable felt like', 'uncommon obsessionsswwwocdtypescomunusualocdphp washing', 'underneath bags eyes', 'understand fake thoughts', 'understand feel like', 'understand like good', 'understand started daily', 'understand things happening', 'understand whats going', 'understood powerful influence', 'unhealthy coping mechanism', 'unhealthy fix anxiety', 'unintentional weight loss', 'united states economies', 'unless absolute facts', 'unlocked parking lot', 'unweighted atm ranking', 'upper esophagus looks', 'upset seen boring', 'upset stomach apetite', 'upset thing want', 'upwards discuss debate', 'urgent care listened', 'urgent care reoccurring', 'urgent care started', 'urgent care visit', 'urgent times basically', 'urm yn income', 'use cpap machine', 'use evidence make', 'use excuse started', 'use good looking', 'use moms new', 'use obs streamlabs', 'use old pronouns', 'use rover service', 'use sheher pronouns', 'use social media', 'use somebody chat', 'used december thats', 'used feel way', 'used night sweats', 'used shed hair', 'used stuff know', 'used want nintendo', 'used years old', 'useless busy college', 'user complete transactions', 'using dentist month', 'using exact settings', 'using finasteride finasteride', 'using stereo mix', 'usps priority mail', 'usual symptoms diarrhea', 'usually arguments bad', 'usually couple hours', 'usually dont feel', 'usually dont measure', 'usually flushing ears', 'usually happens im', 'usually hear makes', 'usually lasts like', 'usually late evening', 'usually mornings tiredness', 'usually occur abdomen', 'usually right ear', 'usually talk late', 'usually time calm', 'usually time frames', 'utereus case doesnt', 'utereus told hormonal', 'uterineovarycervixal cancer barely', 'uww weighted sure', 'vaguely feel small', 'validating wallet address', 'variety diarrhea possible', 'variety nationalities ages', 'various topics politics', 'vast majority scams', 'ventricle hypotrophy asked', 'ventricle hypotrophy said', 'ventricular hypotrophy normla', 'verizon fios gigabit', 'vibes like dont', 'victims pretend pain', 'video game hangout', 'video games im', 'video time spent', 'videos games group', 'views dont want', 'views gives anxiey', 'violate rule debated', 'violates section tosswwwrovercomtermstos', 'violence took toll', 'virus inner ear', 'visit felt great', 'vita hacking scene', 'vitals said good', 'voice dad maybe', 'voice sounds like', 'voices losing mind', 'vomit feeling like', 'vulnerable lonely want', 'wait papsmear end', 'wait till im', 'wait till september', 'waiting shoe drop', 'wake feel like', 'wake feeling like', 'wake knowing need', 'wake like dizzytiredness', 'wake middle night', 'wake super hungry', 'wake times night', 'walk like mins', 'walked away felt', 'walking feel like', 'walking rate like', 'walking talking rate', 'walks id come', 'walks outside started', 'wallet address intended', 'wanna born said', 'wanna die god', 'wanna feel like', 'wanna hear thoughts', 'wanna know think', 'wanna like learn', 'wanna make sure', 'wanna punching bag', 'wanna start change', 'wanna tell gonna', 'wanna try start', 'want able talk', 'want adult birthday', 'want anymore want', 'want break start', 'want die automaticlly', 'want die dont', 'want die feel', 'want die im', 'want die life', 'want die want', 'want dont know', 'want dont mind', 'want dont really', 'want dont want', 'want dulcolax stimulant', 'want enjoy life', 'want feel better', 'want feel like', 'want feel normal', 'want feel way', 'want feels like', 'want friends anymore', 'want fucking die', 'want grow scary', 'want happy want', 'want hear people', 'want help im', 'want help want', 'want hurt people', 'want im scared', 'want know feel', 'want know im', 'want know normal', 'want know people', 'want know want', 'want leave agreed', 'want leave job', 'want leave know', 'want leave life', 'want let ground', 'want life im', 'want life ive', 'want life know', 'want life want', 'want live anymore', 'want live life', 'want live like', 'want look like', 'want lose weight', 'want make feel', 'want make friends', 'want make good', 'want make live', 'want make money', 'want make sure', 'want meet nerdy', 'want nintendo switch', 'want overstep boundaries', 'want panic attack', 'want peace life', 'want people think', 'want play game', 'want play games', 'want quit job', 'want relaxed absolutely', 'want relief burden', 'want rest life', 'want risk ridiculed', 'want run away', 'want seen grown', 'want seen teenager', 'want self harm', 'want sleep wake', 'want slight risk', 'want solution make', 'want sound like', 'want spend time', 'want start saying', 'want stay bed', 'want stop talking', 'want stop want', 'want talk people', 'want talking fear', 'want talking thinks', 'want tell mum', 'want tell parents', 'want thing think', 'want think im', 'want told boyfriend', 'want touch mom', 'want touch plan', 'want try make', 'want try new', 'want wanna tell', 'want want feel', 'want want right', 'want waste money', 'want waste time', 'want write dont', 'wanted airsoft shooting', 'wanted badly wanted', 'wanted explore dated', 'wanted fine going', 'wanted hear thoughts', 'wanted live life', 'wanted make sure', 'wanted make things', 'wanted meet irl', 'wanted military join', 'wanted say hi', 'wanted start youtube', 'wanted want dont', 'wanted watch sat', 'wanted young friends', 'wants slow constant', 'warm little bit', 'warped sounding record', 'washing cleaningswwwocdtypescomwashingocdphp mental', 'wasnt needed stop', 'wasnt really content', 'wasnt working knew', 'wasted teen years', 'wasted years life', 'wasting peoples time', 'wasting time money', 'watch got scared', 'watch sat didnt', 'watch tv movie', 'watch tv shows', 'watch youtube video', 'watching shows playing', 'watching tv shows', 'watching youtube videos', 'water pictures photo', 'water weakness legs', 'watery contents stomach', 'watery floating oily', 'wave fearadrenaline caused', 'wave panic ecg', 'way actually calms', 'way blame makes', 'way dont want', 'way easily drop', 'way feel good', 'way feel like', 'way feels like', 'way felt seen', 'way league went', 'way make feel', 'way measuring truly', 'way parents eyes', 'way proceed possible', 'way react new', 'way really dont', 'way scared wont', 'way semitruck hit', 'way shape form', 'way thinking literally', 'way try remember', 'way used night', 'way way way', 'weak legs diarrhea', 'weak legs im', 'weak like blood', 'weak like gonna', 'weak pulse fast', 'weak slow past', 'weakness legs better', 'wear headphones fear', 'wear short sleeves', 'wearing heart monitors', 'wed korea someday', 'wed said wed', 'wed stick failed', 'weed backpack know', 'week ago started', 'week bleeding period', 'week dont know', 'week feel like', 'week fever throat', 'week gone like', 'week half ago', 'week heart feels', 'week june surprise', 'week twice day', 'week wisdom teeth', 'week wondering removing', 'weeks ago feel', 'weeks ago got', 'weeks ago ive', 'weeks ago lost', 'weeks ago noticed', 'weeks ago started', 'weeks ago think', 'weeks ago went', 'weeks break gel', 'weeks feel like', 'weeks researching buying', 'weigh smoke pot', 'weighing dropped months', 'weight losing lost', 'weight loss appetite', 'weight loss cramping', 'weight loss fatigue', 'weight loss journey', 'weight loss severe', 'weight thought ended', 'weighted sure unweighted', 'weightless light tongue', 'weird days like', 'weird feel like', 'weird feeling mainly', 'weird feels like', 'weird head felt', 'weird ive ive', 'weird like feel', 'weird like floaty', 'weird like im', 'weird like rush', 'weird missing youth', 'weird night started', 'weird ocd bless', 'weird stomach felt', 'weird symptom started', 'weird symptoms started', 'weird symptoms year', 'weird thing felt', 'weird times kept', 'weird worst mistake', 'weirdest generally enjoy', 'welp ive really', 'went apologize kept', 'went away felt', 'went away went', 'went blank relationship', 'went blank said', 'went calling cousin', 'went cold turkey', 'went college friends', 'went cool guy', 'went doctor told', 'went ecg panic', 'went friends work', 'went good looking', 'went gyno ultrasounds', 'went harder slightly', 'went high school', 'went highschool college', 'went living room', 'went met guy', 'went mom house', 'went phone seen', 'went quite dates', 'went scared heart', 'went sleep went', 'went urgent care', 'went workers cookout', 'werent fucked said', 'wewdigi hdmi switch', 'wewdigihdmi switch hdmi', 'wh likely submit', 'whatnot wake knowing', 'whats ahead thing', 'whats best way', 'whats coming speakers', 'whats concerning sleeping', 'whats problem felt', 'whatsapp hope meet', 'wheel sitting foot', 'whispering breath hate', 'whispering wish stop', 'white blood cell', 'white blood cells', 'white male ft', 'white male gen', 'white male lbs', 'wide variety nationalities', 'wife got diagnosed', 'wind arguing decided', 'winded pity party', 'window sends piece', 'windows event viewer', 'wings left blind', 'wisdom teeth coming', 'wisdom teeth dont', 'wisdom teeth removed', 'wisdom tooth consultation', 'wisdom tooth extraction', 'wisdom tooth truly', 'wisely think like', 'wish join click', 'wish listing things', 'wish people understand', 'wish stop gets', 'wish wanna punching', 'wish worst enemy', 'wished bad dad', 'woke began argue', 'woke feeling like', 'woke middle night', 'woke upset stomach', 'woman love im', 'woman poly good', 'women like guys', 'wonder cryptocurrency used', 'wonder women like', 'wondering removing wisdom', 'wondering sounds like', 'wondering theres concerning', 'wonky questions dangerous', 'wont able promise', 'wont able sleep', 'wont away idk', 'wont fake age', 'wont let use', 'wont normal repeat', 'wont seen way', 'woofer speakers sound', 'word number words', 'words day write', 'words dont want', 'words encouragement huge', 'words like feeling', 'words meaning words', 'words numbers usually', 'work aftercare public', 'work anxiety days', 'work anymore im', 'work came normal', 'work catch breath', 'work come home', 'work days week', 'work experience feel', 'work feel like', 'work feels like', 'work felt like', 'work im sure', 'work ive tried', 'work like normal', 'work maxing bench', 'work mental health', 'work people age', 'work people socialize', 'work talk old', 'worked guess im', 'worked really hard', 'worked restaurants centers', 'worked team create', 'worker met night', 'workers cookout suppose', 'working customer service', 'working days week', 'working dead end', 'working eating healthy', 'working felt like', 'working getting diagnosed', 'working jobs atm', 'working jobs rest', 'working knew useless', 'working low wage', 'working read long', 'working senior capstone', 'working shitty low', 'working spent months', 'working time job', 'workout heart kinda', 'works big jail', 'works says thats', 'world bad thoughts', 'world especially family', 'world feel like', 'world history chem', 'world history course', 'world history covering', 'world petition really', 'world teachers nationwide', 'world treats differently', 'worrie hours walks', 'worried anxiety bp', 'worried caused neuropathy', 'worried hear bunch', 'worried ill end', 'worried ill sound', 'worried im gonna', 'worried long term', 'worried point really', 'worried symptoms possibly', 'worried touxhed stuff', 'worried wont able', 'worry bet years', 'worry start panic', 'worry wouldnt stop', 'worrying dont think', 'worrying heart cleared', 'worse dont feel', 'worse dont know', 'worse ecg months', 'worse feel like', 'worse feels like', 'worse legally want', 'worse light headed', 'worse single night', 'worse worse single', 'worst calmed like', 'worst case like', 'worst case scenario', 'worst mental state', 'worst mistake life', 'worth ill miss', 'worthless helpless panic', 'worthless piece shit', 'wouldnt birthed grade', 'wouldnt happened tried', 'wouldnt make sense', 'wouldnt stop explode', 'wouldve showed love', 'wouldve stayed awake', 'wrinkles im sure', 'wrinkles people think', 'write case thought', 'write dont forget', 'write email know', 'write everyday paranoid', 'write id like', 'write memoirs assaults', 'write stop thinking', 'writes really great', 'writing thoughts way', 'wrong dont know', 'wrong dont wanna', 'wrong feel like', 'wrong going holiday', 'wrong hell belong', 'wrong instead picking', 'wrong oh seen', 'wrong stupid allow', 'wrong wanna die', 'wrong years ive', 'wrote apologize text', 'xanax helps immensely', 'xbox game pass', 'xbox live gold', 'xbox pro nvidia', 'xray showing issues', 'yard super avoidant', 'yawn deep breath', 'yeah im focused', 'yeah im wondering', 'yeah life basically', 'yeah summary sleep', 'yeah thought independent', 'year abnormal pap', 'year ago got', 'year ago started', 'year breath heart', 'year closer thats', 'year college feedback', 'year community college', 'year covid hit', 'year feel like', 'year felt like', 'year freshman year', 'year getting worse', 'year grad school', 'year half ago', 'year high school', 'year highschool started', 'year lot able', 'year male tall', 'year months kinds', 'year old brother', 'year old college', 'year old daughter', 'year old female', 'year old girl', 'year old guy', 'year old kid', 'year old male', 'year old psu', 'year old white', 'year old woman', 'year really bad', 'year time started', 'year total march', 'years ago feel', 'years ago got', 'years ago gotten', 'years ago im', 'years ago ive', 'years ago know', 'years ago like', 'years ago panic', 'years ago really', 'years ago recently', 'years ago remember', 'years ago started', 'years ago think', 'years ago thought', 'years ago time', 'years ago tried', 'years ago used', 'years ago worry', 'years big thought', 'years embarrassment dysfunction', 'years exp working', 'years feel like', 'years feels like', 'years graduated high', 'years graduation caused', 'years havent stuff', 'years high school', 'years im coming', 'years im scared', 'years im tired', 'years ive looked', 'years ive thing', 'years ive trying', 'years kinda sat', 'years look join', 'years looking quit', 'years lower falling', 'years make money', 'years missed youthful', 'years multiple classmates', 'years old didnt', 'years old feel', 'years old got', 'years old im', 'years old ive', 'years old know', 'years old lbs', 'years old male', 'years old recently', 'years old tall', 'years old time', 'years old year', 'years pap smear', 'years plus iron', 'years recently started', 'years room extremely', 'years sit class', 'years things getting', 'years times tragedy', 'years tried end', 'years wasnt really', 'years went gyno', 'years years ago', 'yelling went workers', 'yes know im', 'yesterday night wouldve', 'yesterday small little', 'yield savings account', 'yn income middle', 'york outlining current', 'young friends experience', 'young id catastrophize', 'young id run', 'young like parties', 'young party make', 'younger anxiety shorter', 'younger sister schizophrenia', 'younger stuff independently', 'youre like catches', 'youre teen sorry', 'youth advisory council', 'youth heath issues', 'youth saw lot', 'youthful fun things', 'youtube channel think', 'zaps trouble sleeping', 'zoloft month half', 'zoomed parts male']\n"
          ]
        }
      ],
      "source": [
        "ngram_vect = TfidfVectorizer(ngram_range=(3,3), min_df = 4, stop_words = 'english')\n",
        "ngram_doc = ngram_vect.fit_transform(mhsu_balanced['clean_text'])\n",
        "print(ngram_doc.shape)\n",
        "print(ngram_vect.get_feature_names())"
      ]
    },
    {
      "cell_type": "code",
      "execution_count": null,
      "metadata": {
        "colab": {
          "base_uri": "https://localhost:8080/",
          "height": 236
        },
        "id": "XCGV4M5oaP9k",
        "outputId": "86c59a41-710c-4924-ad15-a550fc2b0599"
      },
      "outputs": [
        {
          "output_type": "execute_result",
          "data": {
            "text/plain": [
              "   0     1     2     3     4     5     6     7     8     9     ...  9176  \\\n",
              "0   0.0   0.0   0.0   0.0   0.0   0.0   0.0   0.0   0.0   0.0  ...   0.0   \n",
              "1   0.0   0.0   0.0   0.0   0.0   0.0   0.0   0.0   0.0   0.0  ...   0.0   \n",
              "2   0.0   0.0   0.0   0.0   0.0   0.0   0.0   0.0   0.0   0.0  ...   0.0   \n",
              "3   0.0   0.0   0.0   0.0   0.0   0.0   0.0   0.0   0.0   0.0  ...   0.0   \n",
              "4   0.0   0.0   0.0   0.0   0.0   0.0   0.0   0.0   0.0   0.0  ...   0.0   \n",
              "\n",
              "   9177  9178  9179  9180  9181  9182  9183  9184  9185  \n",
              "0   0.0   0.0   0.0   0.0   0.0   0.0   0.0   0.0   0.0  \n",
              "1   0.0   0.0   0.0   0.0   0.0   0.0   0.0   0.0   0.0  \n",
              "2   0.0   0.0   0.0   0.0   0.0   0.0   0.0   0.0   0.0  \n",
              "3   0.0   0.0   0.0   0.0   0.0   0.0   0.0   0.0   0.0  \n",
              "4   0.0   0.0   0.0   0.0   0.0   0.0   0.0   0.0   0.0  \n",
              "\n",
              "[5 rows x 9186 columns]"
            ],
            "text/html": [
              "\n",
              "  <div id=\"df-b612df8e-6a92-41ff-ab4c-95480250b85b\">\n",
              "    <div class=\"colab-df-container\">\n",
              "      <div>\n",
              "<style scoped>\n",
              "    .dataframe tbody tr th:only-of-type {\n",
              "        vertical-align: middle;\n",
              "    }\n",
              "\n",
              "    .dataframe tbody tr th {\n",
              "        vertical-align: top;\n",
              "    }\n",
              "\n",
              "    .dataframe thead th {\n",
              "        text-align: right;\n",
              "    }\n",
              "</style>\n",
              "<table border=\"1\" class=\"dataframe\">\n",
              "  <thead>\n",
              "    <tr style=\"text-align: right;\">\n",
              "      <th></th>\n",
              "      <th>0</th>\n",
              "      <th>1</th>\n",
              "      <th>2</th>\n",
              "      <th>3</th>\n",
              "      <th>4</th>\n",
              "      <th>5</th>\n",
              "      <th>6</th>\n",
              "      <th>7</th>\n",
              "      <th>8</th>\n",
              "      <th>9</th>\n",
              "      <th>...</th>\n",
              "      <th>9176</th>\n",
              "      <th>9177</th>\n",
              "      <th>9178</th>\n",
              "      <th>9179</th>\n",
              "      <th>9180</th>\n",
              "      <th>9181</th>\n",
              "      <th>9182</th>\n",
              "      <th>9183</th>\n",
              "      <th>9184</th>\n",
              "      <th>9185</th>\n",
              "    </tr>\n",
              "  </thead>\n",
              "  <tbody>\n",
              "    <tr>\n",
              "      <th>0</th>\n",
              "      <td>0.0</td>\n",
              "      <td>0.0</td>\n",
              "      <td>0.0</td>\n",
              "      <td>0.0</td>\n",
              "      <td>0.0</td>\n",
              "      <td>0.0</td>\n",
              "      <td>0.0</td>\n",
              "      <td>0.0</td>\n",
              "      <td>0.0</td>\n",
              "      <td>0.0</td>\n",
              "      <td>...</td>\n",
              "      <td>0.0</td>\n",
              "      <td>0.0</td>\n",
              "      <td>0.0</td>\n",
              "      <td>0.0</td>\n",
              "      <td>0.0</td>\n",
              "      <td>0.0</td>\n",
              "      <td>0.0</td>\n",
              "      <td>0.0</td>\n",
              "      <td>0.0</td>\n",
              "      <td>0.0</td>\n",
              "    </tr>\n",
              "    <tr>\n",
              "      <th>1</th>\n",
              "      <td>0.0</td>\n",
              "      <td>0.0</td>\n",
              "      <td>0.0</td>\n",
              "      <td>0.0</td>\n",
              "      <td>0.0</td>\n",
              "      <td>0.0</td>\n",
              "      <td>0.0</td>\n",
              "      <td>0.0</td>\n",
              "      <td>0.0</td>\n",
              "      <td>0.0</td>\n",
              "      <td>...</td>\n",
              "      <td>0.0</td>\n",
              "      <td>0.0</td>\n",
              "      <td>0.0</td>\n",
              "      <td>0.0</td>\n",
              "      <td>0.0</td>\n",
              "      <td>0.0</td>\n",
              "      <td>0.0</td>\n",
              "      <td>0.0</td>\n",
              "      <td>0.0</td>\n",
              "      <td>0.0</td>\n",
              "    </tr>\n",
              "    <tr>\n",
              "      <th>2</th>\n",
              "      <td>0.0</td>\n",
              "      <td>0.0</td>\n",
              "      <td>0.0</td>\n",
              "      <td>0.0</td>\n",
              "      <td>0.0</td>\n",
              "      <td>0.0</td>\n",
              "      <td>0.0</td>\n",
              "      <td>0.0</td>\n",
              "      <td>0.0</td>\n",
              "      <td>0.0</td>\n",
              "      <td>...</td>\n",
              "      <td>0.0</td>\n",
              "      <td>0.0</td>\n",
              "      <td>0.0</td>\n",
              "      <td>0.0</td>\n",
              "      <td>0.0</td>\n",
              "      <td>0.0</td>\n",
              "      <td>0.0</td>\n",
              "      <td>0.0</td>\n",
              "      <td>0.0</td>\n",
              "      <td>0.0</td>\n",
              "    </tr>\n",
              "    <tr>\n",
              "      <th>3</th>\n",
              "      <td>0.0</td>\n",
              "      <td>0.0</td>\n",
              "      <td>0.0</td>\n",
              "      <td>0.0</td>\n",
              "      <td>0.0</td>\n",
              "      <td>0.0</td>\n",
              "      <td>0.0</td>\n",
              "      <td>0.0</td>\n",
              "      <td>0.0</td>\n",
              "      <td>0.0</td>\n",
              "      <td>...</td>\n",
              "      <td>0.0</td>\n",
              "      <td>0.0</td>\n",
              "      <td>0.0</td>\n",
              "      <td>0.0</td>\n",
              "      <td>0.0</td>\n",
              "      <td>0.0</td>\n",
              "      <td>0.0</td>\n",
              "      <td>0.0</td>\n",
              "      <td>0.0</td>\n",
              "      <td>0.0</td>\n",
              "    </tr>\n",
              "    <tr>\n",
              "      <th>4</th>\n",
              "      <td>0.0</td>\n",
              "      <td>0.0</td>\n",
              "      <td>0.0</td>\n",
              "      <td>0.0</td>\n",
              "      <td>0.0</td>\n",
              "      <td>0.0</td>\n",
              "      <td>0.0</td>\n",
              "      <td>0.0</td>\n",
              "      <td>0.0</td>\n",
              "      <td>0.0</td>\n",
              "      <td>...</td>\n",
              "      <td>0.0</td>\n",
              "      <td>0.0</td>\n",
              "      <td>0.0</td>\n",
              "      <td>0.0</td>\n",
              "      <td>0.0</td>\n",
              "      <td>0.0</td>\n",
              "      <td>0.0</td>\n",
              "      <td>0.0</td>\n",
              "      <td>0.0</td>\n",
              "      <td>0.0</td>\n",
              "    </tr>\n",
              "  </tbody>\n",
              "</table>\n",
              "<p>5 rows × 9186 columns</p>\n",
              "</div>\n",
              "      <button class=\"colab-df-convert\" onclick=\"convertToInteractive('df-b612df8e-6a92-41ff-ab4c-95480250b85b')\"\n",
              "              title=\"Convert this dataframe to an interactive table.\"\n",
              "              style=\"display:none;\">\n",
              "        \n",
              "  <svg xmlns=\"http://www.w3.org/2000/svg\" height=\"24px\"viewBox=\"0 0 24 24\"\n",
              "       width=\"24px\">\n",
              "    <path d=\"M0 0h24v24H0V0z\" fill=\"none\"/>\n",
              "    <path d=\"M18.56 5.44l.94 2.06.94-2.06 2.06-.94-2.06-.94-.94-2.06-.94 2.06-2.06.94zm-11 1L8.5 8.5l.94-2.06 2.06-.94-2.06-.94L8.5 2.5l-.94 2.06-2.06.94zm10 10l.94 2.06.94-2.06 2.06-.94-2.06-.94-.94-2.06-.94 2.06-2.06.94z\"/><path d=\"M17.41 7.96l-1.37-1.37c-.4-.4-.92-.59-1.43-.59-.52 0-1.04.2-1.43.59L10.3 9.45l-7.72 7.72c-.78.78-.78 2.05 0 2.83L4 21.41c.39.39.9.59 1.41.59.51 0 1.02-.2 1.41-.59l7.78-7.78 2.81-2.81c.8-.78.8-2.07 0-2.86zM5.41 20L4 18.59l7.72-7.72 1.47 1.35L5.41 20z\"/>\n",
              "  </svg>\n",
              "      </button>\n",
              "      \n",
              "  <style>\n",
              "    .colab-df-container {\n",
              "      display:flex;\n",
              "      flex-wrap:wrap;\n",
              "      gap: 12px;\n",
              "    }\n",
              "\n",
              "    .colab-df-convert {\n",
              "      background-color: #E8F0FE;\n",
              "      border: none;\n",
              "      border-radius: 50%;\n",
              "      cursor: pointer;\n",
              "      display: none;\n",
              "      fill: #1967D2;\n",
              "      height: 32px;\n",
              "      padding: 0 0 0 0;\n",
              "      width: 32px;\n",
              "    }\n",
              "\n",
              "    .colab-df-convert:hover {\n",
              "      background-color: #E2EBFA;\n",
              "      box-shadow: 0px 1px 2px rgba(60, 64, 67, 0.3), 0px 1px 3px 1px rgba(60, 64, 67, 0.15);\n",
              "      fill: #174EA6;\n",
              "    }\n",
              "\n",
              "    [theme=dark] .colab-df-convert {\n",
              "      background-color: #3B4455;\n",
              "      fill: #D2E3FC;\n",
              "    }\n",
              "\n",
              "    [theme=dark] .colab-df-convert:hover {\n",
              "      background-color: #434B5C;\n",
              "      box-shadow: 0px 1px 3px 1px rgba(0, 0, 0, 0.15);\n",
              "      filter: drop-shadow(0px 1px 2px rgba(0, 0, 0, 0.3));\n",
              "      fill: #FFFFFF;\n",
              "    }\n",
              "  </style>\n",
              "\n",
              "      <script>\n",
              "        const buttonEl =\n",
              "          document.querySelector('#df-b612df8e-6a92-41ff-ab4c-95480250b85b button.colab-df-convert');\n",
              "        buttonEl.style.display =\n",
              "          google.colab.kernel.accessAllowed ? 'block' : 'none';\n",
              "\n",
              "        async function convertToInteractive(key) {\n",
              "          const element = document.querySelector('#df-b612df8e-6a92-41ff-ab4c-95480250b85b');\n",
              "          const dataTable =\n",
              "            await google.colab.kernel.invokeFunction('convertToInteractive',\n",
              "                                                     [key], {});\n",
              "          if (!dataTable) return;\n",
              "\n",
              "          const docLinkHtml = 'Like what you see? Visit the ' +\n",
              "            '<a target=\"_blank\" href=https://colab.research.google.com/notebooks/data_table.ipynb>data table notebook</a>'\n",
              "            + ' to learn more about interactive tables.';\n",
              "          element.innerHTML = '';\n",
              "          dataTable['output_type'] = 'display_data';\n",
              "          await google.colab.output.renderOutput(dataTable, element);\n",
              "          const docLink = document.createElement('div');\n",
              "          docLink.innerHTML = docLinkHtml;\n",
              "          element.appendChild(docLink);\n",
              "        }\n",
              "      </script>\n",
              "    </div>\n",
              "  </div>\n",
              "  "
            ]
          },
          "metadata": {},
          "execution_count": 24
        }
      ],
      "source": [
        "Ng_features = pd.DataFrame(ngram_doc.toarray())\n",
        "Ng_features.head()"
      ]
    },
    {
      "cell_type": "code",
      "execution_count": null,
      "metadata": {
        "id": "bFjLAcS7apjQ"
      },
      "outputs": [],
      "source": [
        "label = mhsu_balanced.label\n",
        "\n",
        "X_train, X_test, y_train, y_test = train_test_split(Ng_features, label,\n",
        "                                                    shuffle=True, \n",
        "                                                    test_size = 0.2, \n",
        "                                                    random_state = 42, \n",
        "                                                    stratify = label)"
      ]
    },
    {
      "cell_type": "code",
      "execution_count": null,
      "metadata": {
        "colab": {
          "base_uri": "https://localhost:8080/"
        },
        "id": "lqKF0QS1lMGb",
        "outputId": "028c3083-b1b6-4857-82fc-0a5eaa088d56"
      },
      "outputs": [
        {
          "output_type": "stream",
          "name": "stdout",
          "text": [
            "Total number of data in X_train :19200\n",
            "Total number of data in X_test :4800\n",
            "Total number of data in y_train :19200\n",
            "Total number of data in y_test :4800\n"
          ]
        }
      ],
      "source": [
        "print('Total number of data in X_train :{}' .format(len(X_train)))\n",
        "print('Total number of data in X_test :{}' .format(len(X_test)))\n",
        "print('Total number of data in y_train :{}' .format(len(y_train)))\n",
        "print('Total number of data in y_test :{}' .format(len(y_test)))"
      ]
    },
    {
      "cell_type": "markdown",
      "source": [
        "## Logistics Regression (Baseline Model)"
      ],
      "metadata": {
        "id": "dVhm2bh0IVkD"
      }
    },
    {
      "cell_type": "code",
      "source": [
        "logReg = LogisticRegression()\n",
        "lg_model = logReg.fit(X_train, y_train.values.ravel())\n",
        "\n",
        "# Prediction with Test data\n",
        "y_pred_lg = lg_model.predict(X_test)"
      ],
      "metadata": {
        "id": "Hya0HRUBIZub"
      },
      "execution_count": null,
      "outputs": []
    },
    {
      "cell_type": "code",
      "source": [
        "print(classification_report(y_test, y_pred_lg))"
      ],
      "metadata": {
        "colab": {
          "base_uri": "https://localhost:8080/"
        },
        "id": "Xtoef6asI8uL",
        "outputId": "6a415288-8665-469d-8bc7-874b9cd323ef"
      },
      "execution_count": null,
      "outputs": [
        {
          "output_type": "stream",
          "name": "stdout",
          "text": [
            "                 precision    recall  f1-score   support\n",
            "\n",
            "   With Anxiety       0.65      0.27      0.38      2400\n",
            "Without Anxiety       0.54      0.86      0.66      2400\n",
            "\n",
            "       accuracy                           0.56      4800\n",
            "      macro avg       0.60      0.56      0.52      4800\n",
            "   weighted avg       0.60      0.56      0.52      4800\n",
            "\n"
          ]
        }
      ]
    },
    {
      "cell_type": "code",
      "source": [
        "cf_matrix = confusion_matrix(y_test, y_pred_lg)\n",
        "print(confusion_matrix(y_test, y_pred_lg))\n",
        "#sns.heatmap(confusion_matrix(y_test, y_pred_lg), annot=True)\n",
        "ax= plt.subplot()\n",
        "sns.heatmap(cf_matrix/np.sum(cf_matrix), annot=True, fmt='.2%', ax=ax)\n",
        "\n",
        "ax.set_xlabel('Predicted labels');ax.set_ylabel('True labels'); \n",
        "ax.set_title('Confusion Matrix'); \n",
        "ax.xaxis.set_ticklabels(['With Anxiety', 'Without Anxiety']); ax.yaxis.set_ticklabels(['With Anxiety', 'Without Anxiety']);"
      ],
      "metadata": {
        "id": "KE-LXryU8-ir",
        "colab": {
          "base_uri": "https://localhost:8080/",
          "height": 330
        },
        "outputId": "eb3b9ab5-4708-488e-e044-862748d3d25b"
      },
      "execution_count": null,
      "outputs": [
        {
          "output_type": "stream",
          "name": "stdout",
          "text": [
            "[[ 643 1757]\n",
            " [ 343 2057]]\n"
          ]
        },
        {
          "output_type": "display_data",
          "data": {
            "text/plain": [
              "<Figure size 432x288 with 2 Axes>"
            ],
            "image/png": "[encoded data removed]"
          },
          "metadata": {
            "needs_background": "light"
          }
        }
      ]
    },
    {
      "cell_type": "code",
      "source": [
        "LogisticRegression().get_params()"
      ],
      "metadata": {
        "id": "1ywMOLAOJKy7",
        "colab": {
          "base_uri": "https://localhost:8080/"
        },
        "outputId": "50465442-5eed-4139-e6cd-30ee021bd010"
      },
      "execution_count": null,
      "outputs": [
        {
          "output_type": "execute_result",
          "data": {
            "text/plain": [
              "{'C': 1.0,\n",
              " 'class_weight': None,\n",
              " 'dual': False,\n",
              " 'fit_intercept': True,\n",
              " 'intercept_scaling': 1,\n",
              " 'l1_ratio': None,\n",
              " 'max_iter': 100,\n",
              " 'multi_class': 'auto',\n",
              " 'n_jobs': None,\n",
              " 'penalty': 'l2',\n",
              " 'random_state': None,\n",
              " 'solver': 'lbfgs',\n",
              " 'tol': 0.0001,\n",
              " 'verbose': 0,\n",
              " 'warm_start': False}"
            ]
          },
          "metadata": {},
          "execution_count": 33
        }
      ]
    },
    {
      "cell_type": "code",
      "source": [
        "import os\n",
        "os.cpu_count()"
      ],
      "metadata": {
        "colab": {
          "base_uri": "https://localhost:8080/"
        },
        "id": "jVfocDLOeeYR",
        "outputId": "83211ef7-07d6-411f-b1fa-756b877f8d06"
      },
      "execution_count": null,
      "outputs": [
        {
          "output_type": "execute_result",
          "data": {
            "text/plain": [
              "2"
            ]
          },
          "metadata": {},
          "execution_count": 29
        }
      ]
    },
    {
      "cell_type": "code",
      "source": [
        "def print_results(results):\n",
        "    print('BEST PARAMS: {}\\n'.format(results.best_params_))\n",
        "\n",
        "    means = results.cv_results_['mean_test_score']\n",
        "    stds = results.cv_results_['std_test_score']\n",
        "    for mean, std, params in zip(means, stds, results.cv_results_['params']):\n",
        "        print('{} (+/-{}) for {}'.format(round(mean, 3), round(std * 2, 3), params))\n",
        "        \n",
        "        \n",
        "lg_cv = LogisticRegression(max_iter = 1000)\n",
        "parameters = {\n",
        "    'C': [0.1, 0.5, 1, 5, 10, 50, 100]\n",
        "}\n",
        "\n",
        "cv = GridSearchCV(lg_cv, parameters, cv=5, n_jobs = -1)\n",
        "cv.fit(X_train, y_train.values.ravel())\n",
        "\n",
        "print_results(cv)"
      ],
      "metadata": {
        "colab": {
          "base_uri": "https://localhost:8080/"
        },
        "id": "Hv6zegGLaPnY",
        "outputId": "37737ce2-c3d2-42ff-dd04-05712bd23284"
      },
      "execution_count": null,
      "outputs": [
        {
          "output_type": "stream",
          "name": "stderr",
          "text": [
            "/usr/local/lib/python3.7/dist-packages/joblib/externals/loky/process_executor.py:705: UserWarning: A worker stopped while some jobs were given to the executor. This can be caused by a too short worker timeout or by a memory leak.\n",
            "  \"timeout or by a memory leak.\", UserWarning\n"
          ]
        },
        {
          "output_type": "stream",
          "name": "stdout",
          "text": [
            "BEST PARAMS: {'C': 1}\n",
            "\n",
            "0.552 (+/-0.01) for {'C': 0.1}\n",
            "0.552 (+/-0.009) for {'C': 0.5}\n",
            "0.553 (+/-0.008) for {'C': 1}\n",
            "0.552 (+/-0.01) for {'C': 5}\n",
            "0.552 (+/-0.007) for {'C': 10}\n",
            "0.551 (+/-0.007) for {'C': 50}\n",
            "0.55 (+/-0.007) for {'C': 100}\n"
          ]
        }
      ]
    },
    {
      "cell_type": "code",
      "source": [
        "lg_reg = LogisticRegression(max_iter = 50, n_jobs = 2)\n",
        "lg_reg.fit(X_train, y_train.values.ravel())"
      ],
      "metadata": {
        "colab": {
          "base_uri": "https://localhost:8080/"
        },
        "id": "UaMRTnIZs0aW",
        "outputId": "3fe39764-fd9b-4338-ccc9-b78dd5e29dc3"
      },
      "execution_count": null,
      "outputs": [
        {
          "output_type": "execute_result",
          "data": {
            "text/plain": [
              "LogisticRegression(max_iter=50, n_jobs=2)"
            ]
          },
          "metadata": {},
          "execution_count": 38
        }
      ]
    },
    {
      "cell_type": "code",
      "source": [
        "lg_pred = lg_reg.predict(X_test)\n",
        "print(classification_report(y_test, lg_pred))"
      ],
      "metadata": {
        "colab": {
          "base_uri": "https://localhost:8080/"
        },
        "id": "a_-a4yB9uTG9",
        "outputId": "b7da6ce9-a41a-4716-e7d7-f103725210a8"
      },
      "execution_count": null,
      "outputs": [
        {
          "output_type": "stream",
          "name": "stdout",
          "text": [
            "                 precision    recall  f1-score   support\n",
            "\n",
            "   With Anxiety       0.65      0.27      0.38      2400\n",
            "Without Anxiety       0.54      0.86      0.66      2400\n",
            "\n",
            "       accuracy                           0.56      4800\n",
            "      macro avg       0.60      0.56      0.52      4800\n",
            "   weighted avg       0.60      0.56      0.52      4800\n",
            "\n"
          ]
        }
      ]
    },
    {
      "cell_type": "markdown",
      "source": [
        "## Random Forest Classifier"
      ],
      "metadata": {
        "id": "2Ra8P3m47Ume"
      }
    },
    {
      "cell_type": "code",
      "execution_count": null,
      "metadata": {
        "id": "DGm0UW1kmdZD"
      },
      "outputs": [],
      "source": [
        "rf = RandomForestClassifier()\n",
        "\n",
        "rf_model = rf.fit(X_train, y_train.values.ravel())"
      ]
    },
    {
      "cell_type": "code",
      "execution_count": null,
      "metadata": {
        "colab": {
          "base_uri": "https://localhost:8080/"
        },
        "id": "Iz92yC7duQx2",
        "outputId": "0659c482-ce94-4692-c687-4903f98409dc"
      },
      "outputs": [
        {
          "output_type": "stream",
          "name": "stdout",
          "text": [
            "                 precision    recall  f1-score   support\n",
            "\n",
            "   With Anxiety       0.64      0.30      0.41      2400\n",
            "Without Anxiety       0.54      0.83      0.66      2400\n",
            "\n",
            "       accuracy                           0.57      4800\n",
            "      macro avg       0.59      0.57      0.53      4800\n",
            "   weighted avg       0.59      0.57      0.53      4800\n",
            "\n"
          ]
        }
      ],
      "source": [
        "y_pred_rf = rf_model.predict(X_test)\n",
        "print(classification_report(y_test, y_pred_rf))"
      ]
    },
    {
      "cell_type": "code",
      "source": [
        "cf_matrix = confusion_matrix(y_test, y_pred_rf)\n",
        "print(confusion_matrix(y_test, y_pred_rf))\n",
        "#sns.heatmap(confusion_matrix(y_test, y_pred_rf), annot=True)\n",
        "sns.heatmap(cf_matrix/np.sum(cf_matrix), annot=True, fmt='.2%')"
      ],
      "metadata": {
        "colab": {
          "base_uri": "https://localhost:8080/",
          "height": 317
        },
        "id": "7tz6UNCR-9cj",
        "outputId": "44cab237-1251-403d-a4b9-7adbdbeb3dac"
      },
      "execution_count": null,
      "outputs": [
        {
          "output_type": "stream",
          "name": "stdout",
          "text": [
            "[[ 723 1677]\n",
            " [ 400 2000]]\n"
          ]
        },
        {
          "output_type": "execute_result",
          "data": {
            "text/plain": [
              "<matplotlib.axes._subplots.AxesSubplot at 0x7f73fdb91350>"
            ]
          },
          "metadata": {},
          "execution_count": 24
        },
        {
          "output_type": "display_data",
          "data": {
            "text/plain": [
              "<Figure size 432x288 with 2 Axes>"
            ],
            "image/png": "[encoded data removed]"
          },
          "metadata": {
            "needs_background": "light"
          }
        }
      ]
    },
    {
      "cell_type": "markdown",
      "metadata": {
        "id": "nELcN1ajesuP"
      },
      "source": [
        "## Hyperparameter Tunning for Random Forest Classifier"
      ]
    },
    {
      "cell_type": "code",
      "execution_count": null,
      "metadata": {
        "id": "4KVRR0ebY1Ou"
      },
      "outputs": [],
      "source": [
        "# Using the GridSearch Cross validation method at 5-fold and hyper-parameter tuning of n_estimators and max_depth \n",
        "# to determine the best hyper-parameter settings that will produce the optimal performance for the RF classifier\n",
        "\n",
        "def print_results(results):\n",
        "    print('BEST PARAMS: {}\\n'.format(results.best_params_))\n",
        "\n",
        "    means = results.cv_results_['mean_test_score']\n",
        "    stds = results.cv_results_['std_test_score']\n",
        "    for mean, std, params in zip(means, stds, results.cv_results_['params']):\n",
        "        print('{} (+/-{}) for {}'.format(round(mean, 3), round(std * 2, 3), params))\n",
        "        \n",
        "        \n",
        "rf_cv = RandomForestClassifier()\n",
        "parameters = {\n",
        "    'n_estimators': [5, 50, 100],\n",
        "    'max_depth': [2, 10, 20, None]\n",
        "}\n",
        "\n",
        "cv = GridSearchCV(rf_cv, parameters, cv=5)\n",
        "cv.fit(X_train, y_train.values.ravel())\n",
        "\n",
        "print_results(cv)"
      ]
    },
    {
      "cell_type": "code",
      "execution_count": null,
      "metadata": {
        "id": "GZoUMU8si6L9",
        "colab": {
          "base_uri": "https://localhost:8080/"
        },
        "outputId": "7914eb78-e707-4c3d-c872-b1d1c3184bc5"
      },
      "outputs": [
        {
          "output_type": "execute_result",
          "data": {
            "text/plain": [
              "RandomForestClassifier()"
            ]
          },
          "metadata": {},
          "execution_count": 34
        }
      ],
      "source": [
        "# Refit the three best hyper-parameter models on the full training set\n",
        "# 0.312 (+/-0.008) for {'max_depth': None, 'n_estimators': 5}\n",
        "# 0.321 (+/-0.005) for {'max_depth': None, 'n_estimators': 50}\n",
        "# 0.321 (+/-0.008) for {'max_depth': None, 'n_estimators': 100}\n",
        "\n",
        "rf1 = RandomForestClassifier(n_estimators=5, max_depth=None)\n",
        "rf1.fit(X_train, y_train.values.ravel())\n",
        "\n",
        "rf2 = RandomForestClassifier(n_estimators=50, max_depth=None)\n",
        "rf2.fit(X_train, y_train.values.ravel())\n",
        "\n",
        "rf3 = RandomForestClassifier(n_estimators=100, max_depth=None)\n",
        "rf3.fit(X_train, y_train.values.ravel())"
      ]
    },
    {
      "cell_type": "code",
      "execution_count": null,
      "metadata": {
        "id": "D6cSTp4UjkLR"
      },
      "outputs": [],
      "source": [
        "rf1_pred = rf1.predict(X_test)\n",
        "rf2_pred = rf2.predict(X_test)\n",
        "rf3_pred = rf3.predict(X_test)"
      ]
    },
    {
      "cell_type": "code",
      "execution_count": null,
      "metadata": {
        "id": "TLQE3IeRjp74",
        "colab": {
          "base_uri": "https://localhost:8080/"
        },
        "outputId": "d7bbf0e6-bb5c-4b4b-ceb7-c05c893bffbd"
      },
      "outputs": [
        {
          "output_type": "stream",
          "name": "stdout",
          "text": [
            "              precision    recall  f1-score   support\n",
            "\n",
            "        ADHD       0.27      0.81      0.41       900\n",
            "     anxiety       0.40      0.14      0.21       900\n",
            "      autism       0.44      0.14      0.21       900\n",
            "  depression       0.49      0.20      0.28       900\n",
            "\n",
            "    accuracy                           0.32      3600\n",
            "   macro avg       0.40      0.32      0.28      3600\n",
            "weighted avg       0.40      0.32      0.28      3600\n",
            "\n",
            "              precision    recall  f1-score   support\n",
            "\n",
            "        ADHD       0.39      0.16      0.22       900\n",
            "     anxiety       0.43      0.16      0.24       900\n",
            "      autism       0.28      0.78      0.42       900\n",
            "  depression       0.48      0.22      0.31       900\n",
            "\n",
            "    accuracy                           0.33      3600\n",
            "   macro avg       0.40      0.33      0.30      3600\n",
            "weighted avg       0.40      0.33      0.30      3600\n",
            "\n",
            "              precision    recall  f1-score   support\n",
            "\n",
            "        ADHD       0.41      0.16      0.23       900\n",
            "     anxiety       0.44      0.17      0.24       900\n",
            "      autism       0.29      0.78      0.42       900\n",
            "  depression       0.49      0.24      0.32       900\n",
            "\n",
            "    accuracy                           0.34      3600\n",
            "   macro avg       0.40      0.34      0.30      3600\n",
            "weighted avg       0.40      0.34      0.30      3600\n",
            "\n"
          ]
        }
      ],
      "source": [
        "print(classification_report(y_test, rf1_pred))\n",
        "print(classification_report(y_test, rf2_pred))\n",
        "print(classification_report(y_test, rf3_pred))"
      ]
    },
    {
      "cell_type": "markdown",
      "metadata": {
        "id": "CGC3lHH_j1ZV"
      },
      "source": [
        "# Result\n",
        "rf3 gave the optimal prdiction having **n_estimators**=100, and **max_depth**=None"
      ]
    },
    {
      "cell_type": "markdown",
      "source": [
        "## Support Vector Machine  Pipeline"
      ],
      "metadata": {
        "id": "dZLiwQO2ZZRI"
      }
    },
    {
      "cell_type": "code",
      "source": [
        "svm = SVC()\n",
        "svm_model = svm.fit(X_train, y_train.values.ravel())\n",
        "\n",
        "# Prediction with Test data\n",
        "y_pred_svm = svm_model.predict(X_test)"
      ],
      "metadata": {
        "id": "W-4yJN8MaQCD"
      },
      "execution_count": null,
      "outputs": []
    },
    {
      "cell_type": "code",
      "source": [
        "print(classification_report(y_test, y_pred_svm))"
      ],
      "metadata": {
        "id": "Uo-oA__2ahYf",
        "colab": {
          "base_uri": "https://localhost:8080/"
        },
        "outputId": "020d82c3-fca4-40c5-d4ac-aefa3bef67c0"
      },
      "execution_count": null,
      "outputs": [
        {
          "output_type": "stream",
          "name": "stdout",
          "text": [
            "                 precision    recall  f1-score   support\n",
            "\n",
            "   With Anxiety       0.64      0.32      0.43      2400\n",
            "Without Anxiety       0.55      0.82      0.65      2400\n",
            "\n",
            "       accuracy                           0.57      4800\n",
            "      macro avg       0.59      0.57      0.54      4800\n",
            "   weighted avg       0.59      0.57      0.54      4800\n",
            "\n"
          ]
        }
      ]
    },
    {
      "cell_type": "code",
      "source": [
        "cf_matrix = confusion_matrix(y_test, y_pred_svm)\n",
        "print(confusion_matrix(y_test, y_pred_svm))\n",
        "sns.heatmap(cf_matrix/np.sum(cf_matrix), annot=True, fmt='.2%')"
      ],
      "metadata": {
        "colab": {
          "base_uri": "https://localhost:8080/",
          "height": 317
        },
        "id": "h30tcBtcIGgm",
        "outputId": "db52f226-3d07-41a5-ecee-0a98ca9d3197"
      },
      "execution_count": null,
      "outputs": [
        {
          "output_type": "stream",
          "name": "stdout",
          "text": [
            "[[ 772 1628]\n",
            " [ 443 1957]]\n"
          ]
        },
        {
          "output_type": "execute_result",
          "data": {
            "text/plain": [
              "<matplotlib.axes._subplots.AxesSubplot at 0x7f73fda5eb10>"
            ]
          },
          "metadata": {},
          "execution_count": 33
        },
        {
          "output_type": "display_data",
          "data": {
            "text/plain": [
              "<Figure size 432x288 with 2 Axes>"
            ],
            "image/png": "[encoded data removed]"
          },
          "metadata": {
            "needs_background": "light"
          }
        }
      ]
    },
    {
      "cell_type": "markdown",
      "source": [
        "## Naive Bayes Pipeline"
      ],
      "metadata": {
        "id": "tuxoWMc1sxyP"
      }
    },
    {
      "cell_type": "code",
      "source": [
        "nb = MultinomialNB()\n",
        "nb_model = nb.fit(X_train, y_train.values.ravel())\n",
        "\n",
        "# Prediction with Test data\n",
        "y_pred_nb = nb_model.predict(X_test)"
      ],
      "metadata": {
        "id": "RfZyeei4svk-"
      },
      "execution_count": null,
      "outputs": []
    },
    {
      "cell_type": "code",
      "source": [
        "print(classification_report(y_test, y_pred_nb))"
      ],
      "metadata": {
        "colab": {
          "base_uri": "https://localhost:8080/"
        },
        "id": "UtovLeWBtN6X",
        "outputId": "bcf7a6cf-c7e3-4d3d-84bf-99089d8812e1"
      },
      "execution_count": null,
      "outputs": [
        {
          "output_type": "stream",
          "name": "stdout",
          "text": [
            "                 precision    recall  f1-score   support\n",
            "\n",
            "   With Anxiety       0.55      0.83      0.66      2400\n",
            "Without Anxiety       0.66      0.33      0.44      2400\n",
            "\n",
            "       accuracy                           0.58      4800\n",
            "      macro avg       0.60      0.58      0.55      4800\n",
            "   weighted avg       0.60      0.58      0.55      4800\n",
            "\n"
          ]
        }
      ]
    },
    {
      "cell_type": "code",
      "source": [
        "cf_matrix = confusion_matrix(y_test, y_pred_nb)\n",
        "print(confusion_matrix(y_test, y_pred_nb))\n",
        "sns.heatmap(cf_matrix/np.sum(cf_matrix), annot=True, fmt='.2%')\n"
      ],
      "metadata": {
        "colab": {
          "base_uri": "https://localhost:8080/",
          "height": 317
        },
        "id": "Tbis0CXGC0W4",
        "outputId": "fc0d005d-4c29-434a-a978-38b82fe1f358"
      },
      "execution_count": null,
      "outputs": [
        {
          "output_type": "stream",
          "name": "stdout",
          "text": [
            "[[1983  417]\n",
            " [1604  796]]\n"
          ]
        },
        {
          "output_type": "execute_result",
          "data": {
            "text/plain": [
              "<matplotlib.axes._subplots.AxesSubplot at 0x7f73fda362d0>"
            ]
          },
          "metadata": {},
          "execution_count": 30
        },
        {
          "output_type": "display_data",
          "data": {
            "text/plain": [
              "<Figure size 432x288 with 2 Axes>"
            ],
            "image/png": "[encoded data removed]"
          },
          "metadata": {
            "needs_background": "light"
          }
        }
      ]
    },
    {
      "cell_type": "markdown",
      "metadata": {
        "id": "iam-V26n3rOo"
      },
      "source": [
        "## **Deep Learning Approach**"
      ]
    },
    {
      "cell_type": "code",
      "execution_count": null,
      "metadata": {
        "id": "j4uyE0rT8a5S"
      },
      "outputs": [],
      "source": [
        "#from keras.preprocessing.text import Tokenizer\n",
        "#from tensorflow.keras.preprocessing.sequence import pad_sequences\n",
        "\n",
        "from keras.models import Sequential\n",
        "from keras.layers import LSTM,Dense,Dropout,Embedding,CuDNNLSTM,Bidirectional\n",
        "from keras.preprocessing.text import Tokenizer\n",
        "from keras.preprocessing.sequence import pad_sequences\n",
        "from tqdm import tqdm\n",
        "import matplotlib.pyplot as plt\n",
        "import seaborn as sns\n",
        "%matplotlib inline"
      ]
    },
    {
      "cell_type": "code",
      "execution_count": null,
      "metadata": {
        "id": "i0dcuHsf7rhD",
        "colab": {
          "base_uri": "https://localhost:8080/"
        },
        "outputId": "e48b970f-b0be-4db6-9e23-b4994eedcf18"
      },
      "outputs": [
        {
          "output_type": "stream",
          "name": "stderr",
          "text": [
            "/usr/local/lib/python3.7/dist-packages/ipykernel_launcher.py:2: SettingWithCopyWarning: \n",
            "A value is trying to be set on a copy of a slice from a DataFrame\n",
            "\n",
            "See the caveats in the documentation: https://pandas.pydata.org/pandas-docs/stable/user_guide/indexing.html#returning-a-view-versus-a-copy\n",
            "  \n",
            "/usr/local/lib/python3.7/dist-packages/ipykernel_launcher.py:3: SettingWithCopyWarning: \n",
            "A value is trying to be set on a copy of a slice from a DataFrame\n",
            "\n",
            "See the caveats in the documentation: https://pandas.pydata.org/pandas-docs/stable/user_guide/indexing.html#returning-a-view-versus-a-copy\n",
            "  This is separate from the ipykernel package so we can avoid doing imports until\n"
          ]
        }
      ],
      "source": [
        "# Changing class labels to numeric for Recurrent Neural Network\n",
        "mhsu_balanced.label[mhsu_balanced.label == 'With Anxiety'] = 1\n",
        "mhsu_balanced.label[mhsu_balanced.label == 'Without Anxiety'] = 2"
      ]
    },
    {
      "cell_type": "code",
      "execution_count": null,
      "metadata": {
        "id": "d80OhuXZ3uHI"
      },
      "outputs": [],
      "source": [
        "x = mhsu_balanced['clean_text']\n",
        "#y = mhsu_balanced['label']\n",
        "y = np.asarray(mhsu_balanced['label']).astype(np.float32)"
      ]
    },
    {
      "cell_type": "code",
      "execution_count": null,
      "metadata": {
        "id": "pqnGCSxg8GOY",
        "colab": {
          "base_uri": "https://localhost:8080/"
        },
        "outputId": "40f32076-26b8-4448-b296-3c94bf2ea614"
      },
      "outputs": [
        {
          "output_type": "execute_result",
          "data": {
            "text/plain": [
              "31579    trying join discord servers make new friends u...\n",
              "32895    stop worrying thinking severe health anxiety o...\n",
              "44954                                may gerd lol imma see\n",
              "39341    want break contact nagging urge write text mes...\n",
              "39009    grad school went years college never made clos...\n",
              "                               ...                        \n",
              "12989    hello everyone piggy lucky seemed convulsing r...\n",
              "9291     thought since considered leftist two years ago...\n",
              "9889     developed fucking eating disorder im fucking t...\n",
              "11410    rather not apply another credit card already t...\n",
              "9487     work big box store often forget scan items esp...\n",
              "Name: clean_text, Length: 24000, dtype: object"
            ]
          },
          "metadata": {},
          "execution_count": 27
        }
      ],
      "source": [
        "x"
      ]
    },
    {
      "cell_type": "code",
      "execution_count": null,
      "metadata": {
        "id": "KqRlM4KX8Hno"
      },
      "outputs": [],
      "source": [
        "token = Tokenizer()\n",
        "token.fit_on_texts(x)\n",
        "seq = token.texts_to_sequences(x)"
      ]
    },
    {
      "cell_type": "code",
      "execution_count": null,
      "metadata": {
        "id": "nKwGnBM-8R6V"
      },
      "outputs": [],
      "source": [
        "pad_seq = pad_sequences(seq,maxlen=300)"
      ]
    },
    {
      "cell_type": "code",
      "execution_count": null,
      "metadata": {
        "id": "waJkj5Ku81xt"
      },
      "outputs": [],
      "source": [
        "vocab_size = len(token.word_index)+1"
      ]
    },
    {
      "cell_type": "code",
      "execution_count": null,
      "metadata": {
        "id": "SBM8Emfz84DI",
        "colab": {
          "base_uri": "https://localhost:8080/"
        },
        "outputId": "6092def7-5264-4e84-be92-5e8e9042a647"
      },
      "outputs": [
        {
          "output_type": "stream",
          "name": "stderr",
          "text": [
            "2196018it [02:10, 16790.13it/s]\n"
          ]
        }
      ],
      "source": [
        "embedding_vector = {}\n",
        "f = open('/content/drive/MyDrive/Mindsum/glove.840B.300d.txt')\n",
        "for line in tqdm(f):\n",
        "    value = line.split(' ')\n",
        "    word = value[0]\n",
        "    coef = np.array(value[1:],dtype = 'float32')\n",
        "    embedding_vector[word] = coef"
      ]
    },
    {
      "cell_type": "code",
      "execution_count": null,
      "metadata": {
        "id": "P8wmod0TMhKQ",
        "colab": {
          "base_uri": "https://localhost:8080/"
        },
        "outputId": "f97bd46a-b818-4af5-8400-b41b4a3300cc"
      },
      "outputs": [
        {
          "output_type": "stream",
          "name": "stderr",
          "text": [
            "100%|██████████| 52684/52684 [00:00<00:00, 401549.54it/s]\n"
          ]
        }
      ],
      "source": [
        "embedding_matrix = np.zeros((vocab_size,300))\n",
        "for word,i in tqdm(token.word_index.items()):\n",
        "    embedding_value = embedding_vector.get(word)\n",
        "    if embedding_value is not None:\n",
        "        embedding_matrix[i] = embedding_value"
      ]
    },
    {
      "cell_type": "code",
      "execution_count": null,
      "metadata": {
        "id": "X5L-msAxNYVS",
        "colab": {
          "base_uri": "https://localhost:8080/"
        },
        "outputId": "5f1b0cfc-b867-4367-db3e-f43de531791a"
      },
      "outputs": [
        {
          "output_type": "stream",
          "name": "stdout",
          "text": [
            "Epoch 1/10\n",
            "75/75 [==============================] - 12s 47ms/step - loss: -2.6909 - accuracy: 0.6004 - val_loss: -22.4523 - val_accuracy: 0.0000e+00\n",
            "Epoch 2/10\n",
            "75/75 [==============================] - 3s 34ms/step - loss: -17.2644 - accuracy: 0.6250 - val_loss: -73.9838 - val_accuracy: 0.0000e+00\n",
            "Epoch 3/10\n",
            "75/75 [==============================] - 3s 34ms/step - loss: -40.8376 - accuracy: 0.6250 - val_loss: -149.2042 - val_accuracy: 0.0000e+00\n",
            "Epoch 4/10\n",
            "75/75 [==============================] - 3s 34ms/step - loss: -73.7121 - accuracy: 0.6250 - val_loss: -249.3014 - val_accuracy: 0.0000e+00\n",
            "Epoch 5/10\n",
            "75/75 [==============================] - 3s 34ms/step - loss: -116.0106 - accuracy: 0.6250 - val_loss: -375.2204 - val_accuracy: 0.0000e+00\n",
            "Epoch 6/10\n",
            "75/75 [==============================] - 3s 34ms/step - loss: -167.7374 - accuracy: 0.6250 - val_loss: -525.4956 - val_accuracy: 0.0000e+00\n",
            "Epoch 7/10\n",
            "75/75 [==============================] - 3s 34ms/step - loss: -228.7460 - accuracy: 0.6250 - val_loss: -700.3485 - val_accuracy: 0.0000e+00\n",
            "Epoch 8/10\n",
            "75/75 [==============================] - 3s 34ms/step - loss: -298.9333 - accuracy: 0.6250 - val_loss: -899.5117 - val_accuracy: 0.0000e+00\n",
            "Epoch 9/10\n",
            "75/75 [==============================] - 3s 34ms/step - loss: -378.0201 - accuracy: 0.6250 - val_loss: -1122.7119 - val_accuracy: 0.0000e+00\n",
            "Epoch 10/10\n",
            "75/75 [==============================] - 3s 34ms/step - loss: -465.7386 - accuracy: 0.6250 - val_loss: -1368.9855 - val_accuracy: 0.0000e+00\n"
          ]
        }
      ],
      "source": [
        "model = Sequential()\n",
        "model.add(Embedding(vocab_size,300,weights = [embedding_matrix],input_length=300,trainable = False))\n",
        "model.add(Bidirectional(LSTM(32, dropout= 0, recurrent_dropout=0)))\n",
        "#model.add(LSTM(32, dropout= 0, recurrent_dropout=0))\n",
        "model.add(Dense(32,activation = 'relu'))\n",
        "model.add(Dense(1,activation = 'sigmoid'))\n",
        "model.compile(optimizer='adam',loss='binary_crossentropy',metrics = ['accuracy'])\n",
        "history = model.fit(pad_seq,y,epochs = 10,batch_size=256,validation_split=0.2)"
      ]
    },
    {
      "cell_type": "markdown",
      "metadata": {
        "id": "sdXuIhR9eUlz"
      },
      "source": [
        "RNN Anxiety\n",
        "Accuracy ---> 62.50%"
      ]
    },
    {
      "cell_type": "markdown",
      "source": [
        "## **Ensemble Building**\n",
        "\n"
      ],
      "metadata": {
        "id": "92-T6W2HujTY"
      }
    },
    {
      "cell_type": "code",
      "execution_count": null,
      "metadata": {
        "id": "CRO_SusdUHC4"
      },
      "outputs": [],
      "source": [
        "from nltk.metrics.scores import accuracy\n",
        "import time\n",
        "bag_model = BaggingClassifier()\n",
        "\n",
        "start = time.ctime()\n",
        "\n",
        "cv = RepeatedStratifiedKFold(n_splits=5, n_repeats=2, random_state=42)\n",
        "score = cross_val_score(bag_model, X_train, y_train, scoring=\"accuracy\", cv=cv, n_jobs=-1)\n",
        "print(f\"Mean Accuracy: {np.mean(score):.3f}\\nRun time:{(time() - start): .3f}s\")\n",
        "\n",
        "\n"
      ]
    },
    {
      "cell_type": "code",
      "source": [
        "from sklearn.tree import DecisionTreeClassifier\n",
        "\n",
        "tree = DecisionTreeClassifier(random_state = 0)\n",
        "# fitting the model\n",
        "tree = tree.fit(X_train, y_train)\n",
        "# Predicting the training set\n",
        "y_train_pred = tree.predict(X_train)\n",
        "# Predicting the test set\n",
        "y_test_pred = tree.predict(X_test)\n",
        "\n",
        "\n",
        "print(accuracy_score(y_train, y_train_pred))\n",
        "print(accuracy_score(y_test, y_test_pred))\n"
      ],
      "metadata": {
        "colab": {
          "base_uri": "https://localhost:8080/"
        },
        "id": "J6g8cPEVns4t",
        "outputId": "91cdd1ef-6567-4910-b8f1-12f3e7ffcbe1"
      },
      "execution_count": null,
      "outputs": [
        {
          "output_type": "stream",
          "name": "stdout",
          "text": [
            "0.5302777777777777\n",
            "0.3175\n"
          ]
        }
      ]
    },
    {
      "cell_type": "code",
      "source": [
        "print(classification_report(y_train, y_train_pred))\n",
        "print(classification_report(y_test, y_test_pred))"
      ],
      "metadata": {
        "colab": {
          "base_uri": "https://localhost:8080/"
        },
        "id": "euhUNpBAKpFA",
        "outputId": "a55d2f12-a2a0-441e-9fa8-ba7e9a5dbbe4"
      },
      "execution_count": null,
      "outputs": [
        {
          "output_type": "stream",
          "name": "stdout",
          "text": [
            "              precision    recall  f1-score   support\n",
            "\n",
            "        ADHD       0.83      0.39      0.53      3600\n",
            "     anxiety       0.90      0.37      0.52      3600\n",
            "      autism       0.35      0.96      0.52      3600\n",
            "  depression       0.98      0.40      0.57      3600\n",
            "\n",
            "    accuracy                           0.53     14400\n",
            "   macro avg       0.77      0.53      0.54     14400\n",
            "weighted avg       0.77      0.53      0.54     14400\n",
            "\n",
            "              precision    recall  f1-score   support\n",
            "\n",
            "        ADHD       0.39      0.14      0.21       900\n",
            "     anxiety       0.42      0.13      0.20       900\n",
            "      autism       0.28      0.81      0.41       900\n",
            "  depression       0.48      0.18      0.27       900\n",
            "\n",
            "    accuracy                           0.32      3600\n",
            "   macro avg       0.39      0.32      0.27      3600\n",
            "weighted avg       0.39      0.32      0.27      3600\n",
            "\n"
          ]
        }
      ]
    },
    {
      "cell_type": "code",
      "source": [
        "BaggingClassifier().get_params()"
      ],
      "metadata": {
        "colab": {
          "base_uri": "https://localhost:8080/"
        },
        "id": "zL-Zs3CENAS6",
        "outputId": "eb37e5bd-ab49-4ed8-ef43-644ddfde6271"
      },
      "execution_count": null,
      "outputs": [
        {
          "output_type": "execute_result",
          "data": {
            "text/plain": [
              "{'base_estimator': None,\n",
              " 'bootstrap': True,\n",
              " 'bootstrap_features': False,\n",
              " 'max_features': 1.0,\n",
              " 'max_samples': 1.0,\n",
              " 'n_estimators': 10,\n",
              " 'n_jobs': None,\n",
              " 'oob_score': False,\n",
              " 'random_state': None,\n",
              " 'verbose': 0,\n",
              " 'warm_start': False}"
            ]
          },
          "metadata": {},
          "execution_count": 31
        }
      ]
    },
    {
      "cell_type": "code",
      "source": [
        "from sklearn.ensemble import BaggingClassifier\n",
        "\n",
        "bag_model = BaggingClassifier(\n",
        "          base_estimator=LogisticRegression(),\n",
        "          n_estimators=100,\n",
        "          random_state=0)\n",
        "\n",
        "bag_model.fit(X_train, y_train.values.ravel())\n",
        "\n",
        "# Predicting the training set\n",
        "y_train_bag = bag_model.predict(X_train)\n",
        "# Predicting the test set\n",
        "y_test_bag = bag_model.predict(X_test)\n",
        "\n",
        "accuracy_score(y_train, y_train_bag)\n",
        "accuracy_score(y_test, y_test_bag)"
      ],
      "metadata": {
        "id": "qF11jiMVej7p",
        "colab": {
          "base_uri": "https://localhost:8080/"
        },
        "outputId": "79ee8d25-3f7a-4438-f1a7-2034ad0d9057"
      },
      "execution_count": null,
      "outputs": [
        {
          "output_type": "stream",
          "name": "stderr",
          "text": [
            "/usr/local/lib/python3.7/dist-packages/sklearn/linear_model/_logistic.py:818: ConvergenceWarning: lbfgs failed to converge (status=1):\n",
            "STOP: TOTAL NO. of ITERATIONS REACHED LIMIT.\n",
            "\n",
            "Increase the number of iterations (max_iter) or scale the data as shown in:\n",
            "    https://scikit-learn.org/stable/modules/preprocessing.html\n",
            "Please also refer to the documentation for alternative solver options:\n",
            "    https://scikit-learn.org/stable/modules/linear_model.html#logistic-regression\n",
            "  extra_warning_msg=_LOGISTIC_SOLVER_CONVERGENCE_MSG,\n"
          ]
        },
        {
          "output_type": "execute_result",
          "data": {
            "text/plain": [
              "0.5625"
            ]
          },
          "metadata": {},
          "execution_count": 22
        }
      ]
    },
    {
      "cell_type": "code",
      "source": [
        "print(classification_report(y_test, y_test_bag))"
      ],
      "metadata": {
        "id": "nWx0UVushZwc",
        "colab": {
          "base_uri": "https://localhost:8080/"
        },
        "outputId": "7b36944d-9523-4129-a3fb-47ebcd218a50"
      },
      "execution_count": null,
      "outputs": [
        {
          "output_type": "stream",
          "name": "stdout",
          "text": [
            "                 precision    recall  f1-score   support\n",
            "\n",
            "   With Anxiety       0.65      0.27      0.38      2400\n",
            "Without Anxiety       0.54      0.85      0.66      2400\n",
            "\n",
            "       accuracy                           0.56      4800\n",
            "      macro avg       0.59      0.56      0.52      4800\n",
            "   weighted avg       0.59      0.56      0.52      4800\n",
            "\n"
          ]
        }
      ]
    },
    {
      "cell_type": "code",
      "source": [
        "cf_matrix = confusion_matrix(y_test, y_test_bag)\n",
        "print(confusion_matrix(y_test, y_test_bag))\n",
        "sns.heatmap(cf_matrix/np.sum(cf_matrix), annot=True, fmt='.2%')"
      ],
      "metadata": {
        "colab": {
          "base_uri": "https://localhost:8080/",
          "height": 317
        },
        "id": "U0AihEd3AiH1",
        "outputId": "d8e9a71f-e9fd-4974-c22d-0a79072e9244"
      },
      "execution_count": null,
      "outputs": [
        {
          "output_type": "stream",
          "name": "stdout",
          "text": [
            "[[ 651 1749]\n",
            " [ 351 2049]]\n"
          ]
        },
        {
          "output_type": "execute_result",
          "data": {
            "text/plain": [
              "<matplotlib.axes._subplots.AxesSubplot at 0x7f0093f46a50>"
            ]
          },
          "metadata": {},
          "execution_count": 24
        },
        {
          "output_type": "display_data",
          "data": {
            "text/plain": [
              "<Figure size 432x288 with 2 Axes>"
            ],
            "image/png": "[encoded data removed]"
          },
          "metadata": {
            "needs_background": "light"
          }
        }
      ]
    },
    {
      "cell_type": "code",
      "source": [
        "from sklearn.ensemble import BaggingClassifier\n",
        "\n",
        "bag_model = BaggingClassifier(\n",
        "          base_estimator=nb_model,\n",
        "          n_estimators=100,\n",
        "          random_state=0)\n",
        "\n",
        "bag_model.fit(X_train, y_train.values.ravel())\n",
        "\n",
        "# Predicting the training set\n",
        "y_train_bag = bag_model.predict(X_train)\n",
        "# Predicting the test set\n",
        "y_test_bag = bag_model.predict(X_test)\n",
        "\n",
        "accuracy_score(y_train, y_train_bag)\n",
        "accuracy_score(y_test, y_test_bag)"
      ],
      "metadata": {
        "colab": {
          "base_uri": "https://localhost:8080/"
        },
        "id": "SzGcckcCBWn5",
        "outputId": "aad2e465-4b36-4efa-cb3b-b1309551300c"
      },
      "execution_count": null,
      "outputs": [
        {
          "output_type": "execute_result",
          "data": {
            "text/plain": [
              "0.33611111111111114"
            ]
          },
          "metadata": {},
          "execution_count": 36
        }
      ]
    },
    {
      "cell_type": "code",
      "source": [
        "print(classification_report(y_test, y_test_bag))"
      ],
      "metadata": {
        "colab": {
          "base_uri": "https://localhost:8080/"
        },
        "id": "lzBqH9M5JpYF",
        "outputId": "6e68fc44-bea2-4c25-8df3-059764aead62"
      },
      "execution_count": null,
      "outputs": [
        {
          "output_type": "stream",
          "name": "stdout",
          "text": [
            "              precision    recall  f1-score   support\n",
            "\n",
            "        ADHD       0.28      0.77      0.41       900\n",
            "     anxiety       0.43      0.17      0.24       900\n",
            "      autism       0.46      0.16      0.24       900\n",
            "  depression       0.52      0.25      0.33       900\n",
            "\n",
            "    accuracy                           0.34      3600\n",
            "   macro avg       0.42      0.34      0.31      3600\n",
            "weighted avg       0.42      0.34      0.31      3600\n",
            "\n"
          ]
        }
      ]
    },
    {
      "cell_type": "code",
      "source": [
        "confusion_matrix(y_test, y_test_bag)"
      ],
      "metadata": {
        "colab": {
          "base_uri": "https://localhost:8080/"
        },
        "id": "AaOsp9w-JqHc",
        "outputId": "7e2bb44a-caa4-4ace-fa64-4f1b7890f959"
      },
      "execution_count": null,
      "outputs": [
        {
          "output_type": "execute_result",
          "data": {
            "text/plain": [
              "array([[691,  68,  71,  70],\n",
              "       [615, 150,  58,  77],\n",
              "       [627,  64, 146,  63],\n",
              "       [566,  69,  42, 223]])"
            ]
          },
          "metadata": {},
          "execution_count": 38
        }
      ]
    },
    {
      "cell_type": "code",
      "source": [
        "from sklearn.ensemble import BaggingClassifier\n",
        "\n",
        "bag_model = BaggingClassifier(\n",
        "          base_estimator=RandomForestClassifier(),\n",
        "          n_estimators=100,\n",
        "          random_state=0)\n",
        "\n",
        "bag_model.fit(X_train, y_train.values.ravel())\n",
        "\n",
        "# Predicting the training set\n",
        "y_train_bag = bag_model.predict(X_train)\n",
        "# Predicting the test set\n",
        "y_test_bag = bag_model.predict(X_test)\n",
        "\n",
        "accuracy_score(y_train, y_train_bag)\n",
        "accuracy_score(y_test, y_test_bag)"
      ],
      "metadata": {
        "colab": {
          "base_uri": "https://localhost:8080/"
        },
        "id": "hmuUUcp4KbUS",
        "outputId": "4e661027-13a9-4525-cc57-0546e8037a29"
      },
      "execution_count": null,
      "outputs": [
        {
          "output_type": "execute_result",
          "data": {
            "text/plain": [
              "0.5541666666666667"
            ]
          },
          "metadata": {},
          "execution_count": 25
        }
      ]
    },
    {
      "cell_type": "code",
      "source": [
        "print(classification_report(y_test, y_test_bag))"
      ],
      "metadata": {
        "colab": {
          "base_uri": "https://localhost:8080/"
        },
        "id": "vUUgnQu9LgSE",
        "outputId": "0d9ae103-e8f5-44b1-afb6-1100d4f463e1"
      },
      "execution_count": null,
      "outputs": [
        {
          "output_type": "stream",
          "name": "stdout",
          "text": [
            "                 precision    recall  f1-score   support\n",
            "\n",
            "   With Anxiety       0.63      0.26      0.37      2400\n",
            "Without Anxiety       0.53      0.85      0.66      2400\n",
            "\n",
            "       accuracy                           0.55      4800\n",
            "      macro avg       0.58      0.55      0.51      4800\n",
            "   weighted avg       0.58      0.55      0.51      4800\n",
            "\n"
          ]
        }
      ]
    },
    {
      "cell_type": "code",
      "source": [
        "cf_matrix = confusion_matrix(y_test, y_test_bag)\n",
        "print(confusion_matrix(y_test, y_test_bag))\n",
        "sns.heatmap(cf_matrix/np.sum(cf_matrix), annot=True, fmt='.2%')"
      ],
      "metadata": {
        "id": "C3P_QqdWPCn7",
        "colab": {
          "base_uri": "https://localhost:8080/",
          "height": 317
        },
        "outputId": "c8054423-5632-4997-b0cc-e9d1b1690333"
      },
      "execution_count": null,
      "outputs": [
        {
          "output_type": "stream",
          "name": "stdout",
          "text": [
            "[[ 626 1774]\n",
            " [ 366 2034]]\n"
          ]
        },
        {
          "output_type": "execute_result",
          "data": {
            "text/plain": [
              "<matplotlib.axes._subplots.AxesSubplot at 0x7f0092a0aa50>"
            ]
          },
          "metadata": {},
          "execution_count": 27
        },
        {
          "output_type": "display_data",
          "data": {
            "text/plain": [
              "<Figure size 432x288 with 2 Axes>"
            ],
            "image/png": "[encoded data removed]"
          },
          "metadata": {
            "needs_background": "light"
          }
        }
      ]
    }
  ],
  "metadata": {
    "accelerator": "GPU",
    "colab": {
      "provenance": [],
      "collapsed_sections": [
        "dVhm2bh0IVkD",
        "FSAdacXcT5zF",
        "dZLiwQO2ZZRI",
        "tuxoWMc1sxyP",
        "iam-V26n3rOo"
      ]
    },
    "gpuClass": "standard",
    "kernelspec": {
      "display_name": "Python 3",
      "name": "python3"
    },
    "language_info": {
      "name": "python"
    }
  },
  "nbformat": 4,
  "nbformat_minor": 0
}
